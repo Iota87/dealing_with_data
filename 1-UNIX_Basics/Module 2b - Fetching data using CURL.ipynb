{
 "cells": [
  {
   "cell_type": "markdown",
   "metadata": {},
   "source": [
    "Getting Data using CURL\n",
    "-----------------------\n",
    "\n",
    "We now move into a more interesting topic: How to get data from Internet sources. For that, we will use a command-line tool of Unix, called `curl`. (Later in class, we will learn how to achieve the same using Python, but for quick testing, curl is often the standard method used.) \n",
    "\n",
    "_Sometimes, curl does not come preinstalled, so the first time that we use it, we need to issue the appropriate command for installing it.  To install it, simply type:_\n",
    "\n",
    "`$ sudo apt-get install curl`"
   ]
  },
  {
   "cell_type": "code",
   "execution_count": null,
   "metadata": {
    "collapsed": false
   },
   "outputs": [],
   "source": [
    "!sudo apt-get install curl"
   ]
  },
  {
   "cell_type": "markdown",
   "metadata": {},
   "source": [
    "Let's start by retrieving a simple text file, which we will use later in the class, to illustrate how different shell commands work. The sample data file is hosted online. You can use terminal commands to copy this remote file. Simply type:"
   ]
  },
  {
   "cell_type": "code",
   "execution_count": 1,
   "metadata": {
    "collapsed": false
   },
   "outputs": [
    {
     "name": "stdout",
     "output_type": "stream",
     "text": [
      "123\t1346699925\t11122\tfoo bar\r\n",
      "222\t1346699955\t11145\tbiz baz\r\n",
      "140\t1346710000\t11122\thee haw\r\n",
      "234\t1346700000\t11135\tbip bop\r\n",
      "146\t1346699999\t11123\tfoo bar\r\n",
      "99\t1346750000\t11135\tbip bop\r\n",
      "99\t1346750000\t11135\tbip bop\r\n"
     ]
    }
   ],
   "source": [
    "!curl -L 'https://dl.dropboxusercontent.com/u/16006464/IPDS/sample.txt'"
   ]
  },
  {
   "cell_type": "markdown",
   "metadata": {},
   "source": [
    "The columns in this tab-separated data correspond to [order id] [time of order] [user id] [ordered item], something similar to what might be encountered in practice. If you wish, you can copy-paste the data written above into a text editor, making sure there is a newline following each of the ordered item columns (the columns with alphabetic characters)."
   ]
  },
  {
   "cell_type": "markdown",
   "metadata": {},
   "source": [
    "To store the output to a file, we also add the `-o [output file]` in the command. (We are also going to see in the next session how to use _output redirection_ to store the output to a file.)"
   ]
  },
  {
   "cell_type": "code",
   "execution_count": 2,
   "metadata": {
    "collapsed": false
   },
   "outputs": [
    {
     "name": "stdout",
     "output_type": "stream",
     "text": [
      "  % Total    % Received % Xferd  Average Speed   Time    Time     Time  Current\n",
      "                                 Dload  Upload   Total   Spent    Left  Speed\n",
      "100   201  100   201    0     0    961      0 --:--:-- --:--:-- --:--:--   966\n"
     ]
    }
   ],
   "source": [
    "!curl -L 'https://dl.dropboxusercontent.com/u/16006464/IPDS/sample.txt' -o /home/ubuntu/data/sample.txt"
   ]
  },
  {
   "cell_type": "code",
   "execution_count": 4,
   "metadata": {
    "collapsed": false
   },
   "outputs": [
    {
     "name": "stdout",
     "output_type": "stream",
     "text": [
      "  % Total    % Received % Xferd  Average Speed   Time    Time     Time  Current\n",
      "                                 Dload  Upload   Total   Spent    Left  Speed\n",
      "100 39861  100 39861    0     0   411k      0 --:--:-- --:--:-- --:--:--  414k\n"
     ]
    }
   ],
   "source": [
    "!curl \"http://www.nyu.edu\" -o nyu.html"
   ]
  },
  {
   "cell_type": "code",
   "execution_count": 3,
   "metadata": {
    "collapsed": false
   },
   "outputs": [
    {
     "name": "stdout",
     "output_type": "stream",
     "text": [
      "bank-names.txt\tfacebook.sql\t\t restaurant-names.txt  sample.txt\r\n",
      "baseball.csv\thospital-discharges.csv  restaurants.csv       tips.csv\r\n",
      "companies.txt\timdb.sql\t\t restaurants.xlsx      titanic.xls\r\n"
     ]
    }
   ],
   "source": [
    "!ls /home/ubuntu/data/"
   ]
  },
  {
   "cell_type": "markdown",
   "metadata": {},
   "source": [
    "This will pull the file to the directory `/home/ubuntu/data/`, creating a new file called `sample.txt`. If we do not want to see any statistics about the download, we can use the `-s` option:"
   ]
  },
  {
   "cell_type": "code",
   "execution_count": null,
   "metadata": {
    "collapsed": false
   },
   "outputs": [],
   "source": [
    "!curl  -s -L 'https://dl.dropboxusercontent.com/u/16006464/IPDS/sample.txt' -o /home/ubuntu/data/sample.txt"
   ]
  },
  {
   "cell_type": "markdown",
   "metadata": {},
   "source": [
    "Now, let's try to use curl to get access to some real data. A key component of today's data ecosystem is the existence of `Web APIs` which provide functionality for a variety of tasks.\n",
    "\n",
    "#### Where am I?\n",
    "\n",
    "For example, let's try to figure out programmatically the location of the computer where the iPython server is running. We can access the API call by issuing the following command:\n",
    "\n"
   ]
  },
  {
   "cell_type": "code",
   "execution_count": 6,
   "metadata": {
    "collapsed": false
   },
   "outputs": [
    {
     "name": "stdout",
     "output_type": "stream",
     "text": [
      "\u001b[37m{\r\n",
      "  \u001b[0m\u001b[34;1m\"metro_code\"\u001b[0m\u001b[37m: \u001b[0m\u001b[0m511\u001b[0m\u001b[37m,\r\n",
      "  \u001b[0m\u001b[34;1m\"longitude\"\u001b[0m\u001b[37m: \u001b[0m\u001b[0m-77.4838\u001b[0m\u001b[37m,\r\n",
      "  \u001b[0m\u001b[34;1m\"latitude\"\u001b[0m\u001b[37m: \u001b[0m\u001b[0m39.0335\u001b[0m\u001b[37m,\r\n",
      "  \u001b[0m\u001b[34;1m\"ip\"\u001b[0m\u001b[37m: \u001b[0m\u001b[32m\"54.174.159.22\"\u001b[0m\u001b[37m,\r\n",
      "  \u001b[0m\u001b[34;1m\"country_code\"\u001b[0m\u001b[37m: \u001b[0m\u001b[32m\"US\"\u001b[0m\u001b[37m,\r\n",
      "  \u001b[0m\u001b[34;1m\"country_name\"\u001b[0m\u001b[37m: \u001b[0m\u001b[32m\"United States\"\u001b[0m\u001b[37m,\r\n",
      "  \u001b[0m\u001b[34;1m\"region_code\"\u001b[0m\u001b[37m: \u001b[0m\u001b[32m\"VA\"\u001b[0m\u001b[37m,\r\n",
      "  \u001b[0m\u001b[34;1m\"region_name\"\u001b[0m\u001b[37m: \u001b[0m\u001b[32m\"Virginia\"\u001b[0m\u001b[37m,\r\n",
      "  \u001b[0m\u001b[34;1m\"city\"\u001b[0m\u001b[37m: \u001b[0m\u001b[32m\"Ashburn\"\u001b[0m\u001b[37m,\r\n",
      "  \u001b[0m\u001b[34;1m\"zip_code\"\u001b[0m\u001b[37m: \u001b[0m\u001b[32m\"20147\"\u001b[0m\u001b[37m,\r\n",
      "  \u001b[0m\u001b[34;1m\"time_zone\"\u001b[0m\u001b[37m: \u001b[0m\u001b[32m\"America/New_York\"\u001b[0m\u001b[37m\r\n",
      "\u001b[37m}\u001b[0m\r\n"
     ]
    }
   ],
   "source": [
    "!curl -s \"http://freegeoip.net/json/\" | jq ."
   ]
  },
  {
   "cell_type": "markdown",
   "metadata": {},
   "source": [
    "While this does not look nice to a human, for a computer is a perfectly legitimate answer. This format is called \"JSON\", and is an efficient and very commonly used way to trasfer data today on the Internet.\n",
    "| jq controls presentation"
   ]
  },
  {
   "cell_type": "markdown",
   "metadata": {},
   "source": [
    "Now, let's examine a few more web APIs, just for fun:\n",
    "\n",
    "#### What's the weather?\n",
    "\n",
    "Now, let's use the OpenWeather API to get the weather details in our location. (The details of the API calls are available at http://openweathermap.org/api.)"
   ]
  },
  {
   "cell_type": "code",
   "execution_count": 7,
   "metadata": {
    "collapsed": false
   },
   "outputs": [
    {
     "name": "stdout",
     "output_type": "stream",
     "text": [
      "\u001b[37m{\r\n",
      "  \u001b[0m\u001b[34;1m\"cod\"\u001b[0m\u001b[37m: \u001b[0m\u001b[0m200\u001b[0m\u001b[37m,\r\n",
      "  \u001b[0m\u001b[34;1m\"name\"\u001b[0m\u001b[37m: \u001b[0m\u001b[32m\"New York\"\u001b[0m\u001b[37m,\r\n",
      "  \u001b[0m\u001b[34;1m\"id\"\u001b[0m\u001b[37m: \u001b[0m\u001b[0m5128581\u001b[0m\u001b[37m,\r\n",
      "  \u001b[0m\u001b[34;1m\"coord\"\u001b[0m\u001b[37m: \u001b[0m\u001b[37m{\r\n",
      "    \u001b[0m\u001b[34;1m\"lat\"\u001b[0m\u001b[37m: \u001b[0m\u001b[0m40.71\u001b[0m\u001b[37m,\r\n",
      "    \u001b[0m\u001b[34;1m\"lon\"\u001b[0m\u001b[37m: \u001b[0m\u001b[0m-74.01\u001b[0m\u001b[37m\r\n",
      "  \u001b[37m}\u001b[0m\u001b[37m,\r\n",
      "  \u001b[0m\u001b[34;1m\"weather\"\u001b[0m\u001b[37m: \u001b[0m\u001b[37m[\r\n",
      "    \u001b[37m{\r\n",
      "      \u001b[0m\u001b[34;1m\"icon\"\u001b[0m\u001b[37m: \u001b[0m\u001b[32m\"50d\"\u001b[0m\u001b[37m,\r\n",
      "      \u001b[0m\u001b[34;1m\"description\"\u001b[0m\u001b[37m: \u001b[0m\u001b[32m\"haze\"\u001b[0m\u001b[37m,\r\n",
      "      \u001b[0m\u001b[34;1m\"main\"\u001b[0m\u001b[37m: \u001b[0m\u001b[32m\"Haze\"\u001b[0m\u001b[37m,\r\n",
      "      \u001b[0m\u001b[34;1m\"id\"\u001b[0m\u001b[37m: \u001b[0m\u001b[0m721\u001b[0m\u001b[37m\r\n",
      "    \u001b[37m}\u001b[0m\u001b[37m\r\n",
      "  \u001b[37m]\u001b[0m\u001b[37m,\r\n",
      "  \u001b[0m\u001b[34;1m\"base\"\u001b[0m\u001b[37m: \u001b[0m\u001b[32m\"cmc stations\"\u001b[0m\u001b[37m,\r\n",
      "  \u001b[0m\u001b[34;1m\"main\"\u001b[0m\u001b[37m: \u001b[0m\u001b[37m{\r\n",
      "    \u001b[0m\u001b[34;1m\"temp_max\"\u001b[0m\u001b[37m: \u001b[0m\u001b[0m30.2\u001b[0m\u001b[37m,\r\n",
      "    \u001b[0m\u001b[34;1m\"temp_min\"\u001b[0m\u001b[37m: \u001b[0m\u001b[0m28.4\u001b[0m\u001b[37m,\r\n",
      "    \u001b[0m\u001b[34;1m\"humidity\"\u001b[0m\u001b[37m: \u001b[0m\u001b[0m42\u001b[0m\u001b[37m,\r\n",
      "    \u001b[0m\u001b[34;1m\"pressure\"\u001b[0m\u001b[37m: \u001b[0m\u001b[0m1015\u001b[0m\u001b[37m,\r\n",
      "    \u001b[0m\u001b[34;1m\"temp\"\u001b[0m\u001b[37m: \u001b[0m\u001b[0m29.23\u001b[0m\u001b[37m\r\n",
      "  \u001b[37m}\u001b[0m\u001b[37m,\r\n",
      "  \u001b[0m\u001b[34;1m\"wind\"\u001b[0m\u001b[37m: \u001b[0m\u001b[37m{\r\n",
      "    \u001b[0m\u001b[34;1m\"deg\"\u001b[0m\u001b[37m: \u001b[0m\u001b[0m300\u001b[0m\u001b[37m,\r\n",
      "    \u001b[0m\u001b[34;1m\"speed\"\u001b[0m\u001b[37m: \u001b[0m\u001b[0m11.02\u001b[0m\u001b[37m\r\n",
      "  \u001b[37m}\u001b[0m\u001b[37m,\r\n",
      "  \u001b[0m\u001b[34;1m\"clouds\"\u001b[0m\u001b[37m: \u001b[0m\u001b[37m{\r\n",
      "    \u001b[0m\u001b[34;1m\"all\"\u001b[0m\u001b[37m: \u001b[0m\u001b[0m20\u001b[0m\u001b[37m\r\n",
      "  \u001b[37m}\u001b[0m\u001b[37m,\r\n",
      "  \u001b[0m\u001b[34;1m\"dt\"\u001b[0m\u001b[37m: \u001b[0m\u001b[0m1453659185\u001b[0m\u001b[37m,\r\n",
      "  \u001b[0m\u001b[34;1m\"sys\"\u001b[0m\u001b[37m: \u001b[0m\u001b[37m{\r\n",
      "    \u001b[0m\u001b[34;1m\"sunset\"\u001b[0m\u001b[37m: \u001b[0m\u001b[0m1453673056\u001b[0m\u001b[37m,\r\n",
      "    \u001b[0m\u001b[34;1m\"sunrise\"\u001b[0m\u001b[37m: \u001b[0m\u001b[0m1453637556\u001b[0m\u001b[37m,\r\n",
      "    \u001b[0m\u001b[34;1m\"country\"\u001b[0m\u001b[37m: \u001b[0m\u001b[32m\"US\"\u001b[0m\u001b[37m,\r\n",
      "    \u001b[0m\u001b[34;1m\"message\"\u001b[0m\u001b[37m: \u001b[0m\u001b[0m0.0125\u001b[0m\u001b[37m,\r\n",
      "    \u001b[0m\u001b[34;1m\"id\"\u001b[0m\u001b[37m: \u001b[0m\u001b[0m1975\u001b[0m\u001b[37m,\r\n",
      "    \u001b[0m\u001b[34;1m\"type\"\u001b[0m\u001b[37m: \u001b[0m\u001b[0m1\u001b[0m\u001b[37m\r\n",
      "  \u001b[37m}\u001b[0m\u001b[37m\r\n",
      "\u001b[37m}\u001b[0m\r\n"
     ]
    }
   ],
   "source": [
    "!curl -s \"http://api.openweathermap.org/data/2.5/weather?q=New%20York,NY,USA&units=imperial&mode=json&appid=ffb7b9808e07c9135bdcc7d1e867253d\" | jq ."
   ]
  },
  {
   "cell_type": "markdown",
   "metadata": {},
   "source": [
    "You will notice that we asked the service to return to us the data in JSON format. For that API, we can also ask the data to be returned in a different format, called XML, which is wordlier. (We will get back to these formats later in the semester.)"
   ]
  },
  {
   "cell_type": "code",
   "execution_count": 13,
   "metadata": {
    "collapsed": false
   },
   "outputs": [
    {
     "name": "stdout",
     "output_type": "stream",
     "text": [
      "<current><city id=\"5128581\" name=\"New York\"><coord lon=\"-74.01\" lat=\"40.71\"></coord><country>US</country><sun rise=\"2016-01-24T12:12:36\" set=\"2016-01-24T22:04:16\"></sun></city><temperature value=\"29.23\" min=\"28.4\" max=\"30.2\" unit=\"fahrenheit\"></temperature><humidity value=\"42\" unit=\"%\"></humidity><pressure value=\"1015\" unit=\"hPa\"></pressure><wind><speed value=\"11.02\" name=\"Strong breeze\"></speed><gusts></gusts><direction value=\"300\" code=\"WNW\" name=\"West-northwest\"></direction></wind><clouds value=\"20\" name=\"few clouds\"></clouds><visibility></visibility><precipitation mode=\"no\"></precipitation><weather number=\"721\" value=\"haze\" icon=\"50d\"></weather><lastupdate value=\"2016-01-24T18:13:05\"></lastupdate></current>\r\n"
     ]
    }
   ],
   "source": [
    "!curl -s \"http://api.openweathermap.org/data/2.5/weather?q=New%20York,NY,USA&units=imperial&mode=xml&appid=ffb7b9808e07c9135bdcc7d1e867253d\""
   ]
  },
  {
   "cell_type": "markdown",
   "metadata": {},
   "source": [
    "#### What's the sentiment?\n",
    "\n",
    "Now let's try to use a web service to automatically analyze the sentiment for a piece of text. (The service comes from the [IBM's Alchemy API](http://www.alchemyapi.com/api/sentiment/textc.html#textsentiment))"
   ]
  },
  {
   "cell_type": "code",
   "execution_count": 19,
   "metadata": {
    "collapsed": false
   },
   "outputs": [
    {
     "name": "stdout",
     "output_type": "stream",
     "text": [
      "  % Total    % Received % Xferd  Average Speed   Time    Time     Time  Current\n",
      "                                 Dload  Upload   Total   Spent    Left  Speed\n",
      "100   454  100   362  100    92   2487    632 --:--:-- --:--:-- --:--:--  2496\n",
      "\u001b[37m{\n",
      "  \u001b[0m\u001b[34;1m\"docSentiment\"\u001b[0m\u001b[37m: \u001b[0m\u001b[37m{\n",
      "    \u001b[0m\u001b[34;1m\"type\"\u001b[0m\u001b[37m: \u001b[0m\u001b[32m\"negative\"\u001b[0m\u001b[37m,\n",
      "    \u001b[0m\u001b[34;1m\"score\"\u001b[0m\u001b[37m: \u001b[0m\u001b[32m\"-0.254732\"\u001b[0m\u001b[37m\n",
      "  \u001b[37m}\u001b[0m\u001b[37m,\n",
      "  \u001b[0m\u001b[34;1m\"language\"\u001b[0m\u001b[37m: \u001b[0m\u001b[32m\"english\"\u001b[0m\u001b[37m,\n",
      "  \u001b[0m\u001b[34;1m\"totalTransactions\"\u001b[0m\u001b[37m: \u001b[0m\u001b[32m\"1\"\u001b[0m\u001b[37m,\n",
      "  \u001b[0m\u001b[34;1m\"usage\"\u001b[0m\u001b[37m: \u001b[0m\u001b[32m\"By accessing AlchemyAPI or using information generated by AlchemyAPI, you are agreeing to be bound by the AlchemyAPI Terms of Use: http://www.alchemyapi.com/company/terms.html\"\u001b[0m\u001b[37m,\n",
      "  \u001b[0m\u001b[34;1m\"status\"\u001b[0m\u001b[37m: \u001b[0m\u001b[32m\"OK\"\u001b[0m\u001b[37m\n",
      "\u001b[37m}\u001b[0m\n"
     ]
    }
   ],
   "source": [
    "!curl \"http://access.alchemyapi.com/calls/text/TextGetTextSentiment\" \\\n",
    "-d \"outputMode=json\" \\\n",
    "-d \"apikey=3d0b6858f7ef32fdf27ad402f4a9c270c9685d84\" \\\n",
    "-d \"text=I did not dislike it. \" | jq ."
   ]
  },
  {
   "cell_type": "markdown",
   "metadata": {},
   "source": [
    "#### And a few synonyms\n",
    "\n",
    "And now just a demo of a web API that I created myself a few years back. It analyzes Wikipedia to figure out different ways that people use to refer to the same entity\n",
    "\n"
   ]
  },
  {
   "cell_type": "code",
   "execution_count": 23,
   "metadata": {
    "collapsed": false
   },
   "outputs": [
    {
     "name": "stdout",
     "output_type": "stream",
     "text": [
      "\u001b[37m{\r\n",
      "  \u001b[0m\u001b[34;1m\"terms\"\u001b[0m\u001b[37m: \u001b[0m\u001b[37m[\r\n",
      "    \u001b[37m{\r\n",
      "      \u001b[0m\u001b[34;1m\"oskill\"\u001b[0m\u001b[37m: \u001b[0m\u001b[0m0\u001b[0m\u001b[37m,\r\n",
      "      \u001b[0m\u001b[34;1m\"canonical\"\u001b[0m\u001b[37m: \u001b[0m\u001b[0m1\u001b[0m\u001b[37m,\r\n",
      "      \u001b[0m\u001b[34;1m\"term\"\u001b[0m\u001b[37m: \u001b[0m\u001b[32m\"Hillary Rodham Clinton\"\u001b[0m\u001b[37m\r\n",
      "    \u001b[37m}\u001b[0m\u001b[37m,\r\n",
      "    \u001b[37m{\r\n",
      "      \u001b[0m\u001b[34;1m\"oskill\"\u001b[0m\u001b[37m: \u001b[0m\u001b[0m0\u001b[0m\u001b[37m,\r\n",
      "      \u001b[0m\u001b[34;1m\"canonical\"\u001b[0m\u001b[37m: \u001b[0m\u001b[0m0\u001b[0m\u001b[37m,\r\n",
      "      \u001b[0m\u001b[34;1m\"term\"\u001b[0m\u001b[37m: \u001b[0m\u001b[32m\"Hillary R. Clinton\"\u001b[0m\u001b[37m\r\n",
      "    \u001b[37m}\u001b[0m\u001b[37m,\r\n",
      "    \u001b[37m{\r\n",
      "      \u001b[0m\u001b[34;1m\"oskill\"\u001b[0m\u001b[37m: \u001b[0m\u001b[0m0\u001b[0m\u001b[37m,\r\n",
      "      \u001b[0m\u001b[34;1m\"canonical\"\u001b[0m\u001b[37m: \u001b[0m\u001b[0m0\u001b[0m\u001b[37m,\r\n",
      "      \u001b[0m\u001b[34;1m\"term\"\u001b[0m\u001b[37m: \u001b[0m\u001b[32m\"Hilary clinton\"\u001b[0m\u001b[37m\r\n",
      "    \u001b[37m}\u001b[0m\u001b[37m,\r\n",
      "    \u001b[37m{\r\n",
      "      \u001b[0m\u001b[34;1m\"oskill\"\u001b[0m\u001b[37m: \u001b[0m\u001b[0m0\u001b[0m\u001b[37m,\r\n",
      "      \u001b[0m\u001b[34;1m\"canonical\"\u001b[0m\u001b[37m: \u001b[0m\u001b[0m0\u001b[0m\u001b[37m,\r\n",
      "      \u001b[0m\u001b[34;1m\"term\"\u001b[0m\u001b[37m: \u001b[0m\u001b[32m\"Hilary Clinton\"\u001b[0m\u001b[37m\r\n",
      "    \u001b[37m}\u001b[0m\u001b[37m,\r\n",
      "    \u001b[37m{\r\n",
      "      \u001b[0m\u001b[34;1m\"oskill\"\u001b[0m\u001b[37m: \u001b[0m\u001b[0m0\u001b[0m\u001b[37m,\r\n",
      "      \u001b[0m\u001b[34;1m\"canonical\"\u001b[0m\u001b[37m: \u001b[0m\u001b[0m0\u001b[0m\u001b[37m,\r\n",
      "      \u001b[0m\u001b[34;1m\"term\"\u001b[0m\u001b[37m: \u001b[0m\u001b[32m\"HIllary Rodham Clinton\"\u001b[0m\u001b[37m\r\n",
      "    \u001b[37m}\u001b[0m\u001b[37m,\r\n",
      "    \u001b[37m{\r\n",
      "      \u001b[0m\u001b[34;1m\"oskill\"\u001b[0m\u001b[37m: \u001b[0m\u001b[0m0\u001b[0m\u001b[37m,\r\n",
      "      \u001b[0m\u001b[34;1m\"canonical\"\u001b[0m\u001b[37m: \u001b[0m\u001b[0m0\u001b[0m\u001b[37m,\r\n",
      "      \u001b[0m\u001b[34;1m\"term\"\u001b[0m\u001b[37m: \u001b[0m\u001b[32m\"Hillary Rodham\"\u001b[0m\u001b[37m\r\n",
      "    \u001b[37m}\u001b[0m\u001b[37m,\r\n",
      "    \u001b[37m{\r\n",
      "      \u001b[0m\u001b[34;1m\"oskill\"\u001b[0m\u001b[37m: \u001b[0m\u001b[0m0\u001b[0m\u001b[37m,\r\n",
      "      \u001b[0m\u001b[34;1m\"canonical\"\u001b[0m\u001b[37m: \u001b[0m\u001b[0m0\u001b[0m\u001b[37m,\r\n",
      "      \u001b[0m\u001b[34;1m\"term\"\u001b[0m\u001b[37m: \u001b[0m\u001b[32m\"Clinton, Hillary Rodham\"\u001b[0m\u001b[37m\r\n",
      "    \u001b[37m}\u001b[0m\u001b[37m,\r\n",
      "    \u001b[37m{\r\n",
      "      \u001b[0m\u001b[34;1m\"oskill\"\u001b[0m\u001b[37m: \u001b[0m\u001b[0m0\u001b[0m\u001b[37m,\r\n",
      "      \u001b[0m\u001b[34;1m\"canonical\"\u001b[0m\u001b[37m: \u001b[0m\u001b[0m0\u001b[0m\u001b[37m,\r\n",
      "      \u001b[0m\u001b[34;1m\"term\"\u001b[0m\u001b[37m: \u001b[0m\u001b[32m\"Senator Clinton\"\u001b[0m\u001b[37m\r\n",
      "    \u001b[37m}\u001b[0m\u001b[37m,\r\n",
      "    \u001b[37m{\r\n",
      "      \u001b[0m\u001b[34;1m\"oskill\"\u001b[0m\u001b[37m: \u001b[0m\u001b[0m0\u001b[0m\u001b[37m,\r\n",
      "      \u001b[0m\u001b[34;1m\"canonical\"\u001b[0m\u001b[37m: \u001b[0m\u001b[0m0\u001b[0m\u001b[37m,\r\n",
      "      \u001b[0m\u001b[34;1m\"term\"\u001b[0m\u001b[37m: \u001b[0m\u001b[32m\"Hillary Rodham Clinton controversies\"\u001b[0m\u001b[37m\r\n",
      "    \u001b[37m}\u001b[0m\u001b[37m,\r\n",
      "    \u001b[37m{\r\n",
      "      \u001b[0m\u001b[34;1m\"oskill\"\u001b[0m\u001b[37m: \u001b[0m\u001b[0m0\u001b[0m\u001b[37m,\r\n",
      "      \u001b[0m\u001b[34;1m\"canonical\"\u001b[0m\u001b[37m: \u001b[0m\u001b[0m0\u001b[0m\u001b[37m,\r\n",
      "      \u001b[0m\u001b[34;1m\"term\"\u001b[0m\u001b[37m: \u001b[0m\u001b[32m\"Cultural matters related to Hillary Rodham Clinton\"\u001b[0m\u001b[37m\r\n",
      "    \u001b[37m}\u001b[0m\u001b[37m,\r\n",
      "    \u001b[37m{\r\n",
      "      \u001b[0m\u001b[34;1m\"oskill\"\u001b[0m\u001b[37m: \u001b[0m\u001b[0m0\u001b[0m\u001b[37m,\r\n",
      "      \u001b[0m\u001b[34;1m\"canonical\"\u001b[0m\u001b[37m: \u001b[0m\u001b[0m0\u001b[0m\u001b[37m,\r\n",
      "      \u001b[0m\u001b[34;1m\"term\"\u001b[0m\u001b[37m: \u001b[0m\u001b[32m\"Controversies surrounding Hillary Clinton\"\u001b[0m\u001b[37m\r\n",
      "    \u001b[37m}\u001b[0m\u001b[37m,\r\n",
      "    \u001b[37m{\r\n",
      "      \u001b[0m\u001b[34;1m\"oskill\"\u001b[0m\u001b[37m: \u001b[0m\u001b[0m0\u001b[0m\u001b[37m,\r\n",
      "      \u001b[0m\u001b[34;1m\"canonical\"\u001b[0m\u001b[37m: \u001b[0m\u001b[0m0\u001b[0m\u001b[37m,\r\n",
      "      \u001b[0m\u001b[34;1m\"term\"\u001b[0m\u001b[37m: \u001b[0m\u001b[32m\"Cultural Matters of Hillary Clinton\"\u001b[0m\u001b[37m\r\n",
      "    \u001b[37m}\u001b[0m\u001b[37m,\r\n",
      "    \u001b[37m{\r\n",
      "      \u001b[0m\u001b[34;1m\"oskill\"\u001b[0m\u001b[37m: \u001b[0m\u001b[0m0\u001b[0m\u001b[37m,\r\n",
      "      \u001b[0m\u001b[34;1m\"canonical\"\u001b[0m\u001b[37m: \u001b[0m\u001b[0m0\u001b[0m\u001b[37m,\r\n",
      "      \u001b[0m\u001b[34;1m\"term\"\u001b[0m\u001b[37m: \u001b[0m\u001b[32m\"Senator Hillary Rodham Clinton\"\u001b[0m\u001b[37m\r\n",
      "    \u001b[37m}\u001b[0m\u001b[37m,\r\n",
      "    \u001b[37m{\r\n",
      "      \u001b[0m\u001b[34;1m\"oskill\"\u001b[0m\u001b[37m: \u001b[0m\u001b[0m0\u001b[0m\u001b[37m,\r\n",
      "      \u001b[0m\u001b[34;1m\"canonical\"\u001b[0m\u001b[37m: \u001b[0m\u001b[0m0\u001b[0m\u001b[37m,\r\n",
      "      \u001b[0m\u001b[34;1m\"term\"\u001b[0m\u001b[37m: \u001b[0m\u001b[32m\"Controversies surrounding Hillary Rodham Clinton\"\u001b[0m\u001b[37m\r\n",
      "    \u001b[37m}\u001b[0m\u001b[37m,\r\n",
      "    \u001b[37m{\r\n",
      "      \u001b[0m\u001b[34;1m\"oskill\"\u001b[0m\u001b[37m: \u001b[0m\u001b[0m0\u001b[0m\u001b[37m,\r\n",
      "      \u001b[0m\u001b[34;1m\"canonical\"\u001b[0m\u001b[37m: \u001b[0m\u001b[0m0\u001b[0m\u001b[37m,\r\n",
      "      \u001b[0m\u001b[34;1m\"term\"\u001b[0m\u001b[37m: \u001b[0m\u001b[32m\"Hilary Rodham Clinton\"\u001b[0m\u001b[37m\r\n",
      "    \u001b[37m}\u001b[0m\u001b[37m,\r\n",
      "    \u001b[37m{\r\n",
      "      \u001b[0m\u001b[34;1m\"oskill\"\u001b[0m\u001b[37m: \u001b[0m\u001b[0m0\u001b[0m\u001b[37m,\r\n",
      "      \u001b[0m\u001b[34;1m\"canonical\"\u001b[0m\u001b[37m: \u001b[0m\u001b[0m0\u001b[0m\u001b[37m,\r\n",
      "      \u001b[0m\u001b[34;1m\"term\"\u001b[0m\u001b[37m: \u001b[0m\u001b[32m\"Hillary Diane Rodham Clinton\"\u001b[0m\u001b[37m\r\n",
      "    \u001b[37m}\u001b[0m\u001b[37m,\r\n",
      "    \u001b[37m{\r\n",
      "      \u001b[0m\u001b[34;1m\"oskill\"\u001b[0m\u001b[37m: \u001b[0m\u001b[0m0\u001b[0m\u001b[37m,\r\n",
      "      \u001b[0m\u001b[34;1m\"canonical\"\u001b[0m\u001b[37m: \u001b[0m\u001b[0m0\u001b[0m\u001b[37m,\r\n",
      "      \u001b[0m\u001b[34;1m\"term\"\u001b[0m\u001b[37m: \u001b[0m\u001b[32m\"Hillery Clinton\"\u001b[0m\u001b[37m\r\n",
      "    \u001b[37m}\u001b[0m\u001b[37m,\r\n",
      "    \u001b[37m{\r\n",
      "      \u001b[0m\u001b[34;1m\"oskill\"\u001b[0m\u001b[37m: \u001b[0m\u001b[0m0\u001b[0m\u001b[37m,\r\n",
      "      \u001b[0m\u001b[34;1m\"canonical\"\u001b[0m\u001b[37m: \u001b[0m\u001b[0m0\u001b[0m\u001b[37m,\r\n",
      "      \u001b[0m\u001b[34;1m\"term\"\u001b[0m\u001b[37m: \u001b[0m\u001b[32m\"Hillary Diane Rodham Clinotn\"\u001b[0m\u001b[37m\r\n",
      "    \u001b[37m}\u001b[0m\u001b[37m,\r\n",
      "    \u001b[37m{\r\n",
      "      \u001b[0m\u001b[34;1m\"oskill\"\u001b[0m\u001b[37m: \u001b[0m\u001b[0m0\u001b[0m\u001b[37m,\r\n",
      "      \u001b[0m\u001b[34;1m\"canonical\"\u001b[0m\u001b[37m: \u001b[0m\u001b[0m0\u001b[0m\u001b[37m,\r\n",
      "      \u001b[0m\u001b[34;1m\"term\"\u001b[0m\u001b[37m: \u001b[0m\u001b[32m\"Hilliary Clinton\"\u001b[0m\u001b[37m\r\n",
      "    \u001b[37m}\u001b[0m\u001b[37m,\r\n",
      "    \u001b[37m{\r\n",
      "      \u001b[0m\u001b[34;1m\"oskill\"\u001b[0m\u001b[37m: \u001b[0m\u001b[0m0\u001b[0m\u001b[37m,\r\n",
      "      \u001b[0m\u001b[34;1m\"canonical\"\u001b[0m\u001b[37m: \u001b[0m\u001b[0m0\u001b[0m\u001b[37m,\r\n",
      "      \u001b[0m\u001b[34;1m\"term\"\u001b[0m\u001b[37m: \u001b[0m\u001b[32m\"Hillary Diane Clinton\"\u001b[0m\u001b[37m\r\n",
      "    \u001b[37m}\u001b[0m\u001b[37m,\r\n",
      "    \u001b[37m{\r\n",
      "      \u001b[0m\u001b[34;1m\"oskill\"\u001b[0m\u001b[37m: \u001b[0m\u001b[0m0\u001b[0m\u001b[37m,\r\n",
      "      \u001b[0m\u001b[34;1m\"canonical\"\u001b[0m\u001b[37m: \u001b[0m\u001b[0m0\u001b[0m\u001b[37m,\r\n",
      "      \u001b[0m\u001b[34;1m\"term\"\u001b[0m\u001b[37m: \u001b[0m\u001b[32m\"Hillary Diane Rodham\"\u001b[0m\u001b[37m\r\n",
      "    \u001b[37m}\u001b[0m\u001b[37m,\r\n",
      "    \u001b[37m{\r\n",
      "      \u001b[0m\u001b[34;1m\"oskill\"\u001b[0m\u001b[37m: \u001b[0m\u001b[0m0\u001b[0m\u001b[37m,\r\n",
      "      \u001b[0m\u001b[34;1m\"canonical\"\u001b[0m\u001b[37m: \u001b[0m\u001b[0m0\u001b[0m\u001b[37m,\r\n",
      "      \u001b[0m\u001b[34;1m\"term\"\u001b[0m\u001b[37m: \u001b[0m\u001b[32m\"Hillary Cliton\"\u001b[0m\u001b[37m\r\n",
      "    \u001b[37m}\u001b[0m\u001b[37m,\r\n",
      "    \u001b[37m{\r\n",
      "      \u001b[0m\u001b[34;1m\"oskill\"\u001b[0m\u001b[37m: \u001b[0m\u001b[0m0\u001b[0m\u001b[37m,\r\n",
      "      \u001b[0m\u001b[34;1m\"canonical\"\u001b[0m\u001b[37m: \u001b[0m\u001b[0m0\u001b[0m\u001b[37m,\r\n",
      "      \u001b[0m\u001b[34;1m\"term\"\u001b[0m\u001b[37m: \u001b[0m\u001b[32m\"Hillary clinton\"\u001b[0m\u001b[37m\r\n",
      "    \u001b[37m}\u001b[0m\u001b[37m,\r\n",
      "    \u001b[37m{\r\n",
      "      \u001b[0m\u001b[34;1m\"oskill\"\u001b[0m\u001b[37m: \u001b[0m\u001b[0m0\u001b[0m\u001b[37m,\r\n",
      "      \u001b[0m\u001b[34;1m\"canonical\"\u001b[0m\u001b[37m: \u001b[0m\u001b[0m0\u001b[0m\u001b[37m,\r\n",
      "      \u001b[0m\u001b[34;1m\"term\"\u001b[0m\u001b[37m: \u001b[0m\u001b[32m\"List of Hillary Rodham Clinton Controversies\"\u001b[0m\u001b[37m\r\n",
      "    \u001b[37m}\u001b[0m\u001b[37m,\r\n",
      "    \u001b[37m{\r\n",
      "      \u001b[0m\u001b[34;1m\"oskill\"\u001b[0m\u001b[37m: \u001b[0m\u001b[0m0\u001b[0m\u001b[37m,\r\n",
      "      \u001b[0m\u001b[34;1m\"canonical\"\u001b[0m\u001b[37m: \u001b[0m\u001b[0m0\u001b[0m\u001b[37m,\r\n",
      "      \u001b[0m\u001b[34;1m\"term\"\u001b[0m\u001b[37m: \u001b[0m\u001b[32m\"Hillary D. R. Clinton\"\u001b[0m\u001b[37m\r\n",
      "    \u001b[37m}\u001b[0m\u001b[37m,\r\n",
      "    \u001b[37m{\r\n",
      "      \u001b[0m\u001b[34;1m\"oskill\"\u001b[0m\u001b[37m: \u001b[0m\u001b[0m0\u001b[0m\u001b[37m,\r\n",
      "      \u001b[0m\u001b[34;1m\"canonical\"\u001b[0m\u001b[37m: \u001b[0m\u001b[0m0\u001b[0m\u001b[37m,\r\n",
      "      \u001b[0m\u001b[34;1m\"term\"\u001b[0m\u001b[37m: \u001b[0m\u001b[32m\"Hillary Diane R. Clinton\"\u001b[0m\u001b[37m\r\n",
      "    \u001b[37m}\u001b[0m\u001b[37m,\r\n",
      "    \u001b[37m{\r\n",
      "      \u001b[0m\u001b[34;1m\"oskill\"\u001b[0m\u001b[37m: \u001b[0m\u001b[0m0\u001b[0m\u001b[37m,\r\n",
      "      \u001b[0m\u001b[34;1m\"canonical\"\u001b[0m\u001b[37m: \u001b[0m\u001b[0m0\u001b[0m\u001b[37m,\r\n",
      "      \u001b[0m\u001b[34;1m\"term\"\u001b[0m\u001b[37m: \u001b[0m\u001b[32m\"HR Clinton\"\u001b[0m\u001b[37m\r\n",
      "    \u001b[37m}\u001b[0m\u001b[37m,\r\n",
      "    \u001b[37m{\r\n",
      "      \u001b[0m\u001b[34;1m\"oskill\"\u001b[0m\u001b[37m: \u001b[0m\u001b[0m0\u001b[0m\u001b[37m,\r\n",
      "      \u001b[0m\u001b[34;1m\"canonical\"\u001b[0m\u001b[37m: \u001b[0m\u001b[0m0\u001b[0m\u001b[37m,\r\n",
      "      \u001b[0m\u001b[34;1m\"term\"\u001b[0m\u001b[37m: \u001b[0m\u001b[32m\"Rodham Clinton\"\u001b[0m\u001b[37m\r\n",
      "    \u001b[37m}\u001b[0m\u001b[37m,\r\n",
      "    \u001b[37m{\r\n",
      "      \u001b[0m\u001b[34;1m\"oskill\"\u001b[0m\u001b[37m: \u001b[0m\u001b[0m0\u001b[0m\u001b[37m,\r\n",
      "      \u001b[0m\u001b[34;1m\"canonical\"\u001b[0m\u001b[37m: \u001b[0m\u001b[0m0\u001b[0m\u001b[37m,\r\n",
      "      \u001b[0m\u001b[34;1m\"term\"\u001b[0m\u001b[37m: \u001b[0m\u001b[32m\"Mrs. Clinton\"\u001b[0m\u001b[37m\r\n",
      "    \u001b[37m}\u001b[0m\u001b[37m,\r\n",
      "    \u001b[37m{\r\n",
      "      \u001b[0m\u001b[34;1m\"oskill\"\u001b[0m\u001b[37m: \u001b[0m\u001b[0m0\u001b[0m\u001b[37m,\r\n",
      "      \u001b[0m\u001b[34;1m\"canonical\"\u001b[0m\u001b[37m: \u001b[0m\u001b[0m0\u001b[0m\u001b[37m,\r\n",
      "      \u001b[0m\u001b[34;1m\"term\"\u001b[0m\u001b[37m: \u001b[0m\u001b[32m\"Ms. Clinton\"\u001b[0m\u001b[37m\r\n",
      "    \u001b[37m}\u001b[0m\u001b[37m,\r\n",
      "    \u001b[37m{\r\n",
      "      \u001b[0m\u001b[34;1m\"oskill\"\u001b[0m\u001b[37m: \u001b[0m\u001b[0m0\u001b[0m\u001b[37m,\r\n",
      "      \u001b[0m\u001b[34;1m\"canonical\"\u001b[0m\u001b[37m: \u001b[0m\u001b[0m0\u001b[0m\u001b[37m,\r\n",
      "      \u001b[0m\u001b[34;1m\"term\"\u001b[0m\u001b[37m: \u001b[0m\u001b[32m\"Mrs Clinton\"\u001b[0m\u001b[37m\r\n",
      "    \u001b[37m}\u001b[0m\u001b[37m,\r\n",
      "    \u001b[37m{\r\n",
      "      \u001b[0m\u001b[34;1m\"oskill\"\u001b[0m\u001b[37m: \u001b[0m\u001b[0m0\u001b[0m\u001b[37m,\r\n",
      "      \u001b[0m\u001b[34;1m\"canonical\"\u001b[0m\u001b[37m: \u001b[0m\u001b[0m0\u001b[0m\u001b[37m,\r\n",
      "      \u001b[0m\u001b[34;1m\"term\"\u001b[0m\u001b[37m: \u001b[0m\u001b[32m\"Hilary Rodham\"\u001b[0m\u001b[37m\r\n",
      "    \u001b[37m}\u001b[0m\u001b[37m,\r\n",
      "    \u001b[37m{\r\n",
      "      \u001b[0m\u001b[34;1m\"oskill\"\u001b[0m\u001b[37m: \u001b[0m\u001b[0m0\u001b[0m\u001b[37m,\r\n",
      "      \u001b[0m\u001b[34;1m\"canonical\"\u001b[0m\u001b[37m: \u001b[0m\u001b[0m0\u001b[0m\u001b[37m,\r\n",
      "      \u001b[0m\u001b[34;1m\"term\"\u001b[0m\u001b[37m: \u001b[0m\u001b[32m\"Hillary Rodham-Clinton\"\u001b[0m\u001b[37m\r\n",
      "    \u001b[37m}\u001b[0m\u001b[37m,\r\n",
      "    \u001b[37m{\r\n",
      "      \u001b[0m\u001b[34;1m\"oskill\"\u001b[0m\u001b[37m: \u001b[0m\u001b[0m0\u001b[0m\u001b[37m,\r\n",
      "      \u001b[0m\u001b[34;1m\"canonical\"\u001b[0m\u001b[37m: \u001b[0m\u001b[0m0\u001b[0m\u001b[37m,\r\n",
      "      \u001b[0m\u001b[34;1m\"term\"\u001b[0m\u001b[37m: \u001b[0m\u001b[32m\"HillaryRodhamClinton\"\u001b[0m\u001b[37m\r\n",
      "    \u001b[37m}\u001b[0m\u001b[37m,\r\n",
      "    \u001b[37m{\r\n",
      "      \u001b[0m\u001b[34;1m\"oskill\"\u001b[0m\u001b[37m: \u001b[0m\u001b[0m0\u001b[0m\u001b[37m,\r\n",
      "      \u001b[0m\u001b[34;1m\"canonical\"\u001b[0m\u001b[37m: \u001b[0m\u001b[0m0\u001b[0m\u001b[37m,\r\n",
      "      \u001b[0m\u001b[34;1m\"term\"\u001b[0m\u001b[37m: \u001b[0m\u001b[32m\"HilaryRodhamClinton\"\u001b[0m\u001b[37m\r\n",
      "    \u001b[37m}\u001b[0m\u001b[37m,\r\n",
      "    \u001b[37m{\r\n",
      "      \u001b[0m\u001b[34;1m\"oskill\"\u001b[0m\u001b[37m: \u001b[0m\u001b[0m0\u001b[0m\u001b[37m,\r\n",
      "      \u001b[0m\u001b[34;1m\"canonical\"\u001b[0m\u001b[37m: \u001b[0m\u001b[0m0\u001b[0m\u001b[37m,\r\n",
      "      \u001b[0m\u001b[34;1m\"term\"\u001b[0m\u001b[37m: \u001b[0m\u001b[32m\"Hillary-Rodham-Clinton\"\u001b[0m\u001b[37m\r\n",
      "    \u001b[37m}\u001b[0m\u001b[37m,\r\n",
      "    \u001b[37m{\r\n",
      "      \u001b[0m\u001b[34;1m\"oskill\"\u001b[0m\u001b[37m: \u001b[0m\u001b[0m0\u001b[0m\u001b[37m,\r\n",
      "      \u001b[0m\u001b[34;1m\"canonical\"\u001b[0m\u001b[37m: \u001b[0m\u001b[0m0\u001b[0m\u001b[37m,\r\n",
      "      \u001b[0m\u001b[34;1m\"term\"\u001b[0m\u001b[37m: \u001b[0m\u001b[32m\"RodhamClinton\"\u001b[0m\u001b[37m\r\n",
      "    \u001b[37m}\u001b[0m\u001b[37m,\r\n",
      "    \u001b[37m{\r\n",
      "      \u001b[0m\u001b[34;1m\"oskill\"\u001b[0m\u001b[37m: \u001b[0m\u001b[0m0\u001b[0m\u001b[37m,\r\n",
      "      \u001b[0m\u001b[34;1m\"canonical\"\u001b[0m\u001b[37m: \u001b[0m\u001b[0m0\u001b[0m\u001b[37m,\r\n",
      "      \u001b[0m\u001b[34;1m\"term\"\u001b[0m\u001b[37m: \u001b[0m\u001b[32m\"Rodham-Clinton\"\u001b[0m\u001b[37m\r\n",
      "    \u001b[37m}\u001b[0m\u001b[37m,\r\n",
      "    \u001b[37m{\r\n",
      "      \u001b[0m\u001b[34;1m\"oskill\"\u001b[0m\u001b[37m: \u001b[0m\u001b[0m0\u001b[0m\u001b[37m,\r\n",
      "      \u001b[0m\u001b[34;1m\"canonical\"\u001b[0m\u001b[37m: \u001b[0m\u001b[0m0\u001b[0m\u001b[37m,\r\n",
      "      \u001b[0m\u001b[34;1m\"term\"\u001b[0m\u001b[37m: \u001b[0m\u001b[32m\"HillaryRodham\"\u001b[0m\u001b[37m\r\n",
      "    \u001b[37m}\u001b[0m\u001b[37m,\r\n",
      "    \u001b[37m{\r\n",
      "      \u001b[0m\u001b[34;1m\"oskill\"\u001b[0m\u001b[37m: \u001b[0m\u001b[0m0\u001b[0m\u001b[37m,\r\n",
      "      \u001b[0m\u001b[34;1m\"canonical\"\u001b[0m\u001b[37m: \u001b[0m\u001b[0m0\u001b[0m\u001b[37m,\r\n",
      "      \u001b[0m\u001b[34;1m\"term\"\u001b[0m\u001b[37m: \u001b[0m\u001b[32m\"Clinton, Hillary\"\u001b[0m\u001b[37m\r\n",
      "    \u001b[37m}\u001b[0m\u001b[37m,\r\n",
      "    \u001b[37m{\r\n",
      "      \u001b[0m\u001b[34;1m\"oskill\"\u001b[0m\u001b[37m: \u001b[0m\u001b[0m0\u001b[0m\u001b[37m,\r\n",
      "      \u001b[0m\u001b[34;1m\"canonical\"\u001b[0m\u001b[37m: \u001b[0m\u001b[0m0\u001b[0m\u001b[37m,\r\n",
      "      \u001b[0m\u001b[34;1m\"term\"\u001b[0m\u001b[37m: \u001b[0m\u001b[32m\"Hillary-Rodham\"\u001b[0m\u001b[37m\r\n",
      "    \u001b[37m}\u001b[0m\u001b[37m,\r\n",
      "    \u001b[37m{\r\n",
      "      \u001b[0m\u001b[34;1m\"oskill\"\u001b[0m\u001b[37m: \u001b[0m\u001b[0m0\u001b[0m\u001b[37m,\r\n",
      "      \u001b[0m\u001b[34;1m\"canonical\"\u001b[0m\u001b[37m: \u001b[0m\u001b[0m0\u001b[0m\u001b[37m,\r\n",
      "      \u001b[0m\u001b[34;1m\"term\"\u001b[0m\u001b[37m: \u001b[0m\u001b[32m\"Ms. Rodham\"\u001b[0m\u001b[37m\r\n",
      "    \u001b[37m}\u001b[0m\u001b[37m,\r\n",
      "    \u001b[37m{\r\n",
      "      \u001b[0m\u001b[34;1m\"oskill\"\u001b[0m\u001b[37m: \u001b[0m\u001b[0m0\u001b[0m\u001b[37m,\r\n",
      "      \u001b[0m\u001b[34;1m\"canonical\"\u001b[0m\u001b[37m: \u001b[0m\u001b[0m0\u001b[0m\u001b[37m,\r\n",
      "      \u001b[0m\u001b[34;1m\"term\"\u001b[0m\u001b[37m: \u001b[0m\u001b[32m\"Clinton Rodham\"\u001b[0m\u001b[37m\r\n",
      "    \u001b[37m}\u001b[0m\u001b[37m,\r\n",
      "    \u001b[37m{\r\n",
      "      \u001b[0m\u001b[34;1m\"oskill\"\u001b[0m\u001b[37m: \u001b[0m\u001b[0m0\u001b[0m\u001b[37m,\r\n",
      "      \u001b[0m\u001b[34;1m\"canonical\"\u001b[0m\u001b[37m: \u001b[0m\u001b[0m0\u001b[0m\u001b[37m,\r\n",
      "      \u001b[0m\u001b[34;1m\"term\"\u001b[0m\u001b[37m: \u001b[0m\u001b[32m\"Rodham, Hillary\"\u001b[0m\u001b[37m\r\n",
      "    \u001b[37m}\u001b[0m\u001b[37m,\r\n",
      "    \u001b[37m{\r\n",
      "      \u001b[0m\u001b[34;1m\"oskill\"\u001b[0m\u001b[37m: \u001b[0m\u001b[0m0\u001b[0m\u001b[37m,\r\n",
      "      \u001b[0m\u001b[34;1m\"canonical\"\u001b[0m\u001b[37m: \u001b[0m\u001b[0m0\u001b[0m\u001b[37m,\r\n",
      "      \u001b[0m\u001b[34;1m\"term\"\u001b[0m\u001b[37m: \u001b[0m\u001b[32m\"Rodham Hillary\"\u001b[0m\u001b[37m\r\n",
      "    \u001b[37m}\u001b[0m\u001b[37m,\r\n",
      "    \u001b[37m{\r\n",
      "      \u001b[0m\u001b[34;1m\"oskill\"\u001b[0m\u001b[37m: \u001b[0m\u001b[0m0\u001b[0m\u001b[37m,\r\n",
      "      \u001b[0m\u001b[34;1m\"canonical\"\u001b[0m\u001b[37m: \u001b[0m\u001b[0m0\u001b[0m\u001b[37m,\r\n",
      "      \u001b[0m\u001b[34;1m\"term\"\u001b[0m\u001b[37m: \u001b[0m\u001b[32m\"Ms Rodham\"\u001b[0m\u001b[37m\r\n",
      "    \u001b[37m}\u001b[0m\u001b[37m,\r\n",
      "    \u001b[37m{\r\n",
      "      \u001b[0m\u001b[34;1m\"oskill\"\u001b[0m\u001b[37m: \u001b[0m\u001b[0m0\u001b[0m\u001b[37m,\r\n",
      "      \u001b[0m\u001b[34;1m\"canonical\"\u001b[0m\u001b[37m: \u001b[0m\u001b[0m0\u001b[0m\u001b[37m,\r\n",
      "      \u001b[0m\u001b[34;1m\"term\"\u001b[0m\u001b[37m: \u001b[0m\u001b[32m\"MsRodham\"\u001b[0m\u001b[37m\r\n",
      "    \u001b[37m}\u001b[0m\u001b[37m,\r\n",
      "    \u001b[37m{\r\n",
      "      \u001b[0m\u001b[34;1m\"oskill\"\u001b[0m\u001b[37m: \u001b[0m\u001b[0m0\u001b[0m\u001b[37m,\r\n",
      "      \u001b[0m\u001b[34;1m\"canonical\"\u001b[0m\u001b[37m: \u001b[0m\u001b[0m0\u001b[0m\u001b[37m,\r\n",
      "      \u001b[0m\u001b[34;1m\"term\"\u001b[0m\u001b[37m: \u001b[0m\u001b[32m\"Ms.Rodham\"\u001b[0m\u001b[37m\r\n",
      "    \u001b[37m}\u001b[0m\u001b[37m,\r\n",
      "    \u001b[37m{\r\n",
      "      \u001b[0m\u001b[34;1m\"oskill\"\u001b[0m\u001b[37m: \u001b[0m\u001b[0m0\u001b[0m\u001b[37m,\r\n",
      "      \u001b[0m\u001b[34;1m\"canonical\"\u001b[0m\u001b[37m: \u001b[0m\u001b[0m0\u001b[0m\u001b[37m,\r\n",
      "      \u001b[0m\u001b[34;1m\"term\"\u001b[0m\u001b[37m: \u001b[0m\u001b[32m\"Miss Rodham\"\u001b[0m\u001b[37m\r\n",
      "    \u001b[37m}\u001b[0m\u001b[37m,\r\n",
      "    \u001b[37m{\r\n",
      "      \u001b[0m\u001b[34;1m\"oskill\"\u001b[0m\u001b[37m: \u001b[0m\u001b[0m0\u001b[0m\u001b[37m,\r\n",
      "      \u001b[0m\u001b[34;1m\"canonical\"\u001b[0m\u001b[37m: \u001b[0m\u001b[0m0\u001b[0m\u001b[37m,\r\n",
      "      \u001b[0m\u001b[34;1m\"term\"\u001b[0m\u001b[37m: \u001b[0m\u001b[32m\"MissRodham\"\u001b[0m\u001b[37m\r\n",
      "    \u001b[37m}\u001b[0m\u001b[37m,\r\n",
      "    \u001b[37m{\r\n",
      "      \u001b[0m\u001b[34;1m\"oskill\"\u001b[0m\u001b[37m: \u001b[0m\u001b[0m0\u001b[0m\u001b[37m,\r\n",
      "      \u001b[0m\u001b[34;1m\"canonical\"\u001b[0m\u001b[37m: \u001b[0m\u001b[0m0\u001b[0m\u001b[37m,\r\n",
      "      \u001b[0m\u001b[34;1m\"term\"\u001b[0m\u001b[37m: \u001b[0m\u001b[32m\"Hillary Clinton-Rodham\"\u001b[0m\u001b[37m\r\n",
      "    \u001b[37m}\u001b[0m\u001b[37m,\r\n",
      "    \u001b[37m{\r\n",
      "      \u001b[0m\u001b[34;1m\"oskill\"\u001b[0m\u001b[37m: \u001b[0m\u001b[0m0\u001b[0m\u001b[37m,\r\n",
      "      \u001b[0m\u001b[34;1m\"canonical\"\u001b[0m\u001b[37m: \u001b[0m\u001b[0m0\u001b[0m\u001b[37m,\r\n",
      "      \u001b[0m\u001b[34;1m\"term\"\u001b[0m\u001b[37m: \u001b[0m\u001b[32m\"Clinton, Rodham\"\u001b[0m\u001b[37m\r\n",
      "    \u001b[37m}\u001b[0m\u001b[37m,\r\n",
      "    \u001b[37m{\r\n",
      "      \u001b[0m\u001b[34;1m\"oskill\"\u001b[0m\u001b[37m: \u001b[0m\u001b[0m0\u001b[0m\u001b[37m,\r\n",
      "      \u001b[0m\u001b[34;1m\"canonical\"\u001b[0m\u001b[37m: \u001b[0m\u001b[0m0\u001b[0m\u001b[37m,\r\n",
      "      \u001b[0m\u001b[34;1m\"term\"\u001b[0m\u001b[37m: \u001b[0m\u001b[32m\"Clinton-Rodham\"\u001b[0m\u001b[37m\r\n",
      "    \u001b[37m}\u001b[0m\u001b[37m,\r\n",
      "    \u001b[37m{\r\n",
      "      \u001b[0m\u001b[34;1m\"oskill\"\u001b[0m\u001b[37m: \u001b[0m\u001b[0m0\u001b[0m\u001b[37m,\r\n",
      "      \u001b[0m\u001b[34;1m\"canonical\"\u001b[0m\u001b[37m: \u001b[0m\u001b[0m0\u001b[0m\u001b[37m,\r\n",
      "      \u001b[0m\u001b[34;1m\"term\"\u001b[0m\u001b[37m: \u001b[0m\u001b[32m\"Rodham,Hillary\"\u001b[0m\u001b[37m\r\n",
      "    \u001b[37m}\u001b[0m\u001b[37m,\r\n",
      "    \u001b[37m{\r\n",
      "      \u001b[0m\u001b[34;1m\"oskill\"\u001b[0m\u001b[37m: \u001b[0m\u001b[0m0\u001b[0m\u001b[37m,\r\n",
      "      \u001b[0m\u001b[34;1m\"canonical\"\u001b[0m\u001b[37m: \u001b[0m\u001b[0m0\u001b[0m\u001b[37m,\r\n",
      "      \u001b[0m\u001b[34;1m\"term\"\u001b[0m\u001b[37m: \u001b[0m\u001b[32m\"Hillary Rodham Clintion\"\u001b[0m\u001b[37m\r\n",
      "    \u001b[37m}\u001b[0m\u001b[37m,\r\n",
      "    \u001b[37m{\r\n",
      "      \u001b[0m\u001b[34;1m\"oskill\"\u001b[0m\u001b[37m: \u001b[0m\u001b[0m0\u001b[0m\u001b[37m,\r\n",
      "      \u001b[0m\u001b[34;1m\"canonical\"\u001b[0m\u001b[37m: \u001b[0m\u001b[0m0\u001b[0m\u001b[37m,\r\n",
      "      \u001b[0m\u001b[34;1m\"term\"\u001b[0m\u001b[37m: \u001b[0m\u001b[32m\"H Clinton\"\u001b[0m\u001b[37m\r\n",
      "    \u001b[37m}\u001b[0m\u001b[37m,\r\n",
      "    \u001b[37m{\r\n",
      "      \u001b[0m\u001b[34;1m\"oskill\"\u001b[0m\u001b[37m: \u001b[0m\u001b[0m0\u001b[0m\u001b[37m,\r\n",
      "      \u001b[0m\u001b[34;1m\"canonical\"\u001b[0m\u001b[37m: \u001b[0m\u001b[0m0\u001b[0m\u001b[37m,\r\n",
      "      \u001b[0m\u001b[34;1m\"term\"\u001b[0m\u001b[37m: \u001b[0m\u001b[32m\"Hillary Diane\"\u001b[0m\u001b[37m\r\n",
      "    \u001b[37m}\u001b[0m\u001b[37m,\r\n",
      "    \u001b[37m{\r\n",
      "      \u001b[0m\u001b[34;1m\"oskill\"\u001b[0m\u001b[37m: \u001b[0m\u001b[0m0\u001b[0m\u001b[37m,\r\n",
      "      \u001b[0m\u001b[34;1m\"canonical\"\u001b[0m\u001b[37m: \u001b[0m\u001b[0m0\u001b[0m\u001b[37m,\r\n",
      "      \u001b[0m\u001b[34;1m\"term\"\u001b[0m\u001b[37m: \u001b[0m\u001b[32m\"Senator Hillary Clinton\"\u001b[0m\u001b[37m\r\n",
      "    \u001b[37m}\u001b[0m\u001b[37m,\r\n",
      "    \u001b[37m{\r\n",
      "      \u001b[0m\u001b[34;1m\"oskill\"\u001b[0m\u001b[37m: \u001b[0m\u001b[0m0\u001b[0m\u001b[37m,\r\n",
      "      \u001b[0m\u001b[34;1m\"canonical\"\u001b[0m\u001b[37m: \u001b[0m\u001b[0m0\u001b[0m\u001b[37m,\r\n",
      "      \u001b[0m\u001b[34;1m\"term\"\u001b[0m\u001b[37m: \u001b[0m\u001b[32m\"Rodham, Hillary Diane\"\u001b[0m\u001b[37m\r\n",
      "    \u001b[37m}\u001b[0m\u001b[37m,\r\n",
      "    \u001b[37m{\r\n",
      "      \u001b[0m\u001b[34;1m\"oskill\"\u001b[0m\u001b[37m: \u001b[0m\u001b[0m0\u001b[0m\u001b[37m,\r\n",
      "      \u001b[0m\u001b[34;1m\"canonical\"\u001b[0m\u001b[37m: \u001b[0m\u001b[0m0\u001b[0m\u001b[37m,\r\n",
      "      \u001b[0m\u001b[34;1m\"term\"\u001b[0m\u001b[37m: \u001b[0m\u001b[32m\"Hillary Clinton\"\u001b[0m\u001b[37m\r\n",
      "    \u001b[37m}\u001b[0m\u001b[37m,\r\n",
      "    \u001b[37m{\r\n",
      "      \u001b[0m\u001b[34;1m\"oskill\"\u001b[0m\u001b[37m: \u001b[0m\u001b[0m0\u001b[0m\u001b[37m,\r\n",
      "      \u001b[0m\u001b[34;1m\"canonical\"\u001b[0m\u001b[37m: \u001b[0m\u001b[0m0\u001b[0m\u001b[37m,\r\n",
      "      \u001b[0m\u001b[34;1m\"term\"\u001b[0m\u001b[37m: \u001b[0m\u001b[32m\"Clinton hillary\"\u001b[0m\u001b[37m\r\n",
      "    \u001b[37m}\u001b[0m\u001b[37m,\r\n",
      "    \u001b[37m{\r\n",
      "      \u001b[0m\u001b[34;1m\"oskill\"\u001b[0m\u001b[37m: \u001b[0m\u001b[0m0\u001b[0m\u001b[37m,\r\n",
      "      \u001b[0m\u001b[34;1m\"canonical\"\u001b[0m\u001b[37m: \u001b[0m\u001b[0m0\u001b[0m\u001b[37m,\r\n",
      "      \u001b[0m\u001b[34;1m\"term\"\u001b[0m\u001b[37m: \u001b[0m\u001b[32m\"Mrs. Bill Clinton\"\u001b[0m\u001b[37m\r\n",
      "    \u001b[37m}\u001b[0m\u001b[37m,\r\n",
      "    \u001b[37m{\r\n",
      "      \u001b[0m\u001b[34;1m\"oskill\"\u001b[0m\u001b[37m: \u001b[0m\u001b[0m0\u001b[0m\u001b[37m,\r\n",
      "      \u001b[0m\u001b[34;1m\"canonical\"\u001b[0m\u001b[37m: \u001b[0m\u001b[0m0\u001b[0m\u001b[37m,\r\n",
      "      \u001b[0m\u001b[34;1m\"term\"\u001b[0m\u001b[37m: \u001b[0m\u001b[32m\"Mrs Bill Clinton\"\u001b[0m\u001b[37m\r\n",
      "    \u001b[37m}\u001b[0m\u001b[37m,\r\n",
      "    \u001b[37m{\r\n",
      "      \u001b[0m\u001b[34;1m\"oskill\"\u001b[0m\u001b[37m: \u001b[0m\u001b[0m0\u001b[0m\u001b[37m,\r\n",
      "      \u001b[0m\u001b[34;1m\"canonical\"\u001b[0m\u001b[37m: \u001b[0m\u001b[0m0\u001b[0m\u001b[37m,\r\n",
      "      \u001b[0m\u001b[34;1m\"term\"\u001b[0m\u001b[37m: \u001b[0m\u001b[32m\"Hillary Rodham Klinton\"\u001b[0m\u001b[37m\r\n",
      "    \u001b[37m}\u001b[0m\u001b[37m,\r\n",
      "    \u001b[37m{\r\n",
      "      \u001b[0m\u001b[34;1m\"oskill\"\u001b[0m\u001b[37m: \u001b[0m\u001b[0m0\u001b[0m\u001b[37m,\r\n",
      "      \u001b[0m\u001b[34;1m\"canonical\"\u001b[0m\u001b[37m: \u001b[0m\u001b[0m0\u001b[0m\u001b[37m,\r\n",
      "      \u001b[0m\u001b[34;1m\"term\"\u001b[0m\u001b[37m: \u001b[0m\u001b[32m\"Hillary Klinton\"\u001b[0m\u001b[37m\r\n",
      "    \u001b[37m}\u001b[0m\u001b[37m,\r\n",
      "    \u001b[37m{\r\n",
      "      \u001b[0m\u001b[34;1m\"oskill\"\u001b[0m\u001b[37m: \u001b[0m\u001b[0m0\u001b[0m\u001b[37m,\r\n",
      "      \u001b[0m\u001b[34;1m\"canonical\"\u001b[0m\u001b[37m: \u001b[0m\u001b[0m0\u001b[0m\u001b[37m,\r\n",
      "      \u001b[0m\u001b[34;1m\"term\"\u001b[0m\u001b[37m: \u001b[0m\u001b[32m\"Secretary of State Hillary Clinton\"\u001b[0m\u001b[37m\r\n",
      "    \u001b[37m}\u001b[0m\u001b[37m,\r\n",
      "    \u001b[37m{\r\n",
      "      \u001b[0m\u001b[34;1m\"oskill\"\u001b[0m\u001b[37m: \u001b[0m\u001b[0m0\u001b[0m\u001b[37m,\r\n",
      "      \u001b[0m\u001b[34;1m\"canonical\"\u001b[0m\u001b[37m: \u001b[0m\u001b[0m0\u001b[0m\u001b[37m,\r\n",
      "      \u001b[0m\u001b[34;1m\"term\"\u001b[0m\u001b[37m: \u001b[0m\u001b[32m\"H.R. Clinton\"\u001b[0m\u001b[37m\r\n",
      "    \u001b[37m}\u001b[0m\u001b[37m,\r\n",
      "    \u001b[37m{\r\n",
      "      \u001b[0m\u001b[34;1m\"oskill\"\u001b[0m\u001b[37m: \u001b[0m\u001b[0m0\u001b[0m\u001b[37m,\r\n",
      "      \u001b[0m\u001b[34;1m\"canonical\"\u001b[0m\u001b[37m: \u001b[0m\u001b[0m0\u001b[0m\u001b[37m,\r\n",
      "      \u001b[0m\u001b[34;1m\"term\"\u001b[0m\u001b[37m: \u001b[0m\u001b[32m\"Secretary Clinton\"\u001b[0m\u001b[37m\r\n",
      "    \u001b[37m}\u001b[0m\u001b[37m,\r\n",
      "    \u001b[37m{\r\n",
      "      \u001b[0m\u001b[34;1m\"oskill\"\u001b[0m\u001b[37m: \u001b[0m\u001b[0m0\u001b[0m\u001b[37m,\r\n",
      "      \u001b[0m\u001b[34;1m\"canonical\"\u001b[0m\u001b[37m: \u001b[0m\u001b[0m0\u001b[0m\u001b[37m,\r\n",
      "      \u001b[0m\u001b[34;1m\"term\"\u001b[0m\u001b[37m: \u001b[0m\u001b[32m\"H. Clinton\"\u001b[0m\u001b[37m\r\n",
      "    \u001b[37m}\u001b[0m\u001b[37m,\r\n",
      "    \u001b[37m{\r\n",
      "      \u001b[0m\u001b[34;1m\"oskill\"\u001b[0m\u001b[37m: \u001b[0m\u001b[0m0\u001b[0m\u001b[37m,\r\n",
      "      \u001b[0m\u001b[34;1m\"canonical\"\u001b[0m\u001b[37m: \u001b[0m\u001b[0m0\u001b[0m\u001b[37m,\r\n",
      "      \u001b[0m\u001b[34;1m\"term\"\u001b[0m\u001b[37m: \u001b[0m\u001b[32m\"Public image of Hillary clinton\"\u001b[0m\u001b[37m\r\n",
      "    \u001b[37m}\u001b[0m\u001b[37m,\r\n",
      "    \u001b[37m{\r\n",
      "      \u001b[0m\u001b[34;1m\"oskill\"\u001b[0m\u001b[37m: \u001b[0m\u001b[0m0\u001b[0m\u001b[37m,\r\n",
      "      \u001b[0m\u001b[34;1m\"canonical\"\u001b[0m\u001b[37m: \u001b[0m\u001b[0m0\u001b[0m\u001b[37m,\r\n",
      "      \u001b[0m\u001b[34;1m\"term\"\u001b[0m\u001b[37m: \u001b[0m\u001b[32m\"Hillery clinton\"\u001b[0m\u001b[37m\r\n",
      "    \u001b[37m}\u001b[0m\u001b[37m\r\n",
      "  \u001b[37m]\u001b[0m\u001b[37m,\r\n",
      "  \u001b[0m\u001b[34;1m\"message\"\u001b[0m\u001b[37m: \u001b[0m\u001b[32m\"success\"\u001b[0m\u001b[37m,\r\n",
      "  \u001b[0m\u001b[34;1m\"http\"\u001b[0m\u001b[37m: \u001b[0m\u001b[0m200\u001b[0m\u001b[37m\r\n",
      "\u001b[37m}\u001b[0m\r\n"
     ]
    }
   ],
   "source": [
    "!curl -s \"http://wikisynonyms.ipeirotis.com/api/Hillary_Clinton\" | jq ."
   ]
  },
  {
   "cell_type": "markdown",
   "metadata": {},
   "source": [
    "## Exercise\n",
    "\n",
    "The following websites contain listing of many useful APIs\n",
    "\n",
    "* https://www.mashape.com \n",
    "* http://www.programmableweb.com/\n",
    "* http://www.mashery.com/\n",
    "* http://apigee.com/ \n",
    "\n",
    "Mashape is my own personal favorite in terms of user-friendliness and also has examples directly expressed using CURL. but the others are pretty nice as well. Your task: search through these websites and find a web API that does something that you like. Use CURL to issue a web API call to this service. "
   ]
  },
  {
   "cell_type": "code",
   "execution_count": 29,
   "metadata": {
    "collapsed": false
   },
   "outputs": [
    {
     "name": "stdout",
     "output_type": "stream",
     "text": [
      "\u001b[37m{\r\n",
      "  \u001b[0m\u001b[34;1m\"response\"\u001b[0m\u001b[37m: \u001b[0m\u001b[37m{\r\n",
      "    \u001b[0m\u001b[34;1m\"query_params\"\u001b[0m\u001b[37m: \u001b[0m\u001b[37m{\r\n",
      "      \u001b[0m\u001b[34;1m\"controller\"\u001b[0m\u001b[37m: \u001b[0m\u001b[32m\"api/restaurants\"\u001b[0m\u001b[37m,\r\n",
      "      \u001b[0m\u001b[34;1m\"action\"\u001b[0m\u001b[37m: \u001b[0m\u001b[32m\"index\"\u001b[0m\u001b[37m,\r\n",
      "      \u001b[0m\u001b[34;1m\"format\"\u001b[0m\u001b[37m: \u001b[0m\u001b[32m\"json\"\u001b[0m\u001b[37m,\r\n",
      "      \u001b[0m\u001b[34;1m\"boro\"\u001b[0m\u001b[37m: \u001b[0m\u001b[32m\"manhattan\"\u001b[0m\u001b[37m,\r\n",
      "      \u001b[0m\u001b[34;1m\"dba\"\u001b[0m\u001b[37m: \u001b[0m\u001b[32m\"momofuku\"\u001b[0m\u001b[37m\r\n",
      "    \u001b[37m}\u001b[0m\u001b[37m,\r\n",
      "    \u001b[0m\u001b[34;1m\"data\"\u001b[0m\u001b[37m: \u001b[0m\u001b[37m[\r\n",
      "      \u001b[37m{\r\n",
      "        \u001b[0m\u001b[34;1m\"last_updated\"\u001b[0m\u001b[37m: \u001b[0m\u001b[32m\"2014-09-27T19:42:02.657Z\"\u001b[0m\u001b[37m,\r\n",
      "        \u001b[0m\u001b[34;1m\"total_inspections\"\u001b[0m\u001b[37m: \u001b[0m\u001b[0m5\u001b[0m\u001b[37m,\r\n",
      "        \u001b[0m\u001b[34;1m\"cuisine_type\"\u001b[0m\u001b[37m: \u001b[0m\u001b[32m\"American\"\u001b[0m\u001b[37m,\r\n",
      "        \u001b[0m\u001b[34;1m\"cuisine_code\"\u001b[0m\u001b[37m: \u001b[0m\u001b[32m\"03\"\u001b[0m\u001b[37m,\r\n",
      "        \u001b[0m\u001b[34;1m\"boro_name\"\u001b[0m\u001b[37m: \u001b[0m\u001b[32m\"Manhattan\"\u001b[0m\u001b[37m,\r\n",
      "        \u001b[0m\u001b[34;1m\"boro_code\"\u001b[0m\u001b[37m: \u001b[0m\u001b[0m1\u001b[0m\u001b[37m,\r\n",
      "        \u001b[0m\u001b[34;1m\"id\"\u001b[0m\u001b[37m: \u001b[0m\u001b[0m5376\u001b[0m\u001b[37m,\r\n",
      "        \u001b[0m\u001b[34;1m\"camis\"\u001b[0m\u001b[37m: \u001b[0m\u001b[0m41044671\u001b[0m\u001b[37m,\r\n",
      "        \u001b[0m\u001b[34;1m\"dba\"\u001b[0m\u001b[37m: \u001b[0m\u001b[32m\"MOMOFUKU KO\"\u001b[0m\u001b[37m,\r\n",
      "        \u001b[0m\u001b[34;1m\"building_number\"\u001b[0m\u001b[37m: \u001b[0m\u001b[32m\"163\"\u001b[0m\u001b[37m,\r\n",
      "        \u001b[0m\u001b[34;1m\"street_address\"\u001b[0m\u001b[37m: \u001b[0m\u001b[32m\"1 AVENUE\"\u001b[0m\u001b[37m,\r\n",
      "        \u001b[0m\u001b[34;1m\"zip_code\"\u001b[0m\u001b[37m: \u001b[0m\u001b[0m10003\u001b[0m\u001b[37m,\r\n",
      "        \u001b[0m\u001b[34;1m\"phone_number\"\u001b[0m\u001b[37m: \u001b[0m\u001b[32m\"9176995248\"\u001b[0m\u001b[37m,\r\n",
      "        \u001b[0m\u001b[34;1m\"current_grade\"\u001b[0m\u001b[37m: \u001b[0m\u001b[32m\"A\"\u001b[0m\u001b[37m\r\n",
      "      \u001b[37m}\u001b[0m\u001b[37m,\r\n",
      "      \u001b[37m{\r\n",
      "        \u001b[0m\u001b[34;1m\"last_updated\"\u001b[0m\u001b[37m: \u001b[0m\u001b[32m\"2014-09-27T19:46:12.324Z\"\u001b[0m\u001b[37m,\r\n",
      "        \u001b[0m\u001b[34;1m\"total_inspections\"\u001b[0m\u001b[37m: \u001b[0m\u001b[0m0\u001b[0m\u001b[37m,\r\n",
      "        \u001b[0m\u001b[34;1m\"cuisine_type\"\u001b[0m\u001b[37m: \u001b[0m\u001b[32m\"Asian\"\u001b[0m\u001b[37m,\r\n",
      "        \u001b[0m\u001b[34;1m\"cuisine_code\"\u001b[0m\u001b[37m: \u001b[0m\u001b[32m\"05\"\u001b[0m\u001b[37m,\r\n",
      "        \u001b[0m\u001b[34;1m\"boro_name\"\u001b[0m\u001b[37m: \u001b[0m\u001b[32m\"Manhattan\"\u001b[0m\u001b[37m,\r\n",
      "        \u001b[0m\u001b[34;1m\"boro_code\"\u001b[0m\u001b[37m: \u001b[0m\u001b[0m1\u001b[0m\u001b[37m,\r\n",
      "        \u001b[0m\u001b[34;1m\"id\"\u001b[0m\u001b[37m: \u001b[0m\u001b[0m6485\u001b[0m\u001b[37m,\r\n",
      "        \u001b[0m\u001b[34;1m\"camis\"\u001b[0m\u001b[37m: \u001b[0m\u001b[0m41201884\u001b[0m\u001b[37m,\r\n",
      "        \u001b[0m\u001b[34;1m\"dba\"\u001b[0m\u001b[37m: \u001b[0m\u001b[32m\"MOMOFUKU SSAM BAR\"\u001b[0m\u001b[37m,\r\n",
      "        \u001b[0m\u001b[34;1m\"building_number\"\u001b[0m\u001b[37m: \u001b[0m\u001b[32m\"207\"\u001b[0m\u001b[37m,\r\n",
      "        \u001b[0m\u001b[34;1m\"street_address\"\u001b[0m\u001b[37m: \u001b[0m\u001b[32m\"2 AVENUE\"\u001b[0m\u001b[37m,\r\n",
      "        \u001b[0m\u001b[34;1m\"zip_code\"\u001b[0m\u001b[37m: \u001b[0m\u001b[0m10003\u001b[0m\u001b[37m,\r\n",
      "        \u001b[0m\u001b[34;1m\"phone_number\"\u001b[0m\u001b[37m: \u001b[0m\u001b[32m\"2122543500\"\u001b[0m\u001b[37m,\r\n",
      "        \u001b[0m\u001b[34;1m\"current_grade\"\u001b[0m\u001b[37m: \u001b[0m\u001b[32m\"A\"\u001b[0m\u001b[37m\r\n",
      "      \u001b[37m}\u001b[0m\u001b[37m,\r\n",
      "      \u001b[37m{\r\n",
      "        \u001b[0m\u001b[34;1m\"last_updated\"\u001b[0m\u001b[37m: \u001b[0m\u001b[32m\"2014-09-27T19:50:38.382Z\"\u001b[0m\u001b[37m,\r\n",
      "        \u001b[0m\u001b[34;1m\"total_inspections\"\u001b[0m\u001b[37m: \u001b[0m\u001b[0m1\u001b[0m\u001b[37m,\r\n",
      "        \u001b[0m\u001b[34;1m\"cuisine_type\"\u001b[0m\u001b[37m: \u001b[0m\u001b[32m\"Asian\"\u001b[0m\u001b[37m,\r\n",
      "        \u001b[0m\u001b[34;1m\"cuisine_code\"\u001b[0m\u001b[37m: \u001b[0m\u001b[32m\"05\"\u001b[0m\u001b[37m,\r\n",
      "        \u001b[0m\u001b[34;1m\"boro_name\"\u001b[0m\u001b[37m: \u001b[0m\u001b[32m\"Manhattan\"\u001b[0m\u001b[37m,\r\n",
      "        \u001b[0m\u001b[34;1m\"boro_code\"\u001b[0m\u001b[37m: \u001b[0m\u001b[0m1\u001b[0m\u001b[37m,\r\n",
      "        \u001b[0m\u001b[34;1m\"id\"\u001b[0m\u001b[37m: \u001b[0m\u001b[0m7617\u001b[0m\u001b[37m,\r\n",
      "        \u001b[0m\u001b[34;1m\"camis\"\u001b[0m\u001b[37m: \u001b[0m\u001b[0m41293936\u001b[0m\u001b[37m,\r\n",
      "        \u001b[0m\u001b[34;1m\"dba\"\u001b[0m\u001b[37m: \u001b[0m\u001b[32m\"MOMOFUKU NOODLE BAR\"\u001b[0m\u001b[37m,\r\n",
      "        \u001b[0m\u001b[34;1m\"building_number\"\u001b[0m\u001b[37m: \u001b[0m\u001b[32m\"171\"\u001b[0m\u001b[37m,\r\n",
      "        \u001b[0m\u001b[34;1m\"street_address\"\u001b[0m\u001b[37m: \u001b[0m\u001b[32m\"1 AVENUE\"\u001b[0m\u001b[37m,\r\n",
      "        \u001b[0m\u001b[34;1m\"zip_code\"\u001b[0m\u001b[37m: \u001b[0m\u001b[0m10003\u001b[0m\u001b[37m,\r\n",
      "        \u001b[0m\u001b[34;1m\"phone_number\"\u001b[0m\u001b[37m: \u001b[0m\u001b[32m\"2127777773\"\u001b[0m\u001b[37m,\r\n",
      "        \u001b[0m\u001b[34;1m\"current_grade\"\u001b[0m\u001b[37m: \u001b[0m\u001b[32m\"B\"\u001b[0m\u001b[37m\r\n",
      "      \u001b[37m}\u001b[0m\u001b[37m,\r\n",
      "      \u001b[37m{\r\n",
      "        \u001b[0m\u001b[34;1m\"last_updated\"\u001b[0m\u001b[37m: \u001b[0m\u001b[32m\"2014-09-27T20:00:53.046Z\"\u001b[0m\u001b[37m,\r\n",
      "        \u001b[0m\u001b[34;1m\"total_inspections\"\u001b[0m\u001b[37m: \u001b[0m\u001b[0m1\u001b[0m\u001b[37m,\r\n",
      "        \u001b[0m\u001b[34;1m\"cuisine_type\"\u001b[0m\u001b[37m: \u001b[0m\u001b[32m\"American\"\u001b[0m\u001b[37m,\r\n",
      "        \u001b[0m\u001b[34;1m\"cuisine_code\"\u001b[0m\u001b[37m: \u001b[0m\u001b[32m\"03\"\u001b[0m\u001b[37m,\r\n",
      "        \u001b[0m\u001b[34;1m\"boro_name\"\u001b[0m\u001b[37m: \u001b[0m\u001b[32m\"Manhattan\"\u001b[0m\u001b[37m,\r\n",
      "        \u001b[0m\u001b[34;1m\"boro_code\"\u001b[0m\u001b[37m: \u001b[0m\u001b[0m1\u001b[0m\u001b[37m,\r\n",
      "        \u001b[0m\u001b[34;1m\"id\"\u001b[0m\u001b[37m: \u001b[0m\u001b[0m10024\u001b[0m\u001b[37m,\r\n",
      "        \u001b[0m\u001b[34;1m\"camis\"\u001b[0m\u001b[37m: \u001b[0m\u001b[0m41431613\u001b[0m\u001b[37m,\r\n",
      "        \u001b[0m\u001b[34;1m\"dba\"\u001b[0m\u001b[37m: \u001b[0m\u001b[32m\"MOMOFUKU/ MA PECHE\"\u001b[0m\u001b[37m,\r\n",
      "        \u001b[0m\u001b[34;1m\"building_number\"\u001b[0m\u001b[37m: \u001b[0m\u001b[32m\"15\"\u001b[0m\u001b[37m,\r\n",
      "        \u001b[0m\u001b[34;1m\"street_address\"\u001b[0m\u001b[37m: \u001b[0m\u001b[32m\"WEST   56 STREET\"\u001b[0m\u001b[37m,\r\n",
      "        \u001b[0m\u001b[34;1m\"zip_code\"\u001b[0m\u001b[37m: \u001b[0m\u001b[0m10019\u001b[0m\u001b[37m,\r\n",
      "        \u001b[0m\u001b[34;1m\"phone_number\"\u001b[0m\u001b[37m: \u001b[0m\u001b[32m\"2122472011\"\u001b[0m\u001b[37m,\r\n",
      "        \u001b[0m\u001b[34;1m\"current_grade\"\u001b[0m\u001b[37m: \u001b[0m\u001b[32m\"A\"\u001b[0m\u001b[37m\r\n",
      "      \u001b[37m}\u001b[0m\u001b[37m,\r\n",
      "      \u001b[37m{\r\n",
      "        \u001b[0m\u001b[34;1m\"last_updated\"\u001b[0m\u001b[37m: \u001b[0m\u001b[32m\"2014-09-27T20:09:22.670Z\"\u001b[0m\u001b[37m,\r\n",
      "        \u001b[0m\u001b[34;1m\"total_inspections\"\u001b[0m\u001b[37m: \u001b[0m\u001b[0m0\u001b[0m\u001b[37m,\r\n",
      "        \u001b[0m\u001b[34;1m\"cuisine_type\"\u001b[0m\u001b[37m: \u001b[0m\u001b[32m\"American\"\u001b[0m\u001b[37m,\r\n",
      "        \u001b[0m\u001b[34;1m\"cuisine_code\"\u001b[0m\u001b[37m: \u001b[0m\u001b[32m\"03\"\u001b[0m\u001b[37m,\r\n",
      "        \u001b[0m\u001b[34;1m\"boro_name\"\u001b[0m\u001b[37m: \u001b[0m\u001b[32m\"Manhattan\"\u001b[0m\u001b[37m,\r\n",
      "        \u001b[0m\u001b[34;1m\"boro_code\"\u001b[0m\u001b[37m: \u001b[0m\u001b[0m1\u001b[0m\u001b[37m,\r\n",
      "        \u001b[0m\u001b[34;1m\"id\"\u001b[0m\u001b[37m: \u001b[0m\u001b[0m13084\u001b[0m\u001b[37m,\r\n",
      "        \u001b[0m\u001b[34;1m\"camis\"\u001b[0m\u001b[37m: \u001b[0m\u001b[0m41574266\u001b[0m\u001b[37m,\r\n",
      "        \u001b[0m\u001b[34;1m\"dba\"\u001b[0m\u001b[37m: \u001b[0m\u001b[32m\"MOMOFUKU MILK BAR EV\"\u001b[0m\u001b[37m,\r\n",
      "        \u001b[0m\u001b[34;1m\"building_number\"\u001b[0m\u001b[37m: \u001b[0m\u001b[32m\"251\"\u001b[0m\u001b[37m,\r\n",
      "        \u001b[0m\u001b[34;1m\"street_address\"\u001b[0m\u001b[37m: \u001b[0m\u001b[32m\"EAST   13 STREET\"\u001b[0m\u001b[37m,\r\n",
      "        \u001b[0m\u001b[34;1m\"zip_code\"\u001b[0m\u001b[37m: \u001b[0m\u001b[0m10003\u001b[0m\u001b[37m,\r\n",
      "        \u001b[0m\u001b[34;1m\"phone_number\"\u001b[0m\u001b[37m: \u001b[0m\u001b[32m\"9177100029\"\u001b[0m\u001b[37m,\r\n",
      "        \u001b[0m\u001b[34;1m\"current_grade\"\u001b[0m\u001b[37m: \u001b[0m\u001b[32m\"A\"\u001b[0m\u001b[37m\r\n",
      "      \u001b[37m}\u001b[0m\u001b[37m\r\n",
      "    \u001b[37m]\u001b[0m\u001b[37m\r\n",
      "  \u001b[37m}\u001b[0m\u001b[37m\r\n",
      "\u001b[37m}\u001b[0m\r\n"
     ]
    }
   ],
   "source": [
    "!curl --get -s 'https://drrobotmck-nyc-health-inspection-results-v1.p.mashape.com/restaurants?boro=manhattan&dba=momofuku' \\\n",
    "  -H 'X-Mashape-Key: zG3wec50exmshxNoF1NMHNRH37GYp1d7oW8jsnWwIMTeMmALxg' | jq ."
   ]
  },
  {
   "cell_type": "code",
   "execution_count": null,
   "metadata": {
    "collapsed": true
   },
   "outputs": [],
   "source": []
  }
 ],
 "metadata": {
  "kernelspec": {
   "display_name": "Python 2",
   "language": "python",
   "name": "python2"
  },
  "language_info": {
   "codemirror_mode": {
    "name": "ipython",
    "version": 2
   },
   "file_extension": ".py",
   "mimetype": "text/x-python",
   "name": "python",
   "nbconvert_exporter": "python",
   "pygments_lexer": "ipython2",
   "version": "2.7.6"
  }
 },
 "nbformat": 4,
 "nbformat_minor": 0
}
