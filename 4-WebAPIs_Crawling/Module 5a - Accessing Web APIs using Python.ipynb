{
 "cells": [
  {
   "cell_type": "markdown",
   "metadata": {},
   "source": [
    "## Interacting with Web APIs\n",
    "\n",
    "In our first class, we examined how to use `curl` to issue requests against web services. We will now see how to achieve the same in Python:"
   ]
  },
  {
   "cell_type": "code",
   "execution_count": null,
   "metadata": {
    "collapsed": false
   },
   "outputs": [],
   "source": [
    "# We first import the requests library\n",
    "import requests\n",
    "url = 'http://www.telize.com/geoip'\n",
    "resp = requests.get(url)"
   ]
  },
  {
   "cell_type": "code",
   "execution_count": null,
   "metadata": {
    "collapsed": false
   },
   "outputs": [],
   "source": [
    "# The resp object encapsulates the \"response\" of the server\n",
    "# Notice the status code that is displayed. \n",
    "# Code 200 means that things went fine\n",
    "# Code 404 means that the URL was not found\n",
    "# Codes 5xx mean that something went wrong\n",
    "\n",
    "resp"
   ]
  },
  {
   "cell_type": "code",
   "execution_count": null,
   "metadata": {
    "collapsed": false
   },
   "outputs": [],
   "source": [
    "# Let's see the content of the response\n",
    "# As you can see, it contain the JSON response\n",
    "resp.text"
   ]
  },
  {
   "cell_type": "code",
   "execution_count": null,
   "metadata": {
    "collapsed": false
   },
   "outputs": [],
   "source": [
    "# We want to transform the JSON file into a Python dictionary object\n",
    "# For that we will use the json library\n",
    "import json\n",
    "\n",
    "# The loads (LOADS = LOAD from String) function reads a string that represents a JSON file\n",
    "data = json.loads(resp.text)"
   ]
  },
  {
   "cell_type": "code",
   "execution_count": null,
   "metadata": {
    "collapsed": false
   },
   "outputs": [],
   "source": [
    "# Now data is a Python dictionary\n",
    "# The u'....' characters mean that the string is represented in Unicode\n",
    "data"
   ]
  },
  {
   "cell_type": "code",
   "execution_count": null,
   "metadata": {
    "collapsed": false
   },
   "outputs": [],
   "source": [
    "# And we can access the fields of the JSON as we normally access Python dictionary entries\n",
    "print \"Lon:\", data[\"longitude\"], \"Lat:\", data[\"latitude\"]"
   ]
  },
  {
   "cell_type": "markdown",
   "metadata": {},
   "source": [
    "### Exercise\n",
    "\n",
    "In Assignment 1, you had to use curl, jq, and Unix pipes to tie together all the elements. Now, repeat the exercise using Python."
   ]
  },
  {
   "cell_type": "code",
   "execution_count": null,
   "metadata": {
    "collapsed": false
   },
   "outputs": [],
   "source": [
    "#your code here\n",
    "# Get Long/lat from telize API\n",
    "import requests\n",
    "import json\n",
    "url = 'http://www.telize.com/geoip'\n",
    "resp = requests.get(url)\n",
    "data = json.loads(resp.text)\n",
    "lon = data[\"longitude\"]\n",
    "lat = data[\"latitude\"]\n",
    "\n",
    "# api.openweathermap.org/data/2.5/weather?lat=35&lon=139\n",
    "# q=New York, NY, USA&units=imperial&mode=json\" | jq .\n",
    "url2 = 'http://api.openweathermap.org/data/2.5/history/city?lat='+str(lat)+'&lon='+str(lon)\n",
    "print url2\n",
    "resp = requests.get(url2)\n",
    "data = json.loads(resp.text)\n",
    "data"
   ]
  },
  {
   "cell_type": "markdown",
   "metadata": {},
   "source": [
    "## Beyond the basics: Parameters and Headers"
   ]
  },
  {
   "cell_type": "markdown",
   "metadata": {},
   "source": [
    "The first call that we submitted was very simple. We just fetched a URL, which was represented as a string. However, calling web services by manually concatenating strings to create URLs is not a good practice. It is always better to use a dictionary to pass the parameters to the API call; furthermore, we will often need to pass a set of _headers_ to the API call (as in the case of Mashape).\n",
    "\n",
    "Let's play a little bit with the FacePlusPlus API, with which we toyed around in our first session:"
   ]
  },
  {
   "cell_type": "code",
   "execution_count": null,
   "metadata": {
    "collapsed": false
   },
   "outputs": [],
   "source": [
    "import requests\n",
    "import re\n",
    "import json\n",
    "\n",
    "facepp_url = \"http://apius.faceplusplus.com/v2/detection/detect\"\n",
    "\n",
    "api_key = \"mVBdIZB8RQmshLh78IqUMiS75F94p1tbCo3jsnbsVI8aujOWWC\"\n",
    "api_secret = \"ukp1tT2_JUjS5kLF_j9h_wZrYZ1tIj-u\"\n",
    "img_url = \"http://static01.nyt.com/images/2015/01/25/magazine/25prader-willi-ss-slide-MQFT/25prader-willi-ss-slide-MQFT-jumbo.jpg\"\n",
    "\n",
    "headers = {\n",
    "  \n",
    "  \"Accept\": \"application/json\"\n",
    "}\n",
    "\n",
    "parameters = {\n",
    "    \"api_key\": api_key,\n",
    "    'api_secret': api_secret,\n",
    "    'Glass': 'glass',\n",
    "    'Gender': 'gender',\n",
    "    'age': 'age',\n",
    "    'race':'race',\n",
    "    'smile':'smiling',\n",
    "    'url': img_url\n",
    "}\n",
    "\n",
    "resp = requests.get(facepp_url, params=parameters, headers=headers)\n",
    "\n",
    "data = json.loads(resp.text)\n",
    "\n",
    "data"
   ]
  },
  {
   "cell_type": "code",
   "execution_count": null,
   "metadata": {
    "collapsed": false
   },
   "outputs": [],
   "source": [
    "# We can also pretty print the dictionary object\n",
    "print(json.dumps(data, indent=2))"
   ]
  },
  {
   "cell_type": "code",
   "execution_count": null,
   "metadata": {
    "collapsed": false
   },
   "outputs": [],
   "source": [
    "# And here is a more generic way to pretty print Python data structures, which works for many objects\n",
    "import pprint\n",
    "pprint.pprint(data)"
   ]
  },
  {
   "cell_type": "code",
   "execution_count": null,
   "metadata": {
    "collapsed": false
   },
   "outputs": [],
   "source": [
    "len(data[\"face\"])"
   ]
  },
  {
   "cell_type": "markdown",
   "metadata": {},
   "source": [
    "### Exercise\n",
    "\n",
    "Now, let's connect all the pieces together: Get the location from the IP address, query OpenWeatherMap for the weather "
   ]
  },
  {
   "cell_type": "code",
   "execution_count": null,
   "metadata": {
    "collapsed": true
   },
   "outputs": [],
   "source": []
  }
 ],
 "metadata": {
  "kernelspec": {
   "display_name": "Python 2",
   "language": "python",
   "name": "python2"
  },
  "language_info": {
   "codemirror_mode": {
    "name": "ipython",
    "version": 2
   },
   "file_extension": ".py",
   "mimetype": "text/x-python",
   "name": "python",
   "nbconvert_exporter": "python",
   "pygments_lexer": "ipython2",
   "version": "2.7.6"
  }
 },
 "nbformat": 4,
 "nbformat_minor": 0
}
