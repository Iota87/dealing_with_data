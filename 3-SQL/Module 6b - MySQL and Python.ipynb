{
 "cells": [
  {
   "cell_type": "markdown",
   "metadata": {},
   "source": [
    "### Python MySQLdb module"
   ]
  },
  {
   "cell_type": "markdown",
   "metadata": {},
   "source": [
    "To enable Python to access programatically the contents of MySQL, we need to install the package `python-mysqldb`. To do so, type:\n",
    "\n",
    "`sudo apt-get install python-mysqldb`"
   ]
  },
  {
   "cell_type": "markdown",
   "metadata": {},
   "source": [
    "Now, let's try our first connection to the database:"
   ]
  },
  {
   "cell_type": "code",
   "execution_count": 1,
   "metadata": {
    "collapsed": false
   },
   "outputs": [],
   "source": [
    "import MySQLdb as mdb\n",
    "import sys\n",
    "\n",
    "# The connect() method has four parameters. \n",
    "# The first parameter is the host, where the MySQL database is located. \n",
    "# In our case it is a localhost, e.g. our computer. \n",
    "# The second parameter is the database user name. \n",
    "# It is followed by the user's account password. \n",
    "# The final parameter is the database name.\n",
    "host = 'ipython.ipeirotis.com'\n",
    "username = 'root'\n",
    "password = 'dwdstudent2015'\n",
    "database = 'imdb'\n",
    "\n",
    "con = mdb.connect(host, username, password, database, \n",
    "                charset='utf8', use_unicode=True);\n",
    "cur = con.cursor()\n",
    "cur.execute(\"SELECT VERSION()\")\n",
    "ver = cur.fetchone()\n",
    "print \"Database version:\", ver\n",
    "\n",
    "con.close()"
   ]
  },
  {
   "cell_type": "code",
   "execution_count": 2,
   "metadata": {
    "collapsed": false
   },
   "outputs": [
    {
     "name": "stdout",
     "output_type": "stream",
     "text": [
      "Database version: (u'5.5.46-0ubuntu0.14.04.2',)\n"
     ]
    }
   ],
   "source": []
  },
  {
   "cell_type": "markdown",
   "metadata": {},
   "source": [
    "And let's try our first query. You will use the `fetchall` command, which returns all the results."
   ]
  },
  {
   "cell_type": "code",
   "execution_count": 4,
   "metadata": {
    "collapsed": false,
    "scrolled": true
   },
   "outputs": [
    {
     "name": "stdout",
     "output_type": "stream",
     "text": [
      "((2L, u'Michael', u\"'babeepower' Viera\", u'M'), (3L, u'Eloy', u\"'Chincheta'\", u'M'), (4L, u'Dieguito', u\"'El Cigala'\", u'M'), (5L, u'Antonio', u\"'El de Chipiona'\", u'M'), (6L, u'Jos\\xe9', u\"'El Franc\\xe9s'\", u'M'), (7L, u'F\\xe9lix', u\"'El Gato'\", u'M'), (8L, u'Marcial', u\"'El Jalisco'\", u'M'), (9L, u'Jos\\xe9', u\"'El Morito'\", u'M'), (10L, u'Francisco', u\"'El Ni\\xf1o de la Manola'\", u'M'), (11L, u'V\\xedctor', u\"'El Payaso'\", u'M'), (12L, u'Antonio', u\"'El Pesca\\xedto'\", u'M'), (13L, u'Luis', u\"'El Plojo'\", u'M'), (14L, u'Janny', u\"'el Portugues'\", u'M'), (15L, u'Antonio', u\"'El Rilete'\", u'M'), (16L, u'Baltazar', u\"'El Toro'\", u'M'), (17L, u'Luis Roberto', u\"'Formiga'\", u'M'), (18L, u'Murray the', u\"'K'\", u'M'), (19L, u'N\\xe9stor', u\"'Kick Boxer'\", u'M'), (20L, u'Tony', u\"'La Chispa'\", u'M'), (21L, u'Pollino', u\"'Romero'\", u'M'), (22L, u'Frans', u\"'t Hoen\", u'M'), (23L, u'Jorrit', u\"'t Hoen\", u'M'), (24L, u'Dick', u\"'t Hooft\", u'M'), (25L, u'Jacob', u\"'The Jeweler'\", u'M'), (26L, u'Izzy', u\"'The Religious Nut'\", u'M'), (27L, u\"Ka'olelo\", u\"'Ulaleo\", u'M'), (28L, u'Oswald', u\"'\\xd4'\", u'M'), (29L, u'Todd', u'1', u'M'), (30L, u'Mac', u'10', u'M'), (32L, u'Angel', u'11:11', u'M'), (33L, u'Nick', u'13', u'M'), (34L, u'Shaggy', u'2 Dope', u'M'), (35L, u'Mode', u'2', u'M'), (36L, u'Benjamin', u'2X', u'M'), (37L, u'The', u'3 Whippets', u'M'), (38L, u'Andr\\xe9', u'3000', u'M'), (40L, u'Articolo', u'31', u'M'), (41L, u\"Rappin'\", u'4-Tay', u'M'), (42L, u'The', u'4D Jones', u'M'), (43L, u'Mick', u'5', u'M'), (44L, u'James', u'52X', u'M'), (45L, u'Lucky', u'7', u'M'), (46L, u'Marc', u'7', u'M'), (47L, u'Equipe', u'84', u'M'), (48L, u'Ahmed', u'A El Rahim', u'M'), (49L, u'Dragan', u'a zovu ga Elvis', u'M'), (50L, u'Brett', u\"A'Hearn\", u'M'), (51L, u'Lejaren', u\"a'Hiller\", u'M'), (52L, u'Yussuf Abed', u\"A'Nur\", u'M'), (53L, u'Headhunter', u'A', u'M'), (55L, u'Yunga', u'A', u'M'), (56L, u'Cairns', u'A.', u'M'), (57L, u'Dominique', u'A.', u'M'), (58L, u'Narayana Rao', u'A.', u'M'), (59L, u'Prasad', u'A.', u'M'), (60L, u'Satyanarayana', u'A.', u'M'), (61L, u'Narayana', u'A.L.', u'M'), (62L, u'Raja', u'A.M.', u'M'), (63L, u'Krishna', u'A.R.', u'M'), (64L, u'Alwi', u'A.S.', u'M'), (65L, u'Giri', u'A.S.', u'M'), (66L, u'Subba Rao', u'A.V. Jr.', u'M'), (67L, u'Subba Rao', u'A.V.', u'M'), (68L, u'Brynjar', u'Aa', u'M'), (69L, u'Andreas', u'Aabel', u'M'), (70L, u'Hauk (I)', u'Aabel', u'M'), (71L, u'Per (I)', u'Aabel', u'M'), (72L, u'Palle', u'Aabentoft', u'M'), (73L, u'Dennis', u'Aaberg', u'M'), (74L, u'Linus (I)', u'Aaberg', u'M'), (75L, u'Linus (II)', u'Aaberg', u'M'), (76L, u'Kristian', u'Aaby', u'M'), (77L, u'Olaf', u'Aabye', u'M'), (78L, u'T\\xf8rres', u'Aadland', u'M'), (79L, u'Argo', u'Aadli', u'M'), (80L, u'Per', u'Aaeng', u'M'), (81L, u'Karl', u'Aagaard \\xd8stvig Jr.', u'M'), (82L, u'Carl Powl', u'Aagaard', u'M'), (83L, u'Egon', u'Aagaard', u'M'), (84L, u'Jesper', u'Aagaard', u'M'), (85L, u'Lasse', u'Aagaard', u'M'), (86L, u'Sebastian', u'Aagaard-Williams', u'M'), (87L, u'Karl', u'Aagard \\xd8stvig', u'M'), (88L, u'Per', u'Aage Brandt', u'M'), (89L, u'Jan', u'Aagre', u'M'), (90L, u'Thomas', u'Aagren', u'M'), (91L, u'Dee', u'Aaker', u'M'), (92L, u'Lee', u'Aaker', u'M'), (93L, u'Kim Fupz', u'Aakeson', u'M'), (94L, u'Steve', u'Aalam', u'M'), (95L, u'Freddy', u'Aalbeck', u'M'), (96L, u'George', u'Aalbregise', u'M'), (97L, u'Niels', u'Aalb\\xe6k Jensen', u'M'), (98L, u'Karsten', u'Aalholm', u'M'), (99L, u'Preben', u'Aalholt', u'M'), (100L, u'Henri', u'Aalto', u'M'), (101L, u'Keijo', u'Aalto', u'M'), (102L, u'Petri', u'Aalto', u'M'), (103L, u'Rostislav', u'Aalto', u'M'), (106L, u'Pauli', u'Aalto-Set\\xe4l\\xe4', u'M'))\n"
     ]
    }
   ],
   "source": [
    "import MySQLdb as mdb\n",
    "import sys\n",
    "\n",
    "# Now we create a table and populate it with some data.\n",
    "con = mdb.connect(host, username, password, database, charset='utf8', use_unicode=True);\n",
    "\n",
    "with con:\n",
    "    cur = con.cursor()\n",
    "    cur.execute(\"SELECT * FROM actors LIMIT 100\")\n",
    "    results = cur.fetchall()\n",
    "\n",
    "print results"
   ]
  },
  {
   "cell_type": "code",
   "execution_count": 5,
   "metadata": {
    "collapsed": false
   },
   "outputs": [
    {
     "name": "stdout",
     "output_type": "stream",
     "text": [
      "((0L, 197L), (1L, 46557L), (2L, 13433L), (3L, 6346L), (4L, 3885L), (5L, 2632L), (6L, 1857L), (7L, 1472L), (8L, 1161L), (9L, 891L), (10L, 744L), (11L, 664L), (12L, 566L), (13L, 508L), (14L, 409L), (15L, 424L), (16L, 369L), (17L, 301L), (18L, 268L), (19L, 262L), (20L, 252L), (21L, 219L), (22L, 200L), (23L, 176L), (24L, 169L), (25L, 155L), (26L, 153L), (27L, 135L), (28L, 120L), (29L, 127L), (30L, 92L), (31L, 123L), (32L, 86L), (33L, 87L), (34L, 97L), (35L, 87L), (36L, 69L), (37L, 79L), (38L, 69L), (39L, 62L), (40L, 55L), (41L, 53L), (42L, 49L), (43L, 49L), (44L, 40L), (45L, 48L), (46L, 34L), (47L, 44L), (48L, 34L), (49L, 36L), (50L, 56L), (51L, 32L), (52L, 32L), (53L, 28L), (54L, 22L), (55L, 31L), (56L, 20L), (57L, 27L), (58L, 24L), (59L, 29L), (60L, 26L), (61L, 14L), (62L, 16L), (63L, 23L), (64L, 17L), (65L, 12L), (66L, 17L), (67L, 15L), (68L, 18L), (69L, 17L), (70L, 18L), (71L, 10L), (72L, 15L), (73L, 15L), (74L, 11L), (75L, 16L), (76L, 14L), (77L, 8L), (78L, 13L), (79L, 7L), (80L, 14L), (81L, 14L), (82L, 7L), (83L, 11L), (84L, 9L), (85L, 11L), (86L, 7L), (87L, 10L), (88L, 6L), (89L, 11L), (90L, 5L), (91L, 7L), (92L, 9L), (93L, 3L), (94L, 6L), (95L, 7L), (96L, 2L), (97L, 9L), (98L, 7L), (99L, 5L), (100L, 4L), (101L, 6L), (102L, 5L), (103L, 2L), (104L, 4L), (105L, 4L), (106L, 3L), (107L, 3L), (108L, 5L), (109L, 2L), (110L, 6L), (111L, 2L), (112L, 5L), (113L, 1L), (114L, 4L), (115L, 3L), (116L, 5L), (117L, 2L), (118L, 1L), (119L, 6L), (120L, 2L), (121L, 1L), (123L, 1L), (124L, 2L), (125L, 2L), (128L, 3L), (129L, 2L), (130L, 3L), (131L, 3L), (133L, 3L), (134L, 2L), (135L, 1L), (136L, 2L), (138L, 1L), (139L, 3L), (141L, 2L), (142L, 4L), (143L, 1L), (144L, 2L), (145L, 1L), (146L, 1L), (147L, 1L), (150L, 1L), (151L, 1L), (152L, 2L), (154L, 1L), (155L, 2L), (156L, 1L), (158L, 1L), (160L, 1L), (163L, 3L), (164L, 2L), (166L, 1L), (169L, 1L), (172L, 1L), (173L, 2L), (181L, 1L), (186L, 1L), (187L, 1L), (190L, 2L), (194L, 1L), (195L, 1L), (196L, 1L), (201L, 1L), (205L, 1L), (206L, 1L), (210L, 1L), (211L, 1L), (215L, 1L), (222L, 1L), (227L, 1L), (232L, 1L), (244L, 1L), (253L, 1L), (268L, 1L), (269L, 1L), (270L, 1L), (277L, 1L), (281L, 1L), (282L, 1L), (290L, 1L), (294L, 1L), (313L, 1L), (317L, 1L), (323L, 1L), (331L, 1L), (351L, 1L), (360L, 1L), (536L, 1L), (562L, 1L), (619L, 1L))\n"
     ]
    }
   ],
   "source": [
    "sql_query = '''SELECT num_movies, COUNT(*) AS num_directors \n",
    "FROM director_statistics\n",
    "GROUP BY num_movies\n",
    "ORDER BY num_movies;'''\n",
    "\n",
    "with con:\n",
    "    cur = con.cursor()\n",
    "    cur.execute(sql_query)\n",
    "    results = cur.fetchall()\n",
    "\n",
    "print results"
   ]
  },
  {
   "cell_type": "markdown",
   "metadata": {},
   "source": [
    "Now, let's fetch the data line by line, to avoid having long execution times when fetching the results"
   ]
  },
  {
   "cell_type": "code",
   "execution_count": null,
   "metadata": {
    "collapsed": false
   },
   "outputs": [],
   "source": [
    "import MySQLdb as mdb\n",
    "import sys\n",
    "\n",
    "# Returning all data at a time may not be feasible. We can fetch rows one by one.\n",
    "with con:\n",
    "    cur = con.cursor()\n",
    "    cur.execute(\"SELECT * FROM actors LIMIT 100\")\n",
    "# We fetch the rows one by one using the fetchone() method. \n",
    "# The rowcount property gives the number of rows returned by the SQL statement.\n",
    "    for i in range(cur.rowcount):\n",
    "        row = cur.fetchone()\n",
    "        print row[0], row[1], row[2]"
   ]
  },
  {
   "cell_type": "markdown",
   "metadata": {},
   "source": [
    "**The dictionary cursor:** There are multiple cursor types in the MySQLdb module. The default cursor returns the data in a tuple of tuples. When we use a dictionary cursor (`mdb.cursors.DictCursor`), the data is placed in a Python dictionary, which allows us to refer to the data by their column names."
   ]
  },
  {
   "cell_type": "code",
   "execution_count": 7,
   "metadata": {
    "collapsed": false
   },
   "outputs": [
    {
     "name": "stdout",
     "output_type": "stream",
     "text": [
      "{'num_movies': 0L, 'num_directors': 197L}\n",
      "{'num_movies': 1L, 'num_directors': 46557L}\n",
      "{'num_movies': 2L, 'num_directors': 13433L}\n",
      "{'num_movies': 3L, 'num_directors': 6346L}\n",
      "{'num_movies': 4L, 'num_directors': 3885L}\n",
      "{'num_movies': 5L, 'num_directors': 2632L}\n",
      "{'num_movies': 6L, 'num_directors': 1857L}\n",
      "{'num_movies': 7L, 'num_directors': 1472L}\n",
      "{'num_movies': 8L, 'num_directors': 1161L}\n",
      "{'num_movies': 9L, 'num_directors': 891L}\n",
      "{'num_movies': 10L, 'num_directors': 744L}\n",
      "{'num_movies': 11L, 'num_directors': 664L}\n",
      "{'num_movies': 12L, 'num_directors': 566L}\n",
      "{'num_movies': 13L, 'num_directors': 508L}\n",
      "{'num_movies': 14L, 'num_directors': 409L}\n",
      "{'num_movies': 15L, 'num_directors': 424L}\n",
      "{'num_movies': 16L, 'num_directors': 369L}\n",
      "{'num_movies': 17L, 'num_directors': 301L}\n",
      "{'num_movies': 18L, 'num_directors': 268L}\n",
      "{'num_movies': 19L, 'num_directors': 262L}\n",
      "{'num_movies': 20L, 'num_directors': 252L}\n",
      "{'num_movies': 21L, 'num_directors': 219L}\n",
      "{'num_movies': 22L, 'num_directors': 200L}\n",
      "{'num_movies': 23L, 'num_directors': 176L}\n",
      "{'num_movies': 24L, 'num_directors': 169L}\n",
      "{'num_movies': 25L, 'num_directors': 155L}\n",
      "{'num_movies': 26L, 'num_directors': 153L}\n",
      "{'num_movies': 27L, 'num_directors': 135L}\n",
      "{'num_movies': 28L, 'num_directors': 120L}\n",
      "{'num_movies': 29L, 'num_directors': 127L}\n",
      "{'num_movies': 30L, 'num_directors': 92L}\n",
      "{'num_movies': 31L, 'num_directors': 123L}\n",
      "{'num_movies': 32L, 'num_directors': 86L}\n",
      "{'num_movies': 33L, 'num_directors': 87L}\n",
      "{'num_movies': 34L, 'num_directors': 97L}\n",
      "{'num_movies': 35L, 'num_directors': 87L}\n",
      "{'num_movies': 36L, 'num_directors': 69L}\n",
      "{'num_movies': 37L, 'num_directors': 79L}\n",
      "{'num_movies': 38L, 'num_directors': 69L}\n",
      "{'num_movies': 39L, 'num_directors': 62L}\n",
      "{'num_movies': 40L, 'num_directors': 55L}\n",
      "{'num_movies': 41L, 'num_directors': 53L}\n",
      "{'num_movies': 42L, 'num_directors': 49L}\n",
      "{'num_movies': 43L, 'num_directors': 49L}\n",
      "{'num_movies': 44L, 'num_directors': 40L}\n",
      "{'num_movies': 45L, 'num_directors': 48L}\n",
      "{'num_movies': 46L, 'num_directors': 34L}\n",
      "{'num_movies': 47L, 'num_directors': 44L}\n",
      "{'num_movies': 48L, 'num_directors': 34L}\n",
      "{'num_movies': 49L, 'num_directors': 36L}\n",
      "{'num_movies': 50L, 'num_directors': 56L}\n",
      "{'num_movies': 51L, 'num_directors': 32L}\n",
      "{'num_movies': 52L, 'num_directors': 32L}\n",
      "{'num_movies': 53L, 'num_directors': 28L}\n",
      "{'num_movies': 54L, 'num_directors': 22L}\n",
      "{'num_movies': 55L, 'num_directors': 31L}\n",
      "{'num_movies': 56L, 'num_directors': 20L}\n",
      "{'num_movies': 57L, 'num_directors': 27L}\n",
      "{'num_movies': 58L, 'num_directors': 24L}\n",
      "{'num_movies': 59L, 'num_directors': 29L}\n",
      "{'num_movies': 60L, 'num_directors': 26L}\n",
      "{'num_movies': 61L, 'num_directors': 14L}\n",
      "{'num_movies': 62L, 'num_directors': 16L}\n",
      "{'num_movies': 63L, 'num_directors': 23L}\n",
      "{'num_movies': 64L, 'num_directors': 17L}\n",
      "{'num_movies': 65L, 'num_directors': 12L}\n",
      "{'num_movies': 66L, 'num_directors': 17L}\n",
      "{'num_movies': 67L, 'num_directors': 15L}\n",
      "{'num_movies': 68L, 'num_directors': 18L}\n",
      "{'num_movies': 69L, 'num_directors': 17L}\n",
      "{'num_movies': 70L, 'num_directors': 18L}\n",
      "{'num_movies': 71L, 'num_directors': 10L}\n",
      "{'num_movies': 72L, 'num_directors': 15L}\n",
      "{'num_movies': 73L, 'num_directors': 15L}\n",
      "{'num_movies': 74L, 'num_directors': 11L}\n",
      "{'num_movies': 75L, 'num_directors': 16L}\n",
      "{'num_movies': 76L, 'num_directors': 14L}\n",
      "{'num_movies': 77L, 'num_directors': 8L}\n",
      "{'num_movies': 78L, 'num_directors': 13L}\n",
      "{'num_movies': 79L, 'num_directors': 7L}\n",
      "{'num_movies': 80L, 'num_directors': 14L}\n",
      "{'num_movies': 81L, 'num_directors': 14L}\n",
      "{'num_movies': 82L, 'num_directors': 7L}\n",
      "{'num_movies': 83L, 'num_directors': 11L}\n",
      "{'num_movies': 84L, 'num_directors': 9L}\n",
      "{'num_movies': 85L, 'num_directors': 11L}\n",
      "{'num_movies': 86L, 'num_directors': 7L}\n",
      "{'num_movies': 87L, 'num_directors': 10L}\n",
      "{'num_movies': 88L, 'num_directors': 6L}\n",
      "{'num_movies': 89L, 'num_directors': 11L}\n",
      "{'num_movies': 90L, 'num_directors': 5L}\n",
      "{'num_movies': 91L, 'num_directors': 7L}\n",
      "{'num_movies': 92L, 'num_directors': 9L}\n",
      "{'num_movies': 93L, 'num_directors': 3L}\n",
      "{'num_movies': 94L, 'num_directors': 6L}\n",
      "{'num_movies': 95L, 'num_directors': 7L}\n",
      "{'num_movies': 96L, 'num_directors': 2L}\n",
      "{'num_movies': 97L, 'num_directors': 9L}\n",
      "{'num_movies': 98L, 'num_directors': 7L}\n",
      "{'num_movies': 99L, 'num_directors': 5L}\n",
      "{'num_movies': 100L, 'num_directors': 4L}\n",
      "{'num_movies': 101L, 'num_directors': 6L}\n",
      "{'num_movies': 102L, 'num_directors': 5L}\n",
      "{'num_movies': 103L, 'num_directors': 2L}\n",
      "{'num_movies': 104L, 'num_directors': 4L}\n",
      "{'num_movies': 105L, 'num_directors': 4L}\n",
      "{'num_movies': 106L, 'num_directors': 3L}\n",
      "{'num_movies': 107L, 'num_directors': 3L}\n",
      "{'num_movies': 108L, 'num_directors': 5L}\n",
      "{'num_movies': 109L, 'num_directors': 2L}\n",
      "{'num_movies': 110L, 'num_directors': 6L}\n",
      "{'num_movies': 111L, 'num_directors': 2L}\n",
      "{'num_movies': 112L, 'num_directors': 5L}\n",
      "{'num_movies': 113L, 'num_directors': 1L}\n",
      "{'num_movies': 114L, 'num_directors': 4L}\n",
      "{'num_movies': 115L, 'num_directors': 3L}\n",
      "{'num_movies': 116L, 'num_directors': 5L}\n",
      "{'num_movies': 117L, 'num_directors': 2L}\n",
      "{'num_movies': 118L, 'num_directors': 1L}\n",
      "{'num_movies': 119L, 'num_directors': 6L}\n",
      "{'num_movies': 120L, 'num_directors': 2L}\n",
      "{'num_movies': 121L, 'num_directors': 1L}\n",
      "{'num_movies': 123L, 'num_directors': 1L}\n",
      "{'num_movies': 124L, 'num_directors': 2L}\n",
      "{'num_movies': 125L, 'num_directors': 2L}\n",
      "{'num_movies': 128L, 'num_directors': 3L}\n",
      "{'num_movies': 129L, 'num_directors': 2L}\n",
      "{'num_movies': 130L, 'num_directors': 3L}\n",
      "{'num_movies': 131L, 'num_directors': 3L}\n",
      "{'num_movies': 133L, 'num_directors': 3L}\n",
      "{'num_movies': 134L, 'num_directors': 2L}\n",
      "{'num_movies': 135L, 'num_directors': 1L}\n",
      "{'num_movies': 136L, 'num_directors': 2L}\n",
      "{'num_movies': 138L, 'num_directors': 1L}\n",
      "{'num_movies': 139L, 'num_directors': 3L}\n",
      "{'num_movies': 141L, 'num_directors': 2L}\n",
      "{'num_movies': 142L, 'num_directors': 4L}\n",
      "{'num_movies': 143L, 'num_directors': 1L}\n",
      "{'num_movies': 144L, 'num_directors': 2L}\n",
      "{'num_movies': 145L, 'num_directors': 1L}\n",
      "{'num_movies': 146L, 'num_directors': 1L}\n",
      "{'num_movies': 147L, 'num_directors': 1L}\n",
      "{'num_movies': 150L, 'num_directors': 1L}\n",
      "{'num_movies': 151L, 'num_directors': 1L}\n",
      "{'num_movies': 152L, 'num_directors': 2L}\n",
      "{'num_movies': 154L, 'num_directors': 1L}\n",
      "{'num_movies': 155L, 'num_directors': 2L}\n",
      "{'num_movies': 156L, 'num_directors': 1L}\n",
      "{'num_movies': 158L, 'num_directors': 1L}\n",
      "{'num_movies': 160L, 'num_directors': 1L}\n",
      "{'num_movies': 163L, 'num_directors': 3L}\n",
      "{'num_movies': 164L, 'num_directors': 2L}\n",
      "{'num_movies': 166L, 'num_directors': 1L}\n",
      "{'num_movies': 169L, 'num_directors': 1L}\n",
      "{'num_movies': 172L, 'num_directors': 1L}\n",
      "{'num_movies': 173L, 'num_directors': 2L}\n",
      "{'num_movies': 181L, 'num_directors': 1L}\n",
      "{'num_movies': 186L, 'num_directors': 1L}\n",
      "{'num_movies': 187L, 'num_directors': 1L}\n",
      "{'num_movies': 190L, 'num_directors': 2L}\n",
      "{'num_movies': 194L, 'num_directors': 1L}\n",
      "{'num_movies': 195L, 'num_directors': 1L}\n",
      "{'num_movies': 196L, 'num_directors': 1L}\n",
      "{'num_movies': 201L, 'num_directors': 1L}\n",
      "{'num_movies': 205L, 'num_directors': 1L}\n",
      "{'num_movies': 206L, 'num_directors': 1L}\n",
      "{'num_movies': 210L, 'num_directors': 1L}\n",
      "{'num_movies': 211L, 'num_directors': 1L}\n",
      "{'num_movies': 215L, 'num_directors': 1L}\n",
      "{'num_movies': 222L, 'num_directors': 1L}\n",
      "{'num_movies': 227L, 'num_directors': 1L}\n",
      "{'num_movies': 232L, 'num_directors': 1L}\n",
      "{'num_movies': 244L, 'num_directors': 1L}\n",
      "{'num_movies': 253L, 'num_directors': 1L}\n",
      "{'num_movies': 268L, 'num_directors': 1L}\n",
      "{'num_movies': 269L, 'num_directors': 1L}\n",
      "{'num_movies': 270L, 'num_directors': 1L}\n",
      "{'num_movies': 277L, 'num_directors': 1L}\n",
      "{'num_movies': 281L, 'num_directors': 1L}\n",
      "{'num_movies': 282L, 'num_directors': 1L}\n",
      "{'num_movies': 290L, 'num_directors': 1L}\n",
      "{'num_movies': 294L, 'num_directors': 1L}\n",
      "{'num_movies': 313L, 'num_directors': 1L}\n",
      "{'num_movies': 317L, 'num_directors': 1L}\n",
      "{'num_movies': 323L, 'num_directors': 1L}\n",
      "{'num_movies': 331L, 'num_directors': 1L}\n",
      "{'num_movies': 351L, 'num_directors': 1L}\n",
      "{'num_movies': 360L, 'num_directors': 1L}\n",
      "{'num_movies': 536L, 'num_directors': 1L}\n",
      "{'num_movies': 562L, 'num_directors': 1L}\n",
      "{'num_movies': 619L, 'num_directors': 1L}\n"
     ]
    }
   ],
   "source": [
    "import MySQLdb as mdb\n",
    "import sys\n",
    "\n",
    "# The dictionary cursor\n",
    "# There are multiple cursor types in the MySQLdb module. \n",
    "# The default cursor returns the data in a tuple of tuples. \n",
    "# When we use a dictionary cursor, the data is sent in a form of Python dictionaries. \n",
    "# This way we can refer to the data by their column names.\n",
    "with con:\n",
    "    \n",
    "    sql_query = \n",
    "\n",
    "    cur = con.cursor(mdb.cursors.DictCursor)\n",
    "    cur.execute(\"SELECT * FROM actors LIMIT 100\")\n",
    "    rows = cur.fetchall()\n",
    "    for row in rows:\n",
    "        print row\n",
    "        #print row[\"id\"], row[\"first_name\"], row[\"last_name\"]"
   ]
  },
  {
   "cell_type": "code",
   "execution_count": null,
   "metadata": {
    "collapsed": true
   },
   "outputs": [],
   "source": []
  }
 ],
 "metadata": {
  "kernelspec": {
   "display_name": "Python 2",
   "language": "python",
   "name": "python2"
  },
  "language_info": {
   "codemirror_mode": {
    "name": "ipython",
    "version": 2
   },
   "file_extension": ".py",
   "mimetype": "text/x-python",
   "name": "python",
   "nbconvert_exporter": "python",
   "pygments_lexer": "ipython2",
   "version": "2.7.6"
  }
 },
 "nbformat": 4,
 "nbformat_minor": 0
}
