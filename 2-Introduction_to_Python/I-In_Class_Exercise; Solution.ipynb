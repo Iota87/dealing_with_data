{
 "cells": [
  {
   "cell_type": "markdown",
   "metadata": {},
   "source": [
    "# Our Task: Find similar company names\n",
    "\n",
    "Now that we have completed our Python Primer, let's try to complete a real task, while at the same time trying to practice loops, iterations, and other Python functionality that we studied.\n",
    "\n",
    "### Matching Company Names\n",
    "\n",
    "Quite often, in our data, we have entries represented as strings that refer to the same entity but have different string representations (e.g., McDonald's vs McDonalds vs McDonald‎). We want to write code that will help in the task of finding such similar entries in our data.\n",
    "\n",
    "Our task can be broken in the following tasks:\n",
    "* **Step 1**: Read the data from a file into a list of strings in memory (one string per line). For our source of company names, we can use either the list of restaurant names from the Restaurant Inspection dataset (see our prior session), and/or use a list of companies from a file available at https://dl.dropboxusercontent.com/u/16006464/DwD_Winter2015/companies.txt. We need to write Python code that will read these files and return a list of company names.\n",
    "* **Step 2**: We will then need to figure out how to compare two strings and find their similarity. For that, we need to write a function that takes as input two strings, and returns back their similarities (we will see below how to do that).\n",
    "* **Step 3**: We will need to write a function that takes as input a company name, and returns back a list of matching company names, together with their similarity. Ideally, we would like to also sort the list based on the similarity (highest similarity metrics on top). As part of our learning process, we will use the _list comprehension_ approach to create the list. We will also use tuples as the elements of the list, so that the list contain elements such as `[(\"McDonalds\", 0.88), (\"McDonald's\", 0.81),....]`.\n",
    "* **Step 4**: In the final step, we will just perform the similarity computation across all companies in the dataset.\n"
   ]
  },
  {
   "cell_type": "markdown",
   "metadata": {},
   "source": [
    "### STEP 0: Fetch the data"
   ]
  },
  {
   "cell_type": "code",
   "execution_count": 4,
   "metadata": {
    "collapsed": false
   },
   "outputs": [
    {
     "name": "stdout",
     "output_type": "stream",
     "text": [
      "  % Total    % Received % Xferd  Average Speed   Time    Time     Time  Current\n",
      "                                 Dload  Upload   Total   Spent    Left  Speed\n",
      "100 22747  100 22747    0     0  78716      0 --:--:-- --:--:-- --:--:-- 78982\n",
      "  % Total    % Received % Xferd  Average Speed   Time    Time     Time  Current\n",
      "                                 Dload  Upload   Total   Spent    Left  Speed\n",
      "100  364k  100  364k    0     0  1747k      0 --:--:-- --:--:-- --:--:-- 1751k\n"
     ]
    }
   ],
   "source": [
    "# This is a list of banks\n",
    "!curl https://dl.dropboxusercontent.com/u/16006464/DwD_Winter2015/companies.txt -o /home/ubuntu/data/bank-names.txt\n",
    "    \n",
    "# This is a list of NYC restaurants (also using this dataset for the regular expression notebooks)\n",
    "!curl https://dl.dropboxusercontent.com/u/16006464/DwD_Winter2015/uniquenames.txt -o /home/ubuntu/data/restaurant-names.txt   "
   ]
  },
  {
   "cell_type": "markdown",
   "metadata": {},
   "source": [
    "### STEP 1: Read the list of names from a file and create a list of names"
   ]
  },
  {
   "cell_type": "code",
   "execution_count": 1,
   "metadata": {
    "collapsed": false
   },
   "outputs": [],
   "source": [
    "# STEP 1: Read the list of names from a file and create a list of names\n",
    "f = open(\"/home/ubuntu/data/restaurant-names.txt\", \"r\")\n",
    "content = f.read()\n",
    "f.close()\n",
    "lines = content.split(\"\\n\")"
   ]
  },
  {
   "cell_type": "markdown",
   "metadata": {},
   "source": [
    "### STEP 2: Implement the similarity function"
   ]
  },
  {
   "cell_type": "markdown",
   "metadata": {},
   "source": [
    "### Computing the similarity between two strings\n",
    "\n",
    "There are many ways that we can calculate the similarity between two strings (e.g., see [1](http://en.wikipedia.org/wiki/String_metric), [2](http://en.wikipedia.org/wiki/Approximate_string_matching), [3](http://en.wikipedia.org/wiki/Plagiarism_detection), [4](https://www.cs.cmu.edu/~pradeepr/papers/ijcai03.pdf), [5](http://en.wikipedia.org/wiki/Category:String_similarity_measures), and links within). \n",
    "\n",
    "For our example, we will use the q-gram similarity metric. What is a q-gram? Simply a sequency of q-consecutive characters in the string. For example, the name \"Panos\" has the following 2-grams: \"Pa\", \"an\", \"no\", \"os\". (We can also add \"#P\" and \"s#\" if we want to capture the prefix and suffixes.) Strings that share a large number of q-grams are often similar. \n",
    "\n",
    "Hence, we can compute the similarity of two strings by first computing the set of q-grams for each string, and then compute the Jaccard coefficient between these sets. The [Jaccard coefficient](http://en.wikipedia.org/wiki/Jaccard_index) is simply defined as the size of the intersection divided by the size of the union of the two sets.\n",
    "\n",
    "So, our task can be broken into two functions: \n",
    "* The first function takes a string and returns a list of the q-grams for the string, and \n",
    "* The second function takes as input two sets, and returns back their Jaccard coefficient."
   ]
  },
  {
   "cell_type": "code",
   "execution_count": 5,
   "metadata": {
    "collapsed": false
   },
   "outputs": [],
   "source": [
    "# STEP 2: Now we implement our similarity function\n",
    "\n",
    "# This returns a list of q-grams for a name\n",
    "# getQgrams(\"Panos\", 1) should return [\"P\", \"a\", \"n\", \"s\"]\n",
    "# getQgrams(\"Panos\", 2) should return [\"Pa\", \"an\", \"no\", \"os\"]\n",
    "# etc\n",
    "def getQgrams(name, q):\n",
    "    # We add a little bit of padding of '#' characters\n",
    "    # to create q-grams for the beginning and end of the \n",
    "    # string as well\n",
    "    name = (q-1)*'#' + name + (q-1)*'#'\n",
    "    length = len(name)\n",
    "    qgrams = []\n",
    "    for c in range(length):\n",
    "        qgram = name[c:c+q]\n",
    "        qgrams.append(qgram)\n",
    "    return qgrams\n",
    "\n",
    "# This function takes as input two names, computes their qgrams, and then computes\n",
    "# the Jaccard coefficient (=intersection/union) of the two sets of qgrams\n",
    "def jaccard(setA, setB):\n",
    "    intersection = set(setA) & set(setB)\n",
    "    union = set(setA) | set(setB)\n",
    "    similarity = 1.0*len(intersection)/len(union)\n",
    "    return similarity\n",
    "\n",
    "def computeSimilarity(name1, name2, q):\n",
    "    qgrams1 = getQgrams(name1.upper(), q)\n",
    "    qgrams2 = getQgrams(name2.upper(), q)\n",
    "    similarity = jaccard(qgrams1, qgrams2)\n",
    "    return similarity"
   ]
  },
  {
   "cell_type": "code",
   "execution_count": 23,
   "metadata": {
    "collapsed": false
   },
   "outputs": [
    {
     "name": "stdout",
     "output_type": "stream",
     "text": [
      "0.666666666667\n",
      "0.75\n",
      "1.0\n",
      "0.0952380952381\n",
      "0.0555555555556\n",
      "0.0909090909091\n"
     ]
    }
   ],
   "source": [
    "# Let's test our similarity function\n",
    "print computeSimilarity(\"Microsoft\", \"Micrsoft\", 3)\n",
    "print computeSimilarity(\"Microsoft\", \"Micrsoft\", 2)\n",
    "print computeSimilarity(\"Microsoft\", \"Micrsoft\", 1)\n",
    "print computeSimilarity(\"Microsoft\", \"Google\", 3)\n",
    "print computeSimilarity(\"Microsoft\", \"Google\", 2)\n",
    "print computeSimilarity(\"Microsoft\", \"Google\", 1)"
   ]
  },
  {
   "cell_type": "markdown",
   "metadata": {},
   "source": [
    "### STEP 3: Compute similarity of a company against a list of company names"
   ]
  },
  {
   "cell_type": "markdown",
   "metadata": {},
   "source": [
    "We now create a function that accepts a company name and a list of companies, and computes their similarity. This part will get us to exercise our for-loops, and also illustrate how we can use lists and tuples."
   ]
  },
  {
   "cell_type": "markdown",
   "metadata": {},
   "source": [
    "**Sorting a list of tuples**:_This part is a little bit advanced for now, so I will just give the code below. (Solution taken from http://stackoverflow.com/questions/3121979/how-to-sort-list-tuple-of-lists-tuples). Here is a small example below, which we will reuse in our function:_"
   ]
  },
  {
   "cell_type": "code",
   "execution_count": 17,
   "metadata": {
    "collapsed": false
   },
   "outputs": [
    {
     "name": "stdout",
     "output_type": "stream",
     "text": [
      "[('Peter', 0.6), ('Panos', 0.5), ('Pan', 0.4)]\n"
     ]
    }
   ],
   "source": [
    "data = [(\"Panos\",0.5), (\"Peter\",0.6), (\"Pan\", 0.4)]\n",
    "data.sort(key=lambda tupl: tupl[1], reverse=True)  # sorts in place, in descending order, based on the second element of the tuple\n",
    "print data"
   ]
  },
  {
   "cell_type": "code",
   "execution_count": 24,
   "metadata": {
    "collapsed": false
   },
   "outputs": [],
   "source": [
    "# STEP 3: We now create a function that accepts a company name\n",
    "# and a list of companies, and computes their similarity\n",
    "# We have a threshold parameter (by default set to be 0.5)\n",
    "# that restricts the results to only string pairs with similarity\n",
    "# above the threshold\n",
    "\n",
    "# queryData finds similar names to a query\n",
    "def queryData(query, companyList, threshold, q):\n",
    "    result = []\n",
    "    for r in companyList:\n",
    "        # I will compute the similarity of the \"query\" string\n",
    "        # with each restaurant \"r\", where \"r\" is the variable in the for loop\n",
    "        similarity = computeSimilarity(query, r, q)\n",
    "        # if the similarity is above 0.5, I will print the result\n",
    "        if similarity>threshold:\n",
    "            result.append( (r, similarity) )\n",
    "    return result\n",
    "\n",
    "def companySimilarity(companyName, companyList, threshold = 0.5, q = 3):\n",
    "    results = queryData(companyName, companyList, threshold, q)\n",
    "    results.sort(key=lambda tupl: tupl[1], reverse=True)\n",
    "    return results\n"
   ]
  },
  {
   "cell_type": "code",
   "execution_count": 26,
   "metadata": {
    "collapsed": false
   },
   "outputs": [
    {
     "data": {
      "text/plain": [
       "[('MCDONALDS', 1.0),\n",
       " ('MC DONALDS', 0.6875),\n",
       " (\"MCDONALD'S\", 0.6875),\n",
       " ('MCDONALD', 0.6666666666666666),\n",
       " (\"MCDONALD'S \", 0.5555555555555556),\n",
       " ('MCDONALDS 17754', 0.5238095238095238),\n",
       " (\"MC DONALD'S\", 0.47368421052631576),\n",
       " ('MCDONALDS (#11542)', 0.4583333333333333),\n",
       " ('MCDONALDS RESTAURANT', 0.4230769230769231),\n",
       " ('MCDONALD AVENUE DINER', 0.35714285714285715),\n",
       " (\"MCDONALD'S RESTAURANT\", 0.35714285714285715),\n",
       " (\"MCDONALD'S (MACY'S 7TH FL)\", 0.3125),\n",
       " ('MCDONALDS FAST FOOD RESTAURANT', 0.3055555555555556),\n",
       " (\"MCDONALD'S RESTAURANT #3391\", 0.29411764705882354),\n",
       " (\"MONA'S\", 0.2777777777777778),\n",
       " ('MRS. FIELDS', 0.2727272727272727)]"
      ]
     },
     "execution_count": 26,
     "metadata": {},
     "output_type": "execute_result"
    }
   ],
   "source": [
    "# This is the name of the restaurant that I am looking for\n",
    "query = \"McDonalds\"\n",
    "# This is the similarity configuration parameter\n",
    "q = 3\n",
    "threshold = 0.25\n",
    "# lines contains the list of companiues\n",
    "companySimilarity(query, lines, threshold, q)"
   ]
  },
  {
   "cell_type": "markdown",
   "metadata": {},
   "source": [
    "### Step 4: Perform the similarity computation across all companies in the dataset."
   ]
  },
  {
   "cell_type": "code",
   "execution_count": 21,
   "metadata": {
    "collapsed": false
   },
   "outputs": [
    {
     "name": "stdout",
     "output_type": "stream",
     "text": [
      "#1 GARDEN CHINESE ===>\n",
      "[('#1 GARDEN CHINESE', 1.0), ('NEW CHINA GARDEN', 0.48), ('WINE GARDEN CAFE', 0.48), ('SAGAR CHINESE', 0.4782608695652174)]\n",
      "================\n",
      "#1 ME. NICK'S ===>\n",
      "[(\"#1 ME. NICK'S\", 1.0), (\"UNCLE NICK'S\", 0.38095238095238093), (\"E.J. MICHAEL'S\", 0.2916666666666667), (\"CHADWICK'S\", 0.2857142857142857)]\n",
      "================\n",
      "#1 SABOR LATINO RESTAURANT ===>\n",
      "[('#1 SABOR LATINO RESTAURANT', 1.0), ('SABOR LATINO RESTAURANT', 0.8275862068965517), ('SABOR LATINO SEAFOOD RESTAURANT', 0.6944444444444444), ('NUESTRO SABOR LATINO RESTAURANT CORP', 0.631578947368421)]\n",
      "================\n",
      "$1.25 PIZZA ===>\n",
      "[('$1.25 PIZZA', 1.0), ('LJ PIZZA', 0.4375), ('MJ PIZZA', 0.4375), ('MY PIZZA', 0.4375)]\n",
      "================\n",
      "''U'' LIKE CHINESE RESTAURANT ===>\n",
      "[(\"''U'' LIKE CHINESE RESTAURANT\", 1.0), ('U LIKE CHINESE RESTAURANT', 0.7666666666666667), ('BAI LI CHINESE RESTAURANT', 0.65625), (\"LIN'S CHINESE RESTAURANT\", 0.625)]\n",
      "================\n",
      "''W'' CAFE ===>\n",
      "[(\"''W'' CAFE\", 1.0), ('A CAFE', 0.46153846153846156), ('B CAFE', 0.46153846153846156), ('O CAFE', 0.46153846153846156)]\n",
      "================\n",
      "'WICHCRAFT ===>\n",
      "[(\"'WICHCRAFT\", 1.0), ('WICHCRAFT', 0.7692307692307693), ('CRAFT', 0.46153846153846156), ('WICHCRAFT EXPRESS', 0.4090909090909091)]\n",
      "================\n",
      "(LEWIS DRUG STORE) LOCANDA VINI E OLII ===>\n",
      "[('(LEWIS DRUG STORE) LOCANDA VINI E OLII', 1.0)]\n",
      "================\n",
      "(LIBRARY)  FOUR & TWENTY BLACKBIRDS ===>\n",
      "[('(LIBRARY)  FOUR & TWENTY BLACKBIRDS', 1.0), ('FOUR & TWENTY BLACKBIRDS', 0.6578947368421053), ('BREAK BAR & BILLARDS', 0.26666666666666666)]\n",
      "================\n",
      "(PUBLIC FARE) 81ST STREET AND CENTRAL PARK WEST (DELACORTE THEATRE) ===>\n",
      "[('(PUBLIC FARE) 81ST STREET AND CENTRAL PARK WEST (DELACORTE THEATRE)', 1.0), ('15 CENTRAL PARK WEST RESTAURANT', 0.31343283582089554), ('CENTRA`L MARKET ALL AMERICAN GRILL ( STATEN ISLAND FERRY TERMINAL)', 0.29213483146067415), ('FASST CAFE (SECOND STAGE THEATRE)', 0.2777777777777778)]\n",
      "================\n",
      "/ L'ECOLE ===>\n",
      "[(\"/ L'ECOLE\", 1.0), ('MOLE', 0.3076923076923077), ('CAFE CON LECHE', 0.2857142857142857), ('PINOLE', 0.26666666666666666)]\n",
      "================\n",
      "002 MERCURY TACOS LLC ===>\n",
      "[('002 MERCURY TACOS LLC', 1.0), ('THE MERCURY LOUNGE', 0.30303030303030304), ('TAKUMI TACO LLC', 0.3), ('MERCURY BAR', 0.2857142857142857)]\n",
      "================\n"
     ]
    },
    {
     "ename": "KeyboardInterrupt",
     "evalue": "",
     "output_type": "error",
     "traceback": [
      "\u001b[1;31m---------------------------------------------------------------------------\u001b[0m",
      "\u001b[1;31mKeyboardInterrupt\u001b[0m                         Traceback (most recent call last)",
      "\u001b[1;32m<ipython-input-21-325eea2beb43>\u001b[0m in \u001b[0;36m<module>\u001b[1;34m()\u001b[0m\n\u001b[0;32m      5\u001b[0m \u001b[1;31m# similar company names and the corresponding similarity value.\u001b[0m\u001b[1;33m\u001b[0m\u001b[1;33m\u001b[0m\u001b[0m\n\u001b[0;32m      6\u001b[0m \u001b[1;32mfor\u001b[0m \u001b[0mcompanyName\u001b[0m \u001b[1;32min\u001b[0m \u001b[0mlines\u001b[0m\u001b[1;33m:\u001b[0m\u001b[1;33m\u001b[0m\u001b[0m\n\u001b[1;32m----> 7\u001b[1;33m     \u001b[0mmatches\u001b[0m \u001b[1;33m=\u001b[0m \u001b[0mcompanySimilarity\u001b[0m\u001b[1;33m(\u001b[0m\u001b[0mcompanyName\u001b[0m\u001b[1;33m,\u001b[0m \u001b[0mlines\u001b[0m\u001b[1;33m,\u001b[0m \u001b[0mthreshold\u001b[0m\u001b[1;33m,\u001b[0m \u001b[0mq\u001b[0m\u001b[1;33m)\u001b[0m\u001b[1;33m\u001b[0m\u001b[0m\n\u001b[0m\u001b[0;32m      8\u001b[0m     \u001b[1;32mprint\u001b[0m \u001b[0mcompanyName\u001b[0m\u001b[1;33m,\u001b[0m \u001b[1;34m\"===>\"\u001b[0m\u001b[1;33m\u001b[0m\u001b[0m\n\u001b[0;32m      9\u001b[0m     \u001b[1;31m# we will print the top-4 matching names\u001b[0m\u001b[1;33m\u001b[0m\u001b[1;33m\u001b[0m\u001b[0m\n",
      "\u001b[1;32m<ipython-input-18-13403b6dcc8f>\u001b[0m in \u001b[0;36mcompanySimilarity\u001b[1;34m(companyName, companyList, threshold, q)\u001b[0m\n\u001b[0;32m     18\u001b[0m \u001b[1;33m\u001b[0m\u001b[0m\n\u001b[0;32m     19\u001b[0m \u001b[1;32mdef\u001b[0m \u001b[0mcompanySimilarity\u001b[0m\u001b[1;33m(\u001b[0m\u001b[0mcompanyName\u001b[0m\u001b[1;33m,\u001b[0m \u001b[0mcompanyList\u001b[0m\u001b[1;33m,\u001b[0m \u001b[0mthreshold\u001b[0m \u001b[1;33m=\u001b[0m \u001b[1;36m0.5\u001b[0m\u001b[1;33m,\u001b[0m \u001b[0mq\u001b[0m \u001b[1;33m=\u001b[0m \u001b[1;36m3\u001b[0m\u001b[1;33m)\u001b[0m\u001b[1;33m:\u001b[0m\u001b[1;33m\u001b[0m\u001b[0m\n\u001b[1;32m---> 20\u001b[1;33m     \u001b[0mresults\u001b[0m \u001b[1;33m=\u001b[0m \u001b[0mqueryData\u001b[0m\u001b[1;33m(\u001b[0m\u001b[0mcompanyName\u001b[0m\u001b[1;33m,\u001b[0m \u001b[0mq\u001b[0m\u001b[1;33m,\u001b[0m \u001b[0mthreshold\u001b[0m\u001b[1;33m,\u001b[0m \u001b[0mcompanyList\u001b[0m\u001b[1;33m)\u001b[0m\u001b[1;33m\u001b[0m\u001b[0m\n\u001b[0m\u001b[0;32m     21\u001b[0m     \u001b[0mresults\u001b[0m\u001b[1;33m.\u001b[0m\u001b[0msort\u001b[0m\u001b[1;33m(\u001b[0m\u001b[0mkey\u001b[0m\u001b[1;33m=\u001b[0m\u001b[1;32mlambda\u001b[0m \u001b[0mtupl\u001b[0m\u001b[1;33m:\u001b[0m \u001b[0mtupl\u001b[0m\u001b[1;33m[\u001b[0m\u001b[1;36m1\u001b[0m\u001b[1;33m]\u001b[0m\u001b[1;33m,\u001b[0m \u001b[0mreverse\u001b[0m\u001b[1;33m=\u001b[0m\u001b[0mTrue\u001b[0m\u001b[1;33m)\u001b[0m\u001b[1;33m\u001b[0m\u001b[0m\n\u001b[0;32m     22\u001b[0m     \u001b[1;32mreturn\u001b[0m \u001b[0mresults\u001b[0m\u001b[1;33m\u001b[0m\u001b[0m\n",
      "\u001b[1;32m<ipython-input-18-13403b6dcc8f>\u001b[0m in \u001b[0;36mqueryData\u001b[1;34m(query, q, threshold, companyList)\u001b[0m\n\u001b[0;32m     10\u001b[0m         \u001b[1;31m# I will compute the similarity of the \"query\" string\u001b[0m\u001b[1;33m\u001b[0m\u001b[1;33m\u001b[0m\u001b[0m\n\u001b[0;32m     11\u001b[0m         \u001b[1;31m# with each restaurant \"r\", where \"r\" is the variable in the for loop\u001b[0m\u001b[1;33m\u001b[0m\u001b[1;33m\u001b[0m\u001b[0m\n\u001b[1;32m---> 12\u001b[1;33m         \u001b[0msimilarity\u001b[0m \u001b[1;33m=\u001b[0m \u001b[0mcomputeSimilarity\u001b[0m\u001b[1;33m(\u001b[0m\u001b[0mquery\u001b[0m\u001b[1;33m,\u001b[0m \u001b[0mr\u001b[0m\u001b[1;33m,\u001b[0m \u001b[0mq\u001b[0m\u001b[1;33m)\u001b[0m\u001b[1;33m\u001b[0m\u001b[0m\n\u001b[0m\u001b[0;32m     13\u001b[0m         \u001b[1;31m# if the similarity is above 0.5, I will print the result\u001b[0m\u001b[1;33m\u001b[0m\u001b[1;33m\u001b[0m\u001b[0m\n\u001b[0;32m     14\u001b[0m         \u001b[1;32mif\u001b[0m \u001b[0msimilarity\u001b[0m\u001b[1;33m>\u001b[0m\u001b[0mthreshold\u001b[0m\u001b[1;33m:\u001b[0m\u001b[1;33m\u001b[0m\u001b[0m\n",
      "\u001b[1;32m<ipython-input-5-3c1d9badbedb>\u001b[0m in \u001b[0;36mcomputeSimilarity\u001b[1;34m(name1, name2, q)\u001b[0m\n\u001b[0;32m     26\u001b[0m \u001b[1;33m\u001b[0m\u001b[0m\n\u001b[0;32m     27\u001b[0m \u001b[1;32mdef\u001b[0m \u001b[0mcomputeSimilarity\u001b[0m\u001b[1;33m(\u001b[0m\u001b[0mname1\u001b[0m\u001b[1;33m,\u001b[0m \u001b[0mname2\u001b[0m\u001b[1;33m,\u001b[0m \u001b[0mq\u001b[0m\u001b[1;33m)\u001b[0m\u001b[1;33m:\u001b[0m\u001b[1;33m\u001b[0m\u001b[0m\n\u001b[1;32m---> 28\u001b[1;33m     \u001b[0mqgrams1\u001b[0m \u001b[1;33m=\u001b[0m \u001b[0mgetQgrams\u001b[0m\u001b[1;33m(\u001b[0m\u001b[0mname1\u001b[0m\u001b[1;33m.\u001b[0m\u001b[0mupper\u001b[0m\u001b[1;33m(\u001b[0m\u001b[1;33m)\u001b[0m\u001b[1;33m,\u001b[0m \u001b[0mq\u001b[0m\u001b[1;33m)\u001b[0m\u001b[1;33m\u001b[0m\u001b[0m\n\u001b[0m\u001b[0;32m     29\u001b[0m     \u001b[0mqgrams2\u001b[0m \u001b[1;33m=\u001b[0m \u001b[0mgetQgrams\u001b[0m\u001b[1;33m(\u001b[0m\u001b[0mname2\u001b[0m\u001b[1;33m.\u001b[0m\u001b[0mupper\u001b[0m\u001b[1;33m(\u001b[0m\u001b[1;33m)\u001b[0m\u001b[1;33m,\u001b[0m \u001b[0mq\u001b[0m\u001b[1;33m)\u001b[0m\u001b[1;33m\u001b[0m\u001b[0m\n\u001b[0;32m     30\u001b[0m     \u001b[0msimilarity\u001b[0m \u001b[1;33m=\u001b[0m \u001b[0mjaccard\u001b[0m\u001b[1;33m(\u001b[0m\u001b[0mqgrams1\u001b[0m\u001b[1;33m,\u001b[0m \u001b[0mqgrams2\u001b[0m\u001b[1;33m)\u001b[0m\u001b[1;33m\u001b[0m\u001b[0m\n",
      "\u001b[1;32m<ipython-input-5-3c1d9badbedb>\u001b[0m in \u001b[0;36mgetQgrams\u001b[1;34m(name, q)\u001b[0m\n\u001b[0;32m     13\u001b[0m     \u001b[0mqgrams\u001b[0m \u001b[1;33m=\u001b[0m \u001b[1;33m[\u001b[0m\u001b[1;33m]\u001b[0m\u001b[1;33m\u001b[0m\u001b[0m\n\u001b[0;32m     14\u001b[0m     \u001b[1;32mfor\u001b[0m \u001b[0mc\u001b[0m \u001b[1;32min\u001b[0m \u001b[0mrange\u001b[0m\u001b[1;33m(\u001b[0m\u001b[0mlength\u001b[0m\u001b[1;33m)\u001b[0m\u001b[1;33m:\u001b[0m\u001b[1;33m\u001b[0m\u001b[0m\n\u001b[1;32m---> 15\u001b[1;33m         \u001b[0mqgram\u001b[0m \u001b[1;33m=\u001b[0m \u001b[0mname\u001b[0m\u001b[1;33m[\u001b[0m\u001b[0mc\u001b[0m\u001b[1;33m:\u001b[0m\u001b[0mc\u001b[0m\u001b[1;33m+\u001b[0m\u001b[0mq\u001b[0m\u001b[1;33m]\u001b[0m\u001b[1;33m\u001b[0m\u001b[0m\n\u001b[0m\u001b[0;32m     16\u001b[0m         \u001b[0mqgrams\u001b[0m\u001b[1;33m.\u001b[0m\u001b[0mappend\u001b[0m\u001b[1;33m(\u001b[0m\u001b[0mqgram\u001b[0m\u001b[1;33m)\u001b[0m\u001b[1;33m\u001b[0m\u001b[0m\n\u001b[0;32m     17\u001b[0m     \u001b[1;32mreturn\u001b[0m \u001b[0mqgrams\u001b[0m\u001b[1;33m\u001b[0m\u001b[0m\n",
      "\u001b[1;31mKeyboardInterrupt\u001b[0m: "
     ]
    }
   ],
   "source": [
    "# STEP 4: We are almost done. We now just go through all the companies in the list\n",
    "# and we call the companySimilarity function that computes the similar company names\n",
    "# for all the companies in the list. We store the results in a dictionary, with the \n",
    "# key being the company name, and the value being a \"list of tuples\" with the \n",
    "# similar company names and the corresponding similarity value.\n",
    "for companyName in lines:\n",
    "    matches = companySimilarity(companyName, lines, threshold, q)\n",
    "    print companyName, \"===>\"\n",
    "    # we will print the top-4 matching names\n",
    "    print matches[:4]\n",
    "    print \"================\""
   ]
  },
  {
   "cell_type": "code",
   "execution_count": null,
   "metadata": {
    "collapsed": true
   },
   "outputs": [],
   "source": []
  }
 ],
 "metadata": {
  "kernelspec": {
   "display_name": "Python 2",
   "language": "python",
   "name": "python2"
  },
  "language_info": {
   "codemirror_mode": {
    "name": "ipython",
    "version": 2
   },
   "file_extension": ".py",
   "mimetype": "text/x-python",
   "name": "python",
   "nbconvert_exporter": "python",
   "pygments_lexer": "ipython2",
   "version": "2.7.6"
  }
 },
 "nbformat": 4,
 "nbformat_minor": 0
}
