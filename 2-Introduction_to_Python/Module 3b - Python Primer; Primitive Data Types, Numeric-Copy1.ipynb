{
 "cells": [
  {
   "cell_type": "markdown",
   "metadata": {},
   "source": [
    "## Python Tutorials\n",
    "\n",
    "If you have no knowledge of programming, then the [official Python tutorial](https://docs.python.org/2/tutorial/index.html) and the [Learn Python The Hard Way](http://learnpythonthehardway.org/) are good places to start.\n",
    "\n",
    "For this module, we cover: Learn Python the Hard Way, from [Preface until Exercise 9](http://learnpythonthehardway.org/book/index.html).\n",
    "\n"
   ]
  },
  {
   "cell_type": "markdown",
   "metadata": {},
   "source": [
    "### Our first Python program\n",
    "\n",
    "Traditionally, every time that we start learning a new language, we start with a program that prints \"Hello World\" in the output."
   ]
  },
  {
   "cell_type": "code",
   "execution_count": null,
   "metadata": {
    "collapsed": false
   },
   "outputs": [],
   "source": [
    "print \"Hello World\""
   ]
  },
  {
   "cell_type": "markdown",
   "metadata": {},
   "source": [
    "#### Exercise\n",
    "\n",
    "Print your own message:"
   ]
  },
  {
   "cell_type": "code",
   "execution_count": null,
   "metadata": {
    "collapsed": false
   },
   "outputs": [],
   "source": [
    "# your code here"
   ]
  },
  {
   "cell_type": "markdown",
   "metadata": {},
   "source": [
    "### Creating a Python program (not on the notebook)\n",
    "\n",
    "\n",
    "* Use SSH and connect to your Unix shell\n",
    "* Type `nano helloworld.py` to open `nano`, a (relatively easy to use) text editor, and create the file `helloworld.py`\n",
    "* In the text editor, type:\n",
    "    `print 'Hello my dear friend!'`\n",
    "* Type Ctrl+X, to save the file and close the editor.\n",
    "* In the shell prompt, type `python helloworld.py` to see the outcome\n",
    "\n",
    "#### Exercise\n",
    "\n",
    "Open and change the file `helloworld.py` to print your own message.\n",
    "\n",
    "\n",
    "### Creating a self-executing Python program\n",
    "\n",
    "* Repeat the steps as above, but with the following change: In the first line of your program, type: `#!/usr/bin/python`\n",
    "* Save the file with the name `hello`\n",
    "* In the shell, type `chmod 700 hello`. This makes our file _executable_.\n",
    "* Finally type `./hello` and see what happens."
   ]
  },
  {
   "cell_type": "markdown",
   "metadata": {},
   "source": [
    "Comments\n",
    "--------\n",
    "Comments are notes in your source code that aren't exectued when your code is run. These are useful for reminding yourself what your code does, and for notifying others to your intentions. "
   ]
  },
  {
   "cell_type": "code",
   "execution_count": null,
   "metadata": {
    "collapsed": false
   },
   "outputs": [],
   "source": [
    "# A comment, this is so you can read your program later.\n",
    "# Anything after the # is ignored by python.\n",
    "\n",
    "print \"I could have code like this.\" # and the comment after is ignored\n",
    "\n",
    "# You can also use a comment to \"disable\" or comment out a piece of code:\n",
    "# print \"This won't run.\"\n",
    "\n",
    "print \"This will run.\""
   ]
  },
  {
   "cell_type": "markdown",
   "metadata": {},
   "source": [
    "Python has single line and multiline comments."
   ]
  },
  {
   "cell_type": "code",
   "execution_count": null,
   "metadata": {
    "collapsed": false
   },
   "outputs": [],
   "source": [
    "# this is a single line comment\n",
    "# This a second line of comments\n",
    "print \"trying out some comments\"\n",
    "\n",
    "\"\"\"and here....\n",
    "\n",
    "I hate Python\n",
    "Nah, just kidding...\n",
    "\n",
    "is a multi-line comment\"\"\"\n",
    "\n",
    "\n",
    "print \"python ftw\""
   ]
  },
  {
   "cell_type": "markdown",
   "metadata": {},
   "source": [
    "### Math operators\n",
    "\n",
    "Now let's see how we can do various math and logical operations with Python. Here are a few operators that we will be using:\n",
    "\n",
    "* `+` plus\n",
    "* `-` minus\n",
    "* `/` slash\n",
    "* `*` asterisk\n",
    "* `%` percent\n",
    "* `<` less-than\n",
    "* `>` greater-than\n",
    "* `<=` less-than-equal\n",
    "* `>=` greater-than-equal"
   ]
  },
  {
   "cell_type": "code",
   "execution_count": null,
   "metadata": {
    "collapsed": false
   },
   "outputs": [],
   "source": [
    "print \"I will now count my chickens:\"\n",
    "print \"Hens\", 25 + 30 / 6"
   ]
  },
  {
   "cell_type": "code",
   "execution_count": null,
   "metadata": {
    "collapsed": false
   },
   "outputs": [],
   "source": [
    "print \"Roosters\", 100 - 25 % 5 * 4"
   ]
  },
  {
   "cell_type": "code",
   "execution_count": null,
   "metadata": {
    "collapsed": false
   },
   "outputs": [],
   "source": [
    "print \"Modulo:\", 75 % 4 "
   ]
  },
  {
   "cell_type": "code",
   "execution_count": null,
   "metadata": {
    "collapsed": false
   },
   "outputs": [],
   "source": [
    "print \"Now I will count the eggs:\"\n",
    "print 3 + 2 + 1 - 5 + 4 % 2 - 1 / 4 + 6"
   ]
  },
  {
   "cell_type": "code",
   "execution_count": null,
   "metadata": {
    "collapsed": false
   },
   "outputs": [],
   "source": [
    "print \"Is it true that 3 + 2 < 5 - 7?\"\n",
    "\n",
    "print 3 + 2 < 5 - 7"
   ]
  },
  {
   "cell_type": "code",
   "execution_count": null,
   "metadata": {
    "collapsed": false
   },
   "outputs": [],
   "source": [
    "print \"How about some more.\"\n",
    "\n",
    "print \"Is it greater?\", 5 > -2\n",
    "print \"Is it greater or equal?\", 5 >= -2\n",
    "print \"Is it less or equal?\", 5 <= -2"
   ]
  },
  {
   "cell_type": "markdown",
   "metadata": {},
   "source": [
    "Variables\n",
    "---------\n",
    "\n",
    "Variables are aliases for data. This allows the developer to use the name for a particular value rather than the value itself. This makes the code more readable, and allows various optimizations to make a program run more efficiently.\n",
    "\n",
    "In python, a variable can be named almost anything, according to the whims of the programmer. You can use any letter, the special characters \"\\_\" and every number provided you do not start with it. White spaces and signs with special meanings in Python, as \"+\" and \"-\" are not allowed. Variable names are case-sensitive. The common pattern is to separate words in variable names with underscores \"\\_\".\n",
    "\n",
    "Variables are declared by stating the variable name and assigning to it using the \"=\" operator. At any time, you can reassign a value to a variable."
   ]
  },
  {
   "cell_type": "code",
   "execution_count": null,
   "metadata": {
    "collapsed": false
   },
   "outputs": [],
   "source": [
    "a_variable = \"yay!\"\n",
    "another_variable = \"woo!\"\n",
    "yet_another_variable = 1\n",
    "one_more_variable = 3.1415926\n",
    "my_true_love = True\n",
    "\n",
    "print a_variable"
   ]
  },
  {
   "cell_type": "code",
   "execution_count": null,
   "metadata": {
    "collapsed": false
   },
   "outputs": [],
   "source": [
    "print my_true_love, one_more_variable"
   ]
  },
  {
   "cell_type": "code",
   "execution_count": null,
   "metadata": {
    "collapsed": false
   },
   "outputs": [],
   "source": [
    "a_variable = \"uh oh!\" # reassigning\n",
    "\n",
    "print a_variable"
   ]
  },
  {
   "cell_type": "code",
   "execution_count": null,
   "metadata": {
    "collapsed": false
   },
   "outputs": [],
   "source": [
    "a_variable = \"uh oh!\" \n",
    "print \"Printing the value of a_variable:\", a_variable\n",
    "print \"Printing the value of another_variable:\", another_variable\n",
    "\n",
    "a_variable = another_variable # reassigning again\n",
    "\n",
    "print \"Printing the value of a_variable (again!):\", a_variable"
   ]
  },
  {
   "cell_type": "code",
   "execution_count": null,
   "metadata": {
    "collapsed": false
   },
   "outputs": [],
   "source": [
    "a_variable = \"yah!\"\n",
    "yet_another_variable = 42\n",
    "\n",
    "# This will generate an error if executed\n",
    "# a_variable = a_variable + yet_another_variable\n"
   ]
  },
  {
   "cell_type": "code",
   "execution_count": null,
   "metadata": {
    "collapsed": false
   },
   "outputs": [],
   "source": [
    "yet_another_variable = 1\n",
    "\n",
    "# But this one will not:\n",
    "a_variable = yet_another_variable\n",
    "\n",
    "print a_variable\n"
   ]
  },
  {
   "cell_type": "markdown",
   "metadata": {},
   "source": [
    "Let's try to use variables now for a more useful example"
   ]
  },
  {
   "cell_type": "code",
   "execution_count": null,
   "metadata": {
    "collapsed": false
   },
   "outputs": [],
   "source": [
    "# A more complete example that combines variables and math operations \n",
    "# from LPTHW, Ex 4\n",
    "\n",
    "# These variables hold the input\n",
    "cars = 100\n",
    "space_in_a_car = 4.0\n",
    "drivers = 10\n",
    "passengers = 10000\n",
    "\n",
    "# Magic calculations happen here. You need two PhDs to understand the code below\n",
    "cars_not_driven = cars - drivers\n",
    "cars_driven = drivers\n",
    "carpool_capacity = cars_driven * space_in_a_car\n",
    "average_passengers_per_car = passengers / cars_driven\n",
    "\n",
    "# We print the results of our rocket scientist calculations\n",
    "print \"There are\", cars, \"cars available.\"\n",
    "print \"There are only\", drivers, \"drivers available.\"\n",
    "print \"There will be\", cars_not_driven, \"empty cars today.\"\n",
    "print \"We can transport\", carpool_capacity, \"people today.\"\n",
    "print \"We have\", passengers, \"to carpool today.\"\n",
    "print \"We need to put about\", average_passengers_per_car, \"in each car.\""
   ]
  },
  {
   "cell_type": "markdown",
   "metadata": {},
   "source": [
    "We can get the output of unix commands in Python variables by prefixing them with `!`"
   ]
  },
  {
   "cell_type": "code",
   "execution_count": null,
   "metadata": {
    "collapsed": false
   },
   "outputs": [],
   "source": [
    "!date"
   ]
  },
  {
   "cell_type": "code",
   "execution_count": null,
   "metadata": {
    "collapsed": false
   },
   "outputs": [],
   "source": [
    "current_date = !date"
   ]
  },
  {
   "cell_type": "code",
   "execution_count": null,
   "metadata": {
    "collapsed": false
   },
   "outputs": [],
   "source": [
    "print current_date"
   ]
  },
  {
   "cell_type": "code",
   "execution_count": null,
   "metadata": {
    "collapsed": false
   },
   "outputs": [],
   "source": [
    "!ls"
   ]
  },
  {
   "cell_type": "code",
   "execution_count": null,
   "metadata": {
    "collapsed": false
   },
   "outputs": [],
   "source": [
    "ls_output = !ls\n",
    "print ls_output"
   ]
  },
  {
   "cell_type": "code",
   "execution_count": null,
   "metadata": {
    "collapsed": true
   },
   "outputs": [],
   "source": [
    "nyu_html = !curl \"http://www.nyu.edu\""
   ]
  },
  {
   "cell_type": "code",
   "execution_count": null,
   "metadata": {
    "collapsed": false
   },
   "outputs": [],
   "source": [
    "print nyu_html"
   ]
  },
  {
   "cell_type": "markdown",
   "metadata": {},
   "source": [
    "#### Exercise\n",
    "\n",
    "Get the current directory using the Unix command `pwd` and assign it to a Python variable. Print the variable"
   ]
  },
  {
   "cell_type": "code",
   "execution_count": null,
   "metadata": {
    "collapsed": false
   },
   "outputs": [],
   "source": [
    "# your own code here\n",
    "current_directory = !pwd\n",
    "print current_directory"
   ]
  },
  {
   "cell_type": "markdown",
   "metadata": {},
   "source": [
    "Primitive Data Types\n",
    "--------------------\n",
    "\n",
    "These are the basic data types that constitute all of the more complex data structures in python.\n",
    "\n",
    "### String:\n",
    "Textual data, characters and sequences of characters. Can be specified by surrounding some text with single `'` or double `\"` quotes. "
   ]
  },
  {
   "cell_type": "code",
   "execution_count": null,
   "metadata": {
    "collapsed": false
   },
   "outputs": [],
   "source": [
    "str_1 = \"Hello World!\"\n",
    "print str_1\n",
    "\n",
    "str_1 = 'Hello World!'\n",
    "print str_1"
   ]
  },
  {
   "cell_type": "code",
   "execution_count": null,
   "metadata": {
    "collapsed": false
   },
   "outputs": [],
   "source": [
    "# Notice that we end the strings below with the \\n character, \n",
    "# which is the \"new line\" special character\n",
    "str_2 = \"Hello World!\\n\\n\\nHello World Twice!\"\n",
    "print str_2\n"
   ]
  },
  {
   "cell_type": "code",
   "execution_count": null,
   "metadata": {
    "collapsed": false
   },
   "outputs": [],
   "source": [
    "# Let's use the \\t character which is the special character for tab\n",
    "str_3 =\"Hello\\tWorld!\\tWe\\tare\\tfar\\taway\\n\"\n",
    "print str_3"
   ]
  },
  {
   "cell_type": "code",
   "execution_count": null,
   "metadata": {
    "collapsed": false
   },
   "outputs": [],
   "source": [
    "print \"I want to print backslash: \\\\\""
   ]
  },
  {
   "cell_type": "code",
   "execution_count": null,
   "metadata": {
    "collapsed": false
   },
   "outputs": [],
   "source": [
    "str_4 = 'This is a string within single quotes that can contain \"double quotes\" as part of the string\\n'\n",
    "print str_4"
   ]
  },
  {
   "cell_type": "code",
   "execution_count": null,
   "metadata": {
    "collapsed": false
   },
   "outputs": [],
   "source": [
    "str_5 = 'If we want to have \\'single quotes\\' in single quoted string we should escape them\\n'\n",
    "print str_5"
   ]
  },
  {
   "cell_type": "code",
   "execution_count": null,
   "metadata": {
    "collapsed": false
   },
   "outputs": [],
   "source": [
    "str_6 = \"Similarly, if we want to have \\\"double quotes\\\" in double quoted string we should escape them\\n\"\n",
    "print str_6"
   ]
  },
  {
   "cell_type": "code",
   "execution_count": null,
   "metadata": {
    "collapsed": false
   },
   "outputs": [],
   "source": [
    "str_7 = \"hello\"\n",
    "str_8 = \"world\"\n",
    "hello_world_message = str_7 + \" \" + str_8 + \"!\" \n",
    "print hello_world_message # note that + concatenates strings"
   ]
  },
  {
   "cell_type": "code",
   "execution_count": null,
   "metadata": {
    "collapsed": false
   },
   "outputs": [],
   "source": [
    "str_9 = \"\"\"\n",
    "(CNN)AirAsia Flight QZ8501 climbed rapidly before it crashed, a top Indonesian official said Tuesday, according to The Jakarta Post.\n",
    "\n",
    "Then the plane stalled, Transportation Minister Ignasius Jonan said at a parliamentary hearing, according to the AFP and Reuters news agencies.\n",
    "\n",
    "\"The plane, during the last minutes, went up faster than normal speed ... after then, it stalled. That is according to the data from the radar,\" Jonan said, according to the news agencies.\n",
    "\"\"\"\n",
    "print str_9"
   ]
  },
  {
   "cell_type": "code",
   "execution_count": null,
   "metadata": {
    "collapsed": false
   },
   "outputs": [],
   "source": [
    "str_19 = '''\n",
    "If we want to have multiple lines in the string\n",
    "then we can use triple quotes: This is a multiline\n",
    "string!\n",
    "'''\n",
    "print str_19\n",
    "    "
   ]
  },
  {
   "cell_type": "markdown",
   "metadata": {},
   "source": [
    "#### \"Raw\" strings\n",
    "\n",
    "Prefix strings with `r` to indicate a `raw` string, where there are no escape characters like \\t, \\n etc."
   ]
  },
  {
   "cell_type": "code",
   "execution_count": null,
   "metadata": {
    "collapsed": false
   },
   "outputs": [],
   "source": [
    "print \"e.g., type C:\\teaching\\ instead of C:\\\\teaching\\\\)\""
   ]
  },
  {
   "cell_type": "code",
   "execution_count": null,
   "metadata": {
    "collapsed": false
   },
   "outputs": [],
   "source": [
    "print r\"e.g., type C:\\teaching\\ instead of C:\\\\teaching\\\\)\""
   ]
  },
  {
   "cell_type": "markdown",
   "metadata": {},
   "source": [
    "### Acessing parts of the string\n",
    "\n",
    "**Note: The following instructions will be re-used later for other data structures (e.g., lists), so pay attention!**\n",
    "\n",
    "Strings can be indexed (subscripted), with the first character having index 0. There is no separate character type; a character is simply a string of size one:"
   ]
  },
  {
   "cell_type": "code",
   "execution_count": null,
   "metadata": {
    "collapsed": false
   },
   "outputs": [],
   "source": [
    "word = 'Python'"
   ]
  },
  {
   "cell_type": "code",
   "execution_count": null,
   "metadata": {
    "collapsed": false
   },
   "outputs": [],
   "source": [
    "word[0]  # character in position 0"
   ]
  },
  {
   "cell_type": "code",
   "execution_count": null,
   "metadata": {
    "collapsed": false
   },
   "outputs": [],
   "source": [
    "word[1]"
   ]
  },
  {
   "cell_type": "code",
   "execution_count": null,
   "metadata": {
    "collapsed": false
   },
   "outputs": [],
   "source": [
    "word[5]  # character in position 5"
   ]
  },
  {
   "cell_type": "markdown",
   "metadata": {},
   "source": [
    "Indices may also be negative numbers, to start counting from the right:"
   ]
  },
  {
   "cell_type": "code",
   "execution_count": null,
   "metadata": {
    "collapsed": false
   },
   "outputs": [],
   "source": [
    "word[-1]  # last character"
   ]
  },
  {
   "cell_type": "code",
   "execution_count": null,
   "metadata": {
    "collapsed": false
   },
   "outputs": [],
   "source": [
    "word[-2]  # second-last character\n"
   ]
  },
  {
   "cell_type": "code",
   "execution_count": null,
   "metadata": {
    "collapsed": false
   },
   "outputs": [],
   "source": [
    "word[-6]"
   ]
  },
  {
   "cell_type": "markdown",
   "metadata": {},
   "source": [
    "In addition to indexing, slicing is also supported. While indexing is used to obtain individual characters, slicing allows you to obtain a substring:"
   ]
  },
  {
   "cell_type": "code",
   "execution_count": null,
   "metadata": {
    "collapsed": false
   },
   "outputs": [],
   "source": [
    "word[0:2]  # characters from position 0 (included) to 2 (excluded)"
   ]
  },
  {
   "cell_type": "code",
   "execution_count": null,
   "metadata": {
    "collapsed": false
   },
   "outputs": [],
   "source": [
    "word[2:5]  # characters from position 2 (included) to 5 (excluded)"
   ]
  },
  {
   "cell_type": "code",
   "execution_count": null,
   "metadata": {
    "collapsed": false
   },
   "outputs": [],
   "source": [
    "word[2:]  # characters from position 2 (included) to the end"
   ]
  },
  {
   "cell_type": "code",
   "execution_count": null,
   "metadata": {
    "collapsed": false
   },
   "outputs": [],
   "source": [
    "word[:3]  # characters from beginning (position 0) to position 3 (excluded)"
   ]
  },
  {
   "cell_type": "code",
   "execution_count": null,
   "metadata": {
    "collapsed": false
   },
   "outputs": [],
   "source": [
    "word[-3:] # last three characters"
   ]
  },
  {
   "cell_type": "code",
   "execution_count": null,
   "metadata": {
    "collapsed": false
   },
   "outputs": [],
   "source": [
    "word[-3:-1] # penultimate two charactrs"
   ]
  },
  {
   "cell_type": "markdown",
   "metadata": {},
   "source": [
    "#### Exercise\n",
    "\n",
    "* Assign the string 'Dealing with Data' to a Python variable. \n",
    "* Print the word 'Dealing' by using the indexing/slicing approach.\n",
    "* Print the word 'Data' by using the negative indexing/slicing approach."
   ]
  },
  {
   "cell_type": "code",
   "execution_count": null,
   "metadata": {
    "collapsed": false
   },
   "outputs": [],
   "source": [
    "# your own code here\n",
    "a = 'Dealing with Data'\n",
    "b = a[0:7]\n",
    "print b\n",
    "b = a[:7]\n",
    "print b\n",
    "\n",
    "c = a[-4:]\n",
    "print c"
   ]
  },
  {
   "cell_type": "markdown",
   "metadata": {},
   "source": [
    "### Integer:\n",
    "Positive and negative whole numbers"
   ]
  },
  {
   "cell_type": "code",
   "execution_count": null,
   "metadata": {
    "collapsed": false
   },
   "outputs": [],
   "source": [
    "int_1 = 1\n",
    "int_2 = -2\n",
    "int_3 = 100\n",
    "\n",
    "print int_1 + int_2 + int_3 # for integers, + is just \"plus\""
   ]
  },
  {
   "cell_type": "markdown",
   "metadata": {},
   "source": [
    "### Floating Point Numbers:\n",
    "Decimal numbers, representations of fractions, and \"real-valued numbers\""
   ]
  },
  {
   "cell_type": "code",
   "execution_count": null,
   "metadata": {
    "collapsed": false
   },
   "outputs": [],
   "source": [
    "float_1 = 1.2\n",
    "float_2 = -4.0\n",
    "float_3 = 10.0\n",
    "\n",
    "print float_1 + float_2 + float_3"
   ]
  },
  {
   "cell_type": "markdown",
   "metadata": {},
   "source": [
    "### Booleans:\n",
    "\n",
    "Booleans represent the truth or success of a statement, and are commonly used for branching and checking status in code. "
   ]
  },
  {
   "cell_type": "code",
   "execution_count": null,
   "metadata": {
    "collapsed": false
   },
   "outputs": [],
   "source": [
    "bool_1 = True \n",
    "bool_2 = False\n",
    "\n",
    "print bool_1\n",
    "print bool_2"
   ]
  },
  {
   "cell_type": "markdown",
   "metadata": {},
   "source": [
    "Operations on Primitive Data Types\n",
    "----------------------------------\n",
    "\n",
    "Python provides a variety of operations for performing common tasks on the primitive data types presented above. Of course, this list isn't complete, and the core functionality provided by python is greatly extended by library code, some of which will be discussed below. Note that operations can be performed either on \"literal primitives\" or on variables storing some primitive. \n",
    "\n",
    "### Operations on Strings \n",
    "We've already seen one of the most common string operators, `+`, used for string concatenation, the indexing operation to get specific characters, and the slicing operation to get substrings. Below are some of the more commonly used string operations:\n",
    "\n",
    "+ `+` : concatenate two strings\n",
    "+ `len(str)`: length of a string, number of characters\n",
    "+ `str.upper()`: returns an uppercase version of a string\n",
    "+ `str.lower()`: returns a lowercase version of a string\n",
    "+ `haystack.index(needle)`: searches haystack for needle, prints the position of the first occurrence, indexed from 0. Note, throws an error if needle isn't found.\n",
    "+ `str_1.count(str_2)`: counts the number of occurrences of one string in another.\n",
    "+ `haystack.startswith(needle)`: does a the haystack string start with the needle string?\n",
    "+ `haystack.endswith(needle)`: does a the haystack string end with the needle string?\n",
    "+ `str_1.split(str_2)`: split the first string at every occurrence of the second string. Outputs a list (see below).\n",
    "+ `==`: are the two operand strings the same?\n",
    "+ `str.strip()`: remove any whitespace from the left or right of the string, including newlines. \n",
    "\n",
    "A better list of string operations is [available here](http://docs.python.org/2/library/string.html)."
   ]
  },
  {
   "cell_type": "code",
   "execution_count": 89,
   "metadata": {
    "collapsed": false
   },
   "outputs": [
    {
     "name": "stdout",
     "output_type": "stream",
     "text": [
      "50\n"
     ]
    }
   ],
   "source": [
    "word = \"Python is the word. And on and on and on and on...\" \n",
    "print len(word)"
   ]
  },
  {
   "cell_type": "code",
   "execution_count": 90,
   "metadata": {
    "collapsed": false
   },
   "outputs": [
    {
     "name": "stdout",
     "output_type": "stream",
     "text": [
      "The length of the word above is  50 characters\n"
     ]
    }
   ],
   "source": [
    "print \"The length of the word above is \", len(word), \"characters\""
   ]
  },
  {
   "cell_type": "code",
   "execution_count": 91,
   "metadata": {
    "collapsed": false
   },
   "outputs": [
    {
     "name": "stdout",
     "output_type": "stream",
     "text": [
      "python is the word. and on and on and on and on...\n"
     ]
    }
   ],
   "source": [
    "print word.lower()"
   ]
  },
  {
   "cell_type": "code",
   "execution_count": 92,
   "metadata": {
    "collapsed": false
   },
   "outputs": [
    {
     "name": "stdout",
     "output_type": "stream",
     "text": [
      "PYTHON IS THE WORD. AND ON AND ON AND ON AND ON...\n"
     ]
    }
   ],
   "source": [
    "print word.upper()"
   ]
  },
  {
   "cell_type": "code",
   "execution_count": 97,
   "metadata": {
    "collapsed": false
   },
   "outputs": [
    {
     "name": "stdout",
     "output_type": "stream",
     "text": [
      "4\n"
     ]
    }
   ],
   "source": [
    "word = \"Python is the word. And on and on and on and on...\" \n",
    "ind = word.index(\"on\")\n",
    "print ind"
   ]
  },
  {
   "cell_type": "code",
   "execution_count": 98,
   "metadata": {
    "collapsed": false
   },
   "outputs": [
    {
     "name": "stdout",
     "output_type": "stream",
     "text": [
      "The first time that we see the string on is at position 4\n"
     ]
    }
   ],
   "source": [
    "print \"The first time that we see the string on is at position\", word.index(\"on\")"
   ]
  },
  {
   "cell_type": "code",
   "execution_count": 103,
   "metadata": {
    "collapsed": false
   },
   "outputs": [
    {
     "name": "stdout",
     "output_type": "stream",
     "text": [
      "The second time that we see the string on is at position 31\n"
     ]
    }
   ],
   "source": [
    "first_appearance = word.index(\"on\")\n",
    "second_appearance = word.index(\"on\",first_appearance+1)\n",
    "print \"The second time that we see the string on is at position\", second_appearance"
   ]
  },
  {
   "cell_type": "code",
   "execution_count": null,
   "metadata": {
    "collapsed": true
   },
   "outputs": [],
   "source": [
    "# Looking for the string \"on\" at the second half of the big string called \"word\"\n",
    "midpoint = len(word)/2 # finds the middle of the string word\n",
    "second_half_appearance = word.index(\"on\",midpoint)\n",
    "print \"First time that we see 'on' in the second half: \", second_half_appearance"
   ]
  },
  {
   "cell_type": "code",
   "execution_count": 106,
   "metadata": {
    "collapsed": false
   },
   "outputs": [
    {
     "ename": "ValueError",
     "evalue": "substring not found",
     "output_type": "error",
     "traceback": [
      "\u001b[1;31m---------------------------------------------------------------------------\u001b[0m",
      "\u001b[1;31mValueError\u001b[0m                                Traceback (most recent call last)",
      "\u001b[1;32m<ipython-input-106-33677c739e52>\u001b[0m in \u001b[0;36m<module>\u001b[1;34m()\u001b[0m\n\u001b[0;32m      2\u001b[0m \u001b[1;31m# anywhere: For example, we will look for the string \"Panos\"\u001b[0m\u001b[1;33m\u001b[0m\u001b[1;33m\u001b[0m\u001b[0m\n\u001b[0;32m      3\u001b[0m \u001b[0mword\u001b[0m \u001b[1;33m=\u001b[0m \u001b[1;34m\"Python is the word. And on and on and on and on...\"\u001b[0m\u001b[1;33m\u001b[0m\u001b[0m\n\u001b[1;32m----> 4\u001b[1;33m \u001b[0mword\u001b[0m\u001b[1;33m.\u001b[0m\u001b[0mindex\u001b[0m\u001b[1;33m(\u001b[0m\u001b[1;34m\"Panos\"\u001b[0m\u001b[1;33m)\u001b[0m\u001b[1;33m\u001b[0m\u001b[0m\n\u001b[0m",
      "\u001b[1;31mValueError\u001b[0m: substring not found"
     ]
    }
   ],
   "source": [
    "# We get an error when the string that we are looking for does not appear\n",
    "# anywhere: For example, we will look for the string \"Panos\"\n",
    "word = \"Python is the word. And on and on and on and on...\" \n",
    "word.index(\"Panos\")"
   ]
  },
  {
   "cell_type": "code",
   "execution_count": 123,
   "metadata": {
    "collapsed": false
   },
   "outputs": [
    {
     "name": "stdout",
     "output_type": "stream",
     "text": [
      "We see the string ' PYTHON ' that many times:  0\n"
     ]
    }
   ],
   "source": [
    "word = \"Python is the word. And on and on and on and on...\"\n",
    "lookfor = \"PYTHON\"\n",
    "count = word.count(lookfor)\n",
    "print  \"We see the string '\", lookfor  ,\"' that many times: \",  count"
   ]
  },
  {
   "cell_type": "code",
   "execution_count": 118,
   "metadata": {
    "collapsed": false
   },
   "outputs": [
    {
     "name": "stdout",
     "output_type": "stream",
     "text": [
      "concatenation:\n",
      "Hello World\n",
      "Hello everybody\n"
     ]
    }
   ],
   "source": [
    "str_1 = \"Hello\"\n",
    "str_2 = \"World\"\n",
    "print \"concatenation:\"\n",
    "print str_1 + \" \" + str_2\n",
    "print str_1 + \" everybody\""
   ]
  },
  {
   "cell_type": "code",
   "execution_count": 119,
   "metadata": {
    "collapsed": false
   },
   "outputs": [
    {
     "name": "stdout",
     "output_type": "stream",
     "text": [
      "length:\n",
      "5\n",
      "11\n"
     ]
    }
   ],
   "source": [
    "print \"length:\"\n",
    "print len(str_1)\n",
    "print len(str_1 + \" \" + str_2)"
   ]
  },
  {
   "cell_type": "code",
   "execution_count": 120,
   "metadata": {
    "collapsed": false
   },
   "outputs": [
    {
     "name": "stdout",
     "output_type": "stream",
     "text": [
      "string casing:\n",
      "HELLO\n",
      "hello\n"
     ]
    }
   ],
   "source": [
    "print \"string casing:\"\n",
    "print str_1.upper()\n",
    "print \"HELLO\".lower()"
   ]
  },
  {
   "cell_type": "code",
   "execution_count": 124,
   "metadata": {
    "collapsed": false
   },
   "outputs": [
    {
     "name": "stdout",
     "output_type": "stream",
     "text": [
      "string indexing:\n",
      "2\n",
      "2\n"
     ]
    }
   ],
   "source": [
    "print \"string indexing:\"\n",
    "print \"hello\".index(\"ll\")\n",
    "print \"hello\".upper().index(\"LL\")"
   ]
  },
  {
   "cell_type": "code",
   "execution_count": 125,
   "metadata": {
    "collapsed": false
   },
   "outputs": [
    {
     "name": "stdout",
     "output_type": "stream",
     "text": [
      "string count:\n",
      "2\n",
      "1\n"
     ]
    }
   ],
   "source": [
    "print \"string count:\"\n",
    "print str_1.count(\"l\")\n",
    "print str_1.count(\"ll\")"
   ]
  },
  {
   "cell_type": "code",
   "execution_count": 126,
   "metadata": {
    "collapsed": false
   },
   "outputs": [
    {
     "name": "stdout",
     "output_type": "stream",
     "text": [
      "starts with & endswith:\n",
      "True\n",
      "False\n"
     ]
    }
   ],
   "source": [
    "print \"starts with & endswith:\"\n",
    "print \"hello\".startswith(\"he\")\n",
    "print \"hello\".endswith(\"world\")"
   ]
  },
  {
   "cell_type": "code",
   "execution_count": 129,
   "metadata": {
    "collapsed": false
   },
   "outputs": [
    {
     "name": "stdout",
     "output_type": "stream",
     "text": [
      "split:\n",
      "['practical', 'data', 'science']\n",
      "['hello']\n",
      "['prActic', 'l d', 't', ' science']\n"
     ]
    }
   ],
   "source": [
    "print \"split:\"\n",
    "print \"practical data science\".split(\" \")\n",
    "print \"hello\".split(\" \")\n",
    "print \"practical data science\".split(\"a\")"
   ]
  },
  {
   "cell_type": "code",
   "execution_count": 134,
   "metadata": {
    "collapsed": false
   },
   "outputs": [
    {
     "name": "stdout",
     "output_type": "stream",
     "text": [
      "equality:\n",
      "True\n",
      "False\n"
     ]
    }
   ],
   "source": [
    "str_1 = \"hello\"\n",
    "print \"equality:\"\n",
    "print str_1 == \"hello\"\n",
    "\n",
    "print str_1 == \"Hello\""
   ]
  },
  {
   "cell_type": "code",
   "execution_count": 135,
   "metadata": {
    "collapsed": false
   },
   "outputs": [
    {
     "name": "stdout",
     "output_type": "stream",
     "text": [
      "practical data science\n",
      "['practical', 'data', 'science']\n"
     ]
    }
   ],
   "source": [
    "mystring1 = \"practical data science\"\n",
    "mylist1 = mystring1.split(\" \")\n",
    "print mystring1\n",
    "print mylist1"
   ]
  },
  {
   "cell_type": "markdown",
   "metadata": {},
   "source": [
    "### Operations on Numeric Types:\n",
    "There are a bunch of common mathematical operations available on numeric types in python. If an operation is being performed on two integers, then the output will also be an integer. If one of the operands is a float, then the remaining operand will be cast into a float, and the result will likewise be a float.\n",
    "\n",
    "+ `+`: plus, add two numbers\n",
    "+ `-`: minus, subtract two numbers. If put before a single numeric value, takes the negative of that value. \n",
    "+ `*`: multiply two numbers\n",
    "+ `/`: divide the first operand by the second.\n",
    "+ `%`: modulo, what is the remainder when the first number is divided by the second?"
   ]
  },
  {
   "cell_type": "code",
   "execution_count": 136,
   "metadata": {
    "collapsed": false
   },
   "outputs": [
    {
     "name": "stdout",
     "output_type": "stream",
     "text": [
      "addition:\n",
      "2\n",
      "2.5\n"
     ]
    }
   ],
   "source": [
    "print \"addition:\"\n",
    "print 1+1\n",
    "print 1.5 + 1"
   ]
  },
  {
   "cell_type": "code",
   "execution_count": 138,
   "metadata": {
    "collapsed": false
   },
   "outputs": [
    {
     "name": "stdout",
     "output_type": "stream",
     "text": [
      "subtraction:\n",
      "0\n",
      "0.0\n"
     ]
    }
   ],
   "source": [
    "print \"subtraction:\"\n",
    "print 1-1\n",
    "print 1-1.0"
   ]
  },
  {
   "cell_type": "code",
   "execution_count": 139,
   "metadata": {
    "collapsed": false
   },
   "outputs": [
    {
     "name": "stdout",
     "output_type": "stream",
     "text": [
      "negation:\n",
      "-5\n"
     ]
    }
   ],
   "source": [
    "print \"negation:\"\n",
    "x = 5\n",
    "print -x"
   ]
  },
  {
   "cell_type": "code",
   "execution_count": 140,
   "metadata": {
    "collapsed": false
   },
   "outputs": [
    {
     "name": "stdout",
     "output_type": "stream",
     "text": [
      "multiplication:\n",
      "9\n",
      "4.0\n"
     ]
    }
   ],
   "source": [
    "print \"multiplication:\"\n",
    "print 3*3\n",
    "print 2*2.0"
   ]
  },
  {
   "cell_type": "code",
   "execution_count": 141,
   "metadata": {
    "collapsed": false
   },
   "outputs": [
    {
     "name": "stdout",
     "output_type": "stream",
     "text": [
      "division:\n",
      "2.5\n"
     ]
    }
   ],
   "source": [
    "print \"division:\"\n",
    "print 5.0/2.0"
   ]
  },
  {
   "cell_type": "code",
   "execution_count": 142,
   "metadata": {
    "collapsed": false
   },
   "outputs": [
    {
     "name": "stdout",
     "output_type": "stream",
     "text": [
      "integer division:\n",
      "2\n"
     ]
    }
   ],
   "source": [
    "print \"integer division:\"\n",
    "print 5/2 # integer division!"
   ]
  },
  {
   "cell_type": "code",
   "execution_count": 143,
   "metadata": {
    "collapsed": false
   },
   "outputs": [
    {
     "name": "stdout",
     "output_type": "stream",
     "text": [
      "modulo:\n",
      "1\n",
      "1.5\n"
     ]
    }
   ],
   "source": [
    "print \"modulo:\"\n",
    "print 5%2\n",
    "print 5.5%2"
   ]
  },
  {
   "cell_type": "code",
   "execution_count": 144,
   "metadata": {
    "collapsed": false
   },
   "outputs": [
    {
     "name": "stdout",
     "output_type": "stream",
     "text": [
      "percentage of men:\n",
      "0\n"
     ]
    }
   ],
   "source": [
    "# Be careful of integer division, as the pattern appears often.\n",
    "\n",
    "males = 8\n",
    "females = 10\n",
    "\n",
    "print \"percentage of men:\"\n",
    "print males/(males+females)"
   ]
  },
  {
   "cell_type": "code",
   "execution_count": 145,
   "metadata": {
    "collapsed": false
   },
   "outputs": [
    {
     "name": "stdout",
     "output_type": "stream",
     "text": [
      "percentage of men:\n",
      "0.444444444444\n"
     ]
    }
   ],
   "source": [
    "print \"percentage of men:\"\n",
    "print (1.0*males)/(males+females)"
   ]
  },
  {
   "cell_type": "markdown",
   "metadata": {},
   "source": [
    "There are also a bunch of **comparison operators** on numeric values:\n",
    "\n",
    "+ `==`: equality of values\n",
    "+ `<`: less than\n",
    "+ `<=`: less than or equal to\n",
    "+ `>`: greater than\n",
    "+ `>=`: greater than or equal to\n",
    "+ `!=`: not equal to, different than\n",
    "\n",
    "These all return a boolean with a value that depends on the outcome of the comparison. "
   ]
  },
  {
   "cell_type": "code",
   "execution_count": 146,
   "metadata": {
    "collapsed": false
   },
   "outputs": [
    {
     "name": "stdout",
     "output_type": "stream",
     "text": [
      "equals:\n",
      "False\n",
      "True\n"
     ]
    }
   ],
   "source": [
    "print \"equals:\"\n",
    "print 1 == 2\n",
    "print 1 == 1"
   ]
  },
  {
   "cell_type": "code",
   "execution_count": 148,
   "metadata": {
    "collapsed": false
   },
   "outputs": [
    {
     "name": "stdout",
     "output_type": "stream",
     "text": [
      "comparison:\n",
      "True\n",
      "False\n",
      "False\n",
      "True\n",
      "False\n"
     ]
    }
   ],
   "source": [
    "print \"comparison:\"\n",
    "print 1 > 0\n",
    "print 1 > 1\n",
    "print 1.0 < 1\n",
    "print 1 >= 1\n",
    "print 1.0 != 1"
   ]
  },
  {
   "cell_type": "markdown",
   "metadata": {},
   "source": [
    "### Boolean Operations:\n",
    "\n",
    "Frequently, one wants to combine or modify boolean values. Python has several operations for just this purpose:\n",
    "\n",
    "+ `not a`: returns the opposite value of `a`.\n",
    "+ `a and b`: returns true if and only if both `a` and `b` are true.\n",
    "+ `a or b`: returns true either `a` or `b` are true, or both.\n",
    "\n",
    "(See also LPTHW Exercises [27](http://learnpythonthehardway.org/book/ex27.html) and [28](http://learnpythonthehardway.org/book/ex28.html))\n",
    "\n",
    "Like mathematical expressions, boolean expressions can be nested using parentheses. "
   ]
  },
  {
   "cell_type": "code",
   "execution_count": 165,
   "metadata": {
    "collapsed": false
   },
   "outputs": [
    {
     "data": {
      "text/plain": [
       "True"
      ]
     },
     "execution_count": 165,
     "metadata": {},
     "output_type": "execute_result"
    }
   ],
   "source": [
    "1 == 1 and (not (\"testing\" == 1 or 1 == 0))"
   ]
  },
  {
   "cell_type": "code",
   "execution_count": 149,
   "metadata": {
    "collapsed": false
   },
   "outputs": [],
   "source": [
    "var1 = 5\n",
    "var2 = 6\n",
    "var3 = 7 "
   ]
  },
  {
   "cell_type": "code",
   "execution_count": 150,
   "metadata": {
    "collapsed": false
   },
   "outputs": [
    {
     "name": "stdout",
     "output_type": "stream",
     "text": [
      "True\n"
     ]
    }
   ],
   "source": [
    "print (var1 + var2 == 11)"
   ]
  },
  {
   "cell_type": "code",
   "execution_count": 151,
   "metadata": {
    "collapsed": false
   },
   "outputs": [
    {
     "name": "stdout",
     "output_type": "stream",
     "text": [
      "True\n"
     ]
    }
   ],
   "source": [
    "print (var2 + var3 == 13)"
   ]
  },
  {
   "cell_type": "code",
   "execution_count": 158,
   "metadata": {
    "collapsed": false
   },
   "outputs": [
    {
     "name": "stdout",
     "output_type": "stream",
     "text": [
      "True\n"
     ]
    }
   ],
   "source": [
    "print ( (not var1 + var2 == 12) or (    var2 + var3 == 14) )"
   ]
  },
  {
   "cell_type": "code",
   "execution_count": null,
   "metadata": {
    "collapsed": true
   },
   "outputs": [],
   "source": [
    "\n",
    "\n",
    "\n",
    "\n",
    "\n",
    "print (var1 + var2 == 11 and var2 + var3 == 13)\n",
    "print (var1 + var2 == 12 and var2 + var3 == 13)\n",
    "print (var1 + var2 == 12 or var2 + var3 == 13)"
   ]
  },
  {
   "cell_type": "markdown",
   "metadata": {},
   "source": [
    "### String Formatting:\n",
    "\n",
    "Often one wants to embed other information into strings, sometimes with special formatting constraints. In python, one may insert special formatting characters into strings that convey what type of data should be inserted and where, and how the \"stringified\" form should be formatted. For instance, one may wish to insert an integer into a string:"
   ]
  },
  {
   "cell_type": "code",
   "execution_count": 166,
   "metadata": {
    "collapsed": false
   },
   "outputs": [
    {
     "name": "stdout",
     "output_type": "stream",
     "text": [
      "To be or not 2 be\n"
     ]
    }
   ],
   "source": [
    "message = 2\n",
    "print \"To be or not %d be\" % message"
   ]
  },
  {
   "cell_type": "markdown",
   "metadata": {},
   "source": [
    "Note the `%d` formatting (or conversion) specifier in the string. This is stating that you wish to insert an integer value (more on these conversion specifiers below). Then the value you wish to insert into the string is separated by a `%` character placed after the string. If you wish to insert more than one value into the string being formatted, they can be placed in a comma separated list, surrounded by parentheses after the `%`:"
   ]
  },
  {
   "cell_type": "code",
   "execution_count": 168,
   "metadata": {
    "collapsed": false
   },
   "outputs": [
    {
     "name": "stdout",
     "output_type": "stream",
     "text": [
      "2 be or not 2 be\n"
     ]
    }
   ],
   "source": [
    "print \"%d be or not %d be\" % (2, 2)"
   ]
  },
  {
   "cell_type": "markdown",
   "metadata": {},
   "source": [
    "In detail, a conversion specifier contains two or more characters which must occur in order with the following components:\n",
    "\n",
    "+ The `%` character which marks the start of the specifier\n",
    "+ An optional minimum field width. The value being read is padded to be at least this width\n",
    "+ An optional precision value, given as a \"`.`\" followed by the number of digits precision. \n",
    "+ Conversion specifier flag, which defines the type of the variable that we are printing (specified below). "
   ]
  },
  {
   "cell_type": "code",
   "execution_count": 171,
   "metadata": {
    "collapsed": false
   },
   "outputs": [
    {
     "name": "stdout",
     "output_type": "stream",
     "text": [
      "Result: >04.348<\n"
     ]
    }
   ],
   "source": [
    "print \"Result: >%06.3f<\" % (100.0/23)"
   ]
  },
  {
   "cell_type": "code",
   "execution_count": 172,
   "metadata": {
    "collapsed": false
   },
   "outputs": [
    {
     "name": "stdout",
     "output_type": "stream",
     "text": [
      "Result: > 4.348<\n"
     ]
    }
   ],
   "source": [
    "print \"Result: >%6.3f<\" % (100.0/23)"
   ]
  },
  {
   "cell_type": "code",
   "execution_count": 173,
   "metadata": {
    "collapsed": false
   },
   "outputs": [
    {
     "name": "stdout",
     "output_type": "stream",
     "text": [
      "Result: 4.35\n"
     ]
    }
   ],
   "source": [
    "print \"Result: %.2f\" % (100.0/23)"
   ]
  },
  {
   "cell_type": "code",
   "execution_count": 192,
   "metadata": {
    "collapsed": false
   },
   "outputs": [
    {
     "name": "stdout",
     "output_type": "stream",
     "text": [
      "Result: <1428571.4286>\n",
      "Result: <00014.2857>\n"
     ]
    }
   ],
   "source": [
    "print \"Result: <%010.4f>\" % (10000000.0/7)\n",
    "print \"Result: <%010.4f>\" % (100.0/7)"
   ]
  },
  {
   "cell_type": "code",
   "execution_count": 188,
   "metadata": {
    "collapsed": false
   },
   "outputs": [
    {
     "name": "stdout",
     "output_type": "stream",
     "text": [
      "Result: >   0.0000043478<\n"
     ]
    }
   ],
   "source": [
    "print \"Result: >%15.10f<\" % (100.0/23000000)"
   ]
  },
  {
   "cell_type": "markdown",
   "metadata": {},
   "source": [
    "Some common conversion flag characters are:\n",
    "\n",
    "+ `s`: String\n",
    "+ `d`: Signed integer decimal.\t\n",
    "+ `f`: Floating point decimal format.\n",
    "+ `e`: Floating point exponential format (lowercase).\n",
    "+ `E`: Floating point exponential format (uppercase)."
   ]
  },
  {
   "cell_type": "code",
   "execution_count": null,
   "metadata": {
    "collapsed": false
   },
   "outputs": [],
   "source": [
    "print \"%d %s or not %04.3f %s\" % (2, \"be\", 10.0/3, 'b')"
   ]
  },
  {
   "cell_type": "markdown",
   "metadata": {},
   "source": [
    "For a more detailed treatment on string formatting options, [see here](http://docs.python.org/release/2.5.2/lib/typesseq-strings.html)."
   ]
  }
 ],
 "metadata": {
  "kernelspec": {
   "display_name": "Python 2",
   "language": "python",
   "name": "python2"
  },
  "language_info": {
   "codemirror_mode": {
    "name": "ipython",
    "version": 2
   },
   "file_extension": ".py",
   "mimetype": "text/x-python",
   "name": "python",
   "nbconvert_exporter": "python",
   "pygments_lexer": "ipython2",
   "version": "2.7.6"
  }
 },
 "nbformat": 4,
 "nbformat_minor": 0
}
