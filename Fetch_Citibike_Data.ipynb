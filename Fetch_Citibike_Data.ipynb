{
 "cells": [
  {
   "cell_type": "code",
   "execution_count": 2,
   "metadata": {
    "collapsed": false
   },
   "outputs": [
    {
     "name": "stdout",
     "output_type": "stream",
     "text": [
      "507\n"
     ]
    }
   ],
   "source": [
    "import requests\n",
    "import json\n",
    "\n",
    "# Connect to the Citibike API and fetch the data\n",
    "def getCitibikeData():\n",
    "    ''' \n",
    "    Connects to the API, and returns back a list\n",
    "    of dictionaries, each dictionary corresponding\n",
    "    to a Citibike station\n",
    "    '''\n",
    "    # Let's get the data from the Citibike API\n",
    "    url = 'http://www.citibikenyc.com/stations/json'\n",
    "    resp = requests.get(url)\n",
    "    results = json.loads(resp.text)\n",
    "    data = results[\"stationBeanList\"]\n",
    "    return data\n",
    "\n",
    "citibike_data = getCitibikeData()\n"
   ]
  },
  {
   "cell_type": "code",
   "execution_count": null,
   "metadata": {
    "collapsed": true
   },
   "outputs": [],
   "source": [
    "import MySQLdb as mdb\n",
    "import sys\n",
    "\n",
    "# Setup the database in which we will store the Citibike data\n",
    "def connectDB():\n",
    "    con = mdb.connect(host = 'localhost', \n",
    "                      user = 'root', \n",
    "                      passwd = 'dwdstudent2015', \n",
    "                      charset = 'utf8', use_unicode=True);\n",
    "    return con\n",
    "\n",
    "def createCitibikeDB(con, db_name):\n",
    "    ''' \n",
    "    Connects to the database and creates (if it does not exist)\n",
    "    the database and the tables needed to store the data\n",
    "    '''\n",
    "    # Query to create a database\n",
    "    create_db_query = \"CREATE DATABASE IF NOT EXISTS {0} DEFAULT CHARACTER SET 'utf8'\".format(db_name)\n",
    "\n",
    "    # Create a database\n",
    "    cursor = con.cursor()\n",
    "    cursor.execute(create_db_query)\n",
    "    cursor.close()\n",
    "    pass\n",
    "\n",
    "con = connectDB()\n",
    "db_name = 'citibike'\n",
    "createCitibikeDB(con, db_name)"
   ]
  },
  {
   "cell_type": "code",
   "execution_count": null,
   "metadata": {
    "collapsed": true
   },
   "outputs": [],
   "source": [
    "# Go over the Citibike data and store the time-invariant\n",
    "# data into the appropriate table in the database\n",
    "def storeTimeInvariantData(citibike_data):\n",
    "    '''\n",
    "    Accepts as a parameter a list of dictionaries, where\n",
    "    each dictionary is a Citibike station.\n",
    "    Goes over these dictionaries, and stores in the database\n",
    "    the entries that are time invariant.\n",
    "    We need to check if Citibike station entry exists,\n",
    "    and if it does not, store it in the database\n",
    "    '''\n",
    "    pass\n",
    "\n",
    "storeTimeInvariantData(citibike_data)"
   ]
  },
  {
   "cell_type": "code",
   "execution_count": null,
   "metadata": {
    "collapsed": true
   },
   "outputs": [],
   "source": [
    "# Go over the Citibike data and store the time-varying\n",
    "# data into the appropriate table in the database\n",
    "def storeTimeVaryingData(citibike_data):\n",
    "    '''\n",
    "    Accepts as a parameter a list of dictionaries, where\n",
    "    each dictionary is a Citibike station.\n",
    "    Goes over these dictionaries, and stores in the database\n",
    "    the entries that are time invariant.\n",
    "    We need to check if Citibike station entry, together\n",
    "    with the matching \"lastCommunication\" timestamp exists,\n",
    "    and if it does not, store it in the database\n",
    "    '''\n",
    "\n",
    "storeTimeVaryingData(citibike_data)"
   ]
  }
 ],
 "metadata": {
  "kernelspec": {
   "display_name": "Python 2",
   "language": "python",
   "name": "python2"
  },
  "language_info": {
   "codemirror_mode": {
    "name": "ipython",
    "version": 2
   },
   "file_extension": ".py",
   "mimetype": "text/x-python",
   "name": "python",
   "nbconvert_exporter": "python",
   "pygments_lexer": "ipython2",
   "version": "2.7.6"
  }
 },
 "nbformat": 4,
 "nbformat_minor": 0
}
