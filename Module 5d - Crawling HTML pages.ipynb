{
 "cells": [
  {
   "cell_type": "markdown",
   "metadata": {},
   "source": [
    "## Crawling and Extracting Data from Websites"
   ]
  },
  {
   "cell_type": "code",
   "execution_count": 5,
   "metadata": {
    "collapsed": false
   },
   "outputs": [
    {
     "name": "stdout",
     "output_type": "stream",
     "text": [
      "curl: (60) SSL certificate problem: unable to get local issuer certificate\r\n",
      "More details here: http://curl.haxx.se/docs/sslcerts.html\r\n",
      "\r\n",
      "curl performs SSL certificate verification by default, using a \"bundle\"\r\n",
      " of Certificate Authority (CA) public keys (CA certs). If the default\r\n",
      " bundle file isn't adequate, you can specify an alternate file\r\n",
      " using the --cacert option.\r\n",
      "If this HTTPS server uses a certificate signed by a CA represented in\r\n",
      " the bundle, the certificate verification probably failed due to a\r\n",
      " problem with the certificate (it might be expired, or the name might\r\n",
      " not match the domain name in the URL).\r\n",
      "If you'd like to turn off curl's verification of the certificate, use\r\n",
      " the -k (or --insecure) option.\r\n"
     ]
    }
   ],
   "source": [
    "!curl -u \"<d0ee6659e480fcc0fdcf9e2ccfbb2f70>:X\" https://api.robowhois.com/v1/whois/Firstdevapp.com"
   ]
  },
  {
   "cell_type": "code",
   "execution_count": null,
   "metadata": {
    "collapsed": false
   },
   "outputs": [],
   "source": [
    "#!/usr/bin/env python\n",
    "\n",
    "import requests\n",
    "print \"hi\"\n",
    "def whoapi_check_domain_taken(domain, apikey):\n",
    "    \n",
    " \n",
    "    r= requests.get(\"http://api.whoapi.com/?domain=whoapi.com&r=whois&apikey=d0ee6659e480fcc0fdcf9e2ccfbb2f70\")\n",
    "    if r.status_code == 200:\n",
    "        data = r.json()\n",
    "        if int(data['status']) == 0:\n",
    "            return int(data['taken']) == 1\n",
    "        else:\n",
    "            raise Exception(data['status_desc'])\n",
    "    else:\n",
    "        raise Exception('unexpected status code %d' % r.status_code)\n",
    "\n",
    "print whoapi_check_domain_taken('whoapi.com', 'demokey')"
   ]
  },
  {
   "cell_type": "markdown",
   "metadata": {},
   "source": [
    "This module uses a set of non-standard libraries, which need to be installed on your machine. By default, your instance should have these installed, but if this is not the case, type these in the Unix shell prompt\n",
    "\n",
    "`sudo apt-get install libxml2-dev libxslt-dev python-dev` \n",
    "\n",
    "and then\n",
    "\n",
    "`sudo pip install lxml`\n",
    "\n",
    "`sudo pip install pandas`\n",
    "\n",
    "It will take a few minutes to get everything installed."
   ]
  },
  {
   "cell_type": "markdown",
   "metadata": {},
   "source": [
    "### Fetching the headlines from ESPN.com\n",
    "\n",
    "Let's start by trying to fetch the headlines from the site ESPN.com.\n",
    "\n"
   ]
  },
  {
   "cell_type": "code",
   "execution_count": 2,
   "metadata": {
    "collapsed": false
   },
   "outputs": [],
   "source": [
    "import requests # This command allows us to fetch URLs\n",
    "from lxml import html # This module will allow us to parse the returned HTML/XML\n",
    "import pandas # To create a dataframe\n",
    "\n",
    "# Let's start by fetching the page, and parsing it\n",
    "url = \"http://www.espn.com/\"\n",
    "response = requests.get(url) # get the html of that url\n",
    "doc = html.fromstring(response.text) # parse it and create a document"
   ]
  },
  {
   "cell_type": "code",
   "execution_count": 3,
   "metadata": {
    "collapsed": false
   },
   "outputs": [
    {
     "name": "stdout",
     "output_type": "stream",
     "text": [
      "<Element div at 0x7f66ed876940>\n"
     ]
    }
   ],
   "source": [
    "import pandas # To create a dataframe\n",
    "\n",
    "# Let's start by fetching the page, and parsing it\n",
    "url = \"http://www.espn.com/\"\n",
    "response = requests.get(url) # get the html of that url\n",
    "doc = html.fromstring(response.text) # parse it and create a document\n",
    "\n",
    "# We search for the text of the headlines in the source\n",
    "# and we see that they are all under a <ul class=\"headlines\"> tag\n",
    "# which is also the only such tag in the html source\n",
    "# So, we can use the \"find\" command (instead of the \"findall\", \n",
    "# which would return a list, with just a single entry in this case)\n",
    "headlineNode = doc.find('.//div[@class=\"headlines\"]') \n",
    "print headlineNode"
   ]
  },
  {
   "cell_type": "markdown",
   "metadata": {},
   "source": [
    "The `doc` variable is an `HtmlElement` object, and we can now use **XPath** queries to locate the elements that we need. (Depending on time, we may do in class a tutorial on XPath. For now, you can look at the [W3Schools tutorial](http://www.w3schools.com/xpath/xpath_nodes.asp))"
   ]
  },
  {
   "cell_type": "markdown",
   "metadata": {},
   "source": [
    "For example, to find all the `<a ...> ... </a>` tags in the returned html, which store the links in the page, we issue the command:"
   ]
  },
  {
   "cell_type": "code",
   "execution_count": null,
   "metadata": {
    "collapsed": false
   },
   "outputs": [],
   "source": [
    "links = doc.findall(\".//a\")\n",
    "len(links)"
   ]
  },
  {
   "cell_type": "code",
   "execution_count": 4,
   "metadata": {
    "collapsed": false
   },
   "outputs": [
    {
     "name": "stdout",
     "output_type": "stream",
     "text": [
      "[<Element a at 0x7f09ac9aa6d8>, <Element a at 0x7f09ac9aa680>, <Element a at 0x7f09ac9aa628>, <Element a at 0x7f09ac9aa730>, <Element a at 0x7f09ac9aa788>, <Element a at 0x7f09ac9aa7e0>, <Element a at 0x7f09ac9aa838>, <Element a at 0x7f09ac9aa890>, <Element a at 0x7f09ac9aa8e8>, <Element a at 0x7f09ac9aa940>, <Element a at 0x7f09ac9aa998>, <Element a at 0x7f09ac9aa9f0>, <Element a at 0x7f09ac9aaa48>, <Element a at 0x7f09ac9aaaa0>, <Element a at 0x7f09ac9aaaf8>, <Element a at 0x7f09ac9aab50>, <Element a at 0x7f09ac9aaba8>, <Element a at 0x7f09ac9aac00>, <Element a at 0x7f09ac9aac58>, <Element a at 0x7f09ac9aacb0>, <Element a at 0x7f09ac9aad08>, <Element a at 0x7f09ac9aad60>, <Element a at 0x7f09ac9aadb8>, <Element a at 0x7f09ac9aae10>, <Element a at 0x7f09ac9aae68>, <Element a at 0x7f09ac9aaec0>, <Element a at 0x7f09ac9aaf18>, <Element a at 0x7f09ac9aaf70>, <Element a at 0x7f09ac9aafc8>, <Element a at 0x7f09abd86050>, <Element a at 0x7f09abd860a8>, <Element a at 0x7f09abd86100>, <Element a at 0x7f09abd86158>, <Element a at 0x7f09abd861b0>, <Element a at 0x7f09abd86208>, <Element a at 0x7f09abd86260>, <Element a at 0x7f09abd862b8>, <Element a at 0x7f09abd86310>, <Element a at 0x7f09abd86368>, <Element a at 0x7f09abd863c0>, <Element a at 0x7f09abd86418>, <Element a at 0x7f09abd86470>, <Element a at 0x7f09abd864c8>, <Element a at 0x7f09abd86520>, <Element a at 0x7f09abd86578>, <Element a at 0x7f09abd865d0>, <Element a at 0x7f09abd86628>, <Element a at 0x7f09abd86680>, <Element a at 0x7f09abd866d8>, <Element a at 0x7f09abd86730>, <Element a at 0x7f09abd86788>, <Element a at 0x7f09abd867e0>, <Element a at 0x7f09abd86838>, <Element a at 0x7f09abd86890>, <Element a at 0x7f09abd868e8>, <Element a at 0x7f09abd86940>, <Element a at 0x7f09abd86998>, <Element a at 0x7f09abd869f0>, <Element a at 0x7f09abd86a48>, <Element a at 0x7f09abd86aa0>, <Element a at 0x7f09abd86af8>, <Element a at 0x7f09abd86b50>, <Element a at 0x7f09abd86ba8>, <Element a at 0x7f09abd86c00>, <Element a at 0x7f09abd86c58>, <Element a at 0x7f09abd86cb0>, <Element a at 0x7f09abd86d08>, <Element a at 0x7f09abd86d60>, <Element a at 0x7f09abd86db8>, <Element a at 0x7f09abd86e10>, <Element a at 0x7f09abd86e68>, <Element a at 0x7f09abd86ec0>, <Element a at 0x7f09abd86f18>, <Element a at 0x7f09abd86f70>, <Element a at 0x7f09abd86fc8>, <Element a at 0x7f09abd87050>, <Element a at 0x7f09abd870a8>, <Element a at 0x7f09abd87100>, <Element a at 0x7f09abd87158>, <Element a at 0x7f09abd871b0>, <Element a at 0x7f09abd87208>, <Element a at 0x7f09abd87260>, <Element a at 0x7f09abd872b8>, <Element a at 0x7f09abd87310>, <Element a at 0x7f09abd87368>, <Element a at 0x7f09abd873c0>, <Element a at 0x7f09abd87418>, <Element a at 0x7f09abd87470>, <Element a at 0x7f09abd874c8>, <Element a at 0x7f09abd87520>, <Element a at 0x7f09abd87578>, <Element a at 0x7f09abd875d0>, <Element a at 0x7f09abd87628>, <Element a at 0x7f09abd87680>, <Element a at 0x7f09abd876d8>, <Element a at 0x7f09abd87730>, <Element a at 0x7f09abd87788>, <Element a at 0x7f09abd877e0>, <Element a at 0x7f09abd87838>, <Element a at 0x7f09abd87890>, <Element a at 0x7f09abd878e8>, <Element a at 0x7f09abd87940>, <Element a at 0x7f09abd87998>, <Element a at 0x7f09abd879f0>, <Element a at 0x7f09abd87a48>, <Element a at 0x7f09abd87aa0>, <Element a at 0x7f09abd87af8>, <Element a at 0x7f09abd87b50>, <Element a at 0x7f09abd87ba8>, <Element a at 0x7f09abd87c00>, <Element a at 0x7f09abd87c58>, <Element a at 0x7f09ac9aa310>, <Element a at 0x7f09abd87cb0>, <Element a at 0x7f09abd87d08>, <Element a at 0x7f09abd87d60>, <Element a at 0x7f09abd87db8>, <Element a at 0x7f09abd87e10>, <Element a at 0x7f09abd87e68>, <Element a at 0x7f09abd87ec0>, <Element a at 0x7f09abd87f18>, <Element a at 0x7f09abd87f70>, <Element a at 0x7f09abd87fc8>, <Element a at 0x7f09abd88050>, <Element a at 0x7f09abd880a8>, <Element a at 0x7f09abd88100>, <Element a at 0x7f09abd88158>, <Element a at 0x7f09abd881b0>, <Element a at 0x7f09abd88208>, <Element a at 0x7f09abd88260>, <Element a at 0x7f09abd882b8>, <Element a at 0x7f09abd88310>, <Element a at 0x7f09abd88368>, <Element a at 0x7f09abd883c0>, <Element a at 0x7f09abd88418>, <Element a at 0x7f09abd88470>, <Element a at 0x7f09abd884c8>, <Element a at 0x7f09abd88520>, <Element a at 0x7f09abd88578>, <Element a at 0x7f09abd885d0>, <Element a at 0x7f09abd88628>, <Element a at 0x7f09abd88680>, <Element a at 0x7f09abd886d8>, <Element a at 0x7f09abd88730>, <Element a at 0x7f09abd88788>, <Element a at 0x7f09abd887e0>, <Element a at 0x7f09abd88838>, <Element a at 0x7f09abd88890>, <Element a at 0x7f09abd888e8>, <Element a at 0x7f09abd88940>, <Element a at 0x7f09abd88998>, <Element a at 0x7f09abd889f0>, <Element a at 0x7f09abd88a48>, <Element a at 0x7f09abd88aa0>, <Element a at 0x7f09abd88af8>, <Element a at 0x7f09abd88b50>, <Element a at 0x7f09abd88ba8>, <Element a at 0x7f09abd88c00>, <Element a at 0x7f09abd88c58>, <Element a at 0x7f09abd88cb0>, <Element a at 0x7f09abd88d08>, <Element a at 0x7f09abd88d60>, <Element a at 0x7f09abd88db8>, <Element a at 0x7f09abd88e10>, <Element a at 0x7f09abd88e68>, <Element a at 0x7f09abd88ec0>, <Element a at 0x7f09abd88f18>, <Element a at 0x7f09abd88f70>, <Element a at 0x7f09abd88fc8>, <Element a at 0x7f09abd89050>, <Element a at 0x7f09abd890a8>, <Element a at 0x7f09abd89100>, <Element a at 0x7f09abd89158>, <Element a at 0x7f09abd891b0>, <Element a at 0x7f09abd89208>, <Element a at 0x7f09abd89260>, <Element a at 0x7f09abd892b8>, <Element a at 0x7f09abd89310>, <Element a at 0x7f09abd89368>, <Element a at 0x7f09abd893c0>, <Element a at 0x7f09abd89418>, <Element a at 0x7f09abd89470>, <Element a at 0x7f09abd894c8>, <Element a at 0x7f09abd89520>, <Element a at 0x7f09abd89578>, <Element a at 0x7f09abd895d0>, <Element a at 0x7f09abd89628>, <Element a at 0x7f09abd89680>, <Element a at 0x7f09abd896d8>, <Element a at 0x7f09abd89730>, <Element a at 0x7f09abd89788>, <Element a at 0x7f09abd897e0>, <Element a at 0x7f09abd89838>, <Element a at 0x7f09abd89890>, <Element a at 0x7f09abd898e8>, <Element a at 0x7f09abd89940>, <Element a at 0x7f09abd89998>, <Element a at 0x7f09abd899f0>, <Element a at 0x7f09abd89a48>, <Element a at 0x7f09abd89aa0>, <Element a at 0x7f09abd89af8>, <Element a at 0x7f09abd89b50>, <Element a at 0x7f09abd89ba8>, <Element a at 0x7f09abd89c00>, <Element a at 0x7f09abd89c58>, <Element a at 0x7f09abd89cb0>, <Element a at 0x7f09abd89d08>, <Element a at 0x7f09abd89d60>, <Element a at 0x7f09abd89db8>, <Element a at 0x7f09abd89e10>, <Element a at 0x7f09abd89e68>, <Element a at 0x7f09abd89ec0>, <Element a at 0x7f09abd89f18>, <Element a at 0x7f09abd89f70>, <Element a at 0x7f09abd89fc8>, <Element a at 0x7f09abd8a050>, <Element a at 0x7f09abd8a0a8>, <Element a at 0x7f09abd8a100>, <Element a at 0x7f09abd8a158>, <Element a at 0x7f09abd8a1b0>, <Element a at 0x7f09abd8a208>, <Element a at 0x7f09abd8a260>, <Element a at 0x7f09abd8a2b8>, <Element a at 0x7f09abd8a310>, <Element a at 0x7f09abd8a368>, <Element a at 0x7f09abd8a3c0>, <Element a at 0x7f09abd8a418>, <Element a at 0x7f09abd8a470>, <Element a at 0x7f09abd8a4c8>, <Element a at 0x7f09abd8a520>, <Element a at 0x7f09abd8a578>, <Element a at 0x7f09abd8a5d0>, <Element a at 0x7f09abd8a628>, <Element a at 0x7f09abd8a680>, <Element a at 0x7f09abd8a6d8>, <Element a at 0x7f09abd8a730>, <Element a at 0x7f09abd8a788>, <Element a at 0x7f09abd8a7e0>, <Element a at 0x7f09abd8a838>, <Element a at 0x7f09abd8a890>, <Element a at 0x7f09abd8a8e8>, <Element a at 0x7f09abd8a940>, <Element a at 0x7f09abd8a998>, <Element a at 0x7f09abd8a9f0>, <Element a at 0x7f09abd8aa48>, <Element a at 0x7f09abd8aaa0>, <Element a at 0x7f09abd8aaf8>, <Element a at 0x7f09abd8ab50>, <Element a at 0x7f09abd8aba8>, <Element a at 0x7f09abd8ac00>, <Element a at 0x7f09abd8ac58>, <Element a at 0x7f09abd8acb0>, <Element a at 0x7f09abd8ad08>, <Element a at 0x7f09abd8ad60>, <Element a at 0x7f09abd8adb8>, <Element a at 0x7f09abd8ae10>, <Element a at 0x7f09abd8ae68>, <Element a at 0x7f09abd8aec0>, <Element a at 0x7f09abd8af18>, <Element a at 0x7f09abd8af70>, <Element a at 0x7f09abd8afc8>, <Element a at 0x7f09abd8b050>, <Element a at 0x7f09abd8b0a8>, <Element a at 0x7f09abd8b100>, <Element a at 0x7f09abd8b158>, <Element a at 0x7f09abd8b1b0>, <Element a at 0x7f09abd8b208>, <Element a at 0x7f09abd8b260>, <Element a at 0x7f09abd8b2b8>, <Element a at 0x7f09abd8b310>, <Element a at 0x7f09abd8b368>, <Element a at 0x7f09abd8b3c0>, <Element a at 0x7f09abd8b418>, <Element a at 0x7f09abd8b470>, <Element a at 0x7f09abd8b4c8>, <Element a at 0x7f09abd8b520>, <Element a at 0x7f09abd8b578>, <Element a at 0x7f09abd8b5d0>, <Element a at 0x7f09abd8b628>, <Element a at 0x7f09abd8b680>]\n"
     ]
    }
   ],
   "source": [
    "print links"
   ]
  },
  {
   "cell_type": "code",
   "execution_count": 17,
   "metadata": {
    "collapsed": false
   },
   "outputs": [
    {
     "name": "stdout",
     "output_type": "stream",
     "text": [
      "<Element a at 0x7f09ac141b50>\n"
     ]
    }
   ],
   "source": [
    "lnk = links[45]\n",
    "type(lnk)\n",
    "print lnk"
   ]
  },
  {
   "cell_type": "markdown",
   "metadata": {},
   "source": [
    "The `lnk` variable is again an HtmlElement. To get parts of the html element that we need, we can use the `get` method (e.g., to get the `href` attribute) and the `text_content` method (to get the text within the `<a>...</a>` tag."
   ]
  },
  {
   "cell_type": "code",
   "execution_count": null,
   "metadata": {
    "collapsed": false
   },
   "outputs": [],
   "source": [
    "print lnk.get(\"href\")\n",
    "print lnk.text_content()"
   ]
  },
  {
   "cell_type": "markdown",
   "metadata": {},
   "source": [
    "Now, let's revisit the _list comprehension_ approach that we discussed in the Python Primer session, for quickly constructing lists:"
   ]
  },
  {
   "cell_type": "code",
   "execution_count": null,
   "metadata": {
    "collapsed": false
   },
   "outputs": [],
   "source": [
    "urls = [lnk.get(\"href\") for lnk in doc.findall('.//a')]\n",
    "urls"
   ]
  },
  {
   "cell_type": "markdown",
   "metadata": {},
   "source": [
    "#### Exercise\n",
    "\n",
    "Use a list compresension approach, to get the text_content of all the URLs in the page."
   ]
  },
  {
   "cell_type": "code",
   "execution_count": null,
   "metadata": {
    "collapsed": false
   },
   "outputs": [],
   "source": [
    "text = [lnk.text_content() for lnk in doc.findall('.//a')]\n",
    "#urls = [lnk.get(\"href\") for lnk in doc.findall('.//a')]\n",
    "text"
   ]
  },
  {
   "cell_type": "markdown",
   "metadata": {},
   "source": [
    "And now create a list where we put together text content and the URL for each link"
   ]
  },
  {
   "cell_type": "code",
   "execution_count": null,
   "metadata": {
    "collapsed": false
   },
   "outputs": [],
   "source": [
    "data = [(lnk.text_content(), lnk.get(\"href\")) for lnk in doc.findall('.//a')]\n",
    "data"
   ]
  },
  {
   "cell_type": "markdown",
   "metadata": {},
   "source": [
    "#### Let's get the headlines..."
   ]
  },
  {
   "cell_type": "markdown",
   "metadata": {},
   "source": [
    "Now, let's examine how we can get the data from the website. The key is to understand the structure of the HTML, where the data that we need is stored, and how to fetch the elements. Then, using a combination of `find` and `findall` commands, together with the appropriate XPath queries, we will get what we want"
   ]
  },
  {
   "cell_type": "code",
   "execution_count": 12,
   "metadata": {
    "collapsed": false
   },
   "outputs": [],
   "source": [
    "import requests # This command allows us to fetch URLs\n",
    "from lxml import html # This module will allow us to parse the returned HTML/XML\n",
    "import pandas # To create a dataframe\n",
    "\n",
    "# Let's start by fetching the page, and parsing it\n",
    "url = \"http://www.espn.com/\"\n",
    "response = requests.get(url) # get the html of that url\n",
    "doc = html.fromstring(response.text) # parse it and create a document\n",
    "\n",
    "# We search for the text of the headlines in the source\n",
    "# and we see that they are all under a <ul class=\"headlines\"> tag\n",
    "# which is also the only such tag in the html source\n",
    "# So, we can use the \"find\" command (instead of the \"findall\", \n",
    "# which would return a list, with just a single entry in this case)\n",
    "headlineNode = doc.find('.//div[@class=\"headlines\"]') \n",
    "\n",
    "# Each headline is under a  <li><a href=\"....\"></a> \n",
    "# tag. We also notice that there are two <a></a> tags within\n",
    "# each <li>, and we only need the first one.\n",
    "# So, we get all the <li><a ...> tags within the <ul class=\"headlines\">\n",
    "# (which is stored in the \"headlineNode\" variable)\n",
    "headlines = headlineNode.findall('./ul/li/a')\n"
   ]
  },
  {
   "cell_type": "code",
   "execution_count": 18,
   "metadata": {
    "collapsed": false
   },
   "outputs": [
    {
     "data": {
      "text/plain": [
       "[(\"LeBron: Dellavedova undeserving of 'bad rap'\",\n",
       "  '/nba/playoffs/2015/story/_/id/12947907/2015-nba-playoffs-lebron-james-says-matthew-dellavedova-undeserving-bad-rap'),\n",
       " ('Horford receives flagrant foul 2, ejected vs. Cavs',\n",
       "  '/nba/playoffs/2015/story/_/id/12946882/al-horford-atlanta-hawks-ejected-flagrant-foul-cavaliers-matthew-dellavedova'),\n",
       " (\"Source: Peterson tells Vikes he won't be at OTAs\",\n",
       "  '/nfl/story/_/id/12946537/adrian-peterson-tells-minnesota-vikings-coach-otas'),\n",
       " ('Edwards wins Coca-Cola 600, snaps 31-race skid',\n",
       "  '/racing/nascar/story/_/id/12947159/carl-edwards-wins-coca-cola-600'),\n",
       " ('Bishop, Lightning lock up, push Rangers to edge',\n",
       "  '/nhl/recap?gameId=400795937'),\n",
       " (\"Yanks retire ex-CF Williams' No. 51, unveil plaque\",\n",
       "  '/new-york/mlb/story/_/id/12946869/new-york-yankees-retire-bernie-williams-no-51-unveil-plaque'),\n",
       " ('Bowden: Players likely to be dealt by deadline',\n",
       "  '/blog/the-gms-office/insider/post?id=11023')]"
      ]
     },
     "execution_count": 18,
     "metadata": {},
     "output_type": "execute_result"
    }
   ],
   "source": [
    "# Now, we have the nodes with the conent in the headlines variable\n",
    "# We extract the text and the URL\n",
    "data = [(a.text_content(), a.get(\"href\")) for a in headlines]\n",
    "\n",
    "data"
   ]
  },
  {
   "cell_type": "code",
   "execution_count": 19,
   "metadata": {
    "collapsed": false
   },
   "outputs": [],
   "source": [
    "# And let's create our dataframe\n",
    "dataframe = pandas.DataFrame(data, columns=[\"Title\", \"URL\"])"
   ]
  },
  {
   "cell_type": "code",
   "execution_count": 20,
   "metadata": {
    "collapsed": false
   },
   "outputs": [
    {
     "data": {
      "text/html": [
       "<div style=\"max-height:1000px;max-width:1500px;overflow:auto;\">\n",
       "<table border=\"1\" class=\"dataframe\">\n",
       "  <thead>\n",
       "    <tr style=\"text-align: right;\">\n",
       "      <th></th>\n",
       "      <th>Title</th>\n",
       "      <th>URL</th>\n",
       "    </tr>\n",
       "  </thead>\n",
       "  <tbody>\n",
       "    <tr>\n",
       "      <th>0</th>\n",
       "      <td>LeBron: Dellavedova undeserving of 'bad rap'</td>\n",
       "      <td>/nba/playoffs/2015/story/_/id/12947907/2015-nb...</td>\n",
       "    </tr>\n",
       "    <tr>\n",
       "      <th>1</th>\n",
       "      <td>Horford receives flagrant foul 2, ejected vs. ...</td>\n",
       "      <td>/nba/playoffs/2015/story/_/id/12946882/al-horf...</td>\n",
       "    </tr>\n",
       "    <tr>\n",
       "      <th>2</th>\n",
       "      <td>Source: Peterson tells Vikes he won't be at OTAs</td>\n",
       "      <td>/nfl/story/_/id/12946537/adrian-peterson-tells...</td>\n",
       "    </tr>\n",
       "    <tr>\n",
       "      <th>3</th>\n",
       "      <td>Edwards wins Coca-Cola 600, snaps 31-race skid</td>\n",
       "      <td>/racing/nascar/story/_/id/12947159/carl-edward...</td>\n",
       "    </tr>\n",
       "    <tr>\n",
       "      <th>4</th>\n",
       "      <td>Bishop, Lightning lock up, push Rangers to edge</td>\n",
       "      <td>/nhl/recap?gameId=400795937</td>\n",
       "    </tr>\n",
       "    <tr>\n",
       "      <th>5</th>\n",
       "      <td>Yanks retire ex-CF Williams' No. 51, unveil pl...</td>\n",
       "      <td>/new-york/mlb/story/_/id/12946869/new-york-yan...</td>\n",
       "    </tr>\n",
       "    <tr>\n",
       "      <th>6</th>\n",
       "      <td>Bowden: Players likely to be dealt by deadline</td>\n",
       "      <td>/blog/the-gms-office/insider/post?id=11023</td>\n",
       "    </tr>\n",
       "  </tbody>\n",
       "</table>\n",
       "</div>"
      ],
      "text/plain": [
       "                                               Title  \\\n",
       "0       LeBron: Dellavedova undeserving of 'bad rap'   \n",
       "1  Horford receives flagrant foul 2, ejected vs. ...   \n",
       "2   Source: Peterson tells Vikes he won't be at OTAs   \n",
       "3     Edwards wins Coca-Cola 600, snaps 31-race skid   \n",
       "4    Bishop, Lightning lock up, push Rangers to edge   \n",
       "5  Yanks retire ex-CF Williams' No. 51, unveil pl...   \n",
       "6     Bowden: Players likely to be dealt by deadline   \n",
       "\n",
       "                                                 URL  \n",
       "0  /nba/playoffs/2015/story/_/id/12947907/2015-nb...  \n",
       "1  /nba/playoffs/2015/story/_/id/12946882/al-horf...  \n",
       "2  /nfl/story/_/id/12946537/adrian-peterson-tells...  \n",
       "3  /racing/nascar/story/_/id/12947159/carl-edward...  \n",
       "4                        /nhl/recap?gameId=400795937  \n",
       "5  /new-york/mlb/story/_/id/12946869/new-york-yan...  \n",
       "6         /blog/the-gms-office/insider/post?id=11023  "
      ]
     },
     "execution_count": 20,
     "metadata": {},
     "output_type": "execute_result"
    }
   ],
   "source": [
    "dataframe"
   ]
  },
  {
   "cell_type": "markdown",
   "metadata": {},
   "source": [
    "### Parsing Yahoo Finance\n",
    "\n",
    "Let's try to parse the page from Yahoo Finance that contains the Options prices for YHOO (or any other company, actually). Let's start with the standard process of fetching the URL, and parsing the content into a document/tree:"
   ]
  },
  {
   "cell_type": "code",
   "execution_count": null,
   "metadata": {
    "collapsed": false
   },
   "outputs": [],
   "source": [
    "import requests # This command allows us to fetch URLs\n",
    "from lxml import html # This module will allow us to parse the returned HTML/XML\n",
    "\n",
    "url = \"http://finance.yahoo.com/q/op?s=YHOO+Options\"\n",
    "\n",
    "# get the html of that url\n",
    "response = requests.get(url)\n",
    "\n",
    "# Parse the html into a tree\n",
    "doc = html.fromstring(response.text)\n",
    "print doc"
   ]
  },
  {
   "cell_type": "markdown",
   "metadata": {},
   "source": [
    "#### Getting the data that we want\n",
    "\n",
    "Now, let's say that we want to get the prices for the different options. Scraping HTML is a little bit of an art, and sometimes involves trial and error, as the html formatting of the page can change at any point.\n",
    "\n",
    "To see where the data is stored, we need to look at the HTML, and try to understand the structure of what surrounds our data of interest. For our case, we see that the prices are stored in an HTML `<table>` element. The table also contains the attribute `class=\"details-table quote-table Fz-m\"`. So, we fetch these two tables, and we ensure that we have two such tables (the call and put) in our results:"
   ]
  },
  {
   "cell_type": "code",
   "execution_count": 3,
   "metadata": {
    "collapsed": false
   },
   "outputs": [
    {
     "name": "stdout",
     "output_type": "stream",
     "text": [
      "2\n",
      "[<Element table at 0x7fd648324680>, <Element table at 0x7fd6483246d8>]\n"
     ]
    }
   ],
   "source": [
    "tables = doc.findall('.//table[@class=\"details-table quote-table Fz-m\"]')\n",
    "len(tables)\n",
    "print tables"
   ]
  },
  {
   "cell_type": "code",
   "execution_count": null,
   "metadata": {
    "collapsed": false
   },
   "outputs": [],
   "source": [
    "# The first table contains the calls and the second contains the puts\n",
    "calls = tables[0] \n",
    "\n",
    "puts = tables[1]\n"
   ]
  },
  {
   "cell_type": "markdown",
   "metadata": {},
   "source": [
    "Now, we want to again parse the content of these tables. For that, we get back a list of elements that contain \"table rows\" which are the `<tr>...</tr>` elements. Let's get these now:"
   ]
  },
  {
   "cell_type": "code",
   "execution_count": 24,
   "metadata": {
    "collapsed": false
   },
   "outputs": [],
   "source": [
    "calls_rows = calls.findall('.//tr')\n",
    "puts_rows = puts.findall('.//tr')"
   ]
  },
  {
   "cell_type": "markdown",
   "metadata": {},
   "source": [
    "Now, within the `<tr>` nodes (that represent table rows) we see a set of `<td></td>` elements that contain the cells of each row. You will also notice that the first row contains `<th></th>` cells instead of `<td></td>`; the `<th></th>` cells are commonly used to mark the \"headers\" of the table."
   ]
  },
  {
   "cell_type": "markdown",
   "metadata": {},
   "source": [
    "Above, you have seen how we can use list comprehensions to get back the data that we want in a list format. Now, we will write a function that will return us directly the text content of the cells in the table"
   ]
  },
  {
   "cell_type": "code",
   "execution_count": 25,
   "metadata": {
    "collapsed": false
   },
   "outputs": [],
   "source": [
    "# This function takes as input a \"tr\" node\n",
    "# and returns a list of the text content for each\n",
    "# of the cells. To avoid creating two functions,\n",
    "# one for header (<th>) cells and one for data (<td>) cells\n",
    "# we pass a parameter isHeader that specifies that we are \n",
    "# extracting from\n",
    "def extractCells(row, isHeader=False):\n",
    "    if isHeader:\n",
    "        cells = row.findall('.//th')\n",
    "    else:\n",
    "        cells = row.findall('.//td')\n",
    "        \n",
    "    # The ...strip().splitlines()[0] is not strictly necessary, but it helps for beautifying the headers\n",
    "    return [val.text_content().strip().splitlines()[0] for val in cells]"
   ]
  },
  {
   "cell_type": "markdown",
   "metadata": {},
   "source": [
    "For now, let's get the contents of the header row:"
   ]
  },
  {
   "cell_type": "code",
   "execution_count": 26,
   "metadata": {
    "collapsed": false
   },
   "outputs": [
    {
     "data": {
      "text/plain": [
       "[u'Strike',\n",
       " 'Contract Name',\n",
       " u'Last',\n",
       " u'Bid',\n",
       " u'Ask',\n",
       " u'Change',\n",
       " u'%Change',\n",
       " u'Volume',\n",
       " u'Open Interest',\n",
       " u'Implied Volatility']"
      ]
     },
     "execution_count": 26,
     "metadata": {},
     "output_type": "execute_result"
    }
   ],
   "source": [
    "extractCells(calls_rows[0], isHeader=True)"
   ]
  },
  {
   "cell_type": "markdown",
   "metadata": {},
   "source": [
    "And let's get the contents of the first row:"
   ]
  },
  {
   "cell_type": "code",
   "execution_count": 27,
   "metadata": {
    "collapsed": false
   },
   "outputs": [
    {
     "data": {
      "text/plain": [
       "['35.00',\n",
       " 'YHOO150529C00035000',\n",
       " '10.05',\n",
       " '8.25',\n",
       " '8.80',\n",
       " '0.00',\n",
       " '0.00%',\n",
       " '5',\n",
       " '5',\n",
       " '94.53%']"
      ]
     },
     "execution_count": 27,
     "metadata": {},
     "output_type": "execute_result"
    }
   ],
   "source": [
    "extractCells(calls_rows[2], isHeader=False)"
   ]
  },
  {
   "cell_type": "markdown",
   "metadata": {},
   "source": [
    "Now, out goal is to take all the above, and put them together. We will first create a function that takes the \"table\" object as a parameter, and creates a DataFrame object, with the headers of the table as headers for the DataFrame and the table rows become the rows of the DataFrame."
   ]
  },
  {
   "cell_type": "code",
   "execution_count": 28,
   "metadata": {
    "collapsed": false
   },
   "outputs": [],
   "source": [
    "import pandas\n",
    "\n",
    "def parse_options_data(table):\n",
    "    rows = table.findall(\".//tr\")\n",
    "    header = extractCells(rows[0], isHeader=True)\n",
    "    data = [extractCells(row, isHeader=False) for row in rows[2:]]\n",
    "    return pandas.DataFrame(data, columns=header)\n"
   ]
  },
  {
   "cell_type": "markdown",
   "metadata": {},
   "source": [
    "Now, let's put everything together:"
   ]
  },
  {
   "cell_type": "code",
   "execution_count": 1,
   "metadata": {
    "collapsed": false
   },
   "outputs": [
    {
     "name": "stdout",
     "output_type": "stream",
     "text": [
      "<Element table at 0x7fd648324680>\n",
      "<Element table at 0x7fd6483246d8>\n"
     ]
    }
   ],
   "source": [
    "import requests # This command allows us to fetch URLs\n",
    "from lxml import html # This module will allow us to parse the returned HTML/XML\n",
    "from pandas.io.parsers import TextParser\n",
    "import pandas\n",
    "\n",
    "def extractCells(row, isHeader=False):\n",
    "    if isHeader:\n",
    "        cells = row.findall('.//th')\n",
    "    else:\n",
    "        cells = row.findall('.//td')\n",
    "    return [val.text_content().strip().splitlines()[0] for val in cells]\n",
    "\n",
    "def parse_options_data(table):\n",
    "    rows = table.findall(\".//tr\")\n",
    "    header = extractCells(rows[0], isHeader=True)\n",
    "    data = [extractCells(row, isHeader=False) for row in rows[2:]]\n",
    "    return pandas.DataFrame(data, columns=header)\n",
    "\n",
    "url = \"http://finance.yahoo.com/q/op?s=YHOO+Options\"\n",
    "response = requests.get(url) # get the html of that url\n",
    "doc = html.fromstring(response.text) \n",
    "\n",
    "tables = doc.findall('.//table[@class=\"details-table quote-table Fz-m\"]')\n",
    "calls = tables[0] \n",
    "print calls\n",
    "puts = tables[1] \n",
    "print puts\n",
    "call_data = parse_options_data(calls)\n",
    "put_data = parse_options_data(puts)"
   ]
  },
  {
   "cell_type": "code",
   "execution_count": 30,
   "metadata": {
    "collapsed": false
   },
   "outputs": [
    {
     "data": {
      "text/html": [
       "<div style=\"max-height:1000px;max-width:1500px;overflow:auto;\">\n",
       "<table border=\"1\" class=\"dataframe\">\n",
       "  <thead>\n",
       "    <tr style=\"text-align: right;\">\n",
       "      <th></th>\n",
       "      <th>Strike</th>\n",
       "      <th>Contract Name</th>\n",
       "      <th>Last</th>\n",
       "      <th>Bid</th>\n",
       "      <th>Ask</th>\n",
       "      <th>Change</th>\n",
       "      <th>%Change</th>\n",
       "      <th>Volume</th>\n",
       "      <th>Open Interest</th>\n",
       "      <th>Implied Volatility</th>\n",
       "    </tr>\n",
       "  </thead>\n",
       "  <tbody>\n",
       "    <tr>\n",
       "      <th>0</th>\n",
       "      <td>35.00</td>\n",
       "      <td>YHOO150529C00035000</td>\n",
       "      <td>10.05</td>\n",
       "      <td>8.25</td>\n",
       "      <td>8.80</td>\n",
       "      <td>0.00</td>\n",
       "      <td>0.00%</td>\n",
       "      <td>5</td>\n",
       "      <td>5</td>\n",
       "      <td>94.53%</td>\n",
       "    </tr>\n",
       "    <tr>\n",
       "      <th>1</th>\n",
       "      <td>37.00</td>\n",
       "      <td>YHOO150529C00037000</td>\n",
       "      <td>7.00</td>\n",
       "      <td>6.45</td>\n",
       "      <td>6.80</td>\n",
       "      <td>0.00</td>\n",
       "      <td>0.00%</td>\n",
       "      <td>9</td>\n",
       "      <td>9</td>\n",
       "      <td>94.14%</td>\n",
       "    </tr>\n",
       "    <tr>\n",
       "      <th>2</th>\n",
       "      <td>37.50</td>\n",
       "      <td>YHOO150529C00037500</td>\n",
       "      <td>7.60</td>\n",
       "      <td>5.95</td>\n",
       "      <td>6.30</td>\n",
       "      <td>0.00</td>\n",
       "      <td>0.00%</td>\n",
       "      <td>2</td>\n",
       "      <td>2</td>\n",
       "      <td>87.89%</td>\n",
       "    </tr>\n",
       "    <tr>\n",
       "      <th>3</th>\n",
       "      <td>38.00</td>\n",
       "      <td>YHOO150529C00038000</td>\n",
       "      <td>5.60</td>\n",
       "      <td>5.45</td>\n",
       "      <td>5.75</td>\n",
       "      <td>1.79</td>\n",
       "      <td>+46.98%</td>\n",
       "      <td>50</td>\n",
       "      <td>30</td>\n",
       "      <td>78.13%</td>\n",
       "    </tr>\n",
       "    <tr>\n",
       "      <th>4</th>\n",
       "      <td>39.00</td>\n",
       "      <td>YHOO150529C00039000</td>\n",
       "      <td>5.65</td>\n",
       "      <td>4.45</td>\n",
       "      <td>4.80</td>\n",
       "      <td>0.00</td>\n",
       "      <td>0.00%</td>\n",
       "      <td>15</td>\n",
       "      <td>15</td>\n",
       "      <td>69.53%</td>\n",
       "    </tr>\n",
       "    <tr>\n",
       "      <th>5</th>\n",
       "      <td>40.00</td>\n",
       "      <td>YHOO150529C00040000</td>\n",
       "      <td>3.55</td>\n",
       "      <td>3.45</td>\n",
       "      <td>3.80</td>\n",
       "      <td>0.00</td>\n",
       "      <td>0.00%</td>\n",
       "      <td>5</td>\n",
       "      <td>113</td>\n",
       "      <td>57.03%</td>\n",
       "    </tr>\n",
       "    <tr>\n",
       "      <th>6</th>\n",
       "      <td>40.50</td>\n",
       "      <td>YHOO150529C00040500</td>\n",
       "      <td>3.20</td>\n",
       "      <td>2.98</td>\n",
       "      <td>3.25</td>\n",
       "      <td>0.29</td>\n",
       "      <td>+9.97%</td>\n",
       "      <td>3</td>\n",
       "      <td>62</td>\n",
       "      <td>62.11%</td>\n",
       "    </tr>\n",
       "    <tr>\n",
       "      <th>7</th>\n",
       "      <td>41.00</td>\n",
       "      <td>YHOO150529C00041000</td>\n",
       "      <td>2.65</td>\n",
       "      <td>2.51</td>\n",
       "      <td>2.71</td>\n",
       "      <td>0.00</td>\n",
       "      <td>0.00%</td>\n",
       "      <td>16</td>\n",
       "      <td>99</td>\n",
       "      <td>51.76%</td>\n",
       "    </tr>\n",
       "    <tr>\n",
       "      <th>8</th>\n",
       "      <td>41.50</td>\n",
       "      <td>YHOO150529C00041500</td>\n",
       "      <td>2.18</td>\n",
       "      <td>2.04</td>\n",
       "      <td>2.19</td>\n",
       "      <td>0.05</td>\n",
       "      <td>+2.35%</td>\n",
       "      <td>5</td>\n",
       "      <td>60</td>\n",
       "      <td>43.16%</td>\n",
       "    </tr>\n",
       "    <tr>\n",
       "      <th>9</th>\n",
       "      <td>42.00</td>\n",
       "      <td>YHOO150529C00042000</td>\n",
       "      <td>1.66</td>\n",
       "      <td>1.60</td>\n",
       "      <td>1.77</td>\n",
       "      <td>-0.14</td>\n",
       "      <td>-7.78%</td>\n",
       "      <td>100</td>\n",
       "      <td>593</td>\n",
       "      <td>41.21%</td>\n",
       "    </tr>\n",
       "    <tr>\n",
       "      <th>10</th>\n",
       "      <td>42.50</td>\n",
       "      <td>YHOO150529C00042500</td>\n",
       "      <td>1.26</td>\n",
       "      <td>1.19</td>\n",
       "      <td>1.30</td>\n",
       "      <td>-0.15</td>\n",
       "      <td>-10.64%</td>\n",
       "      <td>25</td>\n",
       "      <td>501</td>\n",
       "      <td>34.86%</td>\n",
       "    </tr>\n",
       "    <tr>\n",
       "      <th>11</th>\n",
       "      <td>43.00</td>\n",
       "      <td>YHOO150529C00043000</td>\n",
       "      <td>0.88</td>\n",
       "      <td>0.85</td>\n",
       "      <td>0.89</td>\n",
       "      <td>-0.21</td>\n",
       "      <td>-19.27%</td>\n",
       "      <td>217</td>\n",
       "      <td>1453</td>\n",
       "      <td>30.57%</td>\n",
       "    </tr>\n",
       "    <tr>\n",
       "      <th>12</th>\n",
       "      <td>43.50</td>\n",
       "      <td>YHOO150529C00043500</td>\n",
       "      <td>0.58</td>\n",
       "      <td>0.54</td>\n",
       "      <td>0.60</td>\n",
       "      <td>-0.07</td>\n",
       "      <td>-10.77%</td>\n",
       "      <td>87</td>\n",
       "      <td>1187</td>\n",
       "      <td>29.88%</td>\n",
       "    </tr>\n",
       "    <tr>\n",
       "      <th>13</th>\n",
       "      <td>44.00</td>\n",
       "      <td>YHOO150529C00044000</td>\n",
       "      <td>0.35</td>\n",
       "      <td>0.33</td>\n",
       "      <td>0.38</td>\n",
       "      <td>-0.10</td>\n",
       "      <td>-22.22%</td>\n",
       "      <td>1717</td>\n",
       "      <td>1577</td>\n",
       "      <td>29.49%</td>\n",
       "    </tr>\n",
       "    <tr>\n",
       "      <th>14</th>\n",
       "      <td>44.50</td>\n",
       "      <td>YHOO150529C00044500</td>\n",
       "      <td>0.22</td>\n",
       "      <td>0.20</td>\n",
       "      <td>0.23</td>\n",
       "      <td>-0.10</td>\n",
       "      <td>-31.25%</td>\n",
       "      <td>791</td>\n",
       "      <td>1258</td>\n",
       "      <td>29.59%</td>\n",
       "    </tr>\n",
       "    <tr>\n",
       "      <th>15</th>\n",
       "      <td>45.00</td>\n",
       "      <td>YHOO150529C00045000</td>\n",
       "      <td>0.13</td>\n",
       "      <td>0.11</td>\n",
       "      <td>0.14</td>\n",
       "      <td>-0.04</td>\n",
       "      <td>-23.53%</td>\n",
       "      <td>2238</td>\n",
       "      <td>7211</td>\n",
       "      <td>30.27%</td>\n",
       "    </tr>\n",
       "    <tr>\n",
       "      <th>16</th>\n",
       "      <td>45.50</td>\n",
       "      <td>YHOO150529C00045500</td>\n",
       "      <td>0.07</td>\n",
       "      <td>0.06</td>\n",
       "      <td>0.09</td>\n",
       "      <td>-0.03</td>\n",
       "      <td>-30.00%</td>\n",
       "      <td>388</td>\n",
       "      <td>685</td>\n",
       "      <td>31.84%</td>\n",
       "    </tr>\n",
       "    <tr>\n",
       "      <th>17</th>\n",
       "      <td>46.00</td>\n",
       "      <td>YHOO150529C00046000</td>\n",
       "      <td>0.05</td>\n",
       "      <td>0.04</td>\n",
       "      <td>0.07</td>\n",
       "      <td>-0.03</td>\n",
       "      <td>-37.50%</td>\n",
       "      <td>624</td>\n",
       "      <td>743</td>\n",
       "      <td>34.77%</td>\n",
       "    </tr>\n",
       "    <tr>\n",
       "      <th>18</th>\n",
       "      <td>46.50</td>\n",
       "      <td>YHOO150529C00046500</td>\n",
       "      <td>0.03</td>\n",
       "      <td>0.01</td>\n",
       "      <td>0.06</td>\n",
       "      <td>0.00</td>\n",
       "      <td>0.00%</td>\n",
       "      <td>1</td>\n",
       "      <td>162</td>\n",
       "      <td>38.28%</td>\n",
       "    </tr>\n",
       "    <tr>\n",
       "      <th>19</th>\n",
       "      <td>47.00</td>\n",
       "      <td>YHOO150529C00047000</td>\n",
       "      <td>0.10</td>\n",
       "      <td>0.00</td>\n",
       "      <td>0.15</td>\n",
       "      <td>0.00</td>\n",
       "      <td>0.00%</td>\n",
       "      <td>1</td>\n",
       "      <td>603</td>\n",
       "      <td>53.91%</td>\n",
       "    </tr>\n",
       "    <tr>\n",
       "      <th>20</th>\n",
       "      <td>47.50</td>\n",
       "      <td>YHOO150529C00047500</td>\n",
       "      <td>0.37</td>\n",
       "      <td>0.00</td>\n",
       "      <td>0.60</td>\n",
       "      <td>0.00</td>\n",
       "      <td>0.00%</td>\n",
       "      <td>2</td>\n",
       "      <td>46</td>\n",
       "      <td>72.75%</td>\n",
       "    </tr>\n",
       "    <tr>\n",
       "      <th>21</th>\n",
       "      <td>48.00</td>\n",
       "      <td>YHOO150529C00048000</td>\n",
       "      <td>0.04</td>\n",
       "      <td>0.00</td>\n",
       "      <td>0.08</td>\n",
       "      <td>0.00</td>\n",
       "      <td>0.00%</td>\n",
       "      <td>3</td>\n",
       "      <td>167</td>\n",
       "      <td>55.08%</td>\n",
       "    </tr>\n",
       "    <tr>\n",
       "      <th>22</th>\n",
       "      <td>48.50</td>\n",
       "      <td>YHOO150529C00048500</td>\n",
       "      <td>0.05</td>\n",
       "      <td>0.00</td>\n",
       "      <td>0.13</td>\n",
       "      <td>0.00</td>\n",
       "      <td>0.00%</td>\n",
       "      <td>2</td>\n",
       "      <td>14</td>\n",
       "      <td>57.03%</td>\n",
       "    </tr>\n",
       "    <tr>\n",
       "      <th>23</th>\n",
       "      <td>49.50</td>\n",
       "      <td>YHOO150529C00049500</td>\n",
       "      <td>0.28</td>\n",
       "      <td>0.00</td>\n",
       "      <td>1.23</td>\n",
       "      <td>0.00</td>\n",
       "      <td>0.00%</td>\n",
       "      <td>1</td>\n",
       "      <td>13</td>\n",
       "      <td>119.14%</td>\n",
       "    </tr>\n",
       "    <tr>\n",
       "      <th>24</th>\n",
       "      <td>50.00</td>\n",
       "      <td>YHOO150529C00050000</td>\n",
       "      <td>0.02</td>\n",
       "      <td>0.00</td>\n",
       "      <td>0.11</td>\n",
       "      <td>-0.01</td>\n",
       "      <td>-33.33%</td>\n",
       "      <td>10</td>\n",
       "      <td>3304</td>\n",
       "      <td>67.19%</td>\n",
       "    </tr>\n",
       "    <tr>\n",
       "      <th>25</th>\n",
       "      <td>52.00</td>\n",
       "      <td>YHOO150529C00052000</td>\n",
       "      <td>0.03</td>\n",
       "      <td>0.00</td>\n",
       "      <td>1.08</td>\n",
       "      <td>0.00</td>\n",
       "      <td>0.00%</td>\n",
       "      <td>7</td>\n",
       "      <td>7</td>\n",
       "      <td>139.84%</td>\n",
       "    </tr>\n",
       "    <tr>\n",
       "      <th>26</th>\n",
       "      <td>52.50</td>\n",
       "      <td>YHOO150529C00052500</td>\n",
       "      <td>0.02</td>\n",
       "      <td>0.00</td>\n",
       "      <td>0.34</td>\n",
       "      <td>0.00</td>\n",
       "      <td>0.00%</td>\n",
       "      <td>8</td>\n",
       "      <td>16</td>\n",
       "      <td>106.64%</td>\n",
       "    </tr>\n",
       "    <tr>\n",
       "      <th>27</th>\n",
       "      <td>53.00</td>\n",
       "      <td>YHOO150529C00053000</td>\n",
       "      <td>0.03</td>\n",
       "      <td>0.00</td>\n",
       "      <td>2.50</td>\n",
       "      <td>0.00</td>\n",
       "      <td>0.00%</td>\n",
       "      <td>8</td>\n",
       "      <td>0</td>\n",
       "      <td>200.59%</td>\n",
       "    </tr>\n",
       "  </tbody>\n",
       "</table>\n",
       "</div>"
      ],
      "text/plain": [
       "   Strike        Contract Name   Last   Bid   Ask Change  %Change Volume  \\\n",
       "0   35.00  YHOO150529C00035000  10.05  8.25  8.80   0.00    0.00%      5   \n",
       "1   37.00  YHOO150529C00037000   7.00  6.45  6.80   0.00    0.00%      9   \n",
       "2   37.50  YHOO150529C00037500   7.60  5.95  6.30   0.00    0.00%      2   \n",
       "3   38.00  YHOO150529C00038000   5.60  5.45  5.75   1.79  +46.98%     50   \n",
       "4   39.00  YHOO150529C00039000   5.65  4.45  4.80   0.00    0.00%     15   \n",
       "5   40.00  YHOO150529C00040000   3.55  3.45  3.80   0.00    0.00%      5   \n",
       "6   40.50  YHOO150529C00040500   3.20  2.98  3.25   0.29   +9.97%      3   \n",
       "7   41.00  YHOO150529C00041000   2.65  2.51  2.71   0.00    0.00%     16   \n",
       "8   41.50  YHOO150529C00041500   2.18  2.04  2.19   0.05   +2.35%      5   \n",
       "9   42.00  YHOO150529C00042000   1.66  1.60  1.77  -0.14   -7.78%    100   \n",
       "10  42.50  YHOO150529C00042500   1.26  1.19  1.30  -0.15  -10.64%     25   \n",
       "11  43.00  YHOO150529C00043000   0.88  0.85  0.89  -0.21  -19.27%    217   \n",
       "12  43.50  YHOO150529C00043500   0.58  0.54  0.60  -0.07  -10.77%     87   \n",
       "13  44.00  YHOO150529C00044000   0.35  0.33  0.38  -0.10  -22.22%   1717   \n",
       "14  44.50  YHOO150529C00044500   0.22  0.20  0.23  -0.10  -31.25%    791   \n",
       "15  45.00  YHOO150529C00045000   0.13  0.11  0.14  -0.04  -23.53%   2238   \n",
       "16  45.50  YHOO150529C00045500   0.07  0.06  0.09  -0.03  -30.00%    388   \n",
       "17  46.00  YHOO150529C00046000   0.05  0.04  0.07  -0.03  -37.50%    624   \n",
       "18  46.50  YHOO150529C00046500   0.03  0.01  0.06   0.00    0.00%      1   \n",
       "19  47.00  YHOO150529C00047000   0.10  0.00  0.15   0.00    0.00%      1   \n",
       "20  47.50  YHOO150529C00047500   0.37  0.00  0.60   0.00    0.00%      2   \n",
       "21  48.00  YHOO150529C00048000   0.04  0.00  0.08   0.00    0.00%      3   \n",
       "22  48.50  YHOO150529C00048500   0.05  0.00  0.13   0.00    0.00%      2   \n",
       "23  49.50  YHOO150529C00049500   0.28  0.00  1.23   0.00    0.00%      1   \n",
       "24  50.00  YHOO150529C00050000   0.02  0.00  0.11  -0.01  -33.33%     10   \n",
       "25  52.00  YHOO150529C00052000   0.03  0.00  1.08   0.00    0.00%      7   \n",
       "26  52.50  YHOO150529C00052500   0.02  0.00  0.34   0.00    0.00%      8   \n",
       "27  53.00  YHOO150529C00053000   0.03  0.00  2.50   0.00    0.00%      8   \n",
       "\n",
       "   Open Interest Implied Volatility  \n",
       "0              5             94.53%  \n",
       "1              9             94.14%  \n",
       "2              2             87.89%  \n",
       "3             30             78.13%  \n",
       "4             15             69.53%  \n",
       "5            113             57.03%  \n",
       "6             62             62.11%  \n",
       "7             99             51.76%  \n",
       "8             60             43.16%  \n",
       "9            593             41.21%  \n",
       "10           501             34.86%  \n",
       "11          1453             30.57%  \n",
       "12          1187             29.88%  \n",
       "13          1577             29.49%  \n",
       "14          1258             29.59%  \n",
       "15          7211             30.27%  \n",
       "16           685             31.84%  \n",
       "17           743             34.77%  \n",
       "18           162             38.28%  \n",
       "19           603             53.91%  \n",
       "20            46             72.75%  \n",
       "21           167             55.08%  \n",
       "22            14             57.03%  \n",
       "23            13            119.14%  \n",
       "24          3304             67.19%  \n",
       "25             7            139.84%  \n",
       "26            16            106.64%  \n",
       "27             0            200.59%  "
      ]
     },
     "execution_count": 30,
     "metadata": {},
     "output_type": "execute_result"
    }
   ],
   "source": [
    "call_data"
   ]
  },
  {
   "cell_type": "markdown",
   "metadata": {},
   "source": [
    "And let's plot the data:"
   ]
  },
  {
   "cell_type": "code",
   "execution_count": 51,
   "metadata": {
    "collapsed": false
   },
   "outputs": [
    {
     "data": {
      "text/plain": [
       "<matplotlib.text.Text at 0x7fe84ce94390>"
      ]
     },
     "execution_count": 51,
     "metadata": {},
     "output_type": "execute_result"
    },
    {
     "data": {
      "image/png": "[encoded data removed]",
      "text/plain": [
       "<matplotlib.figure.Figure at 0x7fe84d144410>"
      ]
     },
     "metadata": {},
     "output_type": "display_data"
    }
   ],
   "source": [
    "# Render our plots inline\n",
    "%matplotlib inline\n",
    "\n",
    "import pandas as pd\n",
    "import matplotlib.pyplot as plt\n",
    "\n",
    "# Make the graphs a bit prettier, and bigger\n",
    "# Do not need to understand these commands\n",
    "pd.set_option('display.mpl_style', 'default')\n",
    "plt.rcParams['figure.figsize'] = (15, 5)\n",
    "\n",
    "X = call_data[\"Strike\"]\n",
    "Y = call_data[\"Last\"]\n",
    "plt.plot(X, Y, 'r-')\n",
    "\n",
    "Y = call_data[\"Bid\"]\n",
    "plt.plot(X, Y, 'g-')\n",
    "\n",
    "Y = call_data[\"Ask\"]\n",
    "plt.plot(X, Y, 'b-')\n",
    "\n",
    "\n",
    "plt.title('YHOO Calls Prices')\n",
    "plt.xlabel('Strike')\n",
    "plt.ylabel('Last/Bid/Ask Price')"
   ]
  },
  {
   "cell_type": "markdown",
   "metadata": {},
   "source": [
    "### In Class Example: Crawl BuzzFeed\n",
    "\n",
    "* We will try to get the top articles that appear on Buzzfeed\n",
    "* We will grab the link for the article, the text of the title, the description, and the editor.\n",
    "* The results will be stored in a dataframe (we will see in detail what a dataframe is, in a couple of modules)\n"
   ]
  },
  {
   "cell_type": "code",
   "execution_count": null,
   "metadata": {
    "collapsed": false
   },
   "outputs": [],
   "source": [
    "import requests # This command allows us to fetch URLs\n",
    "from lxml import html # This module will allow us to parse the returned HTML/XML\n",
    "import pandas\n",
    "\n",
    "# Let's start by fetching the page, and parsing it\n",
    "url = \"http://www.nytimes.com/\"\n",
    "response = requests.get(url) # get the html of that url\n",
    "doc = html.fromstring(response.text) # parse it and create a document\n",
    "\n",
    "articleNodes = doc.findall(\".//figure\") \n",
    "print \"HELLO GELLO\"\n",
    "print articleNodes\n",
    "def parseFigureNode(article):\n",
    "    headline = article.find(\"./media photo/image/a\")\n",
    "    print headline\n",
    "    headline_text = headline.text_content()\n",
    "    headline_link = headline.get(\"href\")\n",
    "    description = article.find(\"./p[@class='description ']\")\n",
    "    description_text = description.text_content().strip()\n",
    "    editor = article.find('./p[@class=\"small-meta small-meta--full-width\"]/a[1]') \n",
    "    editor_text = editor.text_content().strip()\n",
    "    result = {\n",
    "        \"headline\": headline_text,\n",
    "        \"URL\" : headline_link,\n",
    "        \"description\" : description_text,\n",
    "        \"editor\" : editor_text\n",
    "    }\n",
    "    return result\n",
    "\n",
    "data = [parseArticleNode(article) for article in articleNodes]\n",
    "df = pandas.DataFrame(data)\n",
    "print df"
   ]
  },
  {
   "cell_type": "code",
   "execution_count": null,
   "metadata": {
    "collapsed": true
   },
   "outputs": [],
   "source": []
  },
  {
   "cell_type": "code",
   "execution_count": 9,
   "metadata": {
    "collapsed": false
   },
   "outputs": [
    {
     "ename": "AttributeError",
     "evalue": "'list' object has no attribute 'get'",
     "output_type": "error",
     "traceback": [
      "\u001b[1;31m---------------------------------------------------------------------------\u001b[0m",
      "\u001b[1;31mAttributeError\u001b[0m                            Traceback (most recent call last)",
      "\u001b[1;32m<ipython-input-9-8ec1badf7bea>\u001b[0m in \u001b[0;36m<module>\u001b[1;34m()\u001b[0m\n\u001b[0;32m     11\u001b[0m \u001b[0mheadline\u001b[0m \u001b[1;33m=\u001b[0m \u001b[0mdoc\u001b[0m\u001b[1;33m.\u001b[0m\u001b[0mfindall\u001b[0m\u001b[1;33m(\u001b[0m\u001b[1;34m\".//article/header/image/a/src\"\u001b[0m\u001b[1;33m)\u001b[0m\u001b[1;33m\u001b[0m\u001b[0m\n\u001b[0;32m     12\u001b[0m \u001b[1;31m#print headlines.text_content()\u001b[0m\u001b[1;33m\u001b[0m\u001b[1;33m\u001b[0m\u001b[0m\n\u001b[1;32m---> 13\u001b[1;33m \u001b[1;32mprint\u001b[0m \u001b[0mheadline\u001b[0m\u001b[1;33m.\u001b[0m\u001b[0mget\u001b[0m\u001b[1;33m(\u001b[0m\u001b[1;34m\"href\"\u001b[0m\u001b[1;33m)\u001b[0m\u001b[1;33m\u001b[0m\u001b[0m\n\u001b[0m",
      "\u001b[1;31mAttributeError\u001b[0m: 'list' object has no attribute 'get'"
     ]
    }
   ],
   "source": [
    "import requests # This command allows us to fetch URLs\n",
    "from lxml import html # This module will allow us to parse the returned HTML/XML\n",
    "import pandas\n",
    "\n",
    "# Let's start by fetching the page, and parsing it\n",
    "url = \"http://www.buzzfeed.com/\"\n",
    "response = requests.get(url) # get the html of that url\n",
    "doc = html.fromstring(response.text) # parse it and create a document\n",
    "\n",
    "# //article/header/hgroup/h2/a\n",
    "headline = doc.findall(\".//article/header/image/a/src\")\n",
    "#print headlines.text_content()\n",
    "print headline.get(\"href\")"
   ]
  },
  {
   "cell_type": "code",
   "execution_count": 50,
   "metadata": {
    "collapsed": false
   },
   "outputs": [
    {
     "data": {
      "text/html": [
       "<div style=\"max-height:1000px;max-width:1500px;overflow:auto;\">\n",
       "<table border=\"1\" class=\"dataframe\">\n",
       "  <thead>\n",
       "    <tr style=\"text-align: right;\">\n",
       "      <th></th>\n",
       "      <th>Title</th>\n",
       "      <th>URL</th>\n",
       "    </tr>\n",
       "  </thead>\n",
       "  <tbody>\n",
       "    <tr>\n",
       "      <th>0</th>\n",
       "      <td>Tom Hardy Is The Dreamy Feminist Man You’ve Be...</td>\n",
       "      <td>/rossalynwarren/an-important-reminder-that-tom...</td>\n",
       "    </tr>\n",
       "    <tr>\n",
       "      <th>1</th>\n",
       "      <td>Buffy And Willow Had A Mini Reunion And Proved...</td>\n",
       "      <td>/caitlinjinks/best-friends-forever</td>\n",
       "    </tr>\n",
       "    <tr>\n",
       "      <th>2</th>\n",
       "      <td>This Was The Happiest, Gayest, Greatest Night ...</td>\n",
       "      <td>/patrickstrudwick/irelands-happiest-gayest-gre...</td>\n",
       "    </tr>\n",
       "    <tr>\n",
       "      <th>3</th>\n",
       "      <td>This Guy Started Balancing Stuff On His Nan’s ...</td>\n",
       "      <td>/ryanhatesthis/the-internet-is-daft</td>\n",
       "    </tr>\n",
       "    <tr>\n",
       "      <th>4</th>\n",
       "      <td>Tony Abbott Appoints A Counter-Terror Tsar And...</td>\n",
       "      <td>/alexlee/tony-abbott-appoints-a-counter-terror...</td>\n",
       "    </tr>\n",
       "    <tr>\n",
       "      <th>5</th>\n",
       "      <td>Ecstatic Scenes As Ireland Says “I Do” To Same...</td>\n",
       "      <td>/patrickstrudwick/ecstatic-scenes-as-ireland-s...</td>\n",
       "    </tr>\n",
       "    <tr>\n",
       "      <th>6</th>\n",
       "      <td>19 Times Australia Failed So Hard It Just Failed</td>\n",
       "      <td>/simoncrerar/when-straya-failed-hard</td>\n",
       "    </tr>\n",
       "    <tr>\n",
       "      <th>7</th>\n",
       "      <td>Netflix Accidentally Charged Australians Sever...</td>\n",
       "      <td>/robstott/netflix-accidentally-charged-people-...</td>\n",
       "    </tr>\n",
       "    <tr>\n",
       "      <th>8</th>\n",
       "      <td>Actress Kelly Rutherford Granted Sole Custody ...</td>\n",
       "      <td>/sheridanwatson/gossip-girl-star-kelly-rutherf...</td>\n",
       "    </tr>\n",
       "    <tr>\n",
       "      <th>9</th>\n",
       "      <td>18 Of The Most Iconic Guy Sebastian Moments</td>\n",
       "      <td>/tahliapritchard/go-the-fro</td>\n",
       "    </tr>\n",
       "    <tr>\n",
       "      <th>10</th>\n",
       "      <td>8 Reasons Why Australia Shouldn’t Have A Marri...</td>\n",
       "      <td>/lanesainty/this-is-why-oz-shouldnt-have-a-mar...</td>\n",
       "    </tr>\n",
       "    <tr>\n",
       "      <th>11</th>\n",
       "      <td>Which Celeb Should Be Your BFF Based On Your Z...</td>\n",
       "      <td>/alexisdecarvalho/which-celebrity-should-you-b...</td>\n",
       "    </tr>\n",
       "    <tr>\n",
       "      <th>12</th>\n",
       "      <td>A Boy With Autism Who Was Deemed A Burden On S...</td>\n",
       "      <td>/robstott/tyrone-sevilla-saved-from-deportation</td>\n",
       "    </tr>\n",
       "    <tr>\n",
       "      <th>13</th>\n",
       "      <td>17 Insane Things Sleep Deprived Parents Do</td>\n",
       "      <td>/jennichiu/17-insane-things-sleep-deprived-par...</td>\n",
       "    </tr>\n",
       "    <tr>\n",
       "      <th>14</th>\n",
       "      <td>The Hits And Misses That Led Britt Robertson T...</td>\n",
       "      <td>/jarettwieselman/the-successes-and-failures-th...</td>\n",
       "    </tr>\n",
       "    <tr>\n",
       "      <th>15</th>\n",
       "      <td>Which Female “Supernatural” Demon Are You?</td>\n",
       "      <td>/plantelf/which-female-supernatural-demon-are-...</td>\n",
       "    </tr>\n",
       "    <tr>\n",
       "      <th>16</th>\n",
       "      <td>22 Things You Experience Being A Black Parent ...</td>\n",
       "      <td>/amberdorsey/22-things-you-experience-being-a-...</td>\n",
       "    </tr>\n",
       "    <tr>\n",
       "      <th>17</th>\n",
       "      <td>U.S. Releases Contents Of Bin Laden’s English-...</td>\n",
       "      <td>/rosiegray/us-releases-contents-of-bin-ladens-...</td>\n",
       "    </tr>\n",
       "    <tr>\n",
       "      <th>18</th>\n",
       "      <td>The Explicit 3D Romance That Pushes The Bounda...</td>\n",
       "      <td>/alisonwillmore/love-review-gaspar-noe</td>\n",
       "    </tr>\n",
       "    <tr>\n",
       "      <th>19</th>\n",
       "      <td>What Does Your Favorite Ice Cream Topping Say ...</td>\n",
       "      <td>/apentak720/what-does-your-favorite-ice-cream-...</td>\n",
       "    </tr>\n",
       "    <tr>\n",
       "      <th>20</th>\n",
       "      <td>The Hardest “Friends” Screenshot Quiz You’ll E...</td>\n",
       "      <td>/ralphjons/can-you-guess-the-friends-episode-f...</td>\n",
       "    </tr>\n",
       "    <tr>\n",
       "      <th>21</th>\n",
       "      <td>Which Hot Male Tennis Player Should You Date?</td>\n",
       "      <td>/reginamae/what-tennis-hottie-should-you-date-...</td>\n",
       "    </tr>\n",
       "    <tr>\n",
       "      <th>22</th>\n",
       "      <td>27 Times “She’s The Man” Was The Best Movie Of...</td>\n",
       "      <td>/apentak720/27-times-shes-the-man-was-the-best...</td>\n",
       "    </tr>\n",
       "    <tr>\n",
       "      <th>23</th>\n",
       "      <td>For Everyone Who Has No Idea Who The People Ar...</td>\n",
       "      <td>/sheridanwatson/whats-a-karlie-kloss</td>\n",
       "    </tr>\n",
       "    <tr>\n",
       "      <th>24</th>\n",
       "      <td>Gorilla Dies After “Unexpected” Level Of Aggre...</td>\n",
       "      <td>/bradesposito/gorilla-dies-after-unexpected-le...</td>\n",
       "    </tr>\n",
       "    <tr>\n",
       "      <th>25</th>\n",
       "      <td>TLC Has Pulled “19 Kids And Counting” From Its...</td>\n",
       "      <td>/emilyorley/tlc-has-pulled-19-kids-and-countin...</td>\n",
       "    </tr>\n",
       "    <tr>\n",
       "      <th>26</th>\n",
       "      <td>Can We Guess Your Relationship Status Based On...</td>\n",
       "      <td>/evernevera/can-we-guess-your-relationship-sta...</td>\n",
       "    </tr>\n",
       "    <tr>\n",
       "      <th>27</th>\n",
       "      <td>Boy Scouts Head Robert Gates: Blanket Ban On G...</td>\n",
       "      <td>/chrisgeidner/boy-scouts-head-robert-gates-bla...</td>\n",
       "    </tr>\n",
       "    <tr>\n",
       "      <th>28</th>\n",
       "      <td>If Planet Earth Had A Flag, Here Is What It Wo...</td>\n",
       "      <td>/shyamanthaasokan/if-planet-earth-had-a-flag-h...</td>\n",
       "    </tr>\n",
       "    <tr>\n",
       "      <th>29</th>\n",
       "      <td>Which BeyoncÃ© Song Are You?</td>\n",
       "      <td>/avhunter/which-beyonce-song-are-you-1kbea</td>\n",
       "    </tr>\n",
       "  </tbody>\n",
       "</table>\n",
       "</div>"
      ],
      "text/plain": [
       "                                                Title  \\\n",
       "0   Tom Hardy Is The Dreamy Feminist Man You’ve Be...   \n",
       "1   Buffy And Willow Had A Mini Reunion And Proved...   \n",
       "2   This Was The Happiest, Gayest, Greatest Night ...   \n",
       "3   This Guy Started Balancing Stuff On His Nan’s ...   \n",
       "4   Tony Abbott Appoints A Counter-Terror Tsar And...   \n",
       "5   Ecstatic Scenes As Ireland Says “I Do” To Same...   \n",
       "6    19 Times Australia Failed So Hard It Just Failed   \n",
       "7   Netflix Accidentally Charged Australians Sever...   \n",
       "8   Actress Kelly Rutherford Granted Sole Custody ...   \n",
       "9         18 Of The Most Iconic Guy Sebastian Moments   \n",
       "10  8 Reasons Why Australia Shouldn’t Have A Marri...   \n",
       "11  Which Celeb Should Be Your BFF Based On Your Z...   \n",
       "12  A Boy With Autism Who Was Deemed A Burden On S...   \n",
       "13         17 Insane Things Sleep Deprived Parents Do   \n",
       "14  The Hits And Misses That Led Britt Robertson T...   \n",
       "15         Which Female “Supernatural” Demon Are You?   \n",
       "16  22 Things You Experience Being A Black Parent ...   \n",
       "17  U.S. Releases Contents Of Bin Laden’s English-...   \n",
       "18  The Explicit 3D Romance That Pushes The Bounda...   \n",
       "19  What Does Your Favorite Ice Cream Topping Say ...   \n",
       "20  The Hardest “Friends” Screenshot Quiz You’ll E...   \n",
       "21      Which Hot Male Tennis Player Should You Date?   \n",
       "22  27 Times “She’s The Man” Was The Best Movie Of...   \n",
       "23  For Everyone Who Has No Idea Who The People Ar...   \n",
       "24  Gorilla Dies After “Unexpected” Level Of Aggre...   \n",
       "25  TLC Has Pulled “19 Kids And Counting” From Its...   \n",
       "26  Can We Guess Your Relationship Status Based On...   \n",
       "27  Boy Scouts Head Robert Gates: Blanket Ban On G...   \n",
       "28  If Planet Earth Had A Flag, Here Is What It Wo...   \n",
       "29                       Which BeyoncÃ© Song Are You?   \n",
       "\n",
       "                                                  URL  \n",
       "0   /rossalynwarren/an-important-reminder-that-tom...  \n",
       "1                  /caitlinjinks/best-friends-forever  \n",
       "2   /patrickstrudwick/irelands-happiest-gayest-gre...  \n",
       "3                 /ryanhatesthis/the-internet-is-daft  \n",
       "4   /alexlee/tony-abbott-appoints-a-counter-terror...  \n",
       "5   /patrickstrudwick/ecstatic-scenes-as-ireland-s...  \n",
       "6                /simoncrerar/when-straya-failed-hard  \n",
       "7   /robstott/netflix-accidentally-charged-people-...  \n",
       "8   /sheridanwatson/gossip-girl-star-kelly-rutherf...  \n",
       "9                         /tahliapritchard/go-the-fro  \n",
       "10  /lanesainty/this-is-why-oz-shouldnt-have-a-mar...  \n",
       "11  /alexisdecarvalho/which-celebrity-should-you-b...  \n",
       "12    /robstott/tyrone-sevilla-saved-from-deportation  \n",
       "13  /jennichiu/17-insane-things-sleep-deprived-par...  \n",
       "14  /jarettwieselman/the-successes-and-failures-th...  \n",
       "15  /plantelf/which-female-supernatural-demon-are-...  \n",
       "16  /amberdorsey/22-things-you-experience-being-a-...  \n",
       "17  /rosiegray/us-releases-contents-of-bin-ladens-...  \n",
       "18             /alisonwillmore/love-review-gaspar-noe  \n",
       "19  /apentak720/what-does-your-favorite-ice-cream-...  \n",
       "20  /ralphjons/can-you-guess-the-friends-episode-f...  \n",
       "21  /reginamae/what-tennis-hottie-should-you-date-...  \n",
       "22  /apentak720/27-times-shes-the-man-was-the-best...  \n",
       "23               /sheridanwatson/whats-a-karlie-kloss  \n",
       "24  /bradesposito/gorilla-dies-after-unexpected-le...  \n",
       "25  /emilyorley/tlc-has-pulled-19-kids-and-countin...  \n",
       "26  /evernevera/can-we-guess-your-relationship-sta...  \n",
       "27  /chrisgeidner/boy-scouts-head-robert-gates-bla...  \n",
       "28  /shyamanthaasokan/if-planet-earth-had-a-flag-h...  \n",
       "29         /avhunter/which-beyonce-song-are-you-1kbea  "
      ]
     },
     "execution_count": 50,
     "metadata": {},
     "output_type": "execute_result"
    }
   ],
   "source": [
    "data = [{\"Title\": n.text_content(), \"URL\": n.get(\"href\")} for n in headlines]\n",
    "df = pandas.DataFrame(data)\n",
    "df"
   ]
  },
  {
   "cell_type": "code",
   "execution_count": null,
   "metadata": {
    "collapsed": true
   },
   "outputs": [],
   "source": []
  }
 ],
 "metadata": {
  "kernelspec": {
   "display_name": "Python 2",
   "language": "python",
   "name": "python2"
  },
  "language_info": {
   "codemirror_mode": {
    "name": "ipython",
    "version": 2
   },
   "file_extension": ".py",
   "mimetype": "text/x-python",
   "name": "python",
   "nbconvert_exporter": "python",
   "pygments_lexer": "ipython2",
   "version": "2.7.6"
  }
 },
 "nbformat": 4,
 "nbformat_minor": 0
}
