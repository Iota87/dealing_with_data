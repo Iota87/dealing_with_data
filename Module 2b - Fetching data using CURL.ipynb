{
 "cells": [
  {
   "cell_type": "markdown",
   "metadata": {},
   "source": [
    "Getting Data using CURL\n",
    "-----------------------\n",
    "\n",
    "We now move into a more interesting topic: How to get data from Internet sources. For that, we will use a command-line tool of Unix, called `curl`. (Later in class, we will learn how to achieve the same using Python, but for quick testing, curl is often the standard method used.) \n",
    "\n",
    "_Sometimes, curl does not come preinstalled, so the first time that we use it, we need to issue the appropriate command for installing it.  To install it, simply type:_\n",
    "\n",
    "`$ sudo apt-get install curl`"
   ]
  },
  {
   "cell_type": "code",
   "execution_count": null,
   "metadata": {
    "collapsed": false
   },
   "outputs": [],
   "source": [
    "!sudo apt-get install curl"
   ]
  },
  {
   "cell_type": "markdown",
   "metadata": {},
   "source": [
    "Let's start by retrieving a simple text file, which we will use later in the class, to illustrate how different shell commands work. The sample data file is hosted online. You can use terminal commands to copy this remote file. Simply type:"
   ]
  },
  {
   "cell_type": "code",
   "execution_count": null,
   "metadata": {
    "collapsed": false
   },
   "outputs": [],
   "source": [
    "!curl -L 'https://dl.dropboxusercontent.com/u/16006464/IPDS/sample.txt'"
   ]
  },
  {
   "cell_type": "markdown",
   "metadata": {},
   "source": [
    "The columns in this tab-separated data correspond to [order id] [time of order] [user id] [ordered item], something similar to what might be encountered in practice. If you wish, you can copy-paste the data written above into a text editor, making sure there is a newline following each of the ordered item columns (the columns with alphabetic characters)."
   ]
  },
  {
   "cell_type": "markdown",
   "metadata": {},
   "source": [
    "To store the output to a file, we also add the `-o [output file]` in the command. (We are also going to see in the next session how to use _output redirection_ to store the output to a file.)"
   ]
  },
  {
   "cell_type": "code",
   "execution_count": null,
   "metadata": {
    "collapsed": false
   },
   "outputs": [],
   "source": [
    "!curl -L 'https://dl.dropboxusercontent.com/u/16006464/IPDS/sample.txt' -o /home/ubuntu/data/sample.txt"
   ]
  },
  {
   "cell_type": "code",
   "execution_count": null,
   "metadata": {
    "collapsed": false
   },
   "outputs": [],
   "source": [
    "!ls /home/ubuntu/data/"
   ]
  },
  {
   "cell_type": "markdown",
   "metadata": {},
   "source": [
    "This will pull the file to the directory `/home/ubuntu/data/`, creating a new file called `sample.txt`. If we do not want to see any statistics about the download, we can use the `-s` option:"
   ]
  },
  {
   "cell_type": "code",
   "execution_count": null,
   "metadata": {
    "collapsed": false
   },
   "outputs": [],
   "source": [
    "!curl  -s -L 'https://dl.dropboxusercontent.com/u/16006464/IPDS/sample.txt' -o /home/ubuntu/data/sample.txt"
   ]
  },
  {
   "cell_type": "markdown",
   "metadata": {},
   "source": [
    "Now, let's try to use curl to get access to some real data. A key component of today's data ecosystem is the existence of `Web APIs` which provide functionality for a variety of tasks.\n",
    "\n",
    "#### Where am I?\n",
    "\n",
    "For example, let's try to figure out programmatically the location of the computer where the iPython server is running. We can access the API call by issuing the following command:\n",
    "\n"
   ]
  },
  {
   "cell_type": "code",
   "execution_count": 2,
   "metadata": {
    "collapsed": false
   },
   "outputs": [
    {
     "name": "stdout",
     "output_type": "stream",
     "text": [
      "\u001b[37m{\r\n",
      "  \u001b[0m\u001b[34;1m\"metro_code\"\u001b[0m\u001b[37m: \u001b[0m\u001b[0m511\u001b[0m\u001b[37m,\r\n",
      "  \u001b[0m\u001b[34;1m\"longitude\"\u001b[0m\u001b[37m: \u001b[0m\u001b[0m-77.4838\u001b[0m\u001b[37m,\r\n",
      "  \u001b[0m\u001b[34;1m\"latitude\"\u001b[0m\u001b[37m: \u001b[0m\u001b[0m39.0335\u001b[0m\u001b[37m,\r\n",
      "  \u001b[0m\u001b[34;1m\"ip\"\u001b[0m\u001b[37m: \u001b[0m\u001b[32m\"54.174.159.22\"\u001b[0m\u001b[37m,\r\n",
      "  \u001b[0m\u001b[34;1m\"country_code\"\u001b[0m\u001b[37m: \u001b[0m\u001b[32m\"US\"\u001b[0m\u001b[37m,\r\n",
      "  \u001b[0m\u001b[34;1m\"country_name\"\u001b[0m\u001b[37m: \u001b[0m\u001b[32m\"United States\"\u001b[0m\u001b[37m,\r\n",
      "  \u001b[0m\u001b[34;1m\"region_code\"\u001b[0m\u001b[37m: \u001b[0m\u001b[32m\"VA\"\u001b[0m\u001b[37m,\r\n",
      "  \u001b[0m\u001b[34;1m\"region_name\"\u001b[0m\u001b[37m: \u001b[0m\u001b[32m\"Virginia\"\u001b[0m\u001b[37m,\r\n",
      "  \u001b[0m\u001b[34;1m\"city\"\u001b[0m\u001b[37m: \u001b[0m\u001b[32m\"Ashburn\"\u001b[0m\u001b[37m,\r\n",
      "  \u001b[0m\u001b[34;1m\"zip_code\"\u001b[0m\u001b[37m: \u001b[0m\u001b[32m\"20147\"\u001b[0m\u001b[37m,\r\n",
      "  \u001b[0m\u001b[34;1m\"time_zone\"\u001b[0m\u001b[37m: \u001b[0m\u001b[32m\"America/New_York\"\u001b[0m\u001b[37m\r\n",
      "\u001b[37m}\u001b[0m\r\n"
     ]
    }
   ],
   "source": [
    "!curl -s \"http://freegeoip.net/json/\" | jq ."
   ]
  },
  {
   "cell_type": "markdown",
   "metadata": {},
   "source": [
    "While this does not look nice to a human, for a computer is a perfectly legitimate answer. This format is called \"JSON\", and is an efficient and very commonly used way to trasfer data today on the Internet.\n",
    "| jq controls presentation"
   ]
  },
  {
   "cell_type": "markdown",
   "metadata": {},
   "source": [
    "Now, let's examine a few more web APIs, just for fun:\n",
    "\n",
    "#### What's the weather?\n",
    "\n",
    "Now, let's use the OpenWeather API to get the weather details in our location. (The details of the API calls are available at http://openweathermap.org/api.)"
   ]
  },
  {
   "cell_type": "code",
   "execution_count": 4,
   "metadata": {
    "collapsed": false
   },
   "outputs": [
    {
     "name": "stdout",
     "output_type": "stream",
     "text": [
      "\u001b[37m{\r\n",
      "  \u001b[0m\u001b[34;1m\"cod\"\u001b[0m\u001b[37m: \u001b[0m\u001b[0m200\u001b[0m\u001b[37m,\r\n",
      "  \u001b[0m\u001b[34;1m\"name\"\u001b[0m\u001b[37m: \u001b[0m\u001b[32m\"New York\"\u001b[0m\u001b[37m,\r\n",
      "  \u001b[0m\u001b[34;1m\"id\"\u001b[0m\u001b[37m: \u001b[0m\u001b[0m5128581\u001b[0m\u001b[37m,\r\n",
      "  \u001b[0m\u001b[34;1m\"coord\"\u001b[0m\u001b[37m: \u001b[0m\u001b[37m{\r\n",
      "    \u001b[0m\u001b[34;1m\"lat\"\u001b[0m\u001b[37m: \u001b[0m\u001b[0m40.71\u001b[0m\u001b[37m,\r\n",
      "    \u001b[0m\u001b[34;1m\"lon\"\u001b[0m\u001b[37m: \u001b[0m\u001b[0m-74.01\u001b[0m\u001b[37m\r\n",
      "  \u001b[37m}\u001b[0m\u001b[37m,\r\n",
      "  \u001b[0m\u001b[34;1m\"weather\"\u001b[0m\u001b[37m: \u001b[0m\u001b[37m[\r\n",
      "    \u001b[37m{\r\n",
      "      \u001b[0m\u001b[34;1m\"icon\"\u001b[0m\u001b[37m: \u001b[0m\u001b[32m\"04d\"\u001b[0m\u001b[37m,\r\n",
      "      \u001b[0m\u001b[34;1m\"description\"\u001b[0m\u001b[37m: \u001b[0m\u001b[32m\"broken clouds\"\u001b[0m\u001b[37m,\r\n",
      "      \u001b[0m\u001b[34;1m\"main\"\u001b[0m\u001b[37m: \u001b[0m\u001b[32m\"Clouds\"\u001b[0m\u001b[37m,\r\n",
      "      \u001b[0m\u001b[34;1m\"id\"\u001b[0m\u001b[37m: \u001b[0m\u001b[0m803\u001b[0m\u001b[37m\r\n",
      "    \u001b[37m}\u001b[0m\u001b[37m\r\n",
      "  \u001b[37m]\u001b[0m\u001b[37m,\r\n",
      "  \u001b[0m\u001b[34;1m\"base\"\u001b[0m\u001b[37m: \u001b[0m\u001b[32m\"cmc stations\"\u001b[0m\u001b[37m,\r\n",
      "  \u001b[0m\u001b[34;1m\"main\"\u001b[0m\u001b[37m: \u001b[0m\u001b[37m{\r\n",
      "    \u001b[0m\u001b[34;1m\"temp_max\"\u001b[0m\u001b[37m: \u001b[0m\u001b[0m41.9\u001b[0m\u001b[37m,\r\n",
      "    \u001b[0m\u001b[34;1m\"temp_min\"\u001b[0m\u001b[37m: \u001b[0m\u001b[0m26.6\u001b[0m\u001b[37m,\r\n",
      "    \u001b[0m\u001b[34;1m\"humidity\"\u001b[0m\u001b[37m: \u001b[0m\u001b[0m32\u001b[0m\u001b[37m,\r\n",
      "    \u001b[0m\u001b[34;1m\"pressure\"\u001b[0m\u001b[37m: \u001b[0m\u001b[0m1027\u001b[0m\u001b[37m,\r\n",
      "    \u001b[0m\u001b[34;1m\"temp\"\u001b[0m\u001b[37m: \u001b[0m\u001b[0m36.16\u001b[0m\u001b[37m\r\n",
      "  \u001b[37m}\u001b[0m\u001b[37m,\r\n",
      "  \u001b[0m\u001b[34;1m\"wind\"\u001b[0m\u001b[37m: \u001b[0m\u001b[37m{\r\n",
      "    \u001b[0m\u001b[34;1m\"deg\"\u001b[0m\u001b[37m: \u001b[0m\u001b[0m287.503\u001b[0m\u001b[37m,\r\n",
      "    \u001b[0m\u001b[34;1m\"speed\"\u001b[0m\u001b[37m: \u001b[0m\u001b[0m2.07\u001b[0m\u001b[37m\r\n",
      "  \u001b[37m}\u001b[0m\u001b[37m,\r\n",
      "  \u001b[0m\u001b[34;1m\"clouds\"\u001b[0m\u001b[37m: \u001b[0m\u001b[37m{\r\n",
      "    \u001b[0m\u001b[34;1m\"all\"\u001b[0m\u001b[37m: \u001b[0m\u001b[0m75\u001b[0m\u001b[37m\r\n",
      "  \u001b[37m}\u001b[0m\u001b[37m,\r\n",
      "  \u001b[0m\u001b[34;1m\"dt\"\u001b[0m\u001b[37m: \u001b[0m\u001b[0m1452181331\u001b[0m\u001b[37m,\r\n",
      "  \u001b[0m\u001b[34;1m\"sys\"\u001b[0m\u001b[37m: \u001b[0m\u001b[37m{\r\n",
      "    \u001b[0m\u001b[34;1m\"sunset\"\u001b[0m\u001b[37m: \u001b[0m\u001b[0m1452203105\u001b[0m\u001b[37m,\r\n",
      "    \u001b[0m\u001b[34;1m\"sunrise\"\u001b[0m\u001b[37m: \u001b[0m\u001b[0m1452169202\u001b[0m\u001b[37m,\r\n",
      "    \u001b[0m\u001b[34;1m\"country\"\u001b[0m\u001b[37m: \u001b[0m\u001b[32m\"US\"\u001b[0m\u001b[37m,\r\n",
      "    \u001b[0m\u001b[34;1m\"message\"\u001b[0m\u001b[37m: \u001b[0m\u001b[0m0.0043\u001b[0m\u001b[37m,\r\n",
      "    \u001b[0m\u001b[34;1m\"id\"\u001b[0m\u001b[37m: \u001b[0m\u001b[0m1975\u001b[0m\u001b[37m,\r\n",
      "    \u001b[0m\u001b[34;1m\"type\"\u001b[0m\u001b[37m: \u001b[0m\u001b[0m1\u001b[0m\u001b[37m\r\n",
      "  \u001b[37m}\u001b[0m\u001b[37m\r\n",
      "\u001b[37m}\u001b[0m\r\n"
     ]
    }
   ],
   "source": [
    "!curl -s \"http://api.openweathermap.org/data/2.5/weather?q=New%20York,NY,USA&units=imperial&mode=json&appid=ffb7b9808e07c9135bdcc7d1e867253d\" | jq ."
   ]
  },
  {
   "cell_type": "markdown",
   "metadata": {},
   "source": [
    "You will notice that we asked the service to return to us the data in JSON format. For that API, we can also ask the data to be returned in a different format, called XML, which is wordlier. (We will get back to these formats later in the semester.)"
   ]
  },
  {
   "cell_type": "code",
   "execution_count": null,
   "metadata": {
    "collapsed": false
   },
   "outputs": [],
   "source": [
    "!curl -s \"http://api.openweathermap.org/data/2.5/weather?q=New%20York,NY,USA&units=imperial&mode=xml&appid=ffb7b9808e07c9135bdcc7d1e867253d\""
   ]
  },
  {
   "cell_type": "markdown",
   "metadata": {},
   "source": [
    "#### What's the sentiment?\n",
    "\n",
    "Now let's try to use a web service to automatically analyze the sentiment for a piece of text. (The service comes from the [IBM's Alchemy API](http://www.alchemyapi.com/api/sentiment/textc.html#textsentiment))"
   ]
  },
  {
   "cell_type": "code",
   "execution_count": 5,
   "metadata": {
    "collapsed": false
   },
   "outputs": [
    {
     "name": "stdout",
     "output_type": "stream",
     "text": [
      "  % Total    % Received % Xferd  Average Speed   Time    Time     Time  Current\r\n",
      "                                 Dload  Upload   Total   Spent    Left  Speed\r\n",
      "\r",
      "  0     0    0     0    0     0      0      0 --:--:-- --:--:-- --:--:--     0\r",
      "100   469  100   362  100   107  23911   7067 --:--:-- --:--:-- --:--:-- 24133\r\n",
      "\u001b[37m{\r\n",
      "  \u001b[0m\u001b[34;1m\"docSentiment\"\u001b[0m\u001b[37m: \u001b[0m\u001b[37m{\r\n",
      "    \u001b[0m\u001b[34;1m\"type\"\u001b[0m\u001b[37m: \u001b[0m\u001b[32m\"negative\"\u001b[0m\u001b[37m,\r\n",
      "    \u001b[0m\u001b[34;1m\"score\"\u001b[0m\u001b[37m: \u001b[0m\u001b[32m\"-0.386018\"\u001b[0m\u001b[37m\r\n",
      "  \u001b[37m}\u001b[0m\u001b[37m,\r\n",
      "  \u001b[0m\u001b[34;1m\"language\"\u001b[0m\u001b[37m: \u001b[0m\u001b[32m\"english\"\u001b[0m\u001b[37m,\r\n",
      "  \u001b[0m\u001b[34;1m\"totalTransactions\"\u001b[0m\u001b[37m: \u001b[0m\u001b[32m\"1\"\u001b[0m\u001b[37m,\r\n",
      "  \u001b[0m\u001b[34;1m\"usage\"\u001b[0m\u001b[37m: \u001b[0m\u001b[32m\"By accessing AlchemyAPI or using information generated by AlchemyAPI, you are agreeing to be bound by the AlchemyAPI Terms of Use: http://www.alchemyapi.com/company/terms.html\"\u001b[0m\u001b[37m,\r\n",
      "  \u001b[0m\u001b[34;1m\"status\"\u001b[0m\u001b[37m: \u001b[0m\u001b[32m\"OK\"\u001b[0m\u001b[37m\r\n",
      "\u001b[37m}\u001b[0m\r\n"
     ]
    }
   ],
   "source": [
    "!curl \"http://access.alchemyapi.com/calls/text/TextGetTextSentiment\" \\\n",
    "-d \"outputMode=json\" \\\n",
    "-d \"apikey=3d0b6858f7ef32fdf27ad402f4a9c270c9685d84\" \\\n",
    "-d \"text=I am a robot, feelings are for mortals\" | jq ."
   ]
  },
  {
   "cell_type": "markdown",
   "metadata": {},
   "source": [
    "#### And a few synonyms\n",
    "\n",
    "And now just a demo of a web API that I created myself a few years back. It analyzes Wikipedia to figure out different ways that people use to refer to the same entity\n",
    "\n"
   ]
  },
  {
   "cell_type": "code",
   "execution_count": null,
   "metadata": {
    "collapsed": false
   },
   "outputs": [],
   "source": [
    "!curl -s \"http://wikisynonyms.ipeirotis.com/api/New_York_City\" | jq ."
   ]
  },
  {
   "cell_type": "markdown",
   "metadata": {},
   "source": [
    "## Exercise\n",
    "\n",
    "The following websites contain listing of many useful APIs\n",
    "\n",
    "* https://www.mashape.com \n",
    "* http://www.programmableweb.com/\n",
    "* http://www.mashery.com/\n",
    "* http://apigee.com/ \n",
    "\n",
    "Mashape is my own personal favorite in terms of user-friendliness and also has examples directly expressed using CURL. but the others are pretty nice as well. Your task: search through these websites and find a web API that does something that you like. Use CURL to issue a web API call to this service. "
   ]
  },
  {
   "cell_type": "code",
   "execution_count": null,
   "metadata": {
    "collapsed": false
   },
   "outputs": [],
   "source": [
    "# Your code here"
   ]
  }
 ],
 "metadata": {
  "kernelspec": {
   "display_name": "Python 2",
   "language": "python",
   "name": "python2"
  },
  "language_info": {
   "codemirror_mode": {
    "name": "ipython",
    "version": 2
   },
   "file_extension": ".py",
   "mimetype": "text/x-python",
   "name": "python",
   "nbconvert_exporter": "python",
   "pygments_lexer": "ipython2",
   "version": "2.7.6"
  }
 },
 "nbformat": 4,
 "nbformat_minor": 0
}
