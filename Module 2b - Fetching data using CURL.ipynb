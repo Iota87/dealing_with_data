{
 "cells": [
  {
   "cell_type": "markdown",
   "metadata": {},
   "source": [
    "Getting Data using CURL\n",
    "-----------------------\n",
    "\n",
    "We now move into a more interesting topic: How to get data from Internet sources. For that, we will use a command-line tool of Unix, called `curl`. (Later in class, we will learn how to achieve the same using Python, but for quick testing, curl is often the standard method used.) \n",
    "\n",
    "_Sometimes, curl does not come preinstalled, so the first time that we use it, we need to issue the appropriate command for installing it.  To install it, simply type:_\n",
    "\n",
    "`$ sudo apt-get install curl`"
   ]
  },
  {
   "cell_type": "code",
   "execution_count": null,
   "metadata": {
    "collapsed": false
   },
   "outputs": [],
   "source": [
    "!sudo apt-get install curl"
   ]
  },
  {
   "cell_type": "code",
   "execution_count": null,
   "metadata": {
    "collapsed": false
   },
   "outputs": [],
   "source": [
    "!sudo apt-get install libxml2-dev libxslt-dev python-dev"
   ]
  },
  {
   "cell_type": "markdown",
   "metadata": {},
   "source": [
    "Let's start by retrieving a simple text file, which we will use later in the class, to illustrate how different shell commands work. The sample data file is hosted online. You can use terminal commands to copy this remote file. Simply type:"
   ]
  },
  {
   "cell_type": "code",
   "execution_count": null,
   "metadata": {
    "collapsed": false
   },
   "outputs": [],
   "source": [
    "!curl 'https://dl.dropboxusercontent.com/u/16006464/DwD_Winter2015/sample.txt'"
   ]
  },
  {
   "cell_type": "markdown",
   "metadata": {},
   "source": [
    "The columns in this tab-separated data correspond to [order id] [time of order] [user id] [ordered item], something similar to what might be encountered in practice. If you wish, you can copy-paste the data written above into a text editor, making sure there is a newline following each of the ordered item columns (the columns with alphabetic characters)."
   ]
  },
  {
   "cell_type": "markdown",
   "metadata": {},
   "source": [
    "To store the output to a file, we also add the `-o [output file]` in the command. (We are also going to see in the next session how to use _output redirection_ to store the output to a file.)"
   ]
  },
  {
   "cell_type": "code",
   "execution_count": null,
   "metadata": {
    "collapsed": false
   },
   "outputs": [],
   "source": [
    "!curl 'https://dl.dropboxusercontent.com/u/16006464/DwD_Winter2015/sample.txt' -o /home/ubuntu/data/sample.txt"
   ]
  },
  {
   "cell_type": "code",
   "execution_count": null,
   "metadata": {
    "collapsed": false
   },
   "outputs": [],
   "source": [
    "!ls /home/ubuntu/data/"
   ]
  },
  {
   "cell_type": "markdown",
   "metadata": {},
   "source": [
    "This will pull the file to the directory `/home/ubuntu/data/`, creating a new file called `sample.txt`. If we do not want to see any statistics about the download, we can use the `-s` option:"
   ]
  },
  {
   "cell_type": "code",
   "execution_count": null,
   "metadata": {
    "collapsed": false
   },
   "outputs": [],
   "source": [
    "!curl  -s 'https://dl.dropboxusercontent.com/u/16006464/DwD_Winter2015/sample.txt' -o /home/ubuntu/data/sample.txt"
   ]
  },
  {
   "cell_type": "markdown",
   "metadata": {},
   "source": [
    "Now, let's try to use curl to get access to some real data. A key component of today's data ecosystem is the existence of `Web APIs` which provide functionality for a variety of tasks.\n",
    "\n",
    "#### Where am I?\n",
    "\n",
    "For example, let's try to figure out programmatically the location of the computer where the iPython server is running. We can access the API call by issuing the following command:\n",
    "\n"
   ]
  },
  {
   "cell_type": "code",
   "execution_count": null,
   "metadata": {
    "collapsed": false
   },
   "outputs": [],
   "source": [
    "!curl -s http://www.telize.com/geoip | jq ."
   ]
  },
  {
   "cell_type": "markdown",
   "metadata": {},
   "source": [
    "While this does not look nice to a human, for a computer is a perfectly legitimate answer. This format is called \"JSON\", and is an efficient and very commonly used way to trasfer data today on the Internet.\n",
    "| jq controls presentation"
   ]
  },
  {
   "cell_type": "markdown",
   "metadata": {},
   "source": [
    "Now, let's examine a few more web APIs, just for fun:\n",
    "\n",
    "#### What's the weather?\n",
    "\n",
    "Now, let's use the OpenWeather API to get the weather details in our location. (The details of the API calls are available at http://openweathermap.org/api.)"
   ]
  },
  {
   "cell_type": "code",
   "execution_count": null,
   "metadata": {
    "collapsed": false
   },
   "outputs": [],
   "source": [
    "!curl -s \"http://api.openweathermap.org/data/2.5/weather?q=New%20York,NY,USA&units=imperial&mode=json\" | jq ."
   ]
  },
  {
   "cell_type": "markdown",
   "metadata": {},
   "source": [
    "You will notice that we asked the service to return to us the data in JSON format. For that API, we can also ask the data to be returned in a different format, called XML, which is wordlier. (We will get back to these formats later in the semester.)"
   ]
  },
  {
   "cell_type": "code",
   "execution_count": null,
   "metadata": {
    "collapsed": false
   },
   "outputs": [],
   "source": [
    "!curl -s \"http://api.openweathermap.org/data/2.5/weather?q=New%20York,NY,USA&units=imperial&mode=xml\""
   ]
  },
  {
   "cell_type": "markdown",
   "metadata": {},
   "source": [
    "#### What's the sentiment?\n",
    "\n",
    "Now let's try to use a web service to automatically analyze the sentiment for a piece of text. (The service comes from the [IBM's Alchemy API](http://www.alchemyapi.com/api/sentiment/textc.html#textsentiment))"
   ]
  },
  {
   "cell_type": "code",
   "execution_count": null,
   "metadata": {
    "collapsed": false
   },
   "outputs": [],
   "source": [
    "!curl \"http://access.alchemyapi.com/calls/text/TextGetTextSentiment\" \\\n",
    "-d \"outputMode=json\" \\\n",
    "-d \"apikey=3d0b6858f7ef32fdf27ad402f4a9c270c9685d84\" \\\n",
    "-d \"text=I am a robot, feelings are for mortals\""
   ]
  },
  {
   "cell_type": "markdown",
   "metadata": {},
   "source": [
    "#### And a few synonyms\n",
    "\n",
    "And now just a demo of a web API that I created myself a few years back. It analyzes Wikipedia to figure out different ways that people use to refer to the same entity\n",
    "\n"
   ]
  },
  {
   "cell_type": "code",
   "execution_count": null,
   "metadata": {
    "collapsed": false
   },
   "outputs": [],
   "source": [
    "!curl -s \"http://wikisynonyms.ipeirotis.com/api/New_York_City\" | jq ."
   ]
  },
  {
   "cell_type": "markdown",
   "metadata": {},
   "source": [
    "## Exercise\n",
    "\n",
    "The following websites contain listing of many useful APIs\n",
    "\n",
    "* https://www.mashape.com \n",
    "* http://www.programmableweb.com/\n",
    "* http://www.mashery.com/\n",
    "* http://apigee.com/ \n",
    "\n",
    "Mashape is my own personal favorite in terms of user-friendliness and also has examples directly expressed using CURL. but the others are pretty nice as well. Your task: search through these websites and find a web API that does something that you like. Use CURL to issue a web API call to this service. "
   ]
  },
  {
   "cell_type": "code",
   "execution_count": 24,
   "metadata": {
    "collapsed": false
   },
   "outputs": [
    {
     "name": "stdout",
     "output_type": "stream",
     "text": [
      "[{\"code\":1,\"message\":\"Location not Found\"}]"
     ]
    }
   ],
   "source": [
    "# Your code here\n",
    "!curl 'https://george-vustrey-weather.p.mashape.com/api.php?location=New+York,NY,USA' \\\n",
    "-H 'X-Mashape-Key: zG3wec50exmshxNoF1NMHNRH37GYp1d7oW8jsnWwIMTeMmALxg' \\\n",
    "-H 'Accept: application/json'"
   ]
  },
  {
   "cell_type": "code",
   "execution_count": 25,
   "metadata": {
    "collapsed": false
   },
   "outputs": [
    {
     "name": "stdout",
     "output_type": "stream",
     "text": [
      "{\"answer\":\"We are off for while, thanks.\"}"
     ]
    }
   ],
   "source": [
    "!curl \"https://leonardoscorza-translate-text-v1.p.mashape.com/translate?languageConverted=en&languageToConvert=pt&text=Hi+mister\" \\\n",
    " -H 'X-Mashape-Key: 9PdIdVvdkhmshHzukw7xF6bbV5Ghp1jVe4YjsnK6EdEav1J85N' \\\n",
    " -H 'Accept: text/plain'"
   ]
  },
  {
   "cell_type": "code",
   "execution_count": 27,
   "metadata": {
    "collapsed": false
   },
   "outputs": [
    {
     "name": "stdout",
     "output_type": "stream",
     "text": [
      "{\r\n",
      "    \"face\": [\r\n",
      "        {\r\n",
      "            \"attribute\": {\r\n",
      "                \"age\": {\r\n",
      "                    \"range\": 5, \r\n",
      "                    \"value\": 21\r\n",
      "                }, \r\n",
      "                \"gender\": {\r\n",
      "                    \"confidence\": 50.9499, \r\n",
      "                    \"value\": \"Male\"\r\n",
      "                }, \r\n",
      "                \"glass\": {\r\n",
      "                    \"confidence\": 91.8149, \r\n",
      "                    \"value\": \"None\"\r\n",
      "                }, \r\n",
      "                \"pose\": {\r\n",
      "                    \"pitch_angle\": {\r\n",
      "                        \"value\": 2.51365\r\n",
      "                    }, \r\n",
      "                    \"roll_angle\": {\r\n",
      "                        \"value\": -11.6931\r\n",
      "                    }, \r\n",
      "                    \"yaw_angle\": {\r\n",
      "                        \"value\": -39.045313\r\n",
      "                    }\r\n",
      "                }, \r\n",
      "                \"race\": {\r\n",
      "                    \"confidence\": 70.3847, \r\n",
      "                    \"value\": \"Asian\"\r\n",
      "                }, \r\n",
      "                \"smiling\": {\r\n",
      "                    \"value\": 47.3556\r\n",
      "                }\r\n",
      "            }, \r\n",
      "            \"face_id\": \"c98dd1aacec1ffe30b1755ea6536711d\", \r\n",
      "            \"position\": {\r\n",
      "                \"center\": {\r\n",
      "                    \"x\": 64.5, \r\n",
      "                    \"y\": 44.5\r\n",
      "                }, \r\n",
      "                \"eye_left\": {\r\n",
      "                    \"x\": 60.860333, \r\n",
      "                    \"y\": 40.2495\r\n",
      "                }, \r\n",
      "                \"eye_right\": {\r\n",
      "                    \"x\": 68.335833, \r\n",
      "                    \"y\": 37.92875\r\n",
      "                }, \r\n",
      "                \"height\": 28.5, \r\n",
      "                \"mouth_left\": {\r\n",
      "                    \"x\": 62.507667, \r\n",
      "                    \"y\": 53.0535\r\n",
      "                }, \r\n",
      "                \"mouth_right\": {\r\n",
      "                    \"x\": 68.348833, \r\n",
      "                    \"y\": 53.669\r\n",
      "                }, \r\n",
      "                \"nose\": {\r\n",
      "                    \"x\": 62.304833, \r\n",
      "                    \"y\": 46.77\r\n",
      "                }, \r\n",
      "                \"width\": 19.0\r\n",
      "            }, \r\n",
      "            \"tag\": \"\"\r\n",
      "        }\r\n",
      "    ], \r\n",
      "    \"img_height\": 667, \r\n",
      "    \"img_id\": \"4afcb04c00a802febe32bd270a80a2e0\", \r\n",
      "    \"img_width\": 1000, \r\n",
      "    \"session_id\": \"f5a5bca4c7634bc2993fddcc681e9fc8\", \r\n",
      "    \"url\": \"http://www.daavlin.com/wp-content/uploads/2012/09/shutterstock_97319846.jpg\"\r\n",
      "}"
     ]
    }
   ],
   "source": [
    "!curl 'https://faceplusplus-faceplusplus.p.mashape.com/detection/detect' \\\n",
    "-d 'attribute=glass,pose,gender,age,race,smiling' \\\n",
    "-d 'url=http://www.daavlin.com/wp-content/uploads/2012/09/shutterstock_97319846.jpg' \\\n",
    "-H 'X-Mashape-Key: zG3wec50exmshxNoF1NMHNRH37GYp1d7oW8jsnWwIMTeMmALxg' \\\n",
    "-H 'Accept: application/json'"
   ]
  },
  {
   "cell_type": "code",
   "execution_count": null,
   "metadata": {
    "collapsed": true
   },
   "outputs": [],
   "source": []
  }
 ],
 "metadata": {
  "kernelspec": {
   "display_name": "Python 2",
   "language": "python",
   "name": "python2"
  },
  "language_info": {
   "codemirror_mode": {
    "name": "ipython",
    "version": 2
   },
   "file_extension": ".py",
   "mimetype": "text/x-python",
   "name": "python",
   "nbconvert_exporter": "python",
   "pygments_lexer": "ipython2",
   "version": "2.7.6"
  }
 },
 "nbformat": 4,
 "nbformat_minor": 0
}
