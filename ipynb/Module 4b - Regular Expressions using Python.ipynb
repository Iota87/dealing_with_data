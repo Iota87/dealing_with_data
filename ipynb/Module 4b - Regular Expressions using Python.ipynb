{
 "metadata": {
  "name": "",
  "signature": "sha256:3d647781b36805df614066c14990d9272274b673146ad881d59610954a160ac3"
 },
 "nbformat": 3,
 "nbformat_minor": 0,
 "worksheets": [
  {
   "cells": [
    {
     "cell_type": "markdown",
     "metadata": {},
     "source": [
      "Regular Expressions\n",
      "-------------------\n",
      "\n",
      "This document will present basic regular expression syntax and cover common use cases for regular expressions: pattern matching, filtering, data extraction, and string replacement. \n",
      "\n",
      "We will present examples using python\u2019s standard [re regular expression library](http://docs.python.org/library/re.html).\n",
      "\n",
      "You may also want to look at this [*excellent* tutorial from Google](https://developers.google.com/edu/python/regular-expressions).\n"
     ]
    },
    {
     "cell_type": "markdown",
     "metadata": {},
     "source": [
      "### Basic Patterns\n",
      "\n",
      "* a, X, 9, < -- ordinary characters just match themselves exactly. The meta-characters which do not match themselves because they have special meanings are: . ^ \\$ * + ? { [ ] \\ | ( ) (details below)\n",
      "* . (a period) -- matches any single character except newline '\\n'\n",
      "* \\w -- (lowercase w) matches a \"word\" character: a letter or digit or underbar [a-zA-Z0-9_]. Note that although \"word\" is the mnemonic for this, it only matches a single word char, not a whole word. \\W (upper case W) matches any non-word character.\n",
      "* \\b -- boundary between word and non-word\n",
      "* \\s -- (lowercase s) matches a single whitespace character -- space, newline, return, tab, form [ \\n\\r\\t\\f]. \\S (upper case S) matches any non-whitespace character.\n",
      "* \\t, \\n, \\r -- tab, newline, return\n",
      "* \\d -- decimal digit [0-9] (some older regex utilities do not support but \\d, but they all support \\w and \\s)\n",
      "* ^ = start, $ = end -- match the start or end of the string\n",
      "* \\ -- inhibit the \"specialness\" of a character. So, for example, use \\. to match a period or \\\\ to match a slash. If you are unsure if a character has special meaning, such as '@', you can put a slash in front of it, \\@, to make sure it is treated just as a character."
     ]
    },
    {
     "cell_type": "heading",
     "level": 3,
     "metadata": {},
     "source": [
      "Searching strings using regexes"
     ]
    },
    {
     "cell_type": "code",
     "collapsed": false,
     "input": [
      "# first import the library\n",
      "import re"
     ],
     "language": "python",
     "metadata": {},
     "outputs": [],
     "prompt_number": 1
    },
    {
     "cell_type": "code",
     "collapsed": false,
     "input": [
      "# Regular expressions are compiled into pattern objects\n",
      "regex = re.compile(r'D.*Data')\n",
      "text = \"Panos Ipeirotis, Dealing with Data, 212-998-0803, panos@nyu.edu\"\n",
      "match = regex.search(text)\n",
      "print match.group()"
     ],
     "language": "python",
     "metadata": {},
     "outputs": [
      {
       "output_type": "stream",
       "stream": "stdout",
       "text": [
        "Dealing with Data\n"
       ]
      }
     ],
     "prompt_number": 2
    },
    {
     "cell_type": "markdown",
     "metadata": {},
     "source": [
      "When the regular expression does not find anything, then the search function returns `None`, which can cause an error in the code above:"
     ]
    },
    {
     "cell_type": "code",
     "collapsed": false,
     "input": [
      "# This code is going to generate an error\n",
      "regex = re.compile(r'Ra*nd.*m R[egex]')\n",
      "text = \"Panos Ipeirotis, Dealing with Data, 212-998-0803, panos@nyu.edu\"\n",
      "match = regex.search(text)\n",
      "print match.group()"
     ],
     "language": "python",
     "metadata": {},
     "outputs": [
      {
       "ename": "AttributeError",
       "evalue": "'NoneType' object has no attribute 'group'",
       "output_type": "pyerr",
       "traceback": [
        "\u001b[1;31m---------------------------------------------------------------------------\u001b[0m\n\u001b[1;31mAttributeError\u001b[0m                            Traceback (most recent call last)",
        "\u001b[1;32m<ipython-input-5-59f22400b3f6>\u001b[0m in \u001b[0;36m<module>\u001b[1;34m()\u001b[0m\n\u001b[0;32m      3\u001b[0m \u001b[0mtext\u001b[0m \u001b[1;33m=\u001b[0m \u001b[1;34m\"Panos Ipeirotis, Dealing with Data, 212-998-0803, panos@nyu.edu\"\u001b[0m\u001b[1;33m\u001b[0m\u001b[0m\n\u001b[0;32m      4\u001b[0m \u001b[0mmatch\u001b[0m \u001b[1;33m=\u001b[0m \u001b[0mregex\u001b[0m\u001b[1;33m.\u001b[0m\u001b[0msearch\u001b[0m\u001b[1;33m(\u001b[0m\u001b[0mtext\u001b[0m\u001b[1;33m)\u001b[0m\u001b[1;33m\u001b[0m\u001b[0m\n\u001b[1;32m----> 5\u001b[1;33m \u001b[1;32mprint\u001b[0m \u001b[0mmatch\u001b[0m\u001b[1;33m.\u001b[0m\u001b[0mgroup\u001b[0m\u001b[1;33m(\u001b[0m\u001b[1;33m)\u001b[0m\u001b[1;33m\u001b[0m\u001b[0m\n\u001b[0m",
        "\u001b[1;31mAttributeError\u001b[0m: 'NoneType' object has no attribute 'group'"
       ]
      }
     ],
     "prompt_number": 5
    },
    {
     "cell_type": "markdown",
     "metadata": {},
     "source": [
      "Therefore, we need to check that the returned object is not None, before trying to access a method of the object. The `None` value within the context of an `if` conditional gets translated to `False`; hence, we can modify the code above as follows:"
     ]
    },
    {
     "cell_type": "code",
     "collapsed": false,
     "input": [
      "# Regular expressions are compiled into pattern objects\n",
      "regex = re.compile(r'Ra*nd.*m R[egex]')\n",
      "text = \"Panos Ipeirotis, Dealing with Data, 212-998-0803, panos@nyu.edu\"\n",
      "match = regex.search(text)\n",
      "if match:\n",
      "    print match.group()\n",
      "else:\n",
      "    print \"not found\""
     ],
     "language": "python",
     "metadata": {},
     "outputs": [
      {
       "output_type": "stream",
       "stream": "stdout",
       "text": [
        "not found\n"
       ]
      }
     ],
     "prompt_number": 6
    },
    {
     "cell_type": "heading",
     "level": 3,
     "metadata": {},
     "source": [
      "Flags for regexes: Case-sentitivity and multiline searches"
     ]
    },
    {
     "cell_type": "markdown",
     "metadata": {},
     "source": [
      "Regular expressions are typically case-sensitive. "
     ]
    },
    {
     "cell_type": "code",
     "collapsed": false,
     "input": [
      "# Regular expressions are compiled into pattern objects\n",
      "# Regular expressions are case-sensitive\n",
      "regex = re.compile(r'I.*IS')\n",
      "text = \"Panos Ipeirotis, Dealing with Data, 212-998-0803, panos@nyu.edu\"\n",
      "match = regex.search(text)\n",
      "if match:\n",
      "    print match.group()\n",
      "else:\n",
      "    print \"not found\""
     ],
     "language": "python",
     "metadata": {},
     "outputs": []
    },
    {
     "cell_type": "markdown",
     "metadata": {},
     "source": [
      "But we can specify that they are case-insensitive, using the flag re.IGNORECASE"
     ]
    },
    {
     "cell_type": "code",
     "collapsed": false,
     "input": [
      "# Unless we specify that they are case-insensitive, using the flag re.IGNORECASE\n",
      "regex = re.compile('I.*IS',re.IGNORECASE)\n",
      "text = \"Panos Ipeirotis, Dealing with Data, 212-998-0803, panos@nyu.edu\"\n",
      "match = regex.search(text)\n",
      "if match:\n",
      "    print match.group()\n",
      "else:\n",
      "    print \"not found\""
     ],
     "language": "python",
     "metadata": {},
     "outputs": [
      {
       "output_type": "stream",
       "stream": "stdout",
       "text": [
        "Ipeirotis\n"
       ]
      }
     ],
     "prompt_number": 7
    },
    {
     "cell_type": "markdown",
     "metadata": {},
     "source": [
      " For a full list of available flags, please see the [re documentation](http://docs.python.org/library/re.html)."
     ]
    },
    {
     "cell_type": "heading",
     "level": 3,
     "metadata": {},
     "source": [
      "Multiple matches in a string"
     ]
    },
    {
     "cell_type": "markdown",
     "metadata": {},
     "source": [
      "The search command goes through the string to find the longest expression that matches the regex\n",
      "and once it finds the first match, it stops. For example, we will not get the second phone number"
     ]
    },
    {
     "cell_type": "code",
     "collapsed": false,
     "input": [
      "# The search command goes through the string to find the longest expression that matches the regex\n",
      "# and once it finds the first match, it stops. For example, we will not get the second phone number\n",
      "regex = re.compile('[0-9]{3}-[0-9]{3}-[0-9]{4}')\n",
      "text = \"Panos Ipeirotis, Dealing with Data, 212-998-0803, panos@nyu.edu, 646-555-5555\"\n",
      "match = regex.search(text)\n",
      "if match:\n",
      "    print match.group()\n",
      "else:\n",
      "    print \"not found\""
     ],
     "language": "python",
     "metadata": {},
     "outputs": [
      {
       "output_type": "stream",
       "stream": "stdout",
       "text": [
        "212-998-0803\n"
       ]
      }
     ],
     "prompt_number": 8
    },
    {
     "cell_type": "markdown",
     "metadata": {},
     "source": [
      "If we want to find multiple matches within the string, then we use the `finditer` command that returns a collection of `MatchObject` items. (For comparison, `search` returns just the first `MatchObject` item.)"
     ]
    },
    {
     "cell_type": "code",
     "collapsed": false,
     "input": [
      "# The finditer command goes through the string to find the all the expressions that matches the regex\n",
      "regex = re.compile(r'i.*t')\n",
      "text = \"Panos Ipeirotis, Dealing with Data, 212-998-0803, panos@nyu.edu, 646-555-5555\"\n",
      "matches = regex.finditer(text)\n",
      "for m in matches:\n",
      "    print \"Starts at:\", m.start(), \"Ends at:\", m.end(), \"Content:\", m.group()"
     ],
     "language": "python",
     "metadata": {},
     "outputs": [
      {
       "output_type": "stream",
       "stream": "stdout",
       "text": [
        "Starts at: 9 Ends at: 13 Content: irot\n",
        "Starts at: 13 Ends at: 24 Content: is, Dealigt\n",
        "Starts at: 28 Ends at: 30 Content: it\n"
       ]
      }
     ],
     "prompt_number": 16
    },
    {
     "cell_type": "markdown",
     "metadata": {},
     "source": [
      "### Extracting Data -- where regex start to get really cool\n",
      "\n",
      "In addition to simple matching and filtering, many regular expressions implementations, including python\u2019s re, provide a powerful mechanism for extracting meaningful data from raw text. Through capturing, those strings that satisfy a particular regular expression are extracted from the text being matched, and returned to the program processing the raw data. The portion of regular expressions that should be captured is surrounded by parentheses, `\"( )\"`. Then, provided the regular expression containing the capturing statement is satisfied, the result of the regular expression will contain a group of text matching patterns. This group method gets the results of the portions of the input text matched by the capturing statements in the regular expression. The matches are indexed from one-- to get the portion of the text matched by first capturing statement, you could query `result.group(1)`, the second parentheses will have its match stored in `result.group(2)`, etc. The value stored at `result.group(0)`, is the entire portion of the input string matched by the regular expression, not just the portion satisfying the capturing parentheses.\n",
      "\n",
      "As example of data extraction using capturing regular expressions, say we\u2019re scanning some raw text for phone numbers that we wish to retain for later processing. We might try something like:"
     ]
    },
    {
     "cell_type": "code",
     "collapsed": false,
     "input": [
      "raw_text = r\"\"\"512-234-5234\n",
      "foo\n",
      "bar\n",
      "124-512-5555\n",
      "biz\n",
      "125-555-5785\n",
      "679-397-5255\n",
      "2126660921\n",
      "212-998-0902\n",
      "888-888-2222\n",
      "801-555-1211\n",
      "802 555 1212\n",
      "803.555.1213\n",
      "(804) 555-1214\n",
      "1-805-555-1215\n",
      "1(806)555-1216\n",
      "807-555-1217-1234\n",
      "808-555-1218x1234\n",
      "809-555-1219 ext. 1234\n",
      "work 1-(810) 555.1220 #1234\n",
      "\"\"\"\n",
      "\n",
      "# Notice now that each part of the phone is included in parentheses\n",
      "# allowing us to grab individual part of the phone number\n",
      "regex = re.compile(r'([2-9]\\d{2})\\W*(\\d{3})\\W*(\\d{4})')\n",
      "matches = regex.finditer(raw_text)\n",
      "\n",
      "#for m in matches:\n",
      "#    print \"I found:\", m.group(),\"\\t==>\", \"Area Code:\", m.group(1), \"Phone:\", m.group(2), m.group(3)\n",
      "\n",
      "matches = regex.findall(raw_text)\n",
      "for m in matches:\n",
      "    print m"
     ],
     "language": "python",
     "metadata": {},
     "outputs": [
      {
       "output_type": "stream",
       "stream": "stdout",
       "text": [
        "('512', '234', '5234')\n",
        "('679', '397', '5255')\n",
        "('212', '666', '0921')\n",
        "('212', '998', '0902')\n",
        "('888', '888', '2222')\n",
        "('801', '555', '1211')\n",
        "('802', '555', '1212')\n",
        "('803', '555', '1213')\n",
        "('804', '555', '1214')\n",
        "('805', '555', '1215')\n",
        "('806', '555', '1216')\n",
        "('807', '555', '1217')\n",
        "('808', '555', '1218')\n",
        "('809', '555', '1219')\n",
        "('810', '555', '1220')\n"
       ]
      }
     ],
     "prompt_number": 29
    },
    {
     "cell_type": "markdown",
     "metadata": {},
     "source": [
      "(See also http://www.diveintopython.net/regular_expressions/phone_numbers.html if you want to see further examples.)\n",
      "\n",
      "The examples will look like gobbledygook at first.  But after you go through some actual cases, and especially after you struggle to write a few for a real data science task, you will realize that you're not in Kansas any longer.  Now get ready for a horse of a different color..."
     ]
    },
    {
     "cell_type": "markdown",
     "metadata": {},
     "source": [
      "###String Replacement\n",
      "\n",
      "In addition to matching and extraction, regular expressions can be used to change data--especially unstructured text--in very powerful ways.  In particular, regex allow you to find specific patterns and then replace them with specified strings. \n",
      "\n",
      "As a data scientist, this is useful when trying to get data formated correctly as input to a specific system, such as when doing data cleanup.\n",
      "\n",
      "In python\u2019s re library, the function used for replacement is `sub()` (think \"substitute\"). \n",
      "\n",
      "The pattern for invoking `sub()` is \n",
      "\n",
      "`re.sub(regex, replacement, text)`\n",
      "\n",
      "This will return a version of text where all instances of the regex have been substituted with replacement.\n",
      "\n",
      "Imagine we want to conceal all phone numbers in a document. We could use the following call to `sub()`:"
     ]
    },
    {
     "cell_type": "code",
     "collapsed": false,
     "input": [
      "raw_text = \"\"\"512-234-5234\n",
      "foo\n",
      "bar\n",
      "124-512-5555\n",
      "biz\n",
      "125-555-5785\n",
      "679-397-5255\n",
      "2126660921\n",
      "212-998-0902\n",
      "888-888-2222\n",
      "801-555-1211\n",
      "802 555 1212\n",
      "803.555.1213\n",
      "(804) 555-1214\n",
      "1-805-555-1215\n",
      "1(806)555-1216\n",
      "807-555-1217-1234\n",
      "808-555-1218x1234\n",
      "809-555-1219 ext. 1234\n",
      "work 1-(810) 555.1220 #1234\n",
      "\"\"\"\n",
      "\n",
      "regex = re.compile('([0-9]{3})\\W*([0-9]{3})\\W*([0-9]{4})')\n",
      "\n",
      "newstring = re.sub(regex, \"XXX-XXX-XXXX\", raw_text)\n",
      "\n",
      "print newstring"
     ],
     "language": "python",
     "metadata": {},
     "outputs": [
      {
       "output_type": "stream",
       "stream": "stdout",
       "text": [
        "XXX-XXX-XXXX\n",
        "foo\n",
        "bar\n",
        "XXX-XXX-XXXX\n",
        "biz\n",
        "XXX-XXX-XXXX\n",
        "XXX-XXX-XXXX\n",
        "XXX-XXX-XXXX\n",
        "XXX-XXX-XXXX\n",
        "XXX-XXX-XXXX\n",
        "XXX-XXX-XXXX\n",
        "XXX-XXX-XXXX\n",
        "XXX-XXX-XXXX\n",
        "(XXX-XXX-XXXX\n",
        "1-XXX-XXX-XXXX\n",
        "1(XXX-XXX-XXXX\n",
        "XXX-XXX-XXXX-1234\n",
        "XXX-XXX-XXXXx1234\n",
        "XXX-XXX-XXXX ext. 1234\n",
        "work 1-(XXX-XXX-XXXX #1234\n",
        "\n"
       ]
      }
     ],
     "prompt_number": 30
    },
    {
     "cell_type": "markdown",
     "metadata": {},
     "source": [
      "When performing substitution, matches found using the capturing mechanism are available to the replacement using `\\1`, `\\2`, and so on, as shortcuts to `group(1)`, `group(2)`, etc. \n",
      "\n",
      "In order to use this back-referencing capability, we need to tell the `sub()` mechanism to treat the replacement string as a regular expression. For instance, if we want to make sure all phone numbers are normalized and all area codes are surrounded by parentheses, we can use:"
     ]
    },
    {
     "cell_type": "code",
     "collapsed": false,
     "input": [
      "print re.sub(regex, r\"(\\1)-\\2-\\3\", raw_text)"
     ],
     "language": "python",
     "metadata": {},
     "outputs": [
      {
       "output_type": "stream",
       "stream": "stdout",
       "text": [
        "(512)-234-5234\n",
        "foo\n",
        "bar\n",
        "(124)-512-5555\n",
        "biz\n",
        "(125)-555-5785\n",
        "(679)-397-5255\n",
        "(212)-666-0921\n",
        "(212)-998-0902\n",
        "(888)-888-2222\n",
        "(801)-555-1211\n",
        "(802)-555-1212\n",
        "(803)-555-1213\n",
        "((804)-555-1214\n",
        "1-(805)-555-1215\n",
        "1((806)-555-1216\n",
        "(807)-555-1217-1234\n",
        "(808)-555-1218x1234\n",
        "(809)-555-1219 ext. 1234\n",
        "work 1-((810)-555-1220 #1234\n",
        "\n"
       ]
      }
     ],
     "prompt_number": 31
    },
    {
     "cell_type": "heading",
     "level": 3,
     "metadata": {},
     "source": [
      "Exercise"
     ]
    },
    {
     "cell_type": "markdown",
     "metadata": {},
     "source": [
      "Find all the emails in a webpage. \n",
      "\n",
      "Since we have not covered yet the networking abilities of Python (coming next), just use curl to fetch the HTML source of the page. Remember that you can either store the outcome of curl into a file and then read the file into Python, or (preferable) directly get the output of curl into a Python variable.\n",
      "\n",
      "Then you will need to write the right regex and write the code that finds emails in the retrieved html."
     ]
    },
    {
     "cell_type": "code",
     "collapsed": false,
     "input": [],
     "language": "python",
     "metadata": {},
     "outputs": [],
     "prompt_number": 41
    },
    {
     "cell_type": "code",
     "collapsed": false,
     "input": [
      "html = !curl -s 'http://w4.stern.nyu.edu/faculty/search_name_form'\n",
      "html = \" \".join(html)\n",
      "\n",
      "# Email regex\n",
      "regex = re.compile(r'([\\w\\.]+)@(\\w+(\\.\\w+)+)')\n",
      "\n",
      "emails = set()\n",
      "matches = regex.finditer(html)\n",
      "for m in matches:\n",
      "    #print \"Email:\", m.group(), \"Username:\", m.group(1), \"Domain:\", m.group(2)\n",
      "    emails.add(m.group())"
     ],
     "language": "python",
     "metadata": {},
     "outputs": [],
     "prompt_number": 49
    },
    {
     "cell_type": "code",
     "collapsed": false,
     "input": [
      "print emails"
     ],
     "language": "python",
     "metadata": {},
     "outputs": [
      {
       "output_type": "stream",
       "stream": "stdout",
       "text": [
        "set(['htaparia@stern.nyu.edu', 'myudkovi@stern.nyu.edu', 'rfrank@stern.nyu.edu', 'mfarley@stern.nyu.edu', 'rslee@stern.nyu.edu', 'kcorfman@stern.nyu.edu', 'rsundara@stern.nyu.edu', 'jporac@stern.nyu.edu', 'snarayan@stern.nyu.edu', 'slabowitz@stern.nyu.edu', 'aljungqv@stern.nyu.edu', 'rseamans@stern.nyu.edu', 'emestre@stern.nyu.edu', 'efischer@stern.nyu.edu', 'rayala2@stern.nyu.edu', 'emorriso@stern.nyu.edu', 'dmaheswa@stern.nyu.edu', 'tambe@stern.nyu.edu', 'rkowal@stern.nyu.edu', 'mcruz@stern.nyu.edu', 'bdonefer@stern.nyu.edu', 'dcampo@stern.nyu.edu', 'nhalov@stern.nyu.edu', 'aginsber@stern.nyu.edu', 'tcooley@stern.nyu.edu', 'td896@stern.nyu.edu', 'eocampo@stern.nyu.edu', 'fleiber@stern.nyu.edu', 'rcaldent@stern.nyu.edu', 'eelton@stern.nyu.edu', 'hstuart@stern.nyu.edu', 'daltman@stern.nyu.edu', 'yshi@stern.nyu.edu', 'mjog@stern.nyu.edu', 'churvich@stern.nyu.edu', 'joyee.deb@stern.nyu.edu', 'sblader@stern.nyu.edu', 'ggonnot@stern.nyu.edu', 'ychen@stern.nyu.edu', 'eglickma@stern.nyu.edu', 'djuran@stern.nyu.edu', 'lmetzger@stern.nyu.edu', 'bbuchana@stern.nyu.edu', 'mpinedo@stern.nyu.edu', 'bakos@stern.nyu.edu', 'rabrante@stern.nyu.edu', 'adamodar@stern.nyu.edu', 'elizabeth.howard@stern.nyu.edu', 'cfang@stern.nyu.edu', 'xmeng@stern.nyu.edu', 'jronen@stern.nyu.edu', 'gvulcano@stern.nyu.edu', 'ksee@stern.nyu.edu', 'aalter@stern.nyu.edu', 'dhegde@stern.nyu.edu', 'wvance@stern.nyu.edu', 'vacharya@stern.nyu.edu', 'cdixon@stern.nyu.edu', 'arappapo@stern.nyu.edu', 'dcowen@stern.nyu.edu', 'gkilduff@stern.nyu.edu', 'ebartov@stern.nyu.edu', 'jstroebe@stern.nyu.edu', 'ealtman@stern.nyu.edu', 'gcattani@stern.nyu.edu', 'iguttman@stern.nyu.edu', 'fmilitel@stern.nyu.edu', 'jrubinso@stern.nyu.edu', 'aghose@stern.nyu.edu', 'cparlato@stern.nyu.edu', 'rmaldona@stern.nyu.edu', 'dbackus@stern.nyu.edu', 'vmorwitz@stern.nyu.edu', 'lsproull@stern.nyu.edu', 'jyounger@stern.nyu.edu', 'dzand@stern.nyu.edu', 'gokun@stern.nyu.edu', 'jcarlson@stern.nyu.edu', 'asellier@stern.nyu.edu', 'pshamsai@stern.nyu.edu', 'ksosulsk@stern.nyu.edu', 'zemel@stern.nyu.edu', 'bhanssen@stern.nyu.edu', 'bhirschh@stern.nyu.edu', 'skovensk@stern.nyu.edu', 'gsimon@stern.nyu.edu', 'atenenbe@stern.nyu.edu', 'sjagabat@stern.nyu.edu', 'alieberm@stern.nyu.edu', 'dgode@stern.nyu.edu', 'eschoenb@stern.nyu.edu', 'mertens@stern.nyu.edu', 'kruhl@stern.nyu.edu', 'fmillike@stern.nyu.edu', 'sliss@stern.nyu.edu', 'jdapello@stern.nyu.edu', 'rshoemak@stern.nyu.edu', 'mgarcia@stern.nyu.edu', 'cbleuste@stern.nyu.edu', 'epluta@stern.nyu.edu', 'john.horton@stern.nyu.edu', 'idsouza@stern.nyu.edu', 'tserdari@stern.nyu.edu', 'wexler@stern.nyu.edu', 'itamar.drechsler@stern.nyu.edu', 'jsharlac@stern.nyu.edu', 'dmcguire@stern.nyu.edu', 'ktesdell@stern.nyu.edu', 'isa@stern.nyu.edu', 'istewart@stern.nyu.edu', 'jcarr0@stern.nyu.edu', 'adontoh@stern.nyu.edu', 'rlamb@stern.nyu.edu', 'jrubin@stern.nyu.edu', 'sbowmake@stern.nyu.edu', 'rlyon@stern.nyu.edu', 'aagrawal@stern.nyu.edu', 'mpatters@stern.nyu.edu', 'cpluzins@stern.nyu.edu', 'mking@stern.nyu.edu', 'rschaumb@stern.nyu.edu', 'jczepiel@stern.nyu.edu', 'sfreeman@stern.nyu.edu', 'mbilling@stern.nyu.edu', 'acebenoy@stern.nyu.edu', 'edinallo@stern.nyu.edu', 'ilobel@stern.nyu.edu', 'talbanes@stern.nyu.edu', 'emelnick@stern.nyu.edu', 'btuckman@stern.nyu.edu', 'jbilders@stern.nyu.edu', 'kfroewis@stern.nyu.edu', 'gschwed@stern.nyu.edu', 'pmelton@stern.nyu.edu', 'chintz@stern.nyu.edu', 'ischenkl@stern.nyu.edu', 'pagnello@stern.nyu.edu', 'ddzyabur@stern.nyu.edu', 'dperkal@stern.nyu.edu', 'mtaub@stern.nyu.edu', 'iesponda@stern.nyu.edu', 'rradner@stern.nyu.edu', 'lpederse@stern.nyu.edu', 'jcarpen0@stern.nyu.edu', 'raghubir@stern.nyu.edu', 'jgreenbe@stern.nyu.edu', 'wallen@stern.nyu.edu', 'gsmith@stern.nyu.edu', 'vvenkate@stern.nyu.edu', 'jzhang@stern.nyu.edu', 'lveldkam@stern.nyu.edu', 'aholmes@stern.nyu.edu', 'jlee@stern.nyu.edu', 'nroubini@stern.nyu.edu', 'ccuny@stern.nyu.edu', 'sgallowa@stern.nyu.edu', 'lcabral@stern.nyu.edu', 'pperry@stern.nyu.edu', 'alynch@stern.nyu.edu', 'kjohn@stern.nyu.edu', 'thowell@stern.nyu.edu', 'dlesh@stern.nyu.edu', 'svnieuwe@stern.nyu.edu', 'gfaber@stern.nyu.edu', 'belen.villalonga@stern.nyu.edu', 'asaunder@stern.nyu.edu', 'wguth@stern.nyu.edu', 'gwu@stern.nyu.edu', 'jsteckel@stern.nyu.edu', 'jbrooks@stern.nyu.edu', 'pnayyar@stern.nyu.edu', 'beck@stern.nyu.edu', 'jbiggs@stern.nyu.edu', 'rmixon@stern.nyu.edu', 'aliberma@stern.nyu.edu', 'rshalev@stern.nyu.edu', 'rkavesh@stern.nyu.edu', 'jeggers@stern.nyu.edu', 'ashlaes@stern.nyu.edu', 'panos@stern.nyu.edu', 'skrentzm@stern.nyu.edu', 'kermit.schoenholtz@stern.nyu.edu', 'lriccio@stern.nyu.edu', 'pwachtel@stern.nyu.edu', 'cynthia.franklin@stern.nyu.edu', 'hkleinbe@stern.nyu.edu', 'rsylla@stern.nyu.edu', 'aschmeit@stern.nyu.edu', 'nhays@stern.nyu.edu', 'mkalter@stern.nyu.edu', 'rrottner@stern.nyu.edu', 'tphilipp@stern.nyu.edu', 'pgrovit@stern.nyu.edu', 'aasadpou@stern.nyu.edu', 'mmazzare@stern.nyu.edu', 'gcourtad@stern.nyu.edu', 'gnativid@stern.nyu.edu', 'hchernof@stern.nyu.edu', 'blev@stern.nyu.edu', 'bholt@stern.nyu.edu', 'tpugel@stern.nyu.edu', 'msaid@stern.nyu.edu', 'asavov@stern.nyu.edu', 'sdick@stern.nyu.edu', 'azaharof@stern.nyu.edu', 'akim3@stern.nyu.edu', 'jwurgler@stern.nyu.edu', 'hxue@stern.nyu.edu', 'pghemawa@stern.nyu.edu', 'iwalter@stern.nyu.edu', 'jlivnat@stern.nyu.edu', 'jkrawitz@stern.nyu.edu', 'blancast@stern.nyu.edu', 'jjacoby@stern.nyu.edu', 'plakner@stern.nyu.edu', 'skoonin@stern.nyu.edu', 'npettit@stern.nyu.edu', 'msiegel@stern.nyu.edu', 'rsalomon@stern.nyu.edu', 'pkraft@stern.nyu.edu', 'mposner@stern.nyu.edu', 'emuller@stern.nyu.edu', 'sgodeke@stern.nyu.edu', 'jowen@stern.nyu.edu', 'rkabalis@stern.nyu.edu', 'nlevina@stern.nyu.edu', 'rdeo@stern.nyu.edu', 'who@stern.nyu.edu', 'hmueller@stern.nyu.edu', 'ahohns@stern.nyu.edu', 'hgeltzer@stern.nyu.edu', 'johlson@stern.nyu.edu', 'wgreene@stern.nyu.edu', 'gbesner@stern.nyu.edu', 'cmichael@stern.nyu.edu', 'slondon@stern.nyu.edu', 'jsimonof@stern.nyu.edu', 'tmeyvis@stern.nyu.edu', 'abrown@stern.nyu.edu', 'jkruger@stern.nyu.edu', 'hsegram@stern.nyu.edu', 'scraig@stern.nyu.edu', 'rhealy@stern.nyu.edu', 'egreenle@stern.nyu.edu', 'mcherkes@stern.nyu.edu', 'ageorge@stern.nyu.edu', 'afrazzin@stern.nyu.edu', 'rhendler@stern.nyu.edu', 'lleslie@stern.nyu.edu', 'fprovost@stern.nyu.edu', 'edavila@stern.nyu.edu', 'rfreedma@stern.nyu.edu', 'osade@stern.nyu.edu', 'vdhar@stern.nyu.edu', 'terdem@stern.nyu.edu', 'rwong3@stern.nyu.edu', 'rwiner@stern.nyu.edu', 'sjones@stern.nyu.edu', 'spreston@stern.nyu.edu', 'mmitchel@stern.nyu.edu', 'pdenicol@stern.nyu.edu', 'tsargent@stern.nyu.edu', 'zshapira@stern.nyu.edu', 'egilmart@stern.nyu.edu', 'drubin@stern.nyu.edu', 'lwhite@stern.nyu.edu', 'jhenrich@stern.nyu.edu', 'jeberhar@stern.nyu.edu', 'agavazza@stern.nyu.edu', 'risrael@stern.nyu.edu', 'rbernste@stern.nyu.edu', 'mjung@stern.nyu.edu', 'gcoleman@stern.nyu.edu', 'jhasbrou@stern.nyu.edu', 'nwhite@stern.nyu.edu', 'proth@stern.nyu.edu', 'aklein@stern.nyu.edu', 'jpeck@stern.nyu.edu', 'mhodak@stern.nyu.edu', 'mpollack@stern.nyu.edu', 'mgreenwa@stern.nyu.edu', 'hgosher@stern.nyu.edu', 'jvickery@stern.nyu.edu', 'rmantena@stern.nyu.edu', 'msubrahm@stern.nyu.edu', 'slee@stern.nyu.edu', 'mrichar0@stern.nyu.edu', 'afreilic@stern.nyu.edu', 'llevi@stern.nyu.edu', 'wbaumol@stern.nyu.edu', 'asundara@stern.nyu.edu', 'mpachal@stern.nyu.edu', 'gclement@stern.nyu.edu', 'bkatz@stern.nyu.edu', 'grosenfe@stern.nyu.edu', 'rlevich@stern.nyu.edu', 'alechner@stern.nyu.edu', 'jgreen@stern.nyu.edu', 'sstehlik@stern.nyu.edu', 'jreed@stern.nyu.edu', 'mishihar@stern.nyu.edu', 'jrosenwa@stern.nyu.edu', 'smarcian@stern.nyu.edu', 'kbigel@stern.nyu.edu', 'lwilliam@stern.nyu.edu', 'ytrope@stern.nyu.edu', 'rwhitela@stern.nyu.edu', 'jcaldero@stern.nyu.edu', 'rengle@stern.nyu.edu', 'mstatler@stern.nyu.edu', 'pryan@stern.nyu.edu', 'lzicklin@stern.nyu.edu', 'rberenbe@stern.nyu.edu', 'bwiesenf@stern.nyu.edu', 'mbrennan@stern.nyu.edu', 'mgoodman@stern.nyu.edu', 'peter.henry@stern.nyu.edu', 'mwaugh@stern.nyu.edu', 'alizzeri@stern.nyu.edu', 'ndiamant@stern.nyu.edu', 'tbaldeni@stern.nyu.edu', 'sbrown@stern.nyu.edu', 'vsrivats@stern.nyu.edu', 'hfrydman@stern.nyu.edu', 'bbechky@stern.nyu.edu', 'ltatum@stern.nyu.edu', 'jzhou@stern.nyu.edu', 'tkuchler@stern.nyu.edu', 'jmagee@stern.nyu.edu', 'pzarowin@stern.nyu.edu', 'atuzhili@stern.nyu.edu', 'amaindir@stern.nyu.edu', 'sryan@stern.nyu.edu', 'jferrara@stern.nyu.edu', 'dchugh@stern.nyu.edu', 'szin@stern.nyu.edu', 'sdoroban@stern.nyu.edu', 'wxiao@stern.nyu.edu', 'kkawai@stern.nyu.edu', 'lcallana@stern.nyu.edu', 'amachfoe@stern.nyu.edu', 'bbolling@stern.nyu.edu', 'aspence@stern.nyu.edu', 'xchen3@stern.nyu.edu', 'eboyle@stern.nyu.edu', 'pnewman@stern.nyu.edu', 'esteinbe@stern.nyu.edu', 'rburns@stern.nyu.edu', 'mtang@stern.nyu.edu', 'yuval@stern.nyu.edu', 'khui@stern.nyu.edu', 'jedis@stern.nyu.edu', 'lwalker@stern.nyu.edu', 'dpoltrac@stern.nyu.edu', 'xgabaix@stern.nyu.edu', 'rgomory@stern.nyu.edu', 'jfoudy@stern.nyu.edu', 'rlevine@stern.nyu.edu', 'cneilson@stern.nyu.edu', 'eghysels@stern.nyu.edu', 'deanmenon@stern.nyu.edu', 'rsmith@stern.nyu.edu', 'epolman@stern.nyu.edu', 'dellner@stern.nyu.edu', 'ydou@stern.nyu.edu', 'dyermack@stern.nyu.edu', 'agiloni@stern.nyu.edu', 'vsingh@stern.nyu.edu', 'rgordon@stern.nyu.edu', 'cmurphy@stern.nyu.edu', 'adam.brandenburger@stern.nyu.edu', 'mgruber@stern.nyu.edu', 'jhaidt@stern.nyu.edu', 'sfiglews@stern.nyu.edu', 'estacey@stern.nyu.edu', 'kbalacha@stern.nyu.edu', 'cgartenb@stern.nyu.edu', 'mwells@stern.nyu.edu', 'ashirako@stern.nyu.edu', 'emax@stern.nyu.edu', 'mjabban@stern.nyu.edu', 'yamihud@stern.nyu.edu', 'abonezzi@stern.nyu.edu', 'mschilli@stern.nyu.edu', 'neconomi@stern.nyu.edu', 'marmony@stern.nyu.edu', 'wsilber@stern.nyu.edu', 'jbergenf@stern.nyu.edu', 'rshachar@stern.nyu.edu', 'jkickul@stern.nyu.edu', 'kbrenner@stern.nyu.edu', 'dpurdy@stern.nyu.edu', 'fgormley@stern.nyu.edu', 'dlennard@stern.nyu.edu', 'awolff@stern.nyu.edu', 'mbrenner@stern.nyu.edu', 'fferri@stern.nyu.edu', 'ahizmo@stern.nyu.edu', 'yshen@stern.nyu.edu', 'hlassaf@stern.nyu.edu', 'amarcian@stern.nyu.edu', 'schnabl@stern.nyu.edu', 'hassael@stern.nyu.edu', 'tsmith@stern.nyu.edu', 'msciandr@stern.nyu.edu'])\n"
       ]
      }
     ],
     "prompt_number": 50
    },
    {
     "cell_type": "code",
     "collapsed": false,
     "input": [],
     "language": "python",
     "metadata": {},
     "outputs": []
    }
   ],
   "metadata": {}
  }
 ]
}