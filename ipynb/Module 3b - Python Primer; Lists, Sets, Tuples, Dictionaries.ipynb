{
 "metadata": {
  "name": "",
  "signature": "sha256:64e1273abff359bb215f02cc787a537c55f813ce62ce35fed359f84e1a587b97"
 },
 "nbformat": 3,
 "nbformat_minor": 0,
 "worksheets": [
  {
   "cells": [
    {
     "cell_type": "markdown",
     "metadata": {},
     "source": [
      "Data Structures\n",
      "---------------\n",
      "\n",
      "We have covered in detail much of the basics of python's primitive data types. Its now useful to consider how these basic types can be collected in ways that are meaningful and useful for a variety of tasks. Data structures are a fundamental component of programming, a collection of elements of data that adhere to certain properties, depending on the type. In these notes, we'll present three basic data structures, the list, the set, and the dictionary. Python data structures are very rich, and beyond the scope of this simple primer. Please see [the documentation](http://docs.python.org/2/tutorial/datastructures.html) for a more complete view.\n",
      "\n",
      "###List:\n",
      "A list, sometimes called and array or a vector is an ordered collection of values. The value of a particular element in a list is retrieved by querying for a specific index into an array. Lists allow duplicate values, but but indicies are unique. In python, like most programming languages, list indices start at 0, that is, to get the first element in a list, request the element at index 0. Lists provide very fast access to elements at specific positions, but are inefficient at \"membership queries,\" determining if an element is in the array. \n",
      "\n",
      "In python, lists are specified by square brackets, `[ ]`, containing zero or more values, separated by commas. Lists are the most common data structure, and are often generated as a result of other functions, for instance:\n",
      "\n",
      "`a_string.split(\" \")`\n",
      "\n",
      "will take a string, split it on space, and then return a list of the smaller substrings.\n",
      "\n",
      "To query a specific value from a list, pass in the requested index into square brackets following the name of the list. Negative indices can be used to traverse the list from the right. (Remember the case with strings and accessing the individual characters? It is exactly the same. In fact, strings are treated in Python as lists of characters.)"
     ]
    },
    {
     "cell_type": "code",
     "collapsed": false,
     "input": [
      "myvar = \"Hello cruel world. How are you?\"\n",
      "print myvar.split(\" \")"
     ],
     "language": "python",
     "metadata": {},
     "outputs": [
      {
       "output_type": "stream",
       "stream": "stdout",
       "text": [
        "['Hello', 'cruel', 'world.', 'How', 'are', 'you?']\n"
       ]
      }
     ],
     "prompt_number": 1
    },
    {
     "cell_type": "code",
     "collapsed": false,
     "input": [
      "a_list = [1, 2, 3, 0, 5, 10, 11]\n",
      "print a_list"
     ],
     "language": "python",
     "metadata": {},
     "outputs": [
      {
       "output_type": "stream",
       "stream": "stdout",
       "text": [
        "[1, 2, 3, 0, 5, 10, 11]\n"
       ]
      }
     ],
     "prompt_number": 3
    },
    {
     "cell_type": "code",
     "collapsed": false,
     "input": [
      "\n",
      "empty_list = []\n",
      "mixed_list = [1, \"a\"]"
     ],
     "language": "python",
     "metadata": {},
     "outputs": [],
     "prompt_number": 4
    },
    {
     "cell_type": "code",
     "collapsed": false,
     "input": [
      "another_list = [\"a\", \"b\", \"c\"]\n",
      "print another_list[1]"
     ],
     "language": "python",
     "metadata": {},
     "outputs": [
      {
       "output_type": "stream",
       "stream": "stdout",
       "text": [
        "b\n"
       ]
      }
     ],
     "prompt_number": 2
    },
    {
     "cell_type": "code",
     "collapsed": false,
     "input": [
      "a_list = [1, 2, 3, 0, 5, 10, 11]\n",
      "print a_list[-1] # indexing from the right\n",
      "print a_list[2:]\n",
      "print a_list[-2:]"
     ],
     "language": "python",
     "metadata": {},
     "outputs": [
      {
       "output_type": "stream",
       "stream": "stdout",
       "text": [
        "11\n",
        "[3, 0, 5, 10, 11]\n",
        "[10, 11]\n"
       ]
      }
     ],
     "prompt_number": 7
    },
    {
     "cell_type": "markdown",
     "metadata": {},
     "source": [
      "Some common functionality of lists:\n",
      "\n",
      "+ `list.append(x)`: add an element ot the end of a list\n",
      "+ `list_1.extend(list_2)`: add all elements in the second list to the end of the first list\n",
      "+ `list.insert(index, x)`: insert element x into the list at the specified index. Elements to the right of this index are shifted over\n",
      "+ `list.pop(index)`: remove the element at the specified position\n",
      "+ `list.index(x)`: looks through the list to find the specified element, returning it's position if it's found, else throws an error\n",
      "+ `list.count(x)`: counts the number of occurrences of the input element\n",
      "+ `list.sort()`: sorts the list of items\n",
      "+ `list.reverse()`: reverses the order of the list\n",
      "+ `len(list)`: returns the number of elements in the list"
     ]
    },
    {
     "cell_type": "code",
     "collapsed": false,
     "input": [
      "a_list = [1, 2, 3, 0, 5, 10, 11]\n",
      "b_list = []\n",
      "\n",
      "a_list.append(-5)\n",
      "\n",
      "print a_list\n",
      "\n",
      "b_list.extend(a_list)\n",
      "b_list.extend(a_list)\n",
      "b_list.extend(a_list)\n",
      "print b_list"
     ],
     "language": "python",
     "metadata": {},
     "outputs": [
      {
       "output_type": "stream",
       "stream": "stdout",
       "text": [
        "[1, 2, 3, 0, 5, 10, 11, -5]\n",
        "[1, 2, 3, 0, 5, 10, 11, -5, 1, 2, 3, 0, 5, 10, 11, -5, 1, 2, 3, 0, 5, 10, 11, -5]\n"
       ]
      }
     ],
     "prompt_number": 15
    },
    {
     "cell_type": "markdown",
     "metadata": {},
     "source": [
      "#### Exercise\n",
      "\n",
      "* Add the letter \"d\" in `another_list` and print the result\n",
      "* Add the letter \"c\" in `another_list` and print the result\n",
      "* If you search for \"c\" in `another_list` using the list.index(x) command, what is the result?\n",
      "* Sort `another_list` and print the result\n",
      "* Use the `split()` operation for strings (that we learned before) and count the number of words in the sentence \"Python is the word. And on and on and on and on...\" "
     ]
    },
    {
     "cell_type": "code",
     "collapsed": false,
     "input": [
      "mystr = \"Python is the word. And on and on and on and on...\"\n",
      "\n",
      "print len(mystr)\n",
      "\n",
      "print len(mystr.split(\" \"))"
     ],
     "language": "python",
     "metadata": {},
     "outputs": [
      {
       "output_type": "stream",
       "stream": "stdout",
       "text": [
        "50\n",
        "12\n"
       ]
      }
     ],
     "prompt_number": 27
    },
    {
     "cell_type": "markdown",
     "metadata": {},
     "source": [
      "###Set:\n",
      "\n",
      "A set is a data structure where all elements are unique. Sets are unordered. In fact, the order of the elements observed when printing a set might change at different points during a programs execution, depending on the state of python's internal representation of the set. Sets are ideal for membership queries, for instance, is a user amongst those users who have received a promotion? \n",
      "\n",
      "Sets are specified by curly braces, `{ }`, containing one or more comma separated values. To specify an empty list, you can use the alternative construct, `set()`."
     ]
    },
    {
     "cell_type": "code",
     "collapsed": false,
     "input": [
      "some_set = {1, 2, 3, 4}\n",
      "another_set = {4, 5, 6}\n",
      "empty_set = set()"
     ],
     "language": "python",
     "metadata": {},
     "outputs": [
      {
       "output_type": "stream",
       "stream": "stdout",
       "text": [
        "set([1, 2, 3, 4])\n"
       ]
      }
     ],
     "prompt_number": 33
    },
    {
     "cell_type": "markdown",
     "metadata": {},
     "source": [
      "We can also create a set from a list:"
     ]
    },
    {
     "cell_type": "code",
     "collapsed": false,
     "input": [
      "my_list = [1, 2, 3, 0, 5, 10, 11, 1, 5]\n",
      "your_list = [1, 2, 3, 0, 12, 13]\n",
      "my_set = set(my_list)\n",
      "your_set = set(your_list)\n",
      "print my_set\n",
      "print len(my_set)\n",
      "print len(my_list)"
     ],
     "language": "python",
     "metadata": {},
     "outputs": [
      {
       "output_type": "stream",
       "stream": "stdout",
       "text": [
        "set([0, 1, 2, 3, 5, 10, 11])\n",
        "7\n",
        "9\n"
       ]
      }
     ],
     "prompt_number": 35
    },
    {
     "cell_type": "markdown",
     "metadata": {},
     "source": [
      "The easiest way to check for membership in a set is to use the `in` keyword, checking if a needle is \"`in`\" the set."
     ]
    },
    {
     "cell_type": "code",
     "collapsed": false,
     "input": [
      "some_set = {1, 2, 3, 4}\n",
      "print \"The value 1 appears in the variable some_set:\", 1 in some_set\n",
      "print \"The value 0 appears in the variable some_set:\", 0 in some_set"
     ],
     "language": "python",
     "metadata": {},
     "outputs": [
      {
       "output_type": "stream",
       "stream": "stdout",
       "text": [
        "The value 1 appears in the variable some_set: True\n",
        "The value 0 appears in the variable some_set: False\n"
       ]
      }
     ],
     "prompt_number": 36
    },
    {
     "cell_type": "markdown",
     "metadata": {},
     "source": [
      "We also have the \"`not in`\" operator"
     ]
    },
    {
     "cell_type": "code",
     "collapsed": false,
     "input": [
      "val = 5\n",
      "print \"Value %d does not appear in some_set:\" % val, (val not in some_set)\n",
      "val = 1\n",
      "print \"Value %d does not appear in some_set:\" % val, (val not in some_set)\n"
     ],
     "language": "python",
     "metadata": {},
     "outputs": [
      {
       "output_type": "stream",
       "stream": "stdout",
       "text": [
        "Value 5 does not appear in some_set: True\n",
        "Value 1 does not appear in some_set: False\n"
       ]
      }
     ],
     "prompt_number": 37
    },
    {
     "cell_type": "markdown",
     "metadata": {},
     "source": [
      "Some other common set functionality:\n",
      "\n",
      "+ `set_a.add(x)`: add an element to a set\n",
      "+ `set_a.remove(x)`: remove an element from a set\n",
      "+ `set_a - set_b`: elements in a but not in b. Equivalent to `set_a.difference(set_b)`\n",
      "+ `set_a | set_b`: elements in a or b. Equivalent to `set_a.union(set_b)`\n",
      "+ `set_a & set_b`: elements in both a and b. Equivalent to `set_a.intersection(set_b)`\n",
      "+ `set_a ^ set_b`: elements in a or b but not both. Equivalent to `set_a.symmetric_difference(set_b)` \n",
      "+ `set_a <= set_b`:\ttests whether every element in set_a is in set_b. Equivalent to `set_a.issubset(set_b)`\n"
     ]
    },
    {
     "cell_type": "markdown",
     "metadata": {},
     "source": [
      "#### Exercise\n",
      "\n",
      "Try the above yourself using the `some_set` and `another_set` variables from above"
     ]
    },
    {
     "cell_type": "code",
     "collapsed": false,
     "input": [
      "# your code here"
     ],
     "language": "python",
     "metadata": {},
     "outputs": []
    },
    {
     "cell_type": "markdown",
     "metadata": {},
     "source": [
      "### Tuples:\n",
      "\n",
      "A tuple consists of a number of values separated by commas, for instance:"
     ]
    },
    {
     "cell_type": "code",
     "collapsed": false,
     "input": [
      "t = (12345, 54321, 'hello!')\n",
      "print t"
     ],
     "language": "python",
     "metadata": {},
     "outputs": [
      {
       "output_type": "stream",
       "stream": "stdout",
       "text": [
        "(12345, 54321, 'hello!')\n"
       ]
      }
     ],
     "prompt_number": 38
    },
    {
     "cell_type": "code",
     "collapsed": false,
     "input": [
      "print t[2]"
     ],
     "language": "python",
     "metadata": {},
     "outputs": [
      {
       "output_type": "stream",
       "stream": "stdout",
       "text": [
        "hello!\n"
       ]
      }
     ],
     "prompt_number": 40
    },
    {
     "cell_type": "code",
     "collapsed": false,
     "input": [
      "print \"Two elements. The first one: %s and the second one %s:\" % (\"NYU\", \"stern\")"
     ],
     "language": "python",
     "metadata": {},
     "outputs": [
      {
       "output_type": "stream",
       "stream": "stdout",
       "text": [
        "Two elements. The first one: NYU and the second one stern:\n"
       ]
      }
     ],
     "prompt_number": 41
    },
    {
     "cell_type": "markdown",
     "metadata": {},
     "source": [
      "Let's rewrite the Fibonacci script from above using tuples, to avoid the temporary variable t:"
     ]
    },
    {
     "cell_type": "code",
     "collapsed": false,
     "input": [
      "# Fibonacci series:\n",
      "# the sum of two elements defines the next\n",
      "a = 0\n",
      "b = 1\n",
      "while b < 20: \n",
      "    print b\n",
      "    t = a # temporary variable\n",
      "    a = b\n",
      "    b = t+b"
     ],
     "language": "python",
     "metadata": {},
     "outputs": []
    },
    {
     "cell_type": "code",
     "collapsed": false,
     "input": [
      "# Fibonacci series:\n",
      "# the sum of two elements defines the next\n",
      "a = 0\n",
      "b = 1\n",
      "while b < 20:\n",
      "    print b\n",
      "    (a, b) = (b, a+b)"
     ],
     "language": "python",
     "metadata": {},
     "outputs": []
    },
    {
     "cell_type": "markdown",
     "metadata": {},
     "source": [
      "###Dictionaries:\n",
      "\n",
      "Dictionaries, sometimes called dicts, maps, or, rarely, hashes are data structures containing key-value pairs. Dictionaries have a set of unique keys and are used to retrieve the value information associated with these keys. For instance, a dictionary might be used to store for each user, that user's location, or for a product id, the description associated with that product. Lookup into a dictionary is very efficient, and because these data structures are very common, they are frequently used and encountered in practice. \n",
      "\n",
      "Dictionaries are specified by curly braces, `{ }`, containing zero or more comma separated key-value pairs, where the keys and values are separated by a colon, `:`. Like a list, values for a particular key are retrieved by passing the query key into square brackets."
     ]
    },
    {
     "cell_type": "code",
     "collapsed": false,
     "input": [
      "a_dict = {\"a\":1, \"b\":2, \"c\":3, \"c\": 4}\n",
      "print a_dict"
     ],
     "language": "python",
     "metadata": {},
     "outputs": [
      {
       "output_type": "stream",
       "stream": "stdout",
       "text": [
        "{'a': 1, 'c': 4, 'b': 2}\n"
       ]
      }
     ],
     "prompt_number": 42
    },
    {
     "cell_type": "code",
     "collapsed": false,
     "input": [
      "telize_dict = {\n",
      "\"longitude\": -73.9885,\n",
      "\"latitude\": 40.7317,\n",
      "\"asn\": \"AS12\",\n",
      "\"offset\": \"-4\",\n",
      "\"ip\": \"216.165.95.68\"}\n",
      "\n",
      "print telize_dict\n",
      "\n",
      "telize_dict[\"isp\"] = \"New York University\"\n",
      "\n",
      "print telize_dict"
     ],
     "language": "python",
     "metadata": {},
     "outputs": [
      {
       "output_type": "stream",
       "stream": "stdout",
       "text": [
        "{'latitude': 40.7317, 'ip': '216.165.95.68', 'asn': 'AS12', 'longitude': -73.9885, 'offset': '-4'}\n",
        "{'ip': '216.165.95.68', 'isp': 'New York University', 'longitude': -73.9885, 'offset': '-4', 'latitude': 40.7317, 'asn': 'AS12'}\n"
       ]
      }
     ],
     "prompt_number": 49
    },
    {
     "cell_type": "code",
     "collapsed": false,
     "input": [
      "a_dict = {\"a\":1, \"b\":2, \"c\":3, \"c\": 4}\n",
      "another_dict = {\"c\":5, \"d\":6}\n",
      "print a_dict[\"c\"]"
     ],
     "language": "python",
     "metadata": {},
     "outputs": [
      {
       "output_type": "stream",
       "stream": "stdout",
       "text": [
        "4\n"
       ]
      }
     ],
     "prompt_number": 51
    },
    {
     "cell_type": "code",
     "collapsed": false,
     "input": [
      "a_dict = {\"a\":\"e\", \"b\":2, \"c\":3, \"c\": 4}\n",
      "print \"e\" in a_dict"
     ],
     "language": "python",
     "metadata": {},
     "outputs": [
      {
       "output_type": "stream",
       "stream": "stdout",
       "text": [
        "False\n"
       ]
      }
     ],
     "prompt_number": 55
    },
    {
     "cell_type": "markdown",
     "metadata": {},
     "source": [
      "Like the set, the easiest way to check if a particular key is in a map is through the `in` keyword:"
     ]
    },
    {
     "cell_type": "code",
     "collapsed": false,
     "input": [
      "print \"b\" in another_dict"
     ],
     "language": "python",
     "metadata": {},
     "outputs": []
    },
    {
     "cell_type": "code",
     "collapsed": false,
     "input": [
      "a_dict = {\"a\":\"e\", \"b\":2, \"c\":3, \"c\": 4}\n",
      "print \"Keys:\", a_dict.keys()\n",
      "print \"Values:\", a_dict.values()"
     ],
     "language": "python",
     "metadata": {},
     "outputs": [
      {
       "output_type": "stream",
       "stream": "stdout",
       "text": [
        "Keys: ['a', 'c', 'b']\n",
        "Values: ['e', 4, 2]\n"
       ]
      }
     ],
     "prompt_number": 60
    },
    {
     "cell_type": "markdown",
     "metadata": {},
     "source": [
      "Some common operations on dictionaries:\n",
      "\n",
      "+ `dict.keys()`: returns a list containing the keys of a dictionary\n",
      "+ `dict.values()`: returns a list containing the values in a dictionary\n",
      "+ `dict.pop(x)`: removes the key and its associated value from the dictionary"
     ]
    },
    {
     "cell_type": "markdown",
     "metadata": {},
     "source": [
      "#### Exercise\n",
      "\n",
      "* Find the common keys in `a_dict` and `another_dict`\n",
      "* Find the common values in `a_dict` and `another_dict` \n"
     ]
    },
    {
     "cell_type": "code",
     "collapsed": false,
     "input": [
      "# your code here\n",
      "a_dict = {\"a\":\"e\", \"b\":2, \"c\":3, \"c\": 4}\n",
      "another_dict = {\"c\":5, \"d\":6}\n",
      "\n",
      "a_keys = set(a_dict.keys())\n",
      "b_keys = set(another_dict.keys())\n",
      "\n",
      "print \"Keys in a_dict:\", a_keys\n",
      "print \"Keys in another_dict:\", b_keys\n",
      "\n",
      "print \"Common keys:\", a_keys & b_keys\n",
      "print \"All keys:\", a_keys | b_keys"
     ],
     "language": "python",
     "metadata": {},
     "outputs": [
      {
       "output_type": "stream",
       "stream": "stdout",
       "text": [
        "Keys in a_dict: set(['a', 'c', 'b'])\n",
        "Keys in another_dict: set(['c', 'd'])\n",
        "Common keys: set(['c'])\n",
        "All keys: set(['a', 'c', 'b', 'd'])\n"
       ]
      }
     ],
     "prompt_number": 65
    },
    {
     "cell_type": "markdown",
     "metadata": {},
     "source": [
      "###Combining (Nesting) Data Structures:\n",
      "\n",
      "There are many opportunities to combine data types in python. Lists can be populated by arbitrary data structures. Similarly, you can use any type as the value in a dictionary. However, the elements of sets, and the keys of dictionaries need to have some special properties that allow the mechanics of the data structure to determine how to store the element.\n",
      "\n",
      "Aside: to use a particular element in a set or as a key in a dictionary, it must define a [hash function](http://en.wikipedia.org/wiki/Hash_function), `__hash__`. In a nutshell, a hash function maps a data element to a number in a predefined range, based on the characteristics of that element. Because the contents of a data structure might change, so too would the value of their associated `__hash__` function, causing problems for the algorithms powering sets and dictionaries."
     ]
    },
    {
     "cell_type": "code",
     "collapsed": false,
     "input": [],
     "language": "python",
     "metadata": {},
     "outputs": [
      {
       "output_type": "stream",
       "stream": "stdout",
       "text": [
        "lists of lists\n",
        "2\n"
       ]
      }
     ],
     "prompt_number": 68
    },
    {
     "cell_type": "code",
     "collapsed": false,
     "input": [
      "print \"lists of lists\"\n",
      "lol = [[1, 2, 3], [4, 5, 6, 7]]\n",
      "lol_2 = [[4, 5, 6], [7, 8, 9]]\n",
      "print \"lists of lists of lists\"\n",
      "lolol = [lol, lol_2]\n",
      "print \"Lolol:\", lolol\n",
      "\n",
      "print \"retrieving data from this data structure\"\n",
      "print \"Lolol[0]:\",lolol[0]\n",
      "print \"Lolol[0][0]:\",lolol[0][0]\n",
      "print \"Lolol[0][0][0]:\",lolol[0][0][0]"
     ],
     "language": "python",
     "metadata": {},
     "outputs": [
      {
       "output_type": "stream",
       "stream": "stdout",
       "text": [
        "lists of lists\n",
        "lists of lists of lists\n",
        "Lolol: [[[1, 2, 3], [4, 5, 6, 7]], [[4, 5, 6], [7, 8, 9]]]\n",
        "retrieving data from this data structure\n",
        "Lolol[0]: [[1, 2, 3], [4, 5, 6, 7]]\n",
        "Lolol[0][0]: [1, 2, 3]\n",
        "Lolol[0][0][0]: 1\n"
       ]
      }
     ],
     "prompt_number": 71
    },
    {
     "cell_type": "code",
     "collapsed": false,
     "input": [
      "print \"data structures as values in a dictionary\"\n",
      "dlol = {\"lol\":lol, \"lol_2\":lol_2}\n",
      "print dlol"
     ],
     "language": "python",
     "metadata": {},
     "outputs": [
      {
       "output_type": "stream",
       "stream": "stdout",
       "text": [
        "data structures as values in a dictionary\n",
        "{'lol': [[1, 2, 3], [4, 5, 6, 7]], 'lol_2': [[4, 5, 6], [7, 8, 9]]}\n"
       ]
      }
     ],
     "prompt_number": 72
    },
    {
     "cell_type": "code",
     "collapsed": false,
     "input": [
      "# Access the list [4, 5, 6, 7] in the \"lol\" key\n",
      "print \"Accessing the list of lists named lol:\", dlol[\"lol\"]\n",
      "print \"Accessing the second element :\", dlol[\"lol\"][1]"
     ],
     "language": "python",
     "metadata": {},
     "outputs": [
      {
       "output_type": "stream",
       "stream": "stdout",
       "text": [
        "Accessing the list of lists named lol: [[1, 2, 3], [4, 5, 6, 7]]\n",
        "Accessing the second element : [4, 5, 6, 7]\n"
       ]
      }
     ],
     "prompt_number": 75
    },
    {
     "cell_type": "code",
     "collapsed": false,
     "input": [
      "print \"retrieving data from this dictionary\"\n",
      "print dlol[\"lol\"]\n",
      "print dlol[\"lol\"][0]\n",
      "print dlol[\"lol\"][0][0]"
     ],
     "language": "python",
     "metadata": {},
     "outputs": [
      {
       "output_type": "stream",
       "stream": "stdout",
       "text": [
        "retrieving data from this dictionary\n",
        "[[1, 2, 3], [4, 5, 6, 7]]\n",
        "[1, 2, 3]\n",
        "1\n"
       ]
      }
     ],
     "prompt_number": 9
    },
    {
     "cell_type": "markdown",
     "metadata": {},
     "source": [
      "#### Exercise\n",
      "\n",
      "You are given the following data structure.\n",
      "\n",
      "`data = {\n",
      "    \"Panos\": {\n",
      "        \"Job\":\"Professor\", \n",
      "        \"YOB\": \"1976\", \n",
      "        \"Children\": [\"Gregory\", \"Anna\"]\n",
      "        }, \n",
      "    \"Joe\": {\n",
      "        \"Job\":\"Data Scientist\", \n",
      "        \"YOB\": \"1981\"}\n",
      "        }\n",
      "    }`\n",
      "\n",
      "You need to write code that\n",
      "\n",
      "* Prints the job of Joe\n",
      "* Prints the year of birth of Panos\n",
      "* Prints the children of Panos\n",
      "* Prints the second child of Panos\n",
      "* Prints the number of people entries in the data\n",
      "* Checks if Maria is in the data\n",
      "* Checks if Panos has children\n",
      "* Checks if Joe has children"
     ]
    },
    {
     "cell_type": "code",
     "collapsed": false,
     "input": [
      "# your code here\n",
      "data = {\"Panos\": {\"Job\":\"Professor\", \"YOB\": \"1976\", \"Children\": [\"Gregory\", \"Anna\"]}, \"Joe\": {\"Job\":\"Data Scientist\", \"YOB\": \"1981\"}}"
     ],
     "language": "python",
     "metadata": {},
     "outputs": [],
     "prompt_number": 4
    },
    {
     "cell_type": "code",
     "collapsed": false,
     "input": [
      "#Prints the job of Joe\n",
      "print data[\"Joe\"][\"Job\"]"
     ],
     "language": "python",
     "metadata": {},
     "outputs": [
      {
       "output_type": "stream",
       "stream": "stdout",
       "text": [
        "Data Scientist\n"
       ]
      }
     ],
     "prompt_number": 6
    },
    {
     "cell_type": "code",
     "collapsed": false,
     "input": [
      "#Prints the year of birth of Panos\n",
      "print data[\"Panos\"][\"YOB\"]"
     ],
     "language": "python",
     "metadata": {},
     "outputs": [
      {
       "output_type": "stream",
       "stream": "stdout",
       "text": [
        "1976\n"
       ]
      }
     ],
     "prompt_number": 83
    },
    {
     "cell_type": "code",
     "collapsed": false,
     "input": [
      "#Prints the number of people entries in the data\n",
      "print len(data[\"Panos\"])"
     ],
     "language": "python",
     "metadata": {},
     "outputs": [
      {
       "ename": "NameError",
       "evalue": "name 'data' is not defined",
       "output_type": "pyerr",
       "traceback": [
        "\u001b[1;31m---------------------------------------------------------------------------\u001b[0m\n\u001b[1;31mNameError\u001b[0m                                 Traceback (most recent call last)",
        "\u001b[1;32m<ipython-input-10-153ed80a9067>\u001b[0m in \u001b[0;36m<module>\u001b[1;34m()\u001b[0m\n\u001b[0;32m      1\u001b[0m \u001b[1;31m#Prints the number of people entries in the data\u001b[0m\u001b[1;33m\u001b[0m\u001b[1;33m\u001b[0m\u001b[0m\n\u001b[1;32m----> 2\u001b[1;33m \u001b[1;32mprint\u001b[0m \u001b[0mlen\u001b[0m\u001b[1;33m(\u001b[0m\u001b[0mdata\u001b[0m\u001b[1;33m[\u001b[0m\u001b[1;34m\"Panos\"\u001b[0m\u001b[1;33m]\u001b[0m\u001b[1;33m)\u001b[0m\u001b[1;33m\u001b[0m\u001b[0m\n\u001b[0m",
        "\u001b[1;31mNameError\u001b[0m: name 'data' is not defined"
       ]
      }
     ],
     "prompt_number": 10
    },
    {
     "cell_type": "code",
     "collapsed": false,
     "input": [
      "#Checks if Maria is in the data\n",
      "print \"Maria\" in data"
     ],
     "language": "python",
     "metadata": {},
     "outputs": [
      {
       "output_type": "stream",
       "stream": "stdout",
       "text": [
        "False\n"
       ]
      }
     ],
     "prompt_number": 89
    },
    {
     "cell_type": "code",
     "collapsed": false,
     "input": [
      "print \"Children\" in data[\"Joe\"] # checks if key Children appears in Joe data"
     ],
     "language": "python",
     "metadata": {},
     "outputs": [
      {
       "output_type": "stream",
       "stream": "stdout",
       "text": [
        "False\n"
       ]
      }
     ],
     "prompt_number": 92
    },
    {
     "cell_type": "code",
     "collapsed": false,
     "input": [
      "# your code here\n",
      "data = {\"Panos\": {\"Job\":\"Professor\", \"YOB\": \"1976\", \"Children\": [\"Gregory\", \"Anna\"]}, \"Joe\": {\"Job\":\"Data Scientist\", \"YOB\": \"1981\", \"Children\": []}}"
     ],
     "language": "python",
     "metadata": {},
     "outputs": [],
     "prompt_number": 93
    },
    {
     "cell_type": "code",
     "collapsed": false,
     "input": [
      "print \"Children\" in data[\"Joe\"] # checks if key Children appears in Joe data"
     ],
     "language": "python",
     "metadata": {},
     "outputs": [
      {
       "output_type": "stream",
       "stream": "stdout",
       "text": [
        "True\n"
       ]
      }
     ],
     "prompt_number": 94
    },
    {
     "cell_type": "code",
     "collapsed": false,
     "input": [
      "# your code here\n",
      "data = {\"Panos\": {\"Job\":\"Professor\", \"YOB\": \"1976\", \"Children\": [\"Gregory\", \"Anna\"]}, \"Joe\": {\"Job\":\"Data Scientist\", \"YOB\": \"1981\", \"Children\": []}}\n",
      "\n",
      "print \"Children\" in data[\"Joe\"] and len(data[\"Joe\"][\"Children\"])>0 # checks if key Children appears in Joe data"
     ],
     "language": "python",
     "metadata": {},
     "outputs": [
      {
       "output_type": "stream",
       "stream": "stdout",
       "text": [
        "False\n"
       ]
      }
     ],
     "prompt_number": 96
    },
    {
     "cell_type": "code",
     "collapsed": false,
     "input": [
      "# your code here\n",
      "data = {\"Panos\": {\"Job\":\"Professor\", \"YOB\": \"1976\", \"Children\": [\"Gregory\", \"Anna\"]}, \"Joe\": {\"Job\":\"Data Scientist\", \"YOB\": \"1981\"}}\n",
      "\n",
      "print \"Children\" in data[\"Joe\"] and len(data[\"Joe\"][\"Children\"])>0 # checks if key Children appears in Joe data"
     ],
     "language": "python",
     "metadata": {},
     "outputs": [
      {
       "output_type": "stream",
       "stream": "stdout",
       "text": [
        "False\n"
       ]
      }
     ],
     "prompt_number": 97
    },
    {
     "cell_type": "code",
     "collapsed": false,
     "input": [],
     "language": "python",
     "metadata": {},
     "outputs": []
    }
   ],
   "metadata": {}
  }
 ]
}