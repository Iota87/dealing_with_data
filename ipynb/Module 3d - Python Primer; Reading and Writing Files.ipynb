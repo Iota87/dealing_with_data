{
 "metadata": {
  "name": "",
  "signature": "sha256:36052f05e8ad71289c2dc6758ef162af84c6865169cf34a76b7ca774ec08a018"
 },
 "nbformat": 3,
 "nbformat_minor": 0,
 "worksheets": [
  {
   "cells": [
    {
     "cell_type": "markdown",
     "metadata": {},
     "source": [
      "Files and Printing\n",
      "------------------\n",
      "\n",
      "You'll often be reading data from a file, or writing the output of your python scripts back into a file. Python makes this very easy. You need to open a file in the appropriate mode, using the `open` function, then you can read or write to accomplish your task. The `open` function takes two arguments, the name of the file, and the mode. The mode is a single letter string that specifies if you're going to be reading from a file, writing to a file, or appending to the end of an existing file. The function returns a file object that performs the various tasks you'll be performing: `a_file = open(filename, mode)`. The modes are:\n",
      "\n",
      "+ `'r'`: open a file for reading\n",
      "+ `'w'`: open a file for writing. Caution: this will overwrite any previously existing file\n",
      "+ `'a'`: append. Write to the end of a file. \n",
      "\n",
      "When reading, you typically want to iterate through the lines in a file using a for loop, as above. Some other common methods for dealing with files are: \n",
      "\n",
      "+ `file.read()`: read the entire contents of a file into a string\n",
      "+ `file.readline()`: read one line of a file\n",
      "+ `file.write(some_string)`: writes to the file, note this doesn't automatically include any new lines. Also note that sometimes writes are buffered- python will wait until you have several writes pending, and perform them all at once\n",
      "+ `file.flush()`: write out any buffered writes\n",
      "+ `file.close()`: close the open file. This will free up some computer resources occupied by keeping a file open.\n",
      "\n",
      "Here is an example using files:"
     ]
    },
    {
     "cell_type": "code",
     "collapsed": false,
     "input": [
      "# Create the file temp.txt, and get it ready for writing\n",
      "f = open(\"temp.txt\", \"w\")\n"
     ],
     "language": "python",
     "metadata": {},
     "outputs": [],
     "prompt_number": 1
    },
    {
     "cell_type": "code",
     "collapsed": false,
     "input": [
      "# The data that we write into the file\n",
      "list = [\"a\", \"b\", \"c\", \"d\"]\n",
      "set = {1, 2, 3, 4}\n",
      "\n",
      "# Iterate through the list/set and write some content in the file\n",
      "for x in list:\n",
      "    line = \"letter: %s\\n\" % x\n",
      "    f.write(line)\n",
      "    print line\n",
      "\n",
      "for n in set:\n",
      "    line = \"number: %d\\n\" % n\n",
      "    f.write(line)\n",
      "    print line\n",
      "    \n",
      "\n",
      "f.flush()\n",
      "f.close()"
     ],
     "language": "python",
     "metadata": {},
     "outputs": [
      {
       "output_type": "stream",
       "stream": "stdout",
       "text": [
        "letter: a\n",
        "\n",
        "letter: b\n",
        "\n",
        "letter: c\n",
        "\n",
        "letter: d\n",
        "\n",
        "number: 1\n",
        "\n",
        "number: 2\n",
        "\n",
        "number: 3\n",
        "\n",
        "number: 4\n",
        "\n"
       ]
      }
     ],
     "prompt_number": 2
    },
    {
     "cell_type": "code",
     "collapsed": false,
     "input": [
      "!cat temp.txt"
     ],
     "language": "python",
     "metadata": {},
     "outputs": [
      {
       "output_type": "stream",
       "stream": "stdout",
       "text": [
        "letter: a\r\n",
        "letter: b\r\n",
        "letter: c\r\n",
        "letter: d\r\n",
        "number: 1\r\n",
        "number: 2\r\n",
        "number: 3\r\n",
        "number: 4\r\n"
       ]
      }
     ],
     "prompt_number": 3
    },
    {
     "cell_type": "code",
     "collapsed": false,
     "input": [
      "# We now open the file for reading\n",
      "f2 = open(\"temp.txt\", \"r\")\n",
      "\n",
      "# We iterate now through the lines in the opened file\n",
      "for line in f2:\n",
      "    print line # note that this doesn't strip off the newlines\n",
      "f2.close()"
     ],
     "language": "python",
     "metadata": {},
     "outputs": [
      {
       "output_type": "stream",
       "stream": "stdout",
       "text": [
        "letter: a\n",
        "\n",
        "letter: b\n",
        "\n",
        "letter: c\n",
        "\n",
        "letter: d\n",
        "\n",
        "number: 1\n",
        "\n",
        "number: 2\n",
        "\n",
        "number: 3\n",
        "\n",
        "number: 4\n",
        "\n"
       ]
      }
     ],
     "prompt_number": 8
    },
    {
     "cell_type": "code",
     "collapsed": false,
     "input": [
      "# We now open the file for reading\n",
      "f3 = open(\"temp.txt\", \"r\")\n",
      "\n",
      "# And we read the full content of the file in memory, as a big string\n",
      "content = f3.read()\n",
      "\n",
      "print content\n",
      "\n",
      "f3.close()"
     ],
     "language": "python",
     "metadata": {},
     "outputs": [
      {
       "output_type": "stream",
       "stream": "stdout",
       "text": [
        "letter: a\n",
        "letter: b\n",
        "letter: c\n",
        "letter: d\n",
        "number: 1\n",
        "number: 2\n",
        "number: 3\n",
        "number: 4\n",
        "\n"
       ]
      }
     ],
     "prompt_number": 5
    },
    {
     "cell_type": "code",
     "collapsed": false,
     "input": [
      "# Again we read the file, but this time we will only print out lines\n",
      "# that meet a specific condition (ie. contain a \"t\" character)\n",
      "file_4 = open(\"temp.txt\", \"r\")\n",
      "for line in file_4:\n",
      "    if line.count(\"t\") > 0:\n",
      "        continue\n",
      "    print line.strip() # remove the extra newline.\n",
      "file_4.close()"
     ],
     "language": "python",
     "metadata": {},
     "outputs": [
      {
       "output_type": "stream",
       "stream": "stdout",
       "text": [
        "number: 1\n",
        "number: 2\n",
        "number: 3\n",
        "number: 4\n"
       ]
      }
     ],
     "prompt_number": 9
    },
    {
     "cell_type": "code",
     "collapsed": false,
     "input": [
      "!cat temp.txt"
     ],
     "language": "python",
     "metadata": {},
     "outputs": []
    },
    {
     "cell_type": "markdown",
     "metadata": {},
     "source": [
      "#### Exercise\n",
      "\n",
      "The command below will create a file called phonetest.xt"
     ]
    },
    {
     "cell_type": "code",
     "collapsed": false,
     "input": [
      "%%file phonetest.txt\n",
      "679-397-5255\n",
      "2126660921\n",
      "212-998-0902\n",
      "888-888-2222\n",
      "800-555-1211\n",
      "800 555 1212\n",
      "800.555.1213\n",
      "(800) 555-1214\n",
      "1-800-555-1215\n",
      "1(800)555-1216\n",
      "800-555-1212-1234\n",
      "800-555-1212x1234\n",
      "800-555-1212 ext. 1234\n",
      "work 1-(800) 555.1212 #1234"
     ],
     "language": "python",
     "metadata": {},
     "outputs": [
      {
       "output_type": "stream",
       "stream": "stdout",
       "text": [
        "Writing phonetest.txt\n"
       ]
      }
     ],
     "prompt_number": 10
    },
    {
     "cell_type": "markdown",
     "metadata": {},
     "source": [
      "Write code that will read the file and print its contents on the output"
     ]
    },
    {
     "cell_type": "code",
     "collapsed": false,
     "input": [
      "# your code here\n",
      "f = open(\"phonetest.txt\", \"r\")\n",
      "\n",
      "phones = f.read()\n",
      "\n",
      "print phones\n",
      "\n",
      "f.close()"
     ],
     "language": "python",
     "metadata": {},
     "outputs": [
      {
       "output_type": "stream",
       "stream": "stdout",
       "text": [
        "679-397-5255\n",
        "2126660921\n",
        "212-998-0902\n",
        "888-888-2222\n",
        "800-555-1211\n",
        "800 555 1212\n",
        "800.555.1213\n",
        "(800) 555-1214\n",
        "1-800-555-1215\n",
        "1(800)555-1216\n",
        "800-555-1212-1234\n",
        "800-555-1212x1234\n",
        "800-555-1212 ext. 1234\n",
        "work 1-(800) 555.1212 #1234\n"
       ]
      }
     ],
     "prompt_number": 11
    },
    {
     "cell_type": "code",
     "collapsed": false,
     "input": [],
     "language": "python",
     "metadata": {},
     "outputs": []
    }
   ],
   "metadata": {}
  }
 ]
}