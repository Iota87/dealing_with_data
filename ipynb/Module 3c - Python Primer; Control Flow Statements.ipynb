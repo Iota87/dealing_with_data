{
 "metadata": {
  "name": "",
  "signature": "sha256:c5e2e417e338b6d7a593f3c196cbf35415ba21acd132ee610a0b2814d1841e17"
 },
 "nbformat": 3,
 "nbformat_minor": 0,
 "worksheets": [
  {
   "cells": [
    {
     "cell_type": "markdown",
     "metadata": {},
     "source": [
      "Control Structures\n",
      "------------------\n",
      "\n",
      "We've spent some time going into detail about some of the data types and structures available in python. It's now time to talk about how to navigate through some of this data, and use data to make decisions. Traversing over data and making decisions based upon data are a common aspect of every programming language, known as control flow. Python provides a rich control flow, with a lot of conveniences for the power users. Here, we're just going to talk about the basics, to learn more, please [consult the documentation](http://docs.python.org/2/tutorial/controlflow.html). \n",
      "\n",
      "A common theme throughout this discussion of control structures is the notion of a \"block of code.\" Blocks of code are **demarcated by a specific level of indentation**, typically separated from the surrounding code by some control structure elements, immediately preceeded by a colon, `:`. We'll see examples below. \n",
      "\n",
      "Finally, note that control structures can be nested arbitrarily, depending on the tasks you're trying to accomplish. \n",
      "\n",
      "###if Statements:\n",
      "\n",
      "If statements are perhaps the most widely used of all control structures. An if statement consists of a code block and an argument. The if statement evaluates the boolean value of it's argument, executing the code block if that argument is true. "
     ]
    },
    {
     "cell_type": "code",
     "collapsed": false,
     "input": [
      "if True:\n",
      "    print \"duh\"  "
     ],
     "language": "python",
     "metadata": {},
     "outputs": [
      {
       "output_type": "stream",
       "stream": "stdout",
       "text": [
        "duh\n"
       ]
      }
     ],
     "prompt_number": 1
    },
    {
     "cell_type": "code",
     "collapsed": false,
     "input": [
      "if 1+1 == 2:\n",
      "    print \"easy\""
     ],
     "language": "python",
     "metadata": {},
     "outputs": [
      {
       "output_type": "stream",
       "stream": "stdout",
       "text": [
        "easy\n"
       ]
      }
     ],
     "prompt_number": 2
    },
    {
     "cell_type": "code",
     "collapsed": false,
     "input": [
      "if (2+2 == 5):\n",
      "    print \"really?\"\n",
      "else:\n",
      "    print \"do you know math?\""
     ],
     "language": "python",
     "metadata": {},
     "outputs": [
      {
       "output_type": "stream",
       "stream": "stdout",
       "text": [
        "do you know math?\n"
       ]
      }
     ],
     "prompt_number": 5
    },
    {
     "cell_type": "code",
     "collapsed": false,
     "input": [
      "items = {1, 2, 3}\n",
      "if 2 in items:\n",
      "    print \"found it! I found the element 2\""
     ],
     "language": "python",
     "metadata": {},
     "outputs": [
      {
       "output_type": "stream",
       "stream": "stdout",
       "text": [
        "found it! I found the element 2\n"
       ]
      }
     ],
     "prompt_number": 4
    },
    {
     "cell_type": "markdown",
     "metadata": {},
     "source": [
      "Each argument in the above if statements is a boolean expression. Often you want to have alternatives, blocks of code that get evaluated in the event that the argument to an if statement is false. This is where elif (else if) and else come in. \n",
      "\n",
      "An elif is evaluated if all preceeding if or elif arguments have evaluted to false. The else statement is the last resort, assigning the code that gets exectued if no if or elif above it is true. These statements are optional, and can be added to an if statement in any order, with at most one code block being evaluated. An else will always have it's code be exectued, if nothing above it is true."
     ]
    },
    {
     "cell_type": "code",
     "collapsed": false,
     "input": [
      "if 1+2 == 2:\n",
      "    print \"whoa\"\n",
      "    x = 5+1\n",
      "    print \"done\"\n",
      "elif 1+1 == 0:\n",
      "    print \"that explains it\"\n",
      "elif 5+5 == 9:\n",
      "    print \"somethign\"\n",
      "    if \"ssomething\":\n",
      "        print \"hi\"\n",
      "else:\n",
      "    print \"what I expected\""
     ],
     "language": "python",
     "metadata": {},
     "outputs": [
      {
       "output_type": "stream",
       "stream": "stdout",
       "text": [
        "what I expected\n"
       ]
      }
     ],
     "prompt_number": 9
    },
    {
     "cell_type": "code",
     "collapsed": false,
     "input": [
      "\n",
      "    \n",
      "x = {1,2,3}\n",
      "if 5 in x:\n",
      "    print \"found it\"\n",
      "else:\n",
      "    print \"didn't find it\"\n",
      "    x.add(5)\n",
      "print x\n",
      "\n",
      "if False:\n",
      "    print \"shouln't happen\"\n",
      "elif False:\n",
      "    print \"should happen\""
     ],
     "language": "python",
     "metadata": {},
     "outputs": [
      {
       "output_type": "stream",
       "stream": "stdout",
       "text": [
        "didn't find it\n",
        "set([1, 2, 3, 5])\n"
       ]
      }
     ],
     "prompt_number": 10
    },
    {
     "cell_type": "markdown",
     "metadata": {},
     "source": [
      "###for Statements:\n",
      "\n",
      "for statements are a convenient way to iterate through the values contained in a data structure. Going through the elements in a data structure one at a time, this element is assigned to variable. The code block associated with the for statement (or for loop) is then evaluated with this value."
     ]
    },
    {
     "cell_type": "code",
     "collapsed": false,
     "input": [
      "set = {1, 2, 3, 4}\n",
      "for i in set:\n",
      "    print i, \" squared is:\", i*i "
     ],
     "language": "python",
     "metadata": {},
     "outputs": [
      {
       "output_type": "stream",
       "stream": "stdout",
       "text": [
        "1  squared is: 1\n",
        "2  squared is: 4\n",
        "3  squared is: 9\n",
        "4  squared is: 16\n"
       ]
      }
     ],
     "prompt_number": 11
    },
    {
     "cell_type": "code",
     "collapsed": false,
     "input": [
      "print \"a more complex block\"\n",
      "for num in set:\n",
      "    if num >= 3:\n",
      "        print num+5"
     ],
     "language": "python",
     "metadata": {},
     "outputs": [
      {
       "output_type": "stream",
       "stream": "stdout",
       "text": [
        "a more complex block\n",
        "8\n",
        "9\n"
       ]
      }
     ],
     "prompt_number": 12
    },
    {
     "cell_type": "code",
     "collapsed": false,
     "input": [
      "print \"this also works for lists\"\n",
      "list = [1,2,3]\n",
      "for num in list:\n",
      "    if num >= 2:\n",
      "        print num+5"
     ],
     "language": "python",
     "metadata": {},
     "outputs": [
      {
       "output_type": "stream",
       "stream": "stdout",
       "text": [
        "this also works for lists\n",
        "7\n",
        "8\n"
       ]
      }
     ],
     "prompt_number": 13
    },
    {
     "cell_type": "code",
     "collapsed": false,
     "input": [
      "print \"dictionaries let you iterate through keys, values, or both\"\n",
      "dict = {\"a\":1, \"b\":2}\n",
      "\n",
      "for k in dict.keys():\n",
      "    value = dict[k]\n",
      "    print k"
     ],
     "language": "python",
     "metadata": {},
     "outputs": [
      {
       "output_type": "stream",
       "stream": "stdout",
       "text": [
        "dictionaries let you iterate through keys, values, or both\n",
        "a\n",
        "b\n"
       ]
      }
     ],
     "prompt_number": 14
    },
    {
     "cell_type": "code",
     "collapsed": false,
     "input": [
      "print \"dictionaries let you iterate through keys, values, or both\"\n",
      "dict = {\"a\":1, \"b\":2}\n",
      "  \n",
      "for v in dict.values():\n",
      "    print v"
     ],
     "language": "python",
     "metadata": {},
     "outputs": [
      {
       "output_type": "stream",
       "stream": "stdout",
       "text": [
        "dictionaries let you iterate through keys, values, or both\n",
        "1\n",
        "2\n"
       ]
      }
     ],
     "prompt_number": 15
    },
    {
     "cell_type": "code",
     "collapsed": false,
     "input": [
      "print \"dictionaries let you iterate through keys, values, or both\"\n",
      "dict = {\"a\":1, \"b\":2}\n",
      "\n",
      "# Iteritems returns *tuples* that correspond to key-value pairs\n",
      "# [('a', 1), ('b', 2)]\n",
      "for k,v in dict.iteritems():\n",
      "    if v == dict[k]:\n",
      "        print \"phew! the value %d\" % v, \" is in the dictionary, with a key %s\" % k\n"
     ],
     "language": "python",
     "metadata": {},
     "outputs": [
      {
       "output_type": "stream",
       "stream": "stdout",
       "text": [
        "dictionaries let you iterate through keys, values, or both\n",
        "phew! the value 1  is in the dictionary, with a key a\n",
        "phew! the value 2  is in the dictionary, with a key b\n"
       ]
      }
     ],
     "prompt_number": 17
    },
    {
     "cell_type": "code",
     "collapsed": false,
     "input": [
      "print \"dictionaries let you iterate through keys, values, or both\"\n",
      "dict = {\"a\":1, \"b\":2, \"c\": 3, \"d\":4, \"e\": 4, \"f\": 4}\n",
      "\n",
      "for k,v in dict.iteritems():\n",
      "    if v == 4:\n",
      "        print \"The key %s has the value 4\" % k"
     ],
     "language": "python",
     "metadata": {},
     "outputs": [
      {
       "output_type": "stream",
       "stream": "stdout",
       "text": [
        "dictionaries let you iterate through keys, values, or both\n",
        "The key e has the value 4\n",
        "The key d has the value 4\n",
        "The key f has the value 4\n"
       ]
      }
     ],
     "prompt_number": 18
    },
    {
     "cell_type": "markdown",
     "metadata": {},
     "source": [
      "###Break and Continue:\n",
      "\n",
      "These two statements are used to modify iteration of loops. Break is used to exit the inner most loop in which it appears. Continue the current pass through the loop, going on to the next iteration."
     ]
    },
    {
     "cell_type": "code",
     "collapsed": false,
     "input": [
      "x = [1,2,3,4,5,4,3,2,1]\n",
      "for num in x:\n",
      "    if num > 2:\n",
      "        break\n",
      "    print num"
     ],
     "language": "python",
     "metadata": {},
     "outputs": [
      {
       "output_type": "stream",
       "stream": "stdout",
       "text": [
        "1\n",
        "2\n"
       ]
      }
     ],
     "prompt_number": 19
    },
    {
     "cell_type": "code",
     "collapsed": false,
     "input": [
      "y = [\"a\", \"b\", \"c\", \"d\"]\n",
      "for letter in y:\n",
      "    if letter == \"b\":\n",
      "        brrea\n",
      "    print letter"
     ],
     "language": "python",
     "metadata": {},
     "outputs": [
      {
       "output_type": "stream",
       "stream": "stdout",
       "text": [
        "a\n"
       ]
      }
     ],
     "prompt_number": 21
    },
    {
     "cell_type": "code",
     "collapsed": false,
     "input": [
      "y = [\"a\", \"b\", \"c\", \"d\"]\n",
      "for letter in y:\n",
      "    if letter == \"b\":\n",
      "        break\n",
      "    print letter"
     ],
     "language": "python",
     "metadata": {},
     "outputs": []
    },
    {
     "cell_type": "code",
     "collapsed": false,
     "input": [],
     "language": "python",
     "metadata": {},
     "outputs": []
    },
    {
     "cell_type": "markdown",
     "metadata": {},
     "source": [
      "###Ranges of Integers:\n",
      "\n",
      "Often it is convenient to define (and iterate through) ranges of integers. Python has a convenient range function that allows you to do just this."
     ]
    },
    {
     "cell_type": "code",
     "collapsed": false,
     "input": [
      "print range(10) # start at zero, < the specified ceiling value\n",
      "# range(10) <=> range(0,10)\n",
      "for i in range(10):\n",
      "    print i, \"squared is\", i*i\n",
      "    "
     ],
     "language": "python",
     "metadata": {},
     "outputs": [
      {
       "output_type": "stream",
       "stream": "stdout",
       "text": [
        "[0, 1, 2, 3, 4, 5, 6, 7, 8, 9]\n",
        "0 squared is 0\n",
        "1 squared is 1\n",
        "2 squared is 4\n",
        "3 squared is 9\n",
        "4 squared is 16\n",
        "5 squared is 25\n",
        "6 squared is 36\n",
        "7 squared is 49\n",
        "8 squared is 64\n",
        "9 squared is 81\n"
       ]
      }
     ],
     "prompt_number": 24
    },
    {
     "cell_type": "code",
     "collapsed": false,
     "input": [
      "print range(-5, 5) #from the left value, < right value"
     ],
     "language": "python",
     "metadata": {},
     "outputs": [
      {
       "output_type": "stream",
       "stream": "stdout",
       "text": [
        "[-5, -4, -3, -2, -1, 0, 1, 2, 3, 4]\n"
       ]
      }
     ],
     "prompt_number": 25
    },
    {
     "cell_type": "code",
     "collapsed": false,
     "input": [
      "print range(-5, 5, 2) #from the left value, to the middle value, incrementing by the right value"
     ],
     "language": "python",
     "metadata": {},
     "outputs": [
      {
       "output_type": "stream",
       "stream": "stdout",
       "text": [
        "[-5, -3, -1, 1, 3]\n"
       ]
      }
     ],
     "prompt_number": 26
    },
    {
     "cell_type": "code",
     "collapsed": false,
     "input": [
      "for x in range(-5, 5):\n",
      "    if x > 0:\n",
      "        print \"%d is positive\" % x"
     ],
     "language": "python",
     "metadata": {},
     "outputs": [
      {
       "output_type": "stream",
       "stream": "stdout",
       "text": [
        "1 is positive\n",
        "2 is positive\n",
        "3 is positive\n",
        "4 is positive\n"
       ]
      }
     ],
     "prompt_number": 1
    },
    {
     "cell_type": "markdown",
     "metadata": {},
     "source": [
      "List Comprehensions\n",
      "-------------------\n",
      "\n",
      "The practical data scientist often faces situations where one list is to be transformed into another list, transforming the values in the input array, filtering out certain undesired values, etc. List comprehensions are a natural, flexible way to perform these transformations on the elements in a list. \n",
      "\n",
      "The syntax of list comprehensions is based on the way mathematicians define sets and lists, a syntax that leaves it clear what the contents should be:\n",
      "\n",
      "+ `S = {x\u00b2 : x in {0 ... 9}}`\n",
      "\n",
      "+ `V = (1, 2, 4, 8, ..., 2\u00b9\u00b2)`\n",
      "\n",
      "+ `M = {x | x in S and x even}`\n",
      "\n",
      "\n",
      "Python's list comprehensions give a very natural way to write statements just like these. It may look strange early on, but it becomes a very natural and concise way of creating lists, without having to write for-loops."
     ]
    },
    {
     "cell_type": "code",
     "collapsed": false,
     "input": [
      "S = []\n",
      "for i in range(10):\n",
      "    S.append(i*i)\n",
      "print S"
     ],
     "language": "python",
     "metadata": {},
     "outputs": [
      {
       "output_type": "stream",
       "stream": "stdout",
       "text": [
        "[0]\n",
        "[0, 1]\n",
        "[0, 1, 4]\n",
        "[0, 1, 4, 9]\n",
        "[0, 1, 4, 9, 16]\n",
        "[0, 1, 4, 9, 16, 25]\n",
        "[0, 1, 4, 9, 16, 25, 36]\n",
        "[0, 1, 4, 9, 16, 25, 36, 49]\n",
        "[0, 1, 4, 9, 16, 25, 36, 49, 64]\n",
        "[0, 1, 4, 9, 16, 25, 36, 49, 64, 81]\n"
       ]
      }
     ],
     "prompt_number": 30
    },
    {
     "cell_type": "code",
     "collapsed": false,
     "input": [
      "S = [i*i for i in range(10)]\n",
      "print S"
     ],
     "language": "python",
     "metadata": {},
     "outputs": [
      {
       "output_type": "stream",
       "stream": "stdout",
       "text": [
        "[0, 1, 4, 9, 16, 25, 36, 49, 64, 81]\n"
       ]
      }
     ],
     "prompt_number": 29
    },
    {
     "cell_type": "code",
     "collapsed": false,
     "input": [
      "import math\n",
      "S = [math.pow(x, 2) for x in range(0,10)]\n",
      "print S\n",
      "\n",
      "S = []\n",
      "for x in range(0,10):\n",
      "     S.append(math.pow(x,2))\n",
      "print S"
     ],
     "language": "python",
     "metadata": {},
     "outputs": [
      {
       "output_type": "stream",
       "stream": "stdout",
       "text": [
        "[0.0, 1.0, 4.0, 9.0, 16.0, 25.0, 36.0, 49.0, 64.0, 81.0]\n",
        "[0.0, 1.0, 4.0, 9.0, 16.0, 25.0, 36.0, 49.0, 64.0, 81.0]\n"
       ]
      }
     ],
     "prompt_number": 2
    },
    {
     "cell_type": "markdown",
     "metadata": {},
     "source": [
      "**Note the list comprehension for deriving M uses a \"if statement\" to filter out those values that aren't of interest**, restricting to only the even perfect squares.\n"
     ]
    },
    {
     "cell_type": "code",
     "collapsed": false,
     "input": [
      "S = [i*i for i in range(10)]\n",
      "print S\n",
      "M = [x for x in S if x%2 == 0]\n",
      "\n",
      "print S\n",
      "\n",
      "print M"
     ],
     "language": "python",
     "metadata": {},
     "outputs": [
      {
       "output_type": "stream",
       "stream": "stdout",
       "text": [
        "[0, 1, 4, 9, 16, 25, 36, 49, 64, 81]\n",
        "[0, 1, 4, 9, 16, 25, 36, 49, 64, 81]\n",
        "[0, 4, 16, 36, 64]\n"
       ]
      }
     ],
     "prompt_number": 1
    },
    {
     "cell_type": "markdown",
     "metadata": {},
     "source": [
      "These are simple examples, using numerical compuation. In the following operation we transform a string into an list of values, a more complex operation: "
     ]
    },
    {
     "cell_type": "code",
     "collapsed": false,
     "input": [
      "words = 'The quick brown fox jumps over the lazy dog'\n",
      "[(w.upper(), w.lower(), len(w)) for w in words.split()]"
     ],
     "language": "python",
     "metadata": {},
     "outputs": [
      {
       "metadata": {},
       "output_type": "pyout",
       "prompt_number": 4,
       "text": [
        "[('THE', 'the', 3),\n",
        " ('QUICK', 'quick', 5),\n",
        " ('BROWN', 'brown', 5),\n",
        " ('FOX', 'fox', 3),\n",
        " ('JUMPS', 'jumps', 5),\n",
        " ('OVER', 'over', 4),\n",
        " ('THE', 'the', 3),\n",
        " ('LAZY', 'lazy', 4),\n",
        " ('DOG', 'dog', 3)]"
       ]
      }
     ],
     "prompt_number": 4
    },
    {
     "cell_type": "markdown",
     "metadata": {},
     "source": [
      "#### Exercise\n",
      "\n",
      "List each word and its length from the string 'The quick brown fox jumps over the lazy dog', conditioned on the length of the word being four characters and above"
     ]
    },
    {
     "cell_type": "code",
     "collapsed": false,
     "input": [
      "# your code here\n",
      "sentence = 'The quick brown fox jumps over the lazy dog'\n",
      "longwords = [(word, len(word)) for word in sentence.split() if len(word)>=4]"
     ],
     "language": "python",
     "metadata": {},
     "outputs": [],
     "prompt_number": 8
    },
    {
     "cell_type": "code",
     "collapsed": false,
     "input": [
      "print longwords"
     ],
     "language": "python",
     "metadata": {},
     "outputs": [
      {
       "output_type": "stream",
       "stream": "stdout",
       "text": [
        "[('quick', 5), ('brown', 5), ('jumps', 5), ('over', 4), ('lazy', 4)]\n"
       ]
      }
     ],
     "prompt_number": 9
    },
    {
     "cell_type": "code",
     "collapsed": false,
     "input": [],
     "language": "python",
     "metadata": {},
     "outputs": []
    }
   ],
   "metadata": {}
  }
 ]
}