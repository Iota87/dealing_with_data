{
 "metadata": {
  "name": "",
  "signature": "sha256:8683648455d27e6647b6f316302e3e93db1282819f38924d11e398ec8add69f8"
 },
 "nbformat": 3,
 "nbformat_minor": 0,
 "worksheets": [
  {
   "cells": [
    {
     "cell_type": "heading",
     "level": 3,
     "metadata": {},
     "source": [
      "Installing NLTK toolkit"
     ]
    },
    {
     "cell_type": "markdown",
     "metadata": {},
     "source": [
      "Before starting let's install the NLTK library (http://www.nltk.org/), by typing the following commands in vagrant terminal.\n",
      "\n",
      "* Install Numpy: `sudo pip install -U numpy`\n",
      "* Install NLTK: `sudo pip install -U nltk`\n",
      "\n",
      "Test that the library is installed properly by executing the following command:"
     ]
    },
    {
     "cell_type": "code",
     "collapsed": false,
     "input": [
      "import nltk"
     ],
     "language": "python",
     "metadata": {},
     "outputs": [],
     "prompt_number": 1
    },
    {
     "cell_type": "markdown",
     "metadata": {},
     "source": [
      "Once the NLTK toolkit is installed, we need to install the NLTK data: \n",
      "\n",
      "`sudo python -m nltk.downloader -d /usr/share/nltk_data all`"
     ]
    },
    {
     "cell_type": "markdown",
     "metadata": {},
     "source": [
      "#### Extra NLTK resources\n",
      "\n",
      "NLTK also comes with some of the files from Project Gutenberg already included:"
     ]
    },
    {
     "cell_type": "code",
     "collapsed": false,
     "input": [
      "print nltk.corpus.gutenberg.fileids()"
     ],
     "language": "python",
     "metadata": {},
     "outputs": [
      {
       "output_type": "stream",
       "stream": "stdout",
       "text": [
        "[u'austen-emma.txt', u'austen-persuasion.txt', u'austen-sense.txt', u'bible-kjv.txt', u'blake-poems.txt', u'bryant-stories.txt', u'burgess-busterbrown.txt', u'carroll-alice.txt', u'chesterton-ball.txt', u'chesterton-brown.txt', u'chesterton-thursday.txt', u'edgeworth-parents.txt', u'melville-moby_dick.txt', u'milton-paradise.txt', u'shakespeare-caesar.txt', u'shakespeare-hamlet.txt', u'shakespeare-macbeth.txt', u'whitman-leaves.txt']\n"
       ]
      }
     ],
     "prompt_number": 2
    },
    {
     "cell_type": "code",
     "collapsed": false,
     "input": [
      "emma = nltk.corpus.gutenberg.words('shakespeare-hamlet.txt')\n",
      "len(emma)"
     ],
     "language": "python",
     "metadata": {},
     "outputs": [
      {
       "metadata": {},
       "output_type": "pyout",
       "prompt_number": 4,
       "text": [
        "37360"
       ]
      }
     ],
     "prompt_number": 4
    },
    {
     "cell_type": "code",
     "collapsed": false,
     "input": [
      "from nltk.book import *"
     ],
     "language": "python",
     "metadata": {},
     "outputs": [
      {
       "output_type": "stream",
       "stream": "stdout",
       "text": [
        "*** Introductory Examples for the NLTK Book ***\n",
        "Loading text1, ..., text9 and sent1, ..., sent9\n",
        "Type the name of the text or sentence to view it.\n",
        "Type: 'texts()' or 'sents()' to list the materials.\n",
        "text1:"
       ]
      },
      {
       "output_type": "stream",
       "stream": "stdout",
       "text": [
        " Moby Dick by Herman Melville 1851\n",
        "text2:"
       ]
      },
      {
       "output_type": "stream",
       "stream": "stdout",
       "text": [
        " Sense and Sensibility by Jane Austen 1811\n",
        "text3:"
       ]
      },
      {
       "output_type": "stream",
       "stream": "stdout",
       "text": [
        " The Book of Genesis\n",
        "text4:"
       ]
      },
      {
       "output_type": "stream",
       "stream": "stdout",
       "text": [
        " Inaugural Address Corpus\n",
        "text5:"
       ]
      },
      {
       "output_type": "stream",
       "stream": "stdout",
       "text": [
        " Chat Corpus\n",
        "text6: Monty Python and the Holy Grail\n",
        "text7:"
       ]
      },
      {
       "output_type": "stream",
       "stream": "stdout",
       "text": [
        " Wall Street Journal\n",
        "text8: Personals Corpus\n",
        "text9:"
       ]
      },
      {
       "output_type": "stream",
       "stream": "stdout",
       "text": [
        " The Man Who Was Thursday by G . K . Chesterton 1908\n"
       ]
      }
     ],
     "prompt_number": 5
    },
    {
     "cell_type": "markdown",
     "metadata": {},
     "source": [
      "It is one thing to automatically detect that a particular word occurs in a text, and to display some words that appear in the same context. However, we can also determine the location of a word in the text: how many words from the beginning it appears. This positional information can be displayed using a dispersion plot. Each stripe represents an instance of a word, and each row represents the entire text. You can produce this plot as shown below. You might like to try more words (e.g., liberty, constitution), and different texts. Can you predict the dispersion of a word before you view it? "
     ]
    },
    {
     "cell_type": "code",
     "collapsed": false,
     "input": [
      "# Text4 is the inauguration addresses\n",
      "text4.dispersion_plot([\"citizens\", \"democracy\", \"freedom\", \"duties\", \"America\"])"
     ],
     "language": "python",
     "metadata": {},
     "outputs": [
      {
       "metadata": {},
       "output_type": "display_data",
       "png": "[encoded data removed]",
       "text": [
        "<matplotlib.figure.Figure at 0x7fc1f5a4ad50>"
       ]
      }
     ],
     "prompt_number": 6
    },
    {
     "cell_type": "heading",
     "level": 3,
     "metadata": {},
     "source": [
      "Processing Text: Introduction\n",
      "\n"
     ]
    },
    {
     "cell_type": "markdown",
     "metadata": {},
     "source": [
      "Let's start by fetching a piece of text. We will go to [Project Gutenberg](https://www.gutenberg.org/) and fetch the text for \"The origin of species\""
     ]
    },
    {
     "cell_type": "code",
     "collapsed": false,
     "input": [
      "import pandas as pd\n",
      "import matplotlib.pyplot as plt\n",
      "# Make the graphs a bit prettier, and bigger\n",
      "pd.set_option('display.mpl_style', 'default')\n",
      "plt.rcParams['figure.figsize'] = (15, 5)"
     ],
     "language": "python",
     "metadata": {},
     "outputs": [],
     "prompt_number": 7
    },
    {
     "cell_type": "code",
     "collapsed": false,
     "input": [
      "import requests\n",
      "\n",
      "# The origin of species\n",
      "# Original at http://www.gutenberg.org/files/1228/1228.txt but there seems to be \n",
      "# some problem with downloading from Amazon EC2\n",
      "url = \"https://dl.dropboxusercontent.com/u/16006464/DwD_Winter2015/1228.txt\"\n",
      "\n",
      "# Get the URL, do not check the SSL certificate\n",
      "resp = requests.get(url, verify=False)\n",
      "\n",
      "# Get the text\n",
      "content = resp.text\n"
     ],
     "language": "python",
     "metadata": {},
     "outputs": [
      {
       "output_type": "stream",
       "stream": "stderr",
       "text": [
        "/usr/local/lib/python2.7/dist-packages/requests/packages/urllib3/connectionpool.py:734: InsecureRequestWarning: Unverified HTTPS request is being made. Adding certificate verification is strongly advised. See: https://urllib3.readthedocs.org/en/latest/security.html\n",
        "  InsecureRequestWarning)\n"
       ]
      }
     ],
     "prompt_number": 9
    },
    {
     "cell_type": "code",
     "collapsed": false,
     "input": [
      "# The text contains template stuff at the beginning and end. Let's get rid of these\n",
      "start_phrase = \"*** START OF THIS PROJECT GUTENBERG EBOOK ON THE ORIGIN OF SPECIES ***\"\n",
      "end_phrase = \"*** END OF THIS PROJECT GUTENBERG EBOOK ON THE ORIGIN OF SPECIES ***\"\n",
      "s = content.index(start_phrase)\n",
      "e = content.index(end_phrase)\n",
      "true_content = content[s+len(start_phrase):e]\n",
      "\n",
      "# Approximate bytes of text\n",
      "print len(true_content)"
     ],
     "language": "python",
     "metadata": {},
     "outputs": [
      {
       "output_type": "stream",
       "stream": "stdout",
       "text": [
        "951128\n"
       ]
      }
     ],
     "prompt_number": 10
    },
    {
     "cell_type": "heading",
     "level": 3,
     "metadata": {},
     "source": [
      "Frequency distributions, Zipf's law"
     ]
    },
    {
     "cell_type": "markdown",
     "metadata": {},
     "source": [
      "Now, we have our first text ready to be analyzed. Let's first do some analysis of the words that appear in this classic text:"
     ]
    },
    {
     "cell_type": "code",
     "collapsed": false,
     "input": [
      "tokens = true_content.split()\n",
      "\n",
      "# The nltk.Text object will offer us many useful functions for text analysis\n",
      "text = nltk.Text(tokens)\n",
      "\n",
      "# Frequency analysis for words of interest\n",
      "fdist = text.vocab()\n",
      "\n",
      "# Number of unique and total words in the text\n",
      "print(fdist)"
     ],
     "language": "python",
     "metadata": {},
     "outputs": [
      {
       "output_type": "stream",
       "stream": "stdout",
       "text": [
        "<FreqDist with 13908 samples and 155443 outcomes>\n"
       ]
      }
     ],
     "prompt_number": 12
    },
    {
     "cell_type": "markdown",
     "metadata": {},
     "source": [
      "Let's take a look at the frequencies of some words in the text:"
     ]
    },
    {
     "cell_type": "code",
     "collapsed": false,
     "input": [
      "print fdist[\"species\"]\n",
      "print fdist[\"sexual\"]\n",
      "print fdist[\"origin\"]"
     ],
     "language": "python",
     "metadata": {},
     "outputs": [
      {
       "output_type": "stream",
       "stream": "stdout",
       "text": [
        "894\n",
        "42\n",
        "30\n"
       ]
      }
     ],
     "prompt_number": 13
    },
    {
     "cell_type": "markdown",
     "metadata": {},
     "source": [
      "Let's take a look at the actual words of the text:"
     ]
    },
    {
     "cell_type": "code",
     "collapsed": false,
     "input": [
      "fdist"
     ],
     "language": "python",
     "metadata": {},
     "outputs": [
      {
       "metadata": {},
       "output_type": "pyout",
       "prompt_number": 14,
       "text": [
        "FreqDist({u'the': 9808, u'of': 7559, u'and': 4286, u'in': 3735, u'to': 3546, u'a': 2357, u'that': 1999, u'have': 1741, u'be': 1623, u'as': 1449, ...})"
       ]
      }
     ],
     "prompt_number": 14
    },
    {
     "cell_type": "markdown",
     "metadata": {},
     "source": [
      "OK, let's see a few more words"
     ]
    },
    {
     "cell_type": "code",
     "collapsed": false,
     "input": [
      "print fdist.most_common(50)"
     ],
     "language": "python",
     "metadata": {},
     "outputs": [
      {
       "output_type": "stream",
       "stream": "stdout",
       "text": [
        "[(u'the', 9808), (u'of', 7559), (u'and', 4286), (u'in', 3735), (u'to', 3546), (u'a', 2357), (u'that', 1999), (u'have', 1741), (u'be', 1623), (u'as', 1449), (u'on', 1360), (u'by', 1326), (u'is', 1315), (u'which', 1189), (u'or', 1151), (u'are', 1109), (u'from', 1102), (u'for', 1028), (u'I', 968), (u'with', 960), (u'we', 932), (u'been', 926), (u'species', 894), (u'it', 835), (u'not', 833), (u'this', 816), (u'same', 769), (u'will', 713), (u'their', 708), (u'at', 665), (u'some', 616), (u'other', 611), (u'has', 601), (u'one', 597), (u'but', 586), (u'more', 567), (u'each', 536), (u'they', 530), (u'all', 518), (u'any', 504), (u'can', 496), (u'an', 493), (u'may', 491), (u'would', 472), (u'these', 434), (u'so', 432), (u'many', 427), (u'its', 407), (u'The', 404), (u'very', 397)]\n"
       ]
      }
     ],
     "prompt_number": 16
    },
    {
     "cell_type": "markdown",
     "metadata": {},
     "source": [
      "Hm, that is not very useful. These are all words that are needed by every single English text. Only the world \"species\" seems to have some meaning. The rest of the words tell us nothing about the text; they're just English \"plumbing.\"\n",
      "\n",
      "What proportion of the text is taken up with such words? We can generate a cumulative frequency plot for these words:\n"
     ]
    },
    {
     "cell_type": "code",
     "collapsed": false,
     "input": [
      "fdist.plot(50, cumulative=True)"
     ],
     "language": "python",
     "metadata": {},
     "outputs": [
      {
       "output_type": "stream",
       "stream": "stderr",
       "text": [
        "/usr/local/lib/python2.7/dist-packages/matplotlib/font_manager.py:1279: UserWarning: findfont: Font family [u'monospace'] not found. Falling back to Bitstream Vera Sans\n",
        "  (prop.get_family(), self.defaultFamily[fontext]))\n"
       ]
      },
      {
       "metadata": {},
       "output_type": "display_data",
       "png": "[encoded data removed]",
       "text": [
        "<matplotlib.figure.Figure at 0x7fc2057afdd0>"
       ]
      }
     ],
     "prompt_number": 17
    },
    {
     "cell_type": "markdown",
     "metadata": {},
     "source": [
      "These 50 words account for nearly half the book! (If you rememeber, we had 155443 words in the book)"
     ]
    },
    {
     "cell_type": "markdown",
     "metadata": {},
     "source": [
      "If the frequent words don't help us, how about the words that occur once only, the so-called hapaxes? View them by typing `fdist.hapaxes()`: "
     ]
    },
    {
     "cell_type": "code",
     "collapsed": false,
     "input": [
      "fdist.hapaxes()"
     ],
     "language": "python",
     "metadata": {},
     "outputs": [
      {
       "metadata": {},
       "output_type": "pyout",
       "prompt_number": 18,
       "text": [
        "[u'horn-like',\n",
        " u'tumbling;',\n",
        " u'tumbling,',\n",
        " u'considered.',\n",
        " u'resisted',\n",
        " u'woody',\n",
        " u'Lepsius;',\n",
        " u'Until',\n",
        " u'marching',\n",
        " u'Pachyderms,',\n",
        " u'Livingstone',\n",
        " u'kingdom,',\n",
        " u'quadruple',\n",
        " u'inheritance:',\n",
        " u'hardness',\n",
        " u'inwards',\n",
        " u'anomalies.',\n",
        " u'digit',\n",
        " u'LATER',\n",
        " u'fingers:',\n",
        " u'pigment',\n",
        " u'replaces',\n",
        " u'nature),',\n",
        " u'disturb',\n",
        " u'protest',\n",
        " u'Intercrossing',\n",
        " u'ornamental',\n",
        " u'bill',\n",
        " u'(except',\n",
        " u'parent-stocks.',\n",
        " u'perfected?',\n",
        " u'perfected;',\n",
        " u'monsters;',\n",
        " u'her;',\n",
        " u'elegant',\n",
        " u'parent-stocks?',\n",
        " u'errors',\n",
        " u'hollyhock,',\n",
        " u'understood.',\n",
        " u'Ascension,',\n",
        " u'fruits,',\n",
        " u'\"adaptive',\n",
        " u'CLEARLY',\n",
        " u'nature:',\n",
        " u'Boulders,',\n",
        " u'Borrow',\n",
        " u'herd',\n",
        " u'monsters.',\n",
        " u'Habits',\n",
        " u'glass,',\n",
        " u'gizzard',\n",
        " u'LAST',\n",
        " u'intruding',\n",
        " u'elaborate',\n",
        " u'flattened,',\n",
        " u'NOT',\n",
        " u'error,',\n",
        " u'bellowing,',\n",
        " u'palpi,',\n",
        " u'golden',\n",
        " u'circumstance.',\n",
        " u'circumstance)',\n",
        " u'secluded',\n",
        " u'constantly-recurrent',\n",
        " u'replace',\n",
        " u'remnant',\n",
        " u'anywhere,',\n",
        " u'positions?',\n",
        " u'obligation',\n",
        " u'opponents',\n",
        " u'268,',\n",
        " u'presents',\n",
        " u'268.',\n",
        " u'exist),',\n",
        " u'Indeed,',\n",
        " u'temperature.',\n",
        " u'astonishment:',\n",
        " u'temperature,',\n",
        " u'occupying',\n",
        " u'islet,',\n",
        " u'up:',\n",
        " u'fifth,',\n",
        " u'higher,',\n",
        " u'facts!',\n",
        " u'brings',\n",
        " u'AVERAGE',\n",
        " u'crop,',\n",
        " u'whirling',\n",
        " u'98',\n",
        " u'cooler.',\n",
        " u'higher;',\n",
        " u'pigeon-fancier.',\n",
        " u'flocks.',\n",
        " u'degrees;',\n",
        " u'degrees:',\n",
        " u'meadows',\n",
        " u'Frena,',\n",
        " u'\"sporting\"',\n",
        " u'detritus,',\n",
        " u'laughter.',\n",
        " u'degrees.',\n",
        " u'parasitic.',\n",
        " u'Viola',\n",
        " u'household',\n",
        " u'shore,',\n",
        " u'expressed.',\n",
        " u'around.',\n",
        " u'provincial',\n",
        " u'disappearing.',\n",
        " u'salmons',\n",
        " u'Van,',\n",
        " u'well-constructed',\n",
        " u'rare?',\n",
        " u'disappearing;',\n",
        " u'dignified',\n",
        " u'ptarmigan',\n",
        " u'grew;',\n",
        " u'examined;',\n",
        " u'retrievers;',\n",
        " u'destined',\n",
        " u'grew,',\n",
        " u'salmon;',\n",
        " u'Duckweed,',\n",
        " u'Intercrossing,',\n",
        " u'Petrels,',\n",
        " u'Another',\n",
        " u'keeps',\n",
        " u'\"To',\n",
        " u'ancon',\n",
        " u'203,',\n",
        " u'dreamed',\n",
        " u'effect?',\n",
        " u'274.',\n",
        " u'effect:',\n",
        " u'clumps.',\n",
        " u'different--the',\n",
        " u'loops,',\n",
        " u'stems,',\n",
        " u'systematists.',\n",
        " u'Babington,',\n",
        " u'worms,',\n",
        " u'Nelumbium,',\n",
        " u'closed.',\n",
        " u'imbricate',\n",
        " u'density,',\n",
        " u'hybrids!',\n",
        " u'GLACIAL',\n",
        " u'birthplace.',\n",
        " u'fancies.',\n",
        " u'mature;',\n",
        " u'genera,--which,',\n",
        " u'Smith.',\n",
        " u'mature,',\n",
        " u'Wales,',\n",
        " u'preceded',\n",
        " u'Falklands',\n",
        " u'North:',\n",
        " u'displacement',\n",
        " u'acclimatised:',\n",
        " u'domesticated,',\n",
        " u'turnip',\n",
        " u'precedes',\n",
        " u'substantially',\n",
        " u'piling',\n",
        " u'correct:',\n",
        " u'beak.\"',\n",
        " u'at.',\n",
        " u'recognising',\n",
        " u'230.',\n",
        " u'deny.',\n",
        " u'compete,',\n",
        " u'subsiding',\n",
        " u'foundation',\n",
        " u'seedlings;',\n",
        " u'crustacea',\n",
        " u'parasite,',\n",
        " u'wand,',\n",
        " u'born.',\n",
        " u'south-west',\n",
        " u'COMPARED,',\n",
        " u'duck.',\n",
        " u'tricks,',\n",
        " u'over-rate',\n",
        " u'sub-littoral',\n",
        " u'seven,',\n",
        " u'apple,',\n",
        " u'haunted',\n",
        " u'17.',\n",
        " u'Longmynd',\n",
        " u'wasp',\n",
        " u'wash',\n",
        " u'freely.\"',\n",
        " u'doubtful,',\n",
        " u'hammock;',\n",
        " u'grouped,',\n",
        " u'her,',\n",
        " u'easy)',\n",
        " u'exaggerated,',\n",
        " u'exaggerated.',\n",
        " u'STREET.',\n",
        " u'lava-streams,',\n",
        " u'symmetry,',\n",
        " u'atom,',\n",
        " u'Sagaret',\n",
        " u'appears--a',\n",
        " u'idly',\n",
        " u'unconsciously;',\n",
        " u'shines;',\n",
        " u'idle',\n",
        " u'old.',\n",
        " u'DEGREE',\n",
        " u'Vertebrata',\n",
        " u'heads,',\n",
        " u'zebra;',\n",
        " u'intellect.',\n",
        " u'zebra.',\n",
        " u'Habit:',\n",
        " u'heads;',\n",
        " u'tools,',\n",
        " u'periods,--a',\n",
        " u'Tachytes',\n",
        " u'embryonic,',\n",
        " u'deficient.',\n",
        " u'affirmative.',\n",
        " u'absorbed',\n",
        " u'seemed,',\n",
        " u'diminishing',\n",
        " u'believes,',\n",
        " u'believes.',\n",
        " u'violence.',\n",
        " u'expanse',\n",
        " u'overlooked.',\n",
        " u'diversification:',\n",
        " u'Water-hen,',\n",
        " u'spend',\n",
        " u'fanciful,',\n",
        " u\"fuller's\",\n",
        " u'detriment',\n",
        " u'\"variations\"',\n",
        " u'ponds,',\n",
        " u'departing',\n",
        " u'flourishing,',\n",
        " u'known,--for',\n",
        " u'cousins',\n",
        " u'eyelid,',\n",
        " u'ceased,',\n",
        " u'territories,',\n",
        " u'green,',\n",
        " u'remotest',\n",
        " u'THREE',\n",
        " u'insect.',\n",
        " u'lies,',\n",
        " u'suspects,',\n",
        " u'\"nay,',\n",
        " u'incredible.',\n",
        " u'selected,--provided',\n",
        " u'eyelids',\n",
        " u'Reversion:',\n",
        " u'incredible;',\n",
        " u'except,',\n",
        " u'produced?',\n",
        " u'traverse',\n",
        " u'parallel;',\n",
        " u'matter;',\n",
        " u'nocturnal',\n",
        " u'requisite.',\n",
        " u'requisite,',\n",
        " u'formation,--facts,',\n",
        " u'planes,',\n",
        " u'planes.',\n",
        " u'claws',\n",
        " u'Linnean',\n",
        " u\"birds'-nests,\",\n",
        " u'baga,',\n",
        " u'(4th',\n",
        " u'accident',\n",
        " u'novelty,',\n",
        " u'experimentalist',\n",
        " u'pits',\n",
        " u'nectar-feeding',\n",
        " u'187.',\n",
        " u'constitutions,',\n",
        " u'invasion:',\n",
        " u'three-days',\n",
        " u'twenty-three',\n",
        " u'hereditarily',\n",
        " u'secretion,',\n",
        " u'251',\n",
        " u'jalappa',\n",
        " u'developed:',\n",
        " u'principles--namely',\n",
        " u'apples,',\n",
        " u'adaptation,',\n",
        " u'diem);',\n",
        " u'forming.',\n",
        " u'held,',\n",
        " u'forming;',\n",
        " u'tried.',\n",
        " u'unwillingness',\n",
        " u'TYPES',\n",
        " u'world-ranging',\n",
        " u'tried:',\n",
        " u'picturing',\n",
        " u'branches:',\n",
        " u'remembering',\n",
        " u'insuperable.',\n",
        " u'trees!',\n",
        " u'breakfast',\n",
        " u'severity',\n",
        " u'deaf;',\n",
        " u'shipwrecked',\n",
        " u'continent,--an',\n",
        " u'Newman',\n",
        " u'deaf,',\n",
        " u'emphatic',\n",
        " u'ancient.',\n",
        " u'cylinders,',\n",
        " u'marched',\n",
        " u'astonishingly',\n",
        " u'increased;',\n",
        " u'ostrich),',\n",
        " u'Traces',\n",
        " u'moraine,',\n",
        " u'tune',\n",
        " u'stupendous',\n",
        " u'fertile;--from',\n",
        " u'degradation.',\n",
        " u'Mylodon,',\n",
        " u'degradation;',\n",
        " u'kingdoms;',\n",
        " u'opinions',\n",
        " u'spurred',\n",
        " u'rhombs.',\n",
        " u'hill-variety.',\n",
        " u'Drift',\n",
        " u'bush,',\n",
        " u'rhombs;',\n",
        " u'kingdoms,',\n",
        " u'milked,',\n",
        " u'advancement',\n",
        " u'complex.',\n",
        " u'step;',\n",
        " u'existence--are',\n",
        " u'casually',\n",
        " u'unequivocally',\n",
        " u'Merionethshire',\n",
        " u'Burgess,',\n",
        " u'sleep,',\n",
        " u'shadow',\n",
        " u'working,--for',\n",
        " u'opinion,',\n",
        " u'desire',\n",
        " u'Larvae,',\n",
        " u'botanist,',\n",
        " u'herbaceous,',\n",
        " u'collection,',\n",
        " u'formerly,',\n",
        " u'owls',\n",
        " u'misled',\n",
        " u'germinated;',\n",
        " u'Firstly,',\n",
        " u'coral-producing',\n",
        " u'collection:',\n",
        " u'enter.',\n",
        " u'Swedish',\n",
        " u'Gooseberry,',\n",
        " u'lung,',\n",
        " u'intermedia',\n",
        " u'reaction,',\n",
        " u'Asiatic',\n",
        " u'creative',\n",
        " u'Europaeo-Asiatic',\n",
        " u'oscillating',\n",
        " u'reader,',\n",
        " u'oil-bearing',\n",
        " u'manufacturing',\n",
        " u'reader.',\n",
        " u'seeking,',\n",
        " u'insular,',\n",
        " u'browse',\n",
        " u'descendants,--our',\n",
        " u'Acclimatisation,',\n",
        " u'intermittent,',\n",
        " u'tiger;',\n",
        " u'incomprehensible',\n",
        " u'well-suited',\n",
        " u'son',\n",
        " u'Few',\n",
        " u'maturity!',\n",
        " u'raiser',\n",
        " u'runts',\n",
        " u'attrition',\n",
        " u'arbitrary),',\n",
        " u'abjectly',\n",
        " u'fields,',\n",
        " u'characters--that',\n",
        " u'humble,',\n",
        " u'declares.',\n",
        " u'authorized',\n",
        " u'1600;',\n",
        " u'moraines,',\n",
        " u'happy',\n",
        " u'thickness;',\n",
        " u'Practically,',\n",
        " u'Mastodon',\n",
        " u'runt,',\n",
        " u'conclusively',\n",
        " u'rotation.',\n",
        " u'characters;\"',\n",
        " u'thickness.',\n",
        " u'so;',\n",
        " u'otter',\n",
        " u'armorial',\n",
        " u'Researches',\n",
        " u'soldering',\n",
        " u'Recent',\n",
        " u'Variety',\n",
        " u'rhinoceros,',\n",
        " u'rhinoceros.',\n",
        " u'hypothetically',\n",
        " u'endures.',\n",
        " u'science,',\n",
        " u'treatise,',\n",
        " u'rein-deer,',\n",
        " u'(Columba',\n",
        " u'Rhine,',\n",
        " u'tucutucu,',\n",
        " u'teats',\n",
        " u'Steenstrup,',\n",
        " u'demonstrative',\n",
        " u'prove.',\n",
        " u'fins',\n",
        " u'invested',\n",
        " u'ray-florets,',\n",
        " u'May,',\n",
        " u'vestiges',\n",
        " u'warm,',\n",
        " u'34.',\n",
        " u'woodcocks',\n",
        " u'endowment;',\n",
        " u'Web',\n",
        " u'Indians',\n",
        " u'consumed!',\n",
        " u'crocodile',\n",
        " u'completely,',\n",
        " u'Plums',\n",
        " u'provided,',\n",
        " u'Spitz-dog',\n",
        " u'1854-55',\n",
        " u'reverting',\n",
        " u'chequered',\n",
        " u'separated,',\n",
        " u'CIRCUMSTANCES',\n",
        " u'\"ideally',\n",
        " u'Formations:',\n",
        " u'metamorphoses',\n",
        " u'Volcanic',\n",
        " u'remote.',\n",
        " u'Plata;',\n",
        " u'child.',\n",
        " u'poor,',\n",
        " u'assigned,',\n",
        " u'settle',\n",
        " u'Mocking-thrush',\n",
        " u'insignificant',\n",
        " u'yard,',\n",
        " u'1837,',\n",
        " u\"Gray's\",\n",
        " u'metaphysicians',\n",
        " u'irregular.',\n",
        " u'presence,',\n",
        " u'geography',\n",
        " u'peculiarly',\n",
        " u'Hairless',\n",
        " u'classed,',\n",
        " u'Dorking',\n",
        " u'Europe!',\n",
        " u'presumption,',\n",
        " u'ornithologists;',\n",
        " u'manuscripts.',\n",
        " u'Mere',\n",
        " u'sub-genus',\n",
        " u'vitiated',\n",
        " u'concealed',\n",
        " u'melodious',\n",
        " u'obstinacy',\n",
        " u'betraying',\n",
        " u'peculiar.',\n",
        " u'peculiar,',\n",
        " u'ensues.',\n",
        " u'female,',\n",
        " u'fourth,',\n",
        " u'kind,--that',\n",
        " u'dampness',\n",
        " u'sub-tropical',\n",
        " u'subsistence',\n",
        " u'blood;',\n",
        " u'odious',\n",
        " u'marbled',\n",
        " u'blood.',\n",
        " u'cats;',\n",
        " u'non-inheritance',\n",
        " u'imagination,',\n",
        " u'harmonious',\n",
        " u'tree-frequenting',\n",
        " u'versicolor',\n",
        " u'23.',\n",
        " u'inarched',\n",
        " u'ponies,',\n",
        " u'application.',\n",
        " u'parachute',\n",
        " u'72,',\n",
        " u'atolls',\n",
        " u'application;',\n",
        " u'ovarium',\n",
        " u'233',\n",
        " u'definition.',\n",
        " u'Rarity,',\n",
        " u'TRANSITIONS',\n",
        " u'blank.',\n",
        " u'measurement,',\n",
        " u'chapters;',\n",
        " u'whom,',\n",
        " u'manner:--the',\n",
        " u'explored',\n",
        " u'data',\n",
        " u'bears;',\n",
        " u'Hieracium',\n",
        " u'correlate',\n",
        " u'spread;',\n",
        " u'Hottentot',\n",
        " u'sub-families',\n",
        " u'Seeds:',\n",
        " u'graver.',\n",
        " u'below.',\n",
        " u'Classification.',\n",
        " u'merino',\n",
        " u'93.',\n",
        " u'harassed',\n",
        " u'Cervulus,',\n",
        " u'accurately,',\n",
        " u'principles--which',\n",
        " u'suspicion',\n",
        " u'parents,--in',\n",
        " u'decreased',\n",
        " u'readers,',\n",
        " u'frequent,',\n",
        " u'experiment)',\n",
        " u'experiment,',\n",
        " u'entomologists',\n",
        " u'unsatisfactory,',\n",
        " u'chromatic',\n",
        " u'head--indeed',\n",
        " u'arriving',\n",
        " u'creation!',\n",
        " u'creation\"',\n",
        " u'establishing',\n",
        " u'decrease,',\n",
        " u'trouble,',\n",
        " u'explored,',\n",
        " u'explored.',\n",
        " u'floods',\n",
        " u'Proteolepas',\n",
        " u'Ostrich:',\n",
        " u'Larvae',\n",
        " u'growths',\n",
        " u'result,--in',\n",
        " u'encyclopaedia.',\n",
        " u'necks,',\n",
        " u'importance--those',\n",
        " u'briefly,',\n",
        " u'Currants,',\n",
        " u'navels',\n",
        " u'decreased.',\n",
        " u'completed;\"',\n",
        " u'Kitty-wrens,--a',\n",
        " u'seventh',\n",
        " u\"shepherd's\",\n",
        " u'wanderers',\n",
        " u'OTHER,',\n",
        " u'massive',\n",
        " u'Sikkim,',\n",
        " u'Borrow,',\n",
        " u'conscientiously',\n",
        " u'Coral:',\n",
        " u'habitation',\n",
        " u'languish',\n",
        " u'--making',\n",
        " u'burst',\n",
        " u'bars;',\n",
        " u'stumps:',\n",
        " u'2',\n",
        " u'bars,',\n",
        " u\"tiger's\",\n",
        " u'lingering',\n",
        " u'poisons.',\n",
        " u'blows,',\n",
        " u'245.',\n",
        " u'much;',\n",
        " u'royal',\n",
        " u'ground-feeders,',\n",
        " u'kestrel,',\n",
        " u'structure?',\n",
        " u'structure:',\n",
        " u'analogous.',\n",
        " u'remark.',\n",
        " u'kidney-bean',\n",
        " u'winter:',\n",
        " u'winter;',\n",
        " u'Westward',\n",
        " u'BOTH',\n",
        " u'law)',\n",
        " u'vast,',\n",
        " u'bad?',\n",
        " u'touch;',\n",
        " u'aside',\n",
        " u'intends',\n",
        " u'stigma,',\n",
        " u'law;',\n",
        " u'bad,',\n",
        " u'naturalization',\n",
        " u'cocoons.',\n",
        " u'ages?',\n",
        " u'DISPERSAL',\n",
        " u'488.',\n",
        " u'Rodents.',\n",
        " u'slurred',\n",
        " u'angles,',\n",
        " u'inserted',\n",
        " u'Mediterranean,',\n",
        " u'positively,',\n",
        " u'Otter,',\n",
        " u'Stripes',\n",
        " u'Monkeys,',\n",
        " u'atom',\n",
        " u'peaches',\n",
        " u'brushwood,',\n",
        " u'be;',\n",
        " u'relief.',\n",
        " u'slave-makers,',\n",
        " u'wilfully',\n",
        " u'nothing;',\n",
        " u'darkness.',\n",
        " u'guarded',\n",
        " u'far-fetched,',\n",
        " u'(generally',\n",
        " u'quaternary,',\n",
        " u'infallible',\n",
        " u'submerge',\n",
        " u'elevation.',\n",
        " u'missel-thrush',\n",
        " u'blind.',\n",
        " u'tear,',\n",
        " u'blind;',\n",
        " u'tear;',\n",
        " u'dampest',\n",
        " u'names,',\n",
        " u'ensued--namely,',\n",
        " u'smooth,',\n",
        " u'collect.',\n",
        " u'Kent,',\n",
        " u'man;',\n",
        " u'representatives',\n",
        " u'man!',\n",
        " u'naked.',\n",
        " u'347.',\n",
        " u'Rodent.',\n",
        " u'impregnated',\n",
        " u'aberration',\n",
        " u'Crinum,',\n",
        " u'molluscan',\n",
        " u'dome',\n",
        " u'lion.',\n",
        " u'pellets,',\n",
        " u'clumps,',\n",
        " u'segments;',\n",
        " u'Teeth',\n",
        " u'Tausch,',\n",
        " u'well-pronounced',\n",
        " u'carnivora,',\n",
        " u'Use:',\n",
        " u'flipper',\n",
        " u'rivalled',\n",
        " u'compels',\n",
        " u'Anomma,',\n",
        " u'Bromley,',\n",
        " u'mown,',\n",
        " u'cetaceans',\n",
        " u'tumbler-pigeon',\n",
        " u'endure.',\n",
        " u'endure,',\n",
        " u'matured',\n",
        " u'acting,',\n",
        " u'occasionally--perhaps',\n",
        " u'deg-37',\n",
        " u'Round',\n",
        " u'sea-shells;',\n",
        " u'Bonin',\n",
        " u'Lingula',\n",
        " u'ready,',\n",
        " u'artichoke,',\n",
        " u'pubescence',\n",
        " u'overcome',\n",
        " u'sea-shells,',\n",
        " u'(I).',\n",
        " u'written,',\n",
        " u'existence,\"',\n",
        " u'birth:',\n",
        " u'LAPSE',\n",
        " u'tropics,',\n",
        " u'glaciers,',\n",
        " u'beings,--we',\n",
        " u'living.',\n",
        " u'tyrants,',\n",
        " u'Gardner,',\n",
        " u'ramifications.',\n",
        " u'webbed,',\n",
        " u'discussed),',\n",
        " u'authors:',\n",
        " u'sickness',\n",
        " u'obliterated.',\n",
        " u'ever-acting',\n",
        " u'(utterly',\n",
        " u'M.:',\n",
        " u'tend,--perhaps',\n",
        " u'mind--never',\n",
        " u'manifold',\n",
        " u'nigra',\n",
        " u'aspect;',\n",
        " u'FERTILISED',\n",
        " u'Invertebrata,',\n",
        " u'followed;',\n",
        " u'sub-breed,',\n",
        " u'loftier',\n",
        " u'jarred',\n",
        " u'Males',\n",
        " u\"Wollaston's\",\n",
        " u'Assuming,',\n",
        " u'circuitous.',\n",
        " u'maize.',\n",
        " u'unerring',\n",
        " u'groups:',\n",
        " u'Nile',\n",
        " u'camel-hair',\n",
        " u'water-birds,',\n",
        " u'adult;--of',\n",
        " u'inferiors',\n",
        " u'breakage',\n",
        " u'Pyrgoma,',\n",
        " u'hunger.',\n",
        " u'Atlas,',\n",
        " u'spherical,',\n",
        " u'metropolis,',\n",
        " u'intercrossing;',\n",
        " u'ratio,',\n",
        " u'salt-loving',\n",
        " u'bankiva).',\n",
        " u'members.',\n",
        " u'members,',\n",
        " u'ratio;',\n",
        " u\"bee's\",\n",
        " u'slaves,--the',\n",
        " u'tube',\n",
        " u'crocodile,',\n",
        " u'countenances',\n",
        " u\"bat's\",\n",
        " u'50.',\n",
        " u'reposing',\n",
        " u'rudimentary;',\n",
        " u'goose,',\n",
        " u'difference--for',\n",
        " u'(either',\n",
        " u'Species:',\n",
        " u'swarms',\n",
        " u'meal',\n",
        " u\"'Manual\",\n",
        " u'yielded,',\n",
        " u'imago',\n",
        " u'advanced--for',\n",
        " u'survive;',\n",
        " u'game-cock,',\n",
        " u'Advancement',\n",
        " u'survive)',\n",
        " u'survive,',\n",
        " u'ass.',\n",
        " u'dependent,',\n",
        " u'ever-increasing',\n",
        " u'productions!',\n",
        " u'includes,',\n",
        " u'unconscious,',\n",
        " u'futile',\n",
        " u'mouths,',\n",
        " u'Anagallis,',\n",
        " u'39.',\n",
        " u'secretes',\n",
        " u'accumulate,',\n",
        " u'Geology:',\n",
        " u'Geology;',\n",
        " u'brain',\n",
        " u'Small',\n",
        " u'question,--namely',\n",
        " u'grasp',\n",
        " u'oenas.',\n",
        " u'sisters?',\n",
        " u'elapsed,',\n",
        " u'Drones',\n",
        " u'severally',\n",
        " u'Close',\n",
        " u'darker',\n",
        " u'ad',\n",
        " u'demonstration.',\n",
        " u'race-horses,',\n",
        " u'(F14)',\n",
        " u'crustacean;',\n",
        " u'Savages',\n",
        " u'Correlation:',\n",
        " u'incomprehensibly',\n",
        " u'half-completed',\n",
        " u'finch;',\n",
        " u'across.',\n",
        " u'summit',\n",
        " u'New--at',\n",
        " u'coot;',\n",
        " u'Fuego:',\n",
        " u'freely-crossing',\n",
        " u'founded.',\n",
        " u'hutches),',\n",
        " u'435.',\n",
        " u'result:--',\n",
        " u'discussed,',\n",
        " u'Beaumont,',\n",
        " u'oil-gland',\n",
        " u'subjects.',\n",
        " u'prophetic',\n",
        " u'Phasianus,',\n",
        " u'gastric',\n",
        " u'elements,',\n",
        " u'elements.',\n",
        " u'hybrid.',\n",
        " u'(remembering',\n",
        " u'unlike;',\n",
        " u'marsupials;',\n",
        " u'life,--there',\n",
        " u'startled',\n",
        " u'repetition,\"',\n",
        " u'integrifolia',\n",
        " u'cause.',\n",
        " u'returned',\n",
        " u'MARINE',\n",
        " u'islands?',\n",
        " u'genus)',\n",
        " u'corollary',\n",
        " u'hammering',\n",
        " u'cause;',\n",
        " u'abundance,',\n",
        " u'less-improved',\n",
        " u'Downs,',\n",
        " u'joined',\n",
        " u'transported.',\n",
        " u'softer',\n",
        " u'imperceptible',\n",
        " u'Insects:',\n",
        " u'nor,',\n",
        " u'disappeared,',\n",
        " u'hour,',\n",
        " u'displays',\n",
        " u'hour;',\n",
        " u'care;',\n",
        " u'linear',\n",
        " u'mould.',\n",
        " u'W.,',\n",
        " u'prevailed',\n",
        " u'selection,\"',\n",
        " u'Hymenoptera,',\n",
        " u'astonishingly.\"',\n",
        " u'diverged.',\n",
        " u'converted,',\n",
        " u'Spencer',\n",
        " u'disappeared;',\n",
        " u'tapir;',\n",
        " u'savages.',\n",
        " u'savages,',\n",
        " u'slope',\n",
        " u\"day's\",\n",
        " u'foundation,',\n",
        " u'substance.',\n",
        " u'strata:',\n",
        " u'attendance',\n",
        " u'247,',\n",
        " u'flowers:',\n",
        " u'Egypt,',\n",
        " u'pears',\n",
        " u'Egypt.',\n",
        " u'flowers)',\n",
        " u'gorgeous',\n",
        " u'under,',\n",
        " u'Egypt?',\n",
        " u'meridional',\n",
        " u'restraint',\n",
        " u'door',\n",
        " u'Since',\n",
        " u'permitted?',\n",
        " u'marriage.',\n",
        " u'foundations',\n",
        " u'pleasing',\n",
        " u'vicissitudes',\n",
        " u'Russia;',\n",
        " u'abstract,',\n",
        " u'indicating',\n",
        " u'memoirs',\n",
        " u'wave,',\n",
        " u'convenience.',\n",
        " u'treatment,',\n",
        " u'Sprengel,',\n",
        " u'FOSSILIFEROUS',\n",
        " u'enumerated,',\n",
        " u'struck,',\n",
        " u'ample,',\n",
        " u'instruments,',\n",
        " u'enlarge',\n",
        " u'duck-weed,',\n",
        " u'lanky',\n",
        " u'caused,',\n",
        " u'Instances,',\n",
        " u\"Sprengel's\",\n",
        " u'state:',\n",
        " u'memoir,',\n",
        " u'cases:',\n",
        " u'MEANS',\n",
        " u'(Parus',\n",
        " u'existence.\"',\n",
        " u'conjecture,',\n",
        " u'm6,',\n",
        " u'dialects.',\n",
        " u'dialects,',\n",
        " u'Multiple',\n",
        " u'paper',\n",
        " u'(Anomma)',\n",
        " u'foal',\n",
        " u'coarser',\n",
        " u'missletoes,',\n",
        " u'Paradise,',\n",
        " u'accidental.',\n",
        " u'parent-source;',\n",
        " u'Geography,',\n",
        " u'great:',\n",
        " u'I.',\n",
        " u'stranded,',\n",
        " u'it!',\n",
        " u'wool,',\n",
        " u'weeds',\n",
        " u'passage.',\n",
        " u'Elliot',\n",
        " u'designation',\n",
        " u'corncrakes',\n",
        " u'coping',\n",
        " u'HYBRIDS',\n",
        " u'loosely',\n",
        " u'courses',\n",
        " u'force,',\n",
        " u'Oswald',\n",
        " u'Sounds',\n",
        " u'energetically',\n",
        " u'all;',\n",
        " u'hen.',\n",
        " u'catalogues',\n",
        " u'readily,',\n",
        " u'cotton-planter',\n",
        " u'field-mice,',\n",
        " u'pair;',\n",
        " u'hood',\n",
        " u'404.',\n",
        " u'dose,',\n",
        " u'correct)',\n",
        " u'megatherium',\n",
        " u'abnormally',\n",
        " u'366,',\n",
        " u'Proteolepas:',\n",
        " u'fleetness;',\n",
        " u'wants,',\n",
        " u'attention,',\n",
        " u'curculio,',\n",
        " u'Orchis',\n",
        " u'Dipsacus;',\n",
        " u'contingency',\n",
        " u'clump',\n",
        " u'FAVOURED',\n",
        " u'Catasetum,',\n",
        " u'feet,--characters',\n",
        " u'adduce',\n",
        " u'Reverend',\n",
        " u'SMALL',\n",
        " u\"Waterhouse's\",\n",
        " u'suddenly,',\n",
        " u'insuperable;',\n",
        " u'visited,',\n",
        " u'umbelliferous',\n",
        " u'97.',\n",
        " u'elaboration',\n",
        " u'first,',\n",
        " ...]"
       ]
      }
     ],
     "prompt_number": 18
    },
    {
     "cell_type": "code",
     "collapsed": false,
     "input": [
      "content.split(\".,'?;:'\")"
     ],
     "language": "python",
     "metadata": {},
     "outputs": []
    },
    {
     "cell_type": "markdown",
     "metadata": {},
     "source": [
      "OK, we have a problem. We generated the words of the text by doing a simple `split()`. So our \"words\" also contain punctuation, and words with different capitalization are considered difference."
     ]
    },
    {
     "cell_type": "heading",
     "level": 3,
     "metadata": {},
     "source": [
      "Normalization and Tokenization"
     ]
    },
    {
     "cell_type": "markdown",
     "metadata": {},
     "source": [
      "So, in order to to proper analysis we need to remove from the document all the punctuation. However, keeping only alphanumeric characters will brek things like `B.Sc.` `N.Y.U.` and so on. The process of properly splitting the document into appropriate basic elements is called `tokenization`.\n",
      "\n",
      "NLTK gives us a (set of ) function call(s) that can do the tokenization (see also http://www.nltk.org/_modules/nltk/tokenize.html):"
     ]
    },
    {
     "cell_type": "code",
     "collapsed": false,
     "input": [
      "example = '''Good bagels cost $2.88 in New York.  \n",
      "    Hey Prof. Ipeirotis, please buy me two of them.\n",
      "    \n",
      "    Thanks.\n",
      "    \n",
      "    PS: You have a Ph.D., you can handle this, right?'''\n",
      "\n",
      "print nltk.word_tokenize(example)"
     ],
     "language": "python",
     "metadata": {},
     "outputs": [
      {
       "output_type": "stream",
       "stream": "stdout",
       "text": [
        "['Good', 'bagels', 'cost', '$', '2.88', 'in', 'New', 'York', '.', 'Hey', 'Prof.', 'Ipeirotis', ',', 'please', 'buy', 'me', 'two', 'of', 'them', '.', 'Thanks', '.', 'PS', ':', 'You', 'have', 'a', 'Ph.D.', ',', 'you', 'can', 'handle', 'this', ',', 'right', '?']\n"
       ]
      }
     ],
     "prompt_number": 19
    },
    {
     "cell_type": "code",
     "collapsed": false,
     "input": [
      "s1 = \"On a $50,000 mortgage of 30 years at 8 percent, the monthly payment would be $366.88.\"\n",
      "print nltk.word_tokenize(s1)"
     ],
     "language": "python",
     "metadata": {},
     "outputs": [
      {
       "output_type": "stream",
       "stream": "stdout",
       "text": [
        "['On', 'a', '$', '50,000', 'mortgage', 'of', '30', 'years', 'at', '8', 'percent', ',', 'the', 'monthly', 'payment', 'would', 'be', '$', '366.88', '.']\n"
       ]
      }
     ],
     "prompt_number": 20
    },
    {
     "cell_type": "code",
     "collapsed": false,
     "input": [
      "s2 = \"\\\"We beat some pretty good teams to get here,\\\" Slocum said.\"\n",
      "print nltk.word_tokenize(s2)"
     ],
     "language": "python",
     "metadata": {},
     "outputs": [
      {
       "output_type": "stream",
       "stream": "stdout",
       "text": [
        "['``', 'We', 'beat', 'some', 'pretty', 'good', 'teams', 'to', 'get', 'here', ',', \"''\", 'Slocum', 'said', '.']\n"
       ]
      }
     ],
     "prompt_number": 21
    },
    {
     "cell_type": "code",
     "collapsed": false,
     "input": [
      "s3 = \"Well, we couldn't have this predictable, cliche-ridden, \\\"Touched by an Angel\\\" (a show creator John Masius worked on) wanna-be if she didn't.\"\n",
      "print nltk.word_tokenize(s3)"
     ],
     "language": "python",
     "metadata": {},
     "outputs": [
      {
       "output_type": "stream",
       "stream": "stdout",
       "text": [
        "['Well', ',', 'we', 'could', \"n't\", 'have', 'this', 'predictable', ',', 'cliche-ridden', ',', '``', 'Touched', 'by', 'an', 'Angel', \"''\", '(', 'a', 'show', 'creator', 'John', 'Masius', 'worked', 'on', ')', 'wanna-be', 'if', 'she', 'did', \"n't\", '.']\n"
       ]
      }
     ],
     "prompt_number": 22
    },
    {
     "cell_type": "code",
     "collapsed": false,
     "input": [
      "s4 = \"I cannot cannot work under these conditions!\"\n",
      "print nltk.word_tokenize(s4)"
     ],
     "language": "python",
     "metadata": {},
     "outputs": [
      {
       "output_type": "stream",
       "stream": "stdout",
       "text": [
        "['I', 'can', 'not', 'can', 'not', 'work', 'under', 'these', 'conditions', '!']\n"
       ]
      }
     ],
     "prompt_number": 24
    },
    {
     "cell_type": "code",
     "collapsed": false,
     "input": [
      "s5 = \"The company spent $30,000,000 last year.\"\n",
      "print nltk.word_tokenize(s5)"
     ],
     "language": "python",
     "metadata": {},
     "outputs": [
      {
       "output_type": "stream",
       "stream": "stdout",
       "text": [
        "['The', 'company', 'spent', '$', '30,000,000', 'last', 'year', '.']\n"
       ]
      }
     ],
     "prompt_number": 25
    },
    {
     "cell_type": "code",
     "collapsed": false,
     "input": [
      "s6 = \"The company spent 40.75% of its income last year.\"\n",
      "print nltk.word_tokenize(s6)"
     ],
     "language": "python",
     "metadata": {},
     "outputs": [
      {
       "output_type": "stream",
       "stream": "stdout",
       "text": [
        "['The', 'company', 'spent', '40.75', '%', 'of', 'its', 'income', 'last', 'year', '.']\n"
       ]
      }
     ],
     "prompt_number": 26
    },
    {
     "cell_type": "code",
     "collapsed": false,
     "input": [
      "s7 = \"He arrived at 3:00 pm.\"\n",
      "print nltk.word_tokenize(s7)"
     ],
     "language": "python",
     "metadata": {},
     "outputs": [
      {
       "output_type": "stream",
       "stream": "stdout",
       "text": [
        "['He', 'arrived', 'at', '3:00', 'pm', '.']\n"
       ]
      }
     ],
     "prompt_number": 27
    },
    {
     "cell_type": "code",
     "collapsed": false,
     "input": [
      "s8 = \"I bought these items: books, pencils, and pens.\"\n",
      "print nltk.word_tokenize(s8)"
     ],
     "language": "python",
     "metadata": {},
     "outputs": [
      {
       "output_type": "stream",
       "stream": "stdout",
       "text": [
        "['I', 'bought', 'these', 'items', ':', 'books', ',', 'pencils', ',', 'and', 'pens', '.']\n"
       ]
      }
     ],
     "prompt_number": 28
    },
    {
     "cell_type": "code",
     "collapsed": false,
     "input": [
      "s9 = \"Though there were 150, 100 of them were old.\"\n",
      "print nltk.word_tokenize(s9)"
     ],
     "language": "python",
     "metadata": {},
     "outputs": [
      {
       "output_type": "stream",
       "stream": "stdout",
       "text": [
        "['Though', 'there', 'were', '150', ',', '100', 'of', 'them', 'were', 'old', '.']\n"
       ]
      }
     ],
     "prompt_number": 29
    },
    {
     "cell_type": "code",
     "collapsed": false,
     "input": [
      "s10 = \"There were 300,000, but that wasn't enough.\"\n",
      "print nltk.word_tokenize(s10)"
     ],
     "language": "python",
     "metadata": {},
     "outputs": [
      {
       "output_type": "stream",
       "stream": "stdout",
       "text": [
        "['There', 'were', '300,000', ',', 'but', 'that', 'was', \"n't\", 'enough', '.']\n"
       ]
      }
     ],
     "prompt_number": 30
    },
    {
     "cell_type": "markdown",
     "metadata": {},
     "source": [
      "So, let's repeat the process now for our original text:"
     ]
    },
    {
     "cell_type": "code",
     "collapsed": false,
     "input": [
      "# We tokenize and we also convert to lowercase for further normalization\n",
      "tokens = nltk.word_tokenize(true_content.lower())\n",
      "text = nltk.Text(tokens)\n",
      "\n",
      "# Frequency analysis for words of interest\n",
      "fdist = text.vocab()\n",
      "\n",
      "# Number of unique and total words in the text\n",
      "print(fdist)"
     ],
     "language": "python",
     "metadata": {},
     "outputs": [
      {
       "output_type": "stream",
       "stream": "stdout",
       "text": [
        "<FreqDist with 7687 samples and 175682 outcomes>\n"
       ]
      }
     ],
     "prompt_number": 32
    },
    {
     "cell_type": "markdown",
     "metadata": {},
     "source": [
      "We went from `13908 samples and 155443 outcomes` to `7687 samples and 175682 outcomes`. In other words, we have now 7687 unique tokens, and a set of 175682 tokens, as punctuation characters are now separate tokens."
     ]
    },
    {
     "cell_type": "code",
     "collapsed": false,
     "input": [
      "print fdist.most_common(50)"
     ],
     "language": "python",
     "metadata": {},
     "outputs": [
      {
       "output_type": "stream",
       "stream": "stdout",
       "text": [
        "[(u',', 12594), (u'the', 10288), (u'of', 7851), (u'and', 4439), (u'.', 4045), (u'in', 4016), (u'to', 3605), (u'a', 2465), (u'that', 2083), (u'have', 1762), (u';', 1701), (u'be', 1656), (u'as', 1591), (u'on', 1553), (u'species', 1505), (u'is', 1418), (u'by', 1357), (u'which', 1229), (u'or', 1190), (u'we', 1157), (u'are', 1135), (u'from', 1132), (u'for', 1123), (u'it', 1054), (u'with', 999), (u'not', 995), (u'i', 993), (u'this', 961), (u'been', 931), (u'but', 862), (u'same', 792), (u'other', 753), (u'will', 736), (u'their', 713), (u'at', 689), (u'some', 658), (u'one', 643), (u'can', 642), (u'has', 611), (u'more', 579), (u'all', 553), (u'each', 549), (u'they', 541), (u'so', 517), (u'any', 514), (u'may', 509), (u'an', 506), (u'these', 496), (u'would', 489), (u'many', 451)]\n"
       ]
      }
     ],
     "prompt_number": 33
    },
    {
     "cell_type": "code",
     "collapsed": false,
     "input": [
      "print fdist.hapaxes()"
     ],
     "language": "python",
     "metadata": {},
     "outputs": [
      {
       "output_type": "stream",
       "stream": "stdout",
       "text": [
        "[u'horn-like', u'woody', u'electricity', u'quadruple', u'hardness', u'albumen', u'meadows', u'digit', u'turnspit', u'disturb', u'prize', u'piling', u'south-west', u'ornamental', u'eagle', u'bacon', u'millet', u'errors', u'intellects', u'herd', u'specialise', u'substance', u'unwillingness', u'k', u'golden', u'secluded', u'constantly-recurrent', u'replace', u'remnant', u'presents', u'268.', u'browse', u'impartiality', u'occupying', u'brings', u'whirling', u'hurt', u'glass', u'inwards', u'sphinx-moth', u'girou', u'temperatures', u'wand', u'household', u'dragons', u'caution', u'provincial', u'well-constructed', u'canaries', u'dignified', u'retreating', u'uselessness', u'ptarmigan', u'destined', u'calves', u'keeps', u'ancon', u'dreamed', u'tumbler-pigeon', u'wales', u'imbricate', u'humming-birds', u'preceded', u'displacement', u'precedes', u'substantially', u'398', u'recognising', u'230.', u'faculties', u'over-rate', u'sub-littoral', u'17.', u'wash', u'203', u'tired', u'genesis', u'naturalising', u'idly', u'project', u'idle', u'10/100', u'broody', u'farnham', u'summarily', u'recommended', u'doors', u'diminishing', u'eye-spot', u'detriment', u'incomplete', u'departing', u'gauge', u'hungary', u'capes', u'cousins', u'bush', u'lepidoptera', u'remotest', u'societies', u'traverse', u'rubus', u'smooth-skinned', u'lots', u'scorn', u'glasgow', u'claws', u'nectar-feeding', u'himalayan', u'three-days', u'twenty-three', u'251', u'subside', u'cub', u'foster-brothers', u'elaborate', u'picturing', u'severity', u'shipwrecked', u'dryness', u'emphatic', u'marched', u'probosciformed', u'tune', u'stupendous', u'climber', u'maxima', u'opinions', u'spurred', u'casually', u'survival', u'unequivocally', u'barnacles', u'shadow', u'desire', u'misled', u'coral-producing', u'intermedia', u'creative', u'oscillating', u'long-horns', u'merionethshire', u'well-suited', u'son', u'raiser', u'sow', u'attrition', u'abjectly', u'authorized', u'resulted', u'happy', u'conclusively', u'tasmania', u'armorial', u'genealogy', u'soldering', u'downthrow', u'adopt', u'bright-coloured', u'glacier', u'roll', u'teats', u'demonstrative', u'invested', u'orchidean', u'vestiges', u'woodcocks', u'whoever', u'92', u'oural', u'1854-55', u'reverting', u'chequered', u'settle', u'insignificant', u'waders', u'metaphysicians', u'subsided', u'barb-pigeon', u'sub-genus', u'vitiated', u'melodious', u'radish', u'betraying', u'logically', u'positive', u'dampness', u'sub-tropical', u'odious', u'marbled', u'non-inheritance', u'harmonious', u'tree-frequenting', u'23.', u'inarched', u'parachute', u'hides', u'233', u's2', u'songsters', u'correlate', u'ovaria', u'beaumont', u'93.', u'milked', u'torn', u'suspicion', u'regarding', u'chromatic', u'arriving', u'sorted', u'twilight', u'establishing', u'growths', u'357.', u'cobs', u'navels', u'encyclopaedias', u'seventh', u'workmanship', u'undigested', u'massive', u'whewell', u'conscientiously', u'habitation', u'potted', u'curculio', u'languish', u'2', u'bits', u'lingering', u\"hilaire's\", u'pheasants', u'157.', u'ascendancy', u'prospect', u'tastes', u'emeu', u'unsuitable', u'aside', u'intends', u'cotton-trees', u'488.', u'slurred', u'inserted', u'salt', u'gourd', u'caroline', u'wilfully', u'directed', u'guarded', u'infallibly', u'infallible', u'submerge', u'clearest', u'keenly', u'dampest', u'impressions', u'purest', u'347.', u'umbel', u'impregnated', u'dome', u'conversed', u'justifiable', u'rivalled', u'compels', u'matured', u'singly', u'deg-37', u'fliers', u'pubescence', u'overcome', u'prevalence', u'compatriots', u'sundered', u'321', u'manifold', u'potentiality', u'procreating', u'loftier', u'jarred', u'364.', u'unerring', u'saves', u'inferiors', u'breakage', u'255.', u'..13,190.', u'salt-loving', u'divine', u\"bee's\", u'ten-thousandth', u'countenances', u'transmutation', u'50.', u'reposing', u'dissection', u'meal', u'johnston', u'imago', u'reflexion', u'image', u'ever-increasing', u'betrays', u'futile', u'survives', u'39.', u'secretes', u'brain', u'october', u'severally', u'darker', u'ad', u'gratuitous', u'mountain-range', u'ideally', u'incomprehensibly', u'half-completed', u'incomprehensible', u'a2', u'gastric', u'tricks', u'2300', u'coots', u'integrifolia', u'furcula', u'corollary', u'joined', u'asscher', u'197', u'193', u'19.', u'albemarle', u\"'vestiges\", u'247', u'brutal', u'wing-membrane', u'vetch', u'viz', u'attendance', u'hothouses', u'pears', u'gorgeous', u'rhea', u'door', u'livingstone', u'foundations', u'pleasing', u'indicating', u'evolved', u'prompt', u'dislikes', u'axis', u'hens', u'hugh', u'lanky', u'transposed', u'trade', u'coarser', u'inquiry', u'tyrants', u'severely', u'respire', u'weeds', u'designation', u'corncrakes', u'loosely', u'courses', u'energetically', u'catalogues', u'measurement', u'cotton-planter', u'anxious', u'404.', u'abnormally', u'schists', u'clump', u'arose', u'adduce', u'annelids', u'calculations', u'97.', u'elaboration', u'proteaceae', u'appreciation', u'marriage', u'guarding', u'jostle', u'understands', u'cover', u'micropterus', u'donkeys', u'attacking', u'overwhelmed', u'writer', u'423.', u'dandelion', u'ceasing', u'preparing', u'river', u'insect-agency', u'silla', u'nictitating', u'complemental', u'diminution', u'vesicles', u'influential', u'improves', u'retarded', u'load', u'majesty', u'rosa', u'sees', u'worthless', u'widening', u'sobriety', u'fire', u'39', u'moderation', u'towns', u'four-fifths', u'empirical', u'pound', u'agitation', u'moth', u'nine-tenths', u'chase', u'choking', u'203.', u'459.', u'274.', u'dragon-fly', u'briefest', u'oddest', u'person', u'regulating', u'bark-feeders', u'readers', u'chest', u'couple', u'cataclysm', u'abound', u'109.', u'd', u'sub-variety', u'spine', u'facets', u'kerguelen-land', u'yields', u'alimentary', u'water-insects', u'b.c.', u'novelty', u'buckland', u'behave', u'tidal', u'hatches', u'coelospermous', u'12,000', u'fruit-bearing', u'primarily', u'retrieving', u'custom', u'suit', u'excavating', u'deductions', u'interlock', u'burrows', u'unparalleled', u'reconcile', u'paradox', u'fixing', u'digress', u'ill-applied', u'sails', u'deviate', u'energetic', u'o.', u'faintly', u'feather-footed', u'holes', u'membrane-connected', u'partial', u'softer', u'turkish', u'sows', u'incidentally', u'victor', u'index', u'expresses', u'1400', u'publications', u'cultivators', u'deduced', u'carices', u'resulting', u'grandchild', u'sire', u'334', u'catskill', u'mariners', u'33.', u'ninth', u'inconveniently', u'assuring', u'doubling', u'pencil', u'lucida', u'gladly', u'well-enclosed', u'wedge', u'bend', u'mysteries', u'establishment', u'closely-linking', u'intermigration', u'preferring', u'koulan', u'bamboos', u'thigh', u'insight', u'strewed', u'instruments', u'seawater', u'snake', u'wallowing', u'traced', u'concave', u'vibrations', u'glasses', u'unincubated', u'valve', u'acutest', u'shut', u'gardner', u'rain-water', u'tempt', u'shortest', u'deeply-scooped', u'first-named', u'removing', u'receding', u'stimulate', u'staggered', u'twenty-one', u'manuscript', u'pines', u'scene', u'dogmatize', u'scent', u'traveller', u'travelled', u'behaved', u'coast-ice', u'lot', u'poisons', u'gentle', u'mechanism', u'400.', u'gooseberries', u'carcasses', u'sweeping', u'perceiving', u'opercular', u'atmosphere', u'manchester', u'asylum', u'pause', u'well-sifted', u'terminal', u'loth', u'move', u'capsules', u'exchanges', u'poultry-fancier', u'246.', u'h', u'summon', u'barest', u'cnestis', u'incurable', u'packed', u'supplants', u'164.', u're-performed', u'meridional', u'steadiness', u'336.', u'duckweed', u'feather', u'waste', u'valuations', u'swarmed', u'banish', u'self-sown', u'retarding', u'juan', u'digging', u'restating', u'drink', u'colts', u'357', u'command', u'subgroup', u'gentlest', u'generous', u'combine', u'burthened', u'lepsius', u'government', u'belgium', u\"pictet's\", u'onion', u'stagger', u'imprison', u'indications', u'valvular', u'choosing', u'loaded', u'207.', u're-migrate', u'stags', u'puts', u'pairing', u'startled', u'observes', u'convergence', u'valuation', u'illustrative', u'count', u'deficiency', u'harvested', u'profusion', u'dissemination', u'unenclosed', u'quantities', u'predominant', u'illusion', u'tides', u'319.', u'apertures', u'neighbours', u'encyclopaedia', u'long-enduring', u'29.', u'kestrel', u'295', u'horn', u'deliberate', u'serrated', u'consisting', u'sixty-eight', u'sinks', u'incalculable', u'timber-drift', u'secure', u'marianne', u'discontinuous', u'half-monstrous', u'indians', u'cream-colour', u'fragmentary', u'continual', u'theories', u'indicated', u'cited', u'550', u'indicates', u'indies', u'coral-islands', u'indifferent', u'ruminant', u'steenstrup', u'verify', u'beach', u'thoulouse', u'143.', u'425.', u'thickens', u'nascent', u'fan', u'hieracium', u'agriculturalists', u'devote', u'hereford', u'ticket', u'6.9', u'catawbiense', u'hybridiser', u'450', u'locusts', u'safe', u'bane', u'reconverted', u'purely-bred', u'classified', u'feeds', u'excavations', u'hybridising', u'lifted', u'voyages', u'protuberances', u'strangers', u'dashing', u'baltic', u\"'nature\", u'i.', u'453.', u'inflate', u'paltry', u'grandchildren', u'rock-thrush', u'encumbered', u'constellations', u'elatior', u'subjects', u'circles', u'scutellae', u'insulated', u'sue', u'exercised', u'ouzel', u'germany', u'exercises', u'calculated', u'decidedly', u'7.7', u'appended', u'elucidated', u'deepest', u'pursuing', u'cocci', u'monocanthus', u'haunted', u'runs', u'explanations', u'uninhabited', u'triumphed', u'rivulet', u'gladness', u'widely-spread', u'slugs', u'excretions', u'handful', u'confessedly', u'disservice', u'papilla', u'kitchen', u'coo', u'eyesight', u'tone', u'spear', u'balanus', u'slimmest', u'attacked', u'excite', u'millionth', u'cylinder', u'comparative', u'undulatory', u'demonstration', u'recurrent', u'table-spoonfuls', u'grapple', u'monarch', u'181.', u'crevices', u'rain', u'norwegian', u'greedily', u'engrained', u'musical', u'tabulating', u'criterions', u'farther', u'capt', u'progressed', u'injuring', u'537', u'well-flavoured', u'partridges', u'experimentalist', u'feloniously', u'flatten', u'bore', u'archetype', u'rein-deer', u'unavoidable', u'asking', u'honoured', u'denied', u'gordian', u'constituting', u'hocks', u'treble', u'float', u'rendering', u'deception', u'undiscovered', u'fuchsia', u'tints', u'snowy', u'perpetuity', u'coverings', u'emit', u'digression', u'tenour', u'subsist', u'sub-branches', u'holding', u'saplings', u'unwilling', u'well-filled', u'necessitated', u'heath-plants', u'disturbance', u'forty-six', u'flash', u'compensate', u'infinitesimally', u'rhythm', u'devotes', u'ferociously', u'perceives', u're-covered', u'regret', u'regained', u'wattles', u'scarcity', u'helpless', u'penetrated', u'oaks', u'435.', u'cretacean', u'pea-family', u'precursor', u'bolt', u'sufferers', u'intently', u'entrance', u'aulicum', u'heart', u'grassy', u'hears', u'aphorism', u'purity', u'anteater', u'dispositions', u'sandstone', u'amputated', u'lobe', u'flank', u'deviated', u'ductile', u'mountain-fastnesses', u'seed-beds', u'restate', u'explicit', u'crept', u'fox-hound', u'landrail', u'colt', u'ended', u'm.a.', u'reacting', u'curls', u'emigrants', u'nuthatch', u'introduce', u'susceptibility', u'acknowledging', u'hippobosca', u'pollen-collecting', u'rational', u'intruding', u'obligation', u'vestige', u'linnean', u'vehemently', u'benefited', u'tailless', u'black-barred', u'exerted', u'friend', u'eliminates', u'expanse', u'obstinately', u'appreciated', u'swim-bladders', u'apples', u'troublesome', u'pine-apple', u'interpositions', u'lens-shaped', u'world-ranging', u'breakfast', u'recover', u'windsor', u'neatly', u'rambling', u'leicester', u'209.', u'untrodden', u'reptile', u'symmetrically', u'manuscripts', u'vaginalis', u'ramus', u'effectual', u'burst', u'physically', u'famine', u'actively', u'europeans', u'exterminating', u'suspects', u'antics', u'interspace', u'orthospermous', u'melanism', u'nile', u'enabling', u'linnaean', u'worm-like', u'labours', u'learning', u'cycling', u'rebuild', u'dangers', u'437.', u'wounds', u'less-improved', u'cultivator', u'lemuridae', u'beaver', u'petunia', u'multitudes', u'ship', u'gentlemen', u'followers', u'capybara', u'best-fitted', u'finish', u'attributes', u'drift-timber', u'fantail-pigeons', u'restorations', u'armour', u'ounces', u'legitimately', u'usefully', u'nocturnal', u'using', u'pounds', u'miracle', u'densest', u'1858', u'1859', u'necessitating', u'well-authenticated', u'burthens', u'sixty', u'boldly', u'heated', u'intervention', u'prepare', u'suppositions', u'start', u'stars', u'philosophers', u'hottest', u'dromedary', u'cabbage-flower', u'tones', u'sub-branch', u'moves', u'thither', u'1.41421', u'pool', u'skeleton', u'bull', u'month', u'mutilations', u'inflating', u'concurring', u'propinquity', u'gardener', u'lulls', u'witnessed', u'bituminous', u'witnesses', u'iran', u'answers', u'partakes', u'exceptionally', u'soldier', u'tuco-tuco', u'fred.', u'indolent', u'khan', u'saxony', u'injure', u'captain', u'entails', u'wild-duck', u'commences', u'dray-horse', u'broke', u'f8', u'sub-order', u'stinging', u'exclude', u'foreseen', u'inconceivably', u'germinal', u'inconceivable', u'mother-hen', u'help', u'chalked', u'held', u'turan', u'lateral', u'187.', u'corollas', u'occasions', u'intervene', u'twelfth', u'injured', u'thirteenth', u'deride', u'sketched', u'event', u'presumptuous', u'safety', u'proficience', u'lemur', u'cheering', u'daisy', u'song-thrush', u'dominating', u'.2,240', u'belongs', u'south-eastern', u'anticipate', u'affirmative', u'swallowing', u'seed-raisers', u'pollen-masses', u'kitchen-garden', u'orchidaceous', u'clean', u'perseverance', u'bespeaks', u'unwillingly', u'sub-classes', u'3/4', u'combinations', u'withdrawal', u'lifetimes', u'descriptions', u'greyhound-like', u'spray', u'long-horned', u'experimental', u'deciding', u'climbers', u'persecuted', u'horticulture', u'superinduced', u'blueness', u'sea-coast', u'ganglion', u'assigning', u'extracted', u'straggling', u'263.', u'hopelessly', u'uses', u'cygnoides', u'underlies', u'superincumbent', u'wedges', u'cock-nests', u'weakest', u'migratory', u'764', u'atrophy', u'disseminate', u'decayed', u'possessors', u'exercising', u'march', u'hill-tops', u'capacities', u'albino', u'dung-beetles', u'describing', u'exceeding', u'flank-membrane', u'tracing', u'silence', u'72', u'conscientious', u'consultation', u'war-dance', u'tortoise-shell', u'frost', u'disgorge', u'newer', u'dull', u'dissolves', u'limpid', u'hybridizer', u'ordered', u'peaty', u'amounts', u'creeper', u'forerunner', u'department', u'nay', u'spectators', u'dray', u'regulations', u'graphically', u'ruthlessly', u'antecedent', u'supervene', u'newly-formed', u'underrated', u'berries', u'compact', u'arid', u'excluded', u'short-horns', u'balanidae', u'murderous', u'wave', u'preponderance', u'wasp-combs', u'transposing', u'inspection', u'booty', u'collins', u'versicolor', u'309.', u'haunts', u'64.', u'foresee', u'win', u'metaphor', u'camera', u'clean-feeding', u'reflects', u'started', u'charming', u'rivalry', u'aegyptian', u'drops', u'averages', u'pulling', u'hesitate', u'located', u'aylesbury', u'fare', u'fostered', u'aborigines', u'falklands', u'feels', u'mid-ocean', u'inundated', u'265.', u'subversive', u'chemical', u'exclusion', u'thence', u'306,662,400', u'mode', u'legions', u'upward', u'conceiving', u'w10', u'coerulea', u'ejecting', u'wondrous', u'cephalopodae', u'watermark', u'withering', u'attending', u'transpose', u'20,000', u'shrew', u'wading', u'glories', u'fertilises', u'possessing', u'agouti', u'ground-birds', u'extensor', u'eminence', u'revealed', u'adjoins', u'beard', u'overwhelming', u'herself', u'acaceas', u'distinguishes', u'dive', u'f10', u'capense', u'slow-breeders', u'ponticum', u'pursues', u'truly-inherited', u'prickly', u'233.', u'unfathomable', u'halting', u'south-east', u'371.', u'based', u'mottled-grey', u'arabian', u'attained', u'mortality', u'doubting', u'adherent', u'wishing', u'pimpernel', u'joins', u'ascended', u'incapacity', u'contain', u'unfrequently', u'multiplying', u'faroe', u'immigrant', u'usefulness', u'surmised', u'marshy', u'tens', u'antler', u'kicking', u'key', u'career', u'instituting', u'conjoined', u'shoulders', u'pouter-pigeon', u'nuptial', u'archiac', u'harder', u'rattle-snake', u'exerts', u'europaeo-asiatic', u'conical', u'abounds', u'nightly', u'gestures', u'reflection', u'secrete', u'furriers', u'little-modified', u'42', u'dose', u'sources', u'density', u'260', u'unseen', u'prominent', u'sized', u'rote', u'page', u'phenomena', u'motive', u'proofs', u'bantam', u'cabbages', u'demonstrated', u'journal', u'indented', u'compatible', u'1859.', u'congregate', u'restatement', u'additional', u'zoologist', u'sikkim', u'coarse', u'prophetic', u'gait', u'strengthens', u'quinary', u'fishing-eagles', u'whirlwinds', u'sub-orders', u'finch', u'grallatores', u'blunders', u'emerges', u'pestilence', u'determination', u'protest', u'intermingle', u'contained', u'missletoes', u'teaching', u'undiscoverable', u'carnivora', u'palpi', u'orifices', u'fitness', u'preferences', u'panama', u'commingling', u'land-shell', u'drew', u'100', u'101', u'patches', u'taper', u'rests', u'buckley', u'suitable', u'34.', u'reckoned', u'subsists', u'county', u'ninety', u'spaniards', u'hutches', u'barnacle', u'wary', u'derivation', u'well-worked', u'room', u'rights', u'interposition', u'foliage', u'degenerate', u'masterly', u'ever-acting', u'gall-fly', u'curiosity', u'purchase', u'descends', u'owls', u'pollen-devouring', u'oswald', u'personal', u'subsisted', u'parent-genus', u'downy', u'combination', u'weakness', u'veris', u'flank-membranes', u'fringed', u'went', u'skins', u'collector', u'freely-crossing', u'white-edged', u'partook', u'linear', u'enumerate', u'burgess', u'72,584', u'villages', u'dredge', u'persuade', u'enables', u'ground-feeders', u'chrysalis', u'rattle', u'sounding', u'seek', u'expeditions', u'hybernated', u'dares', u'226.', u'mitigate', u'polyandrous', u'mollusca', u'unanimously', u'above-described', u'hunger', u'thirds', u'divinity', u'sugar', u'sea-shell', u'wearing', u'traversed', u'architecture', u'abodes', u'reference', u'testing', u'alterations', u'voyage', u'half-a-dozen', u'polygamous', u'diluvial', u'wears', u'38.', u'equals', u'conglomerate', u'prudential', u'pertinacious', u'springs', u'brassy', u'erect', u'blenheim', u'intercalated', u'16.', u'spurless', u'personally', u'deepen', u'dipsacus', u'affirm', u'ground-feeding', u'dog-genus', u'ridicule', u'diaphragm', u'273.', u'warmest-clad', u'entitled', u'percolation', u'delight', u'800', u'33', u'hottentot', u'yew', u'quarrelsome', u'roosting', u'escarpments', u'dreams', u'patience', u'manual', u'155.', u'dean', u'paragraphs', u'sphegidae', u'dense', u'invertebrata', u'far-ranging', u'hymenopterous', u'septenary', u'ribs', u'barbarians', u'dock-plant', u'intellectual', u\"animal's\", u'stump', u'approximate', u'lurid', u'starve', u'spike', u'fore', u'228', u'dragon-flies', u'strengthening', u'covers', u'gland', u'magellan', u'graft', u'locality', u'dies', u'journey', u'exported', u'budded', u'potato', u'parcels', u'precipices', u'invent', u'hind-legs', u'retention', u'anticipation', u'deceitful', u'fancies', u'bordered', u'elliptic', u'sea-shores', u'fancied', u'pachydermatous', u'frigate-birds', u'banished', u'armadilloes', u'oscillation', u'shoulder-stripes', u'sacral', u'commonly-assumed', u'dwarf', u'heavily', u'stallion', u'availed', u'french', u'silk-moth', u'operculum', u'battling', u'fleetest', u'bos', u'odour', u'moraine', u'macrauchenia', u'hundred-thousandth', u'ductus', u'capturing', u'soul', u'unimproved', u'entailed', u'thicknesses', u'agent', u'disbelieve', u'coincident', u'felidae', u'parent-source', u'gourds', u'sword', u'143', u'tale', u'stability', u'argued', u'adhesive', u'undermined', u'truest', u'ray-petals', u'captivates', u'14.3', u'hybernating', u'careless', u'eyelid', u'dutch', u'assurance', u'thins', u'grass-feeding', u'foaled', u'suspended', u'sounds', u'endures', u'cracks', u'inferring', u'cuttings', u'entombed', u'wealden', u'spectacle', u'co-existed', u'clung', u'hooded', u'answering', u'interior', u'roguing', u'200', u'argumentum', u'arvensis', u'queens', u'fills', u'bustard', u'canary-birds', u'shot', u'cornea', u'enthusiasm', u'252.', u'exaggeration', u'designated', u'bearings', u'diversities', u'morning', u'nostril', u'apricot', u'finishing', u'924', u'silently', u'stag', u'eliminating', u'pebble', u'cephalopodic', u'ornament', u'mylodon', u'molluscan', u'self-fertilises', u'parental', u'780', u'philosophically', u'amateurs', u'generalisation', u'dislocations', u'grants', u'predicament', u'guinea-fowl', u'civilising', u'1100', u'investigating', u'cock', u'elytra', u'sleeping', u'ferns', u'deduction', u'harsh', u'baga', u'deference', u'assist', u\"d'archiac\", u'disregards', u'stunted', u'bromley', u'aspect', u'beagle', u'64/87', u'long-haired', u'disappointed', u'chamber', u'indisputably', u'pneumaticus', u'fulfil', u'pasture', u'matching', u'gross', u'extensively', u'measuring', u\"author's\", u'intrude', u'373', u'847', u'cetaceans', u'instantaneously', u'violence', u'mounting', u'pastures', u'black-grouse', u'coleoptera', u'decisive', u'laboriously', u'pretends', u'granules', u'musk-rat', u'blackbird', u'palate', u'marsh-species', u'undiminished', u'departments', u'deed', u'tedious', u'glabra', u'revolve', u'conclusive', u'resembled', u'ovary', u'pheasant', u'grebes', u'reevesii', u'preserves', u'turnips', u'plainness', u'norfolk', u'damper', u'bonin', u'creatures', u'storks', u'abraded', u'everlasting', u'habituated', u'favourably', u'inconsiderable', u'ichneumon', u'fatten', u'whimsical', u'armed', u'wanted', u'wing-bar', u'pigeon-fancier', u'landed', u'comorin', u'gravely', u'minimum', u'esquimaux', u'oenas', u'sacred', u'mutable', u'phyllodineous', u'reappeared', u'coat', u'mislead', u'co-exist', u'playing', u'422.', u'fellow-labourers', u'22', u'23', u'29', u'humboldt', u'pimpernels', u'limpet', u'boisterous', u'everyone', u'hare', u'pre-occupation', u'independently-created', u'allusions', u'childish', u'insuperably', u'beginning', u'wither', u'rogues', u'embraces', u'shoal', u'swimbladders', u'thickets', u'182', u'186', u'percentage', u'275.', u'recording', u'messrs.', u'intestine', u'carunculated', u'depending', u'charm', u'founds', u'obligations', u'swelling', u'212', u'cataclysms', u'gills', u'merged', u'racehorse', u'dust', u'permission', u'ferret', u'pellet', u'forty-five', u'doubled', u'oil-bearing', u'vine', u'snow-capped', u'tender', u'parallel-sided', u'enveloped', u'fang', u'bridgewater', u'land-mollusca', u'vascular', u'complement', u'sea-coasts', u'foretel', u'elliot', u'unsuccessful', u'ravaged', u'patiently', u'rivals', u'ensured', u'256.', u'444.', u'resisted', u'replaces', u'solid', u'bill', u'cluster', u'slave-species', u'rigour', u'denominations', u'oak-tree', u'italy', u'ruta', u'ill-fitted', u'field-mice', u'wing-structure', u'craven', u'entry', u'spend', u'superficial', u'cup', u'excites', u'hereditarily', u'valueless', u'18/98', u'18/94', u'queen-bee', u'obliged', u'magnificent', u'decision', u'backward', u'metamorphoses', u'augmenting', u'scaly', u'peculiarly', u'303', u'307', u'drama', u'beans', u'harassed', u'invading', u'frames', u'pronunciation', u'pared', u'famines', u'adjusting', u'gallus', u'planed', u'historically', u'styria', u'impels', u'caraccas', u'consulted', u'necks', u'akber', u'nigra', u'brushing', u'prepared', u'lens', u'intensified', u'acuminata', u'dispassionate', u'cooked', u'amplified', u'graver', u'helps', u'atlas', u'implicitly', u'putting', u'antipode', u'resown', u'mottled', u'rearing', u'knife', u'deg-67', u'crow', u'substituting', u'ill-occupied', u'contingent', u'fat', u'paddle', u'access', u'coarse-haired', u'446', u'geometer', u'safer', u'conceit', u'36', u'powerfully-winged', u'truism', u'trachea', u'lime', u'reciprocity', u'myriads', u'train', u'earth-worms', u'prizes', u'tearing', u'unreal', u'pelicans', u'lamb', u'flap', u'hampshire', u'forest', u'spitz-dog', u'philosophy', u'domesticating', u'seashells', u'fecundation', u'furious', u'horny', u'curling', u'industrious', u'le', u'poison-fang', u'bridged', u'infertile', u'tickled', u'mention', u'february', u'warned', u'codlin-apple', u'putridity', u'suctorial', u'marvelled', u'approached', u'aestivation', u'58.', u'backwards', u'cured', u'overweening', u'facilitate', u'fleshed', u'embarrassed', u'improvements', u'yellow-fleshed', u'spelling', u'humblest', u'guiana', u'turn-crowned', u'bulldog', u'proclaims', u'loved', u'canary-bird', u'unlikely', u'382.', u'gravity', u'bohemia', u'dorsal', u'inexorable', u'enthusiastic', u'frederick', u'germinating', u'definable', u'festooned', u'setter', u'224.', u'prolong', u'digests', u'340.', u'swiftest', u'densities', u'exportation', u'excretes', u'teams', u'135', u'turkeys', u'cut-away', u'attempting', u'monarchs', u'reproduced', u'cauliflower', u'mown', u'exclaim', u\"'journal\", u'enunciation', u'agents', u'm10', u'tremendous', u'seasoned', u'herbage', u'hyacinth', u'arises', u'clusters', u'bulb', u'fellow', u'weighed', u'arrangements', u'partner', u'allocating', u'cock-fighter', u'318.', u'bankiva', u'frivolous', u'close-fitting', u'material', u'retard', u'expense', u'exceedingly', u'simile', u'proximity', u'surpass', u'lake', u'match', u'much-isolated', u'long-legged', u'displaced', u'coypu', u'corroborate', u'rattlesnake', u'economical', u'great-grandfather', u'thinly', u'homopterous', u'lessens', u'andes', u'beaked', u'vegetated', u'guard', u'signify', u'vegetables', u'insured', u'south-western', u'flexible', u'bug', u'connarus', u'glory', u'337.', u'minutes', u'pig', u'relates', u'46', u'fore-arm', u'41', u'oat', u'85', u'draught', u'bladder', u'fecundated', u'highly-important', u'375', u'facilities', u'sleep', u'brackish', u'far-spreading', u'risk', u'vitreous', u'protean', u'supports', u'z10', u'remoteness', u'enjoy', u'parted', u'faintest', u'street', u'supplies', u'exemplifying', u'berardi', u'entertains', u'shortness', u'connoisseur', u'2048', u'well-bred', u'ventured', u'moreton', u'lessening', u'm6', u'm3', u'm2', u'm9', u'correspondingly', u'driver-ant', u'mr', u'flower-feeding', u'ingenuity', u'pyrgoma', u'fulmar', u'predicated', u'hypotheses', u'ultimate', u'foetal', u'expects', u'sickly', u'viti', u'stallion-horse', u'40.', u'exhibits', u'438.', u'diseases', u'roost', u'shadowy', u'combining', u'clothe', u'ennobled', u'trumpeter', u'lain', u'fred', u'evil', u'calcareous', u'congener', u'equine', u'correctness', u'habitations', u'presumptive', u'philosophical', u'245.', u'perching', u'inconvenient', u'unbroken', u'tool', u'fossilised', u'1600', u'displays', u'bridge', u'donkey', u'fashion', u'ran', u'laugher', u'196.', u'degenerated', u'323.', u'pelargoniums', u'335.', u'ribston-pippin', u'prevails', u'attested', u'imperceptible', u'currants', u'diminish', u'pollen-granules', u'54.', u'spitz', u'bevelled', u'watch', u'fluid', u'igneous', u'straits', u'polecats', u'fully-stocked', u'beg', u'semi-civilised', u'feline', u'grandmother', u'long-backed', u'366', u'367', u'bellowing', u'rims', u'devour', u'fault', u'extracts', u'superabundant', u'unaccountable', u'comprehension', u'truss', u'craft', u'mongrelized', u'super-added', u'kingfisher', u'osculant', u'zoologists', u'thousandth', u'483.', u'cracked', u'ramifications', u'utilitarian', u'preconceived', u'shortly', u'paralysed', u'hearty', u'outnumbered', u'leagues', u'pianoforte', u'scattering', u'gave', u'mounds', u'breaks', u'sussex', u'burnt', u'melting', u'zeal', u'gifted', u'53', u'overrated', u'clubs', u'precautions', u'rapidity', u'42.', u'icy', u'corn', u'corn-crake', u'hairiness', u'plum', u'poorly-stocked', u'obtaining', u'naturalized', u'finely', u'nuisance', u'virgin', u'brackish-water', u'purposely', u'gallinaceae', u'removes', u'nicely-balanced', u'satisfactorily', u'glottis', u'flavour', u'consequences', u'phosphate', u'southernmost', u'ensues', u'forearm', u'shines', u'willingly', u'intellect', u'permitting', u'propelling', u'countenancing', u'flushed', u'thorax', u'vetches', u'kitty-wrens', u'focus', u'roy', u'displaying', u'row', u'sub-stages', u'abhorrent', u'weakening', u'exalted', u'thawed', u'procreation', u'partitions', u'plantigrades', u'impressive', u'encroach', u'seaweed', u'leg-stripes', u'drier', u'widened', u'52.', u'spire', u'agrees', u'amounting', u'hairy', u'chiton', u'supplying', u'wolf-like', u'vicissitudes', u'emerge', u'inducing', u'1st', u'swallowed', u'isles', u'vivid', u'wing-cases', u'flexures', u'fancifully', u'garden-stock', u'laughter', u'attain', u'figure', u'endowing', u'tinted', u'requirements', u'1', u'game-cock', u'4th', u'eighth', u'rollin', u'glancing', u'cosmogonists', u'inosculation', u'sageret', u'semi-monstrous', u'realise', u'unproductive', u'putrid', u'kent', u'best-known', u'prehension', u'unborn', u'1000', u'malacca', u'array', u'stuck', u'fuegia', u'economising', u'specify', u'unfortunately', u'scotch-fir-tree', u'indelible', u'pencils', u'annua', u'just-hatched', u'dorking', u'slope', u'rape-seed', u'workshops', u'homology', u'obstinacy', u\"birds'-nests\", u'cautioned', u'lighten', u'expectation', u'workman', u'aerating', u'spaniard', u'review', u'insect-species', u'harmonises', u'well-pronounced', u'efficiency', u'quiet', u'propagation', u'6', u'camel-hair', u'64', u'66', u'skeletons', u'swift', u'peaceful', u'root-bearing', u'tachytes', u'conjointly', u'cast', u'mound', u'unsatisfactory', u'revolutions', u'reminded', u'agitated', u'frequented', u'lowly-organised', u'mockery', u'persons', u'statue', u'plumule', u'hill-variety', u'relief', u'relied', u'inability', u'model', u'justify', u'desolate', u'tip', u'violent', u'differentiation', u'guides', u'captured', u'interested', u'kills', u'inordinate', u'lava-streams', u'reduces', u'deduce', u'prolific', u'colchicus', u'polyerges', u'freed', u'ovaries', u'inspect', u'terrified', u'affording', u'concurrent', u'tribe', u'breakwater', u'cent', u'discharge', u'sweet-peas', u'disposed', u'750', u'relic', u'knife-edged', u'75.', u'applying', u'pinnate', u'red-grouse', u'heather', u'malconformation', u'310.', u'oneself', u'gutenberg', u'courtly', u'409.', u'calls', u'concern', u'four-hundredth', u'..57,154.', u'opportunities', u'painter', u'subsides', u'induce', u'worst', u'hemp', u'grandfather', u'singularly', u'employing', u'design', u'deeply-seated', u'asiatic', u'observing', u\"d'orbigny\", u'sticking', u'long-toed', u'366.', u'sub-stage', u'presumed', u'commanded', u'joints', u'protects', u'imitation', u'cultivate', u'court', u'broadly', u'ubiquitous', u'torquatus', u'proclaimed', u'archipelagos', u'groundless', u'shore', u'shade', u'closeness', u'inquiries', u'harmless', u'alighting', u'clouds', u'repulsed', u'intricacy', u'multiform', u'stroked', u'retrievers', u'characterized', u'dovecot-pigeon', u'loops', u'reverent', u'adhere', u'disbelieves', u'reverend', u'paradise', u'celebes', u'prejudice', u'fallen', u'limestone', u'enlarges', u'construct', u'flycatcher', u'hollows', u'strickland', u'magician', u'argillaceous', u'shrike', u'obstacles', u'respires', u'strengthen', u'sagaciously', u'hominem', u'bantams', u'reckon', u'measures', u'76', u'adder', u'revolutum', u'78', u'mineral', u'scantily', u'104.', u'430.', u'securing', u'betray', u'widely-extended', u'shepherd', u'hit', u'invoke', u'declined', u'surmounted', u'jackals', u'atolls', u'roman', u'sloth', u'regulated', u'sea-weeds', u'startling', u'complication', u'scented', u'homologise', u'latterly', u'precision', u'vaguely', u'demand', u'localisation', u'fernandez', u'serratures', u'quail', u'lengthy', u'meridians', u'longmynd', u'self-action', u'restraint', u'sagacious', u'birch', u'equalled', u'bastard-wing', u'dezertas', u'machinery', u'stating', u'268', u'corroborates', u'tamer', u'heaths', u'fossorial', u'litter', u'filiation', u'far-extended', u'hosts', u'411.', u'lose', u'perpendicular', u'intense', u'plantaginea', u'sea-currents', u'nectar-excreting', u'fluttering', u'credible', u're-converted', u'deafness', u'persevering', u'variously', u'canal', u'smoothly', u\"lyell's\", u'upright', u'penguin', u'consist', u'peach', u'marching', u'shallower', u'mock', u'thirty-two', u'teazle', u'halting-place', u'264.', u'pottery', u'suffers', u\"'introduction\", u'weights', u'ternary', u'resistance', u'winds', u'disposal', u'355.', u'snipes', u'talons', u'earless', u'bounding', u'paternity', u'poisonous', u'snails', u'concludes', u'protrude', u'hourly', u'disentangle', u'chose', u'steadily-increasing', u'settling', u'detritus', u'shades', u'radicle', u'snap-dragon', u'scales', u'302.', u'water-breathing', u'hardy', u'consumption', u'expanding', u'rarest', u'stipules', u'sore', u'paralleled', u'calculation', u'tax', u'commonness', u'galls', u'nearness', u'attend', u'immersed', u'nestlings', u'disproportionably', u'crawling', u'ovipositor', u'elie', u'tyrant', u'134', u'139', u'longitudinal', u'edging', u'fructification', u'property', u'impaired', u'sternum', u'six-days', u'queen-wasp', u'87', u'category', u'acknowledgment', u'sentiment', u'overtopping', u'performs', u'ponies', u'g', u'stumps', u'obscurity', u'connaraceae', u'eleventh', u'primordially', u'marvelling', u'65.', u'misunderstood', u'doomed', u'liquid', u'boring', u'limiting', u'388.', u'ramifying', u'progressively', u'digestive', u'alarmed', u'flappers', u'wasp-like', u'typical', u'imagining', u'sceptical', u'pleases', u'purely', u'disjoined', u'brushwood', u'distincter', u'widely-distributed', u'penetrate', u'spur', u'quaternary', u'truer', u'natatory', u'admonition', u'merits', u'leaf-eating', u'malconformations', u'449.', u'projecting', u'ability', u'opening', u'withstanding', u'1837', u'greensand', u'grounds', u'short-horn', u'withdrawn', u'ant-eaters', u'tissues', u'blood-descendants', u'interstices', u'fearful', u'danger-chuckle', u'poultry-shows', u'hovering', u'medicinal', u'gizzard', u'fossil-fish', u'dicotyledonous', u'disinterred', u'flitting', u'grandeur', u'hammering', u'succulent', u'conceived', u'beast', u'laborious', u'appropriated', u'inactive', u'monochanthus', u'console', u'goodwood', u'sick', u'dark-coloured', u'hybridisers', u'overmaster', u'press', u'herons', u'promontory', u'111', u'110', u'112', u'comb-making', u'obey', u'dangling', u'naturalization', u'universe', u'dependency', u'urges', u'polished', u'sea-lizards', u'brambles', u'fewness', u'transformed', u'convalescence', u'florists', u'instructive', u'fossilized', u'1747', u'gnawing', u'endowments', u'trailing', u'quails', u'puffinuria', u'readiest', u'intentionally', u'volumes']\n"
       ]
      }
     ],
     "prompt_number": 36
    },
    {
     "cell_type": "code",
     "collapsed": false,
     "input": [
      "print len (fdist.hapaxes())"
     ],
     "language": "python",
     "metadata": {},
     "outputs": [
      {
       "output_type": "stream",
       "stream": "stdout",
       "text": [
        "2666\n"
       ]
      }
     ],
     "prompt_number": 37
    },
    {
     "cell_type": "markdown",
     "metadata": {},
     "source": [
      "So out of the 7687 unique words, 2666 of them appear only once in the text. But these are only 2666 out of the total of 175682 words in the text. This is ~1.5% of the text."
     ]
    },
    {
     "cell_type": "heading",
     "level": 4,
     "metadata": {},
     "source": [
      "Sentence splitting"
     ]
    },
    {
     "cell_type": "markdown",
     "metadata": {},
     "source": [
      "The tokenization process can also work on separating sentences"
     ]
    },
    {
     "cell_type": "code",
     "collapsed": false,
     "input": [
      "example = '''Good bagels cost $2.88 in N.Y.C. Hey Prof. Ipeirotis, please buy me two of them.\n",
      "    \n",
      "    Thanks.\n",
      "    \n",
      "    PS: You have a Ph.D. you can handle this, right?'''\n",
      "\n",
      "print nltk.sent_tokenize(example)"
     ],
     "language": "python",
     "metadata": {},
     "outputs": [
      {
       "output_type": "stream",
       "stream": "stdout",
       "text": [
        "['Good bagels cost $2.88 in N.Y.C.', 'Hey Prof. Ipeirotis, please buy me two of them.', 'Thanks.', 'PS: You have a Ph.D. you can handle this, right?']\n"
       ]
      }
     ],
     "prompt_number": 38
    },
    {
     "cell_type": "heading",
     "level": 4,
     "metadata": {},
     "source": [
      "Zipf's Law"
     ]
    },
    {
     "cell_type": "markdown",
     "metadata": {},
     "source": [
      "Zipf's law says that the frequencies of words in text follow a power-law: A few words account for a big fraction of the text (the very frequent ones, usually just the \"plumping\" of English), and a large fraction of the unique vocabularly (the \"hapaxes\") appear very infrequently."
     ]
    },
    {
     "cell_type": "code",
     "collapsed": false,
     "input": [
      "fdist.plot(100, cumulative=False)"
     ],
     "language": "python",
     "metadata": {},
     "outputs": [
      {
       "metadata": {},
       "output_type": "display_data",
       "png": "[encoded data removed]",
       "text": [
        "<matplotlib.figure.Figure at 0x7fc1dfca0f10>"
       ]
      }
     ],
     "prompt_number": 39
    },
    {
     "cell_type": "code",
     "collapsed": false,
     "input": [
      "fdist.plot(100, cumulative=True)"
     ],
     "language": "python",
     "metadata": {},
     "outputs": [
      {
       "metadata": {},
       "output_type": "display_data",
       "png": "[encoded data removed]",
       "text": [
        "<matplotlib.figure.Figure at 0x7fc1d9d99b10>"
       ]
      }
     ],
     "prompt_number": 40
    },
    {
     "cell_type": "markdown",
     "metadata": {},
     "source": [
      "#### Normalization: Stopwords\n",
      "\n",
      "NLTK contains a corpus of stopwords, that is, high-frequency words like `the`, `to` and `also` that we sometimes want to filter out of a document before further processing. Stopwords usually have little lexical content, and their presence in a text fails to distinguish it from other texts."
     ]
    },
    {
     "cell_type": "code",
     "collapsed": false,
     "input": [
      "from nltk.corpus import stopwords\n",
      "\n",
      "print stopwords.words('english')\n",
      "\n"
     ],
     "language": "python",
     "metadata": {},
     "outputs": [
      {
       "output_type": "stream",
       "stream": "stdout",
       "text": [
        "[u'i', u'me', u'my', u'myself', u'we', u'our', u'ours', u'ourselves', u'you', u'your', u'yours', u'yourself', u'yourselves', u'he', u'him', u'his', u'himself', u'she', u'her', u'hers', u'herself', u'it', u'its', u'itself', u'they', u'them', u'their', u'theirs', u'themselves', u'what', u'which', u'who', u'whom', u'this', u'that', u'these', u'those', u'am', u'is', u'are', u'was', u'were', u'be', u'been', u'being', u'have', u'has', u'had', u'having', u'do', u'does', u'did', u'doing', u'a', u'an', u'the', u'and', u'but', u'if', u'or', u'because', u'as', u'until', u'while', u'of', u'at', u'by', u'for', u'with', u'about', u'against', u'between', u'into', u'through', u'during', u'before', u'after', u'above', u'below', u'to', u'from', u'up', u'down', u'in', u'out', u'on', u'off', u'over', u'under', u'again', u'further', u'then', u'once', u'here', u'there', u'when', u'where', u'why', u'how', u'all', u'any', u'both', u'each', u'few', u'more', u'most', u'other', u'some', u'such', u'no', u'nor', u'not', u'only', u'own', u'same', u'so', u'than', u'too', u'very', u's', u't', u'can', u'will', u'just', u'don', u'should', u'now']\n"
       ]
      }
     ],
     "prompt_number": 42
    },
    {
     "cell_type": "markdown",
     "metadata": {},
     "source": [
      "Let's define a function to remove the words in a text are in the stopwords list:"
     ]
    },
    {
     "cell_type": "code",
     "collapsed": false,
     "input": [
      "mystops = []\n",
      "mystops.append('one')\n",
      "mystops.append('may')\n",
      "mystops.append('would')\n",
      "mystops.append('many')\n",
      "\n",
      "def remove_stopwords(text, hapaxes):\n",
      "    stopwords = nltk.corpus.stopwords.words('english')\n",
      "    content = [w for w in text if w.lower() not in stopwords \\\n",
      "               and w.lower() not in mystops\n",
      "               and w.isalpha() \\\n",
      "               and w.lower() not in hapaxes]\n",
      "    return nltk.Text(content)\n",
      "\n",
      "text_nostopwords = remove_stopwords(text, fdist.hapaxes())\n",
      "fdist_nostopwords = text_nostopwords.vocab()\n",
      "print fdist_nostopwords"
     ],
     "language": "python",
     "metadata": {},
     "outputs": [
      {
       "output_type": "stream",
       "stream": "stdout",
       "text": [
        "<FreqDist with 4432 samples and 71060 outcomes>\n"
       ]
      }
     ],
     "prompt_number": 47
    },
    {
     "cell_type": "code",
     "collapsed": false,
     "input": [
      "print fdist_nostopwords.most_common(50)"
     ],
     "language": "python",
     "metadata": {},
     "outputs": [
      {
       "output_type": "stream",
       "stream": "stdout",
       "text": [
        "[(u'species', 1505), (u'varieties', 428), (u'selection', 414), (u'forms', 397), (u'natural', 382), (u'two', 343), (u'plants', 334), (u'life', 306), (u'several', 306), (u'animals', 292), (u'case', 282), (u'different', 282), (u'thus', 273), (u'see', 270), (u'nature', 261), (u'great', 261), (u'distinct', 257), (u'new', 253), (u'period', 245), (u'could', 234), (u'must', 233), (u'much', 230), (u'cases', 225), (u'structure', 224), (u'conditions', 222), (u'believe', 216), (u'genera', 213), (u'even', 210), (u'long', 203), (u'number', 202), (u'yet', 201), (u'often', 200), (u'generally', 199), (u'first', 198), (u'common', 197), (u'far', 195), (u'time', 195), (u'though', 194), (u'degree', 191), (u'become', 185), (u'another', 184), (u'characters', 183), (u'groups', 178), (u'might', 175), (u'certain', 174), (u'large', 172), (u'less', 172), (u'view', 168), (u'modification', 165), (u'instance', 165)]\n"
       ]
      }
     ],
     "prompt_number": 49
    },
    {
     "cell_type": "code",
     "collapsed": false,
     "input": [
      "fdist_nostopwords.plot(100, cumulative=True)"
     ],
     "language": "python",
     "metadata": {},
     "outputs": [
      {
       "metadata": {},
       "output_type": "display_data",
       "png": "[encoded data removed]",
       "text": [
        "<matplotlib.figure.Figure at 0x7fc1e0a31d90>"
       ]
      }
     ],
     "prompt_number": 50
    },
    {
     "cell_type": "markdown",
     "metadata": {},
     "source": [
      "#### Normalization: Stemming \n",
      "\n",
      "So far, the only normalization that we did is to convert text to lowercase before doing anything with its words, e.g. `set(w.lower() for w in text)`. By using lower(), we have normalized the text to lowercase so that the distinction between `The` and `the` is ignored. Often we want to go further than this, and strip off any affixes, a task known as **stemming**. \n",
      "\n",
      "NLTK includes several off-the-shelf stemmers, and if you ever need a stemmer you should use one of these. The Porter stemmer is a very well-known stemmer, and should suffice for most of our applications. \n"
     ]
    },
    {
     "cell_type": "code",
     "collapsed": false,
     "input": [
      "raw = \"\"\"DENNIS: Listen, strange women lying in ponds distributing swords\n",
      "is no basis for a system of government.  Supreme executive power derives from\n",
      "a mandate from the masses, not from some farcical aquatic ceremony.\"\"\"\n",
      "\n",
      "tok = nltk.word_tokenize(raw)\n",
      "\n",
      "porter = nltk.PorterStemmer()\n",
      "stemmed =  [porter.stem(t) for t in tok]\n",
      "\n",
      "# This idiom concatenates all the words in a list. \n",
      "# The call is s.join(list), where we join the element \n",
      "# of the list using the string s as the concatenacting character\n",
      "print \" \".join(stemmed) "
     ],
     "language": "python",
     "metadata": {},
     "outputs": [
      {
       "output_type": "stream",
       "stream": "stdout",
       "text": [
        "DENNI : Listen , strang women lie in pond distribut sword is no basi for a system of govern . Suprem execut power deriv from a mandat from the mass , not from some farcic aquat ceremoni .\n"
       ]
      }
     ],
     "prompt_number": 53
    },
    {
     "cell_type": "markdown",
     "metadata": {},
     "source": [
      "#### Normalization: Lemmatization\n",
      "\n",
      "A further step in the normalization process is to make sure that the resulting form is a known word in a dictionary, a task known as **lemmatization**. The WordNet lemmatizer only removes affixes if the resulting word is in its dictionary. This additional checking process makes the lemmatizer slower than the above stemmers. Notice that it doesn't handle lying, but it converts women to woman."
     ]
    },
    {
     "cell_type": "code",
     "collapsed": false,
     "input": [
      "raw = \"\"\"DENNIS: Listen, strange women lying in ponds distributing swords\n",
      "is no basis for a system of government.  Supreme executive power derives from\n",
      "a mandate from the masses, not from some farcical aquatic ceremony.\"\"\"\n",
      "tok = nltk.word_tokenize(raw)\n",
      "\n",
      "wnl = nltk.WordNetLemmatizer()\n",
      "lemmatized =  [wnl.lemmatize(t) for t in tok]\n",
      "print \" \".join(lemmatized) "
     ],
     "language": "python",
     "metadata": {},
     "outputs": [
      {
       "output_type": "stream",
       "stream": "stdout",
       "text": [
        "DENNIS : Listen , strange woman lying in pond distributing sword is no basis for a system of government . Supreme executive power derives from a mandate from the mass , not from some farcical aquatic ceremony .\n"
       ]
      }
     ],
     "prompt_number": 55
    },
    {
     "cell_type": "markdown",
     "metadata": {},
     "source": [
      "But what is this WordNet? It is one of the most useful resources for anyone interested in analyzing text at a more semantic level than simply frequency counts"
     ]
    },
    {
     "cell_type": "markdown",
     "metadata": {},
     "source": [
      "### WordNet\n",
      "\n",
      "WordNet is a semantically-oriented dictionary of English, similar to a traditional thesaurus but with a richer structure. NLTK includes the English WordNet, with 155,287 words and 117,659 synonym sets. We'll begin by looking at synonyms and how they are accessed in WordNet.\n",
      "\n",
      "####  Senses and Synonyms\n",
      "\n",
      "Consider the sentence below. If we replace the word motorcar in by automobile, the meaning of the sentence stays pretty much the same:\n",
      "\n",
      "* Benz is credited with the invention of the motorcar.\n",
      "* Benz is credited with the invention of the automobile.\n",
      "\n",
      "Since everything else in the sentence has remained unchanged, we can conclude that the words motorcar and automobile have the same meaning, i.e. they are **synonyms**. We can explore these words with the help of WordNet:"
     ]
    },
    {
     "cell_type": "code",
     "collapsed": false,
     "input": [
      "from nltk.corpus import wordnet as wn\n",
      "wn.synsets('motorcar')"
     ],
     "language": "python",
     "metadata": {},
     "outputs": [
      {
       "metadata": {},
       "output_type": "pyout",
       "prompt_number": 56,
       "text": [
        "[Synset('car.n.01')]"
       ]
      }
     ],
     "prompt_number": 56
    },
    {
     "cell_type": "markdown",
     "metadata": {},
     "source": [
      "Thus, motorcar has just one possible meaning and it is identified as car.n.01, the first noun sense of car. The entity car.n.01 is called a **synset**, or **\"synonym set\"**, a collection of synonymous words (or \"lemmas\"):"
     ]
    },
    {
     "cell_type": "code",
     "collapsed": false,
     "input": [
      " wn.synset('car.n.01').lemma_names()"
     ],
     "language": "python",
     "metadata": {},
     "outputs": [
      {
       "metadata": {},
       "output_type": "pyout",
       "prompt_number": 57,
       "text": [
        "[u'car', u'auto', u'automobile', u'machine', u'motorcar']"
       ]
      }
     ],
     "prompt_number": 57
    },
    {
     "cell_type": "markdown",
     "metadata": {},
     "source": [
      "Each word of a synset can have several meanings, e.g., car can also signify a train carriage, a gondola, or an elevator car. However, we are only interested in the single meaning that is common to all words of the above synset. Synsets also come with a prose definition and some example sentences:"
     ]
    },
    {
     "cell_type": "code",
     "collapsed": false,
     "input": [
      "wn.synset('car.n.01').definition()"
     ],
     "language": "python",
     "metadata": {},
     "outputs": [
      {
       "metadata": {},
       "output_type": "pyout",
       "prompt_number": 58,
       "text": [
        "u'a motor vehicle with four wheels; usually propelled by an internal combustion engine'"
       ]
      }
     ],
     "prompt_number": 58
    },
    {
     "cell_type": "code",
     "collapsed": false,
     "input": [
      "wn.synset('car.n.01').examples()"
     ],
     "language": "python",
     "metadata": {},
     "outputs": [
      {
       "metadata": {},
       "output_type": "pyout",
       "prompt_number": 59,
       "text": [
        "[u'he needs a car to get to work']"
       ]
      }
     ],
     "prompt_number": 59
    },
    {
     "cell_type": "markdown",
     "metadata": {},
     "source": [
      "Although definitions help humans to understand the intended meaning of a synset, the words of the synset are often more useful for our programs. To eliminate ambiguity, we will identify these words as car.n.01.automobile, car.n.01.motorcar, and so on. This pairing of a synset with a word is called a **lemma**. We can get all the lemmas for a given synset, look up a particular lemma, get the synset corresponding to a lemma, and get the \"name\" of a lemma:"
     ]
    },
    {
     "cell_type": "code",
     "collapsed": false,
     "input": [
      "wn.synset('car.n.01').lemmas() "
     ],
     "language": "python",
     "metadata": {},
     "outputs": [
      {
       "metadata": {},
       "output_type": "pyout",
       "prompt_number": 60,
       "text": [
        "[Lemma('car.n.01.car'),\n",
        " Lemma('car.n.01.auto'),\n",
        " Lemma('car.n.01.automobile'),\n",
        " Lemma('car.n.01.machine'),\n",
        " Lemma('car.n.01.motorcar')]"
       ]
      }
     ],
     "prompt_number": 60
    },
    {
     "cell_type": "code",
     "collapsed": false,
     "input": [
      "wn.lemma('car.n.01.automobile')"
     ],
     "language": "python",
     "metadata": {},
     "outputs": [
      {
       "metadata": {},
       "output_type": "pyout",
       "prompt_number": 61,
       "text": [
        "Lemma('car.n.01.automobile')"
       ]
      }
     ],
     "prompt_number": 61
    },
    {
     "cell_type": "code",
     "collapsed": false,
     "input": [
      "wn.lemma('car.n.01.automobile').synset()"
     ],
     "language": "python",
     "metadata": {},
     "outputs": [
      {
       "metadata": {},
       "output_type": "pyout",
       "prompt_number": 62,
       "text": [
        "Synset('car.n.01')"
       ]
      }
     ],
     "prompt_number": 62
    },
    {
     "cell_type": "code",
     "collapsed": false,
     "input": [
      "wn.lemma('car.n.01.automobile').name()"
     ],
     "language": "python",
     "metadata": {},
     "outputs": [
      {
       "metadata": {},
       "output_type": "pyout",
       "prompt_number": 63,
       "text": [
        "u'automobile'"
       ]
      }
     ],
     "prompt_number": 63
    },
    {
     "cell_type": "markdown",
     "metadata": {},
     "source": [
      "Now let's analyze the word `car`, which has multiple **senses** (ie., meanings of the word)"
     ]
    },
    {
     "cell_type": "code",
     "collapsed": false,
     "input": [
      "senses = [(s.lemma_names(), s.definition(), s.examples()) for s in wn.synsets('car')]\n",
      "for s in senses:\n",
      "    print \"Lemma name:\", s[0]\n",
      "    print \"Definition:\", s[1]\n",
      "    print \"Examples  :\", s[2]\n",
      "    print \"=======================\""
     ],
     "language": "python",
     "metadata": {},
     "outputs": [
      {
       "output_type": "stream",
       "stream": "stdout",
       "text": [
        "Lemma name: [u'car', u'auto', u'automobile', u'machine', u'motorcar']\n",
        "Definition: a motor vehicle with four wheels; usually propelled by an internal combustion engine\n",
        "Examples  : [u'he needs a car to get to work']\n",
        "=======================\n",
        "Lemma name: [u'car', u'railcar', u'railway_car', u'railroad_car']\n",
        "Definition: a wheeled vehicle adapted to the rails of railroad\n",
        "Examples  : [u'three cars had jumped the rails']\n",
        "=======================\n",
        "Lemma name: [u'car', u'gondola']\n",
        "Definition: the compartment that is suspended from an airship and that carries personnel and the cargo and the power plant\n",
        "Examples  : []\n",
        "=======================\n",
        "Lemma name: [u'car', u'elevator_car']\n",
        "Definition: where passengers ride up and down\n",
        "Examples  : [u'the car was on the top floor']\n",
        "=======================\n",
        "Lemma name: [u'cable_car', u'car']\n",
        "Definition: a conveyance for passengers or freight on a cable railway\n",
        "Examples  : [u'they took a cable car to the top of the mountain']\n",
        "=======================\n"
       ]
      }
     ],
     "prompt_number": 64
    },
    {
     "cell_type": "code",
     "collapsed": false,
     "input": [
      "## your code here: Analyze the word \"bank\"\n",
      "senses = [(s.lemma_names(), s.definition(), s.examples()) for s in wn.synsets('cat')]\n",
      "for s in senses:\n",
      "    print \"Lemma name:\", s[0]\n",
      "    print \"Definition:\", s[1]\n",
      "    print \"Examples  :\", s[2]\n",
      "    print \"=======================\""
     ],
     "language": "python",
     "metadata": {},
     "outputs": [
      {
       "output_type": "stream",
       "stream": "stdout",
       "text": [
        "Lemma name: [u'cat', u'true_cat']\n",
        "Definition: feline mammal usually having thick soft fur and no ability to roar: domestic cats; wildcats\n",
        "Examples  : []\n",
        "=======================\n",
        "Lemma name: [u'guy', u'cat', u'hombre', u'bozo']\n",
        "Definition: an informal term for a youth or man\n",
        "Examples  : [u'a nice guy', u\"the guy's only doing it for some doll\"]\n",
        "=======================\n",
        "Lemma name: [u'cat']\n",
        "Definition: a spiteful woman gossip\n",
        "Examples  : [u'what a cat she is!']\n",
        "=======================\n",
        "Lemma name: [u'kat', u'khat', u'qat', u'quat', u'cat', u'Arabian_tea', u'African_tea']\n",
        "Definition: the leaves of the shrub Catha edulis which are chewed like tobacco or used to make tea; has the effect of a euphoric stimulant\n",
        "Examples  : [u'in Yemen kat is used daily by 85% of adults']\n",
        "=======================\n",
        "Lemma name: [u\"cat-o'-nine-tails\", u'cat']\n",
        "Definition: a whip with nine knotted cords\n",
        "Examples  : [u'British sailors feared the cat']\n",
        "=======================\n",
        "Lemma name: [u'Caterpillar', u'cat']\n",
        "Definition: a large tracked vehicle that is propelled by two endless metal belts; frequently used for moving earth in construction and farm work\n",
        "Examples  : []\n",
        "=======================\n",
        "Lemma name: [u'big_cat', u'cat']\n",
        "Definition: any of several large cats typically able to roar and living in the wild\n",
        "Examples  : []\n",
        "=======================\n",
        "Lemma name: [u'computerized_tomography', u'computed_tomography', u'CT', u'computerized_axial_tomography', u'computed_axial_tomography', u'CAT']\n",
        "Definition: a method of examining body organs by scanning them with X rays and using a computer to construct a series of cross-sectional scans along a single axis\n",
        "Examples  : []\n",
        "=======================\n",
        "Lemma name: [u'cat']\n",
        "Definition: beat with a cat-o'-nine-tails\n",
        "Examples  : []\n",
        "=======================\n",
        "Lemma name: [u'vomit', u'vomit_up', u'purge', u'cast', u'sick', u'cat', u'be_sick', u'disgorge', u'regorge', u'retch', u'puke', u'barf', u'spew', u'spue', u'chuck', u'upchuck', u'honk', u'regurgitate', u'throw_up']\n",
        "Definition: eject the contents of the stomach through the mouth\n",
        "Examples  : [u'After drinking too much, the students vomited', u'He purged continuously', u'The patient regurgitated the food we gave him last night']\n",
        "=======================\n"
       ]
      }
     ],
     "prompt_number": 71
    },
    {
     "cell_type": "heading",
     "level": 4,
     "metadata": {},
     "source": [
      "The WordNet Hierarchy"
     ]
    },
    {
     "cell_type": "markdown",
     "metadata": {},
     "source": [
      "WordNet synsets correspond to abstract concepts, and they don't always have corresponding words in English. These concepts are linked together in a hierarchy. Some concepts are very general, such as Entity, State, Event \u2014 these are called unique beginners or root synsets. Others, such as gas guzzler and hatchback, are much more specific. A small portion of a concept hierarchy is illustrated below:"
     ]
    },
    {
     "cell_type": "markdown",
     "metadata": {},
     "source": [
      "<img src=\"http://www.nltk.org/images/wordnet-hierarchy.png\" width=\"50%\">"
     ]
    },
    {
     "cell_type": "markdown",
     "metadata": {},
     "source": [
      "#### Hyponyms\n",
      "\n",
      "WordNet makes it easy to navigate between concepts. For example, given a concept like motorcar, we can look at the concepts that are more specific; the (immediate) hyponyms."
     ]
    },
    {
     "cell_type": "code",
     "collapsed": false,
     "input": [
      "motorcar = wn.synset('car.n.01')"
     ],
     "language": "python",
     "metadata": {},
     "outputs": [],
     "prompt_number": 72
    },
    {
     "cell_type": "code",
     "collapsed": false,
     "input": [
      "types_of_motorcar = motorcar.hyponyms()"
     ],
     "language": "python",
     "metadata": {},
     "outputs": [],
     "prompt_number": 73
    },
    {
     "cell_type": "code",
     "collapsed": false,
     "input": [
      "types_of_motorcar[0]"
     ],
     "language": "python",
     "metadata": {},
     "outputs": [
      {
       "metadata": {},
       "output_type": "pyout",
       "prompt_number": 76,
       "text": [
        "Synset('ambulance.n.01')"
       ]
      }
     ],
     "prompt_number": 76
    },
    {
     "cell_type": "code",
     "collapsed": false,
     "input": [
      "print sorted(lemma.name() for synset in types_of_motorcar for lemma in synset.lemmas())"
     ],
     "language": "python",
     "metadata": {},
     "outputs": [
      {
       "output_type": "stream",
       "stream": "stdout",
       "text": [
        "[u'Model_T', u'S.U.V.', u'SUV', u'Stanley_Steamer', u'ambulance', u'beach_waggon', u'beach_wagon', u'bus', u'cab', u'compact', u'compact_car', u'convertible', u'coupe', u'cruiser', u'electric', u'electric_automobile', u'electric_car', u'estate_car', u'gas_guzzler', u'hack', u'hardtop', u'hatchback', u'heap', u'horseless_carriage', u'hot-rod', u'hot_rod', u'jalopy', u'jeep', u'landrover', u'limo', u'limousine', u'loaner', u'minicar', u'minivan', u'pace_car', u'patrol_car', u'phaeton', u'police_car', u'police_cruiser', u'prowl_car', u'race_car', u'racer', u'racing_car', u'roadster', u'runabout', u'saloon', u'secondhand_car', u'sedan', u'sport_car', u'sport_utility', u'sport_utility_vehicle', u'sports_car', u'squad_car', u'station_waggon', u'station_wagon', u'stock_car', u'subcompact', u'subcompact_car', u'taxi', u'taxicab', u'tourer', u'touring_car', u'two-seater', u'used-car', u'waggon', u'wagon']\n"
       ]
      }
     ],
     "prompt_number": 77
    },
    {
     "cell_type": "code",
     "collapsed": false,
     "input": [],
     "language": "python",
     "metadata": {},
     "outputs": [
      {
       "metadata": {},
       "output_type": "pyout",
       "prompt_number": 114,
       "text": [
        "[Synset('novel.n.01'),\n",
        " Synset('novel.n.02'),\n",
        " Synset('fresh.s.04'),\n",
        " Synset('novel.s.02')]"
       ]
      }
     ],
     "prompt_number": 114
    },
    {
     "cell_type": "markdown",
     "metadata": {},
     "source": [
      "#### Hypernyms\n",
      "\n",
      "We can also navigate up the hierarchy by visiting hypernyms. Some words have multiple paths, because they can be classified in more than one way. There are two paths between car.n.01 and entity.n.01 because wheeled_vehicle.n.01 can be classified as both a vehicle and a container."
     ]
    },
    {
     "cell_type": "code",
     "collapsed": false,
     "input": [
      "motorcar.hypernyms()\n",
      "paths = motorcar.hypernym_paths()\n",
      "len(paths)"
     ],
     "language": "python",
     "metadata": {},
     "outputs": [
      {
       "metadata": {},
       "output_type": "pyout",
       "prompt_number": 78,
       "text": [
        "2"
       ]
      }
     ],
     "prompt_number": 78
    },
    {
     "cell_type": "code",
     "collapsed": false,
     "input": [
      "print [synset.name() for synset in paths[0]]"
     ],
     "language": "python",
     "metadata": {},
     "outputs": [
      {
       "output_type": "stream",
       "stream": "stdout",
       "text": [
        "[u'entity.n.01', u'physical_entity.n.01', u'object.n.01', u'whole.n.02', u'artifact.n.01', u'instrumentality.n.03', u'container.n.01', u'wheeled_vehicle.n.01', u'self-propelled_vehicle.n.01', u'motor_vehicle.n.01', u'car.n.01']\n"
       ]
      }
     ],
     "prompt_number": 79
    },
    {
     "cell_type": "code",
     "collapsed": false,
     "input": [
      "print [synset.name() for synset in paths[1]]"
     ],
     "language": "python",
     "metadata": {},
     "outputs": [
      {
       "output_type": "stream",
       "stream": "stdout",
       "text": [
        "[u'entity.n.01', u'physical_entity.n.01', u'object.n.01', u'whole.n.02', u'artifact.n.01', u'instrumentality.n.03', u'conveyance.n.03', u'vehicle.n.01', u'wheeled_vehicle.n.01', u'self-propelled_vehicle.n.01', u'motor_vehicle.n.01', u'car.n.01']\n"
       ]
      }
     ],
     "prompt_number": 81
    },
    {
     "cell_type": "markdown",
     "metadata": {},
     "source": [
      "#### More Lexical Relations: Meronyms, Holonyms, Antonyms, Entailment\n",
      "\n",
      "Hypernyms and hyponyms are called lexical relations because they relate one synset to another. These two relations navigate up and down the \"is-a\" hierarchy. Another important way to navigate the WordNet network is from items to their components (**meronyms**) or to the things they are contained in (**holonyms**). For example, the parts of a tree are its trunk, crown, and so on; the part_meronyms(). The substance a tree is made of includes heartwood and sapwood; the substance_meronyms(). A collection of trees forms a forest; the member_holonyms():"
     ]
    },
    {
     "cell_type": "code",
     "collapsed": false,
     "input": [
      "wn.synset('tree.n.01').part_meronyms()\n"
     ],
     "language": "python",
     "metadata": {},
     "outputs": [
      {
       "metadata": {},
       "output_type": "pyout",
       "prompt_number": 83,
       "text": [
        "[Synset('burl.n.02'),\n",
        " Synset('crown.n.07'),\n",
        " Synset('limb.n.02'),\n",
        " Synset('stump.n.01'),\n",
        " Synset('trunk.n.01')]"
       ]
      }
     ],
     "prompt_number": 83
    },
    {
     "cell_type": "code",
     "collapsed": false,
     "input": [
      "\n",
      "wn.synset('tree.n.01').member_holonyms()"
     ],
     "language": "python",
     "metadata": {},
     "outputs": [
      {
       "metadata": {},
       "output_type": "pyout",
       "prompt_number": 86,
       "text": [
        "[]"
       ]
      }
     ],
     "prompt_number": 86
    },
    {
     "cell_type": "code",
     "collapsed": false,
     "input": [
      "wn.synset('tree.n.01').substance_meronyms()"
     ],
     "language": "python",
     "metadata": {},
     "outputs": [
      {
       "metadata": {},
       "output_type": "pyout",
       "prompt_number": 84,
       "text": [
        "[Synset('heartwood.n.01'), Synset('sapwood.n.01')]"
       ]
      }
     ],
     "prompt_number": 84
    },
    {
     "cell_type": "code",
     "collapsed": false,
     "input": [
      "wn.synsets(\"USA\")"
     ],
     "language": "python",
     "metadata": {},
     "outputs": [
      {
       "metadata": {},
       "output_type": "pyout",
       "prompt_number": 87,
       "text": [
        "[Synset('united_states.n.01'), Synset('united_states_army.n.01')]"
       ]
      }
     ],
     "prompt_number": 87
    },
    {
     "cell_type": "code",
     "collapsed": false,
     "input": [
      "wn.synset('united_states.n.01').part_meronyms()"
     ],
     "language": "python",
     "metadata": {},
     "outputs": [
      {
       "metadata": {},
       "output_type": "pyout",
       "prompt_number": 90,
       "text": [
        "[Synset('alabama.n.01'),\n",
        " Synset('alaska.n.01'),\n",
        " Synset('american_state.n.01'),\n",
        " Synset('arizona.n.01'),\n",
        " Synset('arkansas.n.01'),\n",
        " Synset('california.n.01'),\n",
        " Synset('colony.n.03'),\n",
        " Synset('colorado.n.01'),\n",
        " Synset('connecticut.n.01'),\n",
        " Synset('connecticut.n.02'),\n",
        " Synset('dakota.n.02'),\n",
        " Synset('delaware.n.04'),\n",
        " Synset('district_of_columbia.n.01'),\n",
        " Synset('east.n.03'),\n",
        " Synset('florida.n.01'),\n",
        " Synset('georgia.n.01'),\n",
        " Synset('great_lakes.n.01'),\n",
        " Synset('hawaii.n.01'),\n",
        " Synset('idaho.n.01'),\n",
        " Synset('illinois.n.01'),\n",
        " Synset('indiana.n.01'),\n",
        " Synset('iowa.n.02'),\n",
        " Synset('kansas.n.01'),\n",
        " Synset('kentucky.n.01'),\n",
        " Synset('louisiana.n.01'),\n",
        " Synset('louisiana_purchase.n.01'),\n",
        " Synset('maine.n.01'),\n",
        " Synset('maryland.n.01'),\n",
        " Synset('massachusetts.n.01'),\n",
        " Synset('michigan.n.01'),\n",
        " Synset('mid-atlantic_states.n.01'),\n",
        " Synset('midwest.n.01'),\n",
        " Synset('minnesota.n.01'),\n",
        " Synset('mississippi.n.01'),\n",
        " Synset('mississippi.n.02'),\n",
        " Synset('missouri.n.01'),\n",
        " Synset('missouri.n.02'),\n",
        " Synset('montana.n.01'),\n",
        " Synset('nebraska.n.01'),\n",
        " Synset('nevada.n.01'),\n",
        " Synset('new_england.n.01'),\n",
        " Synset('new_hampshire.n.01'),\n",
        " Synset('new_jersey.n.01'),\n",
        " Synset('new_mexico.n.01'),\n",
        " Synset('new_river.n.01'),\n",
        " Synset('new_york.n.02'),\n",
        " Synset('niagara.n.02'),\n",
        " Synset('niobrara.n.01'),\n",
        " Synset('north.n.01'),\n",
        " Synset('north_carolina.n.01'),\n",
        " Synset('north_dakota.n.01'),\n",
        " Synset('ohio.n.01'),\n",
        " Synset('ohio.n.02'),\n",
        " Synset('oklahoma.n.01'),\n",
        " Synset('oregon.n.01'),\n",
        " Synset('pacific_northwest.n.01'),\n",
        " Synset('pennsylvania.n.01'),\n",
        " Synset('rhode_island.n.01'),\n",
        " Synset('rio_grande.n.01'),\n",
        " Synset('saint_lawrence.n.02'),\n",
        " Synset('south.n.01'),\n",
        " Synset('south_carolina.n.02'),\n",
        " Synset('south_dakota.n.01'),\n",
        " Synset('sunbelt.n.01'),\n",
        " Synset('tennessee.n.01'),\n",
        " Synset('texas.n.01'),\n",
        " Synset('twin.n.03'),\n",
        " Synset('utah.n.01'),\n",
        " Synset('vermont.n.01'),\n",
        " Synset('virginia.n.01'),\n",
        " Synset('washington.n.02'),\n",
        " Synset('west.n.03'),\n",
        " Synset('west_virginia.n.01'),\n",
        " Synset('wisconsin.n.02'),\n",
        " Synset('wyoming.n.01'),\n",
        " Synset('yosemite.n.01'),\n",
        " Synset('yukon.n.01')]"
       ]
      }
     ],
     "prompt_number": 90
    },
    {
     "cell_type": "markdown",
     "metadata": {},
     "source": [
      "To see just how intricate things can get, consider the word mint, which has several closely-related senses. We can see that mint.n.04 is part of mint.n.02 and the substance from which mint.n.05 is made."
     ]
    },
    {
     "cell_type": "code",
     "collapsed": false,
     "input": [
      "for synset in wn.synsets('mint', wn.NOUN):\n",
      "    print(synset.name() + ':', synset.definition())"
     ],
     "language": "python",
     "metadata": {},
     "outputs": [
      {
       "output_type": "stream",
       "stream": "stdout",
       "text": [
        "(u'batch.n.02:', u\"(often followed by `of') a large number or amount or extent\")\n",
        "(u'mint.n.02:', u'any north temperate plant of the genus Mentha with aromatic leaves and small mauve flowers')\n",
        "(u'mint.n.03:', u'any member of the mint family of plants')\n",
        "(u'mint.n.04:', u'the leaves of a mint plant used fresh or candied')\n",
        "(u'mint.n.05:', u'a candy that is flavored with a mint oil')\n",
        "(u'mint.n.06:', u'a plant where money is coined by authority of the government')\n"
       ]
      }
     ],
     "prompt_number": 91
    },
    {
     "cell_type": "code",
     "collapsed": false,
     "input": [
      "wn.synset('mint.n.04').part_holonyms()"
     ],
     "language": "python",
     "metadata": {},
     "outputs": [
      {
       "metadata": {},
       "output_type": "pyout",
       "prompt_number": 92,
       "text": [
        "[Synset('mint.n.02')]"
       ]
      }
     ],
     "prompt_number": 92
    },
    {
     "cell_type": "code",
     "collapsed": false,
     "input": [
      "wn.synset('mint.n.04').substance_holonyms()"
     ],
     "language": "python",
     "metadata": {},
     "outputs": [
      {
       "metadata": {},
       "output_type": "pyout",
       "prompt_number": 94,
       "text": [
        "[Synset('mint.n.05')]"
       ]
      }
     ],
     "prompt_number": 94
    },
    {
     "cell_type": "markdown",
     "metadata": {},
     "source": [
      "There are also relationships between verbs. For example, the act of walking involves the act of stepping, so walking **entails** stepping. Some verbs have multiple entailments:"
     ]
    },
    {
     "cell_type": "code",
     "collapsed": false,
     "input": [
      "wn.synset('walk.v.01').entailments()\n",
      "\n",
      "wn.synset('eat.v.01').entailments()\n",
      "\n",
      "wn.synset('tease.v.03').entailments()\n"
     ],
     "language": "python",
     "metadata": {},
     "outputs": []
    },
    {
     "cell_type": "markdown",
     "metadata": {},
     "source": [
      "Some lexical relationships hold between lemmas, e.g., **antonymy**:"
     ]
    },
    {
     "cell_type": "code",
     "collapsed": false,
     "input": [
      "wn.lemma('supply.n.02.supply').antonyms()"
     ],
     "language": "python",
     "metadata": {},
     "outputs": [
      {
       "metadata": {},
       "output_type": "pyout",
       "prompt_number": 95,
       "text": [
        "[Lemma('demand.n.02.demand')]"
       ]
      }
     ],
     "prompt_number": 95
    },
    {
     "cell_type": "code",
     "collapsed": false,
     "input": [
      "wn.lemma('rush.v.01.rush').antonyms()"
     ],
     "language": "python",
     "metadata": {},
     "outputs": [
      {
       "metadata": {},
       "output_type": "pyout",
       "prompt_number": 96,
       "text": [
        "[Lemma('linger.v.04.linger')]"
       ]
      }
     ],
     "prompt_number": 96
    },
    {
     "cell_type": "code",
     "collapsed": false,
     "input": [
      "wn.lemma('horizontal.a.01.horizontal').antonyms()"
     ],
     "language": "python",
     "metadata": {},
     "outputs": [
      {
       "metadata": {},
       "output_type": "pyout",
       "prompt_number": 97,
       "text": [
        "[Lemma('inclined.a.02.inclined'), Lemma('vertical.a.01.vertical')]"
       ]
      }
     ],
     "prompt_number": 97
    },
    {
     "cell_type": "code",
     "collapsed": false,
     "input": [
      "wn.lemma('staccato.r.01.staccato').antonyms()"
     ],
     "language": "python",
     "metadata": {},
     "outputs": [
      {
       "metadata": {},
       "output_type": "pyout",
       "prompt_number": 98,
       "text": [
        "[Lemma('legato.r.01.legato')]"
       ]
      }
     ],
     "prompt_number": 98
    },
    {
     "cell_type": "markdown",
     "metadata": {},
     "source": [
      "You can see the (numerous!) lexical relations, and the other methods defined on a synset, using dir(), for example: dir(wn.synset('harmony.n.02'))."
     ]
    },
    {
     "cell_type": "code",
     "collapsed": false,
     "input": [
      "print dir(wn.synset('harmony.n.02'))"
     ],
     "language": "python",
     "metadata": {},
     "outputs": []
    },
    {
     "cell_type": "markdown",
     "metadata": {},
     "source": [
      "#### Semantic similarity\n",
      "\n",
      "We have seen that synsets are linked by a complex network of lexical relations. Given a particular synset, we can traverse the WordNet network to find synsets with related meanings. Knowing which words are semantically related is useful for indexing a collection of texts, so that a search for a general term like vehicle will match documents containing specific terms like limousine.\n",
      "\n",
      "Recall that each synset has one or more hypernym paths that link it to a root hypernym such as entity.n.01. Two synsets linked to the same root may have several hypernyms in common. If two synsets share a very specific hypernym \u2014 one that is low down in the hypernym hierarchy \u2014 they must be closely related."
     ]
    },
    {
     "cell_type": "code",
     "collapsed": false,
     "input": [
      "right = wn.synset('right_whale.n.01')\n",
      "orca = wn.synset('orca.n.01')\n",
      "minke = wn.synset('minke_whale.n.01')\n",
      "tortoise = wn.synset('tortoise.n.01')\n",
      "novel = wn.synset('novel.n.01')"
     ],
     "language": "python",
     "metadata": {},
     "outputs": [],
     "prompt_number": 99
    },
    {
     "cell_type": "code",
     "collapsed": false,
     "input": [
      "right.lowest_common_hypernyms(minke)"
     ],
     "language": "python",
     "metadata": {},
     "outputs": [
      {
       "metadata": {},
       "output_type": "pyout",
       "prompt_number": 100,
       "text": [
        "[Synset('baleen_whale.n.01')]"
       ]
      }
     ],
     "prompt_number": 100
    },
    {
     "cell_type": "code",
     "collapsed": false,
     "input": [
      "right.lowest_common_hypernyms(orca)"
     ],
     "language": "python",
     "metadata": {},
     "outputs": [
      {
       "metadata": {},
       "output_type": "pyout",
       "prompt_number": 101,
       "text": [
        "[Synset('whale.n.02')]"
       ]
      }
     ],
     "prompt_number": 101
    },
    {
     "cell_type": "code",
     "collapsed": false,
     "input": [
      "right.lowest_common_hypernyms(tortoise)"
     ],
     "language": "python",
     "metadata": {},
     "outputs": [
      {
       "metadata": {},
       "output_type": "pyout",
       "prompt_number": 103,
       "text": [
        "[Synset('vertebrate.n.01')]"
       ]
      }
     ],
     "prompt_number": 103
    },
    {
     "cell_type": "code",
     "collapsed": false,
     "input": [
      "right.lowest_common_hypernyms(novel)"
     ],
     "language": "python",
     "metadata": {},
     "outputs": [
      {
       "metadata": {},
       "output_type": "pyout",
       "prompt_number": 105,
       "text": [
        "[Synset('entity.n.01')]"
       ]
      }
     ],
     "prompt_number": 105
    },
    {
     "cell_type": "markdown",
     "metadata": {},
     "source": [
      "Of course we know that whale is very specific (and baleen whale even more so), while vertebrate is more general and entity is completely general. We can quantify this concept of generality by looking up the depth of each synset:"
     ]
    },
    {
     "cell_type": "code",
     "collapsed": false,
     "input": [
      "rwhale_minke = right.lowest_common_hypernyms(minke)\n",
      "rwhale_minke[0].min_depth()"
     ],
     "language": "python",
     "metadata": {},
     "outputs": [
      {
       "metadata": {},
       "output_type": "pyout",
       "prompt_number": 106,
       "text": [
        "14"
       ]
      }
     ],
     "prompt_number": 106
    },
    {
     "cell_type": "code",
     "collapsed": false,
     "input": [
      "rwhale_orca = right.lowest_common_hypernyms(orca)\n",
      "rwhale_orca[0].min_depth()"
     ],
     "language": "python",
     "metadata": {},
     "outputs": [
      {
       "metadata": {},
       "output_type": "pyout",
       "prompt_number": 107,
       "text": [
        "13"
       ]
      }
     ],
     "prompt_number": 107
    },
    {
     "cell_type": "code",
     "collapsed": false,
     "input": [
      "rwhale_vertebrate = right.lowest_common_hypernyms(tortoise)\n",
      "rwhale_vertebrate[0].min_depth()"
     ],
     "language": "python",
     "metadata": {},
     "outputs": [
      {
       "metadata": {},
       "output_type": "pyout",
       "prompt_number": 108,
       "text": [
        "8"
       ]
      }
     ],
     "prompt_number": 108
    },
    {
     "cell_type": "code",
     "collapsed": false,
     "input": [
      "rwhale_novel = right.lowest_common_hypernyms(novel)\n",
      "rwhale_novel[0].min_depth()"
     ],
     "language": "python",
     "metadata": {},
     "outputs": [
      {
       "metadata": {},
       "output_type": "pyout",
       "prompt_number": 109,
       "text": [
        "0"
       ]
      }
     ],
     "prompt_number": 109
    },
    {
     "cell_type": "markdown",
     "metadata": {},
     "source": [
      "Similarity measures have been defined over the collection of WordNet synsets which incorporate the above insight. For example, path_similarity assigns a score in the range 0\u20131 based on the shortest path that connects the concepts in the hypernym hierarchy (-1 is returned in those cases where a path cannot be found). Comparing a synset with itself will return 1. Consider the following similarity scores, relating right whale to minke whale, orca, tortoise, and novel. Although the numbers won't mean much, they decrease as we move away from the semantic space of sea creatures to inanimate objects."
     ]
    },
    {
     "cell_type": "code",
     "collapsed": false,
     "input": [
      "print \"Right whale - Minke :\", right.path_similarity(minke)\n",
      "print \"Right whale - Orca :\", right.path_similarity(orca)\n",
      "print \"Right whale - Tortoise :\", right.path_similarity(tortoise)\n",
      "print \"Right whale - Novel :\", right.path_similarity(novel)"
     ],
     "language": "python",
     "metadata": {},
     "outputs": [
      {
       "output_type": "stream",
       "stream": "stdout",
       "text": [
        "Right whale - Minke : 1.0\n",
        "Right whale - Orca : 0.166666666667\n",
        "Right whale - Tortoise : 0.0769230769231\n",
        "Right whale - Novel : 0.0434782608696\n"
       ]
      }
     ],
     "prompt_number": 112
    },
    {
     "cell_type": "markdown",
     "metadata": {},
     "source": [
      "### Some additional, semi-random examples\n",
      "\n",
      "Below are a few examples of what we can do with the NLTK toolkit, but we will discuss the details of these later in class."
     ]
    },
    {
     "cell_type": "code",
     "collapsed": false,
     "input": [
      "# Examples of the appearance of the word \"selection\"\n",
      "text.concordance(\"species\")"
     ],
     "language": "python",
     "metadata": {},
     "outputs": [
      {
       "output_type": "stream",
       "stream": "stdout",
       "text": [
        "Displaying 25 of 1505 matches:\n",
        "                                    species . or the preservation of favoured r\n",
        "istinguishing between varieties and species . origin of domestic varieties from\n",
        "domestic varieties from one or more species . domestic pigeons , their differen\n",
        ". individual differences . doubtful species . wide ranging , much diffused , an\n",
        "anging , much diffused , and common species vary most . species of the larger g\n",
        "ed , and common species vary most . species of the larger genera in any country\n",
        "a in any country vary more than the species of the smaller genera . many of the\n",
        "of the smaller genera . many of the species of the larger genera resemble varie\n",
        "dividuals and varieties of the same species ; often severe between species of t\n",
        "same species ; often severe between species of the same genus . the relation of\n",
        "ses between individuals of the same species . circumstances favourable and unfa\n",
        "ondary sexual characters variable . species of the same genus vary in an analog\n",
        "fe . diversified habits in the same species . species with habits widely differ\n",
        "sified habits in the same species . species with habits widely different from t\n",
        " the sudden appearance of groups of species . on their sudden appearance in the\n",
        "ow and successive appearance of new species . on their different rates of chang\n",
        "n their different rates of change . species once lost do not reappear . groups \n",
        "ce lost do not reappear . groups of species follow the same general rules in th\n",
        "ance and disappearance as do single species . on extinction . on simultaneous c\n",
        "orld . on the affinities of extinct species to each other and to living species\n",
        "species to each other and to living species . on the state of development of an\n",
        "neral belief in the immutability of species . how far the theory of natural sel\n",
        "ncluding remarks . on the origin of species . introduction . when on board h.m.\n",
        "o throw some light on the origin of species -- that mystery of mysteries , as i\n",
        "usions that i have on the origin of species . last year he sent to me a memoir \n"
       ]
      }
     ],
     "prompt_number": 118
    },
    {
     "cell_type": "code",
     "collapsed": false,
     "input": [
      "# Frequent collocations in the text (usually meaningful phrases)\n",
      "text.collocations()"
     ],
     "language": "python",
     "metadata": {},
     "outputs": []
    },
    {
     "cell_type": "code",
     "collapsed": false,
     "input": [
      "# Dispersion plot\n",
      "text.dispersion_plot([\"selection\", \"species\", \"organic\", \"allied\", \"parent\", \"sexual\"])"
     ],
     "language": "python",
     "metadata": {},
     "outputs": [
      {
       "metadata": {},
       "output_type": "display_data",
       "png": "[encoded data removed]",
       "text": [
        "<matplotlib.figure.Figure at 0x7fc1cb5211d0>"
       ]
      }
     ],
     "prompt_number": 119
    },
    {
     "cell_type": "markdown",
     "metadata": {},
     "source": [
      "### Summary\n",
      "\n",
      "* A frequency distribution is a collection of items along with their frequency counts (e.g., the words of a text and their frequency of appearance).\n",
      "* Tokenization is the segmentation of a text into basic units \u2014 or tokens \u2014 such as words and punctuation. Tokenization based on whitespace is inadequate for many applications because it bundles punctuation together with words. NLTK provides an off-the-shelf tokenizer nltk.word_tokenize().\n",
      "* Stemming is the process of removing the affix of a word, to create a \"normalized\" representation of the token\n",
      "* Lemmatization is a process that maps the various forms of a word (such as appeared, appears) to the canonical or citation form of the word, also known as the lexeme or lemma (e.g. appear). \n",
      "* WordNet is a semantically-oriented dictionary of English, consisting of synonym sets \u2014 or synsets \u2014 and organized into a network.\n",
      "\n"
     ]
    }
   ],
   "metadata": {}
  }
 ]
}