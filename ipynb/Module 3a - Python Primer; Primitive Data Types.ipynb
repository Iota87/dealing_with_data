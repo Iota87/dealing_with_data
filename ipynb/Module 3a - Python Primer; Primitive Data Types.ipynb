{
 "metadata": {
  "name": "",
  "signature": "sha256:1ff652d70c050d67fcd367bf1c60ce8100504479e79da951b8653424d90ba448"
 },
 "nbformat": 3,
 "nbformat_minor": 0,
 "worksheets": [
  {
   "cells": [
    {
     "cell_type": "markdown",
     "metadata": {},
     "source": [
      "## Python Tutorials\n",
      "\n",
      "If you have no knowledge of programming, then the [official Python tutorial](https://docs.python.org/2/tutorial/index.html) and the [Learn Python The Hard Way](http://learnpythonthehardway.org/) are good places to start.\n",
      "\n"
     ]
    },
    {
     "cell_type": "markdown",
     "metadata": {},
     "source": [
      "### Our first Python program\n",
      "\n",
      "Traditionally, every time that we start learning a new language, we start with a program that prints \"Hello World\" in the output."
     ]
    },
    {
     "cell_type": "code",
     "collapsed": false,
     "input": [
      "print \"Hello World\""
     ],
     "language": "python",
     "metadata": {},
     "outputs": [
      {
       "output_type": "stream",
       "stream": "stdout",
       "text": [
        "Hello World\n"
       ]
      }
     ],
     "prompt_number": 1
    },
    {
     "cell_type": "markdown",
     "metadata": {},
     "source": [
      "#### Exercise\n",
      "\n",
      "Print your own message:"
     ]
    },
    {
     "cell_type": "code",
     "collapsed": false,
     "input": [
      "# your own code here\n",
      "print \"Hello Panos, how are you?\""
     ],
     "language": "python",
     "metadata": {},
     "outputs": [
      {
       "output_type": "stream",
       "stream": "stdout",
       "text": [
        "Hello Panos, how are you?\n"
       ]
      }
     ],
     "prompt_number": 2
    },
    {
     "cell_type": "markdown",
     "metadata": {},
     "source": [
      "Comments\n",
      "--------\n",
      "Comments are notes in your source code that aren't exectued when your code is run. These are useful for reminding yourself what your code does, and for notifying others to your intentions. Python has single line and multiline comments."
     ]
    },
    {
     "cell_type": "code",
     "collapsed": false,
     "input": [
      "# this is a single line comment\n",
      "# This a second line of comments\n",
      "print \"trying out some comments\"\n",
      "\n",
      "\"\"\"and here\n",
      "dsafljdskhdsasd'fs\n",
      "\n",
      "saf\n",
      "sadf\n",
      "ewftr\n",
      "ew\n",
      "trew\n",
      "werwererwrew\n",
      "\n",
      "I hate Python\n",
      "Nah, just kidding...\n",
      "\n",
      "is a multi-line comment\"\"\"\n",
      "\n",
      "\n",
      "print \"python ftw\""
     ],
     "language": "python",
     "metadata": {},
     "outputs": [
      {
       "output_type": "stream",
       "stream": "stdout",
       "text": [
        "trying out some comments\n",
        "python ftw\n"
       ]
      }
     ],
     "prompt_number": 3
    },
    {
     "cell_type": "markdown",
     "metadata": {},
     "source": [
      "Variables\n",
      "---------\n",
      "\n",
      "Variables are aliases for data. This allows the developer to use the name for a particular value rather than the value itself. This makes the code more readable, and allows various optimizations to make a program run more efficiently.\n",
      "\n",
      "In python, a variable can be named almost anything, according to the whims of the programmer. You can use any letter, the special characters \"\\_\" and every number provided you do not start with it. White spaces and signs with special meanings in Python, as \"+\" and \"-\" are not allowed. Variable names are case-sensitive. The common pattern is to separate words in variable names with underscores \"\\_\".\n",
      "\n",
      "Variables are declared by stating the variable name and assigning to it using the \"=\" operator. At any time, you can reassign a value to a variable."
     ]
    },
    {
     "cell_type": "code",
     "collapsed": false,
     "input": [
      "a_variable = \"yay!\"\n",
      "another_variable = \"woo!\"\n",
      "yet_another_variable = 1\n",
      "one_more_variable = 3.1415926\n",
      "\n",
      "print a_variable"
     ],
     "language": "python",
     "metadata": {},
     "outputs": [
      {
       "output_type": "stream",
       "stream": "stdout",
       "text": [
        "yay!\n"
       ]
      }
     ],
     "prompt_number": 6
    },
    {
     "cell_type": "code",
     "collapsed": false,
     "input": [
      "a_variable = \"uh oh!\" # reassigning\n",
      "\n",
      "print a_variable"
     ],
     "language": "python",
     "metadata": {},
     "outputs": [
      {
       "output_type": "stream",
       "stream": "stdout",
       "text": [
        "uh oh!\n"
       ]
      }
     ],
     "prompt_number": 7
    },
    {
     "cell_type": "code",
     "collapsed": false,
     "input": [
      "\n",
      "a_variable = another_variable # reassigning again\n",
      "\n",
      "print a_variable\n"
     ],
     "language": "python",
     "metadata": {},
     "outputs": [
      {
       "output_type": "stream",
       "stream": "stdout",
       "text": [
        "woo!\n"
       ]
      }
     ],
     "prompt_number": 8
    },
    {
     "cell_type": "code",
     "collapsed": false,
     "input": [
      "\n",
      "\n",
      "yet_another_variable = 1\n",
      "\n",
      "# But this one will not:\n",
      "a_variable = yet_another_variable\n",
      "\n",
      "print a_variable\n"
     ],
     "language": "python",
     "metadata": {},
     "outputs": [
      {
       "output_type": "stream",
       "stream": "stdout",
       "text": [
        "1\n"
       ]
      }
     ],
     "prompt_number": 10
    },
    {
     "cell_type": "code",
     "collapsed": false,
     "input": [
      "a_variable = \"yah!\"\n",
      "yet_another_variable = 42\n",
      "\n",
      "# This will generate an error if executed\n",
      "# a_variable = a_variable + yet_another_variable\n"
     ],
     "language": "python",
     "metadata": {},
     "outputs": [],
     "prompt_number": 12
    },
    {
     "cell_type": "code",
     "collapsed": false,
     "input": [
      "\n",
      "\n",
      "print a_variable"
     ],
     "language": "python",
     "metadata": {},
     "outputs": [
      {
       "output_type": "stream",
       "stream": "stdout",
       "text": [
        "yah!\n"
       ]
      }
     ],
     "prompt_number": 13
    },
    {
     "cell_type": "markdown",
     "metadata": {},
     "source": [
      "We can get the output of unix commands in Python variables by prefixing them with `!`"
     ]
    },
    {
     "cell_type": "code",
     "collapsed": false,
     "input": [
      "current_date = !date\n",
      "print current_date"
     ],
     "language": "python",
     "metadata": {},
     "outputs": [
      {
       "output_type": "stream",
       "stream": "stdout",
       "text": [
        "['Tue Jan 20 23:38:15 UTC 2015']\n"
       ]
      }
     ],
     "prompt_number": 14
    },
    {
     "cell_type": "code",
     "collapsed": false,
     "input": [
      "!ls"
     ],
     "language": "python",
     "metadata": {},
     "outputs": [
      {
       "output_type": "stream",
       "stream": "stdout",
       "text": [
        "alldata.txt\r\n",
        "A quick tour of IPython Notebook.ipynb\r\n",
        "Assignment 1 Template (Using pipes, filters, and jq).ipynb\r\n",
        "dictionary.com\r\n",
        "facedetection.json\r\n",
        "faceplusplus.json\r\n",
        "images\r\n",
        "location2.json\r\n",
        "location.json\r\n",
        "Module 2a - Basic Unix Shell Commands.ipynb\r\n",
        "Module 2b - Fetching data using CURL.ipynb\r\n",
        "Module 2c - Pipes, filters, and more Unix Commands.ipynb\r\n",
        "Module 3a - Python Primer; Primitive Data Types.ipynb\r\n",
        "Module 3b - Python Primer; Lists, Sets, Tuples, Dictionaries.ipynb\r\n",
        "Module 3c - Python Primer; Control Flow Statements.ipynb\r\n",
        "Module 3d - Python Primer; Reading and Writing Files.ipynb\r\n",
        "Module 3e - Python Primer; Functions and Classes.ipynb\r\n",
        "Module 3f - Python Primer; Libraries and Matplotlib example.ipynb\r\n",
        "Module 3g - Python Primer; In-class exercise.ipynb\r\n",
        "Module 4a - Regular Expressions and grep.ipynb\r\n",
        "Module 4b - Regular Expressions using Python.ipynb\r\n",
        "openweathermap.url\r\n",
        "pandas-cookbook-master\r\n",
        "sample.txt\r\n",
        "temp.txt\r\n",
        "weather.json\r\n"
       ]
      }
     ],
     "prompt_number": 16
    },
    {
     "cell_type": "code",
     "collapsed": false,
     "input": [
      "ls_output = !ls\n",
      "print ls_output"
     ],
     "language": "python",
     "metadata": {},
     "outputs": [
      {
       "output_type": "stream",
       "stream": "stdout",
       "text": [
        "['alldata.txt', 'A quick tour of IPython Notebook.ipynb', 'Assignment 1 Template (Using pipes, filters, and jq).ipynb', 'dictionary.com', 'facedetection.json', 'faceplusplus.json', 'images', 'location2.json', 'location.json', 'Module 2a - Basic Unix Shell Commands.ipynb', 'Module 2b - Fetching data using CURL.ipynb', 'Module 2c - Pipes, filters, and more Unix Commands.ipynb', 'Module 3a - Python Primer; Primitive Data Types.ipynb', 'Module 3b - Python Primer; Lists, Sets, Tuples, Dictionaries.ipynb', 'Module 3c - Python Primer; Control Flow Statements.ipynb', 'Module 3d - Python Primer; Reading and Writing Files.ipynb', 'Module 3e - Python Primer; Functions and Classes.ipynb', 'Module 3f - Python Primer; Libraries and Matplotlib example.ipynb', 'Module 3g - Python Primer; In-class exercise.ipynb', 'Module 4a - Regular Expressions and grep.ipynb', 'Module 4b - Regular Expressions using Python.ipynb', 'openweathermap.url', 'pandas-cookbook-master', 'sample.txt', 'temp.txt', 'weather.json']\n"
       ]
      }
     ],
     "prompt_number": 15
    },
    {
     "cell_type": "markdown",
     "metadata": {},
     "source": [
      "#### Exercise\n",
      "\n",
      "Get the current directory using the Unix command `pwd` and assign it to a Python variable. Print the variable"
     ]
    },
    {
     "cell_type": "code",
     "collapsed": false,
     "input": [
      "# your own code here\n",
      "myvar = !pwd\n",
      "print myvar\n"
     ],
     "language": "python",
     "metadata": {},
     "outputs": [
      {
       "output_type": "stream",
       "stream": "stdout",
       "text": [
        "['/home/ubuntu/ipynb']\n"
       ]
      }
     ],
     "prompt_number": 17
    },
    {
     "cell_type": "markdown",
     "metadata": {},
     "source": [
      "Primitive Data Types\n",
      "--------------------\n",
      "\n",
      "These are the basic data types that constitute all of the more complex data structures in python.\n",
      "\n",
      "###String:\n",
      "Textual data, characters and sequences of characters. Can be specified by surrounding some text with single `'` or double `\"` quotes. "
     ]
    },
    {
     "cell_type": "code",
     "collapsed": false,
     "input": [
      "str_1 = \"Hello World!\"\n",
      "print str_1\n",
      "\n",
      "str_1 = 'Hello World!'\n",
      "print str_1"
     ],
     "language": "python",
     "metadata": {},
     "outputs": [
      {
       "output_type": "stream",
       "stream": "stdout",
       "text": [
        "Hello World!\n",
        "Hello World!\n"
       ]
      }
     ],
     "prompt_number": 18
    },
    {
     "cell_type": "code",
     "collapsed": false,
     "input": [
      "# Notice that we end the strings below with the \\n character, \n",
      "# which is the \"new line\" special character\n",
      "str_2 =\"Hello World!\\nHello World Twice!\\n\"\n",
      "print str_2\n"
     ],
     "language": "python",
     "metadata": {},
     "outputs": [
      {
       "output_type": "stream",
       "stream": "stdout",
       "text": [
        "Hello World!\n",
        "Hello World Twice!\n",
        "\n"
       ]
      }
     ],
     "prompt_number": 19
    },
    {
     "cell_type": "code",
     "collapsed": false,
     "input": [
      "# Let's use the \\t character which is the special character for tab\n",
      "str_3 =\"Hello\\tWorld!\\n\"\n",
      "print str_3"
     ],
     "language": "python",
     "metadata": {},
     "outputs": [
      {
       "output_type": "stream",
       "stream": "stdout",
       "text": [
        "Hello\tWorld!\n",
        "\n"
       ]
      }
     ],
     "prompt_number": 20
    },
    {
     "cell_type": "code",
     "collapsed": false,
     "input": [
      "str_4 = 'This is a string within single quotes that can contain \"double quotes\" as part of the string\\n'\n",
      "print str_4"
     ],
     "language": "python",
     "metadata": {},
     "outputs": [
      {
       "output_type": "stream",
       "stream": "stdout",
       "text": [
        "This is a string within single quotes that can contain \"double quotes\" as part of the string\n",
        "\n"
       ]
      }
     ],
     "prompt_number": 21
    },
    {
     "cell_type": "code",
     "collapsed": false,
     "input": [
      "str_5 = 'If we want to have \\'single quotes\\' in single quoted string we should escape them\\n'\n",
      "print str_5"
     ],
     "language": "python",
     "metadata": {},
     "outputs": [
      {
       "output_type": "stream",
       "stream": "stdout",
       "text": [
        "If we want to have 'single quotes' in single quoted string we should escape them\n",
        "\n"
       ]
      }
     ],
     "prompt_number": 23
    },
    {
     "cell_type": "code",
     "collapsed": false,
     "input": [
      "str_6 = \"Similarly, if we want to have \\\"double quotes\\\" in double quoted string we should escape them\\n\"\n",
      "print str_6"
     ],
     "language": "python",
     "metadata": {},
     "outputs": [
      {
       "output_type": "stream",
       "stream": "stdout",
       "text": [
        "Similarly, if we want to have \"double quotes\" in double quoted string we should escape them\n",
        "\n"
       ]
      }
     ],
     "prompt_number": 24
    },
    {
     "cell_type": "code",
     "collapsed": false,
     "input": [
      "str_7 = \"hello\"\n",
      "str_8 = \"world\"\n",
      "print str_7 + \" \" + str_8 + \"!\" # note that + concatenates strings"
     ],
     "language": "python",
     "metadata": {},
     "outputs": [
      {
       "output_type": "stream",
       "stream": "stdout",
       "text": [
        "hello world!\n"
       ]
      }
     ],
     "prompt_number": 25
    },
    {
     "cell_type": "code",
     "collapsed": false,
     "input": [
      "str_9 = \"\"\"\n",
      "(CNN)AirAsia Flight QZ8501 climbed rapidly before it crashed, a top Indonesian official said Tuesday, according to The Jakarta Post.\n",
      "\n",
      "Then the plane stalled, Transportation Minister Ignasius Jonan said at a parliamentary hearing, according to the AFP and Reuters news agencies.\n",
      "\n",
      "\"The plane, during the last minutes, went up faster than normal speed ... after then, it stalled. That is according to the data from the radar,\" Jonan said, according to the news agencies.\n",
      "\"\"\"\n",
      "print str_9"
     ],
     "language": "python",
     "metadata": {},
     "outputs": [
      {
       "output_type": "stream",
       "stream": "stdout",
       "text": [
        "\n",
        "(CNN)AirAsia Flight QZ8501 climbed rapidly before it crashed, a top Indonesian official said Tuesday, according to The Jakarta Post.\n",
        "\n",
        "Then the plane stalled, Transportation Minister Ignasius Jonan said at a parliamentary hearing, according to the AFP and Reuters news agencies.\n",
        "\n",
        "\"The plane, during the last minutes, went up faster than normal speed ... after then, it stalled. That is according to the data from the radar,\" Jonan said, according to the news agencies.\n",
        "\n"
       ]
      }
     ],
     "prompt_number": 26
    },
    {
     "cell_type": "code",
     "collapsed": false,
     "input": [
      "str_19 = '''\n",
      "If we want to have multiple lines in the string\n",
      "then we can use triple quotes: This is a multiline\n",
      "string!\n",
      "'''\n",
      "print str_19\n",
      "    "
     ],
     "language": "python",
     "metadata": {},
     "outputs": [
      {
       "output_type": "stream",
       "stream": "stdout",
       "text": [
        "\n",
        "If we want to have multiple lines in the string\n",
        "then we can use triple quotes: This is a multiline\n",
        "string!\n",
        "\n"
       ]
      }
     ],
     "prompt_number": 27
    },
    {
     "cell_type": "code",
     "collapsed": false,
     "input": [
      "\n",
      "print 'Two or more string literals' '(i.e. the ones enclosed between quotes)' 'next to each other are automatically concatenated.\\n'"
     ],
     "language": "python",
     "metadata": {},
     "outputs": [
      {
       "output_type": "stream",
       "stream": "stdout",
       "text": [
        "Two or more string literals(i.e. the ones enclosed between quotes)next to each other are automatically concatenated.\n",
        "\n"
       ]
      }
     ],
     "prompt_number": 28
    },
    {
     "cell_type": "code",
     "collapsed": false,
     "input": [
      "# And if we want to assign the text to a variable, we put it within parentheses\n",
      "str_10 = ('Two or more string literals\\n' \n",
      "'(i.e. the ones enclosed between quotes)\\n' \n",
      "'next to each other are automatically concatenated.\\n')\n",
      "print str_10"
     ],
     "language": "python",
     "metadata": {},
     "outputs": []
    },
    {
     "cell_type": "code",
     "collapsed": false,
     "input": [
      "print \"e.g., type C:\\teaching\\ instead of C:\\\\teaching\\\\)\""
     ],
     "language": "python",
     "metadata": {},
     "outputs": [
      {
       "output_type": "stream",
       "stream": "stdout",
       "text": [
        "e.g., type C:\teaching\\ instead of C:\\teaching\\)\n"
       ]
      }
     ],
     "prompt_number": 43
    },
    {
     "cell_type": "markdown",
     "metadata": {},
     "source": [
      "Prefix strings with `r` to indicate a `raw` string, where there are no escape characters like \\t, \\n etc."
     ]
    },
    {
     "cell_type": "code",
     "collapsed": false,
     "input": [
      "str_11 = (r'And if we want to use the \\ character '\n",
      "r'without escaping it by typing \\\\ '\n",
      "r'(e.g., type C:\\teaching\\ instead of C:\\\\teaching\\\\) '\n",
      "r'then we use the r prefix for the string')\n",
      "print str_11"
     ],
     "language": "python",
     "metadata": {},
     "outputs": []
    },
    {
     "cell_type": "markdown",
     "metadata": {},
     "source": [
      "### Acessing parts of the string\n",
      "\n",
      "**Note: The following instructions will be re-used later for other data structures (e.g., lists), so pay attention)**\n",
      "\n",
      "Strings can be indexed (subscripted), with the first character having index 0. There is no separate character type; a character is simply a string of size one:"
     ]
    },
    {
     "cell_type": "code",
     "collapsed": false,
     "input": [
      "word = 'Python'"
     ],
     "language": "python",
     "metadata": {},
     "outputs": [],
     "prompt_number": 30
    },
    {
     "cell_type": "code",
     "collapsed": false,
     "input": [
      "word[0]  # character in position 0"
     ],
     "language": "python",
     "metadata": {},
     "outputs": [
      {
       "metadata": {},
       "output_type": "pyout",
       "prompt_number": 31,
       "text": [
        "'P'"
       ]
      }
     ],
     "prompt_number": 31
    },
    {
     "cell_type": "code",
     "collapsed": false,
     "input": [
      "word[1]"
     ],
     "language": "python",
     "metadata": {},
     "outputs": [
      {
       "metadata": {},
       "output_type": "pyout",
       "prompt_number": 32,
       "text": [
        "'y'"
       ]
      }
     ],
     "prompt_number": 32
    },
    {
     "cell_type": "code",
     "collapsed": false,
     "input": [
      "\"word\"[0]"
     ],
     "language": "python",
     "metadata": {},
     "outputs": []
    },
    {
     "cell_type": "code",
     "collapsed": false,
     "input": [
      "word[5]  # character in position 5"
     ],
     "language": "python",
     "metadata": {},
     "outputs": [
      {
       "metadata": {},
       "output_type": "pyout",
       "prompt_number": 33,
       "text": [
        "'n'"
       ]
      }
     ],
     "prompt_number": 33
    },
    {
     "cell_type": "markdown",
     "metadata": {},
     "source": [
      "Indices may also be negative numbers, to start counting from the right:"
     ]
    },
    {
     "cell_type": "code",
     "collapsed": false,
     "input": [
      "word[-1]  # last character"
     ],
     "language": "python",
     "metadata": {},
     "outputs": [
      {
       "metadata": {},
       "output_type": "pyout",
       "prompt_number": 34,
       "text": [
        "'n'"
       ]
      }
     ],
     "prompt_number": 34
    },
    {
     "cell_type": "code",
     "collapsed": false,
     "input": [
      "word[-2]  # second-last character\n"
     ],
     "language": "python",
     "metadata": {},
     "outputs": [
      {
       "metadata": {},
       "output_type": "pyout",
       "prompt_number": 35,
       "text": [
        "'o'"
       ]
      }
     ],
     "prompt_number": 35
    },
    {
     "cell_type": "code",
     "collapsed": false,
     "input": [
      "word[-6]"
     ],
     "language": "python",
     "metadata": {},
     "outputs": [
      {
       "metadata": {},
       "output_type": "pyout",
       "prompt_number": 36,
       "text": [
        "'P'"
       ]
      }
     ],
     "prompt_number": 36
    },
    {
     "cell_type": "markdown",
     "metadata": {},
     "source": [
      "In addition to indexing, slicing is also supported. While indexing is used to obtain individual characters, slicing allows you to obtain a substring:"
     ]
    },
    {
     "cell_type": "code",
     "collapsed": false,
     "input": [
      "word[0:2]  # characters from position 0 (included) to 2 (excluded)"
     ],
     "language": "python",
     "metadata": {},
     "outputs": [
      {
       "metadata": {},
       "output_type": "pyout",
       "prompt_number": 37,
       "text": [
        "'Py'"
       ]
      }
     ],
     "prompt_number": 37
    },
    {
     "cell_type": "code",
     "collapsed": false,
     "input": [
      "word[2:5]  # characters from position 2 (included) to 5 (excluded)"
     ],
     "language": "python",
     "metadata": {},
     "outputs": [
      {
       "metadata": {},
       "output_type": "pyout",
       "prompt_number": 38,
       "text": [
        "'tho'"
       ]
      }
     ],
     "prompt_number": 38
    },
    {
     "cell_type": "code",
     "collapsed": false,
     "input": [
      "word[2:]  # characters from position 2 (included) to the end"
     ],
     "language": "python",
     "metadata": {},
     "outputs": [
      {
       "metadata": {},
       "output_type": "pyout",
       "prompt_number": 40,
       "text": [
        "'thon'"
       ]
      }
     ],
     "prompt_number": 40
    },
    {
     "cell_type": "code",
     "collapsed": false,
     "input": [
      "word[:3]  # characters from beginning (position 0) to position 3 (excluded)"
     ],
     "language": "python",
     "metadata": {},
     "outputs": [
      {
       "metadata": {},
       "output_type": "pyout",
       "prompt_number": 39,
       "text": [
        "'Pyt'"
       ]
      }
     ],
     "prompt_number": 39
    },
    {
     "cell_type": "code",
     "collapsed": false,
     "input": [
      "word[-3:] # last three characters"
     ],
     "language": "python",
     "metadata": {},
     "outputs": [
      {
       "metadata": {},
       "output_type": "pyout",
       "prompt_number": 41,
       "text": [
        "'hon'"
       ]
      }
     ],
     "prompt_number": 41
    },
    {
     "cell_type": "code",
     "collapsed": false,
     "input": [
      "word[-3:-1] # penultimate two charactrs"
     ],
     "language": "python",
     "metadata": {},
     "outputs": [
      {
       "metadata": {},
       "output_type": "pyout",
       "prompt_number": 42,
       "text": [
        "'ho'"
       ]
      }
     ],
     "prompt_number": 42
    },
    {
     "cell_type": "markdown",
     "metadata": {},
     "source": [
      "#### Exercise\n",
      "\n",
      "* Assign the string 'Dealing with Data' to a Python variable. \n",
      "* Print the word 'Dealing' by using the indexing/slicing approach.\n",
      "* Print the word 'Data' by using the negative indexing/slicing approach."
     ]
    },
    {
     "cell_type": "code",
     "collapsed": false,
     "input": [
      "# your own code here\n",
      "mystring = \"Dealing with Data\"\n",
      "\n",
      "mystring[-4:]"
     ],
     "language": "python",
     "metadata": {},
     "outputs": [
      {
       "metadata": {},
       "output_type": "pyout",
       "prompt_number": 50,
       "text": [
        "'Data'"
       ]
      }
     ],
     "prompt_number": 50
    },
    {
     "cell_type": "code",
     "collapsed": false,
     "input": [
      "mystring[0:7]"
     ],
     "language": "python",
     "metadata": {},
     "outputs": [
      {
       "metadata": {},
       "output_type": "pyout",
       "prompt_number": 51,
       "text": [
        "'Dealing'"
       ]
      }
     ],
     "prompt_number": 51
    },
    {
     "cell_type": "markdown",
     "metadata": {},
     "source": [
      "###Integer:\n",
      "Positive and negative whole numbers"
     ]
    },
    {
     "cell_type": "code",
     "collapsed": false,
     "input": [
      "int_1 = 1\n",
      "int_2 = -2\n",
      "int_3 = 100\n",
      "\n",
      "print int_1 + int_2 + int_3 # for integers, + is just \"plus\""
     ],
     "language": "python",
     "metadata": {},
     "outputs": [
      {
       "output_type": "stream",
       "stream": "stdout",
       "text": [
        "99\n"
       ]
      }
     ],
     "prompt_number": 52
    },
    {
     "cell_type": "markdown",
     "metadata": {},
     "source": [
      "###Floating Point Numbers:\n",
      "Decimal numbers, representations of fractions, and \"real-valued numbers\""
     ]
    },
    {
     "cell_type": "code",
     "collapsed": false,
     "input": [
      "float_1 = 1.2\n",
      "float_2 = -4.0\n",
      "float_3 = 10.0\n",
      "\n",
      "print float_1 + float_2 + float_3"
     ],
     "language": "python",
     "metadata": {},
     "outputs": [
      {
       "output_type": "stream",
       "stream": "stdout",
       "text": [
        "7.2\n"
       ]
      }
     ],
     "prompt_number": 53
    },
    {
     "cell_type": "markdown",
     "metadata": {},
     "source": [
      "###Booleans:\n",
      "\n",
      "Booleans represent the truth or success of a statement, and are commonly used for branching and checking status in code. "
     ]
    },
    {
     "cell_type": "code",
     "collapsed": false,
     "input": [
      "bool_1 = True \n",
      "bool_2 = False\n",
      "\n",
      "print bool_1\n",
      "print bool_2"
     ],
     "language": "python",
     "metadata": {},
     "outputs": [
      {
       "ename": "NameError",
       "evalue": "name 'true' is not defined",
       "output_type": "pyerr",
       "traceback": [
        "\u001b[1;31m---------------------------------------------------------------------------\u001b[0m\n\u001b[1;31mNameError\u001b[0m                                 Traceback (most recent call last)",
        "\u001b[1;32m<ipython-input-54-ace47d85859d>\u001b[0m in \u001b[0;36m<module>\u001b[1;34m()\u001b[0m\n\u001b[1;32m----> 1\u001b[1;33m \u001b[0mbool_1\u001b[0m \u001b[1;33m=\u001b[0m \u001b[0mtrue\u001b[0m\u001b[1;33m\u001b[0m\u001b[0m\n\u001b[0m\u001b[0;32m      2\u001b[0m \u001b[0mbool_2\u001b[0m \u001b[1;33m=\u001b[0m \u001b[0mfalse\u001b[0m\u001b[1;33m\u001b[0m\u001b[0m\n\u001b[0;32m      3\u001b[0m \u001b[1;33m\u001b[0m\u001b[0m\n\u001b[0;32m      4\u001b[0m \u001b[1;32mprint\u001b[0m \u001b[0mbool_1\u001b[0m\u001b[1;33m\u001b[0m\u001b[0m\n\u001b[0;32m      5\u001b[0m \u001b[1;32mprint\u001b[0m \u001b[0mbool_2\u001b[0m\u001b[1;33m\u001b[0m\u001b[0m\n",
        "\u001b[1;31mNameError\u001b[0m: name 'true' is not defined"
       ]
      }
     ],
     "prompt_number": 54
    },
    {
     "cell_type": "markdown",
     "metadata": {},
     "source": [
      "Operations on Primitive Data Types\n",
      "----------------------------------\n",
      "\n",
      "Python provides a variety of operations for performing common tasks on the primitive data types presented above. Of course, this list isn't complete, and the core functionality provided by python is greatly extended by library code, some of which will be discussed below. Note that operations can be performed either on \"literal primitives\" or on variables storing some primitive. \n",
      "\n",
      "###Operations on Strings \n",
      "We've already seen one of the most common string operators, `+`, used for string concatenation, the indexing operation to get specific characters, and the slicing operation to get substrings. Below are some of the more commonly used string operations:\n",
      "\n",
      "+ `+` : concatenate two strings\n",
      "+ `len(str)`: length of a string, number of characters\n",
      "+ `str.upper()`: returns an uppercase version of a string\n",
      "+ `str.lower()`: returns a lowercase version of a string\n",
      "+ `haystack.index(needle)`: searches haystack for needle, prints the position of the first occurrence, indexed from 0. Note, throws an error if needle isn't found.\n",
      "+ `str_1.count(str_2)`: counts the number of occurrences of one string in another.\n",
      "+ `haystack.startswith(needle)`: does a the haystack string start with the needle string?\n",
      "+ `haystack.endswith(needle)`: does a the haystack string end with the needle string?\n",
      "+ `str_1.split(str_2)`: split the first string at every occurrence of the second string. Outputs a list (see below).\n",
      "+ `==`: are the two operand strings the same?\n",
      "+ `str.strip()`: remove any whitespace from the left or right of the string, including newlines. \n",
      "\n",
      "A better list of string operations is [available here](http://docs.python.org/2/library/string.html)."
     ]
    },
    {
     "cell_type": "code",
     "collapsed": false,
     "input": [
      "word = \"Python is the word. And on and on and on and on...\" \n",
      "print word"
     ],
     "language": "python",
     "metadata": {},
     "outputs": [
      {
       "output_type": "stream",
       "stream": "stdout",
       "text": [
        "Python is the word. And on and on and on and on...\n"
       ]
      }
     ],
     "prompt_number": 55
    },
    {
     "cell_type": "code",
     "collapsed": false,
     "input": [
      "print \"The length of the word above is \", len(word), \"characters\""
     ],
     "language": "python",
     "metadata": {},
     "outputs": [
      {
       "output_type": "stream",
       "stream": "stdout",
       "text": [
        "The length of the word above is  50 characters\n"
       ]
      }
     ],
     "prompt_number": 56
    },
    {
     "cell_type": "code",
     "collapsed": false,
     "input": [
      "print word.lower()"
     ],
     "language": "python",
     "metadata": {},
     "outputs": [
      {
       "output_type": "stream",
       "stream": "stdout",
       "text": [
        "python is the word. and on and on and on and on...\n"
       ]
      }
     ],
     "prompt_number": 58
    },
    {
     "cell_type": "code",
     "collapsed": false,
     "input": [
      "print \"The first time that we see the string on is at position\", word.index(\"on\")"
     ],
     "language": "python",
     "metadata": {},
     "outputs": [
      {
       "output_type": "stream",
       "stream": "stdout",
       "text": [
        "The first time that we see the string on is at position 4\n"
       ]
      }
     ],
     "prompt_number": 59
    },
    {
     "cell_type": "code",
     "collapsed": false,
     "input": [
      "first_appearance = word.index(\"on\")\n",
      "second_appearance = word.index(\"on\",first_appearance+1)\n",
      "print \"The second time that we see the string on is at position\", second_appearance"
     ],
     "language": "python",
     "metadata": {},
     "outputs": [
      {
       "output_type": "stream",
       "stream": "stdout",
       "text": [
        "The second time that we see the string on is at position 24\n"
       ]
      }
     ],
     "prompt_number": 63
    },
    {
     "cell_type": "code",
     "collapsed": false,
     "input": [
      "print  \"We see the string on that many times: \",word.count(\"on\")"
     ],
     "language": "python",
     "metadata": {},
     "outputs": [
      {
       "output_type": "stream",
       "stream": "stdout",
       "text": [
        "We see the string on that many times:  5\n"
       ]
      }
     ],
     "prompt_number": 60
    },
    {
     "cell_type": "code",
     "collapsed": false,
     "input": [
      "print \"concatenation:\"\n",
      "print str_1 + \" \" + str_2\n",
      "print str_1 + \" everybody\"\n",
      "\n",
      "print \"length:\"\n",
      "print len(str_1)\n",
      "print len(str_1 + \" \" + str_2)\n",
      "\n",
      "print \"string casing:\"\n",
      "print str_1.upper()\n",
      "print \"HELLO\".lower()\n",
      "\n",
      "print \"string indexing:\"\n",
      "print \"hello\".index(\"ll\")\n",
      "print \"hello\".upper().index(\"LL\")\n",
      "\n",
      "print \"string count:\"\n",
      "print str_1.count(\"l\")\n",
      "print str_1.count(\"ll\")\n",
      "\n",
      "print \"starts with & endswith:\"\n",
      "print \"hello\".startswith(\"he\")\n",
      "print \"hello\".endswith(\"world\")\n",
      "\n",
      "\n",
      "print \"split:\"\n",
      "print \"practical data science\".split(\" \")\n",
      "print \"hello\".split(\" \")\n",
      "\n",
      "print \"equality:\"\n",
      "print str_1 == \"hello\"\n",
      "\n",
      "print str_1 == \"HELLO\""
     ],
     "language": "python",
     "metadata": {},
     "outputs": []
    },
    {
     "cell_type": "code",
     "collapsed": false,
     "input": [
      "mystring1 = \"practical data science\"\n",
      "mylist1 = mystring1.split(\" \")\n",
      "print mystring1\n",
      "print mylist1"
     ],
     "language": "python",
     "metadata": {},
     "outputs": [
      {
       "output_type": "stream",
       "stream": "stdout",
       "text": [
        "['practical', 'data', 'science']\n",
        "['practical', 'data', 'science']\n"
       ]
      }
     ],
     "prompt_number": 67
    },
    {
     "cell_type": "markdown",
     "metadata": {},
     "source": [
      "###Operations on Numeric Types:\n",
      "There are a bunch of common mathematical operations available on numeric types in python. If an operation is being performed on two integers, then the output will also be an integer. If one of the operands is a float, then the remaining operand will be cast into a float, and the result will likewise be a float.\n",
      "\n",
      "+ `+`: plus, add two numbers\n",
      "+ `-`: minus, subtract two numbers. If put before a single numeric value, takes the negative of that value. \n",
      "+ `*`: multiply two numbers\n",
      "+ `/`: divide the first operand by the second.\n",
      "+ `%`: modulo, what is the remainder when the first number is divided by the second?"
     ]
    },
    {
     "cell_type": "code",
     "collapsed": false,
     "input": [
      "print \"addition:\"\n",
      "print 1+1\n",
      "print 1.5 + 1"
     ],
     "language": "python",
     "metadata": {},
     "outputs": [
      {
       "output_type": "stream",
       "stream": "stdout",
       "text": [
        "addition:\n",
        "2\n",
        "2.5\n"
       ]
      }
     ],
     "prompt_number": 68
    },
    {
     "cell_type": "code",
     "collapsed": false,
     "input": [
      "print \"subtraction:\"\n",
      "print 1-1\n",
      "print 1-1.0"
     ],
     "language": "python",
     "metadata": {},
     "outputs": [
      {
       "output_type": "stream",
       "stream": "stdout",
       "text": [
        "subtraction:\n",
        "0\n",
        "0.0\n"
       ]
      }
     ],
     "prompt_number": 69
    },
    {
     "cell_type": "code",
     "collapsed": false,
     "input": [
      "print \"negation:\"\n",
      "x = 5\n",
      "print -x"
     ],
     "language": "python",
     "metadata": {},
     "outputs": [
      {
       "output_type": "stream",
       "stream": "stdout",
       "text": [
        "negation:\n",
        "-5\n"
       ]
      }
     ],
     "prompt_number": 70
    },
    {
     "cell_type": "code",
     "collapsed": false,
     "input": [
      "print \"multiplication:\"\n",
      "print 3*3\n",
      "print 2*2.0"
     ],
     "language": "python",
     "metadata": {},
     "outputs": []
    },
    {
     "cell_type": "code",
     "collapsed": false,
     "input": [
      "print \"division:\"\n",
      "print 5.0/2.0"
     ],
     "language": "python",
     "metadata": {},
     "outputs": [
      {
       "output_type": "stream",
       "stream": "stdout",
       "text": [
        "division:\n",
        "2.5\n"
       ]
      }
     ],
     "prompt_number": 71
    },
    {
     "cell_type": "code",
     "collapsed": false,
     "input": [
      "print \"integer division:\"\n",
      "print 5/2 # integer division!"
     ],
     "language": "python",
     "metadata": {},
     "outputs": [
      {
       "output_type": "stream",
       "stream": "stdout",
       "text": [
        "integer division:\n",
        "2\n"
       ]
      }
     ],
     "prompt_number": 72
    },
    {
     "cell_type": "code",
     "collapsed": false,
     "input": [
      "print \"modulo:\"\n",
      "print 5%2\n",
      "print 5.5%2"
     ],
     "language": "python",
     "metadata": {},
     "outputs": [
      {
       "output_type": "stream",
       "stream": "stdout",
       "text": [
        "modulo:\n",
        "1\n",
        "1.5\n"
       ]
      }
     ],
     "prompt_number": 73
    },
    {
     "cell_type": "code",
     "collapsed": false,
     "input": [
      "# Be careful of integer division, as the pattern appears often.\n",
      "\n",
      "males = 8\n",
      "females = 10\n",
      "\n",
      "print \"percentage of men:\"\n",
      "print males/(males+females)"
     ],
     "language": "python",
     "metadata": {},
     "outputs": [
      {
       "output_type": "stream",
       "stream": "stdout",
       "text": [
        "percentage of men:\n",
        "0\n"
       ]
      }
     ],
     "prompt_number": 74
    },
    {
     "cell_type": "code",
     "collapsed": false,
     "input": [
      "print \"percentage of men:\"\n",
      "print (1.0*males)/(males+females)"
     ],
     "language": "python",
     "metadata": {},
     "outputs": [
      {
       "output_type": "stream",
       "stream": "stdout",
       "text": [
        "percentage of men:\n",
        "0.444444444444\n"
       ]
      }
     ],
     "prompt_number": 77
    },
    {
     "cell_type": "markdown",
     "metadata": {},
     "source": [
      "There are also a bunch of comparison operators on numeric values:\n",
      "\n",
      "+ `==`: equality of values\n",
      "+ `<`: less than\n",
      "+ `<=`: less than or equal to\n",
      "+ `>`: greater than\n",
      "+ `>=`: greater than or equal to\n",
      "+ `!=`: not equal to, different than\n",
      "\n",
      "These all return a boolean with a value that depends on the outcome of the comparison. "
     ]
    },
    {
     "cell_type": "code",
     "collapsed": false,
     "input": [
      "print \"equals:\"\n",
      "print 1 == 2\n",
      "print 1 == 1"
     ],
     "language": "python",
     "metadata": {},
     "outputs": [
      {
       "output_type": "stream",
       "stream": "stdout",
       "text": [
        "equals:\n",
        "False\n",
        "True\n"
       ]
      }
     ],
     "prompt_number": 78
    },
    {
     "cell_type": "code",
     "collapsed": false,
     "input": [
      "# Beware though when comparing floats, as small \n",
      "# differences may not be captured. \n",
      "# We have sixteen 0's in the number below\n",
      "print 1.0000000000000001 == 1.0"
     ],
     "language": "python",
     "metadata": {},
     "outputs": [
      {
       "output_type": "stream",
       "stream": "stdout",
       "text": [
        "True\n"
       ]
      }
     ],
     "prompt_number": 86
    },
    {
     "cell_type": "code",
     "collapsed": false,
     "input": [
      "print \"comparison:\"\n",
      "print 1 > 0\n",
      "print 1 > 1\n",
      "print 1.0 > 1\n",
      "print 1 >= 1\n",
      "print 1.0 != 1"
     ],
     "language": "python",
     "metadata": {},
     "outputs": []
    },
    {
     "cell_type": "code",
     "collapsed": false,
     "input": [
      "# A little bit of an advanced example, to demonstrate the use of the \"less than\" operator\n",
      "# Notice the use of a temporary variable\n",
      "\n",
      "# Fibonacci series:\n",
      "# the sum of two elements defines the next\n",
      "a = 0\n",
      "b = 1\n",
      "while b < 20: \n",
      "    print b\n",
      "    t = a # temporary variable\n",
      "    a = b\n",
      "    b = t+b"
     ],
     "language": "python",
     "metadata": {},
     "outputs": []
    },
    {
     "cell_type": "markdown",
     "metadata": {},
     "source": [
      "###Boolean Operations:\n",
      "\n",
      "Frequently, one wants to combine or modify boolean values. Python has several operations for just this purpose:\n",
      "\n",
      "+ `not a`: returns the opposite value of `a`.\n",
      "+ `a and b`: returns true if and only if both `a` and `b` are true.\n",
      "+ `a or b`: returns true either `a` or `b` are true, or both.\n",
      "\n",
      "Like mathematical expressions, boolean expressions can be nested using parentheses. "
     ]
    },
    {
     "cell_type": "code",
     "collapsed": false,
     "input": [
      "var1 = 5\n",
      "var2 = 6\n",
      "var3 = 7 \n",
      "\n",
      "print (var1 + var2 == 11 and var2 + var3 == 13)\n",
      "print (var1 + var2 == 12 and var2 + var3 == 13)\n",
      "print (var1 + var2 == 12 or var2 + var3 == 13)\n"
     ],
     "language": "python",
     "metadata": {},
     "outputs": [
      {
       "output_type": "stream",
       "stream": "stdout",
       "text": [
        "True\n",
        "False\n",
        "True\n"
       ]
      }
     ],
     "prompt_number": 87
    },
    {
     "cell_type": "markdown",
     "metadata": {},
     "source": [
      "###String Formatting:\n",
      "Often one wants to embed other information into strings, sometimes with special formatting constraints. In python, one may insert special formatting characters into strings that convey what type of data should be inserted and where, and how the \"stringified\" form should be formatted. For instance, one may wish to insert an integer into a string:"
     ]
    },
    {
     "cell_type": "code",
     "collapsed": false,
     "input": [
      "message = 2\n",
      "print \"To be or not %d be\" % message"
     ],
     "language": "python",
     "metadata": {},
     "outputs": [
      {
       "output_type": "stream",
       "stream": "stdout",
       "text": [
        "To be or not 2 be\n"
       ]
      }
     ],
     "prompt_number": 88
    },
    {
     "cell_type": "markdown",
     "metadata": {},
     "source": [
      "Note the `%d` formatting (or conversion) specifier in the string. This is stating that you wish to insert an integer value (more on these conversion specifiers below). Then the value you wish to insert into the string is separated by a `%` character placed after the string. If you wish to insert more than one value into the string being formatted, they can be placed in a comma separated list, surrounded by parentheses after the `%`:"
     ]
    },
    {
     "cell_type": "code",
     "collapsed": false,
     "input": [
      "print \"%d be or not %d be\" % (3, 3)"
     ],
     "language": "python",
     "metadata": {},
     "outputs": [
      {
       "output_type": "stream",
       "stream": "stdout",
       "text": [
        "3 be or not 3 be\n"
       ]
      }
     ],
     "prompt_number": 90
    },
    {
     "cell_type": "markdown",
     "metadata": {},
     "source": [
      "In detail, a conversion specifier contains two or more characters which must occur in order with the following components:\n",
      "\n",
      "+ The `%` character which marks the start of the specifier\n",
      "+ An optional minimum field width. The value being read is padded to be at least this width\n",
      "+ An optional precision value, given as a \"`.`\" followed by the number of digits precision. \n",
      "+ Conversion specifier flag, which defines the type of the variable that we are printing (specified below). "
     ]
    },
    {
     "cell_type": "code",
     "collapsed": false,
     "input": [
      "print \"Result: %06.3f\" % (100.0/23)"
     ],
     "language": "python",
     "metadata": {},
     "outputs": [
      {
       "output_type": "stream",
       "stream": "stdout",
       "text": [
        "Result: 04.348\n"
       ]
      }
     ],
     "prompt_number": 93
    },
    {
     "cell_type": "code",
     "collapsed": false,
     "input": [
      "print \"Result: %6.3f\" % (100.0/23)"
     ],
     "language": "python",
     "metadata": {},
     "outputs": [
      {
       "output_type": "stream",
       "stream": "stdout",
       "text": [
        "Result:  4.348\n"
       ]
      }
     ],
     "prompt_number": 94
    },
    {
     "cell_type": "code",
     "collapsed": false,
     "input": [
      "print \"Result: %.2f\" % (100.0/23)"
     ],
     "language": "python",
     "metadata": {},
     "outputs": [
      {
       "output_type": "stream",
       "stream": "stdout",
       "text": [
        "Result: 4.35\n"
       ]
      }
     ],
     "prompt_number": 95
    },
    {
     "cell_type": "code",
     "collapsed": false,
     "input": [
      "print \"Result: %.4f\" % (100.0/23)"
     ],
     "language": "python",
     "metadata": {},
     "outputs": [
      {
       "output_type": "stream",
       "stream": "stdout",
       "text": [
        "Result: 4.347826\n"
       ]
      }
     ],
     "prompt_number": 97
    },
    {
     "cell_type": "markdown",
     "metadata": {},
     "source": [
      "Some common conversion flag characters are:\n",
      "\n",
      "+ `s`: String\n",
      "+ `d`: Signed integer decimal.\t\n",
      "+ `f`: Floating point decimal format.\n",
      "+ `e`: Floating point exponential format (lowercase).\n",
      "+ `E`: Floating point exponential format (uppercase)."
     ]
    },
    {
     "cell_type": "code",
     "collapsed": false,
     "input": [
      "print \"%d %s or not %04.3f %s\" % (2, \"be\", 10.0/3, 'b')"
     ],
     "language": "python",
     "metadata": {},
     "outputs": [
      {
       "output_type": "stream",
       "stream": "stdout",
       "text": [
        "2 be or not 3.333 b\n"
       ]
      }
     ],
     "prompt_number": 6
    },
    {
     "cell_type": "markdown",
     "metadata": {},
     "source": [
      "For a more detailed treatment on string formatting options, [see here](http://docs.python.org/release/2.5.2/lib/typesseq-strings.html)."
     ]
    }
   ],
   "metadata": {}
  }
 ]
}