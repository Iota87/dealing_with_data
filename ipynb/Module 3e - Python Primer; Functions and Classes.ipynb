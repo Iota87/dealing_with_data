{
 "metadata": {
  "name": "",
  "signature": "sha256:c7410002d51cab062281948a1bb29fedbbd5dd797d4f4dd8076686a4ee524b25"
 },
 "nbformat": 3,
 "nbformat_minor": 0,
 "worksheets": [
  {
   "cells": [
    {
     "cell_type": "markdown",
     "metadata": {},
     "source": [
      "User Defined Functions\n",
      "----------------------\n",
      "\n",
      "Functions assign a name to a block of code the way variables assign names to bits of data. This seeminly benign naming of things is incredibly powerful; alloing one to reuse common functionality over and over. Well-tested functions form building blocks for large, complex systems. As you progress through python, you'll find yourself using powerful functions defined in some of python's vast libraries of code. \n",
      "\n",
      "Function definitions begin with the `def` keyword, followed by the name you wish to assign to a function. Following this name are parentheses, `( )`, containing zero or more variable names, those values that are passed into the function. There is then a colon, followed by a code block defining the actions of the function:"
     ]
    },
    {
     "cell_type": "code",
     "collapsed": false,
     "input": [
      "def print_hi():\n",
      "    print \"hi!\""
     ],
     "language": "python",
     "metadata": {},
     "outputs": [],
     "prompt_number": 3
    },
    {
     "cell_type": "code",
     "collapsed": false,
     "input": [
      "print_hi()  \n",
      "print_hi()\n",
      "    \n",
      "print_hi()\n"
     ],
     "language": "python",
     "metadata": {},
     "outputs": [
      {
       "output_type": "stream",
       "stream": "stdout",
       "text": [
        "hi!\n",
        "hi!\n",
        "hi!\n"
       ]
      }
     ],
     "prompt_number": 2
    },
    {
     "cell_type": "code",
     "collapsed": false,
     "input": [
      "def hi_you(name):\n",
      "    print \"hi %s!\" % name.upper()"
     ],
     "language": "python",
     "metadata": {},
     "outputs": []
    },
    {
     "cell_type": "code",
     "collapsed": false,
     "input": [
      "hi_you(\"Panos\")\n",
      "hi_you(\"Simona\")\n",
      "hi_you(\"Adam\")"
     ],
     "language": "python",
     "metadata": {},
     "outputs": [
      {
       "ename": "NameError",
       "evalue": "name 'hi_you' is not defined",
       "output_type": "pyerr",
       "traceback": [
        "\u001b[1;31m---------------------------------------------------------------------------\u001b[0m\n\u001b[1;31mNameError\u001b[0m                                 Traceback (most recent call last)",
        "\u001b[1;32m<ipython-input-4-16706ebb520c>\u001b[0m in \u001b[0;36m<module>\u001b[1;34m()\u001b[0m\n\u001b[1;32m----> 1\u001b[1;33m \u001b[0mhi_you\u001b[0m\u001b[1;33m(\u001b[0m\u001b[1;34m\"Panos\"\u001b[0m\u001b[1;33m)\u001b[0m\u001b[1;33m\u001b[0m\u001b[0m\n\u001b[0m\u001b[0;32m      2\u001b[0m \u001b[0mhi_you\u001b[0m\u001b[1;33m(\u001b[0m\u001b[1;34m\"Simona\"\u001b[0m\u001b[1;33m)\u001b[0m\u001b[1;33m\u001b[0m\u001b[0m\n\u001b[0;32m      3\u001b[0m \u001b[0mhi_you\u001b[0m\u001b[1;33m(\u001b[0m\u001b[1;34m\"Adam\"\u001b[0m\u001b[1;33m)\u001b[0m\u001b[1;33m\u001b[0m\u001b[0m\n",
        "\u001b[1;31mNameError\u001b[0m: name 'hi_you' is not defined"
       ]
      }
     ],
     "prompt_number": 4
    },
    {
     "cell_type": "code",
     "collapsed": false,
     "input": [
      "def square(num):\n",
      "    squared = num*num\n",
      "    return squared\n"
     ],
     "language": "python",
     "metadata": {},
     "outputs": [],
     "prompt_number": 5
    },
    {
     "cell_type": "code",
     "collapsed": false,
     "input": [
      "x = square(3)"
     ],
     "language": "python",
     "metadata": {},
     "outputs": [],
     "prompt_number": 7
    },
    {
     "cell_type": "code",
     "collapsed": false,
     "input": [
      "for i in range(15):\n",
      "    print \"The square of %d\" %i, \"is %d\" % square(i)"
     ],
     "language": "python",
     "metadata": {},
     "outputs": [
      {
       "output_type": "stream",
       "stream": "stdout",
       "text": [
        "The square of 0 is 0\n",
        "The square of 1 is 1\n",
        "The square of 2 is 4\n",
        "The square of 3 is 9\n",
        "The square of 4 is 16\n",
        "The square of 5 is 25\n",
        "The square of 6 is 36\n",
        "The square of 7 is 49\n",
        "The square of 8 is 64\n",
        "The square of 9 is 81\n",
        "The square of 10 is 100\n",
        "The square of 11 is 121\n",
        "The square of 12 is 144\n",
        "The square of 13 is 169\n",
        "The square of 14 is 196\n"
       ]
      }
     ],
     "prompt_number": 9
    },
    {
     "cell_type": "code",
     "collapsed": false,
     "input": [
      "# Let's play a little bit with string formatting as well, to refresh our memories\n",
      "for i in range(15):\n",
      "    print \"The square of %2d\" %i, \"is %3d\" % square(i)"
     ],
     "language": "python",
     "metadata": {},
     "outputs": [
      {
       "output_type": "stream",
       "stream": "stdout",
       "text": [
        "The square of  0 is   0\n",
        "The square of  1 is   1\n",
        "The square of  2 is   4\n",
        "The square of  3 is   9\n",
        "The square of  4 is  16\n",
        "The square of  5 is  25\n",
        "The square of  6 is  36\n",
        "The square of  7 is  49\n",
        "The square of  8 is  64\n",
        "The square of  9 is  81\n",
        "The square of 10 is 100\n",
        "The square of 11 is 121\n",
        "The square of 12 is 144\n",
        "The square of 13 is 169\n",
        "The square of 14 is 196\n"
       ]
      }
     ],
     "prompt_number": 8
    },
    {
     "cell_type": "markdown",
     "metadata": {},
     "source": [
      "Note that the fucntion `square` has a special keyword return. The argument to return is passed to whatever piece of code is calling the function. In this case, the square of the number that was input. \n",
      "\n",
      "Variables set inside of functions are said to be scoped to those functions: changes, including any new variables created, are only accessible while in the function code block (with some exceptions). If \"outside\" variables are modified inside a function's context, the contents of that variable are first copied.\n",
      "\n",
      "Similarly, changes or modifications to a function's arguments aren't reflected once the scope is returned; The variable will continue to point to the original thing. However, it is possible to modify the thing that is passed, assuming that it is mutable."
     ]
    },
    {
     "cell_type": "code",
     "collapsed": false,
     "input": [
      "# inside a function's context, changes to a variable defined outside that\n",
      "# context aren't reflected once the context is returned\n",
      "def times_two(input):\n",
      "    input = 2*input\n",
      "    return input\n",
      "\n",
      "variable_four = 4\n",
      "print times_two(variable_four)\n",
      "print variable_four"
     ],
     "language": "python",
     "metadata": {},
     "outputs": [
      {
       "output_type": "stream",
       "stream": "stdout",
       "text": [
        "8\n",
        "4\n"
       ]
      }
     ],
     "prompt_number": 10
    },
    {
     "cell_type": "code",
     "collapsed": false,
     "input": [
      "# inside a function's context, changes to a variable defined outside that\n",
      "# context aren't reflected once the context is returned\n",
      "\n",
      "name = \"panos\"\n",
      "def do_something():\n",
      "    print \"We are now in the function!\"\n",
      "    name = \"not panos\"\n",
      "    print name\n",
      "    print \"something! ... and we are out\"\n",
      "\n",
      "print name\n",
      "do_something()\n",
      "print name"
     ],
     "language": "python",
     "metadata": {},
     "outputs": [
      {
       "output_type": "stream",
       "stream": "stdout",
       "text": [
        "panos\n",
        "We are now in the function!\n",
        "not panos\n",
        "something! ... and we are out\n",
        "panos\n"
       ]
      }
     ],
     "prompt_number": 16
    },
    {
     "cell_type": "code",
     "collapsed": false,
     "input": [
      "print \"We start here!\"\n",
      "print \"The name is\", name\n",
      "print \"Let's call the function...\"\n",
      "do_something()\n",
      "print \"Done with the function...\"\n",
      "print name"
     ],
     "language": "python",
     "metadata": {},
     "outputs": [
      {
       "output_type": "stream",
       "stream": "stdout",
       "text": [
        "We start here!\n",
        "The name is panos\n",
        "Let's call the function...\n",
        "We are now in the function!\n",
        "not panos\n",
        "something! ... and we are out\n",
        "Done with the function...\n",
        "panos\n"
       ]
      }
     ],
     "prompt_number": 17
    },
    {
     "cell_type": "code",
     "collapsed": false,
     "input": [
      "# but outside variables can be read!\n",
      "def do_something_else():\n",
      "    name = \"Not Panos\"\n",
      "    print name\n",
      "\n",
      "def do_something_new(some_name):\n",
      "    some_name = \"No-no-nothing\"\n",
      "    print some_name\n",
      "\n",
      "name = \"Pa-pa-panos\"\n",
      "#print name\n",
      "#do_something_else()\n",
      "print name\n",
      "do_something_new(name)\n",
      "print name\n",
      "\n"
     ],
     "language": "python",
     "metadata": {},
     "outputs": [
      {
       "output_type": "stream",
       "stream": "stdout",
       "text": [
        "Pa-pa-panos\n",
        "No-no-nothing\n",
        "Pa-pa-panos\n"
       ]
      }
     ],
     "prompt_number": 23
    },
    {
     "cell_type": "code",
     "collapsed": false,
     "input": [
      "# mutable, composite data structures (lists, sets, dictionaries) can be modified\n",
      "def add_sum(parameter_list):\n",
      "    s = sum(parameter_list)\n",
      "    parameter_list.append(s)\n",
      "    return s\n",
      "\n",
      "a_list = [1,2,3]\n",
      "total = add_sum(a_list)\n",
      "print total\n",
      "print a_list\n",
      "\n",
      "# try again!\n",
      "tot = add_sum(a_list)\n",
      "print tot\n",
      "print a_list\n"
     ],
     "language": "python",
     "metadata": {},
     "outputs": [
      {
       "output_type": "stream",
       "stream": "stdout",
       "text": [
        "6\n",
        "[1, 2, 3, 6]\n",
        "12\n",
        "[1, 2, 3, 6, 12]\n"
       ]
      }
     ],
     "prompt_number": 26
    },
    {
     "cell_type": "code",
     "collapsed": false,
     "input": [
      "# variables created in a function aren't accessible \n",
      "# outside that function's context\n",
      "def do_something_new():\n",
      "    thing = \"123\"\n",
      "    print \"Hi!\"\n",
      "\n",
      "do_something_new()\n",
      "print thing"
     ],
     "language": "python",
     "metadata": {},
     "outputs": [
      {
       "output_type": "stream",
       "stream": "stdout",
       "text": [
        "Hi!\n"
       ]
      },
      {
       "ename": "NameError",
       "evalue": "name 'thing' is not defined",
       "output_type": "pyerr",
       "traceback": [
        "\u001b[1;31m---------------------------------------------------------------------------\u001b[0m\n\u001b[1;31mNameError\u001b[0m                                 Traceback (most recent call last)",
        "\u001b[1;32m<ipython-input-11-beb0bbe46a06>\u001b[0m in \u001b[0;36m<module>\u001b[1;34m()\u001b[0m\n\u001b[0;32m      6\u001b[0m \u001b[1;33m\u001b[0m\u001b[0m\n\u001b[0;32m      7\u001b[0m \u001b[0mdo_something_new\u001b[0m\u001b[1;33m(\u001b[0m\u001b[1;33m)\u001b[0m\u001b[1;33m\u001b[0m\u001b[0m\n\u001b[1;32m----> 8\u001b[1;33m \u001b[1;32mprint\u001b[0m \u001b[0mthing\u001b[0m\u001b[1;33m\u001b[0m\u001b[0m\n\u001b[0m",
        "\u001b[1;31mNameError\u001b[0m: name 'thing' is not defined"
       ]
      }
     ],
     "prompt_number": 11
    },
    {
     "cell_type": "markdown",
     "metadata": {},
     "source": [
      "Class Objects\n",
      "-------------\n",
      "\n",
      "Python is what is known as an object-oriented programming language. This means python allows a programmer to define special custom data structures called classes that not only can contain their own data elements, but special fucntions called methods that can potentially alter a class instance's internal state. \n",
      "\n",
      "Classes are defined through the keyword `class`, followed by the name of the class, which, by convention, is capitalized. This is followed by a code block that specifies the methods that define a class. Note that classes are a rich and complex topic in python. However, much of the functionality a data scientist may wish to use, in particular, python's machine learning libraries, will be accessed through class objects. Please see the [official documentation](http://docs.python.org/2/tutorial/classes.html) for more info."
     ]
    },
    {
     "cell_type": "code",
     "collapsed": false,
     "input": [
      "# defining a class\n",
      "class TestClass:\n",
      "    def im_a_class(self):\n",
      "        print \"hi! i'm a class!\"\n",
      "\n",
      "    def hello(self, name):\n",
      "        print \"hello %s!\" % name"
     ],
     "language": "python",
     "metadata": {},
     "outputs": []
    },
    {
     "cell_type": "markdown",
     "metadata": {},
     "source": [
      "Note that the method functions inside the class definition take a special extra parameter, `self`. This tells the method that it is assigned to an example of a class, and when it is invoked, it potentially operates on that example, but not other examples of that class.\n",
      "\n",
      "Concrete examples of classes are called class objects. These are created using a special function called a class constructor. In python, unless the programmer specifies otherwise, all classes are assigned a class constructor that doesn't take any arguments, and doesn't do anything beyond create a new example class object. These constructor functions are invoked by calling the class name as if you were calling a function, that is, using the class name with parentheses afterwards.\n",
      "\n",
      "Methods associated with a class can be invoked by the special dot operator (`.`). Here, you take a class object, a concrete example of a class, often assigned to a variable, then use the dot character (`.`), then the method you wish to call. This method operates only on the class object to the left of the dot. The arguments passed to these methods ignore the special `self`, keyword mentioned above, you only need to pass in what is to the right of this keyword, if anything."
     ]
    },
    {
     "cell_type": "code",
     "collapsed": false,
     "input": [
      "a_test_class_variable = TestClass()\n",
      "a_test_class_variable.im_a_class()\n",
      "\n",
      "a_test_class_variable.hello(\"panos\")"
     ],
     "language": "python",
     "metadata": {},
     "outputs": []
    },
    {
     "cell_type": "markdown",
     "metadata": {},
     "source": [
      "As mentioned above, classes always have a special function called a constructor that is used to build concrete instances of class objects. A programmer can define their own constructor function, defining any actions that are performed when building a new class object, and data that are used internally within a class object. Like all functions, constructors can take arguments that can be used during their execution. Like methods in a class, the constructor definition takes the special `self` parameter as the left most argument in it's definition. This allows you to modify the internal state of the class object being constructed. Here is an example class with a custom constructor. Note that internal variables or methods can be accessed through the dot operator on `self`."
     ]
    },
    {
     "cell_type": "code",
     "collapsed": false,
     "input": [
      "class Person:\n",
      "    \n",
      "    def __init__(self, first_name, last_name):\n",
      "        # this constructor sets the values of \"member variables\"\n",
      "        # in the concrete class object being constructed\n",
      "        self.first = first_name\n",
      "        self.last = last_name\n",
      "        self.screams = 0\n",
      "\n",
      "    def scream(self):\n",
      "        # modifying an internal example\n",
      "        self.screams = self.screams + 1\n",
      "        print \"%s has screamed %d times\" % (self.first, self.screams)\n",
      "        \n",
      "panos = Person(\"Panos\", \"Ipeirotis\")\n",
      "panos.scream()\n",
      "panos.scream()\n",
      "# accessing the value of a member variable\n",
      "print \"First Name:\", panos.first\n",
      "print \"Last Name:\", panos.last\n",
      "print \"Num of Screams:\", panos.screams\n"
     ],
     "language": "python",
     "metadata": {},
     "outputs": []
    }
   ],
   "metadata": {}
  }
 ]
}