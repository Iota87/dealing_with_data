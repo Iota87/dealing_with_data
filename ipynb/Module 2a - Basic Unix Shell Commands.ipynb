{
 "metadata": {
  "name": "",
  "signature": "sha256:362c2f986265ce29c9f4d9ebcb64414ff6ba9e51a77e03b7f62c1a061b47153a"
 },
 "nbformat": 3,
 "nbformat_minor": 0,
 "worksheets": [
  {
   "cells": [
    {
     "cell_type": "markdown",
     "metadata": {},
     "source": [
      "Overview\n",
      "--------\n",
      "\n",
      "Modern data science is impossible without some understanding of the Unix command line.  Unix is a family of computer operating systems including the Mac\u2019s OS X and Linux (technically, Linux is a Unix clone); Windows has also Unix emulators, which allow running Unix commands.  In our class, we use the Linux (specifically, the Ubuntu distribution), running on the Amazon EC2 cloud infrastructure.\n",
      "\n",
      "This document is a tutorial in some of the basic unix command-line utilities used for data gathering, searching, cleaning and summarizing. Generally, unix commands are very efficient, and can be used to process data that is quite large, beyond what can be loaded into your computer\u2019s main memory, and can easily handle workloads far exceeding the capabilities of tools like Excel. We will start by covering various Unix tools early on, showing how we can combine and pipeline their output, using pipes, filters, and redirection. \n",
      "\n",
      "Command-line Utilities\n",
      "----------------------\n",
      "\n",
      "This section gives some crucial unix utilities. This list is by no means exhaustive, and the ordering is not perfect; different tasks have different demands. Fortunately, unix has been around for a while and has an extremely active user base, developing a wide range of utilities for common data processing, networking, system management, and automation tasks.\n",
      "\n",
      "Once you are familiar with programming, you will be able to write your own scripts in Python that can perform tasks which you are unable to accomplish using existing unix utilities. The tradeoff between writing hand-coded scripts and existing unix utilities is an increase in flexibility at the expense of increased development time, and therefore a reduction in the speed of iteration.\n",
      "\n",
      "Once you have access to the terminal in your machine, try it out! Let's start:\n",
      "\n",
      "(_**Note**: In IPython, to call a command line script, you add an exclamation mark before the command. That's why you will see all the commands in this notebook being preceded by a `!` character._)"
     ]
    },
    {
     "cell_type": "markdown",
     "metadata": {},
     "source": [
      "### `pwd`\n",
      "\n",
      "Prints the current directory. Type `pwd` in the shell prompt. This will tell you your current directory. "
     ]
    },
    {
     "cell_type": "code",
     "collapsed": false,
     "input": [
      "!pwd"
     ],
     "language": "python",
     "metadata": {},
     "outputs": [
      {
       "output_type": "stream",
       "stream": "stdout",
       "text": [
        "/home/ubuntu/ipynb\r\n"
       ]
      }
     ],
     "prompt_number": 2
    },
    {
     "cell_type": "markdown",
     "metadata": {},
     "source": [
      "###`ls`\n",
      "\n",
      "Lists the contents of a directory or provide information about the specified file. Typical usage: \n",
      "\n",
      "`ls [options] [files or directories]`\n",
      "\n",
      "If you want to know the contents of this directory, type `ls -A`. "
     ]
    },
    {
     "cell_type": "code",
     "collapsed": false,
     "input": [
      "!ls -la"
     ],
     "language": "python",
     "metadata": {},
     "outputs": [
      {
       "output_type": "stream",
       "stream": "stdout",
       "text": [
        "total 504\r\n",
        "drwxrwxr-x  5 ubuntu ubuntu   4096 Jan 18 16:04 .\r\n",
        "drwxr-xr-x 12 ubuntu ubuntu   4096 Jan 16 04:05 ..\r\n",
        "-rw-rw-r--  1 ubuntu ubuntu    807 Jan 15 19:50 alldata.txt\r\n",
        "-rw-rw-r--  1 ubuntu ubuntu   9008 Oct 15 15:54 A quick tour of IPython Notebook.ipynb\r\n",
        "-rw-------  1 ubuntu ubuntu   5544 Jan 15 17:08 Assignment 1 Template (Using pipes, filters, and jq).ipynb\r\n",
        "drwxrwxr-x  2 ubuntu ubuntu   4096 Jan 15 17:21 DealingWithData\r\n",
        "drwxrwxr-x  2 ubuntu ubuntu   4096 Jan 17 21:05 .ipynb_checkpoints\r\n",
        "-rw-rw-r--  1 ubuntu ubuntu    348 Jan 15 19:47 location2.json\r\n",
        "-rw-rw-r--  1 ubuntu ubuntu    348 Jan 15 19:47 location.json\r\n",
        "-rw-------  1 ubuntu ubuntu  18613 Jan 18 16:04 Module 2a - Basic Unix Shell Commands.ipynb\r\n",
        "-rw-------  1 ubuntu ubuntu   8252 Jan 15 19:49 Module 2b - Fetching data using CURL.ipynb\r\n",
        "-rw-------  1 ubuntu ubuntu  41351 Jan 16 17:29 Module 2c - Pipes, filters, and more Unix Commands.ipynb\r\n",
        "-rw-------  1 ubuntu ubuntu  25923 Jan 17 20:17 Module 3a - Python Primer; Primitive Data Types.ipynb\r\n",
        "-rw-------  1 ubuntu ubuntu  15212 Jan 17 20:29 Module 3b - Python Primer; Lists, Sets, Tuples, Dictionaries.ipynb\r\n",
        "-rw-------  1 ubuntu ubuntu  12611 Jan 17 20:59 Module 3c - Python Primer; Control Flow Statements.ipynb\r\n",
        "-rw-------  1 ubuntu ubuntu 144755 Jan 17 20:57 Module 3d - Python Primer; Reading and Writing Files.ipynb\r\n",
        "-rw-------  1 ubuntu ubuntu  10856 Jan 17 20:12 Module 3e - Python Primer; Functions and Classes.ipynb\r\n",
        "-rw-------  1 ubuntu ubuntu 101068 Jan 17 21:07 Module 3f - Python Primer; Libraries and Matplotlib example.ipynb\r\n",
        "-rw-------  1 ubuntu ubuntu  29913 Jan 16 22:48 Module 4a - Regular Expressions and grep.ipynb\r\n",
        "-rw-------  1 ubuntu ubuntu  22264 Jan 16 22:48 Module 4b - Regular Expressions using Python.ipynb\r\n",
        "drwxrwxr-x  4 ubuntu ubuntu   4096 Jan 13 07:10 pandas-cookbook-master\r\n",
        "-rw-rw-r--  1 ubuntu ubuntu    201 Jan 15 19:49 sample.txt\r\n"
       ]
      }
     ],
     "prompt_number": 5
    },
    {
     "cell_type": "markdown",
     "metadata": {},
     "source": [
      "Let's try now to execute ls with a different set of option, to print the contents of all the folders under the current one:"
     ]
    },
    {
     "cell_type": "code",
     "collapsed": false,
     "input": [
      "!ls -R"
     ],
     "language": "python",
     "metadata": {},
     "outputs": []
    },
    {
     "cell_type": "markdown",
     "metadata": {},
     "source": [
      "\n",
      "\n",
      "By default, ls simply lists the contents of the current directory. There are several options that when used in conjunction with ls give more detailed information about the files or directories being queried. Here are a sample:\n",
      "\n",
      "+ `-A`: list all of the contents of the queried directory, even hidden files.\n",
      "+ `-l`: detailed format, display additional info for all files and directories.\n",
      "+ `-R`: recursively list the contents of any subdirectories.\n",
      "+ `-t`: sort files by the time of the last modification.\n",
      "+ `-S`: sort files by size.\n",
      "+ `-r`: reverse any sort order.\n",
      "+ `-h`: when used in conjunction with `-l`, gives a more human-readable output.\n",
      "\n",
      "###`cd`\n",
      "\n",
      "Change the current directory. Usage: \n",
      "\n",
      "`cd [directory to move to]`\n",
      "\n",
      "For example, to change to the `/home/ubuntu` directory:"
     ]
    },
    {
     "cell_type": "code",
     "collapsed": false,
     "input": [
      "!cd /home/ubuntu"
     ],
     "language": "python",
     "metadata": {},
     "outputs": []
    },
    {
     "cell_type": "markdown",
     "metadata": {},
     "source": [
      "If we want to run two commands in a row, we separate them using the `;` character. For example, to change to a directory and show its contents:"
     ]
    },
    {
     "cell_type": "code",
     "collapsed": false,
     "input": [
      "!cd /home/ubuntu; ls -la"
     ],
     "language": "python",
     "metadata": {},
     "outputs": [
      {
       "output_type": "stream",
       "stream": "stdout",
       "text": [
        "total 4278896\r\n",
        "drwxr-xr-x 12 ubuntu ubuntu       4096 Jan 16 04:05 .\r\n",
        "drwxr-xr-x  3 root   root         4096 Jan 13 07:09 ..\r\n",
        "-rw-rw-r--  1 ubuntu ubuntu 4381484212 Jan 15 20:50 311.csv\r\n",
        "-rw-------  1 ubuntu ubuntu       9476 Jan 16 20:49 .bash_history\r\n",
        "-rw-r--r--  1 ubuntu ubuntu        220 Apr  9  2014 .bash_logout\r\n",
        "-rw-r--r--  1 ubuntu ubuntu       3637 Apr  9  2014 .bashrc\r\n",
        "drwxrwxr-x  4 ubuntu ubuntu       4096 Jan 14 22:24 .cache\r\n",
        "drwxrwxr-x  3 ubuntu ubuntu       4096 Dec 12 05:54 .config\r\n",
        "drwxrwxr-x  2 ubuntu ubuntu       4096 Jan 16 19:02 data\r\n",
        "drwxrwxr-x  5 ubuntu ubuntu       4096 Jan 18 16:11 ipynb\r\n",
        "drwxrwxr-x  6 ubuntu ubuntu       4096 Dec 11 04:42 .ipython\r\n",
        "drwx------  3 ubuntu ubuntu       4096 Jan 14 23:17 .mozilla\r\n",
        "-rw-rw-r--  1 ubuntu ubuntu       1864 Dec 11 04:39 mycert.pem\r\n",
        "drwxrwxr-x  2 ubuntu ubuntu       4096 Dec 11 04:12 .pip\r\n",
        "-rw-r--r--  1 ubuntu ubuntu        675 Apr  9  2014 .profile\r\n",
        "-rw-------  1 ubuntu ubuntu       1024 Dec 11 04:39 .rnd\r\n",
        "-rw-rw-r--  1 ubuntu ubuntu         66 Jan 16 04:05 .selected_editor\r\n",
        "drwx------  2 ubuntu ubuntu       4096 Dec 11 04:04 .ssh\r\n",
        "-rwx------  1 ubuntu ubuntu         94 Dec 14 03:26 start_ipynb.sh\r\n",
        "drwxr-xr-x  2 ubuntu ubuntu       4096 Jan 13 06:56 .vim\r\n",
        "-rw-------  1 ubuntu ubuntu       6633 Jan 15 16:17 .viminfo\r\n",
        "drwx------  2 ubuntu ubuntu       4096 Jan 14 23:17 .w3m\r\n"
       ]
      }
     ],
     "prompt_number": 6
    },
    {
     "cell_type": "markdown",
     "metadata": {},
     "source": [
      "### `mkdir`\n",
      "\n",
      "Creates a new folder. For example, to create a new folder named `DealingWithData` under the current folder, we type:\n"
     ]
    },
    {
     "cell_type": "code",
     "collapsed": false,
     "input": [
      "!mkdir DealingWithData\n",
      "!ls -lA"
     ],
     "language": "python",
     "metadata": {},
     "outputs": [
      {
       "output_type": "stream",
       "stream": "stdout",
       "text": [
        "mkdir: cannot create directory \u2018DealingWithData\u2019: File exists\r\n"
       ]
      },
      {
       "output_type": "stream",
       "stream": "stdout",
       "text": [
        "total 500\r\n",
        "-rw-rw-r-- 1 ubuntu ubuntu    807 Jan 15 19:50 alldata.txt\r\n",
        "-rw-rw-r-- 1 ubuntu ubuntu   9008 Oct 15 15:54 A quick tour of IPython Notebook.ipynb\r\n",
        "-rw------- 1 ubuntu ubuntu   5544 Jan 15 17:08 Assignment 1 Template (Using pipes, filters, and jq).ipynb\r\n",
        "drwxrwxr-x 2 ubuntu ubuntu   4096 Jan 15 17:21 DealingWithData\r\n",
        "drwxrwxr-x 2 ubuntu ubuntu   4096 Jan 17 21:05 .ipynb_checkpoints\r\n",
        "-rw-rw-r-- 1 ubuntu ubuntu    348 Jan 15 19:47 location2.json\r\n",
        "-rw-rw-r-- 1 ubuntu ubuntu    348 Jan 15 19:47 location.json\r\n",
        "-rw------- 1 ubuntu ubuntu  22780 Jan 18 16:13 Module 2a - Basic Unix Shell Commands.ipynb\r\n",
        "-rw------- 1 ubuntu ubuntu   8252 Jan 15 19:49 Module 2b - Fetching data using CURL.ipynb\r\n",
        "-rw------- 1 ubuntu ubuntu  41351 Jan 16 17:29 Module 2c - Pipes, filters, and more Unix Commands.ipynb\r\n",
        "-rw------- 1 ubuntu ubuntu  25923 Jan 17 20:17 Module 3a - Python Primer; Primitive Data Types.ipynb\r\n",
        "-rw------- 1 ubuntu ubuntu  15212 Jan 17 20:29 Module 3b - Python Primer; Lists, Sets, Tuples, Dictionaries.ipynb\r\n",
        "-rw------- 1 ubuntu ubuntu  12611 Jan 17 20:59 Module 3c - Python Primer; Control Flow Statements.ipynb\r\n",
        "-rw------- 1 ubuntu ubuntu 144755 Jan 17 20:57 Module 3d - Python Primer; Reading and Writing Files.ipynb\r\n",
        "-rw------- 1 ubuntu ubuntu  10856 Jan 17 20:12 Module 3e - Python Primer; Functions and Classes.ipynb\r\n",
        "-rw------- 1 ubuntu ubuntu 101068 Jan 17 21:07 Module 3f - Python Primer; Libraries and Matplotlib example.ipynb\r\n",
        "-rw------- 1 ubuntu ubuntu  29913 Jan 16 22:48 Module 4a - Regular Expressions and grep.ipynb\r\n",
        "-rw------- 1 ubuntu ubuntu  22264 Jan 16 22:48 Module 4b - Regular Expressions using Python.ipynb\r\n",
        "drwxrwxr-x 4 ubuntu ubuntu   4096 Jan 13 07:10 pandas-cookbook-master\r\n",
        "-rw-rw-r-- 1 ubuntu ubuntu    201 Jan 15 19:49 sample.txt\r\n"
       ]
      }
     ],
     "prompt_number": 7
    },
    {
     "cell_type": "markdown",
     "metadata": {},
     "source": [
      "### `rmdir` \n",
      "\n",
      "Removes a folder. (The folder must be empty for the command to succeed.)"
     ]
    },
    {
     "cell_type": "code",
     "collapsed": false,
     "input": [
      "!rmdir DealingWithData"
     ],
     "language": "python",
     "metadata": {},
     "outputs": []
    },
    {
     "cell_type": "markdown",
     "metadata": {},
     "source": [
      "### `cp` \n",
      "\n",
      "Copies a file. Usage:\n",
      "\n",
      "`cp [source file] [destination file]`\n",
      "\n",
      "It can also be used to copy multiple files into a directory.\n",
      "\n",
      "`cp [source file1] [source file2] ... [destination directory]`\n",
      "\n",
      "For example, to copy the file 'A quick tour of IPython Notebook.ipynb' and create a new file IPythonTour.ipynb"
     ]
    },
    {
     "cell_type": "code",
     "collapsed": false,
     "input": [
      "!cp 'A quick tour of IPython Notebook.ipynb' IPythonTour.ipynb\n",
      "!ls -lA"
     ],
     "language": "python",
     "metadata": {},
     "outputs": [
      {
       "output_type": "stream",
       "stream": "stdout",
       "text": [
        "total 512\r\n",
        "-rw-rw-r-- 1 ubuntu ubuntu    807 Jan 15 19:50 alldata.txt\r\n",
        "-rw-rw-r-- 1 ubuntu ubuntu   9008 Oct 15 15:54 A quick tour of IPython Notebook.ipynb\r\n",
        "-rw------- 1 ubuntu ubuntu   5544 Jan 15 17:08 Assignment 1 Template (Using pipes, filters, and jq).ipynb\r\n",
        "drwxrwxr-x 2 ubuntu ubuntu   4096 Jan 17 21:05 .ipynb_checkpoints\r\n",
        "-rw-rw-r-- 1 ubuntu ubuntu   9008 Jan 18 16:16 IPythonTour.ipynb\r\n",
        "-rw-rw-r-- 1 ubuntu ubuntu    348 Jan 15 19:47 location2.json\r\n",
        "-rw-rw-r-- 1 ubuntu ubuntu    348 Jan 15 19:47 location.json\r\n",
        "-rw------- 1 ubuntu ubuntu  25172 Jan 18 16:15 Module 2a - Basic Unix Shell Commands.ipynb\r\n",
        "-rw------- 1 ubuntu ubuntu   8252 Jan 15 19:49 Module 2b - Fetching data using CURL.ipynb\r\n",
        "-rw------- 1 ubuntu ubuntu  41351 Jan 16 17:29 Module 2c - Pipes, filters, and more Unix Commands.ipynb\r\n",
        "-rw------- 1 ubuntu ubuntu  25923 Jan 17 20:17 Module 3a - Python Primer; Primitive Data Types.ipynb\r\n",
        "-rw------- 1 ubuntu ubuntu  15212 Jan 17 20:29 Module 3b - Python Primer; Lists, Sets, Tuples, Dictionaries.ipynb\r\n",
        "-rw------- 1 ubuntu ubuntu  12611 Jan 17 20:59 Module 3c - Python Primer; Control Flow Statements.ipynb\r\n",
        "-rw------- 1 ubuntu ubuntu 144755 Jan 17 20:57 Module 3d - Python Primer; Reading and Writing Files.ipynb\r\n",
        "-rw------- 1 ubuntu ubuntu  10856 Jan 17 20:12 Module 3e - Python Primer; Functions and Classes.ipynb\r\n",
        "-rw------- 1 ubuntu ubuntu 101068 Jan 17 21:07 Module 3f - Python Primer; Libraries and Matplotlib example.ipynb\r\n",
        "-rw------- 1 ubuntu ubuntu  29913 Jan 16 22:48 Module 4a - Regular Expressions and grep.ipynb\r\n",
        "-rw------- 1 ubuntu ubuntu  22264 Jan 16 22:48 Module 4b - Regular Expressions using Python.ipynb\r\n",
        "drwxrwxr-x 4 ubuntu ubuntu   4096 Jan 13 07:10 pandas-cookbook-master\r\n",
        "-rw-rw-r-- 1 ubuntu ubuntu    201 Jan 15 19:49 sample.txt\r\n"
       ]
      }
     ],
     "prompt_number": 8
    },
    {
     "cell_type": "markdown",
     "metadata": {},
     "source": [
      "Notice the use of quotes above when specifying a filename that contains spaces. Alternatively, we can \"escape\" the space characters:"
     ]
    },
    {
     "cell_type": "code",
     "collapsed": false,
     "input": [
      "!cp A\\ quick\\ tour\\ of\\ IPython\\ Notebook.ipynb IPythonTour2.ipynb\n",
      "!ls -lA"
     ],
     "language": "python",
     "metadata": {},
     "outputs": []
    },
    {
     "cell_type": "markdown",
     "metadata": {},
     "source": [
      "Or we can copy the file to another folder. For example, the following command copies file 'A quick tour of IPython Notebook.ipynb' to folder DealingWithData and names the new file IPythonTour.ipynb"
     ]
    },
    {
     "cell_type": "code",
     "collapsed": false,
     "input": [
      "!mkdir DealingWithData\n",
      "!cp 'A quick tour of IPython Notebook.ipynb' DealingWithData/IPythonTour.ipynb\n",
      "!ls -lA DealingWithData"
     ],
     "language": "python",
     "metadata": {},
     "outputs": []
    },
    {
     "cell_type": "markdown",
     "metadata": {},
     "source": [
      "### `rm` \n",
      "\n",
      "The `rm` command is used to delete a file.\n",
      "\n",
      "rm -r : deletes a folder, recursively\n",
      "\n",
      "\n",
      "### `mv`\n",
      "\n",
      "The `mv` command is similar to `cp` but it moves the file instead of just copying it. Effectively it performs a `cp` command, followed by an `rm` for the original file\n",
      "\n",
      "### `man` \n",
      "\n",
      "The `man` command shows the instructions (manual) for that command. For example, if we want to see all the options for the command `ls`, we type:"
     ]
    },
    {
     "cell_type": "code",
     "collapsed": false,
     "input": [
      "!man ls"
     ],
     "language": "python",
     "metadata": {},
     "outputs": []
    },
    {
     "cell_type": "markdown",
     "metadata": {},
     "source": [
      "### `date`\n",
      "\n",
      "The `date` commands prints the current date"
     ]
    },
    {
     "cell_type": "code",
     "collapsed": false,
     "input": [
      "!date"
     ],
     "language": "python",
     "metadata": {},
     "outputs": [
      {
       "output_type": "stream",
       "stream": "stdout",
       "text": [
        "Sun Jan 18 16:23:34 UTC 2015\r\n"
       ]
      }
     ],
     "prompt_number": 10
    },
    {
     "cell_type": "markdown",
     "metadata": {},
     "source": [
      "### `logout` \n",
      "\n",
      "The logout command logs you out of the shell.\n",
      "\n",
      "We have now covered the basic commands for file management in Unix. While it is useful to know these commands, Vagrant gives us the ability to also see, move, and edit the files under the `/vagrant` directory, from the \"host\" operating system of your laptop. So, you can also use the tools and editors that you like. "
     ]
    },
    {
     "cell_type": "markdown",
     "metadata": {},
     "source": [
      "## Exercise\n",
      "\n",
      "* Create two new directories, dir1 and dir2 with the mkdir command. \n",
      "* Use ls to confirm\n",
      "* Copy the file /home/ubuntu/data/titanic.xls to dir1 and name it file1.xls\n",
      "* Copy the file /home/ubuntu/data/imdb.sql to dir2 and name it file2.sql\n",
      "* Move each file to the other directory (file1.xls to dir2 and file2.sql to dir1) with the mv command\n",
      "* Delete both directories with the rm -r command\n"
     ]
    },
    {
     "cell_type": "code",
     "collapsed": false,
     "input": [
      "!pwd"
     ],
     "language": "python",
     "metadata": {},
     "outputs": [
      {
       "output_type": "stream",
       "stream": "stdout",
       "text": [
        "/home/ubuntu/ipynb\r\n"
       ]
      }
     ],
     "prompt_number": 15
    },
    {
     "cell_type": "code",
     "collapsed": false,
     "input": [
      "# your code here\n",
      "!mkdir dir1\n",
      "!mkdir dir2\n",
      "!ls\n",
      "!cp /home/ubuntu/data/titanic.xls dir1/file1.xls\n",
      "!cp /home/ubuntu/data/imdb.sql dir2/file2.sql"
     ],
     "language": "python",
     "metadata": {},
     "outputs": [
      {
       "output_type": "stream",
       "stream": "stdout",
       "text": [
        "mkdir: cannot create directory \u2018dir1\u2019: File exists\r\n"
       ]
      },
      {
       "output_type": "stream",
       "stream": "stdout",
       "text": [
        "mkdir: cannot create directory \u2018dir2\u2019: File exists\r\n"
       ]
      },
      {
       "output_type": "stream",
       "stream": "stdout",
       "text": [
        "alldata.txt\r\n",
        "A quick tour of IPython Notebook.ipynb\r\n",
        "Assignment 1 Template (Using pipes, filters, and jq).ipynb\r\n",
        "dir1\r\n",
        "dir2\r\n",
        "location2.json\r\n",
        "location.json\r\n",
        "Module 2a - Basic Unix Shell Commands.ipynb\r\n",
        "Module 2b - Fetching data using CURL.ipynb\r\n",
        "Module 2c - Pipes, filters, and more Unix Commands.ipynb\r\n",
        "Module 3a - Python Primer; Primitive Data Types.ipynb\r\n",
        "Module 3b - Python Primer; Lists, Sets, Tuples, Dictionaries.ipynb\r\n",
        "Module 3c - Python Primer; Control Flow Statements.ipynb\r\n",
        "Module 3d - Python Primer; Reading and Writing Files.ipynb\r\n",
        "Module 3e - Python Primer; Functions and Classes.ipynb\r\n",
        "Module 3f - Python Primer; Libraries and Matplotlib example.ipynb\r\n",
        "Module 4a - Regular Expressions and grep.ipynb\r\n",
        "Module 4b - Regular Expressions using Python.ipynb\r\n",
        "pandas-cookbook-master\r\n",
        "sample.txt\r\n"
       ]
      }
     ],
     "prompt_number": 16
    },
    {
     "cell_type": "code",
     "collapsed": false,
     "input": [
      "!cd /home/ubuntu/data\n",
      "!ls"
     ],
     "language": "python",
     "metadata": {},
     "outputs": [
      {
       "output_type": "stream",
       "stream": "stdout",
       "text": [
        "alldata.txt\r\n",
        "A quick tour of IPython Notebook.ipynb\r\n",
        "Assignment 1 Template (Using pipes, filters, and jq).ipynb\r\n",
        "dir1\r\n",
        "dir2\r\n",
        "location2.json\r\n",
        "location.json\r\n",
        "Module 2a - Basic Unix Shell Commands.ipynb\r\n",
        "Module 2b - Fetching data using CURL.ipynb\r\n",
        "Module 2c - Pipes, filters, and more Unix Commands.ipynb\r\n",
        "Module 3a - Python Primer; Primitive Data Types.ipynb\r\n",
        "Module 3b - Python Primer; Lists, Sets, Tuples, Dictionaries.ipynb\r\n",
        "Module 3c - Python Primer; Control Flow Statements.ipynb\r\n",
        "Module 3d - Python Primer; Reading and Writing Files.ipynb\r\n",
        "Module 3e - Python Primer; Functions and Classes.ipynb\r\n",
        "Module 3f - Python Primer; Libraries and Matplotlib example.ipynb\r\n",
        "Module 4a - Regular Expressions and grep.ipynb\r\n",
        "Module 4b - Regular Expressions using Python.ipynb\r\n",
        "pandas-cookbook-master\r\n",
        "sample.txt\r\n"
       ]
      }
     ],
     "prompt_number": 13
    },
    {
     "cell_type": "code",
     "collapsed": false,
     "input": [],
     "language": "python",
     "metadata": {},
     "outputs": []
    }
   ],
   "metadata": {}
  }
 ]
}