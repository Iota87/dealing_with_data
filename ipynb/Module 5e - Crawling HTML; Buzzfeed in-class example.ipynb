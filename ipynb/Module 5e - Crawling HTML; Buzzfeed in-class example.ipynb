{
 "metadata": {
  "name": "",
  "signature": "sha256:48c4ba6298de988f55a0c08d5043d904b47c3f038a4dacc0f1b2abb6f050dcbd"
 },
 "nbformat": 3,
 "nbformat_minor": 0,
 "worksheets": [
  {
   "cells": [
    {
     "cell_type": "markdown",
     "metadata": {},
     "source": [
      "### In Class Example: Crawl BuzzFeed\n",
      "\n",
      "* We will try to get the top articles that appear on Buzzfeed\n",
      "* We will grab the link for the article, the text of the title, the description, and the editor.\n",
      "* The results will be stored in a dataframe\n"
     ]
    },
    {
     "cell_type": "markdown",
     "metadata": {},
     "source": [
      "Let's start by parsing the first entry:"
     ]
    },
    {
     "cell_type": "code",
     "collapsed": false,
     "input": [
      "import requests # This command allows us to fetch URLs\n",
      "from lxml import html # This module will allow us to parse the returned HTML/XML\n",
      "\n",
      "url = \"http://www.buzzfeed.com/\"\n",
      "response = requests.get(url) # get the html of that url\n",
      "doc = html.fromstring(response.text) \n",
      "\n",
      "# After looking at the HTML, we find that each entry is within an \"article\" tag\n",
      "articleNodes  = doc.findall(\".//article\")\n",
      "\n",
      "# Let's get the first article and start parsing...\n",
      "article = articleNodes[0]\n",
      "link = article.find(\"./header/div[@class='thumb-unit bf_dom']/a\").get(\"href\")\n",
      "print \"Link: \" + link\n",
      "image = article.find(\"./header/div[@class='thumb-unit bf_dom']/a/div/img\").get(\"src\")\n",
      "print \"Image: \" + image\n",
      "titletext = article.find(\"./header/hgroup/h2/a\").text_content()\n",
      "print \"titletext: \" + titletext\n",
      "description = article.find(\"./p[@class='description ']\").text_content().strip()\n",
      "print \"description: \" + description\n",
      "editor = article.find(\"./p[@class='small-meta small-meta--full-width']/a[@class='username notranslate']\").text_content().strip()\n",
      "print \"editor: \" + editor\n",
      "responses = article.find(\"./p[@class='small-meta small-meta--full-width']//span[@class='num']\").text_content().strip()\n",
      "print \"responses: \" + responses"
     ],
     "language": "python",
     "metadata": {},
     "outputs": [
      {
       "output_type": "stream",
       "stream": "stdout",
       "text": [
        "Link: /kristinharris/life-on-tour-with-fall-out-boy\n",
        "Image: http://s3-static-ak.buzzfed.com/static/2015-01/29/15/campaign_images/webdr10/22-questions-about-life-on-tour-with-fall-out-boy-2-21355-1422564455-22.jpg\n",
        "titletext: 22 Questions About Life On Tour With Fall Out\u00a0Boy\n",
        "description: The guys reveal their craziest Warped Tour memory, their must-have snacks on the road, and the weirdest fan request they\u2019ve ever gotten.\n",
        "editor: Kristin Harris\n",
        "responses: 3\n"
       ]
      }
     ],
     "prompt_number": 2
    },
    {
     "cell_type": "markdown",
     "metadata": {},
     "source": [
      "Now, let's move the code for parsing a single article in its own function:"
     ]
    },
    {
     "cell_type": "code",
     "collapsed": false,
     "input": [
      "import requests # This command allows us to fetch URLs\n",
      "from lxml import html # This module will allow us to parse the returned HTML/XML\n",
      "\n",
      "def parse_article(article):\n",
      "    link = article.find(\"./header/div[@class='thumb-unit bf_dom']/a\").get(\"href\")\n",
      "    image = article.find(\"./header/div[@class='thumb-unit bf_dom']/a/div/img\").get(\"src\")\n",
      "    titletext = article.find(\"./header/hgroup/h2/a\").text_content()\n",
      "    description = article.find(\"./p[@class='description ']\").text_content().strip()\n",
      "    editor = article.find(\"./p[@class='small-meta small-meta--full-width']/a[@class='username notranslate']\").text_content().strip()\n",
      "    responses = article.find(\"./p[@class='small-meta small-meta--full-width']//span[@class='num']\").text_content().strip()\n",
      "    return (titletext, editor, description, responses, link, image)\n",
      "\n",
      "url = \"http://www.buzzfeed.com/\"\n",
      "response = requests.get(url) # get the html of that url\n",
      "doc = html.fromstring(response.text) \n",
      "\n",
      "articleNodes  = doc.findall(\".//article\")\n",
      "entries = [parse_article(articleNode) for articleNode in articleNodes]\n",
      "\n",
      "import pprint\n",
      "pprint.pprint(entries)"
     ],
     "language": "python",
     "metadata": {},
     "outputs": [
      {
       "ename": "AttributeError",
       "evalue": "'NoneType' object has no attribute 'text_content'",
       "output_type": "pyerr",
       "traceback": [
        "\u001b[1;31m---------------------------------------------------------------------------\u001b[0m\n\u001b[1;31mAttributeError\u001b[0m                            Traceback (most recent call last)",
        "\u001b[1;32m<ipython-input-3-af174928061c>\u001b[0m in \u001b[0;36m<module>\u001b[1;34m()\u001b[0m\n\u001b[0;32m     16\u001b[0m \u001b[1;33m\u001b[0m\u001b[0m\n\u001b[0;32m     17\u001b[0m \u001b[0marticleNodes\u001b[0m  \u001b[1;33m=\u001b[0m \u001b[0mdoc\u001b[0m\u001b[1;33m.\u001b[0m\u001b[0mfindall\u001b[0m\u001b[1;33m(\u001b[0m\u001b[1;34m\".//article\"\u001b[0m\u001b[1;33m)\u001b[0m\u001b[1;33m\u001b[0m\u001b[0m\n\u001b[1;32m---> 18\u001b[1;33m \u001b[0mentries\u001b[0m \u001b[1;33m=\u001b[0m \u001b[1;33m[\u001b[0m\u001b[0mparse_article\u001b[0m\u001b[1;33m(\u001b[0m\u001b[0marticleNode\u001b[0m\u001b[1;33m)\u001b[0m \u001b[1;32mfor\u001b[0m \u001b[0marticleNode\u001b[0m \u001b[1;32min\u001b[0m \u001b[0marticleNodes\u001b[0m\u001b[1;33m]\u001b[0m\u001b[1;33m\u001b[0m\u001b[0m\n\u001b[0m\u001b[0;32m     19\u001b[0m \u001b[1;33m\u001b[0m\u001b[0m\n\u001b[0;32m     20\u001b[0m \u001b[1;32mimport\u001b[0m \u001b[0mpprint\u001b[0m\u001b[1;33m\u001b[0m\u001b[0m\n",
        "\u001b[1;32m<ipython-input-3-af174928061c>\u001b[0m in \u001b[0;36mparse_article\u001b[1;34m(article)\u001b[0m\n\u001b[0;32m      8\u001b[0m     \u001b[0mdescription\u001b[0m \u001b[1;33m=\u001b[0m \u001b[0marticle\u001b[0m\u001b[1;33m.\u001b[0m\u001b[0mfind\u001b[0m\u001b[1;33m(\u001b[0m\u001b[1;34m\"./p[@class='description ']\"\u001b[0m\u001b[1;33m)\u001b[0m\u001b[1;33m.\u001b[0m\u001b[0mtext_content\u001b[0m\u001b[1;33m(\u001b[0m\u001b[1;33m)\u001b[0m\u001b[1;33m.\u001b[0m\u001b[0mstrip\u001b[0m\u001b[1;33m(\u001b[0m\u001b[1;33m)\u001b[0m\u001b[1;33m\u001b[0m\u001b[0m\n\u001b[0;32m      9\u001b[0m     \u001b[0meditor\u001b[0m \u001b[1;33m=\u001b[0m \u001b[0marticle\u001b[0m\u001b[1;33m.\u001b[0m\u001b[0mfind\u001b[0m\u001b[1;33m(\u001b[0m\u001b[1;34m\"./p[@class='small-meta small-meta--full-width']/a[@class='username notranslate']\"\u001b[0m\u001b[1;33m)\u001b[0m\u001b[1;33m.\u001b[0m\u001b[0mtext_content\u001b[0m\u001b[1;33m(\u001b[0m\u001b[1;33m)\u001b[0m\u001b[1;33m.\u001b[0m\u001b[0mstrip\u001b[0m\u001b[1;33m(\u001b[0m\u001b[1;33m)\u001b[0m\u001b[1;33m\u001b[0m\u001b[0m\n\u001b[1;32m---> 10\u001b[1;33m     \u001b[0mresponses\u001b[0m \u001b[1;33m=\u001b[0m \u001b[0marticle\u001b[0m\u001b[1;33m.\u001b[0m\u001b[0mfind\u001b[0m\u001b[1;33m(\u001b[0m\u001b[1;34m\"./p[@class='small-meta small-meta--full-width']//span[@class='num']\"\u001b[0m\u001b[1;33m)\u001b[0m\u001b[1;33m.\u001b[0m\u001b[0mtext_content\u001b[0m\u001b[1;33m(\u001b[0m\u001b[1;33m)\u001b[0m\u001b[1;33m.\u001b[0m\u001b[0mstrip\u001b[0m\u001b[1;33m(\u001b[0m\u001b[1;33m)\u001b[0m\u001b[1;33m\u001b[0m\u001b[0m\n\u001b[0m\u001b[0;32m     11\u001b[0m     \u001b[1;32mreturn\u001b[0m \u001b[1;33m(\u001b[0m\u001b[0mtitletext\u001b[0m\u001b[1;33m,\u001b[0m \u001b[0meditor\u001b[0m\u001b[1;33m,\u001b[0m \u001b[0mdescription\u001b[0m\u001b[1;33m,\u001b[0m \u001b[0mresponses\u001b[0m\u001b[1;33m,\u001b[0m \u001b[0mlink\u001b[0m\u001b[1;33m,\u001b[0m \u001b[0mimage\u001b[0m\u001b[1;33m)\u001b[0m\u001b[1;33m\u001b[0m\u001b[0m\n\u001b[0;32m     12\u001b[0m \u001b[1;33m\u001b[0m\u001b[0m\n",
        "\u001b[1;31mAttributeError\u001b[0m: 'NoneType' object has no attribute 'text_content'"
       ]
      }
     ],
     "prompt_number": 3
    },
    {
     "cell_type": "markdown",
     "metadata": {},
     "source": [
      "And finally, let's put the code for creating a dataframe:"
     ]
    },
    {
     "cell_type": "code",
     "collapsed": false,
     "input": [
      "import requests # This command allows us to fetch URLs\n",
      "from lxml import html # This module will allow us to parse the returned HTML/XML\n",
      "import pandas\n",
      "\n",
      "def parse_article(article):\n",
      "    link = article.find(\"./header/div[@class='thumb-unit bf_dom']/a\").get(\"href\")\n",
      "    image = article.find(\"./header/div[@class='thumb-unit bf_dom']/a/div/img\").get(\"src\")\n",
      "    titletext = article.find(\"./header/hgroup/h2/a\").text_content()\n",
      "    description = article.find(\"./p[@class='description ']\").text_content().strip()\n",
      "    editor = article.find(\"./p[@class='small-meta small-meta--full-width']/a[@class='username notranslate']\").text_content().strip()\n",
      "    responses = article.find(\"./p[@class='small-meta small-meta--full-width']//span[@class='num']\").text_content().strip()\n",
      "    return (titletext, editor, description, responses, link, image)\n",
      "\n",
      "url = \"http://www.buzzfeed.com/\"\n",
      "response = requests.get(url) # get the html of that url\n",
      "doc = html.fromstring(response.text) \n",
      "articleNodes  = doc.findall(\".//article\")\n",
      "data = [parse_article(articleNode) for articleNode in articleNodes]\n",
      "buzzfeedDataFrame = pandas.DataFrame(data, columns=[\"Title\",\"Editor\",\"Description\",\"Responses\",\"URL\",\"ImageURL\"])\n",
      "\n",
      "buzzfeedDataFrame"
     ],
     "language": "python",
     "metadata": {},
     "outputs": [
      {
       "ename": "AttributeError",
       "evalue": "'NoneType' object has no attribute 'text_content'",
       "output_type": "pyerr",
       "traceback": [
        "\u001b[1;31m---------------------------------------------------------------------------\u001b[0m\n\u001b[1;31mAttributeError\u001b[0m                            Traceback (most recent call last)",
        "\u001b[1;32m<ipython-input-5-44f7b85ea304>\u001b[0m in \u001b[0;36m<module>\u001b[1;34m()\u001b[0m\n\u001b[0;32m     16\u001b[0m \u001b[0mdoc\u001b[0m \u001b[1;33m=\u001b[0m \u001b[0mhtml\u001b[0m\u001b[1;33m.\u001b[0m\u001b[0mfromstring\u001b[0m\u001b[1;33m(\u001b[0m\u001b[0mresponse\u001b[0m\u001b[1;33m.\u001b[0m\u001b[0mtext\u001b[0m\u001b[1;33m)\u001b[0m\u001b[1;33m\u001b[0m\u001b[0m\n\u001b[0;32m     17\u001b[0m \u001b[0marticleNodes\u001b[0m  \u001b[1;33m=\u001b[0m \u001b[0mdoc\u001b[0m\u001b[1;33m.\u001b[0m\u001b[0mfindall\u001b[0m\u001b[1;33m(\u001b[0m\u001b[1;34m\".//article\"\u001b[0m\u001b[1;33m)\u001b[0m\u001b[1;33m\u001b[0m\u001b[0m\n\u001b[1;32m---> 18\u001b[1;33m \u001b[0mdata\u001b[0m \u001b[1;33m=\u001b[0m \u001b[1;33m[\u001b[0m\u001b[0mparse_article\u001b[0m\u001b[1;33m(\u001b[0m\u001b[0marticleNode\u001b[0m\u001b[1;33m)\u001b[0m \u001b[1;32mfor\u001b[0m \u001b[0marticleNode\u001b[0m \u001b[1;32min\u001b[0m \u001b[0marticleNodes\u001b[0m\u001b[1;33m]\u001b[0m\u001b[1;33m\u001b[0m\u001b[0m\n\u001b[0m\u001b[0;32m     19\u001b[0m \u001b[0mbuzzfeedDataFrame\u001b[0m \u001b[1;33m=\u001b[0m \u001b[0mpandas\u001b[0m\u001b[1;33m.\u001b[0m\u001b[0mDataFrame\u001b[0m\u001b[1;33m(\u001b[0m\u001b[0mdata\u001b[0m\u001b[1;33m,\u001b[0m \u001b[0mcolumns\u001b[0m\u001b[1;33m=\u001b[0m\u001b[1;33m[\u001b[0m\u001b[1;34m\"Title\"\u001b[0m\u001b[1;33m,\u001b[0m\u001b[1;34m\"Editor\"\u001b[0m\u001b[1;33m,\u001b[0m\u001b[1;34m\"Description\"\u001b[0m\u001b[1;33m,\u001b[0m\u001b[1;34m\"Responses\"\u001b[0m\u001b[1;33m,\u001b[0m\u001b[1;34m\"URL\"\u001b[0m\u001b[1;33m,\u001b[0m\u001b[1;34m\"ImageURL\"\u001b[0m\u001b[1;33m]\u001b[0m\u001b[1;33m)\u001b[0m\u001b[1;33m\u001b[0m\u001b[0m\n\u001b[0;32m     20\u001b[0m \u001b[1;33m\u001b[0m\u001b[0m\n",
        "\u001b[1;32m<ipython-input-5-44f7b85ea304>\u001b[0m in \u001b[0;36mparse_article\u001b[1;34m(article)\u001b[0m\n\u001b[0;32m      9\u001b[0m     \u001b[0mdescription\u001b[0m \u001b[1;33m=\u001b[0m \u001b[0marticle\u001b[0m\u001b[1;33m.\u001b[0m\u001b[0mfind\u001b[0m\u001b[1;33m(\u001b[0m\u001b[1;34m\"./p[@class='description ']\"\u001b[0m\u001b[1;33m)\u001b[0m\u001b[1;33m.\u001b[0m\u001b[0mtext_content\u001b[0m\u001b[1;33m(\u001b[0m\u001b[1;33m)\u001b[0m\u001b[1;33m.\u001b[0m\u001b[0mstrip\u001b[0m\u001b[1;33m(\u001b[0m\u001b[1;33m)\u001b[0m\u001b[1;33m\u001b[0m\u001b[0m\n\u001b[0;32m     10\u001b[0m     \u001b[0meditor\u001b[0m \u001b[1;33m=\u001b[0m \u001b[0marticle\u001b[0m\u001b[1;33m.\u001b[0m\u001b[0mfind\u001b[0m\u001b[1;33m(\u001b[0m\u001b[1;34m\"./p[@class='small-meta small-meta--full-width']/a[@class='username notranslate']\"\u001b[0m\u001b[1;33m)\u001b[0m\u001b[1;33m.\u001b[0m\u001b[0mtext_content\u001b[0m\u001b[1;33m(\u001b[0m\u001b[1;33m)\u001b[0m\u001b[1;33m.\u001b[0m\u001b[0mstrip\u001b[0m\u001b[1;33m(\u001b[0m\u001b[1;33m)\u001b[0m\u001b[1;33m\u001b[0m\u001b[0m\n\u001b[1;32m---> 11\u001b[1;33m     \u001b[0mresponses\u001b[0m \u001b[1;33m=\u001b[0m \u001b[0marticle\u001b[0m\u001b[1;33m.\u001b[0m\u001b[0mfind\u001b[0m\u001b[1;33m(\u001b[0m\u001b[1;34m\"./p[@class='small-meta small-meta--full-width']//span[@class='num']\"\u001b[0m\u001b[1;33m)\u001b[0m\u001b[1;33m.\u001b[0m\u001b[0mtext_content\u001b[0m\u001b[1;33m(\u001b[0m\u001b[1;33m)\u001b[0m\u001b[1;33m.\u001b[0m\u001b[0mstrip\u001b[0m\u001b[1;33m(\u001b[0m\u001b[1;33m)\u001b[0m\u001b[1;33m\u001b[0m\u001b[0m\n\u001b[0m\u001b[0;32m     12\u001b[0m     \u001b[1;32mreturn\u001b[0m \u001b[1;33m(\u001b[0m\u001b[0mtitletext\u001b[0m\u001b[1;33m,\u001b[0m \u001b[0meditor\u001b[0m\u001b[1;33m,\u001b[0m \u001b[0mdescription\u001b[0m\u001b[1;33m,\u001b[0m \u001b[0mresponses\u001b[0m\u001b[1;33m,\u001b[0m \u001b[0mlink\u001b[0m\u001b[1;33m,\u001b[0m \u001b[0mimage\u001b[0m\u001b[1;33m)\u001b[0m\u001b[1;33m\u001b[0m\u001b[0m\n\u001b[0;32m     13\u001b[0m \u001b[1;33m\u001b[0m\u001b[0m\n",
        "\u001b[1;31mAttributeError\u001b[0m: 'NoneType' object has no attribute 'text_content'"
       ]
      }
     ],
     "prompt_number": 5
    },
    {
     "cell_type": "code",
     "collapsed": false,
     "input": [
      "import requests # This command allows us to fetch URLs\n",
      "from lxml import html # This module will allow us to parse the returned HTML/XML\n",
      "\n",
      "print \"Image: \" + image\n",
      "titletext = article.find(\"./header/hgroup/h2/a\").text_content()\n",
      "\n",
      "//*[@id=\"media-viewer\"]/div[1]/figure/img"
     ],
     "language": "python",
     "metadata": {},
     "outputs": []
    }
   ],
   "metadata": {}
  }
 ]
}