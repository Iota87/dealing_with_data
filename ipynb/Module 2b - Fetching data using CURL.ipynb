{
 "metadata": {
  "name": "",
  "signature": "sha256:b9a7d13b8880134fbc00e5f804f1ef32aee84d43f916c94ae9e332b2b500a212"
 },
 "nbformat": 3,
 "nbformat_minor": 0,
 "worksheets": [
  {
   "cells": [
    {
     "cell_type": "markdown",
     "metadata": {},
     "source": [
      "Getting Data using CURL\n",
      "-----------------------\n",
      "\n",
      "We now move into a more interesting topic: How to get data from Internet sources. For that, we will use a command-line tool of Unix, called `curl`. (Later in class, we will learn how to achieve the same using Python, but for quick testing, curl is often the standard method used.) \n",
      "\n",
      "_Sometimes, curl does not come preinstalled, so the first time that we use it, we need to issue the appropriate command for installing it.  To install it, simply type:_\n",
      "\n",
      "`$ sudo apt-get install curl`"
     ]
    },
    {
     "cell_type": "code",
     "collapsed": false,
     "input": [
      "!sudo apt-get install curl"
     ],
     "language": "python",
     "metadata": {},
     "outputs": []
    },
    {
     "cell_type": "markdown",
     "metadata": {},
     "source": [
      "Let's start by retrieving a simple text file, which we will use later in the class, to illustrate how different shell commands work. The sample data file is hosted online. You can use terminal commands to copy this remote file. Simply type:"
     ]
    },
    {
     "cell_type": "code",
     "collapsed": false,
     "input": [
      "!curl 'https://dl.dropboxusercontent.com/u/16006464/DwD_Winter2015/sample.txt'"
     ],
     "language": "python",
     "metadata": {},
     "outputs": []
    },
    {
     "cell_type": "markdown",
     "metadata": {},
     "source": [
      "The columns in this tab-separated data correspond to [order id] [time of order] [user id] [ordered item], something similar to what might be encountered in practice. If you wish, you can copy-paste the data written above into a text editor, making sure there is a newline following each of the ordered item columns (the columns with alphabetic characters)."
     ]
    },
    {
     "cell_type": "markdown",
     "metadata": {},
     "source": [
      "To store the output to a file, we also add the `-o [output file]` in the command. (We are also going to see in the next session how to use _output redirection_ to store the output to a file.)"
     ]
    },
    {
     "cell_type": "code",
     "collapsed": false,
     "input": [
      "!curl 'https://dl.dropboxusercontent.com/u/16006464/DwD_Winter2015/sample.txt' -o sample.txt"
     ],
     "language": "python",
     "metadata": {},
     "outputs": []
    },
    {
     "cell_type": "code",
     "collapsed": false,
     "input": [
      "!ls"
     ],
     "language": "python",
     "metadata": {},
     "outputs": []
    },
    {
     "cell_type": "markdown",
     "metadata": {},
     "source": [
      "This will pull the file to the active directory in the current terminal, creating a new file called \u201csample.txt\u201d. If we do not want to see any statistics about the download, we can use the `-s` option:"
     ]
    },
    {
     "cell_type": "code",
     "collapsed": false,
     "input": [
      "!curl  -s 'https://dl.dropboxusercontent.com/u/16006464/DwD_Winter2015/sample.txt' -o sample.txt"
     ],
     "language": "python",
     "metadata": {},
     "outputs": []
    },
    {
     "cell_type": "markdown",
     "metadata": {},
     "source": [
      "Now, let's try to use curl to get access to some real data. A key component of today's data ecosystem is the existence of `Web APIs` which provide functionality for a variety of tasks.\n",
      "\n",
      "#### Where am I?\n",
      "\n",
      "For example, let's try to figure out programmatically the location of the computer where the iPython server is running. We can access the API call by issuing the following command:\n",
      "\n"
     ]
    },
    {
     "cell_type": "code",
     "collapsed": false,
     "input": [
      "!curl http://www.telize.com/geoip | jq ."
     ],
     "language": "python",
     "metadata": {},
     "outputs": []
    },
    {
     "cell_type": "markdown",
     "metadata": {},
     "source": [
      "While this does not look nice to a human, for a computer is a perfectly legitimate answer. This format is called \"JSON\", and is an efficient and very commonly used way to trasfer data today on the Internet."
     ]
    },
    {
     "cell_type": "markdown",
     "metadata": {},
     "source": [
      "Now, let's examine a few more web APIs, just for fun:\n",
      "\n",
      "#### What's the weather?\n",
      "\n",
      "Now, let's use the OpenWeather API to get the weather details in our location. (The details of the API calls are available at http://openweathermap.org/api.)"
     ]
    },
    {
     "cell_type": "code",
     "collapsed": false,
     "input": [
      "!curl \"api.openweathermap.org/data/2.5/weather?q=New York, NY, USA&units=imperial&mode=json\" | jq ."
     ],
     "language": "python",
     "metadata": {},
     "outputs": []
    },
    {
     "cell_type": "markdown",
     "metadata": {},
     "source": [
      "You will notice that we asked the service to return to us the data in JSON format. For that API, we can also ask the data to be returned in a different format, called XML, which is wordlier. (We will get back to these formats later in the semester.)"
     ]
    },
    {
     "cell_type": "code",
     "collapsed": false,
     "input": [
      "!curl \"api.openweathermap.org/data/2.5/weather?q=New York, NY, USA&units=imperial&mode=xml\""
     ],
     "language": "python",
     "metadata": {},
     "outputs": []
    },
    {
     "cell_type": "markdown",
     "metadata": {},
     "source": [
      "#### More statistics for our location, please\n",
      "\n",
      "Now let's use the long/lat coordinates, to get more statistics about our area using the service from the [Data Science Toolkit](http://www.datasciencetoolkit.org/developerdocs#coordinates2statistics)\n",
      "\n"
     ]
    },
    {
     "cell_type": "code",
     "collapsed": false,
     "input": [
      "!curl \"http://www.datasciencetoolkit.org/coordinates2statistics/40.71%2c-74.01\""
     ],
     "language": "python",
     "metadata": {},
     "outputs": []
    },
    {
     "cell_type": "markdown",
     "metadata": {},
     "source": [
      "#### What's the sentiment?\n",
      "\n",
      "Now let's try to use a web service to automatically analyze the sentiment for a piece of text. (The service comes from the [Data Scientist Toolkit](http://www.datasciencetoolkit.org/developerdocs#text2sentiment))"
     ]
    },
    {
     "cell_type": "code",
     "collapsed": false,
     "input": [
      "!curl -d \"\" \"http://www.datasciencetoolkit.org/text2sentiment\""
     ],
     "language": "python",
     "metadata": {},
     "outputs": []
    },
    {
     "cell_type": "markdown",
     "metadata": {},
     "source": [
      "#### And a few synonyms\n",
      "\n",
      "And now just a demo of a web API that I created myself a few years back. It analyzes Wikipedia to figure out different ways that people use to refer to the same entity\n",
      "\n"
     ]
    },
    {
     "cell_type": "code",
     "collapsed": false,
     "input": [
      "!curl http://wikisynonyms.ipeirotis.com/api/Hillary%20Clinton"
     ],
     "language": "python",
     "metadata": {},
     "outputs": []
    },
    {
     "cell_type": "markdown",
     "metadata": {},
     "source": [
      "## Exercise\n",
      "\n",
      "The following websites contain listing of many useful APIs\n",
      "\n",
      "* https://www.mashape.com \n",
      "* http://www.programmableweb.com/\n",
      "* http://www.mashery.com/\n",
      "* http://apigee.com/ \n",
      "\n",
      "Mashape is my own personal favorite in terms of user-friendliness and also has examples directly expressed using CURL. but the others are pretty nice as well. Your task: search through these websites and find a web API that does something that you like. Use CURL to issue a web API call to this service. "
     ]
    },
    {
     "cell_type": "code",
     "collapsed": false,
     "input": [
      "#your code here\n",
      "\n",
      "!curl  \"https://faceplusplus-faceplusplus.p.mashape.com/detection/detect?attribute=glass%2Cpose%2Cgender%2Cage%2Crace%2Csmiling&url=http://www.faceplusplus.com/wp-content/themes/faceplusplus/assets/img/demo/1.jpg\" \\\n",
      "  -H \"X-Mashape-Key: tW57vO1fzDmshmfkjHDH8RH4dtkbp1kaN99jsnw3OVCzQJRPc7\" \\\n",
      "  -H \"Accept: application/json\" > faceplusplus.json\n",
      "\n",
      "    \n",
      "    "
     ],
     "language": "python",
     "metadata": {},
     "outputs": [
      {
       "output_type": "stream",
       "stream": "stdout",
       "text": [
        "  % Total    % Received % Xferd  Average Speed   Time    Time     Time  Current\r\n",
        "                                 Dload  Upload   Total   Spent    Left  Speed\r\n",
        "\r",
        "  0     0    0     0    0     0      0      0 --:--:-- --:--:-- --:--:--     0"
       ]
      },
      {
       "output_type": "stream",
       "stream": "stdout",
       "text": [
        "\r",
        "  0     0    0     0    0     0      0      0 --:--:--  0:00:01 --:--:--     0"
       ]
      },
      {
       "output_type": "stream",
       "stream": "stdout",
       "text": [
        "\r",
        "100  2186  100  2186    0     0   1382      0  0:00:01  0:00:01 --:--:--  1383\r\n"
       ]
      }
     ],
     "prompt_number": 3
    },
    {
     "cell_type": "code",
     "collapsed": false,
     "input": [
      "!jq . < faceplusplus.json "
     ],
     "language": "python",
     "metadata": {},
     "outputs": [
      {
       "output_type": "stream",
       "stream": "stdout",
       "text": [
        "\u001b[37m{\r\n",
        "  \u001b[0m\u001b[34;1m\"url\"\u001b[0m\u001b[37m: \u001b[0m\u001b[32m\"http://www.faceplusplus.com/wp-content/themes/faceplusplus/assets/img/demo/1.jpg\"\u001b[0m\u001b[37m,\r\n",
        "  \u001b[0m\u001b[34;1m\"session_id\"\u001b[0m\u001b[37m: \u001b[0m\u001b[32m\"ba96536dabd249d49350bff6af50596d\"\u001b[0m\u001b[37m,\r\n",
        "  \u001b[0m\u001b[34;1m\"img_width\"\u001b[0m\u001b[37m: \u001b[0m\u001b[0m410\u001b[0m\u001b[37m,\r\n",
        "  \u001b[0m\u001b[34;1m\"img_id\"\u001b[0m\u001b[37m: \u001b[0m\u001b[32m\"c70df21dc5b915d92bcc67fde44fbd56\"\u001b[0m\u001b[37m,\r\n",
        "  \u001b[0m\u001b[34;1m\"img_height\"\u001b[0m\u001b[37m: \u001b[0m\u001b[0m410\u001b[0m\u001b[37m,\r\n",
        "  \u001b[0m\u001b[34;1m\"face\"\u001b[0m\u001b[37m: \u001b[0m\u001b[37m[\r\n",
        "    \u001b[37m{\r\n",
        "      \u001b[0m\u001b[34;1m\"tag\"\u001b[0m\u001b[37m: \u001b[0m\u001b[32m\"\"\u001b[0m\u001b[37m,\r\n",
        "      \u001b[0m\u001b[34;1m\"position\"\u001b[0m\u001b[37m: \u001b[0m\u001b[37m{\r\n",
        "        \u001b[0m\u001b[34;1m\"width\"\u001b[0m\u001b[37m: \u001b[0m\u001b[0m27.560976\u001b[0m\u001b[37m,\r\n",
        "        \u001b[0m\u001b[34;1m\"nose\"\u001b[0m\u001b[37m: \u001b[0m\u001b[37m{\r\n",
        "          \u001b[0m\u001b[34;1m\"y\"\u001b[0m\u001b[37m: \u001b[0m\u001b[0m38.410732\u001b[0m\u001b[37m,\r\n",
        "          \u001b[0m\u001b[34;1m\"x\"\u001b[0m\u001b[37m: \u001b[0m\u001b[0m50.183415\u001b[0m\u001b[37m\r\n",
        "        \u001b[37m}\u001b[0m\u001b[37m,\r\n",
        "        \u001b[0m\u001b[34;1m\"mouth_right\"\u001b[0m\u001b[37m: \u001b[0m\u001b[37m{\r\n",
        "          \u001b[0m\u001b[34;1m\"y\"\u001b[0m\u001b[37m: \u001b[0m\u001b[0m44.858049\u001b[0m\u001b[37m,\r\n",
        "          \u001b[0m\u001b[34;1m\"x\"\u001b[0m\u001b[37m: \u001b[0m\u001b[0m55.134878\u001b[0m\u001b[37m\r\n",
        "        \u001b[37m}\u001b[0m\u001b[37m,\r\n",
        "        \u001b[0m\u001b[34;1m\"mouth_left\"\u001b[0m\u001b[37m: \u001b[0m\u001b[37m{\r\n",
        "          \u001b[0m\u001b[34;1m\"y\"\u001b[0m\u001b[37m: \u001b[0m\u001b[0m45.041707\u001b[0m\u001b[37m,\r\n",
        "          \u001b[0m\u001b[34;1m\"x\"\u001b[0m\u001b[37m: \u001b[0m\u001b[0m45.649512\u001b[0m\u001b[37m\r\n",
        "        \u001b[37m}\u001b[0m\u001b[37m,\r\n",
        "        \u001b[0m\u001b[34;1m\"height\"\u001b[0m\u001b[37m: \u001b[0m\u001b[0m27.560976\u001b[0m\u001b[37m,\r\n",
        "        \u001b[0m\u001b[34;1m\"eye_right\"\u001b[0m\u001b[37m: \u001b[0m\u001b[37m{\r\n",
        "          \u001b[0m\u001b[34;1m\"y\"\u001b[0m\u001b[37m: \u001b[0m\u001b[0m30.821951\u001b[0m\u001b[37m,\r\n",
        "          \u001b[0m\u001b[34;1m\"x\"\u001b[0m\u001b[37m: \u001b[0m\u001b[0m56.80878\u001b[0m\u001b[37m\r\n",
        "        \u001b[37m}\u001b[0m\u001b[37m,\r\n",
        "        \u001b[0m\u001b[34;1m\"eye_left\"\u001b[0m\u001b[37m: \u001b[0m\u001b[37m{\r\n",
        "          \u001b[0m\u001b[34;1m\"y\"\u001b[0m\u001b[37m: \u001b[0m\u001b[0m30.670488\u001b[0m\u001b[37m,\r\n",
        "          \u001b[0m\u001b[34;1m\"x\"\u001b[0m\u001b[37m: \u001b[0m\u001b[0m43.465122\u001b[0m\u001b[37m\r\n",
        "        \u001b[37m}\u001b[0m\u001b[37m,\r\n",
        "        \u001b[0m\u001b[34;1m\"center\"\u001b[0m\u001b[37m: \u001b[0m\u001b[37m{\r\n",
        "          \u001b[0m\u001b[34;1m\"y\"\u001b[0m\u001b[37m: \u001b[0m\u001b[0m35.97561\u001b[0m\u001b[37m,\r\n",
        "          \u001b[0m\u001b[34;1m\"x\"\u001b[0m\u001b[37m: \u001b[0m\u001b[0m50.121951\u001b[0m\u001b[37m\r\n",
        "        \u001b[37m}\u001b[0m\u001b[37m\r\n",
        "      \u001b[37m}\u001b[0m\u001b[37m,\r\n",
        "      \u001b[0m\u001b[34;1m\"face_id\"\u001b[0m\u001b[37m: \u001b[0m\u001b[32m\"1805f8f94012bad8f4b47ea8d2d13a6b\"\u001b[0m\u001b[37m,\r\n",
        "      \u001b[0m\u001b[34;1m\"attribute\"\u001b[0m\u001b[37m: \u001b[0m\u001b[37m{\r\n",
        "        \u001b[0m\u001b[34;1m\"smiling\"\u001b[0m\u001b[37m: \u001b[0m\u001b[37m{\r\n",
        "          \u001b[0m\u001b[34;1m\"value\"\u001b[0m\u001b[37m: \u001b[0m\u001b[0m3.78394\u001b[0m\u001b[37m\r\n",
        "        \u001b[37m}\u001b[0m\u001b[37m,\r\n",
        "        \u001b[0m\u001b[34;1m\"race\"\u001b[0m\u001b[37m: \u001b[0m\u001b[37m{\r\n",
        "          \u001b[0m\u001b[34;1m\"value\"\u001b[0m\u001b[37m: \u001b[0m\u001b[32m\"Asian\"\u001b[0m\u001b[37m,\r\n",
        "          \u001b[0m\u001b[34;1m\"confidence\"\u001b[0m\u001b[37m: \u001b[0m\u001b[0m98.058\u001b[0m\u001b[37m\r\n",
        "        \u001b[37m}\u001b[0m\u001b[37m,\r\n",
        "        \u001b[0m\u001b[34;1m\"pose\"\u001b[0m\u001b[37m: \u001b[0m\u001b[37m{\r\n",
        "          \u001b[0m\u001b[34;1m\"yaw_angle\"\u001b[0m\u001b[37m: \u001b[0m\u001b[37m{\r\n",
        "            \u001b[0m\u001b[34;1m\"value\"\u001b[0m\u001b[37m: \u001b[0m\u001b[0m-0.42409\u001b[0m\u001b[37m\r\n",
        "          \u001b[37m}\u001b[0m\u001b[37m,\r\n",
        "          \u001b[0m\u001b[34;1m\"roll_angle\"\u001b[0m\u001b[37m: \u001b[0m\u001b[37m{\r\n",
        "            \u001b[0m\u001b[34;1m\"value\"\u001b[0m\u001b[37m: \u001b[0m\u001b[0m0.650337\u001b[0m\u001b[37m\r\n",
        "          \u001b[37m}\u001b[0m\u001b[37m,\r\n",
        "          \u001b[0m\u001b[34;1m\"pitch_angle\"\u001b[0m\u001b[37m: \u001b[0m\u001b[37m{\r\n",
        "            \u001b[0m\u001b[34;1m\"value\"\u001b[0m\u001b[37m: \u001b[0m\u001b[0m1e-06\u001b[0m\u001b[37m\r\n",
        "          \u001b[37m}\u001b[0m\u001b[37m\r\n",
        "        \u001b[37m}\u001b[0m\u001b[37m,\r\n",
        "        \u001b[0m\u001b[34;1m\"glass\"\u001b[0m\u001b[37m: \u001b[0m\u001b[37m{\r\n",
        "          \u001b[0m\u001b[34;1m\"value\"\u001b[0m\u001b[37m: \u001b[0m\u001b[32m\"None\"\u001b[0m\u001b[37m,\r\n",
        "          \u001b[0m\u001b[34;1m\"confidence\"\u001b[0m\u001b[37m: \u001b[0m\u001b[0m99.4157\u001b[0m\u001b[37m\r\n",
        "        \u001b[37m}\u001b[0m\u001b[37m,\r\n",
        "        \u001b[0m\u001b[34;1m\"gender\"\u001b[0m\u001b[37m: \u001b[0m\u001b[37m{\r\n",
        "          \u001b[0m\u001b[34;1m\"value\"\u001b[0m\u001b[37m: \u001b[0m\u001b[32m\"Female\"\u001b[0m\u001b[37m,\r\n",
        "          \u001b[0m\u001b[34;1m\"confidence\"\u001b[0m\u001b[37m: \u001b[0m\u001b[0m99.9999\u001b[0m\u001b[37m\r\n",
        "        \u001b[37m}\u001b[0m\u001b[37m,\r\n",
        "        \u001b[0m\u001b[34;1m\"age\"\u001b[0m\u001b[37m: \u001b[0m\u001b[37m{\r\n",
        "          \u001b[0m\u001b[34;1m\"value\"\u001b[0m\u001b[37m: \u001b[0m\u001b[0m24\u001b[0m\u001b[37m,\r\n",
        "          \u001b[0m\u001b[34;1m\"range\"\u001b[0m\u001b[37m: \u001b[0m\u001b[0m5\u001b[0m\u001b[37m\r\n",
        "        \u001b[37m}\u001b[0m\u001b[37m\r\n",
        "      \u001b[37m}\u001b[0m\u001b[37m\r\n",
        "    \u001b[37m}\u001b[0m\u001b[37m\r\n",
        "  \u001b[37m]\u001b[0m\u001b[37m\r\n",
        "\u001b[37m}\u001b[0m\r\n"
       ]
      }
     ],
     "prompt_number": 7
    },
    {
     "cell_type": "code",
     "collapsed": false,
     "input": [],
     "language": "python",
     "metadata": {},
     "outputs": []
    }
   ],
   "metadata": {}
  }
 ]
}