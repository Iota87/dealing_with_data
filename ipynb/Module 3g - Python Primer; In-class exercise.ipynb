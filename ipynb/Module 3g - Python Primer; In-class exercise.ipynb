{
 "metadata": {
  "name": "",
  "signature": "sha256:72da6b6bafa99c11a09baf92e07d310a54726a0d0c779a36fae5cd2ba023928b"
 },
 "nbformat": 3,
 "nbformat_minor": 0,
 "worksheets": [
  {
   "cells": [
    {
     "cell_type": "markdown",
     "metadata": {},
     "source": [
      "# Our Task: Find similar company names\n",
      "\n",
      "Now that we have completed our Python Primer, let's try to complete a real task.\n",
      "\n",
      "Quite often, in our data, we have entries represented as strings that refer to the same entity but have different string representations (e.g., McDonald's vs McDonalds vs McDonald\u200e). We want to write code that will help in the task of finding such similar entries in our data.\n",
      "\n",
      "Our task can be broken in the following tasks:\n",
      "* **Step 1**: Read the data from a file into a list of strings in memory (one string per line). For our source of company names, we can use either the list of restaurant names from the Restaurant Inspection dataset (see our prior session), and/or use a list of companies from a file available at https://dl.dropboxusercontent.com/u/16006464/DwD_Winter2015/companies.txt. We need to write Python code that will read these files and return a list of company names.\n",
      "* **Step 2**: We will then need to figure out how to compare two strings and find their similarity. For that, we need to write a function that takes as input two strings, and returns back their similarities (we will see below how to do that).\n",
      "* **Step 3**: We will need to write a function that takes as input a company name, and returns back a list of matching company names, together with their similarity. Ideally, we would like to also sort the list based on the similarity (highest similarity metrics on top). As part of our learning process, we will use the _list comprehension_ approach to create the list. We will also use tuples as the elements of the list, so that the list contain elements such as `[(\"McDonalds\", 0.88), (\"McDonald's\", 0.81),....]`.\n",
      "* **Step 4**: In the final step, we will just perform the similarity computation across all companies in the dataset.\n"
     ]
    },
    {
     "cell_type": "heading",
     "level": 3,
     "metadata": {},
     "source": [
      "STEP 0: Fetch the data"
     ]
    },
    {
     "cell_type": "code",
     "collapsed": false,
     "input": [
      "# This is a list of banks\n",
      "!curl https://dl.dropboxusercontent.com/u/16006464/DwD_Winter2015/companies.txt -o /home/ubuntu/data/companies.txt\n",
      "    \n",
      "# This is a list of NYC restaurants (also using this dataset for the regular expression notebooks)\n",
      "!curl https://dl.dropboxusercontent.com/u/16006464/DwD_Winter2015/uniquenames.txt -o /home/ubuntu/data/uniquenames.txt   "
     ],
     "language": "python",
     "metadata": {},
     "outputs": [
      {
       "output_type": "stream",
       "stream": "stdout",
       "text": [
        "  % Total    % Received % Xferd  Average Speed   Time    Time     Time  Current\r\n",
        "                                 Dload  Upload   Total   Spent    Left  Speed\r\n",
        "\r",
        "  0     0    0     0    0     0      0      0 --:--:-- --:--:-- --:--:--     0"
       ]
      },
      {
       "output_type": "stream",
       "stream": "stdout",
       "text": [
        "\r",
        "100 22747  100 22747    0     0  48323      0 --:--:-- --:--:-- --:--:-- 48397\r\n"
       ]
      },
      {
       "output_type": "stream",
       "stream": "stdout",
       "text": [
        "  % Total    % Received % Xferd  Average Speed   Time    Time     Time  Current\r\n",
        "                                 Dload  Upload   Total   Spent    Left  Speed\r\n",
        "\r",
        "  0     0    0     0    0     0      0      0 --:--:-- --:--:-- --:--:--     0"
       ]
      },
      {
       "output_type": "stream",
       "stream": "stdout",
       "text": [
        "\r",
        "100  364k  100  364k    0     0  1293k      0 --:--:-- --:--:-- --:--:-- 1296k\r\n"
       ]
      }
     ],
     "prompt_number": 1
    },
    {
     "cell_type": "code",
     "collapsed": false,
     "input": [
      "# This is a list of banks\n",
      "!wc -l /home/ubuntu/data/companies.txt\n",
      "!head -5 /home/ubuntu/data/companies.txt"
     ],
     "language": "python",
     "metadata": {},
     "outputs": [
      {
       "output_type": "stream",
       "stream": "stdout",
       "text": [
        "869 /home/ubuntu/data/companies.txt\r\n"
       ]
      },
      {
       "output_type": "stream",
       "stream": "stdout",
       "text": [
        "4PROFIT VERLAG GESELLSCHAFT.M.B.H\r\n",
        "?RXBANK OJSC\r\n",
        "A FILM+CO. CLASSICS GMBH\r\n",
        "A.T. KEARNEY GES.M.B.H.\r\n",
        "AB BANK LTD\r\n"
       ]
      }
     ],
     "prompt_number": 2
    },
    {
     "cell_type": "code",
     "collapsed": false,
     "input": [
      "# This is a list of NYC restaurants\n",
      "!wc -l /home/ubuntu/data/uniquenames.txt\n",
      "!head -5 /home/ubuntu/data/uniquenames.txt"
     ],
     "language": "python",
     "metadata": {},
     "outputs": []
    },
    {
     "cell_type": "heading",
     "level": 3,
     "metadata": {},
     "source": [
      "STEP 1: Read the list of names from a file and create a list of names"
     ]
    },
    {
     "cell_type": "code",
     "collapsed": false,
     "input": [
      "# STEP 1: Read the list of names from a file and create a list of names\n",
      "\n",
      "f = open(\"/home/ubuntu/data/uniquenames.txt\", \"r\")\n",
      "content = f.read()\n",
      "companies = content.split(\"\\n\")\n"
     ],
     "language": "python",
     "metadata": {},
     "outputs": [],
     "prompt_number": 3
    },
    {
     "cell_type": "code",
     "collapsed": false,
     "input": [
      "# How many companies?\n",
      "print len(companies)\n",
      "\n",
      "# Let's peek at the first 10 names\n",
      "print companies[:10]"
     ],
     "language": "python",
     "metadata": {},
     "outputs": [
      {
       "output_type": "stream",
       "stream": "stdout",
       "text": [
        "20444\n",
        "['#1 GARDEN CHINESE', \"#1 ME. NICK'S\", '#1 SABOR LATINO RESTAURANT', '$1.25 PIZZA', \"''U'' LIKE CHINESE RESTAURANT\", \"''W'' CAFE\", \"'WICHCRAFT\", '(LEWIS DRUG STORE) LOCANDA VINI E OLII', '(LIBRARY)  FOUR & TWENTY BLACKBIRDS', '(PUBLIC FARE) 81ST STREET AND CENTRAL PARK WEST (DELACORTE THEATRE)']\n"
       ]
      }
     ],
     "prompt_number": 4
    },
    {
     "cell_type": "heading",
     "level": 3,
     "metadata": {},
     "source": [
      "STEP 2: Implement the similarity function"
     ]
    },
    {
     "cell_type": "markdown",
     "metadata": {},
     "source": [
      "### Computing the similarity between two strings\n",
      "\n",
      "There are many ways that we can calculate the similarity between two strings (e.g., see [1](http://en.wikipedia.org/wiki/String_metric), [2](http://en.wikipedia.org/wiki/Approximate_string_matching), [3](http://en.wikipedia.org/wiki/Plagiarism_detection), [4](https://www.cs.cmu.edu/~pradeepr/papers/ijcai03.pdf), [5](http://en.wikipedia.org/wiki/Category:String_similarity_measures), and links within). \n",
      "\n",
      "For our example, we will use the q-gram similarity metric. What is a q-gram? Simply a sequency of q-consecutive characters in the string. For example, the name \"Panos\" has the following 2-grams: \"Pa\", \"an\", \"no\", \"os\". (We can also add \"#P\" and \"s#\" if we want to capture the prefix and suffixes.) Strings that share a large number of q-grams are often similar. \n",
      "\n",
      "Hence, we can compute the similarity of two strings by first computing the set of q-grams for each string, and then compute the Jaccard coefficient between these sets. The [Jaccard coefficient](http://en.wikipedia.org/wiki/Jaccard_index) is simply defined as the size of the intersection divided by the size of the union of the two sets.\n",
      "\n",
      "So, our task can be broken into two functions: One function takes a string and returns a list of the q-grams for the string, and the other takes as input two sets, and returns back their Jaccard coefficient."
     ]
    },
    {
     "cell_type": "code",
     "collapsed": false,
     "input": [
      "# STEP 2: Now we implement our similarity function\n",
      "\n",
      "# This returns a list of q-grams for a name\n",
      "def getQgrams(name, q):\n",
      "    # We pad the string to get the q-grams for the beginning and end    \n",
      "    padded_name = \"#\"*(q-1) + name.upper() + \"#\"*(q-1)\n",
      "    qgrams = []\n",
      "    # We run a \"sliding window\" over the string to create the q-grams\n",
      "    for i in range(len(name) + (q-1)):\n",
      "        qgram = padded_name[i:i+q]\n",
      "        qgrams.append(qgram)\n",
      "    return set(qgrams)\n",
      "\n",
      "# This function takes as input two names, computes their qgrams, and then computes\n",
      "# the Jaccard coefficient (=intersection/union) of the two sets of qgrams\n",
      "def computeSimilarity(name1, name2, q=3):\n",
      "    set1 =  getQgrams(name1, q)\n",
      "    set2 =  getQgrams(name2, q)\n",
      "    intersection = set1 & set2\n",
      "    union = set1 | set2\n",
      "    similarity = 1.0*len(intersection) / len(union)\n",
      "    return similarity"
     ],
     "language": "python",
     "metadata": {},
     "outputs": [],
     "prompt_number": 5
    },
    {
     "cell_type": "heading",
     "level": 3,
     "metadata": {},
     "source": [
      "STEP 3: Compute similarity of a company against a list of company names"
     ]
    },
    {
     "cell_type": "markdown",
     "metadata": {},
     "source": [
      "We now create a function that accepts a company name and a list of companies, and computes their similarity. This part will get us to exercise our for-loops, and also illustrate how we can use lists and tuples."
     ]
    },
    {
     "cell_type": "markdown",
     "metadata": {},
     "source": [
      "**Sorting a list of tuples**:_This part is a little bit advanced for now, so I will just give the code below. (Solution taken from http://stackoverflow.com/questions/3121979/how-to-sort-list-tuple-of-lists-tuples). Here is a small example below, which we will reuse in our function:_"
     ]
    },
    {
     "cell_type": "code",
     "collapsed": false,
     "input": [
      "data = [(\"Panos\",0.5), (\"Peter\",0.6), (\"Pan\", 0.4)]\n",
      "data.sort(key=lambda tupl: tupl[1], reverse=True)  # sorts in place, in descending order, based on the second element of the tuple\n",
      "print data"
     ],
     "language": "python",
     "metadata": {},
     "outputs": [
      {
       "output_type": "stream",
       "stream": "stdout",
       "text": [
        "[('Peter', 0.6), ('Panos', 0.5), ('Pan', 0.4)]\n"
       ]
      }
     ],
     "prompt_number": 13
    },
    {
     "cell_type": "code",
     "collapsed": false,
     "input": [
      "# STEP 3: We now create a function that accepts a company name\n",
      "# and a list of companies, and computes their similarity\n",
      "# We have a threshold parameter (by default set to be 0.7)\n",
      "# that restricts the results to only string pairs with similarity\n",
      "# above the threshold\n",
      "def companySimilarity(companyName, companyList, threshold = 0.7):\n",
      "    result = []\n",
      "    for company in companyList:\n",
      "        if (companyName == company):\n",
      "            continue\n",
      "        similarity = computeSimilarity(companyName, company)\n",
      "        if similarity>threshold:\n",
      "            result.append( (company, similarity) )\n",
      "            \n",
      "    # Sort the list, based on the second element of the tuple\n",
      "    # See  http://stackoverflow.com/questions/3121979/how-to-sort-list-tuple-of-lists-tuples\n",
      "    result.sort(key=lambda tupl: tupl[1], reverse=True)\n",
      "    return result"
     ],
     "language": "python",
     "metadata": {},
     "outputs": [],
     "prompt_number": 14
    },
    {
     "cell_type": "heading",
     "level": 3,
     "metadata": {},
     "source": [
      "Step 4: Perform the similarity computation across all companies in the dataset.\n"
     ]
    },
    {
     "cell_type": "code",
     "collapsed": false,
     "input": [
      "# STEP 4: We are almost done. We now just go through all the companies in the list\n",
      "# and we call the companySimilarity function that computes the similar company names\n",
      "# for all the companies in the list. We store the results in a dictionary, with the \n",
      "# key being the company name, and the value being a \"list of tuples\" with the \n",
      "# similar company names and the corresponding similarity value.\n",
      "matches = {}\n",
      "for c in companies:\n",
      "    similarCompanies = companySimilarity(c, companies)\n",
      "    if len(similarCompanies)>0:\n",
      "        matches[c] = similarCompanies\n",
      "        print c, \"==>\", similarCompanies\n",
      "        print \"----\"\n",
      "\n"
     ],
     "language": "python",
     "metadata": {},
     "outputs": [
      {
       "output_type": "stream",
       "stream": "stdout",
       "text": [
        "#1 SABOR LATINO RESTAURANT ==> [('SABOR LATINO RESTAURANT', 0.7666666666666667)]\n",
        "----\n",
        "''U'' LIKE CHINESE RESTAURANT"
       ]
      },
      {
       "output_type": "stream",
       "stream": "stdout",
       "text": [
        " ==> [('U LIKE CHINESE RESTAURANT', 0.7058823529411765)]\n",
        "----\n",
        "18 RESTAURANT"
       ]
      },
      {
       "output_type": "stream",
       "stream": "stdout",
       "text": [
        " ==> [('218 RESTAURANT', 0.7222222222222222)]\n",
        "----\n",
        "218 RESTAURANT"
       ]
      },
      {
       "output_type": "stream",
       "stream": "stdout",
       "text": [
        " ==> [('18 RESTAURANT', 0.7222222222222222)]\n",
        "----\n",
        "2647 DOUBLE DRAGON CHINESE RESTAURANT"
       ]
      },
      {
       "output_type": "stream",
       "stream": "stdout",
       "text": [
        " ==> [('DOUBLE DRAGON CHINESE RESTAURANT', 0.7804878048780488), ('NEW DOUBLE DRAGON CHINESE RESTAURANT', 0.75)]\n",
        "----\n",
        "401 LUCKY STAR RESTAURANT"
       ]
      },
      {
       "output_type": "stream",
       "stream": "stdout",
       "text": [
        " ==> [('LUCKY STAR RESTAURANT', 0.7142857142857143)]\n",
        "----\n",
        "5 STAR CHEESE STEAK AND PIZZA"
       ]
      },
      {
       "output_type": "stream",
       "stream": "stdout",
       "text": [
        " ==> [('5 STAR CHEESESTEAK AND PIZZA', 0.875)]\n",
        "----\n",
        "5 STAR CHEESESTEAK AND PIZZA"
       ]
      },
      {
       "output_type": "stream",
       "stream": "stdout",
       "text": [
        " ==> [('5 STAR CHEESE STEAK AND PIZZA', 0.875)]\n",
        "----\n",
        "85 CHINESE RESTAURANT"
       ]
      },
      {
       "output_type": "stream",
       "stream": "stdout",
       "text": [
        " ==> [('88 CHINESE RESTAURANT', 0.7692307692307693), ('A+ CHINESE RESTAURANT', 0.7037037037037037), ('WU CHINESE RESTAURANT', 0.7037037037037037)]\n",
        "----\n",
        "88 CHINESE RESTAURANT"
       ]
      },
      {
       "output_type": "stream",
       "stream": "stdout",
       "text": [
        " ==> [('85 CHINESE RESTAURANT', 0.7692307692307693), ('NO 8 CHINESE RESTAURANT', 0.7142857142857143), ('A+ CHINESE RESTAURANT', 0.7037037037037037), ('WU CHINESE RESTAURANT', 0.7037037037037037)]\n",
        "----\n",
        "88 PALACE RESTAURANT"
       ]
      },
      {
       "output_type": "stream",
       "stream": "stdout",
       "text": [
        " ==> [('PALACE RESTAURANT', 0.7083333333333334)]\n",
        "----\n",
        "99 FRESH PIZZA"
       ]
      },
      {
       "output_type": "stream",
       "stream": "stdout",
       "text": [
        " ==> [('99C FRESH PIZZA', 0.7368421052631579)]\n",
        "----\n",
        "99C FRESH PIZZA"
       ]
      },
      {
       "output_type": "stream",
       "stream": "stdout",
       "text": [
        " ==> [('99 FRESH PIZZA', 0.7368421052631579)]\n",
        "----\n",
        "A A CARIDAD RESTAURANT"
       ]
      },
      {
       "output_type": "stream",
       "stream": "stdout",
       "text": [
        " ==> [('LA CARIDAD RESTAURANT', 0.7407407407407407)]\n",
        "----\n",
        "A MARINO RESTAURANT"
       ]
      },
      {
       "output_type": "stream",
       "stream": "stdout",
       "text": [
        " ==> [('DA MARINO RESTAURANT', 0.7916666666666666)]\n",
        "----\n",
        "A+ CHINESE RESTAURANT"
       ]
      },
      {
       "output_type": "stream",
       "stream": "stdout",
       "text": [
        " ==> [('ABBY CHINESE RESTAURANT', 0.7142857142857143), ('85 CHINESE RESTAURANT', 0.7037037037037037), ('88 CHINESE RESTAURANT', 0.7037037037037037), ('WU CHINESE RESTAURANT', 0.7037037037037037)]\n",
        "----\n",
        "AA ICHIBAN SUSHI"
       ]
      },
      {
       "output_type": "stream",
       "stream": "stdout",
       "text": [
        " ==> [('AAA ICHIBAN SUSHI', 0.9473684210526315)]\n",
        "----\n",
        "AAA ICHIBAN SUSHI"
       ]
      },
      {
       "output_type": "stream",
       "stream": "stdout",
       "text": [
        " ==> [('AA ICHIBAN SUSHI', 0.9473684210526315)]\n",
        "----\n",
        "AAA KENNEDY FRIED CHICKEN"
       ]
      },
      {
       "output_type": "stream",
       "stream": "stdout",
       "text": [
        " ==> [('KENNEDY FRIED CHICKEN', 0.7142857142857143)]\n",
        "----\n",
        "AB HALAL RESTAURANT"
       ]
      },
      {
       "output_type": "stream",
       "stream": "stdout",
       "text": [
        " ==> [('ABIR HALAL RESTAURANT', 0.76)]\n",
        "----\n",
        "ABA TURKISH RESTAURANT"
       ]
      },
      {
       "output_type": "stream",
       "stream": "stdout",
       "text": [
        " ==> [('AGORA TURKISH RESTAURANT', 0.7241379310344828)]\n",
        "----\n",
        "ABBY CHINESE RESTAURANT"
       ]
      },
      {
       "output_type": "stream",
       "stream": "stdout",
       "text": [
        " ==> [('A+ CHINESE RESTAURANT', 0.7142857142857143)]\n",
        "----\n",
        "ABI JAPANESE RESTAURANT"
       ]
      },
      {
       "output_type": "stream",
       "stream": "stdout",
       "text": [
        " ==> [('AKO JAPANESE RESTAURANT', 0.7241379310344828), ('AJISAI JAPANESE RESTAURANT', 0.7096774193548387)]\n",
        "----\n",
        "ABIR HALAL RESTAURANT"
       ]
      },
      {
       "output_type": "stream",
       "stream": "stdout",
       "text": [
        " ==> [('AB HALAL RESTAURANT', 0.76)]\n",
        "----\n",
        "ADVENTURES AMUSEMENT PARK"
       ]
      },
      {
       "output_type": "stream",
       "stream": "stdout",
       "text": [
        " ==> [('ADVENTURES AMUSEMENTS PARK', 0.8275862068965517)]\n",
        "----\n",
        "ADVENTURES AMUSEMENTS PARK"
       ]
      },
      {
       "output_type": "stream",
       "stream": "stdout",
       "text": [
        " ==> [('ADVENTURES AMUSEMENT PARK', 0.8275862068965517)]\n",
        "----\n",
        "AFGHAN KEBAB HOUSE"
       ]
      },
      {
       "output_type": "stream",
       "stream": "stdout",
       "text": [
        " ==> [('AFGHAN KEBOB HOUSE', 0.7391304347826086), ('AFGHAN KEBAB HOUSE #1', 0.72)]\n",
        "----\n",
        "AFGHAN KEBAB HOUSE #1"
       ]
      },
      {
       "output_type": "stream",
       "stream": "stdout",
       "text": [
        " ==> [('AFGHAN KEBAB HOUSE', 0.72)]\n",
        "----\n",
        "AFGHAN KEBOB HOUSE"
       ]
      },
      {
       "output_type": "stream",
       "stream": "stdout",
       "text": [
        " ==> [('AFGHAN KEBAB HOUSE', 0.7391304347826086)]\n",
        "----\n",
        "AGORA TURKISH RESTAURANT"
       ]
      },
      {
       "output_type": "stream",
       "stream": "stdout",
       "text": [
        " ==> [('ABA TURKISH RESTAURANT', 0.7241379310344828)]\n",
        "----\n",
        "AI'S SUSHI JAPANESE RESTAURANT"
       ]
      },
      {
       "output_type": "stream",
       "stream": "stdout",
       "text": [
        " ==> [('AKA SUSHI JAPANESE RESTAURANT', 0.75)]\n",
        "----\n",
        "AJISAI JAPANESE RESTAURANT"
       ]
      },
      {
       "output_type": "stream",
       "stream": "stdout",
       "text": [
        " ==> [('ABI JAPANESE RESTAURANT', 0.7096774193548387)]\n",
        "----\n",
        "AKA SUSHI JAPANESE RESTAURANT"
       ]
      },
      {
       "output_type": "stream",
       "stream": "stdout",
       "text": [
        " ==> [(\"AI'S SUSHI JAPANESE RESTAURANT\", 0.75)]\n",
        "----\n",
        "AKI 39 JAPANESE CUISINE"
       ]
      },
      {
       "output_type": "stream",
       "stream": "stdout",
       "text": [
        " ==> [('AKI JAPANESE CUISINE', 0.8076923076923077)]\n",
        "----\n",
        "AKI JAPANESE CUISINE"
       ]
      },
      {
       "output_type": "stream",
       "stream": "stdout",
       "text": [
        " ==> [('AKI 39 JAPANESE CUISINE', 0.8076923076923077), ('AKIRA JAPANESE CUISINE', 0.7692307692307693)]\n",
        "----\n",
        "AKIRA JAPANESE CUISINE"
       ]
      },
      {
       "output_type": "stream",
       "stream": "stdout",
       "text": [
        " ==> [('AKI JAPANESE CUISINE', 0.7692307692307693)]\n",
        "----\n",
        "AKO JAPANESE RESTAURANT"
       ]
      },
      {
       "output_type": "stream",
       "stream": "stdout",
       "text": [
        " ==> [('ABI JAPANESE RESTAURANT', 0.7241379310344828), ('SEO JAPANESE RESTAURANT', 0.7241379310344828)]\n",
        "----\n",
        "ALL AMERICAN COFFEE SHOP"
       ]
      },
      {
       "output_type": "stream",
       "stream": "stdout",
       "text": [
        " ==> [('AMERICAN COFFEE SHOP', 0.7777777777777778)]\n",
        "----\n",
        "AMBY'S RESTAURANT"
       ]
      },
      {
       "output_type": "stream",
       "stream": "stdout",
       "text": [
        " ==> [(\"AMY'S RESTAURANT\", 0.7619047619047619)]\n",
        "----\n",
        "AMERICAN COFFEE SHOP"
       ]
      },
      {
       "output_type": "stream",
       "stream": "stdout",
       "text": [
        " ==> [('ALL AMERICAN COFFEE SHOP', 0.7777777777777778)]\n",
        "----\n",
        "AMERICAN EXPRESS"
       ]
      },
      {
       "output_type": "stream",
       "stream": "stdout",
       "text": [
        " ==> [('AMERICAN HERO EXPRESS', 0.7083333333333334)]\n",
        "----\n",
        "AMERICAN HERO EXPRESS"
       ]
      },
      {
       "output_type": "stream",
       "stream": "stdout",
       "text": [
        " ==> [('AMERICAN EXPRESS', 0.7083333333333334)]\n",
        "----\n",
        "AMURA JAPANESE RESTAURANT"
       ]
      },
      {
       "output_type": "stream",
       "stream": "stdout",
       "text": [
        " ==> [('ARATA JAPANESE RESTAURANT', 0.7096774193548387), ('SAKURA JAPANESE RESTAURANT', 0.7096774193548387)]\n",
        "----\n",
        "AMY'S RESTAURANT"
       ]
      },
      {
       "output_type": "stream",
       "stream": "stdout",
       "text": [
        " ==> [(\"AMBY'S RESTAURANT\", 0.7619047619047619)]\n",
        "----\n",
        "ANA'S BAKERY & CAFE"
       ]
      },
      {
       "output_type": "stream",
       "stream": "stdout",
       "text": [
        " ==> [(\"MONA'S BAKERY & CAFE\", 0.72)]\n",
        "----\n",
        "ANDREW'S COFFEE SHOP"
       ]
      },
      {
       "output_type": "stream",
       "stream": "stdout",
       "text": [
        " ==> [('ANDREWS COFFEE SHOP', 0.7916666666666666)]\n",
        "----\n",
        "ANDREWS COFFEE SHOP"
       ]
      },
      {
       "output_type": "stream",
       "stream": "stdout",
       "text": [
        " ==> [(\"ANDREW'S COFFEE SHOP\", 0.7916666666666666)]\n",
        "----\n",
        "ANGELA'S BAKERY"
       ]
      },
      {
       "output_type": "stream",
       "stream": "stdout",
       "text": [
        " ==> [(\"ANGELICA'S BAKERY\", 0.7142857142857143)]\n",
        "----\n",
        "ANGELA'S PIZZERIA"
       ]
      },
      {
       "output_type": "stream",
       "stream": "stdout",
       "text": [
        " ==> [(\"ANGELO'S PIZZERIA\", 0.7272727272727273)]\n",
        "----\n",
        "ANGELICA'S BAKERY"
       ]
      },
      {
       "output_type": "stream",
       "stream": "stdout",
       "text": [
        " ==> [(\"ANGELA'S BAKERY\", 0.7142857142857143)]\n",
        "----\n",
        "ANGELO'S PIZZERIA"
       ]
      },
      {
       "output_type": "stream",
       "stream": "stdout",
       "text": [
        " ==> [(\"ANGELA'S PIZZERIA\", 0.7272727272727273)]\n",
        "----\n",
        "AOYAMA SUSHI"
       ]
      },
      {
       "output_type": "stream",
       "stream": "stdout",
       "text": [
        " ==> [('ATOYAMA SUSHI', 0.7058823529411765)]\n",
        "----\n",
        "APPLEBEE'S NEIGHBORHOOD GRILL & BAR"
       ]
      },
      {
       "output_type": "stream",
       "stream": "stdout",
       "text": [
        " ==> [('APPLEBEES NEIGHBORHOOD GRILL & BAR', 0.8717948717948718)]\n",
        "----\n",
        "APPLEBEES NEIGHBORHOOD GRILL & BAR"
       ]
      },
      {
       "output_type": "stream",
       "stream": "stdout",
       "text": [
        " ==> [(\"APPLEBEE'S NEIGHBORHOOD GRILL & BAR\", 0.8717948717948718)]\n",
        "----\n",
        "ARABIAN NIGHTS RESTAURANT & HOOKAH LOUNGE"
       ]
      },
      {
       "output_type": "stream",
       "stream": "stdout",
       "text": [
        " ==> [('ARABIAN NIGHTS RESTAURANT & LOUNGE', 0.7954545454545454)]\n",
        "----\n",
        "ARABIAN NIGHTS RESTAURANT & LOUNGE"
       ]
      },
      {
       "output_type": "stream",
       "stream": "stdout",
       "text": [
        " ==> [('ARABIAN NIGHTS RESTAURANT & HOOKAH LOUNGE', 0.7954545454545454)]\n",
        "----\n",
        "ARATA IZUMI JAPANESE RESTAURANT"
       ]
      },
      {
       "output_type": "stream",
       "stream": "stdout",
       "text": [
        " ==> [('ARATA JAPANESE RESTAURANT', 0.7647058823529411)]\n",
        "----\n",
        "ARATA JAPANESE RESTAURANT"
       ]
      },
      {
       "output_type": "stream",
       "stream": "stdout",
       "text": [
        " ==> [('ARATA IZUMI JAPANESE RESTAURANT', 0.7647058823529411), ('AMURA JAPANESE RESTAURANT', 0.7096774193548387)]\n",
        "----\n",
        "ARIRANG HIBACHI STEAK HOUSE"
       ]
      },
      {
       "output_type": "stream",
       "stream": "stdout",
       "text": [
        " ==> [('ARIRANG HIBACHI STEAKHOUSE', 0.8387096774193549)]\n",
        "----\n",
        "ARIRANG HIBACHI STEAKHOUSE"
       ]
      },
      {
       "output_type": "stream",
       "stream": "stdout",
       "text": [
        " ==> [('ARIRANG HIBACHI STEAK HOUSE', 0.8387096774193549)]\n",
        "----\n",
        "ARTICHOKE BASILE'S PIZZA"
       ]
      },
      {
       "output_type": "stream",
       "stream": "stdout",
       "text": [
        " ==> [(\"ARTICHOKE BASILLE'S PIZZA\", 0.8928571428571429), ('ARTICHOKE BASILLES PIZZA', 0.7333333333333333)]\n",
        "----\n",
        "ARTICHOKE BASILLE'S PIZZA"
       ]
      },
      {
       "output_type": "stream",
       "stream": "stdout",
       "text": [
        " ==> [(\"ARTICHOKE BASILE'S PIZZA\", 0.8928571428571429), ('ARTICHOKE BASILLES PIZZA', 0.8275862068965517), (\"ARTICHOKE BASILLE'S PIZZA & BAR\", 0.7352941176470589)]\n",
        "----\n",
        "ARTICHOKE BASILLE'S PIZZA & BAR"
       ]
      },
      {
       "output_type": "stream",
       "stream": "stdout",
       "text": [
        " ==> [(\"ARTICHOKE BASILLE'S PIZZA\", 0.7352941176470589)]\n",
        "----\n",
        "ARTICHOKE BASILLES PIZZA"
       ]
      },
      {
       "output_type": "stream",
       "stream": "stdout",
       "text": [
        " ==> [(\"ARTICHOKE BASILLE'S PIZZA\", 0.8275862068965517), (\"ARTICHOKE BASILE'S PIZZA\", 0.7333333333333333)]\n",
        "----\n",
        "ASIA KITCHEN"
       ]
      },
      {
       "output_type": "stream",
       "stream": "stdout",
       "text": [
        " ==> [('ASIAN KITCHEN', 0.7058823529411765)]\n",
        "----\n",
        "ASIAN KITCHEN"
       ]
      },
      {
       "output_type": "stream",
       "stream": "stdout",
       "text": [
        " ==> [('ASIA KITCHEN', 0.7058823529411765)]\n",
        "----\n",
        "ASIF SUPER KENNEDY FRIED CHICKEN"
       ]
      },
      {
       "output_type": "stream",
       "stream": "stdout",
       "text": [
        " ==> [('SUPER KENNEDY FRIED CHICKEN', 0.7428571428571429)]\n",
        "----\n",
        "ASTRO RESTAURANT"
       ]
      },
      {
       "output_type": "stream",
       "stream": "stdout",
       "text": [
        " ==> [('ASTROMUNDO RESTAURANT', 0.7083333333333334)]\n",
        "----\n",
        "ASTROMUNDO RESTAURANT"
       ]
      },
      {
       "output_type": "stream",
       "stream": "stdout",
       "text": [
        " ==> [('ASTRO RESTAURANT', 0.7083333333333334)]\n",
        "----\n",
        "ATOYAMA SUSHI"
       ]
      },
      {
       "output_type": "stream",
       "stream": "stdout",
       "text": [
        " ==> [('AOYAMA SUSHI', 0.7058823529411765)]\n",
        "----\n",
        "AUNTIE ANN'S PRETZELS"
       ]
      },
      {
       "output_type": "stream",
       "stream": "stdout",
       "text": [
        " ==> [(\"AUNTIE ANNE'S PRETZELS\", 0.8076923076923077), ('AUNTIE ANNES PRETZELS', 0.7692307692307693)]\n",
        "----\n",
        "AUNTIE ANNE'S"
       ]
      },
      {
       "output_type": "stream",
       "stream": "stdout",
       "text": [
        " ==> [(\"AUNTIE ANNIE'S\", 0.7222222222222222), ('AUNTIE ANNES', 0.7058823529411765)]\n",
        "----\n",
        "AUNTIE ANNE'S PRETZELS"
       ]
      },
      {
       "output_type": "stream",
       "stream": "stdout",
       "text": [
        " ==> [(\"AUNTIE ANN'S PRETZELS\", 0.8076923076923077), ('AUNTIE ANNES PRETZELS', 0.8076923076923077)]\n",
        "----\n",
        "AUNTIE ANNES"
       ]
      },
      {
       "output_type": "stream",
       "stream": "stdout",
       "text": [
        " ==> [(\"AUNTIE ANNE'S\", 0.7058823529411765)]\n",
        "----\n",
        "AUNTIE ANNES PRETZELS"
       ]
      },
      {
       "output_type": "stream",
       "stream": "stdout",
       "text": [
        " ==> [(\"AUNTIE ANNE'S PRETZELS\", 0.8076923076923077), (\"AUNTIE ANN'S PRETZELS\", 0.7692307692307693)]\n",
        "----\n",
        "AUNTIE ANNIE'S"
       ]
      },
      {
       "output_type": "stream",
       "stream": "stdout",
       "text": [
        " ==> [(\"AUNTIE ANNE'S\", 0.7222222222222222)]\n",
        "----\n",
        "AVLEE  GREEK KITCHEN"
       ]
      },
      {
       "output_type": "stream",
       "stream": "stdout",
       "text": [
        " ==> [('AVLEE GREEK KITCHEN', 0.8695652173913043)]\n",
        "----\n",
        "AVLEE GREEK KITCHEN"
       ]
      },
      {
       "output_type": "stream",
       "stream": "stdout",
       "text": [
        " ==> [('AVLEE  GREEK KITCHEN', 0.8695652173913043)]\n",
        "----\n",
        "AZOGUENITA  BAKERY & RESTAURANT"
       ]
      },
      {
       "output_type": "stream",
       "stream": "stdout",
       "text": [
        " ==> [('AZOGUENITA BAKERY & RESTAURANT', 0.9117647058823529), ('AZOGUENITA BAKERY & RESTAURANT III', 0.725)]\n",
        "----\n",
        "AZOGUENITA BAKERY & RESTAURANT"
       ]
      },
      {
       "output_type": "stream",
       "stream": "stdout",
       "text": [
        " ==> [('AZOGUENITA  BAKERY & RESTAURANT', 0.9117647058823529), ('AZOGUENITA BAKERY & RESTAURANT III', 0.7894736842105263)]\n",
        "----\n",
        "AZOGUENITA BAKERY & RESTAURANT III"
       ]
      },
      {
       "output_type": "stream",
       "stream": "stdout",
       "text": [
        " ==> [('AZOGUENITA BAKERY & RESTAURANT', 0.7894736842105263), ('AZOGUENITA  BAKERY & RESTAURANT', 0.725)]\n",
        "----\n",
        "AZUL TEQUILA MEXICAN RESTAURANT"
       ]
      },
      {
       "output_type": "stream",
       "stream": "stdout",
       "text": [
        " ==> [('AZUL TEQUILA RESTAURANT', 0.7058823529411765)]\n",
        "----\n",
        "AZUL TEQUILA RESTAURANT"
       ]
      },
      {
       "output_type": "stream",
       "stream": "stdout",
       "text": [
        " ==> [('AZUL TEQUILA MEXICAN RESTAURANT', 0.7058823529411765)]\n",
        "----\n",
        "BAGEL EXPRESS"
       ]
      },
      {
       "output_type": "stream",
       "stream": "stdout",
       "text": [
        " ==> [('BAGELS EXPRESS', 0.7222222222222222)]\n",
        "----\n",
        "BAGELS EXPRESS"
       ]
      },
      {
       "output_type": "stream",
       "stream": "stdout",
       "text": [
        " ==> [('BAGEL EXPRESS', 0.7222222222222222)]\n",
        "----\n",
        "BAKE & THINGS RESTAURANT"
       ]
      },
      {
       "output_type": "stream",
       "stream": "stdout",
       "text": [
        " ==> [('BAKE AND THINGS RESTAURANT', 0.7419354838709677)]\n",
        "----\n",
        "BAKE AND THINGS RESTAURANT"
       ]
      },
      {
       "output_type": "stream",
       "stream": "stdout",
       "text": [
        " ==> [('BAKE & THINGS RESTAURANT', 0.7419354838709677)]\n",
        "----\n",
        "BAMBOO GARDEN CHINESE RESTAURANT"
       ]
      },
      {
       "output_type": "stream",
       "stream": "stdout",
       "text": [
        " ==> [('BAMBOO GARDEN RESTAURANT', 0.7142857142857143), ('BEST GARDEN CHINESE RESTAURANT', 0.7105263157894737)]\n",
        "----\n",
        "BAMBOO GARDEN RESTAURANT"
       ]
      },
      {
       "output_type": "stream",
       "stream": "stdout",
       "text": [
        " ==> [('BAMBOO GARDEN CHINESE RESTAURANT', 0.7142857142857143)]\n",
        "----\n",
        "BARNES & NOBLE BOOKSELLERS"
       ]
      },
      {
       "output_type": "stream",
       "stream": "stdout",
       "text": [
        " ==> [('BARNES AND NOBLE BOOKSELLERS', 0.7575757575757576)]\n",
        "----\n",
        "BARNES AND NOBLE BOOKSELLERS"
       ]
      },
      {
       "output_type": "stream",
       "stream": "stdout",
       "text": [
        " ==> [('BARNES & NOBLE BOOKSELLERS', 0.7575757575757576)]\n",
        "----\n",
        "BAS KENNEDY FRIED CHICKEN"
       ]
      },
      {
       "output_type": "stream",
       "stream": "stdout",
       "text": [
        " ==> [('US KENNEDY FRIED CHICKEN', 0.7586206896551724), ('KENNEDY FRIED CHICKEN', 0.7142857142857143)]\n",
        "----\n",
        "BASTA PASTA RESTAURANT"
       ]
      },
      {
       "output_type": "stream",
       "stream": "stdout",
       "text": [
        " ==> [('PASTA PASTA RESTAURANT', 0.7727272727272727)]\n",
        "----\n",
        "BAY PIZZERIA RESTAURANT"
       ]
      },
      {
       "output_type": "stream",
       "stream": "stdout",
       "text": [
        " ==> [('PIZZERIA RESTAURANT', 0.7037037037037037)]\n",
        "----\n",
        "BEAUTIFUL MEMORY DESSERT"
       ]
      },
      {
       "output_type": "stream",
       "stream": "stdout",
       "text": [
        " ==> [('BEAUTIFUL MEMORY DESSERTS', 0.8275862068965517)]\n",
        "----\n",
        "BEAUTIFUL MEMORY DESSERTS"
       ]
      },
      {
       "output_type": "stream",
       "stream": "stdout",
       "text": [
        " ==> [('BEAUTIFUL MEMORY DESSERT', 0.8275862068965517)]\n",
        "----\n",
        "BEI JING CHINESE RESTAURANT"
       ]
      },
      {
       "output_type": "stream",
       "stream": "stdout",
       "text": [
        " ==> [('BEIJING CHINESE RESTAURANT', 0.8387096774193549)]\n",
        "----\n",
        "BEIJING CHINESE RESTAURANT"
       ]
      },
      {
       "output_type": "stream",
       "stream": "stdout",
       "text": [
        " ==> [('BEI JING CHINESE RESTAURANT', 0.8387096774193549)]\n",
        "----\n",
        "BELLA PIZZA"
       ]
      },
      {
       "output_type": "stream",
       "stream": "stdout",
       "text": [
        " ==> [('BELLA ROMA PIZZA', 0.7222222222222222)]\n",
        "----\n",
        "BELLA ROMA PIZZA"
       ]
      },
      {
       "output_type": "stream",
       "stream": "stdout",
       "text": [
        " ==> [('BELLA PIZZA', 0.7222222222222222)]\n",
        "----\n",
        "BEN'S PIZZA AND RESTAURANT"
       ]
      },
      {
       "output_type": "stream",
       "stream": "stdout",
       "text": [
        " ==> [(\"JOHN'S PIZZA AND RESTAURANT\", 0.7272727272727273)]\n",
        "----\n",
        "BENNY'S BURRITOS"
       ]
      },
      {
       "output_type": "stream",
       "stream": "stdout",
       "text": [
        " ==> [('BENNYS BURRITOS', 0.75)]\n",
        "----\n",
        "BENNY'S PIZZA RESTAURANT"
       ]
      },
      {
       "output_type": "stream",
       "stream": "stdout",
       "text": [
        " ==> [(\"JOHNNY'S PIZZA RESTAURANT\", 0.7096774193548387)]\n",
        "----\n",
        "BENNYS BURRITOS"
       ]
      },
      {
       "output_type": "stream",
       "stream": "stdout",
       "text": [
        " ==> [(\"BENNY'S BURRITOS\", 0.75)]\n",
        "----\n",
        "BEST CHINESE RESTAURANT"
       ]
      },
      {
       "output_type": "stream",
       "stream": "stdout",
       "text": [
        " ==> [('BEST GARDEN CHINESE RESTAURANT', 0.71875)]\n",
        "----\n",
        "BEST DOUBLE DRAGON RESTAURANT"
       ]
      },
      {
       "output_type": "stream",
       "stream": "stdout",
       "text": [
        " ==> [('DOUBLE DRAGON RESTAURANT', 0.75)]\n",
        "----\n",
        "BEST GARDEN CHINESE RESTAURANT"
       ]
      },
      {
       "output_type": "stream",
       "stream": "stdout",
       "text": [
        " ==> [('CHINA GARDEN CHINESE RESTAURANT', 0.7222222222222222), ('KEW GARDEN CHINESE RESTAURANT', 0.7222222222222222), ('LEE GARDEN CHINESE RESTAURANT', 0.7222222222222222), ('NEW GARDEN CHINESE RESTAURANT', 0.7222222222222222), ('BEST CHINESE RESTAURANT', 0.71875), ('BAMBOO GARDEN CHINESE RESTAURANT', 0.7105263157894737), ('HOME GARDEN CHINESE RESTAURANT', 0.7027027027027027), ('KING GARDEN CHINESE RESTAURANT', 0.7027027027027027), ('REGO GARDEN CHINESE RESTAURANT', 0.7027027027027027)]\n",
        "----\n",
        "BEST KING WAH CHINESE RESTAURANT"
       ]
      },
      {
       "output_type": "stream",
       "stream": "stdout",
       "text": [
        " ==> [('JING WAH CHINESE RESTAURANT', 0.7222222222222222)]\n",
        "----\n",
        "BIG AL'S CHICAGO PIZZA"
       ]
      },
      {
       "output_type": "stream",
       "stream": "stdout",
       "text": [
        " ==> [('BIG ALS CHICAGO PIZZA', 0.8076923076923077)]\n",
        "----\n",
        "BIG ALS CHICAGO PIZZA"
       ]
      },
      {
       "output_type": "stream",
       "stream": "stdout",
       "text": [
        " ==> [(\"BIG AL'S CHICAGO PIZZA\", 0.8076923076923077)]\n",
        "----\n",
        "BIG HING WONG RESTAURANT"
       ]
      },
      {
       "output_type": "stream",
       "stream": "stdout",
       "text": [
        " ==> [('BIG WONG RESTAURANT', 0.84), ('HING WONG RESTAURANT', 0.7037037037037037)]\n",
        "----\n",
        "BIG NEW YORK FRIED CHICKEN"
       ]
      },
      {
       "output_type": "stream",
       "stream": "stdout",
       "text": [
        " ==> [('NEW YORK FRIED CHICKEN', 0.7333333333333333)]\n",
        "----\n",
        "BIG WONG RESTAURANT"
       ]
      },
      {
       "output_type": "stream",
       "stream": "stdout",
       "text": [
        " ==> [('BIG HING WONG RESTAURANT', 0.84)]\n",
        "----\n",
        "BISOUS, CIAO"
       ]
      },
      {
       "output_type": "stream",
       "stream": "stdout",
       "text": [
        " ==> [('BISOUS, CIAO.', 0.7058823529411765)]\n",
        "----\n",
        "BISOUS, CIAO."
       ]
      },
      {
       "output_type": "stream",
       "stream": "stdout",
       "text": [
        " ==> [('BISOUS, CIAO', 0.7058823529411765)]\n",
        "----\n",
        "BLOCKHEAD'S BURRITOS"
       ]
      },
      {
       "output_type": "stream",
       "stream": "stdout",
       "text": [
        " ==> [('BLOCKHEADS BURRITOS', 0.7916666666666666)]\n",
        "----\n",
        "BLOCKHEADS BURRITOS"
       ]
      },
      {
       "output_type": "stream",
       "stream": "stdout",
       "text": [
        " ==> [(\"BLOCKHEAD'S BURRITOS\", 0.7916666666666666)]\n",
        "----\n",
        "BLT BAR & GRILL"
       ]
      },
      {
       "output_type": "stream",
       "stream": "stdout",
       "text": [
        " ==> [('BT BAR & GRILL', 0.7368421052631579)]\n",
        "----\n",
        "BLUE BAR RESTAURANT"
       ]
      },
      {
       "output_type": "stream",
       "stream": "stdout",
       "text": [
        " ==> [('BLUE BAY RESTAURANT', 0.75)]\n",
        "----\n",
        "BLUE BAY RESTAURANT"
       ]
      },
      {
       "output_type": "stream",
       "stream": "stdout",
       "text": [
        " ==> [('BLUE BAR RESTAURANT', 0.75)]\n",
        "----\n",
        "BLUE BOTTLE COFFEE"
       ]
      },
      {
       "output_type": "stream",
       "stream": "stdout",
       "text": [
        " ==> [('BLUE BOTTLE COFFEE CO', 0.782608695652174)]\n",
        "----\n",
        "BLUE BOTTLE COFFEE CO"
       ]
      },
      {
       "output_type": "stream",
       "stream": "stdout",
       "text": [
        " ==> [('BLUE BOTTLE COFFEE', 0.782608695652174)]\n",
        "----\n",
        "BO BO KITCHEN CHINESE RESTAURANT"
       ]
      },
      {
       "output_type": "stream",
       "stream": "stdout",
       "text": [
        " ==> [('JOY KITCHEN CHINESE RESTAURANT', 0.7105263157894737)]\n",
        "----\n",
        "BOB'S DISCOUNT FURNITURE"
       ]
      },
      {
       "output_type": "stream",
       "stream": "stdout",
       "text": [
        " ==> [(\"BOB'S DISCOUNT FURNITURE CAFE\", 0.78125)]\n",
        "----\n",
        "BOB'S DISCOUNT FURNITURE CAFE"
       ]
      },
      {
       "output_type": "stream",
       "stream": "stdout",
       "text": [
        " ==> [(\"BOB'S DISCOUNT FURNITURE\", 0.78125)]\n",
        "----\n",
        "BREEZE'S JAMAICAN RESTAURANT & BAKERY"
       ]
      },
      {
       "output_type": "stream",
       "stream": "stdout",
       "text": [
        " ==> [(\"CJ'S JAMAICAN RESTAURANT & BAKERY\", 0.7209302325581395)]\n",
        "----\n",
        "BRICCO RESTAURANT"
       ]
      },
      {
       "output_type": "stream",
       "stream": "stdout",
       "text": [
        " ==> [('BRIO RESTAURANT', 0.7142857142857143)]\n",
        "----\n",
        "BRIO RESTAURANT"
       ]
      },
      {
       "output_type": "stream",
       "stream": "stdout",
       "text": [
        " ==> [('BRICCO RESTAURANT', 0.7142857142857143)]\n",
        "----\n",
        "BROTHER PIZZA"
       ]
      },
      {
       "output_type": "stream",
       "stream": "stdout",
       "text": [
        " ==> [('BROTHERS PIZZA', 0.7222222222222222)]\n",
        "----\n",
        "BROTHERS PIZZA"
       ]
      },
      {
       "output_type": "stream",
       "stream": "stdout",
       "text": [
        " ==> [('BROTHER PIZZA', 0.7222222222222222)]\n",
        "----\n",
        "BROTHERS PIZZERIA"
       ]
      },
      {
       "output_type": "stream",
       "stream": "stdout",
       "text": [
        " ==> [('T-BROTHERS PIZZERIA', 0.7391304347826086)]\n",
        "----\n",
        "BT BAR & GRILL"
       ]
      },
      {
       "output_type": "stream",
       "stream": "stdout",
       "text": [
        " ==> [('BLT BAR & GRILL', 0.7368421052631579)]\n",
        "----\n",
        "BUFFALO WILD WINGS GRILL & BAR"
       ]
      },
      {
       "output_type": "stream",
       "stream": "stdout",
       "text": [
        " ==> [('BUFFALO WILD WINGS GRILL AND BAR', 0.7777777777777778)]\n",
        "----\n",
        "BUFFALO WILD WINGS GRILL AND BAR"
       ]
      },
      {
       "output_type": "stream",
       "stream": "stdout",
       "text": [
        " ==> [('BUFFALO WILD WINGS GRILL & BAR', 0.7777777777777778)]\n",
        "----\n",
        "BUON APPETIT"
       ]
      },
      {
       "output_type": "stream",
       "stream": "stdout",
       "text": [
        " ==> [('BUON APPETITO', 0.7058823529411765)]\n",
        "----\n",
        "BUON APPETITO"
       ]
      },
      {
       "output_type": "stream",
       "stream": "stdout",
       "text": [
        " ==> [('BUON APPETIT', 0.7058823529411765)]\n",
        "----\n",
        "BURGER UR WAY"
       ]
      },
      {
       "output_type": "stream",
       "stream": "stdout",
       "text": [
        " ==> [('BURGER URWAY', 0.7058823529411765)]\n",
        "----\n",
        "BURGER URWAY"
       ]
      },
      {
       "output_type": "stream",
       "stream": "stdout",
       "text": [
        " ==> [('BURGER UR WAY', 0.7058823529411765)]\n",
        "----\n",
        "CAFE 52 RESTAURANT"
       ]
      },
      {
       "output_type": "stream",
       "stream": "stdout",
       "text": [
        " ==> [('CAFE RESTAURANT', 0.7619047619047619)]\n",
        "----\n",
        "CAFE BENE"
       ]
      },
      {
       "output_type": "stream",
       "stream": "stdout",
       "text": [
        " ==> [('CAFFE BENE', 0.7692307692307693)]\n",
        "----\n",
        "CAFE BUON GUSTO"
       ]
      },
      {
       "output_type": "stream",
       "stream": "stdout",
       "text": [
        " ==> [('CAFFE BUON GUSTO', 0.8421052631578947)]\n",
        "----\n",
        "CAFE CON PAN BAKERY"
       ]
      },
      {
       "output_type": "stream",
       "stream": "stdout",
       "text": [
        " ==> [('CAFE CON PAN BAKERY II', 0.7307692307692307)]\n",
        "----\n",
        "CAFE CON PAN BAKERY II"
       ]
      },
      {
       "output_type": "stream",
       "stream": "stdout",
       "text": [
        " ==> [('CAFE CON PAN BAKERY', 0.7307692307692307)]\n",
        "----\n",
        "CAFE NOI ESPRESSO BAR"
       ]
      },
      {
       "output_type": "stream",
       "stream": "stdout",
       "text": [
        " ==> [('CAFFE NOI ESPRESSO BAR', 0.88)]\n",
        "----\n",
        "CAFE OLE RESTAURANT"
       ]
      },
      {
       "output_type": "stream",
       "stream": "stdout",
       "text": [
        " ==> [('CAFE RESTAURANT', 0.8095238095238095)]\n",
        "----\n",
        "CAFE RESTAURANT"
       ]
      },
      {
       "output_type": "stream",
       "stream": "stdout",
       "text": [
        " ==> [('CAFE OLE RESTAURANT', 0.8095238095238095), ('CAFE 52 RESTAURANT', 0.7619047619047619)]\n",
        "----\n",
        "CAFE VENEZIA"
       ]
      },
      {
       "output_type": "stream",
       "stream": "stdout",
       "text": [
        " ==> [('CAFFE VENEZIA', 0.8125)]\n",
        "----\n",
        "CAFFE BENE"
       ]
      },
      {
       "output_type": "stream",
       "stream": "stdout",
       "text": [
        " ==> [('CAFE BENE', 0.7692307692307693)]\n",
        "----\n",
        "CAFFE BUON GUSTO"
       ]
      },
      {
       "output_type": "stream",
       "stream": "stdout",
       "text": [
        " ==> [('CAFE BUON GUSTO', 0.8421052631578947)]\n",
        "----\n",
        "CAFFE NOI ESPRESSO BAR"
       ]
      },
      {
       "output_type": "stream",
       "stream": "stdout",
       "text": [
        " ==> [('CAFE NOI ESPRESSO BAR', 0.88)]\n",
        "----\n",
        "CAFFE VENEZIA"
       ]
      },
      {
       "output_type": "stream",
       "stream": "stdout",
       "text": [
        " ==> [('CAFE VENEZIA', 0.8125)]\n",
        "----\n",
        "CAMPO BELLO RESTAURANT"
       ]
      },
      {
       "output_type": "stream",
       "stream": "stdout",
       "text": [
        " ==> [('CAMPO BELLO RESTAURANT 2', 0.7857142857142857)]\n",
        "----\n",
        "CAMPO BELLO RESTAURANT 2"
       ]
      },
      {
       "output_type": "stream",
       "stream": "stdout",
       "text": [
        " ==> [('CAMPO BELLO RESTAURANT', 0.7857142857142857)]\n",
        "----\n",
        "CARIBE RESTAURANT"
       ]
      },
      {
       "output_type": "stream",
       "stream": "stdout",
       "text": [
        " ==> [('CARIBEL RESTAURANT', 0.7727272727272727), ('EL CARIBE RESTAURANT', 0.7083333333333334)]\n",
        "----\n",
        "CARIBEL RESTAURANT"
       ]
      },
      {
       "output_type": "stream",
       "stream": "stdout",
       "text": [
        " ==> [('CARIBE RESTAURANT', 0.7727272727272727)]\n",
        "----\n",
        "CARIDAD RESTAURANT"
       ]
      },
      {
       "output_type": "stream",
       "stream": "stdout",
       "text": [
        " ==> [('LA CARIDAD RESTAURANT', 0.72), ('MS CARIDAD RESTAURANT', 0.72)]\n",
        "----\n",
        "CARROT TOP PASTRIES"
       ]
      },
      {
       "output_type": "stream",
       "stream": "stdout",
       "text": [
        " ==> [('CARROT TOP PASTRIES II', 0.7307692307692307)]\n",
        "----\n",
        "CARROT TOP PASTRIES II"
       ]
      },
      {
       "output_type": "stream",
       "stream": "stdout",
       "text": [
        " ==> [('CARROT TOP PASTRIES', 0.7307692307692307)]\n",
        "----\n",
        "CASA COLOMBIA RESTAURANT"
       ]
      },
      {
       "output_type": "stream",
       "stream": "stdout",
       "text": [
        " ==> [('COLOMBIA RESTAURANT', 0.7407407407407407)]\n",
        "----\n",
        "CASTILLO RESTAURANT"
       ]
      },
      {
       "output_type": "stream",
       "stream": "stdout",
       "text": [
        " ==> [('EL CASTILLO RESTAURANT', 0.7307692307692307), ('MI CASTILLO RESTAURANT', 0.7307692307692307)]\n",
        "----\n",
        "CATERINA'S PIZZA"
       ]
      },
      {
       "output_type": "stream",
       "stream": "stdout",
       "text": [
        " ==> [(\"CATERINA'S PIZZERIA\", 0.7272727272727273)]\n",
        "----\n",
        "CATERINA'S PIZZERIA"
       ]
      },
      {
       "output_type": "stream",
       "stream": "stdout",
       "text": [
        " ==> [(\"CATERINA'S PIZZA\", 0.7272727272727273)]\n",
        "----\n",
        "CENTURY CHINESE RESTAURANT"
       ]
      },
      {
       "output_type": "stream",
       "stream": "stdout",
       "text": [
        " ==> [('NEW CENTURY CHINESE RESTAURANT', 0.7647058823529411)]\n",
        "----\n",
        "CHAN'S KITCHEN"
       ]
      },
      {
       "output_type": "stream",
       "stream": "stdout",
       "text": [
        " ==> [(\"CHEN'S KITCHEN\", 0.7647058823529411)]\n",
        "----\n",
        "CHANG XING RESTAURANT"
       ]
      },
      {
       "output_type": "stream",
       "stream": "stdout",
       "text": [
        " ==> [('XING XING RESTAURANT', 0.7083333333333334)]\n",
        "----\n",
        "CHARO RESTAURANT"
       ]
      },
      {
       "output_type": "stream",
       "stream": "stdout",
       "text": [
        " ==> [('CHARO RESTAURANT 3', 0.7272727272727273)]\n",
        "----\n",
        "CHARO RESTAURANT 3"
       ]
      },
      {
       "output_type": "stream",
       "stream": "stdout",
       "text": [
        " ==> [('CHARO RESTAURANT', 0.7272727272727273)]\n",
        "----\n",
        "CHECKERS DRIVE IN RESTAURANT"
       ]
      },
      {
       "output_type": "stream",
       "stream": "stdout",
       "text": [
        " ==> [('CHECKERS DRIVE-IN RESTAURANT', 0.8181818181818182)]\n",
        "----\n",
        "CHECKERS DRIVE-IN RESTAURANT"
       ]
      },
      {
       "output_type": "stream",
       "stream": "stdout",
       "text": [
        " ==> [('CHECKERS DRIVE IN RESTAURANT', 0.8181818181818182)]\n",
        "----\n",
        "CHEF KING CHINESE RESTAURANT"
       ]
      },
      {
       "output_type": "stream",
       "stream": "stdout",
       "text": [
        " ==> [('CHINA KING CHINESE RESTAURANT', 0.7878787878787878)]\n",
        "----\n",
        "CHEN KONG CHINESE RESTAURANT"
       ]
      },
      {
       "output_type": "stream",
       "stream": "stdout",
       "text": [
        " ==> [('HONG KONG CHINESE RESTAURANT', 0.7058823529411765)]\n",
        "----\n",
        "CHEN'S KITCHEN"
       ]
      },
      {
       "output_type": "stream",
       "stream": "stdout",
       "text": [
        " ==> [(\"CHAN'S KITCHEN\", 0.7647058823529411)]\n",
        "----\n",
        "CHENG'S ORIENTAL EXPRESS"
       ]
      },
      {
       "output_type": "stream",
       "stream": "stdout",
       "text": [
        " ==> [(\"NEW CHENG'S ORIENTAL EXPRESS\", 0.75)]\n",
        "----\n",
        "CHICKPEA-RED MANGO"
       ]
      },
      {
       "output_type": "stream",
       "stream": "stdout",
       "text": [
        " ==> [('CHICKPEA/RED MANGO', 0.7391304347826086)]\n",
        "----\n",
        "CHICKPEA/RED MANGO"
       ]
      },
      {
       "output_type": "stream",
       "stream": "stdout",
       "text": [
        " ==> [('CHICKPEA-RED MANGO', 0.7391304347826086)]\n",
        "----\n",
        "CHIFA RESTAURANT"
       ]
      },
      {
       "output_type": "stream",
       "stream": "stdout",
       "text": [
        " ==> [('CHINA RESTAURANT', 0.7142857142857143)]\n",
        "----\n",
        "CHINA 1 KITCHEN"
       ]
      },
      {
       "output_type": "stream",
       "stream": "stdout",
       "text": [
        " ==> [('CHINA KITCHEN', 0.7777777777777778)]\n",
        "----\n",
        "CHINA CITY RESTAURANT"
       ]
      },
      {
       "output_type": "stream",
       "stream": "stdout",
       "text": [
        " ==> [('CHINA RESTAURANT', 0.7083333333333334)]\n",
        "----\n",
        "CHINA GARDEN CHINESE RESTAURANT"
       ]
      },
      {
       "output_type": "stream",
       "stream": "stdout",
       "text": [
        " ==> [('CHINA GARDEN RESTAURANT', 0.75), ('PANDA GARDEN CHINESE RESTAURANT', 0.7297297297297297), ('BEST GARDEN CHINESE RESTAURANT', 0.7222222222222222), ('KEW GARDEN CHINESE RESTAURANT', 0.7222222222222222), ('LEE GARDEN CHINESE RESTAURANT', 0.7222222222222222), ('NEW GARDEN CHINESE RESTAURANT', 0.7222222222222222), ('HOME GARDEN CHINESE RESTAURANT', 0.7027027027027027), ('KING GARDEN CHINESE RESTAURANT', 0.7027027027027027), ('REGO GARDEN CHINESE RESTAURANT', 0.7027027027027027)]\n",
        "----\n",
        "CHINA GARDEN RESTARANT"
       ]
      },
      {
       "output_type": "stream",
       "stream": "stdout",
       "text": [
        " ==> [('CHINA GARDEN RESTAURANT', 0.8148148148148148)]\n",
        "----\n",
        "CHINA GARDEN RESTAURANT"
       ]
      },
      {
       "output_type": "stream",
       "stream": "stdout",
       "text": [
        " ==> [('CHINA GARDEN RESTARANT', 0.8148148148148148), ('CHINA GARDEN CHINESE RESTAURANT', 0.75), ('NEW CHINA GARDEN RESTAURANT', 0.7419354838709677)]\n",
        "----\n",
        "CHINA HONG RESTAURANT"
       ]
      },
      {
       "output_type": "stream",
       "stream": "stdout",
       "text": [
        " ==> [('CHINA RESTAURANT', 0.7083333333333334), ('CHINA KING RESTAURANT', 0.7037037037037037), ('CHINA WANG RESTAURANT', 0.7037037037037037)]\n",
        "----\n",
        "CHINA HOUSE CHINESE RESTAURANT"
       ]
      },
      {
       "output_type": "stream",
       "stream": "stdout",
       "text": [
        " ==> [('CHINA HOUSE RESTAURANT', 0.8275862068965517), ('CHINESE HOUSE RESTAURANT', 0.8)]\n",
        "----\n",
        "CHINA HOUSE RESTAURANT"
       ]
      },
      {
       "output_type": "stream",
       "stream": "stdout",
       "text": [
        " ==> [('CHINA HOUSE CHINESE RESTAURANT', 0.8275862068965517), ('CHINESE HOUSE RESTAURANT', 0.75)]\n",
        "----\n",
        "CHINA KING CHINESE RESTAURANT"
       ]
      },
      {
       "output_type": "stream",
       "stream": "stdout",
       "text": [
        " ==> [('CHEF KING CHINESE RESTAURANT', 0.7878787878787878), ('CHINA KING RESTAURANT', 0.7333333333333333), ('CHUNG HING CHINESE RESTAURANT', 0.7058823529411765), ('LAN KING CHINESE RESTAURANT', 0.7058823529411765), ('TAK KING CHINESE RESTAURANT', 0.7058823529411765)]\n",
        "----\n",
        "CHINA KING GUO'S RESTAURANT"
       ]
      },
      {
       "output_type": "stream",
       "stream": "stdout",
       "text": [
        " ==> [('CHINA KING RESTAURANT', 0.7333333333333333)]\n",
        "----\n",
        "CHINA KING OGDEN RESTAURANT"
       ]
      },
      {
       "output_type": "stream",
       "stream": "stdout",
       "text": [
        " ==> [('CHINA KING RESTAURANT', 0.7333333333333333)]\n",
        "----\n",
        "CHINA KING RESTAURANT"
       ]
      },
      {
       "output_type": "stream",
       "stream": "stdout",
       "text": [
        " ==> [('CHINA PEKING RESTAURANT', 0.7777777777777778), ('CHINA KING CHINESE RESTAURANT', 0.7333333333333333), (\"CHINA KING GUO'S RESTAURANT\", 0.7333333333333333), ('CHINA KING OGDEN RESTAURANT', 0.7333333333333333), ('NEW CHINA KING RESTAURANT', 0.7241379310344828), ('CHINA RESTAURANT', 0.7083333333333334), ('CHINA HONG RESTAURANT', 0.7037037037037037), ('CHINA WANG RESTAURANT', 0.7037037037037037)]\n",
        "----\n",
        "CHINA KITCHEN"
       ]
      },
      {
       "output_type": "stream",
       "stream": "stdout",
       "text": [
        " ==> [('CHINA 1 KITCHEN', 0.7777777777777778)]\n",
        "----\n",
        "CHINA NO. 1 CHINESE RESTAURANT"
       ]
      },
      {
       "output_type": "stream",
       "stream": "stdout",
       "text": [
        " ==> [('CHINESE NO. 1 RESTAURANT', 0.75), ('NO. 1 CHINESE RESTAURANT', 0.75), ('NEW NO. 1 CHINESE RESTAURANT', 0.7142857142857143)]\n",
        "----\n",
        "CHINA ONE RESTAURANT"
       ]
      },
      {
       "output_type": "stream",
       "stream": "stdout",
       "text": [
        " ==> [('CHINA RESTAURANT', 0.7391304347826086), ('NEW CHINA ONE RESTAURANT', 0.7142857142857143)]\n",
        "----\n",
        "CHINA PEKING RESTAURANT"
       ]
      },
      {
       "output_type": "stream",
       "stream": "stdout",
       "text": [
        " ==> [('CHINA KING RESTAURANT', 0.7777777777777778)]\n",
        "----\n",
        "CHINA RESTAURANT"
       ]
      },
      {
       "output_type": "stream",
       "stream": "stdout",
       "text": [
        " ==> [('CHINAR RESTAURANT', 0.7619047619047619), ('CHINA ONE RESTAURANT', 0.7391304347826086), ('CHINA STAR RESTAURANT', 0.7391304347826086), ('CHIFA RESTAURANT', 0.7142857142857143), ('CHINA CITY RESTAURANT', 0.7083333333333334), ('CHINA HONG RESTAURANT', 0.7083333333333334), ('CHINA KING RESTAURANT', 0.7083333333333334), ('CHINA WANG RESTAURANT', 0.7083333333333334)]\n",
        "----\n",
        "CHINA STAR RESTAURANT"
       ]
      },
      {
       "output_type": "stream",
       "stream": "stdout",
       "text": [
        " ==> [('CHINAR RESTAURANT', 0.782608695652174), ('CHINA RESTAURANT', 0.7391304347826086)]\n",
        "----\n",
        "CHINA WANG RESTAURANT"
       ]
      },
      {
       "output_type": "stream",
       "stream": "stdout",
       "text": [
        " ==> [('CHINA RESTAURANT', 0.7083333333333334), ('CHINA HONG RESTAURANT', 0.7037037037037037), ('CHINA KING RESTAURANT', 0.7037037037037037)]\n",
        "----\n",
        "CHINAR RESTAURANT"
       ]
      },
      {
       "output_type": "stream",
       "stream": "stdout",
       "text": [
        " ==> [('CHINA STAR RESTAURANT', 0.782608695652174), ('CHINA RESTAURANT', 0.7619047619047619)]\n",
        "----\n",
        "CHINATOWN CHINESE RESTAURANT"
       ]
      },
      {
       "output_type": "stream",
       "stream": "stdout",
       "text": [
        " ==> [('CHINATOWN RESTAURANT', 0.7241379310344828)]\n",
        "----\n",
        "CHINATOWN RESTAURANT"
       ]
      },
      {
       "output_type": "stream",
       "stream": "stdout",
       "text": [
        " ==> [('CHINATOWN CHINESE RESTAURANT', 0.7241379310344828), ('NEW CHINATOWN RESTAURANT', 0.7142857142857143)]\n",
        "----\n",
        "CHINESE HOUSE RESTAURANT"
       ]
      },
      {
       "output_type": "stream",
       "stream": "stdout",
       "text": [
        " ==> [('CHINA HOUSE CHINESE RESTAURANT', 0.8), ('CHINA HOUSE RESTAURANT', 0.75)]\n",
        "----\n",
        "CHINESE NO. 1 RESTAURANT"
       ]
      },
      {
       "output_type": "stream",
       "stream": "stdout",
       "text": [
        " ==> [('CHINA NO. 1 CHINESE RESTAURANT', 0.75)]\n",
        "----\n",
        "CHIPOTLE MEXICAN GRILL"
       ]
      },
      {
       "output_type": "stream",
       "stream": "stdout",
       "text": [
        " ==> [('CHIPOTLE MEXICAN GRILL#1766', 0.7666666666666667), ('CHIPOTLE MEXICAN GRILL #221', 0.7096774193548387)]\n",
        "----\n",
        "CHIPOTLE MEXICAN GRILL #1394"
       ]
      },
      {
       "output_type": "stream",
       "stream": "stdout",
       "text": [
        " ==> [('CHIPOTLE MEXICAN GRILL #1962', 0.7142857142857143), ('CHIPOTLE MEXICAN GRILL #1968', 0.7142857142857143)]\n",
        "----\n",
        "CHIPOTLE MEXICAN GRILL #1962"
       ]
      },
      {
       "output_type": "stream",
       "stream": "stdout",
       "text": [
        " ==> [('CHIPOTLE MEXICAN GRILL #1968', 0.8181818181818182), ('CHIPOTLE MEXICAN GRILL #1394', 0.7142857142857143)]\n",
        "----\n",
        "CHIPOTLE MEXICAN GRILL #1968"
       ]
      },
      {
       "output_type": "stream",
       "stream": "stdout",
       "text": [
        " ==> [('CHIPOTLE MEXICAN GRILL #1962', 0.8181818181818182), ('CHIPOTLE MEXICAN GRILL #1394', 0.7142857142857143)]\n",
        "----\n",
        "CHIPOTLE MEXICAN GRILL #2090"
       ]
      },
      {
       "output_type": "stream",
       "stream": "stdout",
       "text": [
        " ==> [('CHIPOTLE MEXICAN GRILL #221', 0.7352941176470589), ('CHIPOTLE MEXICAN GRILL #2123', 0.7142857142857143)]\n",
        "----\n",
        "CHIPOTLE MEXICAN GRILL #2123"
       ]
      },
      {
       "output_type": "stream",
       "stream": "stdout",
       "text": [
        " ==> [('CHIPOTLE MEXICAN GRILL #221', 0.7352941176470589), ('CHIPOTLE MEXICAN GRILL #2090', 0.7142857142857143)]\n",
        "----\n",
        "CHIPOTLE MEXICAN GRILL #221"
       ]
      },
      {
       "output_type": "stream",
       "stream": "stdout",
       "text": [
        " ==> [('CHIPOTLE MEXICAN GRILL #2090', 0.7352941176470589), ('CHIPOTLE MEXICAN GRILL #2123', 0.7352941176470589), ('CHIPOTLE MEXICAN GRILL', 0.7096774193548387)]\n",
        "----\n",
        "CHIPOTLE MEXICAN GRILL#1766"
       ]
      },
      {
       "output_type": "stream",
       "stream": "stdout",
       "text": [
        " ==> [('CHIPOTLE MEXICAN GRILL', 0.7666666666666667)]\n",
        "----\n",
        "CHOCK FULL O' NUTS"
       ]
      },
      {
       "output_type": "stream",
       "stream": "stdout",
       "text": [
        " ==> [(\"CHOCK FULL O'NUTS\", 0.7727272727272727), ('CHOCK FULL OF NUTS', 0.7391304347826086)]\n",
        "----\n",
        "CHOCK FULL O'NUTS"
       ]
      },
      {
       "output_type": "stream",
       "stream": "stdout",
       "text": [
        " ==> [(\"CHOCK FULL O' NUTS\", 0.7727272727272727)]\n",
        "----\n",
        "CHOCK FULL OF NUTS"
       ]
      },
      {
       "output_type": "stream",
       "stream": "stdout",
       "text": [
        " ==> [(\"CHOCK FULL O' NUTS\", 0.7391304347826086)]\n",
        "----\n",
        "CHUCK E CHEESE'S"
       ]
      },
      {
       "output_type": "stream",
       "stream": "stdout",
       "text": [
        " ==> [(\"CHUCK E. CHEESE'S\", 0.7619047619047619)]\n",
        "----\n",
        "CHUCK E. CHEESE'S"
       ]
      },
      {
       "output_type": "stream",
       "stream": "stdout",
       "text": [
        " ==> [(\"CHUCK E CHEESE'S\", 0.7619047619047619)]\n",
        "----\n",
        "CHUNG HING CHINESE RESTAURANT"
       ]
      },
      {
       "output_type": "stream",
       "stream": "stdout",
       "text": [
        " ==> [('WING HING CHINESE RESTAURANT', 0.75), ('CHINA KING CHINESE RESTAURANT', 0.7058823529411765), ('LOONG HING CHINESE RESTAURANT', 0.7058823529411765)]\n",
        "----\n",
        "CIBO EXPRESS GOURMET MARKET"
       ]
      },
      {
       "output_type": "stream",
       "stream": "stdout",
       "text": [
        " ==> [('CIBO EXPRESS GOURMET MARKETS', 0.84375), ('CIBO EXPRESS GOURMET MARKETS 2', 0.7941176470588235), ('CIBO EXPRESS GOURMET MARKET (EC)', 0.7714285714285715), ('CIBO MARKET EXPRESS GOURMET MARKETS', 0.7647058823529411), ('CIBO EXPRESS GOURMET MARKET FOOD COURT', 0.717948717948718)]\n",
        "----\n",
        "CIBO EXPRESS GOURMET MARKET (EC)"
       ]
      },
      {
       "output_type": "stream",
       "stream": "stdout",
       "text": [
        " ==> [('CIBO EXPRESS GOURMET MARKET', 0.7714285714285715), ('CIBO EXPRESS GOURMET MARKETS', 0.75), ('CIBO EXPRESS GOURMET MARKETS 2', 0.7105263157894737)]\n",
        "----\n",
        "CIBO EXPRESS GOURMET MARKET FOOD COURT"
       ]
      },
      {
       "output_type": "stream",
       "stream": "stdout",
       "text": [
        " ==> [('CIBO EXPRESS GOURMET MARKET', 0.717948717948718)]\n",
        "----\n",
        "CIBO EXPRESS GOURMET MARKETS"
       ]
      },
      {
       "output_type": "stream",
       "stream": "stdout",
       "text": [
        " ==> [('CIBO MARKET EXPRESS GOURMET MARKETS', 0.90625), ('CIBO EXPRESS GOURMET MARKET', 0.84375), ('CIBO EXPRESS GOURMET MARKETS 2', 0.8235294117647058), ('CIBO EXPRESS GOURMET MARKET (EC)', 0.75)]\n",
        "----\n",
        "CIBO EXPRESS GOURMET MARKETS 2"
       ]
      },
      {
       "output_type": "stream",
       "stream": "stdout",
       "text": [
        " ==> [('CIBO EXPRESS GOURMET MARKETS', 0.8235294117647058), ('CIBO EXPRESS GOURMET MARKET', 0.7941176470588235), ('CIBO MARKET EXPRESS GOURMET MARKETS', 0.75), ('CIBO EXPRESS GOURMET MARKET (EC)', 0.7105263157894737)]\n",
        "----\n",
        "CIBO MARKET EXPRESS GOURMET MARKETS"
       ]
      },
      {
       "output_type": "stream",
       "stream": "stdout",
       "text": [
        " ==> [('CIBO EXPRESS GOURMET MARKETS', 0.90625), ('CIBO EXPRESS GOURMET MARKET', 0.7647058823529411), ('CIBO EXPRESS GOURMET MARKETS 2', 0.75)]\n",
        "----\n",
        "CINNABON WORLD FAMOUS CINNAMON ROLLS"
       ]
      },
      {
       "output_type": "stream",
       "stream": "stdout",
       "text": [
        " ==> [('CINNABON WORLD FAMOUS CINNAMON ROLLS/CARVEL', 0.7380952380952381)]\n",
        "----\n",
        "CINNABON WORLD FAMOUS CINNAMON ROLLS/CARVEL"
       ]
      },
      {
       "output_type": "stream",
       "stream": "stdout",
       "text": [
        " ==> [('CINNABON WORLD FAMOUS CINNAMON ROLLS', 0.7380952380952381)]\n",
        "----\n",
        "CIRCLE LINE XII"
       ]
      },
      {
       "output_type": "stream",
       "stream": "stdout",
       "text": [
        " ==> [('CIRCLE LINE XVII', 0.75)]\n",
        "----\n",
        "CIRCLE LINE XVI"
       ]
      },
      {
       "output_type": "stream",
       "stream": "stdout",
       "text": [
        " ==> [('CIRCLE LINE XVII', 0.8421052631578947)]\n",
        "----\n",
        "CIRCLE LINE XVII"
       ]
      },
      {
       "output_type": "stream",
       "stream": "stdout",
       "text": [
        " ==> [('CIRCLE LINE XVI', 0.8421052631578947), ('CIRCLE LINE XII', 0.75)]\n",
        "----\n",
        "CITI EMPLOYEE CAFETERIA"
       ]
      },
      {
       "output_type": "stream",
       "stream": "stdout",
       "text": [
        " ==> [('CITIBANK EMPLOYEE CAFETERIA', 0.7419354838709677)]\n",
        "----\n",
        "CITIBANK EMPLOYEE CAFETERIA"
       ]
      },
      {
       "output_type": "stream",
       "stream": "stdout",
       "text": [
        " ==> [('CITI EMPLOYEE CAFETERIA', 0.7419354838709677)]\n",
        "----\n",
        "CJ'S JAMAICAN RESTAURANT & BAKERY"
       ]
      },
      {
       "output_type": "stream",
       "stream": "stdout",
       "text": [
        " ==> [(\"CJ'S JAMAICAN RESTAURANT & BAKERY NO 3\", 0.7857142857142857), (\"BREEZE'S JAMAICAN RESTAURANT & BAKERY\", 0.7209302325581395)]\n",
        "----\n",
        "CJ'S JAMAICAN RESTAURANT & BAKERY NO 3"
       ]
      },
      {
       "output_type": "stream",
       "stream": "stdout",
       "text": [
        " ==> [(\"CJ'S JAMAICAN RESTAURANT & BAKERY\", 0.7857142857142857)]\n",
        "----\n",
        "COCKTAIL BODEGA"
       ]
      },
      {
       "output_type": "stream",
       "stream": "stdout",
       "text": [
        " ==> [('COCTAIL BODEGA', 0.7368421052631579)]\n",
        "----\n",
        "COCTAIL BODEGA"
       ]
      },
      {
       "output_type": "stream",
       "stream": "stdout",
       "text": [
        " ==> [('COCKTAIL BODEGA', 0.7368421052631579)]\n",
        "----\n",
        "COFFEE BEAN & TEA LEAF"
       ]
      },
      {
       "output_type": "stream",
       "stream": "stdout",
       "text": [
        " ==> [('COFFEE BEAN TEA & LEAF', 0.7777777777777778), ('THE COFFEE BEAN & TEA LEAF', 0.7333333333333333)]\n",
        "----\n",
        "COFFEE BEAN TEA & LEAF"
       ]
      },
      {
       "output_type": "stream",
       "stream": "stdout",
       "text": [
        " ==> [('COFFEE BEAN & TEA LEAF', 0.7777777777777778)]\n",
        "----\n",
        "COLA'S RESTAURANT"
       ]
      },
      {
       "output_type": "stream",
       "stream": "stdout",
       "text": [
        " ==> [(\"NICOLA'S RESTAURANT\", 0.7391304347826086)]\n",
        "----\n",
        "COLOMBIA RESTAURANT"
       ]
      },
      {
       "output_type": "stream",
       "stream": "stdout",
       "text": [
        " ==> [('CASA COLOMBIA RESTAURANT', 0.7407407407407407)]\n",
        "----\n",
        "COLOMBIAN RESTAURANT & BAKERY"
       ]
      },
      {
       "output_type": "stream",
       "stream": "stdout",
       "text": [
        " ==> [(\"LULO'S COLOMBIAN RESTAURANT & BAKERY\", 0.725)]\n",
        "----\n",
        "CORNER CAFE & BAKERY"
       ]
      },
      {
       "output_type": "stream",
       "stream": "stdout",
       "text": [
        " ==> [('THE CORNER CAFE & BAKERY', 0.7142857142857143), ('CORNER CAFE AND BAKERY', 0.7037037037037037)]\n",
        "----\n",
        "CORNER CAFE AND BAKERY"
       ]
      },
      {
       "output_type": "stream",
       "stream": "stdout",
       "text": [
        " ==> [('CORNER CAFE & BAKERY', 0.7037037037037037)]\n",
        "----\n",
        "CROWN CHICKEN & PIZZA"
       ]
      },
      {
       "output_type": "stream",
       "stream": "stdout",
       "text": [
        " ==> [('CROWN FRIED CHICKEN & PIZZA', 0.7333333333333333)]\n",
        "----\n",
        "CROWN FRIED CHICKEN"
       ]
      },
      {
       "output_type": "stream",
       "stream": "stdout",
       "text": [
        " ==> [('CROWN FRIED CHIKEN', 0.782608695652174)]\n",
        "----\n",
        "CROWN FRIED CHICKEN & COFFEE SHOP"
       ]
      },
      {
       "output_type": "stream",
       "stream": "stdout",
       "text": [
        " ==> [('CROWN FRIED CHICKEN AND COFFEE SHOP', 0.8205128205128205)]\n",
        "----\n",
        "CROWN FRIED CHICKEN & PIZZA"
       ]
      },
      {
       "output_type": "stream",
       "stream": "stdout",
       "text": [
        " ==> [('CROWN GRILL FRIED CHICKEN & PIZZA', 0.7777777777777778), ('CROWN FRIED CHICKEN AND PIZZA', 0.7647058823529411), ('CROWN CHICKEN & PIZZA', 0.7333333333333333), ('SUPER CROWN FRIED CHICKEN & PIZZA', 0.7297297297297297)]\n",
        "----\n",
        "CROWN FRIED CHICKEN AND COFFEE SHOP"
       ]
      },
      {
       "output_type": "stream",
       "stream": "stdout",
       "text": [
        " ==> [('CROWN FRIED CHICKEN & COFFEE SHOP', 0.8205128205128205)]\n",
        "----\n",
        "CROWN FRIED CHICKEN AND PIZZA"
       ]
      },
      {
       "output_type": "stream",
       "stream": "stdout",
       "text": [
        " ==> [('CROWN FRIED CHICKEN & PIZZA', 0.7647058823529411), ('HALAL CROWN FRIED CHICKEN AND PIZZA', 0.7435897435897436)]\n",
        "----\n",
        "CROWN FRIED CHIKEN"
       ]
      },
      {
       "output_type": "stream",
       "stream": "stdout",
       "text": [
        " ==> [('CROWN FRIED CHICKEN', 0.782608695652174)]\n",
        "----\n",
        "CROWN GRILL FRIED CHICKEN & PIZZA"
       ]
      },
      {
       "output_type": "stream",
       "stream": "stdout",
       "text": [
        " ==> [('CROWN FRIED CHICKEN & PIZZA', 0.7777777777777778)]\n",
        "----\n",
        "CURRY & KABAB"
       ]
      },
      {
       "output_type": "stream",
       "stream": "stdout",
       "text": [
        " ==> [('CURRY KABAB', 0.75)]\n",
        "----\n",
        "CURRY KABAB"
       ]
      },
      {
       "output_type": "stream",
       "stream": "stdout",
       "text": [
        " ==> [('CURRY & KABAB', 0.75)]\n",
        "----\n",
        "D & B DOUBLE CHINESE RESTAURANT"
       ]
      },
      {
       "output_type": "stream",
       "stream": "stdout",
       "text": [
        " ==> [('NY DOUBLE CHINESE RESTAURANT', 0.7027027027027027)]\n",
        "----\n",
        "D'ANGELO PIZZA"
       ]
      },
      {
       "output_type": "stream",
       "stream": "stdout",
       "text": [
        " ==> [(\"D'ANGELOS PIZZA\", 0.7368421052631579)]\n",
        "----\n",
        "D'ANGELO'S PIZZA"
       ]
      },
      {
       "output_type": "stream",
       "stream": "stdout",
       "text": [
        " ==> [(\"D'ANGELOS PIZZA\", 0.75)]\n",
        "----\n",
        "D'ANGELOS PIZZA"
       ]
      },
      {
       "output_type": "stream",
       "stream": "stdout",
       "text": [
        " ==> [(\"D'ANGELO'S PIZZA\", 0.75), (\"D'ANGELO PIZZA\", 0.7368421052631579)]\n",
        "----\n",
        "DA MARINO RESTAURANT"
       ]
      },
      {
       "output_type": "stream",
       "stream": "stdout",
       "text": [
        " ==> [('A MARINO RESTAURANT', 0.7916666666666666)]\n",
        "----\n",
        "DAI HING CHINESE RESTAURANT"
       ]
      },
      {
       "output_type": "stream",
       "stream": "stdout",
       "text": [
        " ==> [('WING HING CHINESE RESTAURANT', 0.71875)]\n",
        "----\n",
        "DAIRY QUEEN GRILL & CHILL"
       ]
      },
      {
       "output_type": "stream",
       "stream": "stdout",
       "text": [
        " ==> [('DAIRY QUEEN GRILL AND CHILL', 0.7419354838709677)]\n",
        "----\n",
        "DAIRY QUEEN GRILL AND CHILL"
       ]
      },
      {
       "output_type": "stream",
       "stream": "stdout",
       "text": [
        " ==> [('DAIRY QUEEN GRILL & CHILL', 0.7419354838709677)]\n",
        "----\n",
        "DANY'S PIZZA RESTAURANT"
       ]
      },
      {
       "output_type": "stream",
       "stream": "stdout",
       "text": [
        " ==> [(\"TONY'S PIZZA RESTAURANT\", 0.7241379310344828)]\n",
        "----\n",
        "DE LA VEGA RESTAURANT"
       ]
      },
      {
       "output_type": "stream",
       "stream": "stdout",
       "text": [
        " ==> [('LA VEGA RESTAURANT', 0.72)]\n",
        "----\n",
        "DEE'S RESTAURANT"
       ]
      },
      {
       "output_type": "stream",
       "stream": "stdout",
       "text": [
        " ==> [(\"LEE'S RESTAURANT\", 0.7142857142857143), (\"VEE'S RESTAURANT\", 0.7142857142857143)]\n",
        "----\n",
        "DELICIA BAKERY"
       ]
      },
      {
       "output_type": "stream",
       "stream": "stdout",
       "text": [
        " ==> [('DELICIAS BAKERY', 0.7368421052631579)]\n",
        "----\n",
        "DELICIAS BAKERY"
       ]
      },
      {
       "output_type": "stream",
       "stream": "stdout",
       "text": [
        " ==> [('DELICIA BAKERY', 0.7368421052631579)]\n",
        "----\n",
        "DELICIAS BAKERY & RESTAURANT"
       ]
      },
      {
       "output_type": "stream",
       "stream": "stdout",
       "text": [
        " ==> [('DELICIAS CALENAS BAKERY & RESTAURANT', 0.8108108108108109)]\n",
        "----\n",
        "DELICIAS CALENAS"
       ]
      },
      {
       "output_type": "stream",
       "stream": "stdout",
       "text": [
        " ==> [('DELICIAS CALENAS #2', 0.7272727272727273)]\n",
        "----\n",
        "DELICIAS CALENAS #2"
       ]
      },
      {
       "output_type": "stream",
       "stream": "stdout",
       "text": [
        " ==> [('DELICIAS CALENAS', 0.7272727272727273)]\n",
        "----\n",
        "DELICIAS CALENAS BAKERY & RESTAURANT"
       ]
      },
      {
       "output_type": "stream",
       "stream": "stdout",
       "text": [
        " ==> [('DELICIAS BAKERY & RESTAURANT', 0.8108108108108109)]\n",
        "----\n",
        "DESANTOS RESTAURANT"
       ]
      },
      {
       "output_type": "stream",
       "stream": "stdout",
       "text": [
        " ==> [('SANTOS RESTAURANT', 0.7272727272727273)]\n",
        "----\n",
        "DEUTSCHE BANK CONFERENCE CENTER"
       ]
      },
      {
       "output_type": "stream",
       "stream": "stdout",
       "text": [
        " ==> [('DEUTSCHE BANK- CONFERENCE CENTER', 0.8611111111111112)]\n",
        "----\n",
        "DEUTSCHE BANK- CONFERENCE CENTER"
       ]
      },
      {
       "output_type": "stream",
       "stream": "stdout",
       "text": [
        " ==> [('DEUTSCHE BANK CONFERENCE CENTER', 0.8611111111111112)]\n",
        "----\n",
        "DIRTY BIRD TO GO"
       ]
      },
      {
       "output_type": "stream",
       "stream": "stdout",
       "text": [
        " ==> [('DIRTY BIRD TO-GO', 0.7142857142857143)]\n",
        "----\n",
        "DIRTY BIRD TO-GO"
       ]
      },
      {
       "output_type": "stream",
       "stream": "stdout",
       "text": [
        " ==> [('DIRTY BIRD TO GO', 0.7142857142857143)]\n",
        "----\n",
        "DIWAN-E- KHAAS"
       ]
      },
      {
       "output_type": "stream",
       "stream": "stdout",
       "text": [
        " ==> [('DIWAN-E-KHAAS', 0.7222222222222222)]\n",
        "----\n",
        "DIWAN-E-KHAAS"
       ]
      },
      {
       "output_type": "stream",
       "stream": "stdout",
       "text": [
        " ==> [('DIWAN-E- KHAAS', 0.7222222222222222)]\n",
        "----\n",
        "DOMENICK'S PIZZERIA"
       ]
      },
      {
       "output_type": "stream",
       "stream": "stdout",
       "text": [
        " ==> [(\"DOMENICO'S PIZZERIA\", 0.75), ('DOMENICOS PIZZERIA', 0.7083333333333334)]\n",
        "----\n",
        "DOMENICO'S PIZZERIA"
       ]
      },
      {
       "output_type": "stream",
       "stream": "stdout",
       "text": [
        " ==> [('DOMENICOS PIZZERIA', 0.782608695652174), (\"DOMENICK'S PIZZERIA\", 0.75)]\n",
        "----\n",
        "DOMENICOS PIZZERIA"
       ]
      },
      {
       "output_type": "stream",
       "stream": "stdout",
       "text": [
        " ==> [(\"DOMENICO'S PIZZERIA\", 0.782608695652174), (\"DOMENICK'S PIZZERIA\", 0.7083333333333334)]\n",
        "----\n",
        "DOMINO'S PIZZA"
       ]
      },
      {
       "output_type": "stream",
       "stream": "stdout",
       "text": [
        " ==> [('DOMINOS PIZZA', 0.7222222222222222)]\n",
        "----\n",
        "DOMINOS PIZZA"
       ]
      },
      {
       "output_type": "stream",
       "stream": "stdout",
       "text": [
        " ==> [(\"DOMINO'S PIZZA\", 0.7222222222222222)]\n",
        "----\n",
        "DON FRANCISCO RESTAURANT"
       ]
      },
      {
       "output_type": "stream",
       "stream": "stdout",
       "text": [
        " ==> [('SAN FRANCISCO RESTAURANT', 0.7241379310344828)]\n",
        "----\n",
        "DON PACO  LOPEZ PANDERIA"
       ]
      },
      {
       "output_type": "stream",
       "stream": "stdout",
       "text": [
        " ==> [('DON PACO LOPEZ PANADERIA', 0.7241379310344828)]\n",
        "----\n",
        "DON PACO LOPEZ PANADERIA"
       ]
      },
      {
       "output_type": "stream",
       "stream": "stdout",
       "text": [
        " ==> [('DON PACO  LOPEZ PANDERIA', 0.7241379310344828)]\n",
        "----\n",
        "DON PANCHO VILLA RESTAURANT"
       ]
      },
      {
       "output_type": "stream",
       "stream": "stdout",
       "text": [
        " ==> [('PANCHO VILLA RESTAURANT', 0.7419354838709677)]\n",
        "----\n",
        "DONKIN DONUTS/BASKIN ROBBINS"
       ]
      },
      {
       "output_type": "stream",
       "stream": "stdout",
       "text": [
        " ==> [('DUNKIN DONUTS/BASKIN ROBBINS', 0.8333333333333334), (\"DUNKIN' DONUTS/BASKIN ROBBINS\", 0.7272727272727273)]\n",
        "----\n",
        "DOUBLE DRAGON CHINESE RESTAURANT"
       ]
      },
      {
       "output_type": "stream",
       "stream": "stdout",
       "text": [
        " ==> [('NEW DOUBLE DRAGON CHINESE RESTAURANT', 0.8), ('2647 DOUBLE DRAGON CHINESE RESTAURANT', 0.7804878048780488), ('DRAGON CHINESE RESTAURANT', 0.7428571428571429), ('DOUBLE DRAGON RESTAURANT', 0.7142857142857143)]\n",
        "----\n",
        "DOUBLE DRAGON RESTAURANT"
       ]
      },
      {
       "output_type": "stream",
       "stream": "stdout",
       "text": [
        " ==> [('BEST DOUBLE DRAGON RESTAURANT', 0.75), ('DOUBLE DRAGON CHINESE RESTAURANT', 0.7142857142857143)]\n",
        "----\n",
        "DRAGON BAKERY"
       ]
      },
      {
       "output_type": "stream",
       "stream": "stdout",
       "text": [
        " ==> [('DRAGON BAY BAKERY', 0.8333333333333334)]\n",
        "----\n",
        "DRAGON BAY BAKERY"
       ]
      },
      {
       "output_type": "stream",
       "stream": "stdout",
       "text": [
        " ==> [('DRAGON BAKERY', 0.8333333333333334)]\n",
        "----\n",
        "DRAGON CHINESE RESTAURANT"
       ]
      },
      {
       "output_type": "stream",
       "stream": "stdout",
       "text": [
        " ==> [('DRAGON I CHINESE RESTAURANT', 0.8666666666666667), ('DRAGON HOUSE CHINESE RESTAURANT', 0.7878787878787878), ('DOUBLE DRAGON CHINESE RESTAURANT', 0.7428571428571429), ('KING DRAGON CHINESE RESTAURANT', 0.7352941176470589), ('GREAT DRAGON CHINESE RESTAURANT', 0.7142857142857143), ('XIANG DRAGON CHINESE RESTAURANT', 0.7142857142857143)]\n",
        "----\n",
        "DRAGON HOUSE CHINESE RESTAURANT"
       ]
      },
      {
       "output_type": "stream",
       "stream": "stdout",
       "text": [
        " ==> [('DRAGON CHINESE RESTAURANT', 0.7878787878787878), ('DRAGON I CHINESE RESTAURANT', 0.7428571428571429), ('MOON HOUSE CHINESE RESTAURANT', 0.7222222222222222)]\n",
        "----\n",
        "DRAGON I CHINESE RESTAURANT"
       ]
      },
      {
       "output_type": "stream",
       "stream": "stdout",
       "text": [
        " ==> [('DRAGON CHINESE RESTAURANT', 0.8666666666666667), ('DRAGON HOUSE CHINESE RESTAURANT', 0.7428571428571429)]\n",
        "----\n",
        "DUNKIN  DONUTS"
       ]
      },
      {
       "output_type": "stream",
       "stream": "stdout",
       "text": [
        " ==> [('DUNKIN DONUTS', 0.8235294117647058), (\"DUNKIN'  DONUTS\", 0.7368421052631579)]\n",
        "----\n",
        "DUNKIN DONUT"
       ]
      },
      {
       "output_type": "stream",
       "stream": "stdout",
       "text": [
        " ==> [('DUNKIN DONUTS', 0.7058823529411765)]\n",
        "----\n",
        "DUNKIN DONUTS"
       ]
      },
      {
       "output_type": "stream",
       "stream": "stdout",
       "text": [
        " ==> [('DUNKIN  DONUTS', 0.8235294117647058), (\"DUNKIN' DONUTS\", 0.7222222222222222), ('DUNKIN DONUT', 0.7058823529411765), ('DUNKIN DOUTS', 0.7058823529411765)]\n",
        "----\n",
        "DUNKIN DONUTS & BASKIN ROBBINS"
       ]
      },
      {
       "output_type": "stream",
       "stream": "stdout",
       "text": [
        " ==> [('DUNKIN DONUTS & BASKIN ROBINS', 0.9032258064516129), (\"DUNKIN' DONUTS & BASKIN ROBBINS\", 0.8787878787878788), ('DUNKIN DONUTS BASKIN ROBBINS', 0.8709677419354839), ('DUNKIN DONUTS / BASKIN ROBBINS', 0.8181818181818182), ('DUNKIN DONUTS, BASKIN ROBBINS', 0.7878787878787878), ('DUNKIN DONUTS/ BASKIN ROBBINS', 0.7878787878787878), (\"DUNKIN' DONUTS BASKIN ROBBINS\", 0.7647058823529411), ('DUNKIN DONUTS/BASKIN ROBBINS', 0.7575757575757576), (\"DUNKIN' DONUTS  BASKIN ROBBINS\", 0.7428571428571429), ('DUNKIN DONUTS, BASKINS ROBBINS', 0.7142857142857143)]\n",
        "----\n",
        "DUNKIN DONUTS & BASKIN ROBINS"
       ]
      },
      {
       "output_type": "stream",
       "stream": "stdout",
       "text": [
        " ==> [('DUNKIN DONUTS & BASKIN ROBBINS', 0.9032258064516129), (\"DUNKIN' DONUTS & BASKIN ROBBINS\", 0.7941176470588235), ('DUNKIN DONUTS BASKIN ROBBINS', 0.78125), ('DUNKIN DONUTS / BASKIN ROBBINS', 0.7352941176470589), ('DUNKIN DONUTS, BASKIN ROBBINS', 0.7058823529411765), ('DUNKIN DONUTS/ BASKIN ROBBINS', 0.7058823529411765)]\n",
        "----\n",
        "DUNKIN DONUTS / BASKIN ROBBINS"
       ]
      },
      {
       "output_type": "stream",
       "stream": "stdout",
       "text": [
        " ==> [('DUNKIN DONUTS BASKIN ROBBINS', 0.8709677419354839), ('DUNKIN DONUTS/ BASKIN ROBBINS', 0.84375), ('DUNKIN DONUTS & BASKIN ROBBINS', 0.8181818181818182), ('DUNKIN DONUTS, BASKIN ROBBINS', 0.7878787878787878), (\"DUNKIN' DONUTS BASKIN ROBBINS\", 0.7647058823529411), ('DUNKIN DONUTS/BASKIN ROBBINS', 0.7575757575757576), (\"DUNKIN' DONUTS  BASKIN ROBBINS\", 0.7428571428571429), (\"DUNKIN' DONUTS/ BASKIN ROBBINS\", 0.7428571428571429), ('DUNKIN DONUTS & BASKIN ROBINS', 0.7352941176470589), (\"DUNKIN' DONUTS & BASKIN ROBBINS\", 0.7222222222222222), ('DUNKIN DONUTS, BASKINS ROBBINS', 0.7142857142857143)]\n",
        "----\n",
        "DUNKIN DONUTS BASKIN ROBBINS"
       ]
      },
      {
       "output_type": "stream",
       "stream": "stdout",
       "text": [
        " ==> [('DUNKIN DONUTS & BASKIN ROBBINS', 0.8709677419354839), ('DUNKIN DONUTS / BASKIN ROBBINS', 0.8709677419354839), (\"DUNKIN' DONUTS BASKIN ROBBINS\", 0.8709677419354839), ('DUNKIN DONUTS, BASKIN ROBBINS', 0.8387096774193549), ('DUNKIN DONUTS/ BASKIN ROBBINS', 0.8387096774193549), ('DUNKIN DONUTS/BASKIN ROBBINS', 0.8064516129032258), (\"DUNKIN' DONUTS  BASKIN ROBBINS\", 0.7878787878787878), ('DUNKIN DONUTS & BASKIN ROBINS', 0.78125), (\"DUNKIN' DONUTS & BASKIN ROBBINS\", 0.7647058823529411), ('DUNKIN DONUTS, BASKINS ROBBINS', 0.7575757575757576), (\"DUNKIN' DONUTS, BASKIN ROBBINS\", 0.7352941176470589), (\"DUNKIN' DONUTS/ BASKIN ROBBINS\", 0.7352941176470589), (\"DUNKIN' DONUTS AND BASKIN ROBBINS\", 0.7222222222222222), (\"DUNKIN' DONUTS/BASKIN ROBBINS\", 0.7058823529411765)]\n",
        "----\n",
        "DUNKIN DONUTS, BASKIN ROBBINS"
       ]
      },
      {
       "output_type": "stream",
       "stream": "stdout",
       "text": [
        " ==> [('DUNKIN DONUTS, BASKINS ROBBINS', 0.9032258064516129), (\"DUNKIN' DONUTS, BASKIN ROBBINS\", 0.875), ('DUNKIN DONUTS BASKIN ROBBINS', 0.8387096774193549), ('DUNKIN DONUTS/ BASKIN ROBBINS', 0.8125), ('DUNKIN DONUTS & BASKIN ROBBINS', 0.7878787878787878), ('DUNKIN DONUTS / BASKIN ROBBINS', 0.7878787878787878), ('DUNKIN DONUTS/BASKIN ROBBINS', 0.78125), (\"DUNKIN' DONUTS BASKIN ROBBINS\", 0.7352941176470589), (\"DUNKIN' DONUTS  BASKIN ROBBINS\", 0.7142857142857143), (\"DUNKIN' DONUTS/ BASKIN ROBBINS\", 0.7142857142857143), ('DUNKIN DONUTS & BASKIN ROBINS', 0.7058823529411765)]\n",
        "----\n",
        "DUNKIN DONUTS, BASKINS ROBBINS"
       ]
      },
      {
       "output_type": "stream",
       "stream": "stdout",
       "text": [
        " ==> [('DUNKIN DONUTS, BASKIN ROBBINS', 0.9032258064516129), (\"DUNKIN' DONUTS, BASKIN ROBBINS\", 0.7941176470588235), ('DUNKIN DONUTS BASKIN ROBBINS', 0.7575757575757576), ('DUNKIN DONUTS/ BASKIN ROBBINS', 0.7352941176470589), ('DUNKIN DONUTS & BASKIN ROBBINS', 0.7142857142857143), ('DUNKIN DONUTS / BASKIN ROBBINS', 0.7142857142857143), ('DUNKIN DONUTS/BASKIN ROBBINS', 0.7058823529411765)]\n",
        "----\n",
        "DUNKIN DONUTS, SUBWAY"
       ]
      },
      {
       "output_type": "stream",
       "stream": "stdout",
       "text": [
        " ==> [(\"DUNKIN' DONUTS, SUBWAY\", 0.8076923076923077)]\n",
        "----\n",
        "DUNKIN DONUTS/ BASKIN ROBBINS"
       ]
      },
      {
       "output_type": "stream",
       "stream": "stdout",
       "text": [
        " ==> [(\"DUNKIN' DONUTS/ BASKIN ROBBINS\", 0.875), ('DUNKIN DONUTS / BASKIN ROBBINS', 0.84375), ('DUNKIN DONUTS BASKIN ROBBINS', 0.8387096774193549), ('DUNKIN DONUTS/BASKIN ROBBINS', 0.8387096774193549), ('DUNKIN DONUTS, BASKIN ROBBINS', 0.8125), ('DUNKIN DONUTS & BASKIN ROBBINS', 0.7878787878787878), ('DUNKIN DONUTS/ BASKIN ROBIN', 0.75), ('DUNKIN DONUTS, BASKINS ROBBINS', 0.7352941176470589), (\"DUNKIN' DONUTS BASKIN ROBBINS\", 0.7352941176470589), (\"DUNKIN' DONUTS/BASKIN ROBBINS\", 0.7352941176470589), (\"DUNKIN' DONUTS  BASKIN ROBBINS\", 0.7142857142857143), (\"DUNKIN' DONUTS, BASKIN ROBBINS\", 0.7142857142857143), ('DUNKIN DONUTS & BASKIN ROBINS', 0.7058823529411765)]\n",
        "----\n",
        "DUNKIN DONUTS/ BASKIN ROBIN"
       ]
      },
      {
       "output_type": "stream",
       "stream": "stdout",
       "text": [
        " ==> [('DUNKIN DONUTS/ BASKIN ROBBINS', 0.75)]\n",
        "----\n",
        "DUNKIN DONUTS/BASKIN ROBBINS"
       ]
      },
      {
       "output_type": "stream",
       "stream": "stdout",
       "text": [
        " ==> [(\"DUNKIN' DONUTS/BASKIN ROBBINS\", 0.8709677419354839), ('DUNKIN DONUTS/ BASKIN ROBBINS', 0.8387096774193549), ('DONKIN DONUTS/BASKIN ROBBINS', 0.8333333333333334), ('DUNKIN DONUTS BASKIN ROBBINS', 0.8064516129032258), ('DUNKIN DONUTS, BASKIN ROBBINS', 0.78125), (\"DUNKIN' DONUTS/BASKIN ROBINS\", 0.78125), (\"DUNKIN' DONUTS/BASKIN' ROBBINS\", 0.78125), ('DUNKIN DONUTS & BASKIN ROBBINS', 0.7575757575757576), ('DUNKIN DONUTS / BASKIN ROBBINS', 0.7575757575757576), (\"DUNKIN' DONUTS/ BASKIN ROBBINS\", 0.7352941176470589), ('DUNKIN DONUTS/BASKIN ROBBINS/POPEYES', 0.7297297297297297), ('DUNKIN DONUTS, BASKINS ROBBINS', 0.7058823529411765), (\"DUNKIN' DONUTS BASKIN ROBBINS\", 0.7058823529411765)]\n",
        "----\n",
        "DUNKIN DONUTS/BASKIN ROBBINS/POPEYES"
       ]
      },
      {
       "output_type": "stream",
       "stream": "stdout",
       "text": [
        " ==> [('DUNKIN DONUTS/BASKIN ROBBINS', 0.7297297297297297)]\n",
        "----\n",
        "DUNKIN DOUTS"
       ]
      },
      {
       "output_type": "stream",
       "stream": "stdout",
       "text": [
        " ==> [('DUNKIN DONUTS', 0.7058823529411765)]\n",
        "----\n",
        "DUNKIN'  DONUTS"
       ]
      },
      {
       "output_type": "stream",
       "stream": "stdout",
       "text": [
        " ==> [(\"DUNKIN' DONUTS\", 0.8333333333333334), ('DUNKIN  DONUTS', 0.7368421052631579)]\n",
        "----\n",
        "DUNKIN' DONUTS"
       ]
      },
      {
       "output_type": "stream",
       "stream": "stdout",
       "text": [
        " ==> [(\"DUNKIN'  DONUTS\", 0.8333333333333334), ('DUNKIN DONUTS', 0.7222222222222222)]\n",
        "----\n",
        "DUNKIN' DONUTS  BASKIN ROBBINS"
       ]
      },
      {
       "output_type": "stream",
       "stream": "stdout",
       "text": [
        " ==> [(\"DUNKIN' DONUTS BASKIN ROBBINS\", 0.90625), (\"DUNKIN' DONUTS & BASKIN ROBBINS\", 0.8529411764705882), (\"DUNKIN' DONUTS, BASKIN ROBBINS\", 0.8235294117647058), (\"DUNKIN' DONUTS/ BASKIN ROBBINS\", 0.8235294117647058), (\"DUNKIN' DONUTS AND BASKIN ROBBINS\", 0.8055555555555556), (\"DUNKIN' DONUTS/BASKIN ROBBINS\", 0.7941176470588235), ('DUNKIN DONUTS BASKIN ROBBINS', 0.7878787878787878), ('DUNKIN DONUTS & BASKIN ROBBINS', 0.7428571428571429), ('DUNKIN DONUTS / BASKIN ROBBINS', 0.7428571428571429), ('DUNKIN DONUTS, BASKIN ROBBINS', 0.7142857142857143), ('DUNKIN DONUTS/ BASKIN ROBBINS', 0.7142857142857143), (\"DUNKIN' DONUTS/BASKIN ROBINS\", 0.7142857142857143), (\"DUNKIN' DONUTS/BASKIN' ROBBINS\", 0.7142857142857143)]\n",
        "----\n",
        "DUNKIN' DONUTS & BASKIN ROBBINS"
       ]
      },
      {
       "output_type": "stream",
       "stream": "stdout",
       "text": [
        " ==> [('DUNKIN DONUTS & BASKIN ROBBINS', 0.8787878787878788), (\"DUNKIN' DONUTS BASKIN ROBBINS\", 0.8787878787878788), (\"DUNKIN' DONUTS  BASKIN ROBBINS\", 0.8529411764705882), (\"DUNKIN' DONUTS, BASKIN ROBBINS\", 0.8), (\"DUNKIN' DONUTS/ BASKIN ROBBINS\", 0.8), ('DUNKIN DONUTS & BASKIN ROBINS', 0.7941176470588235), (\"DUNKIN' DONUTS AND BASKIN ROBBINS\", 0.7837837837837838), (\"DUNKIN' DONUTS/BASKIN ROBBINS\", 0.7714285714285715), ('DUNKIN DONUTS BASKIN ROBBINS', 0.7647058823529411), ('DUNKIN DONUTS / BASKIN ROBBINS', 0.7222222222222222)]\n",
        "----\n",
        "DUNKIN' DONUTS AND BASKIN ROBBINS"
       ]
      },
      {
       "output_type": "stream",
       "stream": "stdout",
       "text": [
        " ==> [(\"DUNKIN' DONUTS BASKIN ROBBINS\", 0.8285714285714286), (\"DUNKIN' DONUTS  BASKIN ROBBINS\", 0.8055555555555556), (\"DUNKIN' DONUTS & BASKIN ROBBINS\", 0.7837837837837838), (\"DUNKIN' DONUTS, BASKIN ROBBINS\", 0.7567567567567568), (\"DUNKIN' DONUTS/ BASKIN ROBBINS\", 0.7567567567567568), (\"DUNKIN' DONUTS/BASKIN ROBBINS\", 0.7297297297297297), ('DUNKIN DONUTS BASKIN ROBBINS', 0.7222222222222222)]\n",
        "----\n",
        "DUNKIN' DONUTS BASKIN ROBBINS"
       ]
      },
      {
       "output_type": "stream",
       "stream": "stdout",
       "text": [
        " ==> [(\"DUNKIN' DONUTS  BASKIN ROBBINS\", 0.90625), (\"DUNKIN' DONUTS & BASKIN ROBBINS\", 0.8787878787878788), ('DUNKIN DONUTS BASKIN ROBBINS', 0.8709677419354839), (\"DUNKIN' DONUTS, BASKIN ROBBINS\", 0.8484848484848485), (\"DUNKIN' DONUTS/ BASKIN ROBBINS\", 0.8484848484848485), (\"DUNKIN' DONUTS AND BASKIN ROBBINS\", 0.8285714285714286), (\"DUNKIN' DONUTS/BASKIN ROBBINS\", 0.8181818181818182), ('DUNKIN DONUTS & BASKIN ROBBINS', 0.7647058823529411), ('DUNKIN DONUTS / BASKIN ROBBINS', 0.7647058823529411), ('DUNKIN DONUTS, BASKIN ROBBINS', 0.7352941176470589), ('DUNKIN DONUTS/ BASKIN ROBBINS', 0.7352941176470589), (\"DUNKIN' DONUTS/BASKIN ROBINS\", 0.7352941176470589), (\"DUNKIN' DONUTS/BASKIN' ROBBINS\", 0.7352941176470589), ('DUNKIN DONUTS/BASKIN ROBBINS', 0.7058823529411765)]\n",
        "----\n",
        "DUNKIN' DONUTS, BASKIN ROBBINS"
       ]
      },
      {
       "output_type": "stream",
       "stream": "stdout",
       "text": [
        " ==> [('DUNKIN DONUTS, BASKIN ROBBINS', 0.875), (\"DUNKIN' DONUTS BASKIN ROBBINS\", 0.8484848484848485), (\"DUNKIN' DONUTS  BASKIN ROBBINS\", 0.8235294117647058), (\"DUNKIN' DONUTS/ BASKIN ROBBINS\", 0.8235294117647058), (\"DUNKIN' DONUTS & BASKIN ROBBINS\", 0.8), ('DUNKIN DONUTS, BASKINS ROBBINS', 0.7941176470588235), (\"DUNKIN' DONUTS/BASKIN ROBBINS\", 0.7941176470588235), (\"DUNKIN' DONUTS AND BASKIN ROBBINS\", 0.7567567567567568), ('DUNKIN DONUTS BASKIN ROBBINS', 0.7352941176470589), (\"DUNKIN' DONUTS, BASKIN ROBBINS, SUBWAY\", 0.725), ('DUNKIN DONUTS/ BASKIN ROBBINS', 0.7142857142857143), (\"DUNKIN' DONUTS/BASKIN ROBINS\", 0.7142857142857143), (\"DUNKIN' DONUTS/BASKIN' ROBBINS\", 0.7142857142857143)]\n",
        "----\n",
        "DUNKIN' DONUTS, BASKIN ROBBINS, SUBWAY"
       ]
      },
      {
       "output_type": "stream",
       "stream": "stdout",
       "text": [
        " ==> [(\"DUNKIN' DONUTS, BASKIN ROBBINS\", 0.725)]\n",
        "----\n",
        "DUNKIN' DONUTS, SUBWAY"
       ]
      },
      {
       "output_type": "stream",
       "stream": "stdout",
       "text": [
        " ==> [('DUNKIN DONUTS, SUBWAY', 0.8076923076923077), (\"DUNKIN' DONUTS/SUBWAY\", 0.7407407407407407)]\n",
        "----\n",
        "DUNKIN' DONUTS/ BASKIN ROBBINS"
       ]
      },
      {
       "output_type": "stream",
       "stream": "stdout",
       "text": [
        " ==> [('DUNKIN DONUTS/ BASKIN ROBBINS', 0.875), (\"DUNKIN' DONUTS BASKIN ROBBINS\", 0.8484848484848485), (\"DUNKIN' DONUTS/BASKIN ROBBINS\", 0.8484848484848485), (\"DUNKIN' DONUTS  BASKIN ROBBINS\", 0.8235294117647058), (\"DUNKIN' DONUTS, BASKIN ROBBINS\", 0.8235294117647058), (\"DUNKIN' DONUTS & BASKIN ROBBINS\", 0.8), (\"DUNKIN' DONUTS/BASKIN ROBINS\", 0.7647058823529411), (\"DUNKIN' DONUTS/BASKIN' ROBBINS\", 0.7647058823529411), (\"DUNKIN' DONUTS AND BASKIN ROBBINS\", 0.7567567567567568), ('DUNKIN DONUTS / BASKIN ROBBINS', 0.7428571428571429), ('DUNKIN DONUTS BASKIN ROBBINS', 0.7352941176470589), ('DUNKIN DONUTS/BASKIN ROBBINS', 0.7352941176470589), ('DUNKIN DONUTS, BASKIN ROBBINS', 0.7142857142857143)]\n",
        "----\n",
        "DUNKIN' DONUTS/BASKIN ROBBINS"
       ]
      },
      {
       "output_type": "stream",
       "stream": "stdout",
       "text": [
        " ==> [(\"DUNKIN' DONUTS/BASKIN ROBINS\", 0.9032258064516129), (\"DUNKIN' DONUTS/BASKIN' ROBBINS\", 0.9032258064516129), ('DUNKIN DONUTS/BASKIN ROBBINS', 0.8709677419354839), (\"DUNKIN' DONUTS/ BASKIN ROBBINS\", 0.8484848484848485), (\"DUNKIN' DONUTS BASKIN ROBBINS\", 0.8181818181818182), (\"DUNKIN' DONUTS  BASKIN ROBBINS\", 0.7941176470588235), (\"DUNKIN' DONUTS, BASKIN ROBBINS\", 0.7941176470588235), (\"DUNKIN' DONUTS & BASKIN ROBBINS\", 0.7714285714285715), ('DUNKIN DONUTS/ BASKIN ROBBINS', 0.7352941176470589), (\"DUNKIN' DONUTS AND BASKIN ROBBINS\", 0.7297297297297297), ('DONKIN DONUTS/BASKIN ROBBINS', 0.7272727272727273), ('DUNKIN DONUTS BASKIN ROBBINS', 0.7058823529411765)]\n",
        "----\n",
        "DUNKIN' DONUTS/BASKIN ROBINS"
       ]
      },
      {
       "output_type": "stream",
       "stream": "stdout",
       "text": [
        " ==> [(\"DUNKIN' DONUTS/BASKIN ROBBINS\", 0.9032258064516129), (\"DUNKIN' DONUTS/BASKIN' ROBBINS\", 0.8125), ('DUNKIN DONUTS/BASKIN ROBBINS', 0.78125), (\"DUNKIN' DONUTS/ BASKIN ROBBINS\", 0.7647058823529411), (\"DUNKIN' DONUTS BASKIN ROBBINS\", 0.7352941176470589), (\"DUNKIN' DONUTS  BASKIN ROBBINS\", 0.7142857142857143), (\"DUNKIN' DONUTS, BASKIN ROBBINS\", 0.7142857142857143)]\n",
        "----\n",
        "DUNKIN' DONUTS/BASKIN' ROBBINS"
       ]
      },
      {
       "output_type": "stream",
       "stream": "stdout",
       "text": [
        " ==> [(\"DUNKIN' DONUTS/BASKIN ROBBINS\", 0.9032258064516129), (\"DUNKIN' DONUTS/BASKIN ROBINS\", 0.8125), ('DUNKIN DONUTS/BASKIN ROBBINS', 0.78125), (\"DUNKIN' DONUTS/ BASKIN ROBBINS\", 0.7647058823529411), (\"DUNKIN' DONUTS BASKIN ROBBINS\", 0.7352941176470589), (\"DUNKIN' DONUTS  BASKIN ROBBINS\", 0.7142857142857143), (\"DUNKIN' DONUTS, BASKIN ROBBINS\", 0.7142857142857143)]\n",
        "----\n",
        "DUNKIN' DONUTS/SUBWAY"
       ]
      },
      {
       "output_type": "stream",
       "stream": "stdout",
       "text": [
        " ==> [(\"DUNKIN' DONUTS, SUBWAY\", 0.7407407407407407)]\n",
        "----\n",
        "DYLAN'S CANDY BAR"
       ]
      },
      {
       "output_type": "stream",
       "stream": "stdout",
       "text": [
        " ==> [(\"DYLAN'S CANDYBAR\", 0.7619047619047619)]\n",
        "----\n",
        "DYLAN'S CANDYBAR"
       ]
      },
      {
       "output_type": "stream",
       "stream": "stdout",
       "text": [
        " ==> [(\"DYLAN'S CANDY BAR\", 0.7619047619047619)]\n",
        "----\n",
        "E & K JAMAICAN RESTAURANT"
       ]
      },
      {
       "output_type": "stream",
       "stream": "stdout",
       "text": [
        " ==> [('L & K JAMAICAN RESTAURANT', 0.8)]\n",
        "----\n",
        "EAST FAR RESTAURANT"
       ]
      },
      {
       "output_type": "stream",
       "stream": "stdout",
       "text": [
        " ==> [('EAST STAR RESTAURANT', 0.75)]\n",
        "----\n",
        "EAST JAPANESE RESTAURANT"
       ]
      },
      {
       "output_type": "stream",
       "stream": "stdout",
       "text": [
        " ==> [('EAST JAPANESE RESTAURANT/ BAR', 0.7272727272727273)]\n",
        "----\n",
        "EAST JAPANESE RESTAURANT/ BAR"
       ]
      },
      {
       "output_type": "stream",
       "stream": "stdout",
       "text": [
        " ==> [('EAST JAPANESE RESTAURANT', 0.7272727272727273)]\n",
        "----\n",
        "EAST STAR RESTAURANT"
       ]
      },
      {
       "output_type": "stream",
       "stream": "stdout",
       "text": [
        " ==> [('EAST FAR RESTAURANT', 0.75)]\n",
        "----\n",
        "EGGER'S ICE CREAM PARLOR"
       ]
      },
      {
       "output_type": "stream",
       "stream": "stdout",
       "text": [
        " ==> [('EGGERS ICE CREAM PARLOR', 0.8214285714285714)]\n",
        "----\n",
        "EGGERS ICE CREAM PARLOR"
       ]
      },
      {
       "output_type": "stream",
       "stream": "stdout",
       "text": [
        " ==> [(\"EGGER'S ICE CREAM PARLOR\", 0.8214285714285714)]\n",
        "----\n",
        "EL CARIBE RESTAURANT"
       ]
      },
      {
       "output_type": "stream",
       "stream": "stdout",
       "text": [
        " ==> [('CARIBE RESTAURANT', 0.7083333333333334)]\n",
        "----\n",
        "EL CASTILLO BAR RESTAURANT"
       ]
      },
      {
       "output_type": "stream",
       "stream": "stdout",
       "text": [
        " ==> [('EL CASTILLO RESTAURANT', 0.7931034482758621)]\n",
        "----\n",
        "EL CASTILLO RESTAURANT"
       ]
      },
      {
       "output_type": "stream",
       "stream": "stdout",
       "text": [
        " ==> [('EL CASTILLO BAR RESTAURANT', 0.7931034482758621), ('CASTILLO RESTAURANT', 0.7307692307692307), ('MI CASTILLO RESTAURANT', 0.7142857142857143)]\n",
        "----\n",
        "EL GALLITO RESTAURANT"
       ]
      },
      {
       "output_type": "stream",
       "stream": "stdout",
       "text": [
        " ==> [('EL PITALLITO RESTAURANT', 0.7142857142857143)]\n",
        "----\n",
        "EL GRAN CANARIO II RESTAURANT"
       ]
      },
      {
       "output_type": "stream",
       "stream": "stdout",
       "text": [
        " ==> [('EL GRAN CANARIO RESTAURANT', 0.8387096774193549)]\n",
        "----\n",
        "EL GRAN CANARIO RESTAURANT"
       ]
      },
      {
       "output_type": "stream",
       "stream": "stdout",
       "text": [
        " ==> [('EL GRAN CANARIO II RESTAURANT', 0.8387096774193549)]\n",
        "----\n",
        "EL GRAN MALECON RESTAURANT"
       ]
      },
      {
       "output_type": "stream",
       "stream": "stdout",
       "text": [
        " ==> [('EL MALECON RESTAURANT', 0.7857142857142857)]\n",
        "----\n",
        "EL IZALCO RESTAURANT"
       ]
      },
      {
       "output_type": "stream",
       "stream": "stdout",
       "text": [
        " ==> [('IZALCO RESTAURANT', 0.7083333333333334)]\n",
        "----\n",
        "EL JOBITO RESTAURANT"
       ]
      },
      {
       "output_type": "stream",
       "stream": "stdout",
       "text": [
        " ==> [('EL JOBO RESTAURANT', 0.75)]\n",
        "----\n",
        "EL JOBO RESTAURANT"
       ]
      },
      {
       "output_type": "stream",
       "stream": "stdout",
       "text": [
        " ==> [('EL JOBITO RESTAURANT', 0.75), ('EL NUEVO JOBO RESTAURANT', 0.7037037037037037), ('EL VIEJO JOBO RESTAURANT', 0.7037037037037037)]\n",
        "----\n",
        "EL LINA RESTAURANT"
       ]
      },
      {
       "output_type": "stream",
       "stream": "stdout",
       "text": [
        " ==> [('EL MOLINA RESTAURANT', 0.75)]\n",
        "----\n",
        "EL MALECON RESTAURANT"
       ]
      },
      {
       "output_type": "stream",
       "stream": "stdout",
       "text": [
        " ==> [('EL GRAN MALECON RESTAURANT', 0.7857142857142857), ('MALECON RESTAURANT', 0.72)]\n",
        "----\n",
        "EL MANGU SABROSO RESTAURANT"
       ]
      },
      {
       "output_type": "stream",
       "stream": "stdout",
       "text": [
        " ==> [('EL SABROSO RESTAURANT', 0.7333333333333333)]\n",
        "----\n",
        "EL MIRADOR RESTAURANT"
       ]
      },
      {
       "output_type": "stream",
       "stream": "stdout",
       "text": [
        " ==> [('MIRADOR RESTAURANT', 0.72)]\n",
        "----\n",
        "EL MOLINA RESTAURANT"
       ]
      },
      {
       "output_type": "stream",
       "stream": "stdout",
       "text": [
        " ==> [('EL LINA RESTAURANT', 0.75)]\n",
        "----\n",
        "EL NUEVO BOHIO RESTAURANT"
       ]
      },
      {
       "output_type": "stream",
       "stream": "stdout",
       "text": [
        " ==> [('EL NUEVO BONAO RESTAURANT', 0.7419354838709677)]\n",
        "----\n",
        "EL NUEVO BONAO RESTAURANT"
       ]
      },
      {
       "output_type": "stream",
       "stream": "stdout",
       "text": [
        " ==> [('EL NUEVO BOHIO RESTAURANT', 0.7419354838709677)]\n",
        "----\n",
        "EL NUEVO JOBO RESTAURANT"
       ]
      },
      {
       "output_type": "stream",
       "stream": "stdout",
       "text": [
        " ==> [('EL JOBO RESTAURANT', 0.7037037037037037)]\n",
        "----\n",
        "EL NUEVO VALLE RESTAURANT"
       ]
      },
      {
       "output_type": "stream",
       "stream": "stdout",
       "text": [
        " ==> [('EL VALLE RESTAURANT', 0.7142857142857143)]\n",
        "----\n",
        "EL PALO BAR RESTAURANT"
       ]
      },
      {
       "output_type": "stream",
       "stream": "stdout",
       "text": [
        " ==> [('EL PALO RESTAURANT', 0.76)]\n",
        "----\n",
        "EL PALO RESTAURANT"
       ]
      },
      {
       "output_type": "stream",
       "stream": "stdout",
       "text": [
        " ==> [('EL PALO BAR RESTAURANT', 0.76), ('EL PASILLO RESTAURANT', 0.72)]\n",
        "----\n",
        "EL PASILLO RESTAURANT"
       ]
      },
      {
       "output_type": "stream",
       "stream": "stdout",
       "text": [
        " ==> [('EL PALO RESTAURANT', 0.72)]\n",
        "----\n",
        "EL PATRON MEXICAN GRILL"
       ]
      },
      {
       "output_type": "stream",
       "stream": "stdout",
       "text": [
        " ==> [('PATRON MEXICAN GRILL', 0.7407407407407407)]\n",
        "----\n",
        "EL PITALLITO RESTAURANT"
       ]
      },
      {
       "output_type": "stream",
       "stream": "stdout",
       "text": [
        " ==> [('EL GALLITO RESTAURANT', 0.7142857142857143)]\n",
        "----\n",
        "EL POLLO INKA PERU"
       ]
      },
      {
       "output_type": "stream",
       "stream": "stdout",
       "text": [
        " ==> [('EL POLLO INKA PERU II', 0.72)]\n",
        "----\n",
        "EL POLLO INKA PERU II"
       ]
      },
      {
       "output_type": "stream",
       "stream": "stdout",
       "text": [
        " ==> [('EL POLLO INKA PERU', 0.72)]\n",
        "----\n",
        "EL PORTON BAR & MEXICAN RESTAURANT"
       ]
      },
      {
       "output_type": "stream",
       "stream": "stdout",
       "text": [
        " ==> [('EL PORTON BAR & RESTAURANT', 0.7297297297297297)]\n",
        "----\n",
        "EL PORTON BAR & RESTAURANT"
       ]
      },
      {
       "output_type": "stream",
       "stream": "stdout",
       "text": [
        " ==> [('EL PORTON BAR & MEXICAN RESTAURANT', 0.7297297297297297)]\n",
        "----\n",
        "EL RANCHITO POBLANO RESTAURANT"
       ]
      },
      {
       "output_type": "stream",
       "stream": "stdout",
       "text": [
        " ==> [('EL RANCHITO RESTAURANT', 0.7419354838709677)]\n",
        "----\n",
        "EL RANCHITO RESTAURANT"
       ]
      },
      {
       "output_type": "stream",
       "stream": "stdout",
       "text": [
        " ==> [('EL RANCHO RESTAURANT', 0.76), ('EL RANCHITO POBLANO RESTAURANT', 0.7419354838709677), ('TU RANCHITO RESTAURANT', 0.7037037037037037)]\n",
        "----\n",
        "EL RANCHO RESTAURANT"
       ]
      },
      {
       "output_type": "stream",
       "stream": "stdout",
       "text": [
        " ==> [('EL SANCHO RESTAURANT', 0.7916666666666666), ('EL RANCHITO RESTAURANT', 0.76)]\n",
        "----\n",
        "EL RICONCITO RESTAURANT"
       ]
      },
      {
       "output_type": "stream",
       "stream": "stdout",
       "text": [
        " ==> [('EL RINCONCITO RESTAURANT', 0.8214285714285714)]\n",
        "----\n",
        "EL RINCONCITO RESTAURANT"
       ]
      },
      {
       "output_type": "stream",
       "stream": "stdout",
       "text": [
        " ==> [('EL RICONCITO RESTAURANT', 0.8214285714285714)]\n",
        "----\n",
        "EL SABROSO RESTAURANT"
       ]
      },
      {
       "output_type": "stream",
       "stream": "stdout",
       "text": [
        " ==> [('EL MANGU SABROSO RESTAURANT', 0.7333333333333333)]\n",
        "----\n",
        "EL SANCHO RESTAURANT"
       ]
      },
      {
       "output_type": "stream",
       "stream": "stdout",
       "text": [
        " ==> [('EL RANCHO RESTAURANT', 0.7916666666666666)]\n",
        "----\n",
        "EL TEQUILERO BAR & RESTAURANT"
       ]
      },
      {
       "output_type": "stream",
       "stream": "stdout",
       "text": [
        " ==> [('EL TEQUILERO RESTAURANT', 0.75)]\n",
        "----\n",
        "EL TEQUILERO RESTAURANT"
       ]
      },
      {
       "output_type": "stream",
       "stream": "stdout",
       "text": [
        " ==> [('EL TEQUILERO BAR & RESTAURANT', 0.75)]\n",
        "----\n",
        "EL VALLE RESTAURANT"
       ]
      },
      {
       "output_type": "stream",
       "stream": "stdout",
       "text": [
        " ==> [('EL NUEVO VALLE RESTAURANT', 0.7142857142857143)]\n",
        "----\n",
        "EL VIEJO JOBO RESTAURANT"
       ]
      },
      {
       "output_type": "stream",
       "stream": "stdout",
       "text": [
        " ==> [('EL JOBO RESTAURANT', 0.7037037037037037)]\n",
        "----\n",
        "ELSA LA REINA DEL CHICHARRON"
       ]
      },
      {
       "output_type": "stream",
       "stream": "stdout",
       "text": [
        " ==> [('ELSA LA REINA DEL CHICHARRON 3', 0.8235294117647058), ('ELSA LA REYNA DEL CHICHARRON', 0.8181818181818182)]\n",
        "----\n",
        "ELSA LA REINA DEL CHICHARRON 3"
       ]
      },
      {
       "output_type": "stream",
       "stream": "stdout",
       "text": [
        " ==> [('ELSA LA REINA DEL CHICHARRON', 0.8235294117647058)]\n",
        "----\n",
        "ELSA LA REYNA DEL CHICHARRON"
       ]
      },
      {
       "output_type": "stream",
       "stream": "stdout",
       "text": [
        " ==> [('ELSA LA REINA DEL CHICHARRON', 0.8181818181818182)]\n",
        "----\n",
        "EMACK & BOLIO'S"
       ]
      },
      {
       "output_type": "stream",
       "stream": "stdout",
       "text": [
        " ==> [('EMACK & BOLIOS', 0.7368421052631579)]\n",
        "----\n",
        "EMACK & BOLIOS"
       ]
      },
      {
       "output_type": "stream",
       "stream": "stdout",
       "text": [
        " ==> [(\"EMACK & BOLIO'S\", 0.7368421052631579)]\n",
        "----\n",
        "EMPIRE BBQ RESTAURANT"
       ]
      },
      {
       "output_type": "stream",
       "stream": "stdout",
       "text": [
        " ==> [('EMPIRE RESTAURANT', 0.75)]\n",
        "----\n",
        "EMPIRE CHINESE RESTAURANT"
       ]
      },
      {
       "output_type": "stream",
       "stream": "stdout",
       "text": [
        " ==> [('EMPIRE HOUSE CHINESE RESTAURANT', 0.84375), ('EMPIRE WOK CHINESE RESTAURANT', 0.8125), ('EMPIRE EXPRESS CHINESE RESTAURANT', 0.7428571428571429), ('EMPIRE CHINESE RESTAURANT ZHENG', 0.7142857142857143), ('EMPIRE RESTAURANT', 0.7037037037037037)]\n",
        "----\n",
        "EMPIRE CHINESE RESTAURANT ZHENG"
       ]
      },
      {
       "output_type": "stream",
       "stream": "stdout",
       "text": [
        " ==> [('EMPIRE CHINESE RESTAURANT', 0.7142857142857143)]\n",
        "----\n",
        "EMPIRE EXPRESS CHINESE RESTAURANT"
       ]
      },
      {
       "output_type": "stream",
       "stream": "stdout",
       "text": [
        " ==> [('EMPIRE CHINESE RESTAURANT', 0.7428571428571429)]\n",
        "----\n",
        "EMPIRE HOUSE CHINESE RESTAURANT"
       ]
      },
      {
       "output_type": "stream",
       "stream": "stdout",
       "text": [
        " ==> [('EMPIRE CHINESE RESTAURANT', 0.84375), ('EMPIRE WOK CHINESE RESTAURANT', 0.7027027027027027)]\n",
        "----\n",
        "EMPIRE KING RESTAURANT"
       ]
      },
      {
       "output_type": "stream",
       "stream": "stdout",
       "text": [
        " ==> [('EMPIRE RESTAURANT', 0.72)]\n",
        "----\n",
        "EMPIRE RESTAURANT"
       ]
      },
      {
       "output_type": "stream",
       "stream": "stdout",
       "text": [
        " ==> [('EMPIRE BBQ RESTAURANT', 0.75), ('EMPIRE KING RESTAURANT', 0.72), ('EMPIRE CHINESE RESTAURANT', 0.7037037037037037)]\n",
        "----\n",
        "EMPIRE STEAK HOUSE"
       ]
      },
      {
       "output_type": "stream",
       "stream": "stdout",
       "text": [
        " ==> [('EMPIRE STEAKHOUSE', 0.7727272727272727)]\n",
        "----\n",
        "EMPIRE STEAKHOUSE"
       ]
      },
      {
       "output_type": "stream",
       "stream": "stdout",
       "text": [
        " ==> [('EMPIRE STEAK HOUSE', 0.7727272727272727)]\n",
        "----\n",
        "EMPIRE WOK CHINESE RESTAURANT"
       ]
      },
      {
       "output_type": "stream",
       "stream": "stdout",
       "text": [
        " ==> [('EMPIRE CHINESE RESTAURANT', 0.8125), ('EMPIRE HOUSE CHINESE RESTAURANT', 0.7027027027027027)]\n",
        "----\n",
        "ESMERALDA'S RESTAURANT"
       ]
      },
      {
       "output_type": "stream",
       "stream": "stdout",
       "text": [
        " ==> [('ESMERALDAS RESTAURANT', 0.8076923076923077)]\n",
        "----\n",
        "ESMERALDAS RESTAURANT"
       ]
      },
      {
       "output_type": "stream",
       "stream": "stdout",
       "text": [
        " ==> [(\"ESMERALDA'S RESTAURANT\", 0.8076923076923077)]\n",
        "----\n",
        "ESQUIRE DINER"
       ]
      },
      {
       "output_type": "stream",
       "stream": "stdout",
       "text": [
        " ==> [('SQUIRE DINER', 0.7058823529411765)]\n",
        "----\n",
        "ESTRELLITA POBLANA"
       ]
      },
      {
       "output_type": "stream",
       "stream": "stdout",
       "text": [
        " ==> [('ESTRELLITA POBLANA II', 0.72), ('ESTRELLITA POBLANA IV', 0.72)]\n",
        "----\n",
        "ESTRELLITA POBLANA II"
       ]
      },
      {
       "output_type": "stream",
       "stream": "stdout",
       "text": [
        " ==> [('ESTRELLITA POBLANA III', 0.9583333333333334), ('ESTRELLITA POBLANA IV', 0.7692307692307693), ('ESTRELLITA POBLANA', 0.72)]\n",
        "----\n",
        "ESTRELLITA POBLANA III"
       ]
      },
      {
       "output_type": "stream",
       "stream": "stdout",
       "text": [
        " ==> [('ESTRELLITA POBLANA II', 0.9583333333333334), ('ESTRELLITA POBLANA IV', 0.7407407407407407)]\n",
        "----\n",
        "ESTRELLITA POBLANA IV"
       ]
      },
      {
       "output_type": "stream",
       "stream": "stdout",
       "text": [
        " ==> [('ESTRELLITA POBLANA II', 0.7692307692307693), ('ESTRELLITA POBLANA III', 0.7407407407407407), ('ESTRELLITA POBLANA', 0.72)]\n",
        "----\n",
        "EUROPAN BAKERY AND CAFE"
       ]
      },
      {
       "output_type": "stream",
       "stream": "stdout",
       "text": [
        " ==> [('EUROPAN BAKERY CAFE', 0.7692307692307693)]\n",
        "----\n",
        "EUROPAN BAKERY CAFE"
       ]
      },
      {
       "output_type": "stream",
       "stream": "stdout",
       "text": [
        " ==> [('EUROPAN BAKERY AND CAFE', 0.7692307692307693)]\n",
        "----\n",
        "EUROPAN CAFE"
       ]
      },
      {
       "output_type": "stream",
       "stream": "stdout",
       "text": [
        " ==> [('EUROPEAN CAFE', 0.7058823529411765)]\n",
        "----\n",
        "EUROPEAN CAFE"
       ]
      },
      {
       "output_type": "stream",
       "stream": "stdout",
       "text": [
        " ==> [('EUROPAN CAFE', 0.7058823529411765)]\n",
        "----\n",
        "EXQUISITE RESTAURANT"
       ]
      },
      {
       "output_type": "stream",
       "stream": "stdout",
       "text": [
        " ==> [('EXQUISITO RESTAURANT', 0.76)]\n",
        "----\n",
        "EXQUISITO RESTAURANT"
       ]
      },
      {
       "output_type": "stream",
       "stream": "stdout",
       "text": [
        " ==> [('EXQUISITE RESTAURANT', 0.76)]\n",
        "----\n",
        "FALAFEL OFF THE CORNER"
       ]
      },
      {
       "output_type": "stream",
       "stream": "stdout",
       "text": [
        " ==> [('FALAFEL OFF THE KORNER', 0.7777777777777778), ('FALAFEL OFF THE CORNER INC', 0.7333333333333333)]\n",
        "----\n",
        "FALAFEL OFF THE CORNER INC"
       ]
      },
      {
       "output_type": "stream",
       "stream": "stdout",
       "text": [
        " ==> [('FALAFEL OFF THE CORNER', 0.7333333333333333)]\n",
        "----\n",
        "FALAFEL OFF THE KORNER"
       ]
      },
      {
       "output_type": "stream",
       "stream": "stdout",
       "text": [
        " ==> [('FALAFEL OFF THE CORNER', 0.7777777777777778)]\n",
        "----\n",
        "FAMILY GARDEN CHINESE RESTAURANT"
       ]
      },
      {
       "output_type": "stream",
       "stream": "stdout",
       "text": [
        " ==> [('FAMILY GARDEN RESTAURANT', 0.7142857142857143)]\n",
        "----\n",
        "FAMILY GARDEN RESTAURANT"
       ]
      },
      {
       "output_type": "stream",
       "stream": "stdout",
       "text": [
        " ==> [('FAMILY GARDEN CHINESE RESTAURANT', 0.7142857142857143)]\n",
        "----\n",
        "FB9090 HOT DOG CONCESSION"
       ]
      },
      {
       "output_type": "stream",
       "stream": "stdout",
       "text": [
        " ==> [('FB9110 HOT DOG CONCESSION', 0.7419354838709677), ('FB9120 HOT DOG CONCESSION', 0.7419354838709677)]\n",
        "----\n",
        "FB9110 HOT DOG CONCESSION"
       ]
      },
      {
       "output_type": "stream",
       "stream": "stdout",
       "text": [
        " ==> [('FB9120 HOT DOG CONCESSION', 0.8), ('FB9090 HOT DOG CONCESSION', 0.7419354838709677), ('FD8110 HOT DOG CONCESSION', 0.7419354838709677)]\n",
        "----\n",
        "FB9120 HOT DOG CONCESSION"
       ]
      },
      {
       "output_type": "stream",
       "stream": "stdout",
       "text": [
        " ==> [('FB9110 HOT DOG CONCESSION', 0.8), ('FB9090 HOT DOG CONCESSION', 0.7419354838709677)]\n",
        "----\n",
        "FD8110 HOT DOG CONCESSION"
       ]
      },
      {
       "output_type": "stream",
       "stream": "stdout",
       "text": [
        " ==> [('FB9110 HOT DOG CONCESSION', 0.7419354838709677)]\n",
        "----\n",
        "FINANCIER PATISSERIE"
       ]
      },
      {
       "output_type": "stream",
       "stream": "stdout",
       "text": [
        " ==> [('THE FINANCIER PATISSERIE', 0.7142857142857143)]\n",
        "----\n",
        "FIVE GUYS BURGERS  AND  FRIES"
       ]
      },
      {
       "output_type": "stream",
       "stream": "stdout",
       "text": [
        " ==> [('FIVE GUYS BURGERS AND FRIES', 0.8181818181818182), ('FIVE GUYS BURGERS & FRIES', 0.7058823529411765)]\n",
        "----\n",
        "FIVE GUYS BURGERS & FRIES"
       ]
      },
      {
       "output_type": "stream",
       "stream": "stdout",
       "text": [
        " ==> [('FIVE GUYS BURGERS AND FRIES', 0.75), ('FIVE GUYS BURGERS  AND  FRIES', 0.7058823529411765)]\n",
        "----\n",
        "FIVE GUYS BURGERS AND FRIES"
       ]
      },
      {
       "output_type": "stream",
       "stream": "stdout",
       "text": [
        " ==> [('FIVE GUYS BURGERS  AND  FRIES', 0.8181818181818182), ('FIVE GUYS BURGERS & FRIES', 0.75)]\n",
        "----\n",
        "FLORIDITA RESTAURANT UPTOWN"
       ]
      },
      {
       "output_type": "stream",
       "stream": "stdout",
       "text": [
        " ==> [('FLORIDITA RESTAURANT UPTOWN 2 INC', 0.7297297297297297)]\n",
        "----\n",
        "FLORIDITA RESTAURANT UPTOWN 2 INC"
       ]
      },
      {
       "output_type": "stream",
       "stream": "stdout",
       "text": [
        " ==> [('FLORIDITA RESTAURANT UPTOWN', 0.7297297297297297)]\n",
        "----\n",
        "FOO HING KITCHEN"
       ]
      },
      {
       "output_type": "stream",
       "stream": "stdout",
       "text": [
        " ==> [('FOO-HING KITCHEN', 0.7142857142857143)]\n",
        "----\n",
        "FOO-HING KITCHEN"
       ]
      },
      {
       "output_type": "stream",
       "stream": "stdout",
       "text": [
        " ==> [('FOO HING KITCHEN', 0.7142857142857143)]\n",
        "----\n",
        "FOOD KING CHINESE RESTAURANT"
       ]
      },
      {
       "output_type": "stream",
       "stream": "stdout",
       "text": [
        " ==> [('NEW FOOD KING CHINESE RESTAURANT', 0.7777777777777778)]\n",
        "----\n",
        "FORTUNE COOKIE"
       ]
      },
      {
       "output_type": "stream",
       "stream": "stdout",
       "text": [
        " ==> [('FORTUNE COOKIES', 0.7368421052631579)]\n",
        "----\n",
        "FORTUNE COOKIES"
       ]
      },
      {
       "output_type": "stream",
       "stream": "stdout",
       "text": [
        " ==> [('FORTUNE COOKIE', 0.7368421052631579)]\n",
        "----\n",
        "FP PASTISSERIE"
       ]
      },
      {
       "output_type": "stream",
       "stream": "stdout",
       "text": [
        " ==> [('FP PATISSERIE', 0.7222222222222222)]\n",
        "----\n",
        "FP PATISSERIE"
       ]
      },
      {
       "output_type": "stream",
       "stream": "stdout",
       "text": [
        " ==> [('FP PASTISSERIE', 0.7222222222222222)]\n",
        "----\n",
        "FRANK'S  PIZZA"
       ]
      },
      {
       "output_type": "stream",
       "stream": "stdout",
       "text": [
        " ==> [(\"FRANK'S PIZZA\", 0.8235294117647058)]\n",
        "----\n",
        "FRANK'S PIZZA"
       ]
      },
      {
       "output_type": "stream",
       "stream": "stdout",
       "text": [
        " ==> [(\"FRANK'S  PIZZA\", 0.8235294117647058), ('FRANKS PIZZA', 0.7058823529411765)]\n",
        "----\n",
        "FRANKIE & JOHNNIE'S STEAKHOUSE"
       ]
      },
      {
       "output_type": "stream",
       "stream": "stdout",
       "text": [
        " ==> [('FRANKIE & JOHNNIES STEAKHOUSE', 0.8529411764705882)]\n",
        "----\n",
        "FRANKIE & JOHNNIES STEAKHOUSE"
       ]
      },
      {
       "output_type": "stream",
       "stream": "stdout",
       "text": [
        " ==> [(\"FRANKIE & JOHNNIE'S STEAKHOUSE\", 0.8529411764705882)]\n",
        "----\n",
        "FRANKS PIZZA"
       ]
      },
      {
       "output_type": "stream",
       "stream": "stdout",
       "text": [
        " ==> [(\"FRANK'S PIZZA\", 0.7058823529411765)]\n",
        "----\n",
        "FRESCO TORTILLAS GRILL"
       ]
      },
      {
       "output_type": "stream",
       "stream": "stdout",
       "text": [
        " ==> [('FRESH TORTILLAS GRILL', 0.7307692307692307)]\n",
        "----\n",
        "FRESH TORTILLA GRILL"
       ]
      },
      {
       "output_type": "stream",
       "stream": "stdout",
       "text": [
        " ==> [('FRESH TORTILLAS GRILL', 0.7916666666666666)]\n",
        "----\n",
        "FRESH TORTILLAS & TACO"
       ]
      },
      {
       "output_type": "stream",
       "stream": "stdout",
       "text": [
        " ==> [('FRESH TORTILLAS TACO', 0.84), ('FRESH TORTILLAS & TACOS', 0.8148148148148148)]\n",
        "----\n",
        "FRESH TORTILLAS & TACOS"
       ]
      },
      {
       "output_type": "stream",
       "stream": "stdout",
       "text": [
        " ==> [('FRESH TORTILLAS & TACO', 0.8148148148148148)]\n",
        "----\n",
        "FRESH TORTILLAS GRILL"
       ]
      },
      {
       "output_type": "stream",
       "stream": "stdout",
       "text": [
        " ==> [('FRESH TORTILLA GRILL', 0.7916666666666666), ('FRESCO TORTILLAS GRILL', 0.7307692307692307)]\n",
        "----\n",
        "FRESH TORTILLAS TACO"
       ]
      },
      {
       "output_type": "stream",
       "stream": "stdout",
       "text": [
        " ==> [('FRESH TORTILLAS & TACO', 0.84)]\n",
        "----\n",
        "FRIED CHICKEN & PIZZA"
       ]
      },
      {
       "output_type": "stream",
       "stream": "stdout",
       "text": [
        " ==> [('US FRIED CHICKEN & PIZZA', 0.75)]\n",
        "----\n",
        "FRIEND RESTAURANT"
       ]
      },
      {
       "output_type": "stream",
       "stream": "stdout",
       "text": [
        " ==> [('FRIENDLY RESTAURANT', 0.7391304347826086)]\n",
        "----\n",
        "FRIENDLY RESTAURANT"
       ]
      },
      {
       "output_type": "stream",
       "stream": "stdout",
       "text": [
        " ==> [('FRIEND RESTAURANT', 0.7391304347826086)]\n",
        "----\n",
        "FU EN RESTAURANT"
       ]
      },
      {
       "output_type": "stream",
       "stream": "stdout",
       "text": [
        " ==> [('FU SHEN RESTAURANT', 0.7272727272727273), ('FU RAN RESTAURANT', 0.7142857142857143)]\n",
        "----\n",
        "FU RAN RESTAURANT"
       ]
      },
      {
       "output_type": "stream",
       "stream": "stdout",
       "text": [
        " ==> [('FU EN RESTAURANT', 0.7142857142857143)]\n",
        "----\n",
        "FU SHEN RESTAURANT"
       ]
      },
      {
       "output_type": "stream",
       "stream": "stdout",
       "text": [
        " ==> [('FU EN RESTAURANT', 0.7272727272727273)]\n",
        "----\n",
        "FUGU JAPANESE CUISINE"
       ]
      },
      {
       "output_type": "stream",
       "stream": "stdout",
       "text": [
        " ==> [('FUJI JAPANESE CUISINE', 0.7037037037037037)]\n",
        "----\n",
        "FUJI JAPANESE CUISINE"
       ]
      },
      {
       "output_type": "stream",
       "stream": "stdout",
       "text": [
        " ==> [('FUGU JAPANESE CUISINE', 0.7037037037037037)]\n",
        "----\n",
        "GARDEN CITY CHINESE RESTAURANT"
       ]
      },
      {
       "output_type": "stream",
       "stream": "stdout",
       "text": [
        " ==> [('GOLDEN CITY CHINESE RESTAURANT', 0.7777777777777778)]\n",
        "----\n",
        "GEORGE'S RESTAURANT"
       ]
      },
      {
       "output_type": "stream",
       "stream": "stdout",
       "text": [
        " ==> [('GEORGES RESTAURANT', 0.782608695652174), (\"JORGE'S RESTAURANT\", 0.7083333333333334)]\n",
        "----\n",
        "GEORGES RESTAURANT"
       ]
      },
      {
       "output_type": "stream",
       "stream": "stdout",
       "text": [
        " ==> [(\"GEORGE'S RESTAURANT\", 0.782608695652174)]\n",
        "----\n",
        "GINGERSNAP'S ORGANIC"
       ]
      },
      {
       "output_type": "stream",
       "stream": "stdout",
       "text": [
        " ==> [('GINGERSNAPS ORGANIC', 0.7916666666666666)]\n",
        "----\n",
        "GINGERSNAPS ORGANIC"
       ]
      },
      {
       "output_type": "stream",
       "stream": "stdout",
       "text": [
        " ==> [(\"GINGERSNAP'S ORGANIC\", 0.7916666666666666)]\n",
        "----\n",
        "GINO'S PIZZERIA"
       ]
      },
      {
       "output_type": "stream",
       "stream": "stdout",
       "text": [
        " ==> [('GINOS PIZZERIA', 0.7368421052631579)]\n",
        "----\n",
        "GINOS PIZZERIA"
       ]
      },
      {
       "output_type": "stream",
       "stream": "stdout",
       "text": [
        " ==> [(\"GINO'S PIZZERIA\", 0.7368421052631579)]\n",
        "----\n",
        "GIOVANIS BIG PIZZA"
       ]
      },
      {
       "output_type": "stream",
       "stream": "stdout",
       "text": [
        " ==> [('GIOVANIS BIG PIZZA II', 0.72)]\n",
        "----\n",
        "GIOVANIS BIG PIZZA II"
       ]
      },
      {
       "output_type": "stream",
       "stream": "stdout",
       "text": [
        " ==> [('GIOVANIS BIG PIZZA', 0.72)]\n",
        "----\n",
        "GOLDEN BAY BAKERY"
       ]
      },
      {
       "output_type": "stream",
       "stream": "stdout",
       "text": [
        " ==> [('GOLDEN BUN BAKERY', 0.7142857142857143)]\n",
        "----\n",
        "GOLDEN BUN BAKERY"
       ]
      },
      {
       "output_type": "stream",
       "stream": "stdout",
       "text": [
        " ==> [('GOLDEN BAY BAKERY', 0.7142857142857143)]\n",
        "----\n",
        "GOLDEN CHOPSTICKS CHINESE RESTAURANT"
       ]
      },
      {
       "output_type": "stream",
       "stream": "stdout",
       "text": [
        " ==> [('NEW GOLDEN CHOPSTICK CHINESE RESTAURANT', 0.7111111111111111)]\n",
        "----\n",
        "GOLDEN CITY CHINESE RESTAURANT"
       ]
      },
      {
       "output_type": "stream",
       "stream": "stdout",
       "text": [
        " ==> [('GARDEN CITY CHINESE RESTAURANT', 0.7777777777777778), ('GOLDEN WAY CHINESE RESTAURANT', 0.75), ('GOLDEN WOK CHINESE RESTAURANT', 0.7027027027027027)]\n",
        "----\n",
        "GOLDEN CITY RESTAURANT"
       ]
      },
      {
       "output_type": "stream",
       "stream": "stdout",
       "text": [
        " ==> [(\"LI'S GOLDEN CITY RESTAURANT\", 0.7096774193548387)]\n",
        "----\n",
        "GOLDEN HORSE RESTAURANT"
       ]
      },
      {
       "output_type": "stream",
       "stream": "stdout",
       "text": [
        " ==> [('GOLDEN HOUSE RESTAURANT', 0.7857142857142857)]\n",
        "----\n",
        "GOLDEN HOUSE CHINESE RESTAURANT"
       ]
      },
      {
       "output_type": "stream",
       "stream": "stdout",
       "text": [
        " ==> [('GOLDEN HOUSE RESTAURANT', 0.78125), ('GOLDEN WAY CHINESE RESTAURANT', 0.7027027027027027), ('GOLDEN WOK CHINESE RESTAURANT', 0.7027027027027027)]\n",
        "----\n",
        "GOLDEN HOUSE RESTAURANT"
       ]
      },
      {
       "output_type": "stream",
       "stream": "stdout",
       "text": [
        " ==> [('GOLDEN HORSE RESTAURANT', 0.7857142857142857), ('GOLDEN HOUSE CHINESE RESTAURANT', 0.78125)]\n",
        "----\n",
        "GOLDEN KRUST CARIBBEAN BAKERY"
       ]
      },
      {
       "output_type": "stream",
       "stream": "stdout",
       "text": [
        " ==> [('GOLDEN KRUST CARIBBEAN BAKERY & GRILL', 0.7073170731707317)]\n",
        "----\n",
        "GOLDEN KRUST CARIBBEAN BAKERY & GRILL"
       ]
      },
      {
       "output_type": "stream",
       "stream": "stdout",
       "text": [
        " ==> [('GOLDEN KRUST CARRIBEAN BAKERY & GRILL', 0.8571428571428571), ('GOLDENKRUST CARRIBBEAN BAKERY & GRILL', 0.813953488372093), ('GOLDEN KRUST CARIBBEAN BAKERY', 0.7073170731707317)]\n",
        "----\n",
        "GOLDEN KRUST CARRIBEAN BAKERY & GRILL"
       ]
      },
      {
       "output_type": "stream",
       "stream": "stdout",
       "text": [
        " ==> [('GOLDEN KRUST CARIBBEAN BAKERY & GRILL', 0.8571428571428571), ('GOLDENKRUST CARRIBBEAN BAKERY & GRILL', 0.813953488372093)]\n",
        "----\n",
        "GOLDEN PALACE"
       ]
      },
      {
       "output_type": "stream",
       "stream": "stdout",
       "text": [
        " ==> [('GOLDEN PLACE', 0.7058823529411765)]\n",
        "----\n",
        "GOLDEN PALACE CHINESE RESTAURANT"
       ]
      },
      {
       "output_type": "stream",
       "stream": "stdout",
       "text": [
        " ==> [('GOLDEN PANDA CHINESE RESTAURANT', 0.717948717948718)]\n",
        "----\n",
        "GOLDEN PANDA CHINESE RESTAURANT"
       ]
      },
      {
       "output_type": "stream",
       "stream": "stdout",
       "text": [
        " ==> [('GOLDEN PALACE CHINESE RESTAURANT', 0.717948717948718)]\n",
        "----\n",
        "GOLDEN PLACE"
       ]
      },
      {
       "output_type": "stream",
       "stream": "stdout",
       "text": [
        " ==> [('GOLDEN PALACE', 0.7058823529411765)]\n",
        "----\n",
        "GOLDEN WAY CHINESE RESTAURANT"
       ]
      },
      {
       "output_type": "stream",
       "stream": "stdout",
       "text": [
        " ==> [('GOLDEN WOK CHINESE RESTAURANT', 0.7714285714285715), ('GOLDEN CITY CHINESE RESTAURANT', 0.75), ('GOLDEN HOUSE CHINESE RESTAURANT', 0.7027027027027027)]\n",
        "----\n",
        "GOLDEN WOK CHINESE RESTAURANT"
       ]
      },
      {
       "output_type": "stream",
       "stream": "stdout",
       "text": [
        " ==> [('GOLDEN WAY CHINESE RESTAURANT', 0.7714285714285715), ('GOOD WOK CHINESE RESTAURANT', 0.7142857142857143), ('GOLDEN CITY CHINESE RESTAURANT', 0.7027027027027027), ('GOLDEN HOUSE CHINESE RESTAURANT', 0.7027027027027027)]\n",
        "----\n",
        "GOLDENKRUST CARRIBBEAN BAKERY & GRILL"
       ]
      },
      {
       "output_type": "stream",
       "stream": "stdout",
       "text": [
        " ==> [('GOLDEN KRUST CARIBBEAN BAKERY & GRILL', 0.813953488372093), ('GOLDEN KRUST CARRIBEAN BAKERY & GRILL', 0.813953488372093)]\n",
        "----\n",
        "GOOD CHINESE RESTAURANT"
       ]
      },
      {
       "output_type": "stream",
       "stream": "stdout",
       "text": [
        " ==> [('GOOD WOK CHINESE RESTAURANT', 0.8), ('GOOD FRIEND CHINESE RESTAURANT', 0.78125), ('GOOD LUCK CHINESE RESTAURANT', 0.7741935483870968), ('GOOD TASTE CHINESE RESTAURANT', 0.75), ('GOOD FRIENDS CHINESE RESTAURANT', 0.7058823529411765)]\n",
        "----\n",
        "GOOD DAY RESTAURANT"
       ]
      },
      {
       "output_type": "stream",
       "stream": "stdout",
       "text": [
        " ==> [('GOOD RESTAURANT', 0.7272727272727273)]\n",
        "----\n",
        "GOOD FRIEND CHINESE RESTAURANT"
       ]
      },
      {
       "output_type": "stream",
       "stream": "stdout",
       "text": [
        " ==> [('GOOD FRIENDS CHINESE RESTAURANT', 0.8571428571428571), ('GOOD CHINESE RESTAURANT', 0.78125)]\n",
        "----\n",
        "GOOD FRIEND RESTAURANT"
       ]
      },
      {
       "output_type": "stream",
       "stream": "stdout",
       "text": [
        " ==> [('GOOD FRIENDS RESTAURANT', 0.8148148148148148), ('GOOD RESTAURANT', 0.7083333333333334)]\n",
        "----\n",
        "GOOD FRIENDS CHINESE RESTAURANT"
       ]
      },
      {
       "output_type": "stream",
       "stream": "stdout",
       "text": [
        " ==> [('GOOD FRIEND CHINESE RESTAURANT', 0.8571428571428571), ('GOOD CHINESE RESTAURANT', 0.7058823529411765), ('GOOD FRIENDS RESTAURANT', 0.7058823529411765)]\n",
        "----\n",
        "GOOD FRIENDS RESTAURANT"
       ]
      },
      {
       "output_type": "stream",
       "stream": "stdout",
       "text": [
        " ==> [('GOOD FRIEND RESTAURANT', 0.8148148148148148), ('GOOD FRIENDS CHINESE RESTAURANT', 0.7058823529411765)]\n",
        "----\n",
        "GOOD GOOD TASTE"
       ]
      },
      {
       "output_type": "stream",
       "stream": "stdout",
       "text": [
        " ==> [('GOOD TASTE', 0.8571428571428571)]\n",
        "----\n",
        "GOOD LUCK CHINESE RESTAURANT"
       ]
      },
      {
       "output_type": "stream",
       "stream": "stdout",
       "text": [
        " ==> [('GOOD CHINESE RESTAURANT', 0.7741935483870968), ('GOOD WOK CHINESE RESTAURANT', 0.7352941176470589)]\n",
        "----\n",
        "GOOD RESTAURANT"
       ]
      },
      {
       "output_type": "stream",
       "stream": "stdout",
       "text": [
        " ==> [('GOODY RESTAURANT', 0.75), ('GOOD DAY RESTAURANT', 0.7272727272727273), ('GOOD WOK RESTAURANT', 0.7272727272727273), ('GOOD FRIEND RESTAURANT', 0.7083333333333334)]\n",
        "----\n",
        "GOOD TASTE"
       ]
      },
      {
       "output_type": "stream",
       "stream": "stdout",
       "text": [
        " ==> [('GOOD GOOD TASTE', 0.8571428571428571)]\n",
        "----\n",
        "GOOD TASTE CHINESE RESTAURANT"
       ]
      },
      {
       "output_type": "stream",
       "stream": "stdout",
       "text": [
        " ==> [('NEW GOOD TASTE CHINESE RESTAURANT', 0.7837837837837838), ('YMC GOOD TASTE CHINESE RESTAURANT', 0.7837837837837838), ('GOOD CHINESE RESTAURANT', 0.75), ('GOOD TASTE RESTAURANT', 0.7419354838709677)]\n",
        "----\n",
        "GOOD TASTE RESTAURANT"
       ]
      },
      {
       "output_type": "stream",
       "stream": "stdout",
       "text": [
        " ==> [('GOOD TASTE CHINESE RESTAURANT', 0.7419354838709677)]\n",
        "----\n",
        "GOOD WOK CHINESE RESTAURANT"
       ]
      },
      {
       "output_type": "stream",
       "stream": "stdout",
       "text": [
        " ==> [('GOOD CHINESE RESTAURANT', 0.8), ('GOOD LUCK CHINESE RESTAURANT', 0.7352941176470589), ('GOLDEN WOK CHINESE RESTAURANT', 0.7142857142857143), ('WOK CHINESE RESTAURANT', 0.7096774193548387)]\n",
        "----\n",
        "GOOD WOK RESTAURANT"
       ]
      },
      {
       "output_type": "stream",
       "stream": "stdout",
       "text": [
        " ==> [('GOOD RESTAURANT', 0.7272727272727273)]\n",
        "----\n",
        "GOODFELLA'S BRICK OVEN PIZZA"
       ]
      },
      {
       "output_type": "stream",
       "stream": "stdout",
       "text": [
        " ==> [(\"GOODFELLA'S GRAMERCY BRICK OVEN PIZZA\", 0.725)]\n",
        "----\n",
        "GOODFELLA'S GRAMERCY BRICK OVEN PIZZA"
       ]
      },
      {
       "output_type": "stream",
       "stream": "stdout",
       "text": [
        " ==> [(\"GOODFELLA'S BRICK OVEN PIZZA\", 0.725)]\n",
        "----\n",
        "GOODY RESTAURANT"
       ]
      },
      {
       "output_type": "stream",
       "stream": "stdout",
       "text": [
        " ==> [('GOOD RESTAURANT', 0.75)]\n",
        "----\n",
        "GREAT DRAGON CHINESE RESTAURANT"
       ]
      },
      {
       "output_type": "stream",
       "stream": "stdout",
       "text": [
        " ==> [('DRAGON CHINESE RESTAURANT', 0.7142857142857143), ('GREAT DRAGON RESTAURANT', 0.7058823529411765)]\n",
        "----\n",
        "GREAT DRAGON RESTAURANT"
       ]
      },
      {
       "output_type": "stream",
       "stream": "stdout",
       "text": [
        " ==> [('GREAT DRAGON CHINESE RESTAURANT', 0.7058823529411765)]\n",
        "----\n",
        "GREAT WALL CHINESE RESTAURANT"
       ]
      },
      {
       "output_type": "stream",
       "stream": "stdout",
       "text": [
        " ==> [('NEW GREAT WALL CHINESE RESTAURANT', 0.7837837837837838)]\n",
        "----\n",
        "GREAT WALL KITCHEN"
       ]
      },
      {
       "output_type": "stream",
       "stream": "stdout",
       "text": [
        " ==> [('GREAT WALL NO 1 KITCHEN', 0.7307692307692307)]\n",
        "----\n",
        "GREAT WALL NO 1 KITCHEN"
       ]
      },
      {
       "output_type": "stream",
       "stream": "stdout",
       "text": [
        " ==> [('GREAT WALL KITCHEN', 0.7307692307692307)]\n",
        "----\n",
        "GREAT WALL RESTAURANT"
       ]
      },
      {
       "output_type": "stream",
       "stream": "stdout",
       "text": [
        " ==> [('NEW GREAT WALL RESTAURANT', 0.7241379310344828)]\n",
        "----\n",
        "GREEN JADE CHINA RESTAURANT"
       ]
      },
      {
       "output_type": "stream",
       "stream": "stdout",
       "text": [
        " ==> [('GREEN JADE RESTAURANT', 0.7333333333333333)]\n",
        "----\n",
        "GREEN JADE RESTAURANT"
       ]
      },
      {
       "output_type": "stream",
       "stream": "stdout",
       "text": [
        " ==> [('GREEN JADE CHINA RESTAURANT', 0.7333333333333333)]\n",
        "----\n",
        "GREGORY COFFEE"
       ]
      },
      {
       "output_type": "stream",
       "stream": "stdout",
       "text": [
        " ==> [('GREGORYS COFFEE', 0.7368421052631579)]\n",
        "----\n",
        "GREGORY'S COFFEE"
       ]
      },
      {
       "output_type": "stream",
       "stream": "stdout",
       "text": [
        " ==> [('GREGORYS COFFEE', 0.75)]\n",
        "----\n",
        "GREGORYS COFFEE"
       ]
      },
      {
       "output_type": "stream",
       "stream": "stdout",
       "text": [
        " ==> [(\"GREGORY'S COFFEE\", 0.75), ('GREGORY COFFEE', 0.7368421052631579)]\n",
        "----\n",
        "HALAL CROWN FRIED CHICKEN AND PIZZA"
       ]
      },
      {
       "output_type": "stream",
       "stream": "stdout",
       "text": [
        " ==> [('CROWN FRIED CHICKEN AND PIZZA', 0.7435897435897436)]\n",
        "----\n",
        "HALAL FRIED CHICKEN & PIZZA"
       ]
      },
      {
       "output_type": "stream",
       "stream": "stdout",
       "text": [
        " ==> [('ROYAL FRIED CHICKEN & PIZZA', 0.7058823529411765)]\n",
        "----\n",
        "HALE & HEARTY SOUP"
       ]
      },
      {
       "output_type": "stream",
       "stream": "stdout",
       "text": [
        " ==> [('HALE & HEARTY SOUPS', 0.782608695652174)]\n",
        "----\n",
        "HALE & HEARTY SOUPS"
       ]
      },
      {
       "output_type": "stream",
       "stream": "stdout",
       "text": [
        " ==> [('HALE & HEARTY SOUP', 0.782608695652174)]\n",
        "----\n",
        "HANA CAFE"
       ]
      },
      {
       "output_type": "stream",
       "stream": "stdout",
       "text": [
        " ==> [('HAVANA CAFE', 0.7142857142857143)]\n",
        "----\n",
        "HAO HAO WEI"
       ]
      },
      {
       "output_type": "stream",
       "stream": "stdout",
       "text": [
        " ==> [('HAO WEI', 0.8181818181818182)]\n",
        "----\n",
        "HAO WEI"
       ]
      },
      {
       "output_type": "stream",
       "stream": "stdout",
       "text": [
        " ==> [('HAO HAO WEI', 0.8181818181818182)]\n",
        "----\n",
        "HAPPINESS RESTAURANT"
       ]
      },
      {
       "output_type": "stream",
       "stream": "stdout",
       "text": [
        " ==> [('NEW HAPPINESS RESTAURANT', 0.7142857142857143)]\n",
        "----\n",
        "HAPPY GARDEN"
       ]
      },
      {
       "output_type": "stream",
       "stream": "stdout",
       "text": [
        " ==> [('HAPPY SU GARDEN', 0.7222222222222222)]\n",
        "----\n",
        "HAPPY GARDEN CHINESE RESTAURANT"
       ]
      },
      {
       "output_type": "stream",
       "stream": "stdout",
       "text": [
        " ==> [('HOME GARDEN CHINESE RESTAURANT', 0.7105263157894737), ('HAPPY GARDEN RESTAURANT', 0.7058823529411765)]\n",
        "----\n",
        "HAPPY GARDEN RESTAURANT"
       ]
      },
      {
       "output_type": "stream",
       "stream": "stdout",
       "text": [
        " ==> [('HAPPY GARDEN CHINESE RESTAURANT', 0.7058823529411765)]\n",
        "----\n",
        "HAPPY HOUSE SEAFOOD RESTAURANT"
       ]
      },
      {
       "output_type": "stream",
       "stream": "stdout",
       "text": [
        " ==> [('HAPPY SEAFOOD RESTAURANT', 0.7575757575757576)]\n",
        "----\n",
        "HAPPY LUCKY RESTAURANT"
       ]
      },
      {
       "output_type": "stream",
       "stream": "stdout",
       "text": [
        " ==> [('HAPPY RESTAURANT', 0.75)]\n",
        "----\n",
        "HAPPY RESTAURANT"
       ]
      },
      {
       "output_type": "stream",
       "stream": "stdout",
       "text": [
        " ==> [('HAPPY LUCKY RESTAURANT', 0.75), ('HAPPY WOK RESTAURANT', 0.7391304347826086)]\n",
        "----\n",
        "HAPPY SEAFOOD RESTAURANT"
       ]
      },
      {
       "output_type": "stream",
       "stream": "stdout",
       "text": [
        " ==> [('HAPPY HOUSE SEAFOOD RESTAURANT', 0.7575757575757576)]\n",
        "----\n",
        "HAPPY SU GARDEN"
       ]
      },
      {
       "output_type": "stream",
       "stream": "stdout",
       "text": [
        " ==> [('HAPPY GARDEN', 0.7222222222222222)]\n",
        "----\n",
        "HAPPY WOK  CHINESE RESTAURANT"
       ]
      },
      {
       "output_type": "stream",
       "stream": "stdout",
       "text": [
        " ==> [('HAPPY WORLD CHINESE RESTAURANT', 0.75)]\n",
        "----\n",
        "HAPPY WOK RESTAURANT"
       ]
      },
      {
       "output_type": "stream",
       "stream": "stdout",
       "text": [
        " ==> [('HAPPY RESTAURANT', 0.7391304347826086), ('HAPPY WORLD RESTAURANT', 0.7037037037037037)]\n",
        "----\n",
        "HAPPY WORLD CHINESE RESTAURANT"
       ]
      },
      {
       "output_type": "stream",
       "stream": "stdout",
       "text": [
        " ==> [('HAPPY WOK  CHINESE RESTAURANT', 0.75)]\n",
        "----\n",
        "HAPPY WORLD RESTAURANT"
       ]
      },
      {
       "output_type": "stream",
       "stream": "stdout",
       "text": [
        " ==> [('HAPPY WOK RESTAURANT', 0.7037037037037037)]\n",
        "----\n",
        "HAVANA CAFE"
       ]
      },
      {
       "output_type": "stream",
       "stream": "stdout",
       "text": [
        " ==> [('HANA CAFE', 0.7142857142857143)]\n",
        "----\n",
        "HAVANA CAFE (SECTION 10)"
       ]
      },
      {
       "output_type": "stream",
       "stream": "stdout",
       "text": [
        " ==> [('HAVANA CAFE (SECTION 5)', 0.7586206896551724)]\n",
        "----\n",
        "HAVANA CAFE (SECTION 5)"
       ]
      },
      {
       "output_type": "stream",
       "stream": "stdout",
       "text": [
        " ==> [('HAVANA CAFE (SECTION 10)', 0.7586206896551724)]\n",
        "----\n",
        "HAWA SMOOTHIE"
       ]
      },
      {
       "output_type": "stream",
       "stream": "stdout",
       "text": [
        " ==> [('HAWA SMOOTHIES', 0.7222222222222222)]\n",
        "----\n",
        "HAWA SMOOTHIES"
       ]
      },
      {
       "output_type": "stream",
       "stream": "stdout",
       "text": [
        " ==> [('HAWA SMOOTHIE', 0.7222222222222222)]\n",
        "----\n",
        "HELL'S KITCHEN"
       ]
      },
      {
       "output_type": "stream",
       "stream": "stdout",
       "text": [
        " ==> [(\"MITCHELL'S KITCHEN\", 0.7368421052631579)]\n",
        "----\n",
        "HENNY'S RESTAURANT"
       ]
      },
      {
       "output_type": "stream",
       "stream": "stdout",
       "text": [
        " ==> [(\"KENNY'S RESTAURANT\", 0.7391304347826086)]\n",
        "----\n",
        "HERSHEY'S ICE CREAM"
       ]
      },
      {
       "output_type": "stream",
       "stream": "stdout",
       "text": [
        " ==> [('HERSHEYS ICE CREAM', 0.782608695652174)]\n",
        "----\n",
        "HERSHEYS ICE CREAM"
       ]
      },
      {
       "output_type": "stream",
       "stream": "stdout",
       "text": [
        " ==> [(\"HERSHEY'S ICE CREAM\", 0.782608695652174)]\n",
        "----\n",
        "HIGHLANDS CAFE RESTAURANT"
       ]
      },
      {
       "output_type": "stream",
       "stream": "stdout",
       "text": [
        " ==> [('HIGHLANDS RESTAURANT', 0.75)]\n",
        "----\n",
        "HIGHLANDS RESTAURANT"
       ]
      },
      {
       "output_type": "stream",
       "stream": "stdout",
       "text": [
        " ==> [('HIGHLANDS CAFE RESTAURANT', 0.75)]\n",
        "----\n",
        "HING WONG RESTAURANT"
       ]
      },
      {
       "output_type": "stream",
       "stream": "stdout",
       "text": [
        " ==> [('SHING WONG RESTAURANT', 0.7916666666666666), ('MING WONG RESTAURANT', 0.75), ('BIG HING WONG RESTAURANT', 0.7037037037037037)]\n",
        "----\n",
        "HO LEE CHINESE RESTAURANT"
       ]
      },
      {
       "output_type": "stream",
       "stream": "stdout",
       "text": [
        " ==> [('LEE CHINESE RESTAURANT', 0.7586206896551724)]\n",
        "----\n",
        "HO MEI CHINESE RESTAURANT"
       ]
      },
      {
       "output_type": "stream",
       "stream": "stdout",
       "text": [
        " ==> [('MEI MEI CHINESE RESTAURANT', 0.7666666666666667)]\n",
        "----\n",
        "HO WAH RESTAURANT"
       ]
      },
      {
       "output_type": "stream",
       "stream": "stdout",
       "text": [
        " ==> [('HO WAN RESTAURANT', 0.7272727272727273)]\n",
        "----\n",
        "HO WAN RESTAURANT"
       ]
      },
      {
       "output_type": "stream",
       "stream": "stdout",
       "text": [
        " ==> [('HO WAH RESTAURANT', 0.7272727272727273)]\n",
        "----\n",
        "HOLIDAY INN EXPRESS HERALD SQUARE"
       ]
      },
      {
       "output_type": "stream",
       "stream": "stdout",
       "text": [
        " ==> [('HOLIDAY INN EXPRESS, HERALD SQUARE', 0.868421052631579)]\n",
        "----\n",
        "HOLIDAY INN EXPRESS, HERALD SQUARE"
       ]
      },
      {
       "output_type": "stream",
       "stream": "stdout",
       "text": [
        " ==> [('HOLIDAY INN EXPRESS HERALD SQUARE', 0.868421052631579)]\n",
        "----\n",
        "HOME GARDEN CHINESE RESTAURANT"
       ]
      },
      {
       "output_type": "stream",
       "stream": "stdout",
       "text": [
        " ==> [('LEE GARDEN CHINESE RESTAURANT', 0.75), ('HAPPY GARDEN CHINESE RESTAURANT', 0.7105263157894737), ('BEST GARDEN CHINESE RESTAURANT', 0.7027027027027027), ('CHINA GARDEN CHINESE RESTAURANT', 0.7027027027027027), ('KEW GARDEN CHINESE RESTAURANT', 0.7027027027027027), ('NEW GARDEN CHINESE RESTAURANT', 0.7027027027027027)]\n",
        "----\n",
        "HONG KONG CAFE CHINESE RESTAURANT"
       ]
      },
      {
       "output_type": "stream",
       "stream": "stdout",
       "text": [
        " ==> [('HONG KONG CHINESE RESTAURANT', 0.8484848484848485)]\n",
        "----\n",
        "HONG KONG CHINESE FOOD TO TAKE OUT"
       ]
      },
      {
       "output_type": "stream",
       "stream": "stdout",
       "text": [
        " ==> [('HONG LI CHINESE FOOD TAKE OUT', 0.7105263157894737)]\n",
        "----\n",
        "HONG KONG CHINESE RESTAURANT"
       ]
      },
      {
       "output_type": "stream",
       "stream": "stdout",
       "text": [
        " ==> [('HONG KONG CAFE CHINESE RESTAURANT', 0.8484848484848485), ('HONG KONG JACKIE CHINESE RESTAURANT', 0.75), ('CHEN KONG CHINESE RESTAURANT', 0.7058823529411765)]\n",
        "----\n",
        "HONG KONG JACKIE CHINESE RESTAURANT"
       ]
      },
      {
       "output_type": "stream",
       "stream": "stdout",
       "text": [
        " ==> [('HONG KONG CHINESE RESTAURANT', 0.75)]\n",
        "----\n",
        "HONG LI CHINESE FOOD TAKE OUT"
       ]
      },
      {
       "output_type": "stream",
       "stream": "stdout",
       "text": [
        " ==> [('HONG KONG CHINESE FOOD TO TAKE OUT', 0.7105263157894737)]\n",
        "----\n",
        "HOP WONG RESTAURANT"
       ]
      },
      {
       "output_type": "stream",
       "stream": "stdout",
       "text": [
        " ==> [('HOY WONG RESTAURANT', 0.75), ('HOWONG RESTAURANT', 0.7391304347826086)]\n",
        "----\n",
        "HOT BAGELS & CAFE"
       ]
      },
      {
       "output_type": "stream",
       "stream": "stdout",
       "text": [
        " ==> [('OH HOT BAGELS & CAFE', 0.7083333333333334)]\n",
        "----\n",
        "HOT KENNEDY FRIED CHICKEN & PIZZA"
       ]
      },
      {
       "output_type": "stream",
       "stream": "stdout",
       "text": [
        " ==> [('KENNEDY FRIED CHICKEN & PIZZA', 0.7777777777777778)]\n",
        "----\n",
        "HOWONG RESTAURANT"
       ]
      },
      {
       "output_type": "stream",
       "stream": "stdout",
       "text": [
        " ==> [('HOP WONG RESTAURANT', 0.7391304347826086), ('HOY WONG RESTAURANT', 0.7391304347826086), ('WONG RESTAURANT', 0.7142857142857143)]\n",
        "----\n",
        "HOY WONG RESTAURANT"
       ]
      },
      {
       "output_type": "stream",
       "stream": "stdout",
       "text": [
        " ==> [('HOP WONG RESTAURANT', 0.75), ('HOWONG RESTAURANT', 0.7391304347826086)]\n",
        "----\n",
        "HUA XIA SEAFOOD RESTAURANT"
       ]
      },
      {
       "output_type": "stream",
       "stream": "stdout",
       "text": [
        " ==> [('HUANG JIA SEAFOOD RESTAURANT', 0.7058823529411765)]\n",
        "----\n",
        "HUANG JIA SEAFOOD RESTAURANT"
       ]
      },
      {
       "output_type": "stream",
       "stream": "stdout",
       "text": [
        " ==> [('HUA XIA SEAFOOD RESTAURANT', 0.7058823529411765)]\n",
        "----\n",
        "HUNAN ''K'' CHINESE RESTAURANT"
       ]
      },
      {
       "output_type": "stream",
       "stream": "stdout",
       "text": [
        " ==> [('HUNAN CHINESE RESTAURANT', 0.7575757575757576)]\n",
        "----\n",
        "HUNAN CHINESE RESTAURANT"
       ]
      },
      {
       "output_type": "stream",
       "stream": "stdout",
       "text": [
        " ==> [(\"HUNAN ''K'' CHINESE RESTAURANT\", 0.7575757575757576), ('NO. 1 HUNAN CHINESE RESTAURANT', 0.7058823529411765)]\n",
        "----\n",
        "HUNGRY GHOST COFFEE BAR AND CAFE"
       ]
      },
      {
       "output_type": "stream",
       "stream": "stdout",
       "text": [
        " ==> [('HUNGRY GHOST COFFEE BAR AND CAFE AT BRIC', 0.7272727272727273)]\n",
        "----\n",
        "HUNGRY GHOST COFFEE BAR AND CAFE AT BRIC"
       ]
      },
      {
       "output_type": "stream",
       "stream": "stdout",
       "text": [
        " ==> [('HUNGRY GHOST COFFEE BAR AND CAFE', 0.7272727272727273)]\n",
        "----\n",
        "I LOVE NY PIZZA"
       ]
      },
      {
       "output_type": "stream",
       "stream": "stdout",
       "text": [
        " ==> [('I LOVE PIZZA', 0.7222222222222222)]\n",
        "----\n",
        "I LOVE PIZZA"
       ]
      },
      {
       "output_type": "stream",
       "stream": "stdout",
       "text": [
        " ==> [('I LOVE NY PIZZA', 0.7222222222222222)]\n",
        "----\n",
        "ICHI SUSHI"
       ]
      },
      {
       "output_type": "stream",
       "stream": "stdout",
       "text": [
        " ==> [('ICHI SUSHI I', 0.7857142857142857)]\n",
        "----\n",
        "ICHI SUSHI I"
       ]
      },
      {
       "output_type": "stream",
       "stream": "stdout",
       "text": [
        " ==> [('ICHI SUSHI', 0.7857142857142857)]\n",
        "----\n",
        "ISE JAPANESE RESTAURANT"
       ]
      },
      {
       "output_type": "stream",
       "stream": "stdout",
       "text": [
        " ==> [('SAKE JAPANESE RESTAURANT', 0.7241379310344828)]\n",
        "----\n",
        "ISLAND BURGERS & SHAKES"
       ]
      },
      {
       "output_type": "stream",
       "stream": "stdout",
       "text": [
        " ==> [('ISLAND BURGERS AND SHAKES', 0.7857142857142857)]\n",
        "----\n",
        "ISLAND BURGERS AND SHAKES"
       ]
      },
      {
       "output_type": "stream",
       "stream": "stdout",
       "text": [
        " ==> [('ISLAND BURGERS & SHAKES', 0.7857142857142857)]\n",
        "----\n",
        "ISLAND CAFE"
       ]
      },
      {
       "output_type": "stream",
       "stream": "stdout",
       "text": [
        " ==> [('ISLAND CZ CAFE', 0.8125)]\n",
        "----\n",
        "ISLAND CZ CAFE"
       ]
      },
      {
       "output_type": "stream",
       "stream": "stdout",
       "text": [
        " ==> [('ISLAND CAFE', 0.8125)]\n",
        "----\n",
        "ITALIA PIZZA"
       ]
      },
      {
       "output_type": "stream",
       "stream": "stdout",
       "text": [
        " ==> [('ITALIAN PIZZA', 0.7058823529411765)]\n",
        "----\n",
        "ITALIAN PIZZA"
       ]
      },
      {
       "output_type": "stream",
       "stream": "stdout",
       "text": [
        " ==> [('ITALIA PIZZA', 0.7058823529411765)]\n",
        "----\n",
        "IZALCO RESTAURANT"
       ]
      },
      {
       "output_type": "stream",
       "stream": "stdout",
       "text": [
        " ==> [('EL IZALCO RESTAURANT', 0.7083333333333334)]\n",
        "----\n",
        "JACK'S COFFEE"
       ]
      },
      {
       "output_type": "stream",
       "stream": "stdout",
       "text": [
        " ==> [('JACKS COFFEE', 0.7058823529411765)]\n",
        "----\n",
        "JACKS COFFEE"
       ]
      },
      {
       "output_type": "stream",
       "stream": "stdout",
       "text": [
        " ==> [(\"JACK'S COFFEE\", 0.7058823529411765)]\n",
        "----\n",
        "JACQUELINE'S BAKERY RESTAURANT"
       ]
      },
      {
       "output_type": "stream",
       "stream": "stdout",
       "text": [
        " ==> [(\"JAQUELINE'S BAKERY BAR RESTAURANT\", 0.7368421052631579)]\n",
        "----\n",
        "JAHN'S RESTAURANT"
       ]
      },
      {
       "output_type": "stream",
       "stream": "stdout",
       "text": [
        " ==> [(\"JOHN'S RESTAURANT\", 0.7272727272727273)]\n",
        "----\n",
        "JAIYA THAI & ORIENTAL RESTAURANT"
       ]
      },
      {
       "output_type": "stream",
       "stream": "stdout",
       "text": [
        " ==> [('JAIYA THAI ORIENTAL RESTAURANT', 0.8857142857142857)]\n",
        "----\n",
        "JAIYA THAI ORIENTAL RESTAURANT"
       ]
      },
      {
       "output_type": "stream",
       "stream": "stdout",
       "text": [
        " ==> [('JAIYA THAI & ORIENTAL RESTAURANT', 0.8857142857142857)]\n",
        "----\n",
        "JAMAICAN FLAVORS"
       ]
      },
      {
       "output_type": "stream",
       "stream": "stdout",
       "text": [
        " ==> [('JAMAICAN FLAVOURS', 0.7619047619047619)]\n",
        "----\n",
        "JAMAICAN FLAVOURS"
       ]
      },
      {
       "output_type": "stream",
       "stream": "stdout",
       "text": [
        " ==> [('JAMAICAN FLAVORS', 0.7619047619047619)]\n",
        "----\n",
        "JAQUELINE'S BAKERY BAR RESTAURANT"
       ]
      },
      {
       "output_type": "stream",
       "stream": "stdout",
       "text": [
        " ==> [(\"JACQUELINE'S BAKERY RESTAURANT\", 0.7368421052631579)]\n",
        "----\n",
        "JEN'S ROTI SHOP"
       ]
      },
      {
       "output_type": "stream",
       "stream": "stdout",
       "text": [
        " ==> [(\"JENNY'S ROTI SHOP\", 0.7142857142857143)]\n",
        "----\n",
        "JENNY'S ROTI SHOP"
       ]
      },
      {
       "output_type": "stream",
       "stream": "stdout",
       "text": [
        " ==> [(\"JEN'S ROTI SHOP\", 0.7142857142857143)]\n",
        "----\n",
        "JERSEY MIKE'S SUBS"
       ]
      },
      {
       "output_type": "stream",
       "stream": "stdout",
       "text": [
        " ==> [('JERSEY MIKES SUBS', 0.7727272727272727)]\n",
        "----\n",
        "JERSEY MIKES SUBS"
       ]
      },
      {
       "output_type": "stream",
       "stream": "stdout",
       "text": [
        " ==> [(\"JERSEY MIKE'S SUBS\", 0.7727272727272727)]\n",
        "----\n",
        "JERUSALEM II PIZZA"
       ]
      },
      {
       "output_type": "stream",
       "stream": "stdout",
       "text": [
        " ==> [('JERUSALEM PIZZA', 0.7619047619047619)]\n",
        "----\n",
        "JERUSALEM PIZZA"
       ]
      },
      {
       "output_type": "stream",
       "stream": "stdout",
       "text": [
        " ==> [('JERUSALEM II PIZZA', 0.7619047619047619)]\n",
        "----\n",
        "JIAN CHINESE RESTAURANT"
       ]
      },
      {
       "output_type": "stream",
       "stream": "stdout",
       "text": [
        " ==> [('JIAN ON CHINESE RESTAURANT', 0.8928571428571429), ('JIN XIN CHINESE RESTAURANT', 0.7333333333333333)]\n",
        "----\n",
        "JIAN ON CHINESE RESTAURANT"
       ]
      },
      {
       "output_type": "stream",
       "stream": "stdout",
       "text": [
        " ==> [('JIAN CHINESE RESTAURANT', 0.8928571428571429)]\n",
        "----\n",
        "JIMBO'S BURGER PALACE"
       ]
      },
      {
       "output_type": "stream",
       "stream": "stdout",
       "text": [
        " ==> [(\"JIMBO'S HAMBURGER PALACE\", 0.75)]\n",
        "----\n",
        "JIMBO'S HAMBURGER"
       ]
      },
      {
       "output_type": "stream",
       "stream": "stdout",
       "text": [
        " ==> [(\"JIMBO'S HAMBURGERS\", 0.7727272727272727), ('JIMBOS HAMBURGER', 0.7619047619047619)]\n",
        "----\n",
        "JIMBO'S HAMBURGER PALACE"
       ]
      },
      {
       "output_type": "stream",
       "stream": "stdout",
       "text": [
        " ==> [(\"JIMBO'S HAMBURGER PLACE\", 0.8214285714285714), ('JIMBOS HAMBURGER PALACE', 0.8214285714285714), (\"JIMBO'S BURGER PALACE\", 0.75)]\n",
        "----\n",
        "JIMBO'S HAMBURGER PLACE"
       ]
      },
      {
       "output_type": "stream",
       "stream": "stdout",
       "text": [
        " ==> [(\"JIMBO'S HAMBURGER PALACE\", 0.8214285714285714)]\n",
        "----\n",
        "JIMBO'S HAMBURGERS"
       ]
      },
      {
       "output_type": "stream",
       "stream": "stdout",
       "text": [
        " ==> [(\"JIMBO'S HAMBURGER\", 0.7727272727272727), (\"JUMBO'S HAMBURGERS\", 0.7391304347826086)]\n",
        "----\n",
        "JIMBOS HAMBURGER"
       ]
      },
      {
       "output_type": "stream",
       "stream": "stdout",
       "text": [
        " ==> [(\"JIMBO'S HAMBURGER\", 0.7619047619047619), ('JUMBOS HAMBURGER', 0.7142857142857143)]\n",
        "----\n",
        "JIMBOS HAMBURGER PALACE"
       ]
      },
      {
       "output_type": "stream",
       "stream": "stdout",
       "text": [
        " ==> [(\"JIMBO'S HAMBURGER PALACE\", 0.8214285714285714)]\n",
        "----\n",
        "JIN XIN CHINESE RESTAURANT"
       ]
      },
      {
       "output_type": "stream",
       "stream": "stdout",
       "text": [
        " ==> [('JIAN CHINESE RESTAURANT', 0.7333333333333333)]\n",
        "----\n",
        "JING LUNG CHINESE RESTAURANT"
       ]
      },
      {
       "output_type": "stream",
       "stream": "stdout",
       "text": [
        " ==> [('XING LUNG CHINESE RESTAURANT', 0.8125), ('JING WAH CHINESE RESTAURANT', 0.7058823529411765)]\n",
        "----\n",
        "JING WAH CHINESE RESTAURANT"
       ]
      },
      {
       "output_type": "stream",
       "stream": "stdout",
       "text": [
        " ==> [('ZHONG WAH CHINESE RESTAURANT', 0.7352941176470589), ('BEST KING WAH CHINESE RESTAURANT', 0.7222222222222222), ('JING LUNG CHINESE RESTAURANT', 0.7058823529411765)]\n",
        "----\n",
        "JJ GARDEN RESTAURANT"
       ]
      },
      {
       "output_type": "stream",
       "stream": "stdout",
       "text": [
        " ==> [('JOY GARDEN RESTAURANT', 0.7307692307692307)]\n",
        "----\n",
        "JOE'S PIZZERIA"
       ]
      },
      {
       "output_type": "stream",
       "stream": "stdout",
       "text": [
        " ==> [(\"JOEY'S PIZZERIA\", 0.7368421052631579)]\n",
        "----\n",
        "JOE'S RESTAURANT"
       ]
      },
      {
       "output_type": "stream",
       "stream": "stdout",
       "text": [
        " ==> [(\"JORGE'S RESTAURANT\", 0.7272727272727273), (\"JOSIE'S RESTAURANT\", 0.7272727272727273)]\n",
        "----\n",
        "JOE-THE ART OF COFFEE"
       ]
      },
      {
       "output_type": "stream",
       "stream": "stdout",
       "text": [
        " ==> [('JOE:THE ART OF COFFEE', 0.7692307692307693), ('JOE: THE ART OF COFFEE', 0.7407407407407407)]\n",
        "----\n",
        "JOE: THE ART OF COFFEE"
       ]
      },
      {
       "output_type": "stream",
       "stream": "stdout",
       "text": [
        " ==> [('JOE:THE ART OF COFFEE', 0.8076923076923077), ('JOE-THE ART OF COFFEE', 0.7407407407407407)]\n",
        "----\n",
        "JOE:THE ART OF COFFEE"
       ]
      },
      {
       "output_type": "stream",
       "stream": "stdout",
       "text": [
        " ==> [('JOE: THE ART OF COFFEE', 0.8076923076923077), ('JOE-THE ART OF COFFEE', 0.7692307692307693)]\n",
        "----\n",
        "JOEY PEPPERONI'S PIZZA"
       ]
      },
      {
       "output_type": "stream",
       "stream": "stdout",
       "text": [
        " ==> [('JOEY PEPPERONIS PIZZA', 0.8076923076923077)]\n",
        "----\n",
        "JOEY PEPPERONIS PIZZA"
       ]
      },
      {
       "output_type": "stream",
       "stream": "stdout",
       "text": [
        " ==> [(\"JOEY PEPPERONI'S PIZZA\", 0.8076923076923077)]\n",
        "----\n",
        "JOEY'S PIZZERIA"
       ]
      },
      {
       "output_type": "stream",
       "stream": "stdout",
       "text": [
        " ==> [(\"JOE'S PIZZERIA\", 0.7368421052631579)]\n",
        "----\n",
        "JOHN'S FRIED CHICKEN"
       ]
      },
      {
       "output_type": "stream",
       "stream": "stdout",
       "text": [
        " ==> [(\"JOHNNY'S FRIED CHICKEN\", 0.7692307692307693)]\n",
        "----\n",
        "JOHN'S LUNCHEONETTE"
       ]
      },
      {
       "output_type": "stream",
       "stream": "stdout",
       "text": [
        " ==> [(\"JOHNY'S LUNCHEONETTE\", 0.7916666666666666), (\"OLD JOHN'S LUNCHEONETTE\", 0.7037037037037037)]\n",
        "----\n",
        "JOHN'S PIZZA AND RESTAURANT"
       ]
      },
      {
       "output_type": "stream",
       "stream": "stdout",
       "text": [
        " ==> [(\"JOHN'S PIZZA RESTAURANT\", 0.8), (\"JOHN'S PIZZERIA AND RESTAURANT\", 0.7941176470588235), (\"BEN'S PIZZA AND RESTAURANT\", 0.7272727272727273)]\n",
        "----\n",
        "JOHN'S PIZZA RESTAURANT"
       ]
      },
      {
       "output_type": "stream",
       "stream": "stdout",
       "text": [
        " ==> [(\"JOHN'S PIZZA AND RESTAURANT\", 0.8), (\"JOHNNY'S PIZZA RESTAURANT\", 0.7931034482758621)]\n",
        "----\n",
        "JOHN'S PIZZERIA AND RESTAURANT"
       ]
      },
      {
       "output_type": "stream",
       "stream": "stdout",
       "text": [
        " ==> [(\"JOHN'S PIZZA AND RESTAURANT\", 0.7941176470588235)]\n",
        "----\n",
        "JOHN'S RESTAURANT"
       ]
      },
      {
       "output_type": "stream",
       "stream": "stdout",
       "text": [
        " ==> [(\"JAHN'S RESTAURANT\", 0.7272727272727273)]\n",
        "----\n",
        "JOHNNY'S FRIED CHICKEN"
       ]
      },
      {
       "output_type": "stream",
       "stream": "stdout",
       "text": [
        " ==> [(\"JOHN'S FRIED CHICKEN\", 0.7692307692307693)]\n",
        "----\n",
        "JOHNNY'S PIZZA RESTAURANT"
       ]
      },
      {
       "output_type": "stream",
       "stream": "stdout",
       "text": [
        " ==> [(\"JOHN'S PIZZA RESTAURANT\", 0.7931034482758621), (\"BENNY'S PIZZA RESTAURANT\", 0.7096774193548387)]\n",
        "----\n",
        "JOHNY'S LUNCHEONETTE"
       ]
      },
      {
       "output_type": "stream",
       "stream": "stdout",
       "text": [
        " ==> [(\"JOHN'S LUNCHEONETTE\", 0.7916666666666666)]\n",
        "----\n",
        "JORGE'S RESTAURANT"
       ]
      },
      {
       "output_type": "stream",
       "stream": "stdout",
       "text": [
        " ==> [(\"JOE'S RESTAURANT\", 0.7272727272727273), (\"GEORGE'S RESTAURANT\", 0.7083333333333334)]\n",
        "----\n",
        "JOSEPH DREAM BURGER"
       ]
      },
      {
       "output_type": "stream",
       "stream": "stdout",
       "text": [
        " ==> [('JOSEPH DREAM BURGERS', 0.7916666666666666)]\n",
        "----\n",
        "JOSEPH DREAM BURGERS"
       ]
      },
      {
       "output_type": "stream",
       "stream": "stdout",
       "text": [
        " ==> [('JOSEPH DREAM BURGER', 0.7916666666666666)]\n",
        "----\n",
        "JOSIE'S RESTAURANT"
       ]
      },
      {
       "output_type": "stream",
       "stream": "stdout",
       "text": [
        " ==> [(\"JOE'S RESTAURANT\", 0.7272727272727273)]\n",
        "----\n",
        "JOY GARDEN RESTAURANT"
       ]
      },
      {
       "output_type": "stream",
       "stream": "stdout",
       "text": [
        " ==> [('JJ GARDEN RESTAURANT', 0.7307692307692307)]\n",
        "----\n",
        "JOY KITCHEN CHINESE RESTAURANT"
       ]
      },
      {
       "output_type": "stream",
       "stream": "stdout",
       "text": [
        " ==> [('NEW JOY KITCHEN CHINESE RESTAURANT', 0.7894736842105263), ('BO BO KITCHEN CHINESE RESTAURANT', 0.7105263157894737), ('NO.1 KITCHEN CHINESE RESTAURANT', 0.7105263157894737)]\n",
        "----\n",
        "JR PRIMOS II RESTAURANT"
       ]
      },
      {
       "output_type": "stream",
       "stream": "stdout",
       "text": [
        " ==> [('JR PRIMOS RESTAURANT', 0.8076923076923077)]\n",
        "----\n",
        "JR PRIMOS RESTAURANT"
       ]
      },
      {
       "output_type": "stream",
       "stream": "stdout",
       "text": [
        " ==> [('JR PRIMOS II RESTAURANT', 0.8076923076923077)]\n",
        "----\n",
        "JUDY'S SPANISH RESTAURANT"
       ]
      },
      {
       "output_type": "stream",
       "stream": "stdout",
       "text": [
        " ==> [(\"JULIA'S SPANISH RESTAURANT\", 0.71875)]\n",
        "----\n",
        "JUICE FOR LIFE"
       ]
      },
      {
       "output_type": "stream",
       "stream": "stdout",
       "text": [
        " ==> [('JUICES FOR LIFE', 0.7368421052631579)]\n",
        "----\n",
        "JUICES FOR LIFE"
       ]
      },
      {
       "output_type": "stream",
       "stream": "stdout",
       "text": [
        " ==> [('JUICE FOR LIFE', 0.7368421052631579)]\n",
        "----\n",
        "JULIA'S SPANISH RESTAURANT"
       ]
      },
      {
       "output_type": "stream",
       "stream": "stdout",
       "text": [
        " ==> [(\"JUDY'S SPANISH RESTAURANT\", 0.71875)]\n",
        "----\n",
        "JUMBO'S HAMBURGERS"
       ]
      },
      {
       "output_type": "stream",
       "stream": "stdout",
       "text": [
        " ==> [(\"JIMBO'S HAMBURGERS\", 0.7391304347826086)]\n",
        "----\n",
        "JUMBOS HAMBURGER"
       ]
      },
      {
       "output_type": "stream",
       "stream": "stdout",
       "text": [
        " ==> [('JIMBOS HAMBURGER', 0.7142857142857143)]\n",
        "----\n",
        "JUNIOR'S NY PIZZA & FRIED CHICKEN"
       ]
      },
      {
       "output_type": "stream",
       "stream": "stdout",
       "text": [
        " ==> [(\"JUNIOR'S PIZZA & FRIED CHICKEN\", 0.8611111111111112)]\n",
        "----\n",
        "JUNIOR'S PIZZA & FRIED CHICKEN"
       ]
      },
      {
       "output_type": "stream",
       "stream": "stdout",
       "text": [
        " ==> [(\"JUNIOR'S NY PIZZA & FRIED CHICKEN\", 0.8611111111111112)]\n",
        "----\n",
        "JUSTINO'S PIZZERIA"
       ]
      },
      {
       "output_type": "stream",
       "stream": "stdout",
       "text": [
        " ==> [('JUSTINOS PIZZERIA', 0.7727272727272727)]\n",
        "----\n",
        "JUSTINOS PIZZERIA"
       ]
      },
      {
       "output_type": "stream",
       "stream": "stdout",
       "text": [
        " ==> [(\"JUSTINO'S PIZZERIA\", 0.7727272727272727)]\n",
        "----\n",
        "KABAB HOUSE"
       ]
      },
      {
       "output_type": "stream",
       "stream": "stdout",
       "text": [
        " ==> [('KABUL KABAB HOUSE', 0.7222222222222222)]\n",
        "----\n",
        "KABIR'S BAKERY"
       ]
      },
      {
       "output_type": "stream",
       "stream": "stdout",
       "text": [
        " ==> [('KABIRS BAKERY', 0.7222222222222222)]\n",
        "----\n",
        "KABIRS BAKERY"
       ]
      },
      {
       "output_type": "stream",
       "stream": "stdout",
       "text": [
        " ==> [(\"KABIR'S BAKERY\", 0.7222222222222222)]\n",
        "----\n",
        "KABUL KABAB HOUSE"
       ]
      },
      {
       "output_type": "stream",
       "stream": "stdout",
       "text": [
        " ==> [('KABAB HOUSE', 0.7222222222222222)]\n",
        "----\n",
        "KAM FUNG RESTAURANT"
       ]
      },
      {
       "output_type": "stream",
       "stream": "stdout",
       "text": [
        " ==> [('KAM TUNG RESTAURANT', 0.75)]\n",
        "----\n",
        "KAM TUNG RESTAURANT"
       ]
      },
      {
       "output_type": "stream",
       "stream": "stdout",
       "text": [
        " ==> [('KAM FUNG RESTAURANT', 0.75)]\n",
        "----\n",
        "KARMA RESTAURANT"
       ]
      },
      {
       "output_type": "stream",
       "stream": "stdout",
       "text": [
        " ==> [('PARMA RESTAURANT', 0.7142857142857143)]\n",
        "----\n",
        "KAVKAZKIY DVORIK"
       ]
      },
      {
       "output_type": "stream",
       "stream": "stdout",
       "text": [
        " ==> [('KAVKAZSKIY DVORIK', 0.7619047619047619)]\n",
        "----\n",
        "KAVKAZSKIY DVORIK"
       ]
      },
      {
       "output_type": "stream",
       "stream": "stdout",
       "text": [
        " ==> [('KAVKAZKIY DVORIK', 0.7619047619047619)]\n",
        "----\n",
        "KEILLY'S CHINESE RESTAURANT"
       ]
      },
      {
       "output_type": "stream",
       "stream": "stdout",
       "text": [
        " ==> [(\"LY'S CHINESE RESTAURANT\", 0.7419354838709677)]\n",
        "----\n",
        "KENEDY FRIED CHICKEN"
       ]
      },
      {
       "output_type": "stream",
       "stream": "stdout",
       "text": [
        " ==> [('KENNEDY FRIED CHICKEN', 0.8695652173913043), ('KENNEDY  FRIED CHICKEN', 0.76), ('KENNDY FRIED CHICKEN', 0.75)]\n",
        "----\n",
        "KENNDY FRIED CHICKEN"
       ]
      },
      {
       "output_type": "stream",
       "stream": "stdout",
       "text": [
        " ==> [('KENNEDY FRIED CHICKEN', 0.7916666666666666), ('KENEDY FRIED CHICKEN', 0.75)]\n",
        "----\n",
        "KENNEDY  FRIED CHICKEN"
       ]
      },
      {
       "output_type": "stream",
       "stream": "stdout",
       "text": [
        " ==> [('KENNEDY FRIED CHICKEN', 0.875), ('KENEDY FRIED CHICKEN', 0.76)]\n",
        "----\n",
        "KENNEDY CHICKEN & BISCUIT"
       ]
      },
      {
       "output_type": "stream",
       "stream": "stdout",
       "text": [
        " ==> [(\"KENNEDY'S CHICKEN & BISCUIT\", 0.8), ('KENNEDY FRIED CHICKEN & BISCUIT', 0.7575757575757576)]\n",
        "----\n",
        "KENNEDY CHICKEN & PIZZA"
       ]
      },
      {
       "output_type": "stream",
       "stream": "stdout",
       "text": [
        " ==> [(\"KENNEDY'S CHICKEN & PIZZA\", 0.7857142857142857), ('KENNEDY FRIED CHICKEN & PIZZA', 0.7419354838709677), ('KENNEDY CHICKEN AND PIZZA', 0.7241379310344828)]\n",
        "----\n",
        "KENNEDY CHICKEN & SANDWICHES"
       ]
      },
      {
       "output_type": "stream",
       "stream": "stdout",
       "text": [
        " ==> [('KENNEDY CHICKEN &SANDWICHES', 0.8387096774193549), (\"KENNEDY'S CHICKEN & SANDWICHES\", 0.8181818181818182), (\"KENNEDY'S CHICKEN SANDWICHES\", 0.7058823529411765)]\n",
        "----\n",
        "KENNEDY CHICKEN &SANDWICHES"
       ]
      },
      {
       "output_type": "stream",
       "stream": "stdout",
       "text": [
        " ==> [('KENNEDY CHICKEN & SANDWICHES', 0.8387096774193549)]\n",
        "----\n",
        "KENNEDY CHICKEN AND PIZZA"
       ]
      },
      {
       "output_type": "stream",
       "stream": "stdout",
       "text": [
        " ==> [(\"KENNEDY'S CHICKEN AND PIZZA\", 0.8), ('KENNEDY CHICKEN & PIZZA', 0.7241379310344828)]\n",
        "----\n",
        "KENNEDY FRIED CHICKEN"
       ]
      },
      {
       "output_type": "stream",
       "stream": "stdout",
       "text": [
        " ==> [('KENNEDY  FRIED CHICKEN', 0.875), ('KENEDY FRIED CHICKEN', 0.8695652173913043), ('KENNDY FRIED CHICKEN', 0.7916666666666666), ('US KENNEDY FRIED CHICKEN', 0.7407407407407407), ('AAA KENNEDY FRIED CHICKEN', 0.7142857142857143), ('BAS KENNEDY FRIED CHICKEN', 0.7142857142857143)]\n",
        "----\n",
        "KENNEDY FRIED CHICKEN & BISCUIT"
       ]
      },
      {
       "output_type": "stream",
       "stream": "stdout",
       "text": [
        " ==> [('KENNEDY FRIED CHICKEN & BISCUITS', 0.8571428571428571), ('KENNEDY CHICKEN & BISCUIT', 0.7575757575757576)]\n",
        "----\n",
        "KENNEDY FRIED CHICKEN & BISCUITS"
       ]
      },
      {
       "output_type": "stream",
       "stream": "stdout",
       "text": [
        " ==> [('KENNEDY FRIED CHICKEN & BISCUIT', 0.8571428571428571)]\n",
        "----\n",
        "KENNEDY FRIED CHICKEN & PIZZA"
       ]
      },
      {
       "output_type": "stream",
       "stream": "stdout",
       "text": [
        " ==> [('HOT KENNEDY FRIED CHICKEN & PIZZA', 0.7777777777777778), ('KENNEDY CHICKEN & PIZZA', 0.7419354838709677)]\n",
        "----\n",
        "KENNEDY GRILL & FRIED CHICKEN"
       ]
      },
      {
       "output_type": "stream",
       "stream": "stdout",
       "text": [
        " ==> [('KENNEDY GRILL AND FRIED CHICKEN', 0.7714285714285715)]\n",
        "----\n",
        "KENNEDY GRILL AND FRIED CHICKEN"
       ]
      },
      {
       "output_type": "stream",
       "stream": "stdout",
       "text": [
        " ==> [('KENNEDY GRILL & FRIED CHICKEN', 0.7714285714285715)]\n",
        "----\n",
        "KENNEDY'S CHICKEN & BISCUIT"
       ]
      },
      {
       "output_type": "stream",
       "stream": "stdout",
       "text": [
        " ==> [('KENNEDY CHICKEN & BISCUIT', 0.8)]\n",
        "----\n",
        "KENNEDY'S CHICKEN & PIZZA"
       ]
      },
      {
       "output_type": "stream",
       "stream": "stdout",
       "text": [
        " ==> [('KENNEDY CHICKEN & PIZZA', 0.7857142857142857), (\"KENNEDY'S CHICKEN AND PIZZA\", 0.7419354838709677)]\n",
        "----\n",
        "KENNEDY'S CHICKEN & SANDWICHES"
       ]
      },
      {
       "output_type": "stream",
       "stream": "stdout",
       "text": [
        " ==> [(\"KENNEDY'S CHICKEN SANDWICHES\", 0.875), (\"KENNEDY'S CHICKEN & SANDWICHS\", 0.8484848484848485), ('KENNEDY CHICKEN & SANDWICHES', 0.8181818181818182), (\"SUPER KENNEDY'S CHICKEN & SANDWICHES\", 0.7435897435897436)]\n",
        "----\n",
        "KENNEDY'S CHICKEN & SANDWICHS"
       ]
      },
      {
       "output_type": "stream",
       "stream": "stdout",
       "text": [
        " ==> [(\"KENNEDY'S CHICKEN & SANDWICHES\", 0.8484848484848485), (\"KENNEDY'S CHICKEN SANDWICHES\", 0.7352941176470589)]\n",
        "----\n",
        "KENNEDY'S CHICKEN AND PIZZA"
       ]
      },
      {
       "output_type": "stream",
       "stream": "stdout",
       "text": [
        " ==> [('KENNEDY CHICKEN AND PIZZA', 0.8), (\"KENNEDY'S CHICKEN & PIZZA\", 0.7419354838709677)]\n",
        "----\n",
        "KENNEDY'S CHICKEN SANDWICHES"
       ]
      },
      {
       "output_type": "stream",
       "stream": "stdout",
       "text": [
        " ==> [(\"KENNEDY'S CHICKEN & SANDWICHES\", 0.875), (\"KENNEDY'S CHICKEN & SANDWICHS\", 0.7352941176470589), ('KENNEDY CHICKEN & SANDWICHES', 0.7058823529411765)]\n",
        "----\n",
        "KENNY'S RESTAURANT"
       ]
      },
      {
       "output_type": "stream",
       "stream": "stdout",
       "text": [
        " ==> [(\"HENNY'S RESTAURANT\", 0.7391304347826086)]\n",
        "----\n",
        "KEW GARDEN CHINESE RESTAURANT"
       ]
      },
      {
       "output_type": "stream",
       "stream": "stdout",
       "text": [
        " ==> [('NEW GARDEN CHINESE RESTAURANT', 0.8235294117647058), ('KING GARDEN CHINESE RESTAURANT', 0.75), ('BEST GARDEN CHINESE RESTAURANT', 0.7222222222222222), ('CHINA GARDEN CHINESE RESTAURANT', 0.7222222222222222), ('LEE GARDEN CHINESE RESTAURANT', 0.7222222222222222), ('HOME GARDEN CHINESE RESTAURANT', 0.7027027027027027), ('REGO GARDEN CHINESE RESTAURANT', 0.7027027027027027)]\n",
        "----\n",
        "KING DRAGON CHINESE RESTAURANT"
       ]
      },
      {
       "output_type": "stream",
       "stream": "stdout",
       "text": [
        " ==> [('XIANG DRAGON CHINESE RESTAURANT', 0.7567567567567568), ('DRAGON CHINESE RESTAURANT', 0.7352941176470589)]\n",
        "----\n",
        "KING FRIED CHICKEN"
       ]
      },
      {
       "output_type": "stream",
       "stream": "stdout",
       "text": [
        " ==> [('KING ROYAL FRIED CHICKEN', 0.7037037037037037)]\n",
        "----\n",
        "KING GARDEN CHINESE RESTAURANT"
       ]
      },
      {
       "output_type": "stream",
       "stream": "stdout",
       "text": [
        " ==> [('NEW KING GARDEN CHINESE RESTAURANT', 0.7894736842105263), ('SPRING GARDEN CHINESE RESTAURANT', 0.7837837837837838), ('KEW GARDEN CHINESE RESTAURANT', 0.75), ('BEST GARDEN CHINESE RESTAURANT', 0.7027027027027027), ('CHINA GARDEN CHINESE RESTAURANT', 0.7027027027027027), ('LEE GARDEN CHINESE RESTAURANT', 0.7027027027027027), ('NEW GARDEN CHINESE RESTAURANT', 0.7027027027027027)]\n",
        "----\n",
        "KING GARDEN RESTAURANT"
       ]
      },
      {
       "output_type": "stream",
       "stream": "stdout",
       "text": [
        " ==> [('SING GARDEN RESTAURANT', 0.7777777777777778), ('SPRING GARDEN RESTAURANT', 0.7241379310344828)]\n",
        "----\n",
        "KING HING RESTAURANT"
       ]
      },
      {
       "output_type": "stream",
       "stream": "stdout",
       "text": [
        " ==> [('SING HING RESTAURANT', 0.7391304347826086)]\n",
        "----\n",
        "KING RIVER CHINESE RESTAURANT"
       ]
      },
      {
       "output_type": "stream",
       "stream": "stdout",
       "text": [
        " ==> [('LONG RIVER CHINESE RESTAURANT', 0.7714285714285715)]\n",
        "----\n",
        "KING ROYAL FRIED CHICKEN"
       ]
      },
      {
       "output_type": "stream",
       "stream": "stdout",
       "text": [
        " ==> [('KING FRIED CHICKEN', 0.7037037037037037)]\n",
        "----\n",
        "KING WAH RESTAURANT"
       ]
      },
      {
       "output_type": "stream",
       "stream": "stdout",
       "text": [
        " ==> [('SING WAH RESTAURANT', 0.75), ('WING WAH RESTAURANT', 0.75)]\n",
        "----\n",
        "KING WOK CHINESE RESTAURANT"
       ]
      },
      {
       "output_type": "stream",
       "stream": "stdout",
       "text": [
        " ==> [(\"KING'S WOK CHINESE RESTAURANT\", 0.8181818181818182), ('SING WOK CHINESE RESTAURANT', 0.8125), ('WOK CHINESE RESTAURANT', 0.7096774193548387)]\n",
        "----\n",
        "KING WOK KITCHEN"
       ]
      },
      {
       "output_type": "stream",
       "stream": "stdout",
       "text": [
        " ==> [(\"KING'S WOK KITCHEN\", 0.7272727272727273), ('MING WOK KITCHEN', 0.7142857142857143)]\n",
        "----\n",
        "KING WOK RESTAURANT"
       ]
      },
      {
       "output_type": "stream",
       "stream": "stdout",
       "text": [
        " ==> [(\"KING'S WOK RESTAURANT\", 0.76), ('NEW KING WOK RESTAURANT', 0.7037037037037037)]\n",
        "----\n",
        "KING'S CHEF CHINESE RESTAURANT"
       ]
      },
      {
       "output_type": "stream",
       "stream": "stdout",
       "text": [
        " ==> [(\"KING'S WOK CHINESE RESTAURANT\", 0.7222222222222222)]\n",
        "----\n",
        "KING'S KITCHEN"
       ]
      },
      {
       "output_type": "stream",
       "stream": "stdout",
       "text": [
        " ==> [('KINGS KITCHEN', 0.7222222222222222), (\"KING'S WOK KITCHEN\", 0.7142857142857143)]\n",
        "----\n",
        "KING'S WOK CHINESE RESTAURANT"
       ]
      },
      {
       "output_type": "stream",
       "stream": "stdout",
       "text": [
        " ==> [('KING WOK CHINESE RESTAURANT', 0.8181818181818182), (\"KING'S CHEF CHINESE RESTAURANT\", 0.7222222222222222)]\n",
        "----\n",
        "KING'S WOK KITCHEN"
       ]
      },
      {
       "output_type": "stream",
       "stream": "stdout",
       "text": [
        " ==> [('KING WOK KITCHEN', 0.7272727272727273), (\"KING'S KITCHEN\", 0.7142857142857143)]\n",
        "----\n",
        "KING'S WOK RESTAURANT"
       ]
      },
      {
       "output_type": "stream",
       "stream": "stdout",
       "text": [
        " ==> [('KING WOK RESTAURANT', 0.76)]\n",
        "----\n",
        "KINGS KITCHEN"
       ]
      },
      {
       "output_type": "stream",
       "stream": "stdout",
       "text": [
        " ==> [(\"KING'S KITCHEN\", 0.7222222222222222)]\n",
        "----\n",
        "KNAPP PIZZA III"
       ]
      },
      {
       "output_type": "stream",
       "stream": "stdout",
       "text": [
        " ==> [('KNAPP ST PIZZA II', 0.7142857142857143)]\n",
        "----\n",
        "KNAPP ST PIZZA II"
       ]
      },
      {
       "output_type": "stream",
       "stream": "stdout",
       "text": [
        " ==> [('KNAPP PIZZA III', 0.7142857142857143)]\n",
        "----\n",
        "KOITO JAPANESE RESTAURANT"
       ]
      },
      {
       "output_type": "stream",
       "stream": "stdout",
       "text": [
        " ==> [('KUMO JAPANESE RESTAURANT', 0.7096774193548387), ('SATO JAPANESE RESTAURANT', 0.7096774193548387), ('SOTO JAPANESE RESTAURANT', 0.7096774193548387)]\n",
        "----\n",
        "KOREAN NOODLE HOUSE"
       ]
      },
      {
       "output_type": "stream",
       "stream": "stdout",
       "text": [
        " ==> [('KOREAN NOODLE HOUSE.', 0.7916666666666666)]\n",
        "----\n",
        "KOREAN NOODLE HOUSE."
       ]
      },
      {
       "output_type": "stream",
       "stream": "stdout",
       "text": [
        " ==> [('KOREAN NOODLE HOUSE', 0.7916666666666666)]\n",
        "----\n",
        "KORYODANG BAKERY & CAFE"
       ]
      },
      {
       "output_type": "stream",
       "stream": "stdout",
       "text": [
        " ==> [('KORYODANG BAKERY AND CAFE', 0.7333333333333333)]\n",
        "----\n",
        "KORYODANG BAKERY AND CAFE"
       ]
      },
      {
       "output_type": "stream",
       "stream": "stdout",
       "text": [
        " ==> [('KORYODANG BAKERY & CAFE', 0.7333333333333333)]\n",
        "----\n",
        "KUMO JAPANESE CUISINE"
       ]
      },
      {
       "output_type": "stream",
       "stream": "stdout",
       "text": [
        " ==> [('TOMO JAPANESE CUISINE', 0.7037037037037037)]\n",
        "----\n",
        "KUMO JAPANESE RESTAURANT"
       ]
      },
      {
       "output_type": "stream",
       "stream": "stdout",
       "text": [
        " ==> [('TOMO JAPANESE RESTAURANT', 0.7333333333333333), ('KOITO JAPANESE RESTAURANT', 0.7096774193548387)]\n",
        "----\n",
        "L & B SPUMONI GARDENS"
       ]
      },
      {
       "output_type": "stream",
       "stream": "stdout",
       "text": [
        " ==> [('LB SPUMONI GARDENS', 0.72)]\n",
        "----\n",
        "L & K JAMAICAN RESTAURANT"
       ]
      },
      {
       "output_type": "stream",
       "stream": "stdout",
       "text": [
        " ==> [('E & K JAMAICAN RESTAURANT', 0.8)]\n",
        "----\n",
        "L&Y WING HING CHINESE RESTAURANT"
       ]
      },
      {
       "output_type": "stream",
       "stream": "stdout",
       "text": [
        " ==> [('WING HING CHINESE RESTAURANT', 0.7575757575757576), ('LOONG HING CHINESE RESTAURANT', 0.7142857142857143)]\n",
        "----\n",
        "L. A. BURRITO"
       ]
      },
      {
       "output_type": "stream",
       "stream": "stdout",
       "text": [
        " ==> [('L.A. BURRITO', 0.7058823529411765)]\n",
        "----\n",
        "L. A. PIZZERIA"
       ]
      },
      {
       "output_type": "stream",
       "stream": "stdout",
       "text": [
        " ==> [('L.A. PIZZERIA', 0.7222222222222222)]\n",
        "----\n",
        "L. QUISQUEYA BAR RESTAURANT"
       ]
      },
      {
       "output_type": "stream",
       "stream": "stdout",
       "text": [
        " ==> [('QUISQUEYA BAR RESTAURANT', 0.7741935483870968)]\n",
        "----\n",
        "L.A. BURRITO"
       ]
      },
      {
       "output_type": "stream",
       "stream": "stdout",
       "text": [
        " ==> [('L. A. BURRITO', 0.7058823529411765)]\n",
        "----\n",
        "L.A. PIZZERIA"
       ]
      },
      {
       "output_type": "stream",
       "stream": "stdout",
       "text": [
        " ==> [('L. A. PIZZERIA', 0.7222222222222222)]\n",
        "----\n",
        "LA AMBATENITA BAKERY"
       ]
      },
      {
       "output_type": "stream",
       "stream": "stdout",
       "text": [
        " ==> [('LA NUEVA AMBATENITA BAKERY', 0.7857142857142857)]\n",
        "----\n",
        "LA BAGUETTE SHOP"
       ]
      },
      {
       "output_type": "stream",
       "stream": "stdout",
       "text": [
        " ==> [('LA-BAGUETTE SHOP', 0.7142857142857143)]\n",
        "----\n",
        "LA BARAKA RESTAURANT"
       ]
      },
      {
       "output_type": "stream",
       "stream": "stdout",
       "text": [
        " ==> [('LA BARCA RESTAURANT', 0.72)]\n",
        "----\n",
        "LA BARCA RESTAURANT"
       ]
      },
      {
       "output_type": "stream",
       "stream": "stdout",
       "text": [
        " ==> [('LA BARAKA RESTAURANT', 0.72)]\n",
        "----\n",
        "LA BELLA PIZZERIA"
       ]
      },
      {
       "output_type": "stream",
       "stream": "stdout",
       "text": [
        " ==> [('LA BELLEZZA PIZZERIA', 0.7391304347826086)]\n",
        "----\n",
        "LA BELLA ROSA BAKERY"
       ]
      },
      {
       "output_type": "stream",
       "stream": "stdout",
       "text": [
        " ==> [('LA ROSA BAKERY', 0.8)]\n",
        "----\n",
        "LA BELLEZZA PIZZERIA"
       ]
      },
      {
       "output_type": "stream",
       "stream": "stdout",
       "text": [
        " ==> [('LA BELLA PIZZERIA', 0.7391304347826086)]\n",
        "----\n",
        "LA CABANA JARABACOA RESTAURANT"
       ]
      },
      {
       "output_type": "stream",
       "stream": "stdout",
       "text": [
        " ==> [('LA CABANA RESTAURANT', 0.7096774193548387)]\n",
        "----\n",
        "LA CABANA RESTAURANT"
       ]
      },
      {
       "output_type": "stream",
       "stream": "stdout",
       "text": [
        " ==> [('LA CABANA JARABACOA RESTAURANT', 0.7096774193548387)]\n",
        "----\n",
        "LA CARIDAD RESTAURANT"
       ]
      },
      {
       "output_type": "stream",
       "stream": "stdout",
       "text": [
        " ==> [('A A CARIDAD RESTAURANT', 0.7407407407407407), ('CARIDAD RESTAURANT', 0.72), ('MS CARIDAD RESTAURANT', 0.7037037037037037)]\n",
        "----\n",
        "LA COCINA II RESTAURANT"
       ]
      },
      {
       "output_type": "stream",
       "stream": "stdout",
       "text": [
        " ==> [('LA COCINA RESTAURANT', 0.8076923076923077)]\n",
        "----\n",
        "LA COCINA RESTAURANT"
       ]
      },
      {
       "output_type": "stream",
       "stream": "stdout",
       "text": [
        " ==> [('LA COCINA II RESTAURANT', 0.8076923076923077), ('LA NUEVA COCINA RESTAURANT', 0.7857142857142857)]\n",
        "----\n",
        "LA COLOMBIANITA BAKERY"
       ]
      },
      {
       "output_type": "stream",
       "stream": "stdout",
       "text": [
        " ==> [('LA COLOMBIANITA BAKERY 2', 0.7857142857142857)]\n",
        "----\n",
        "LA COLOMBIANITA BAKERY 2"
       ]
      },
      {
       "output_type": "stream",
       "stream": "stdout",
       "text": [
        " ==> [('LA COLOMBIANITA BAKERY', 0.7857142857142857)]\n",
        "----\n",
        "LA DOLCE ITALIA BAKERY"
       ]
      },
      {
       "output_type": "stream",
       "stream": "stdout",
       "text": [
        " ==> [('LA DOLCE ITALIA BAKERY II', 0.7586206896551724)]\n",
        "----\n",
        "LA DOLCE ITALIA BAKERY II"
       ]
      },
      {
       "output_type": "stream",
       "stream": "stdout",
       "text": [
        " ==> [('LA DOLCE ITALIA BAKERY', 0.7586206896551724)]\n",
        "----\n",
        "LA ESSENCIA RESTAURANT"
       ]
      },
      {
       "output_type": "stream",
       "stream": "stdout",
       "text": [
        " ==> [('LA ESTANCIA RESTAURANT', 0.7692307692307693)]\n",
        "----\n",
        "LA ESTANCIA RESTAURANT"
       ]
      },
      {
       "output_type": "stream",
       "stream": "stdout",
       "text": [
        " ==> [('LA ESSENCIA RESTAURANT', 0.7692307692307693)]\n",
        "----\n",
        "LA ESTRELLA RESTAURANT"
       ]
      },
      {
       "output_type": "stream",
       "stream": "stdout",
       "text": [
        " ==> [('MI ESTRELLA RESTAURANT', 0.7307692307692307)]\n",
        "----\n",
        "LA FIESTA RESTAURANT"
       ]
      },
      {
       "output_type": "stream",
       "stream": "stdout",
       "text": [
        " ==> [('LA FUSTA RESTAURANT', 0.7391304347826086)]\n",
        "----\n",
        "LA FUSTA RESTAURANT"
       ]
      },
      {
       "output_type": "stream",
       "stream": "stdout",
       "text": [
        " ==> [('LA FIESTA RESTAURANT', 0.7391304347826086)]\n",
        "----\n",
        "LA GITANA 3 PANADERIA Y RESTAURANTE"
       ]
      },
      {
       "output_type": "stream",
       "stream": "stdout",
       "text": [
        " ==> [('LA GITANA PANADERIA Y RESTAURANTE', 0.8918918918918919)]\n",
        "----\n",
        "LA GITANA PANADERIA Y RESTAURANTE"
       ]
      },
      {
       "output_type": "stream",
       "stream": "stdout",
       "text": [
        " ==> [('LA GITANA 3 PANADERIA Y RESTAURANTE', 0.8918918918918919)]\n",
        "----\n",
        "LA ISLA CAFE RESTAURANT"
       ]
      },
      {
       "output_type": "stream",
       "stream": "stdout",
       "text": [
        " ==> [('LA ISLA RESTAURANT', 0.72)]\n",
        "----\n",
        "LA ISLA RESTAURANT"
       ]
      },
      {
       "output_type": "stream",
       "stream": "stdout",
       "text": [
        " ==> [('LAS ISLA RESTAURANT', 0.8181818181818182), ('LA ISLA CAFE RESTAURANT', 0.72)]\n",
        "----\n",
        "LA LECHONERA #2 RESTAURANT"
       ]
      },
      {
       "output_type": "stream",
       "stream": "stdout",
       "text": [
        " ==> [('LA LECHONERA RESTAURANT', 0.8275862068965517)]\n",
        "----\n",
        "LA LECHONERA RESTAURANT"
       ]
      },
      {
       "output_type": "stream",
       "stream": "stdout",
       "text": [
        " ==> [('LA LECHONERA #2 RESTAURANT', 0.8275862068965517)]\n",
        "----\n",
        "LA NUEVA AMBATENITA BAKERY"
       ]
      },
      {
       "output_type": "stream",
       "stream": "stdout",
       "text": [
        " ==> [('LA AMBATENITA BAKERY', 0.7857142857142857)]\n",
        "----\n",
        "LA NUEVA COCINA RESTAURANT"
       ]
      },
      {
       "output_type": "stream",
       "stream": "stdout",
       "text": [
        " ==> [('LA COCINA RESTAURANT', 0.7857142857142857)]\n",
        "----\n",
        "LA PAIN QUOTIDIEN"
       ]
      },
      {
       "output_type": "stream",
       "stream": "stdout",
       "text": [
        " ==> [('LE PAIN QUOTIDIEN', 0.7272727272727273)]\n",
        "----\n",
        "LA PARADA II RESTAURANT"
       ]
      },
      {
       "output_type": "stream",
       "stream": "stdout",
       "text": [
        " ==> [('LA PARADA RESTAURANT', 0.8076923076923077)]\n",
        "----\n",
        "LA PARADA RESTAURANT"
       ]
      },
      {
       "output_type": "stream",
       "stream": "stdout",
       "text": [
        " ==> [('LA PARADA II RESTAURANT', 0.8076923076923077)]\n",
        "----\n",
        "LA ROSA BAKERY"
       ]
      },
      {
       "output_type": "stream",
       "stream": "stdout",
       "text": [
        " ==> [('LA BELLA ROSA BAKERY', 0.8)]\n",
        "----\n",
        "LA STRADA PIZZERIA RESTAURANT"
       ]
      },
      {
       "output_type": "stream",
       "stream": "stdout",
       "text": [
        " ==> [('LA STRADA RESTAURANT', 0.7096774193548387)]\n",
        "----\n",
        "LA STRADA RESTAURANT"
       ]
      },
      {
       "output_type": "stream",
       "stream": "stdout",
       "text": [
        " ==> [('LA STRADA PIZZERIA RESTAURANT', 0.7096774193548387)]\n",
        "----\n",
        "LA VEGA RESTAURANT"
       ]
      },
      {
       "output_type": "stream",
       "stream": "stdout",
       "text": [
        " ==> [('DE LA VEGA RESTAURANT', 0.72)]\n",
        "----\n",
        "LA-BAGUETTE SHOP"
       ]
      },
      {
       "output_type": "stream",
       "stream": "stdout",
       "text": [
        " ==> [('LA BAGUETTE SHOP', 0.7142857142857143)]\n",
        "----\n",
        "LAN KING CHINESE RESTAURANT"
       ]
      },
      {
       "output_type": "stream",
       "stream": "stdout",
       "text": [
        " ==> [('CHINA KING CHINESE RESTAURANT', 0.7058823529411765), ('TAK KING CHINESE RESTAURANT', 0.7058823529411765)]\n",
        "----\n",
        "LAN ZHOU HAND MADE NOODLE"
       ]
      },
      {
       "output_type": "stream",
       "stream": "stdout",
       "text": [
        " ==> [('LAN ZHOU HANDMADE NOODLE', 0.8275862068965517)]\n",
        "----\n",
        "LAN ZHOU HANDMADE NOODLE"
       ]
      },
      {
       "output_type": "stream",
       "stream": "stdout",
       "text": [
        " ==> [('LAN ZHOU HAND MADE NOODLE', 0.8275862068965517)]\n",
        "----\n",
        "LAO MA MA LA TANG"
       ]
      },
      {
       "output_type": "stream",
       "stream": "stdout",
       "text": [
        " ==> [('LAOMA MA LA TANG', 0.7894736842105263)]\n",
        "----\n",
        "LAOMA MA LA TANG"
       ]
      },
      {
       "output_type": "stream",
       "stream": "stdout",
       "text": [
        " ==> [('LAO MA MA LA TANG', 0.7894736842105263)]\n",
        "----\n",
        "LAS ISLA RESTAURANT"
       ]
      },
      {
       "output_type": "stream",
       "stream": "stdout",
       "text": [
        " ==> [('LA ISLA RESTAURANT', 0.8181818181818182)]\n",
        "----\n",
        "LAS MAGARITAS"
       ]
      },
      {
       "output_type": "stream",
       "stream": "stdout",
       "text": [
        " ==> [('LAS MARGARITAS', 0.7222222222222222)]\n",
        "----\n",
        "LAS MARGARITAS"
       ]
      },
      {
       "output_type": "stream",
       "stream": "stdout",
       "text": [
        " ==> [('LAS MAGARITAS', 0.7222222222222222)]\n",
        "----\n",
        "LAS ORQUIDEAS RESTAURANT"
       ]
      },
      {
       "output_type": "stream",
       "stream": "stdout",
       "text": [
        " ==> [('LAS QRQUIDEAS RESTAURANT', 0.7857142857142857)]\n",
        "----\n",
        "LAS QRQUIDEAS RESTAURANT"
       ]
      },
      {
       "output_type": "stream",
       "stream": "stdout",
       "text": [
        " ==> [('LAS ORQUIDEAS RESTAURANT', 0.7857142857142857)]\n",
        "----\n",
        "LB SPUMONI GARDENS"
       ]
      },
      {
       "output_type": "stream",
       "stream": "stdout",
       "text": [
        " ==> [('L & B SPUMONI GARDENS', 0.72)]\n",
        "----\n",
        "LE PAIN QUOTDIEN"
       ]
      },
      {
       "output_type": "stream",
       "stream": "stdout",
       "text": [
        " ==> [('LE PAIN QUOTIDIEN', 0.7619047619047619)]\n",
        "----\n",
        "LE PAIN QUOTIDIEN"
       ]
      },
      {
       "output_type": "stream",
       "stream": "stdout",
       "text": [
        " ==> [('LE PAIN QUOTDIEN', 0.7619047619047619), ('LA PAIN QUOTIDIEN', 0.7272727272727273)]\n",
        "----\n",
        "LEE CHINESE RESTAURANT"
       ]
      },
      {
       "output_type": "stream",
       "stream": "stdout",
       "text": [
        " ==> [('HO LEE CHINESE RESTAURANT', 0.7586206896551724), ('LEE GARDEN CHINESE RESTAURANT', 0.71875)]\n",
        "----\n",
        "LEE GARDEN CHINESE RESTAURANT"
       ]
      },
      {
       "output_type": "stream",
       "stream": "stdout",
       "text": [
        " ==> [('HOME GARDEN CHINESE RESTAURANT', 0.75), ('BEST GARDEN CHINESE RESTAURANT', 0.7222222222222222), ('CHINA GARDEN CHINESE RESTAURANT', 0.7222222222222222), ('KEW GARDEN CHINESE RESTAURANT', 0.7222222222222222), ('NEW GARDEN CHINESE RESTAURANT', 0.7222222222222222), ('LEE CHINESE RESTAURANT', 0.71875), ('KING GARDEN CHINESE RESTAURANT', 0.7027027027027027), ('REGO GARDEN CHINESE RESTAURANT', 0.7027027027027027)]\n",
        "----\n",
        "LEE'S RESTAURANT"
       ]
      },
      {
       "output_type": "stream",
       "stream": "stdout",
       "text": [
        " ==> [(\"DEE'S RESTAURANT\", 0.7142857142857143), (\"VEE'S RESTAURANT\", 0.7142857142857143)]\n",
        "----\n",
        "LEGEND BAR & RESTAURANT"
       ]
      },
      {
       "output_type": "stream",
       "stream": "stdout",
       "text": [
        " ==> [('LEGENDS BAR & RESTAURANT', 0.8214285714285714), ('LEGENDARY BAR & RESTAURANT', 0.7666666666666667)]\n",
        "----\n",
        "LEGENDARY BAR & RESTAURANT"
       ]
      },
      {
       "output_type": "stream",
       "stream": "stdout",
       "text": [
        " ==> [('LEGEND BAR & RESTAURANT', 0.7666666666666667), ('LEGENDS BAR & RESTAURANT', 0.7419354838709677)]\n",
        "----\n",
        "LEGENDS BAR & RESTAURANT"
       ]
      },
      {
       "output_type": "stream",
       "stream": "stdout",
       "text": [
        " ==> [('LEGEND BAR & RESTAURANT', 0.8214285714285714), ('LEGENDARY BAR & RESTAURANT', 0.7419354838709677)]\n",
        "----\n",
        "LI'L JAY'S CAFE"
       ]
      },
      {
       "output_type": "stream",
       "stream": "stdout",
       "text": [
        " ==> [(\"LI'L JAYS CAFE\", 0.7368421052631579)]\n",
        "----\n",
        "LI'L JAYS CAFE"
       ]
      },
      {
       "output_type": "stream",
       "stream": "stdout",
       "text": [
        " ==> [(\"LI'L JAY'S CAFE\", 0.7368421052631579)]\n",
        "----\n",
        "LI'S GOLDEN CITY RESTAURANT"
       ]
      },
      {
       "output_type": "stream",
       "stream": "stdout",
       "text": [
        " ==> [('GOLDEN CITY RESTAURANT', 0.7096774193548387)]\n",
        "----\n",
        "LIN'S CASA CHINESE RESTAURANT"
       ]
      },
      {
       "output_type": "stream",
       "stream": "stdout",
       "text": [
        " ==> [(\"LIN'S CHINESE RESTAURANT\", 0.8387096774193549)]\n",
        "----\n",
        "LIN'S CHINESE RESTAURANT"
       ]
      },
      {
       "output_type": "stream",
       "stream": "stdout",
       "text": [
        " ==> [(\"LIN'S CASA CHINESE RESTAURANT\", 0.8387096774193549), (\"LIN'S NO 1 CHINESE RESTAURANT\", 0.78125), (\"LY'S CHINESE RESTAURANT\", 0.7586206896551724)]\n",
        "----\n",
        "LIN'S GARDEN RESTAURANT"
       ]
      },
      {
       "output_type": "stream",
       "stream": "stdout",
       "text": [
        " ==> [(\"NEW LIN'S GARDEN RESTAURANT\", 0.7419354838709677)]\n",
        "----\n",
        "LIN'S NO 1 CHINESE RESTAURANT"
       ]
      },
      {
       "output_type": "stream",
       "stream": "stdout",
       "text": [
        " ==> [(\"LIN'S CHINESE RESTAURANT\", 0.78125)]\n",
        "----\n",
        "LINCOLN  FRIED  CHICKEN"
       ]
      },
      {
       "output_type": "stream",
       "stream": "stdout",
       "text": [
        " ==> [('LINCOLN FRIED CHICKEN', 0.7777777777777778)]\n",
        "----\n",
        "LINCOLN FRIED CHICKEN"
       ]
      },
      {
       "output_type": "stream",
       "stream": "stdout",
       "text": [
        " ==> [('LINCOLN  FRIED  CHICKEN', 0.7777777777777778)]\n",
        "----\n",
        "LITTLE CAESAR'S PIZZA"
       ]
      },
      {
       "output_type": "stream",
       "stream": "stdout",
       "text": [
        " ==> [('LITTLE CAESARS PIZZA', 0.8)]\n",
        "----\n",
        "LITTLE CAESARS PIZZA"
       ]
      },
      {
       "output_type": "stream",
       "stream": "stdout",
       "text": [
        " ==> [(\"LITTLE CAESAR'S PIZZA\", 0.8)]\n",
        "----\n",
        "LITTLE CUPCAKE BAKE SHOP"
       ]
      },
      {
       "output_type": "stream",
       "stream": "stdout",
       "text": [
        " ==> [('LITTLE CUPCAKE BAKESHOP', 0.8461538461538461)]\n",
        "----\n",
        "LITTLE CUPCAKE BAKESHOP"
       ]
      },
      {
       "output_type": "stream",
       "stream": "stdout",
       "text": [
        " ==> [('LITTLE CUPCAKE BAKE SHOP', 0.8461538461538461)]\n",
        "----\n",
        "LITTLE ITALY PIZZA"
       ]
      },
      {
       "output_type": "stream",
       "stream": "stdout",
       "text": [
        " ==> [('LITTLE ITALY PIZZERIA', 0.72)]\n",
        "----\n",
        "LITTLE ITALY PIZZERIA"
       ]
      },
      {
       "output_type": "stream",
       "stream": "stdout",
       "text": [
        " ==> [('LITTLE ITALY PIZZA', 0.72)]\n",
        "----\n",
        "LOK SING CHINESE RESTAURANT"
       ]
      },
      {
       "output_type": "stream",
       "stream": "stdout",
       "text": [
        " ==> [('LOONG HING CHINESE RESTAURANT', 0.7058823529411765)]\n",
        "----\n",
        "LOMA # 3 RESTAURANT"
       ]
      },
      {
       "output_type": "stream",
       "stream": "stdout",
       "text": [
        " ==> [('LOMA #5 RESTAURANT', 0.7083333333333334)]\n",
        "----\n",
        "LOMA #5 RESTAURANT"
       ]
      },
      {
       "output_type": "stream",
       "stream": "stdout",
       "text": [
        " ==> [('LOMA # 3 RESTAURANT', 0.7083333333333334)]\n",
        "----\n",
        "LONG RIVER CHINESE RESTAURANT"
       ]
      },
      {
       "output_type": "stream",
       "stream": "stdout",
       "text": [
        " ==> [('KING RIVER CHINESE RESTAURANT', 0.7714285714285715)]\n",
        "----\n",
        "LOONG HING CHINESE RESTAURANT"
       ]
      },
      {
       "output_type": "stream",
       "stream": "stdout",
       "text": [
        " ==> [('WING HING CHINESE RESTAURANT', 0.75), ('L&Y WING HING CHINESE RESTAURANT', 0.7142857142857143), ('CHUNG HING CHINESE RESTAURANT', 0.7058823529411765), ('LOK SING CHINESE RESTAURANT', 0.7058823529411765)]\n",
        "----\n",
        "LOS 2 POTRILLOS RESTAURANT"
       ]
      },
      {
       "output_type": "stream",
       "stream": "stdout",
       "text": [
        " ==> [('LOS POTRILLOS RESTAURANT', 0.8518518518518519), ('LOS 3 POTRILLOS RESTAURANT', 0.7931034482758621), ('LOS TRES POTRILLOS RESTAURANT', 0.7419354838709677)]\n",
        "----\n",
        "LOS 3 POTRILLOS RESTAURANT"
       ]
      },
      {
       "output_type": "stream",
       "stream": "stdout",
       "text": [
        " ==> [('LOS POTRILLOS RESTAURANT', 0.8518518518518519), ('LOS 2 POTRILLOS RESTAURANT', 0.7931034482758621), ('LOS TRES POTRILLOS RESTAURANT', 0.7419354838709677)]\n",
        "----\n",
        "LOS POLLOS RESTAURANT"
       ]
      },
      {
       "output_type": "stream",
       "stream": "stdout",
       "text": [
        " ==> [('LOS POTRILLOS RESTAURANT', 0.7307692307692307)]\n",
        "----\n",
        "LOS POTRILLOS RESTAURANT"
       ]
      },
      {
       "output_type": "stream",
       "stream": "stdout",
       "text": [
        " ==> [('LOS TRES POTRILLOS RESTAURANT', 0.8571428571428571), ('LOS 2 POTRILLOS RESTAURANT', 0.8518518518518519), ('LOS 3 POTRILLOS RESTAURANT', 0.8518518518518519), ('LOS POLLOS RESTAURANT', 0.7307692307692307)]\n",
        "----\n",
        "LOS TRES POTRILLOS RESTAURANT"
       ]
      },
      {
       "output_type": "stream",
       "stream": "stdout",
       "text": [
        " ==> [('LOS POTRILLOS RESTAURANT', 0.8571428571428571), ('LOS 2 POTRILLOS RESTAURANT', 0.7419354838709677), ('LOS 3 POTRILLOS RESTAURANT', 0.7419354838709677)]\n",
        "----\n",
        "LUCKY 11 BAKERY"
       ]
      },
      {
       "output_type": "stream",
       "stream": "stdout",
       "text": [
        " ==> [('LUCKY BAKERY', 0.7222222222222222)]\n",
        "----\n",
        "LUCKY BAKERY"
       ]
      },
      {
       "output_type": "stream",
       "stream": "stdout",
       "text": [
        " ==> [('LUCKY 11 BAKERY', 0.7222222222222222)]\n",
        "----\n",
        "LUCKY CHEN CHINESE RESTAURANT"
       ]
      },
      {
       "output_type": "stream",
       "stream": "stdout",
       "text": [
        " ==> [('LUCKY CHINESE RESTAURANT', 0.8666666666666667), ('LUCKY STAR CHINESE RESTAURANT', 0.7142857142857143)]\n",
        "----\n",
        "LUCKY CHINESE RESTAURANT"
       ]
      },
      {
       "output_type": "stream",
       "stream": "stdout",
       "text": [
        " ==> [('LUCKY CHEN CHINESE RESTAURANT', 0.8666666666666667), ('LUCKY STAR CHINESE RESTAURANT', 0.8064516129032258), ('LUCKY NO.1 CHINESE RESTAURANT', 0.78125), ('NEW LUCKY CHINESE RESTAURANT', 0.75)]\n",
        "----\n",
        "LUCKY NO.1 CHINESE RESTAURANT"
       ]
      },
      {
       "output_type": "stream",
       "stream": "stdout",
       "text": [
        " ==> [('LUCKY CHINESE RESTAURANT', 0.78125)]\n",
        "----\n",
        "LUCKY RESTAURANT"
       ]
      },
      {
       "output_type": "stream",
       "stream": "stdout",
       "text": [
        " ==> [('LUCKY STAR RESTAURANT', 0.7391304347826086)]\n",
        "----\n",
        "LUCKY STAR CHINESE RESTAURANT"
       ]
      },
      {
       "output_type": "stream",
       "stream": "stdout",
       "text": [
        " ==> [('LUCKY STAR CHINESE RESTURANT', 0.875), ('LUCKY CHINESE RESTAURANT', 0.8064516129032258), ('LUCKY CHEN CHINESE RESTAURANT', 0.7142857142857143)]\n",
        "----\n",
        "LUCKY STAR CHINESE RESTURANT"
       ]
      },
      {
       "output_type": "stream",
       "stream": "stdout",
       "text": [
        " ==> [('LUCKY STAR CHINESE RESTAURANT', 0.875)]\n",
        "----\n",
        "LUCKY STAR RESTAURANT"
       ]
      },
      {
       "output_type": "stream",
       "stream": "stdout",
       "text": [
        " ==> [('LUCKY RESTAURANT', 0.7391304347826086), ('401 LUCKY STAR RESTAURANT', 0.7142857142857143)]\n",
        "----\n",
        "LUIGI PIZZERIA"
       ]
      },
      {
       "output_type": "stream",
       "stream": "stdout",
       "text": [
        " ==> [('LUIGIS PIZZERIA', 0.7368421052631579)]\n",
        "----\n",
        "LUIGI'S PIZZA"
       ]
      },
      {
       "output_type": "stream",
       "stream": "stdout",
       "text": [
        " ==> [('LUIGIS PIZZA', 0.7058823529411765)]\n",
        "----\n",
        "LUIGI'S PIZZERIA"
       ]
      },
      {
       "output_type": "stream",
       "stream": "stdout",
       "text": [
        " ==> [('LUIGIS PIZZERIA', 0.75)]\n",
        "----\n",
        "LUIGIS PIZZA"
       ]
      },
      {
       "output_type": "stream",
       "stream": "stdout",
       "text": [
        " ==> [(\"LUIGI'S PIZZA\", 0.7058823529411765)]\n",
        "----\n",
        "LUIGIS PIZZERIA"
       ]
      },
      {
       "output_type": "stream",
       "stream": "stdout",
       "text": [
        " ==> [(\"LUIGI'S PIZZERIA\", 0.75), ('LUIGI PIZZERIA', 0.7368421052631579)]\n",
        "----\n",
        "LUKE'S LOBSTER"
       ]
      },
      {
       "output_type": "stream",
       "stream": "stdout",
       "text": [
        " ==> [('LUKES LOBSTER', 0.7222222222222222)]\n",
        "----\n",
        "LUKES LOBSTER"
       ]
      },
      {
       "output_type": "stream",
       "stream": "stdout",
       "text": [
        " ==> [(\"LUKE'S LOBSTER\", 0.7222222222222222)]\n",
        "----\n",
        "LULO'S COLOMBIAN RESTAURANT & BAKERY"
       ]
      },
      {
       "output_type": "stream",
       "stream": "stdout",
       "text": [
        " ==> [('COLOMBIAN RESTAURANT & BAKERY', 0.725)]\n",
        "----\n",
        "LY'S CHINESE RESTAURANT"
       ]
      },
      {
       "output_type": "stream",
       "stream": "stdout",
       "text": [
        " ==> [(\"LIN'S CHINESE RESTAURANT\", 0.7586206896551724), (\"KEILLY'S CHINESE RESTAURANT\", 0.7419354838709677), (\"RANDY'S CHINESE RESTAURANT\", 0.7333333333333333)]\n",
        "----\n",
        "M & K SPANISH RESTAURANT"
       ]
      },
      {
       "output_type": "stream",
       "stream": "stdout",
       "text": [
        " ==> [('M & K SPANISH RESTAURANT II', 0.7741935483870968), ('M & K SPANISH RESTAURANT BAR', 0.75)]\n",
        "----\n",
        "M & K SPANISH RESTAURANT BAR"
       ]
      },
      {
       "output_type": "stream",
       "stream": "stdout",
       "text": [
        " ==> [('M & K SPANISH RESTAURANT', 0.75), ('M & K SPANISH RESTAURANT II', 0.7352941176470589)]\n",
        "----\n",
        "M & K SPANISH RESTAURANT II"
       ]
      },
      {
       "output_type": "stream",
       "stream": "stdout",
       "text": [
        " ==> [('M & K SPANISH RESTAURANT', 0.7741935483870968), ('M & K SPANISH RESTAURANT BAR', 0.7352941176470589)]\n",
        "----\n",
        "MADINA RESTAURANT"
       ]
      },
      {
       "output_type": "stream",
       "stream": "stdout",
       "text": [
        " ==> [('MARINA RESTAURANT', 0.7272727272727273)]\n",
        "----\n",
        "MADISON GARDEN BEER PUB"
       ]
      },
      {
       "output_type": "stream",
       "stream": "stdout",
       "text": [
        " ==> [('MADISON GARDEN BEER PUB 2', 0.7931034482758621)]\n",
        "----\n",
        "MADISON GARDEN BEER PUB 2"
       ]
      },
      {
       "output_type": "stream",
       "stream": "stdout",
       "text": [
        " ==> [('MADISON GARDEN BEER PUB', 0.7931034482758621)]\n",
        "----\n",
        "MALECON RESTAURANT"
       ]
      },
      {
       "output_type": "stream",
       "stream": "stdout",
       "text": [
        " ==> [('EL MALECON RESTAURANT', 0.72)]\n",
        "----\n",
        "MAMA FRIED CHICKEN"
       ]
      },
      {
       "output_type": "stream",
       "stream": "stdout",
       "text": [
        " ==> [('MAMAS FRIED CHICKEN', 0.782608695652174), (\"MAMA'S FRIED CHICKEN\", 0.75)]\n",
        "----\n",
        "MAMA MIA PIZZA"
       ]
      },
      {
       "output_type": "stream",
       "stream": "stdout",
       "text": [
        " ==> [('MAMMA MIA PIZZA', 0.8333333333333334)]\n",
        "----\n",
        "MAMA'S EMPANADAS"
       ]
      },
      {
       "output_type": "stream",
       "stream": "stdout",
       "text": [
        " ==> [('MAMAS EMPANADAS', 0.75)]\n",
        "----\n",
        "MAMA'S FRIED CHICKEN"
       ]
      },
      {
       "output_type": "stream",
       "stream": "stdout",
       "text": [
        " ==> [('MAMAS FRIED CHICKEN', 0.7916666666666666), ('MAMA FRIED CHICKEN', 0.75)]\n",
        "----\n",
        "MAMAS EMPANADAS"
       ]
      },
      {
       "output_type": "stream",
       "stream": "stdout",
       "text": [
        " ==> [(\"MAMA'S EMPANADAS\", 0.75)]\n",
        "----\n",
        "MAMAS FRIED CHICKEN"
       ]
      },
      {
       "output_type": "stream",
       "stream": "stdout",
       "text": [
        " ==> [(\"MAMA'S FRIED CHICKEN\", 0.7916666666666666), ('MAMA FRIED CHICKEN', 0.782608695652174)]\n",
        "----\n",
        "MAMMA MIA PIZZA"
       ]
      },
      {
       "output_type": "stream",
       "stream": "stdout",
       "text": [
        " ==> [('MAMA MIA PIZZA', 0.8333333333333334), (\"MAMMA MIA'S PIZZA\", 0.7142857142857143)]\n",
        "----\n",
        "MAMMA MIA'S PIZZA"
       ]
      },
      {
       "output_type": "stream",
       "stream": "stdout",
       "text": [
        " ==> [('MAMMA MIA PIZZA', 0.7142857142857143)]\n",
        "----\n",
        "MANGO RESTAURANT"
       ]
      },
      {
       "output_type": "stream",
       "stream": "stdout",
       "text": [
        " ==> [('MANGO SEED RESTAURANT', 0.7083333333333334)]\n",
        "----\n",
        "MANGO SEED RESTAURANT"
       ]
      },
      {
       "output_type": "stream",
       "stream": "stdout",
       "text": [
        " ==> [('MANGO RESTAURANT', 0.7083333333333334)]\n",
        "----\n",
        "MANGOS PARADISE SMOOTHIE"
       ]
      },
      {
       "output_type": "stream",
       "stream": "stdout",
       "text": [
        " ==> [('MANGOS PARADISE SMOOTHIES', 0.8275862068965517)]\n",
        "----\n",
        "MANGOS PARADISE SMOOTHIES"
       ]
      },
      {
       "output_type": "stream",
       "stream": "stdout",
       "text": [
        " ==> [('MANGOS PARADISE SMOOTHIE', 0.8275862068965517)]\n",
        "----\n",
        "MANHATANVILLE COFFEE"
       ]
      },
      {
       "output_type": "stream",
       "stream": "stdout",
       "text": [
        " ==> [('MANHATTANVILLE COFFEE', 0.875)]\n",
        "----\n",
        "MANHATTANVILLE COFFEE"
       ]
      },
      {
       "output_type": "stream",
       "stream": "stdout",
       "text": [
        " ==> [('MANHATANVILLE COFFEE', 0.875)]\n",
        "----\n",
        "MANI MANI RESTAURANT"
       ]
      },
      {
       "output_type": "stream",
       "stream": "stdout",
       "text": [
        " ==> [('MARANI RESTAURANT', 0.7619047619047619)]\n",
        "----\n",
        "MANNY'S CAFE FAMILY RESTAURANT"
       ]
      },
      {
       "output_type": "stream",
       "stream": "stdout",
       "text": [
        " ==> [(\"MANNY'S FAMILY RESTAURANT\", 0.7878787878787878)]\n",
        "----\n",
        "MANNY'S FAMILY RESTAURANT"
       ]
      },
      {
       "output_type": "stream",
       "stream": "stdout",
       "text": [
        " ==> [(\"MANNY'S CAFE FAMILY RESTAURANT\", 0.7878787878787878)]\n",
        "----\n",
        "MARANI RESTAURANT"
       ]
      },
      {
       "output_type": "stream",
       "stream": "stdout",
       "text": [
        " ==> [('MANI MANI RESTAURANT', 0.7619047619047619)]\n",
        "----\n",
        "MARINA RESTAURANT"
       ]
      },
      {
       "output_type": "stream",
       "stream": "stdout",
       "text": [
        " ==> [('MADINA RESTAURANT', 0.7272727272727273)]\n",
        "----\n",
        "MARIO'S PIZZERIA"
       ]
      },
      {
       "output_type": "stream",
       "stream": "stdout",
       "text": [
        " ==> [('MARIOS PIZZERIA', 0.75)]\n",
        "----\n",
        "MARIOS PIZZERIA"
       ]
      },
      {
       "output_type": "stream",
       "stream": "stdout",
       "text": [
        " ==> [(\"MARIO'S PIZZERIA\", 0.75)]\n",
        "----\n",
        "MARTHA'S COUNTRY BAKERY"
       ]
      },
      {
       "output_type": "stream",
       "stream": "stdout",
       "text": [
        " ==> [('MARTHAS COUNTRY BAKERY', 0.8148148148148148)]\n",
        "----\n",
        "MARTHAS COUNTRY BAKERY"
       ]
      },
      {
       "output_type": "stream",
       "stream": "stdout",
       "text": [
        " ==> [(\"MARTHA'S COUNTRY BAKERY\", 0.8148148148148148)]\n",
        "----\n",
        "MARTINIELLO'S PIZZARIA"
       ]
      },
      {
       "output_type": "stream",
       "stream": "stdout",
       "text": [
        " ==> [(\"MARTINIELLO'S PIZZERIA\", 0.7777777777777778)]\n",
        "----\n",
        "MARTINIELLO'S PIZZERIA"
       ]
      },
      {
       "output_type": "stream",
       "stream": "stdout",
       "text": [
        " ==> [(\"MARTINIELLO'S PIZZARIA\", 0.7777777777777778)]\n",
        "----\n",
        "MATSU II SUSHI"
       ]
      },
      {
       "output_type": "stream",
       "stream": "stdout",
       "text": [
        " ==> [('MATSU SUSHI', 0.7058823529411765)]\n",
        "----\n",
        "MATSU SUSHI"
       ]
      },
      {
       "output_type": "stream",
       "stream": "stdout",
       "text": [
        " ==> [('MATSU II SUSHI', 0.7058823529411765)]\n",
        "----\n",
        "MBJ FOOD SERVICE"
       ]
      },
      {
       "output_type": "stream",
       "stream": "stdout",
       "text": [
        " ==> [('MBJ FOOD SERVICES', 0.7619047619047619)]\n",
        "----\n",
        "MBJ FOOD SERVICES"
       ]
      },
      {
       "output_type": "stream",
       "stream": "stdout",
       "text": [
        " ==> [('MBJ FOOD SERVICE', 0.7619047619047619)]\n",
        "----\n",
        "MCDONALD'S RESTAURANT"
       ]
      },
      {
       "output_type": "stream",
       "stream": "stdout",
       "text": [
        " ==> [('MCDONALDS RESTAURANT', 0.8)]\n",
        "----\n",
        "MCDONALDS RESTAURANT"
       ]
      },
      {
       "output_type": "stream",
       "stream": "stdout",
       "text": [
        " ==> [(\"MCDONALD'S RESTAURANT\", 0.8)]\n",
        "----\n",
        "MEE NOODLE & GRILL"
       ]
      },
      {
       "output_type": "stream",
       "stream": "stdout",
       "text": [
        " ==> [('MEE NOODLE SHOP & GRILL', 0.7307692307692307)]\n",
        "----\n",
        "MEE NOODLE SHOP & GRILL"
       ]
      },
      {
       "output_type": "stream",
       "stream": "stdout",
       "text": [
        " ==> [('MEE NOODLE & GRILL', 0.7307692307692307)]\n",
        "----\n",
        "MEI MEI CHINESE RESTAURANT"
       ]
      },
      {
       "output_type": "stream",
       "stream": "stdout",
       "text": [
        " ==> [('NEW MEI MEI CHINESE RESTAURANT', 0.7741935483870968), ('HO MEI CHINESE RESTAURANT', 0.7666666666666667)]\n",
        "----\n",
        "MERRY LAND BUFFET"
       ]
      },
      {
       "output_type": "stream",
       "stream": "stdout",
       "text": [
        " ==> [('MERRYLAND BUFFET', 0.7619047619047619)]\n",
        "----\n",
        "MERRYLAND BUFFET"
       ]
      },
      {
       "output_type": "stream",
       "stream": "stdout",
       "text": [
        " ==> [('MERRY LAND BUFFET', 0.7619047619047619)]\n",
        "----\n",
        "METATE MEXICAN RESTAURANT"
       ]
      },
      {
       "output_type": "stream",
       "stream": "stdout",
       "text": [
        " ==> [('MEXICAN RESTAURANT', 0.7407407407407407)]\n",
        "----\n",
        "MEXICAN RESTAURANT"
       ]
      },
      {
       "output_type": "stream",
       "stream": "stdout",
       "text": [
        " ==> [('METATE MEXICAN RESTAURANT', 0.7407407407407407)]\n",
        "----\n",
        "MEZCAL'S DOS RESTAURANT"
       ]
      },
      {
       "output_type": "stream",
       "stream": "stdout",
       "text": [
        " ==> [(\"MEZCAL'S RESTAURANT\", 0.84)]\n",
        "----\n",
        "MEZCAL'S RESTAURANT"
       ]
      },
      {
       "output_type": "stream",
       "stream": "stdout",
       "text": [
        " ==> [(\"MEZCAL'S DOS RESTAURANT\", 0.84), ('MEZCALS RESTAURANT', 0.782608695652174)]\n",
        "----\n",
        "MEZCALS RESTAURANT"
       ]
      },
      {
       "output_type": "stream",
       "stream": "stdout",
       "text": [
        " ==> [(\"MEZCAL'S RESTAURANT\", 0.782608695652174)]\n",
        "----\n",
        "MI CASTILLO RESTAURANT"
       ]
      },
      {
       "output_type": "stream",
       "stream": "stdout",
       "text": [
        " ==> [('CASTILLO RESTAURANT', 0.7307692307692307), ('EL CASTILLO RESTAURANT', 0.7142857142857143)]\n",
        "----\n",
        "MI ESTRELLA RESTAURANT"
       ]
      },
      {
       "output_type": "stream",
       "stream": "stdout",
       "text": [
        " ==> [('LA ESTRELLA RESTAURANT', 0.7307692307692307)]\n",
        "----\n",
        "MING WOK KITCHEN"
       ]
      },
      {
       "output_type": "stream",
       "stream": "stdout",
       "text": [
        " ==> [('KING WOK KITCHEN', 0.7142857142857143)]\n",
        "----\n",
        "MING WONG RESTAURANT"
       ]
      },
      {
       "output_type": "stream",
       "stream": "stdout",
       "text": [
        " ==> [('HING WONG RESTAURANT', 0.75), ('SHING WONG RESTAURANT', 0.72)]\n",
        "----\n",
        "MINI SHABU SHABU"
       ]
      },
      {
       "output_type": "stream",
       "stream": "stdout",
       "text": [
        " ==> [('MINNI SHABU SHABU', 0.8125)]\n",
        "----\n",
        "MINNI SHABU SHABU"
       ]
      },
      {
       "output_type": "stream",
       "stream": "stdout",
       "text": [
        " ==> [('MINI SHABU SHABU', 0.8125)]\n",
        "----\n",
        "MIRADOR RESTAURANT"
       ]
      },
      {
       "output_type": "stream",
       "stream": "stdout",
       "text": [
        " ==> [('EL MIRADOR RESTAURANT', 0.72)]\n",
        "----\n",
        "MITCHELL'S KITCHEN"
       ]
      },
      {
       "output_type": "stream",
       "stream": "stdout",
       "text": [
        " ==> [(\"HELL'S KITCHEN\", 0.7368421052631579)]\n",
        "----\n",
        "MMM...THAT'S A WRAP"
       ]
      },
      {
       "output_type": "stream",
       "stream": "stdout",
       "text": [
        " ==> [('MMM...THATS A WRAP', 0.782608695652174)]\n",
        "----\n",
        "MMM...THATS A WRAP"
       ]
      },
      {
       "output_type": "stream",
       "stream": "stdout",
       "text": [
        " ==> [(\"MMM...THAT'S A WRAP\", 0.782608695652174)]\n",
        "----\n",
        "MOE'S SOUTHWEST GRIIL"
       ]
      },
      {
       "output_type": "stream",
       "stream": "stdout",
       "text": [
        " ==> [(\"MOE'S SOUTHWEST GRILL\", 0.7692307692307693)]\n",
        "----\n",
        "MOE'S SOUTHWEST GRILL"
       ]
      },
      {
       "output_type": "stream",
       "stream": "stdout",
       "text": [
        " ==> [(\"MOE'S SOUTHWEST GRIIL\", 0.7692307692307693)]\n",
        "----\n",
        "MOMOFUKU MILK BAR"
       ]
      },
      {
       "output_type": "stream",
       "stream": "stdout",
       "text": [
        " ==> [('MOMOFUKU MILK BAR CG', 0.7083333333333334), ('MOMOFUKU MILK BAR EV', 0.7083333333333334)]\n",
        "----\n",
        "MOMOFUKU MILK BAR CG"
       ]
      },
      {
       "output_type": "stream",
       "stream": "stdout",
       "text": [
        " ==> [('MOMOFUKU MILK BAR', 0.7083333333333334)]\n",
        "----\n",
        "MOMOFUKU MILK BAR EV"
       ]
      },
      {
       "output_type": "stream",
       "stream": "stdout",
       "text": [
        " ==> [('MOMOFUKU MILK BAR', 0.7083333333333334)]\n",
        "----\n",
        "MONA'S BAKERY & CAFE"
       ]
      },
      {
       "output_type": "stream",
       "stream": "stdout",
       "text": [
        " ==> [(\"ANA'S BAKERY & CAFE\", 0.72)]\n",
        "----\n",
        "MOON HOUSE CHINESE RESTAURANT"
       ]
      },
      {
       "output_type": "stream",
       "stream": "stdout",
       "text": [
        " ==> [('DRAGON HOUSE CHINESE RESTAURANT', 0.7222222222222222)]\n",
        "----\n",
        "MORNING STAR RESTAURANT"
       ]
      },
      {
       "output_type": "stream",
       "stream": "stdout",
       "text": [
        " ==> [('MORNINGSTAR RESTAURANT', 0.8076923076923077)]\n",
        "----\n",
        "MORNINGSTAR RESTAURANT"
       ]
      },
      {
       "output_type": "stream",
       "stream": "stdout",
       "text": [
        " ==> [('MORNING STAR RESTAURANT', 0.8076923076923077)]\n",
        "----\n",
        "MORTON'S STEAKHOUSE"
       ]
      },
      {
       "output_type": "stream",
       "stream": "stdout",
       "text": [
        " ==> [(\"MORTON'S THE STEAKHOUSE\", 0.7692307692307693)]\n",
        "----\n",
        "MORTON'S THE STEAKHOUSE"
       ]
      },
      {
       "output_type": "stream",
       "stream": "stdout",
       "text": [
        " ==> [(\"MORTON'S STEAKHOUSE\", 0.7692307692307693)]\n",
        "----\n",
        "MR CHANG'S RESTAURANT"
       ]
      },
      {
       "output_type": "stream",
       "stream": "stdout",
       "text": [
        " ==> [('MR CHANS RESTAURANT', 0.76)]\n",
        "----\n",
        "MR CHANS RESTAURANT"
       ]
      },
      {
       "output_type": "stream",
       "stream": "stdout",
       "text": [
        " ==> [(\"MR CHANG'S RESTAURANT\", 0.76)]\n",
        "----\n",
        "MS CARIDAD RESTAURANT"
       ]
      },
      {
       "output_type": "stream",
       "stream": "stdout",
       "text": [
        " ==> [('CARIDAD RESTAURANT', 0.72), ('LA CARIDAD RESTAURANT', 0.7037037037037037)]\n",
        "----\n",
        "NANOS RESTAURANT"
       ]
      },
      {
       "output_type": "stream",
       "stream": "stdout",
       "text": [
        " ==> [('NINOS RESTAURANT', 0.7142857142857143)]\n",
        "----\n",
        "NAPOLI PIZZA & PASTA"
       ]
      },
      {
       "output_type": "stream",
       "stream": "stdout",
       "text": [
        " ==> [('NAPOLI PIZZA AND PASTA', 0.7037037037037037)]\n",
        "----\n",
        "NAPOLI PIZZA AND PASTA"
       ]
      },
      {
       "output_type": "stream",
       "stream": "stdout",
       "text": [
        " ==> [('NAPOLI PIZZA & PASTA', 0.7037037037037037)]\n",
        "----\n",
        "NATHAN'S FAMOUS"
       ]
      },
      {
       "output_type": "stream",
       "stream": "stdout",
       "text": [
        " ==> [('NATHANS FAMOUS', 0.7368421052631579)]\n",
        "----\n",
        "NATHANS FAMOUS"
       ]
      },
      {
       "output_type": "stream",
       "stream": "stdout",
       "text": [
        " ==> [(\"NATHAN'S FAMOUS\", 0.7368421052631579)]\n",
        "----\n",
        "NATIONAL BAKERY"
       ]
      },
      {
       "output_type": "stream",
       "stream": "stdout",
       "text": [
        " ==> [('NB. NATIONAL BAKERY', 0.7272727272727273)]\n",
        "----\n",
        "NB. NATIONAL BAKERY"
       ]
      },
      {
       "output_type": "stream",
       "stream": "stdout",
       "text": [
        " ==> [('NATIONAL BAKERY', 0.7272727272727273)]\n",
        "----\n",
        "NEW 21 CHINESE KITCHEN"
       ]
      },
      {
       "output_type": "stream",
       "stream": "stdout",
       "text": [
        " ==> [('NEW CHINA CHINESE KITCHEN', 0.7142857142857143)]\n",
        "----\n",
        "NEW 86 WONG RESTAURANT"
       ]
      },
      {
       "output_type": "stream",
       "stream": "stdout",
       "text": [
        " ==> [('NEW WONG RESTAURANT', 0.8)]\n",
        "----\n",
        "NEW ASTORIA PARK PIZZERIA & RESTAURANT"
       ]
      },
      {
       "output_type": "stream",
       "stream": "stdout",
       "text": [
        " ==> [('NEW PARK PIZZERIA & RESTAURANT', 0.7948717948717948)]\n",
        "----\n",
        "NEW CENTURY CHINESE RESTAURANT"
       ]
      },
      {
       "output_type": "stream",
       "stream": "stdout",
       "text": [
        " ==> [('CENTURY CHINESE RESTAURANT', 0.7647058823529411)]\n",
        "----\n",
        "NEW CHENG'S ORIENTAL EXPRESS"
       ]
      },
      {
       "output_type": "stream",
       "stream": "stdout",
       "text": [
        " ==> [(\"CHENG'S ORIENTAL EXPRESS\", 0.75)]\n",
        "----\n",
        "NEW CHEUN HING KITCHEN"
       ]
      },
      {
       "output_type": "stream",
       "stream": "stdout",
       "text": [
        " ==> [('NEW CHEUNG HING KITCHEN', 0.84)]\n",
        "----\n",
        "NEW CHEUNG HING KITCHEN"
       ]
      },
      {
       "output_type": "stream",
       "stream": "stdout",
       "text": [
        " ==> [('NEW CHEUN HING KITCHEN', 0.84)]\n",
        "----\n",
        "NEW CHINA CHINESE KITCHEN"
       ]
      },
      {
       "output_type": "stream",
       "stream": "stdout",
       "text": [
        " ==> [('NEW CHINA KITCHEN', 0.72), ('NEW 21 CHINESE KITCHEN', 0.7142857142857143)]\n",
        "----\n",
        "NEW CHINA FRESH RESTAURANT"
       ]
      },
      {
       "output_type": "stream",
       "stream": "stdout",
       "text": [
        " ==> [('NEW CHINA RESTAURANT', 0.75)]\n",
        "----\n",
        "NEW CHINA GARDEN RESTAURANT"
       ]
      },
      {
       "output_type": "stream",
       "stream": "stdout",
       "text": [
        " ==> [('CHINA GARDEN RESTAURANT', 0.7419354838709677), ('NEW GARDEN RESTAURANT', 0.7333333333333333)]\n",
        "----\n",
        "NEW CHINA KING RESTAURANT"
       ]
      },
      {
       "output_type": "stream",
       "stream": "stdout",
       "text": [
        " ==> [('NEW CHINA RESTAURANT', 0.75), ('NEW CHINA TUNG RESTAURANT', 0.7419354838709677), ('CHINA KING RESTAURANT', 0.7241379310344828)]\n",
        "----\n",
        "NEW CHINA KITCHEN"
       ]
      },
      {
       "output_type": "stream",
       "stream": "stdout",
       "text": [
        " ==> [('NEW CHINA CHINESE KITCHEN', 0.72)]\n",
        "----\n",
        "NEW CHINA ONE RESTAURANT"
       ]
      },
      {
       "output_type": "stream",
       "stream": "stdout",
       "text": [
        " ==> [('NEW CHINA RESTAURANT', 0.7777777777777778), ('CHINA ONE RESTAURANT', 0.7142857142857143)]\n",
        "----\n",
        "NEW CHINA RESTAURANT"
       ]
      },
      {
       "output_type": "stream",
       "stream": "stdout",
       "text": [
        " ==> [('NEW CHINA ONE RESTAURANT', 0.7777777777777778), ('NEW CHINA FRESH RESTAURANT', 0.75), ('NEW CHINA KING RESTAURANT', 0.75), ('NEW CHINA TUNG RESTAURANT', 0.75), ('NEW GREAT CHINA RESTAURANT', 0.7241379310344828), ('NEW CHINATOWN RESTAURANT', 0.7142857142857143)]\n",
        "----\n",
        "NEW CHINA TUNG RESTAURANT"
       ]
      },
      {
       "output_type": "stream",
       "stream": "stdout",
       "text": [
        " ==> [('NEW CHINA RESTAURANT', 0.75), ('NEW CHINA KING RESTAURANT', 0.7419354838709677)]\n",
        "----\n",
        "NEW CHINATOWN RESTAURANT"
       ]
      },
      {
       "output_type": "stream",
       "stream": "stdout",
       "text": [
        " ==> [('CHINATOWN RESTAURANT', 0.7142857142857143), ('NEW CHINA RESTAURANT', 0.7142857142857143)]\n",
        "----\n",
        "NEW CHOY HING RESTAURANT"
       ]
      },
      {
       "output_type": "stream",
       "stream": "stdout",
       "text": [
        " ==> [('NEW HING RESTAURANT', 0.7407407407407407)]\n",
        "----\n",
        "NEW DE XING CHINESE RESTAURANT"
       ]
      },
      {
       "output_type": "stream",
       "stream": "stdout",
       "text": [
        " ==> [('NEW FU XING CHINESE RESTAURANT', 0.7777777777777778)]\n",
        "----\n",
        "NEW DOUBLE CHINESE RESTAURANT"
       ]
      },
      {
       "output_type": "stream",
       "stream": "stdout",
       "text": [
        " ==> [('NY DOUBLE CHINESE RESTAURANT', 0.7941176470588235), ('NEW DOUBLE DRAGON CHINESE RESTAURANT', 0.7692307692307693)]\n",
        "----\n",
        "NEW DOUBLE DRAGON CHINESE RESTAURANT"
       ]
      },
      {
       "output_type": "stream",
       "stream": "stdout",
       "text": [
        " ==> [('DOUBLE DRAGON CHINESE RESTAURANT', 0.8), ('NEW DOUBLE CHINESE RESTAURANT', 0.7692307692307693), ('2647 DOUBLE DRAGON CHINESE RESTAURANT', 0.75)]\n",
        "----\n",
        "NEW DRAGON CITY KITCHEN"
       ]
      },
      {
       "output_type": "stream",
       "stream": "stdout",
       "text": [
        " ==> [('NEW DRAGON KITCHEN', 0.7307692307692307)]\n",
        "----\n",
        "NEW DRAGON KITCHEN"
       ]
      },
      {
       "output_type": "stream",
       "stream": "stdout",
       "text": [
        " ==> [('NEW DRAGON CITY KITCHEN', 0.7307692307692307)]\n",
        "----\n",
        "NEW DRAGON RESTAURANT"
       ]
      },
      {
       "output_type": "stream",
       "stream": "stdout",
       "text": [
        " ==> [('NEW KING DRAGON RESTAURANT', 0.7586206896551724)]\n",
        "----\n",
        "NEW FOOD KING CHINESE RESTAURANT"
       ]
      },
      {
       "output_type": "stream",
       "stream": "stdout",
       "text": [
        " ==> [('FOOD KING CHINESE RESTAURANT', 0.7777777777777778), ('NEW HOOD HING CHINESE RESTAURANT', 0.717948717948718)]\n",
        "----\n",
        "NEW FRESCO TORTILLAS"
       ]
      },
      {
       "output_type": "stream",
       "stream": "stdout",
       "text": [
        " ==> [('NEW FRESCO TORTILLAS 2', 0.7692307692307693)]\n",
        "----\n",
        "NEW FRESCO TORTILLAS 2"
       ]
      },
      {
       "output_type": "stream",
       "stream": "stdout",
       "text": [
        " ==> [('NEW FRESCO TORTILLAS', 0.7692307692307693)]\n",
        "----\n",
        "NEW FU XING CHINESE RESTAURANT"
       ]
      },
      {
       "output_type": "stream",
       "stream": "stdout",
       "text": [
        " ==> [('NEW DE XING CHINESE RESTAURANT', 0.7777777777777778)]\n",
        "----\n",
        "NEW GARDEN CHINESE RESTAURANT"
       ]
      },
      {
       "output_type": "stream",
       "stream": "stdout",
       "text": [
        " ==> [('KEW GARDEN CHINESE RESTAURANT', 0.8235294117647058), ('NEW KING GARDEN CHINESE RESTAURANT', 0.8108108108108109), ('NEW KINGS GARDEN CHINESE RESTAURANT', 0.7894736842105263), ('BEST GARDEN CHINESE RESTAURANT', 0.7222222222222222), ('CHINA GARDEN CHINESE RESTAURANT', 0.7222222222222222), ('LEE GARDEN CHINESE RESTAURANT', 0.7222222222222222), ('HOME GARDEN CHINESE RESTAURANT', 0.7027027027027027), ('KING GARDEN CHINESE RESTAURANT', 0.7027027027027027), ('REGO GARDEN CHINESE RESTAURANT', 0.7027027027027027)]\n",
        "----\n",
        "NEW GARDEN RESTAURANT"
       ]
      },
      {
       "output_type": "stream",
       "stream": "stdout",
       "text": [
        " ==> [('NEW CHINA GARDEN RESTAURANT', 0.7333333333333333), (\"NEW LIN'S GARDEN RESTAURANT\", 0.7333333333333333), ('NEW SUNNY GARDEN RESTAURANT', 0.7333333333333333), (\"NEW WAN'S GARDEN RESTAURANT\", 0.7333333333333333), ('NEW SPRING GARDEN RESTAURANT', 0.7096774193548387), ('NEW GOLDEN RESTAURANT', 0.7037037037037037)]\n",
        "----\n",
        "NEW GOLDEN  RESTAURANT"
       ]
      },
      {
       "output_type": "stream",
       "stream": "stdout",
       "text": [
        " ==> [('NEW GOLDEN RESTAURANT', 0.88), ('NEW GOLDEN STAR RESTAURANT', 0.7586206896551724)]\n",
        "----\n",
        "NEW GOLDEN CHOPSTICK CHINESE RESTAURANT"
       ]
      },
      {
       "output_type": "stream",
       "stream": "stdout",
       "text": [
        " ==> [('GOLDEN CHOPSTICKS CHINESE RESTAURANT', 0.7111111111111111)]\n",
        "----\n",
        "NEW GOLDEN RESTAURANT"
       ]
      },
      {
       "output_type": "stream",
       "stream": "stdout",
       "text": [
        " ==> [('NEW GOLDEN  RESTAURANT', 0.88), ('NEW GOLDEN STAR RESTAURANT', 0.7857142857142857), ('NEW GARDEN RESTAURANT', 0.7037037037037037)]\n",
        "----\n",
        "NEW GOLDEN STAR RESTAURANT"
       ]
      },
      {
       "output_type": "stream",
       "stream": "stdout",
       "text": [
        " ==> [('NEW GOLDEN RESTAURANT', 0.7857142857142857), ('NEW GOLDEN  RESTAURANT', 0.7586206896551724)]\n",
        "----\n",
        "NEW GOOD TASTE CHINESE RESTAURANT"
       ]
      },
      {
       "output_type": "stream",
       "stream": "stdout",
       "text": [
        " ==> [('GOOD TASTE CHINESE RESTAURANT', 0.7837837837837838), ('YMC GOOD TASTE CHINESE RESTAURANT', 0.75)]\n",
        "----\n",
        "NEW GREAT CHINA RESTAURANT"
       ]
      },
      {
       "output_type": "stream",
       "stream": "stdout",
       "text": [
        " ==> [('NEW CHINA RESTAURANT', 0.7241379310344828)]\n",
        "----\n",
        "NEW GREAT TASTE RESTAURANT"
       ]
      },
      {
       "output_type": "stream",
       "stream": "stdout",
       "text": [
        " ==> [('NEW TASTE RESTAURANT', 0.7241379310344828)]\n",
        "----\n",
        "NEW GREAT WALL CHINESE RESTAURANT"
       ]
      },
      {
       "output_type": "stream",
       "stream": "stdout",
       "text": [
        " ==> [('GREAT WALL CHINESE RESTAURANT', 0.7837837837837838), ('NEW GREAT WALL RESTAURANT', 0.7222222222222222)]\n",
        "----\n",
        "NEW GREAT WALL RESTAURANT"
       ]
      },
      {
       "output_type": "stream",
       "stream": "stdout",
       "text": [
        " ==> [('GREAT WALL RESTAURANT', 0.7241379310344828), ('NEW GREAT WALL CHINESE RESTAURANT', 0.7222222222222222)]\n",
        "----\n",
        "NEW HAPPINESS RESTAURANT"
       ]
      },
      {
       "output_type": "stream",
       "stream": "stdout",
       "text": [
        " ==> [('HAPPINESS RESTAURANT', 0.7142857142857143)]\n",
        "----\n",
        "NEW HING LONG RESTAURANT"
       ]
      },
      {
       "output_type": "stream",
       "stream": "stdout",
       "text": [
        " ==> [('NEW HING RESTAURANT', 0.84), ('NEW HUNG HING RESTAURANT', 0.7241379310344828)]\n",
        "----\n",
        "NEW HING RESTAURANT"
       ]
      },
      {
       "output_type": "stream",
       "stream": "stdout",
       "text": [
        " ==> [('NEW HING LONG RESTAURANT', 0.84), ('NEW HUNG HING RESTAURANT', 0.84), ('NEW LI HING RESTAURANT', 0.8), ('NEW TUNG HING RESTAURANT', 0.7692307692307693), ('NEW CHOY HING RESTAURANT', 0.7407407407407407)]\n",
        "----\n",
        "NEW HON WONG RESTAURANT"
       ]
      },
      {
       "output_type": "stream",
       "stream": "stdout",
       "text": [
        " ==> [('NEW HONG RONG RESTAURANT', 0.7777777777777778), ('NEW WONG RESTAURANT', 0.7692307692307693)]\n",
        "----\n",
        "NEW HONG CHEONG RESTAURANT"
       ]
      },
      {
       "output_type": "stream",
       "stream": "stdout",
       "text": [
        " ==> [('NEW HONG RONG RESTAURANT', 0.75)]\n",
        "----\n",
        "NEW HONG KONG RESTAURANT I"
       ]
      },
      {
       "output_type": "stream",
       "stream": "stdout",
       "text": [
        " ==> [('NEW HONG KONG RESTAURANT II', 0.8928571428571429)]\n",
        "----\n",
        "NEW HONG KONG RESTAURANT II"
       ]
      },
      {
       "output_type": "stream",
       "stream": "stdout",
       "text": [
        " ==> [('NEW HONG KONG RESTAURANT I', 0.8928571428571429)]\n",
        "----\n",
        "NEW HONG RONG RESTAURANT"
       ]
      },
      {
       "output_type": "stream",
       "stream": "stdout",
       "text": [
        " ==> [('NEW HON WONG RESTAURANT', 0.7777777777777778), ('NEW HONG CHEONG RESTAURANT', 0.75), ('NEW RONG HANG RESTAURANT', 0.7142857142857143)]\n",
        "----\n",
        "NEW HOOD HING CHINESE RESTAURANT"
       ]
      },
      {
       "output_type": "stream",
       "stream": "stdout",
       "text": [
        " ==> [('NEW FOOD KING CHINESE RESTAURANT', 0.717948717948718), ('NEW KEE HING CHINESE RESTAURANT', 0.7105263157894737)]\n",
        "----\n",
        "NEW HUNG HING RESTAURANT"
       ]
      },
      {
       "output_type": "stream",
       "stream": "stdout",
       "text": [
        " ==> [('NEW HING RESTAURANT', 0.84), ('NEW TUNG HING RESTAURANT', 0.7857142857142857), ('NEW HING LONG RESTAURANT', 0.7241379310344828)]\n",
        "----\n",
        "NEW JADE CHINESE RESTAURANT"
       ]
      },
      {
       "output_type": "stream",
       "stream": "stdout",
       "text": [
        " ==> [('NEW JADE PALACE CHINESE RESTAURANT', 0.8055555555555556)]\n",
        "----\n",
        "NEW JADE PALACE CHINESE RESTAURANT"
       ]
      },
      {
       "output_type": "stream",
       "stream": "stdout",
       "text": [
        " ==> [('NEW JADE CHINESE RESTAURANT', 0.8055555555555556)]\n",
        "----\n",
        "NEW JOY KITCHEN CHINESE RESTAURANT"
       ]
      },
      {
       "output_type": "stream",
       "stream": "stdout",
       "text": [
        " ==> [('JOY KITCHEN CHINESE RESTAURANT', 0.7894736842105263)]\n",
        "----\n",
        "NEW KEE HING CHINESE RESTAURANT"
       ]
      },
      {
       "output_type": "stream",
       "stream": "stdout",
       "text": [
        " ==> [('NEW HOOD HING CHINESE RESTAURANT', 0.7105263157894737), ('NEW SHUN HING CHINESE RESTAURANT', 0.7105263157894737)]\n",
        "----\n",
        "NEW KING DRAGON RESTAURANT"
       ]
      },
      {
       "output_type": "stream",
       "stream": "stdout",
       "text": [
        " ==> [('NEW DRAGON RESTAURANT', 0.7586206896551724)]\n",
        "----\n",
        "NEW KING GARDEN"
       ]
      },
      {
       "output_type": "stream",
       "stream": "stdout",
       "text": [
        " ==> [('NEW PEKING GARDEN', 0.7142857142857143)]\n",
        "----\n",
        "NEW KING GARDEN CHINESE RESTAURANT"
       ]
      },
      {
       "output_type": "stream",
       "stream": "stdout",
       "text": [
        " ==> [('NEW KINGS GARDEN CHINESE RESTAURANT', 0.8717948717948718), ('NEW GARDEN CHINESE RESTAURANT', 0.8108108108108109), ('KING GARDEN CHINESE RESTAURANT', 0.7894736842105263), ('SPRING GARDEN CHINESE RESTAURANT', 0.7073170731707317)]\n",
        "----\n",
        "NEW KING WOK RESTAURANT"
       ]
      },
      {
       "output_type": "stream",
       "stream": "stdout",
       "text": [
        " ==> [('KING WOK RESTAURANT', 0.7037037037037037)]\n",
        "----\n",
        "NEW KINGS GARDEN CHINESE RESTAURANT"
       ]
      },
      {
       "output_type": "stream",
       "stream": "stdout",
       "text": [
        " ==> [('NEW KING GARDEN CHINESE RESTAURANT', 0.8717948717948718), ('NEW GARDEN CHINESE RESTAURANT', 0.7894736842105263)]\n",
        "----\n",
        "NEW LI HING RESTAURANT"
       ]
      },
      {
       "output_type": "stream",
       "stream": "stdout",
       "text": [
        " ==> [('NEW HING RESTAURANT', 0.8)]\n",
        "----\n",
        "NEW LIN'S GARDEN RESTAURANT"
       ]
      },
      {
       "output_type": "stream",
       "stream": "stdout",
       "text": [
        " ==> [(\"NEW WAN'S GARDEN RESTAURANT\", 0.7575757575757576), (\"LIN'S GARDEN RESTAURANT\", 0.7419354838709677), ('NEW GARDEN RESTAURANT', 0.7333333333333333)]\n",
        "----\n",
        "NEW LUCKY CHINESE RESTAURANT"
       ]
      },
      {
       "output_type": "stream",
       "stream": "stdout",
       "text": [
        " ==> [('LUCKY CHINESE RESTAURANT', 0.75)]\n",
        "----\n",
        "NEW MALAYSIA RESTAURANT"
       ]
      },
      {
       "output_type": "stream",
       "stream": "stdout",
       "text": [
        " ==> [('WEST NEW MALAYSIA RESTAURANT', 0.7419354838709677)]\n",
        "----\n",
        "NEW MEI MEI CHINESE RESTAURANT"
       ]
      },
      {
       "output_type": "stream",
       "stream": "stdout",
       "text": [
        " ==> [('NEW YA MEI CHINESE RESTAURANT', 0.8181818181818182), ('MEI MEI CHINESE RESTAURANT', 0.7741935483870968)]\n",
        "----\n",
        "NEW NO 1 CHINESE RESTAURANT"
       ]
      },
      {
       "output_type": "stream",
       "stream": "stdout",
       "text": [
        " ==> [('NEW NO. 1 CHINESE RESTAURANT', 0.84375), ('NEW NO.1 CHINESE RESTAURANT', 0.8125), ('NO 1 CHINESE RESTAURANT', 0.8), ('NEW NO.8 CHINESE RESTAURANT', 0.7575757575757576)]\n",
        "----\n",
        "NEW NO. 1 CHINESE RESTAURANT"
       ]
      },
      {
       "output_type": "stream",
       "stream": "stdout",
       "text": [
        " ==> [('NEW NO 1 CHINESE RESTAURANT', 0.84375), ('NEW NO.1 CHINESE RESTAURANT', 0.84375), ('NO. 1 CHINESE RESTAURANT', 0.8064516129032258), ('NEW NO.8 CHINESE RESTAURANT', 0.7878787878787878), ('CHINA NO. 1 CHINESE RESTAURANT', 0.7142857142857143)]\n",
        "----\n",
        "NEW NO. 1 RESTAURANT"
       ]
      },
      {
       "output_type": "stream",
       "stream": "stdout",
       "text": [
        " ==> [('NO. 1 RESTAURANT', 0.7391304347826086)]\n",
        "----\n",
        "NEW NO.1 CHINESE RESTAURANT"
       ]
      },
      {
       "output_type": "stream",
       "stream": "stdout",
       "text": [
        " ==> [('NEW NO. 1 CHINESE RESTAURANT', 0.84375), ('NEW NO 1 CHINESE RESTAURANT', 0.8125), ('NEW NO.8 CHINESE RESTAURANT', 0.8125), ('NO.1 CHINESE RESTAURANT', 0.8)]\n",
        "----\n",
        "NEW NO.8 CHINESE RESTAURANT"
       ]
      },
      {
       "output_type": "stream",
       "stream": "stdout",
       "text": [
        " ==> [('NEW NO.1 CHINESE RESTAURANT', 0.8125), ('NEW NO. 1 CHINESE RESTAURANT', 0.7878787878787878), ('NEW NO 1 CHINESE RESTAURANT', 0.7575757575757576)]\n",
        "----\n",
        "NEW PARK PIZZERIA & RESTAURANT"
       ]
      },
      {
       "output_type": "stream",
       "stream": "stdout",
       "text": [
        " ==> [('NEW ASTORIA PARK PIZZERIA & RESTAURANT', 0.7948717948717948)]\n",
        "----\n",
        "NEW PEKING GARDEN"
       ]
      },
      {
       "output_type": "stream",
       "stream": "stdout",
       "text": [
        " ==> [('NEW KING GARDEN', 0.7142857142857143)]\n",
        "----\n",
        "NEW RAINBOW CHINESE RESTAURANT"
       ]
      },
      {
       "output_type": "stream",
       "stream": "stdout",
       "text": [
        " ==> [('RAINBOW CHINESE RESTAURANT', 0.7647058823529411), ('NEW RAINBOW RESTAURANT', 0.71875)]\n",
        "----\n",
        "NEW RAINBOW RESTAURANT"
       ]
      },
      {
       "output_type": "stream",
       "stream": "stdout",
       "text": [
        " ==> [('NEW RAINBOW CHINESE RESTAURANT', 0.71875)]\n",
        "----\n",
        "NEW RED APPLE RESTAURANT"
       ]
      },
      {
       "output_type": "stream",
       "stream": "stdout",
       "text": [
        " ==> [('RED APPLE RESTAURANT', 0.7407407407407407)]\n",
        "----\n",
        "NEW RONG HANG RESTAURANT"
       ]
      },
      {
       "output_type": "stream",
       "stream": "stdout",
       "text": [
        " ==> [('NEW HONG RONG RESTAURANT', 0.7142857142857143)]\n",
        "----\n",
        "NEW SHUN HING CHINESE RESTAURANT"
       ]
      },
      {
       "output_type": "stream",
       "stream": "stdout",
       "text": [
        " ==> [('NEW KEE HING CHINESE RESTAURANT', 0.7105263157894737)]\n",
        "----\n",
        "NEW SPRING GARDEN RESTAURANT"
       ]
      },
      {
       "output_type": "stream",
       "stream": "stdout",
       "text": [
        " ==> [('SPRING GARDEN RESTAURANT', 0.75), ('NEW GARDEN RESTAURANT', 0.7096774193548387)]\n",
        "----\n",
        "NEW SUNNY GARDEN RESTAURANT"
       ]
      },
      {
       "output_type": "stream",
       "stream": "stdout",
       "text": [
        " ==> [('NEW GARDEN RESTAURANT', 0.7333333333333333)]\n",
        "----\n",
        "NEW SUSHI Q JAPANESE RESTAURANT"
       ]
      },
      {
       "output_type": "stream",
       "stream": "stdout",
       "text": [
        " ==> [('SUSHI Q JAPANESE RESTAURANT', 0.7714285714285715)]\n",
        "----\n",
        "NEW TASTE RESTAURANT"
       ]
      },
      {
       "output_type": "stream",
       "stream": "stdout",
       "text": [
        " ==> [('NEW GREAT TASTE RESTAURANT', 0.7241379310344828)]\n",
        "----\n",
        "NEW TUNG HING RESTAURANT"
       ]
      },
      {
       "output_type": "stream",
       "stream": "stdout",
       "text": [
        " ==> [('NEW HUNG HING RESTAURANT', 0.7857142857142857), ('NEW HING RESTAURANT', 0.7692307692307693)]\n",
        "----\n",
        "NEW WAN'S GARDEN RESTAURANT"
       ]
      },
      {
       "output_type": "stream",
       "stream": "stdout",
       "text": [
        " ==> [(\"NEW LIN'S GARDEN RESTAURANT\", 0.7575757575757576), ('NEW GARDEN RESTAURANT', 0.7333333333333333)]\n",
        "----\n",
        "NEW WING WAH BAKERY"
       ]
      },
      {
       "output_type": "stream",
       "stream": "stdout",
       "text": [
        " ==> [('NEW WONG WAH BAKERY', 0.75)]\n",
        "----\n",
        "NEW WONG RESTAURANT"
       ]
      },
      {
       "output_type": "stream",
       "stream": "stdout",
       "text": [
        " ==> [('NEW 86 WONG RESTAURANT', 0.8), ('NEW HON WONG RESTAURANT', 0.7692307692307693), ('NEW WONJO RESTAURANT', 0.72)]\n",
        "----\n",
        "NEW WONG WAH BAKERY"
       ]
      },
      {
       "output_type": "stream",
       "stream": "stdout",
       "text": [
        " ==> [('NEW WING WAH BAKERY', 0.75)]\n",
        "----\n",
        "NEW WONJO RESTAURANT"
       ]
      },
      {
       "output_type": "stream",
       "stream": "stdout",
       "text": [
        " ==> [('NEW WONG RESTAURANT', 0.72)]\n",
        "----\n",
        "NEW YA MEI CHINESE RESTAURANT"
       ]
      },
      {
       "output_type": "stream",
       "stream": "stdout",
       "text": [
        " ==> [('NEW MEI MEI CHINESE RESTAURANT', 0.8181818181818182)]\n",
        "----\n",
        "NEW YORK CAFETERIA"
       ]
      },
      {
       "output_type": "stream",
       "stream": "stdout",
       "text": [
        " ==> [('NEW YORK POST CAFETERIA', 0.7307692307692307)]\n",
        "----\n",
        "NEW YORK FRIED CHICKEN"
       ]
      },
      {
       "output_type": "stream",
       "stream": "stdout",
       "text": [
        " ==> [('BIG NEW YORK FRIED CHICKEN', 0.7333333333333333)]\n",
        "----\n",
        "NEW YORK POST CAFETERIA"
       ]
      },
      {
       "output_type": "stream",
       "stream": "stdout",
       "text": [
        " ==> [('NEW YORK CAFETERIA', 0.7307692307692307)]\n",
        "----\n",
        "NEW YORK UNIVERSITY - LAW SCHOOL"
       ]
      },
      {
       "output_type": "stream",
       "stream": "stdout",
       "text": [
        " ==> [('NEW YORK UNIVERSITY - LAW SCHOOL CAFE', 0.7804878048780488)]\n",
        "----\n",
        "NEW YORK UNIVERSITY - LAW SCHOOL CAFE"
       ]
      },
      {
       "output_type": "stream",
       "stream": "stdout",
       "text": [
        " ==> [('NEW YORK UNIVERSITY - LAW SCHOOL', 0.7804878048780488)]\n",
        "----\n",
        "NICK'S PIZZA"
       ]
      },
      {
       "output_type": "stream",
       "stream": "stdout",
       "text": [
        " ==> [(\"NICKY'S PIZZA\", 0.7058823529411765)]\n",
        "----\n",
        "NICK'S RESTAURANT PIZZERIA"
       ]
      },
      {
       "output_type": "stream",
       "stream": "stdout",
       "text": [
        " ==> [(\"NINA'S RESTAURANT PIZZERIA\", 0.75)]\n",
        "----\n",
        "NICKY'S PIZZA"
       ]
      },
      {
       "output_type": "stream",
       "stream": "stdout",
       "text": [
        " ==> [(\"NICK'S PIZZA\", 0.7058823529411765)]\n",
        "----\n",
        "NICOLA'S RESTAURANT"
       ]
      },
      {
       "output_type": "stream",
       "stream": "stdout",
       "text": [
        " ==> [(\"COLA'S RESTAURANT\", 0.7391304347826086)]\n",
        "----\n",
        "NINA'S RESTAURANT PIZZERIA"
       ]
      },
      {
       "output_type": "stream",
       "stream": "stdout",
       "text": [
        " ==> [(\"NICK'S RESTAURANT PIZZERIA\", 0.75)]\n",
        "----\n",
        "NINO'S RESTAURANT"
       ]
      },
      {
       "output_type": "stream",
       "stream": "stdout",
       "text": [
        " ==> [('NINOS RESTAURANT', 0.7619047619047619)]\n",
        "----\n",
        "NINOS RESTAURANT"
       ]
      },
      {
       "output_type": "stream",
       "stream": "stdout",
       "text": [
        " ==> [(\"NINO'S RESTAURANT\", 0.7619047619047619), ('NIOS RESTAURANT', 0.75), ('NANOS RESTAURANT', 0.7142857142857143)]\n",
        "----\n",
        "NIOS RESTAURANT"
       ]
      },
      {
       "output_type": "stream",
       "stream": "stdout",
       "text": [
        " ==> [('NINOS RESTAURANT', 0.75)]\n",
        "----\n",
        "NO 1 CHINESE RESTAURANT"
       ]
      },
      {
       "output_type": "stream",
       "stream": "stdout",
       "text": [
        " ==> [('NO. 1 CHINESE RESTAURANT', 0.8214285714285714), ('NO1 CHINESE RESTAURANT', 0.8148148148148148), ('NEW NO 1 CHINESE RESTAURANT', 0.8), ('NO 1 WOK CHINESE RESTAURANT', 0.8), ('NO 8 CHINESE RESTAURANT', 0.7857142857142857), ('NO.1 CHINESE RESTAURANT', 0.7857142857142857)]\n",
        "----\n",
        "NO 1 RESTAURANT"
       ]
      },
      {
       "output_type": "stream",
       "stream": "stdout",
       "text": [
        " ==> [('NO. 1 RESTAURANT', 0.75)]\n",
        "----\n",
        "NO 1 WOK CHINESE RESTAURANT"
       ]
      },
      {
       "output_type": "stream",
       "stream": "stdout",
       "text": [
        " ==> [('NO 1 CHINESE RESTAURANT', 0.8), ('WOK CHINESE RESTAURANT', 0.7096774193548387)]\n",
        "----\n",
        "NO 8 CHINESE RESTAURANT"
       ]
      },
      {
       "output_type": "stream",
       "stream": "stdout",
       "text": [
        " ==> [('NO 1 CHINESE RESTAURANT', 0.7857142857142857), ('NO1 CHINESE RESTAURANT', 0.75), ('NO.1 CHINESE RESTAURANT', 0.7241379310344828), ('88 CHINESE RESTAURANT', 0.7142857142857143)]\n",
        "----\n",
        "NO PORK HALAL KITCHEN CHINESE RESTAURANT"
       ]
      },
      {
       "output_type": "stream",
       "stream": "stdout",
       "text": [
        " ==> [('NO PORK KITCHEN CHINESE RESTAURANT', 0.813953488372093)]\n",
        "----\n",
        "NO PORK KITCHEN CHINESE RESTAURANT"
       ]
      },
      {
       "output_type": "stream",
       "stream": "stdout",
       "text": [
        " ==> [('NO PORK HALAL KITCHEN CHINESE RESTAURANT', 0.813953488372093), ('NO.1 KITCHEN CHINESE RESTAURANT', 0.725)]\n",
        "----\n",
        "NO. 1 CHINESE RESTAURANT"
       ]
      },
      {
       "output_type": "stream",
       "stream": "stdout",
       "text": [
        " ==> [('NO 1 CHINESE RESTAURANT', 0.8214285714285714), ('NO.1 CHINESE RESTAURANT', 0.8214285714285714), ('NEW NO. 1 CHINESE RESTAURANT', 0.8064516129032258), ('NO1 CHINESE RESTAURANT', 0.7857142857142857), ('NO. 1 HUNAN CHINESE RESTAURANT', 0.7575757575757576), ('CHINA NO. 1 CHINESE RESTAURANT', 0.75)]\n",
        "----\n",
        "NO. 1 HUNAN CHINESE RESTAURANT"
       ]
      },
      {
       "output_type": "stream",
       "stream": "stdout",
       "text": [
        " ==> [('NO. 1 CHINESE RESTAURANT', 0.7575757575757576), ('HUNAN CHINESE RESTAURANT', 0.7058823529411765)]\n",
        "----\n",
        "NO. 1 KITCHEN"
       ]
      },
      {
       "output_type": "stream",
       "stream": "stdout",
       "text": [
        " ==> [('NO.1 KITCHEN', 0.7058823529411765)]\n",
        "----\n",
        "NO. 1 RESTAURANT"
       ]
      },
      {
       "output_type": "stream",
       "stream": "stdout",
       "text": [
        " ==> [('NO 1 RESTAURANT', 0.75), ('NO.1 RESTAURANT', 0.75), ('NEW NO. 1 RESTAURANT', 0.7391304347826086)]\n",
        "----\n",
        "NO.1 CHINESE RESTAURANT"
       ]
      },
      {
       "output_type": "stream",
       "stream": "stdout",
       "text": [
        " ==> [('NO. 1 CHINESE RESTAURANT', 0.8214285714285714), ('NO1 CHINESE RESTAURANT', 0.8148148148148148), ('NEW NO.1 CHINESE RESTAURANT', 0.8), ('NO 1 CHINESE RESTAURANT', 0.7857142857142857), ('NO 8 CHINESE RESTAURANT', 0.7241379310344828), ('NO.1 KITCHEN CHINESE RESTAURANT', 0.7058823529411765)]\n",
        "----\n",
        "NO.1 KITCHEN"
       ]
      },
      {
       "output_type": "stream",
       "stream": "stdout",
       "text": [
        " ==> [('NO. 1 KITCHEN', 0.7058823529411765)]\n",
        "----\n",
        "NO.1 KITCHEN CHINESE RESTAURANT"
       ]
      },
      {
       "output_type": "stream",
       "stream": "stdout",
       "text": [
        " ==> [('NO PORK KITCHEN CHINESE RESTAURANT', 0.725), ('JOY KITCHEN CHINESE RESTAURANT', 0.7105263157894737), ('NO.1 CHINESE RESTAURANT', 0.7058823529411765)]\n",
        "----\n",
        "NO.1 RESTAURANT"
       ]
      },
      {
       "output_type": "stream",
       "stream": "stdout",
       "text": [
        " ==> [('NO. 1 RESTAURANT', 0.75)]\n",
        "----\n",
        "NO1 CHINESE RESTAURANT"
       ]
      },
      {
       "output_type": "stream",
       "stream": "stdout",
       "text": [
        " ==> [('NO 1 CHINESE RESTAURANT', 0.8148148148148148), ('NO.1 CHINESE RESTAURANT', 0.8148148148148148), ('NO. 1 CHINESE RESTAURANT', 0.7857142857142857), ('NO 8 CHINESE RESTAURANT', 0.75)]\n",
        "----\n",
        "NY DOUBLE CHINESE RESTAURANT"
       ]
      },
      {
       "output_type": "stream",
       "stream": "stdout",
       "text": [
        " ==> [('NEW DOUBLE CHINESE RESTAURANT', 0.7941176470588235), ('D & B DOUBLE CHINESE RESTAURANT', 0.7027027027027027)]\n",
        "----\n",
        "O'SAKE JAPANESE RESTAURANT"
       ]
      },
      {
       "output_type": "stream",
       "stream": "stdout",
       "text": [
        " ==> [('SAKE JAPANESE RESTAURANT', 0.8)]\n",
        "----\n",
        "OAXACA TAQUERIA"
       ]
      },
      {
       "output_type": "stream",
       "stream": "stdout",
       "text": [
        " ==> [('OAXACA TAQUERITA', 0.75)]\n",
        "----\n",
        "OAXACA TAQUERITA"
       ]
      },
      {
       "output_type": "stream",
       "stream": "stdout",
       "text": [
        " ==> [('OAXACA TAQUERIA', 0.75)]\n",
        "----\n",
        "OBICA MOZZARELLA BAR"
       ]
      },
      {
       "output_type": "stream",
       "stream": "stdout",
       "text": [
        " ==> [('OBIKA MOZZARELLA BAR', 0.76)]\n",
        "----\n",
        "OBIKA MOZZARELLA BAR"
       ]
      },
      {
       "output_type": "stream",
       "stream": "stdout",
       "text": [
        " ==> [('OBICA MOZZARELLA BAR', 0.76)]\n",
        "----\n",
        "OH BAGEL CAFE"
       ]
      },
      {
       "output_type": "stream",
       "stream": "stdout",
       "text": [
        " ==> [('OH! BAGEL CAFE', 0.7222222222222222)]\n",
        "----\n",
        "OH HOT BAGELS & CAFE"
       ]
      },
      {
       "output_type": "stream",
       "stream": "stdout",
       "text": [
        " ==> [('HOT BAGELS & CAFE', 0.7083333333333334)]\n",
        "----\n",
        "OH! BAGEL CAFE"
       ]
      },
      {
       "output_type": "stream",
       "stream": "stdout",
       "text": [
        " ==> [('OH BAGEL CAFE', 0.7222222222222222)]\n",
        "----\n",
        "OLD JOHN'S LUNCHEONETTE"
       ]
      },
      {
       "output_type": "stream",
       "stream": "stdout",
       "text": [
        " ==> [(\"JOHN'S LUNCHEONETTE\", 0.7037037037037037)]\n",
        "----\n",
        "OMEN JAPANESE CUISINE"
       ]
      },
      {
       "output_type": "stream",
       "stream": "stdout",
       "text": [
        " ==> [('TEN JAPANESE CUISINE', 0.7307692307692307)]\n",
        "----\n",
        "OPIA RESTAURANT"
       ]
      },
      {
       "output_type": "stream",
       "stream": "stdout",
       "text": [
        " ==> [('UTOPIA RESTAURANT', 0.7142857142857143)]\n",
        "----\n",
        "ORIGINAL MAMA'S EMPANADAS"
       ]
      },
      {
       "output_type": "stream",
       "stream": "stdout",
       "text": [
        " ==> [('ORIGINAL MAMAS EMPANADAS', 0.8275862068965517)]\n",
        "----\n",
        "ORIGINAL MAMAS EMPANADAS"
       ]
      },
      {
       "output_type": "stream",
       "stream": "stdout",
       "text": [
        " ==> [(\"ORIGINAL MAMA'S EMPANADAS\", 0.8275862068965517)]\n",
        "----\n",
        "OSAKA JAPANESE RESTAURANT"
       ]
      },
      {
       "output_type": "stream",
       "stream": "stdout",
       "text": [
        " ==> [('YUKA JAPANESE RESTAURANT', 0.7096774193548387)]\n",
        "----\n",
        "OUTBACK STEAKHOUSE 3330"
       ]
      },
      {
       "output_type": "stream",
       "stream": "stdout",
       "text": [
        " ==> [('OUTBACK STEAKHOUSE 3332', 0.7857142857142857)]\n",
        "----\n",
        "OUTBACK STEAKHOUSE 3332"
       ]
      },
      {
       "output_type": "stream",
       "stream": "stdout",
       "text": [
        " ==> [('OUTBACK STEAKHOUSE 3330', 0.7857142857142857)]\n",
        "----\n",
        "PALACE FRIED CHICKEN"
       ]
      },
      {
       "output_type": "stream",
       "stream": "stdout",
       "text": [
        " ==> [('PLACE FRIED CHICKEN', 0.7916666666666666)]\n",
        "----\n",
        "PALACE RESTAURANT"
       ]
      },
      {
       "output_type": "stream",
       "stream": "stdout",
       "text": [
        " ==> [('88 PALACE RESTAURANT', 0.7083333333333334)]\n",
        "----\n",
        "PANADA RESTAURANT"
       ]
      },
      {
       "output_type": "stream",
       "stream": "stdout",
       "text": [
        " ==> [('PANDA RESTAURANT', 0.7619047619047619)]\n",
        "----\n",
        "PANCHO VILLA RESTAURANT"
       ]
      },
      {
       "output_type": "stream",
       "stream": "stdout",
       "text": [
        " ==> [('DON PANCHO VILLA RESTAURANT', 0.7419354838709677)]\n",
        "----\n",
        "PANDA CHINESE RESTAURANT"
       ]
      },
      {
       "output_type": "stream",
       "stream": "stdout",
       "text": [
        " ==> [('PANDA GARDEN CHINESE RESTAURANT', 0.7352941176470589), ('PANDA DELIGHT CHINESE RESTAURANT', 0.7142857142857143)]\n",
        "----\n",
        "PANDA DELIGHT CHINESE RESTAURANT"
       ]
      },
      {
       "output_type": "stream",
       "stream": "stdout",
       "text": [
        " ==> [('PANDA CHINESE RESTAURANT', 0.7142857142857143)]\n",
        "----\n",
        "PANDA GARDEN CHINESE RESTAURANT"
       ]
      },
      {
       "output_type": "stream",
       "stream": "stdout",
       "text": [
        " ==> [('PANDA CHINESE RESTAURANT', 0.7352941176470589), ('CHINA GARDEN CHINESE RESTAURANT', 0.7297297297297297), ('PANDA GARDEN RESTAURANT', 0.7058823529411765)]\n",
        "----\n",
        "PANDA GARDEN RESTAURANT"
       ]
      },
      {
       "output_type": "stream",
       "stream": "stdout",
       "text": [
        " ==> [('PANDA GARDEN CHINESE RESTAURANT', 0.7058823529411765)]\n",
        "----\n",
        "PANDA KING KITCHEN"
       ]
      },
      {
       "output_type": "stream",
       "stream": "stdout",
       "text": [
        " ==> [('PANDA KITCHEN', 0.7894736842105263)]\n",
        "----\n",
        "PANDA KITCHEN"
       ]
      },
      {
       "output_type": "stream",
       "stream": "stdout",
       "text": [
        " ==> [('PANDA KING KITCHEN', 0.7894736842105263)]\n",
        "----\n",
        "PANDA RESTAURANT"
       ]
      },
      {
       "output_type": "stream",
       "stream": "stdout",
       "text": [
        " ==> [('PANADA RESTAURANT', 0.7619047619047619)]\n",
        "----\n",
        "PAPA JOHN PIZZA"
       ]
      },
      {
       "output_type": "stream",
       "stream": "stdout",
       "text": [
        " ==> [('PAPA JOHNS PIZZA', 0.75), (\"PAPA JOHN'S PIZZA\", 0.7142857142857143)]\n",
        "----\n",
        "PAPA JOHN'S PIZZA"
       ]
      },
      {
       "output_type": "stream",
       "stream": "stdout",
       "text": [
        " ==> [('PAPA JOHNS PIZZA', 0.7619047619047619), ('PAPA JOHN PIZZA', 0.7142857142857143)]\n",
        "----\n",
        "PAPA JOHNS PIZZA"
       ]
      },
      {
       "output_type": "stream",
       "stream": "stdout",
       "text": [
        " ==> [(\"PAPA JOHN'S PIZZA\", 0.7619047619047619), ('PAPA JOHN PIZZA', 0.75)]\n",
        "----\n",
        "PARAISO AZTECA RESTAURANT"
       ]
      },
      {
       "output_type": "stream",
       "stream": "stdout",
       "text": [
        " ==> [('PARAISO AZTECA RESTAURANT & BAR', 0.7142857142857143)]\n",
        "----\n",
        "PARAISO AZTECA RESTAURANT & BAR"
       ]
      },
      {
       "output_type": "stream",
       "stream": "stdout",
       "text": [
        " ==> [('PARAISO AZTECA RESTAURANT', 0.7142857142857143)]\n",
        "----\n",
        "PARIS BAGUETTE & CAFE"
       ]
      },
      {
       "output_type": "stream",
       "stream": "stdout",
       "text": [
        " ==> [('PARIS BAGUETTE CAFE', 0.8333333333333334)]\n",
        "----\n",
        "PARIS BAGUETTE CAFE"
       ]
      },
      {
       "output_type": "stream",
       "stream": "stdout",
       "text": [
        " ==> [('PARIS BAGUETTE & CAFE', 0.8333333333333334)]\n",
        "----\n",
        "PARMA RESTAURANT"
       ]
      },
      {
       "output_type": "stream",
       "stream": "stdout",
       "text": [
        " ==> [('KARMA RESTAURANT', 0.7142857142857143)]\n",
        "----\n",
        "PASTA PASTA RESTAURANT"
       ]
      },
      {
       "output_type": "stream",
       "stream": "stdout",
       "text": [
        " ==> [('BASTA PASTA RESTAURANT', 0.7727272727272727), ('PIZZA PASTA RESTAURANT', 0.75)]\n",
        "----\n",
        "PATRON MEXICAN GRILL"
       ]
      },
      {
       "output_type": "stream",
       "stream": "stdout",
       "text": [
        " ==> [('EL PATRON MEXICAN GRILL', 0.7407407407407407)]\n",
        "----\n",
        "PATSY'S PIZZERIA"
       ]
      },
      {
       "output_type": "stream",
       "stream": "stdout",
       "text": [
        " ==> [('PATSYS PIZZERIA', 0.75)]\n",
        "----\n",
        "PATSYS PIZZERIA"
       ]
      },
      {
       "output_type": "stream",
       "stream": "stdout",
       "text": [
        " ==> [(\"PATSY'S PIZZERIA\", 0.75)]\n",
        "----\n",
        "PAUL'S RESTAURANT"
       ]
      },
      {
       "output_type": "stream",
       "stream": "stdout",
       "text": [
        " ==> [(\"PAULA'S RESTAURANT\", 0.7727272727272727)]\n",
        "----\n",
        "PAULA'S RESTAURANT"
       ]
      },
      {
       "output_type": "stream",
       "stream": "stdout",
       "text": [
        " ==> [(\"PAUL'S RESTAURANT\", 0.7727272727272727)]\n",
        "----\n",
        "PEOPLE'S POP'S"
       ]
      },
      {
       "output_type": "stream",
       "stream": "stdout",
       "text": [
        " ==> [(\"PEOPLE'S POPS\", 0.7222222222222222)]\n",
        "----\n",
        "PEOPLE'S POPS"
       ]
      },
      {
       "output_type": "stream",
       "stream": "stdout",
       "text": [
        " ==> [(\"PEOPLE'S POP'S\", 0.7222222222222222)]\n",
        "----\n",
        "PEPPINO'S PIZZERIA"
       ]
      },
      {
       "output_type": "stream",
       "stream": "stdout",
       "text": [
        " ==> [(\"PINO'S PIZZERIA\", 0.7619047619047619)]\n",
        "----\n",
        "PHO TAY HO 86 VIETNAMESE RESTAURANT"
       ]
      },
      {
       "output_type": "stream",
       "stream": "stdout",
       "text": [
        " ==> [('PHO VIETNAMESE RESTAURANT', 0.7027027027027027)]\n",
        "----\n",
        "PHO VIETNAMESE RESTAURANT"
       ]
      },
      {
       "output_type": "stream",
       "stream": "stdout",
       "text": [
        " ==> [('PHO TAY HO 86 VIETNAMESE RESTAURANT', 0.7027027027027027)]\n",
        "----\n",
        "PIA PIZZERIA"
       ]
      },
      {
       "output_type": "stream",
       "stream": "stdout",
       "text": [
        " ==> [('PIZZERIA', 0.7142857142857143), ('PISA PIZZERIA', 0.7058823529411765)]\n",
        "----\n",
        "PICK-A-BAGEL"
       ]
      },
      {
       "output_type": "stream",
       "stream": "stdout",
       "text": [
        " ==> [('PICK-A-BAGEL1', 0.7058823529411765)]\n",
        "----\n",
        "PICK-A-BAGEL1"
       ]
      },
      {
       "output_type": "stream",
       "stream": "stdout",
       "text": [
        " ==> [('PICK-A-BAGEL', 0.7058823529411765)]\n",
        "----\n",
        "PIERRE LOTI CAFE & WINE BAR"
       ]
      },
      {
       "output_type": "stream",
       "stream": "stdout",
       "text": [
        " ==> [('PIERRE LOTI CAFE WINE BAR', 0.8666666666666667)]\n",
        "----\n",
        "PIERRE LOTI CAFE WINE BAR"
       ]
      },
      {
       "output_type": "stream",
       "stream": "stdout",
       "text": [
        " ==> [('PIERRE LOTI CAFE & WINE BAR', 0.8666666666666667)]\n",
        "----\n",
        "PINO'S PIZZERIA"
       ]
      },
      {
       "output_type": "stream",
       "stream": "stdout",
       "text": [
        " ==> [(\"PEPPINO'S PIZZERIA\", 0.7619047619047619)]\n",
        "----\n",
        "PISA PIZZERIA"
       ]
      },
      {
       "output_type": "stream",
       "stream": "stdout",
       "text": [
        " ==> [('PIA PIZZERIA', 0.7058823529411765)]\n",
        "----\n",
        "PIZZA BOY I"
       ]
      },
      {
       "output_type": "stream",
       "stream": "stdout",
       "text": [
        " ==> [('PIZZA BOY II', 0.8)]\n",
        "----\n",
        "PIZZA BOY II"
       ]
      },
      {
       "output_type": "stream",
       "stream": "stdout",
       "text": [
        " ==> [('PIZZA BOY I', 0.8)]\n",
        "----\n",
        "PIZZA ITALIA"
       ]
      },
      {
       "output_type": "stream",
       "stream": "stdout",
       "text": [
        " ==> [('PIZZA ITALIAN', 0.7058823529411765)]\n",
        "----\n",
        "PIZZA ITALIAN"
       ]
      },
      {
       "output_type": "stream",
       "stream": "stdout",
       "text": [
        " ==> [('PIZZA ITALIA', 0.7058823529411765)]\n",
        "----\n",
        "PIZZA PASTA RESTAURANT"
       ]
      },
      {
       "output_type": "stream",
       "stream": "stdout",
       "text": [
        " ==> [('PASTA PASTA RESTAURANT', 0.75)]\n",
        "----\n",
        "PIZZERIA"
       ]
      },
      {
       "output_type": "stream",
       "stream": "stdout",
       "text": [
        " ==> [('PIA PIZZERIA', 0.7142857142857143)]\n",
        "----\n",
        "PIZZERIA RESTAURANT"
       ]
      },
      {
       "output_type": "stream",
       "stream": "stdout",
       "text": [
        " ==> [('BAY PIZZERIA RESTAURANT', 0.7037037037037037)]\n",
        "----\n",
        "PLACE FRIED CHICKEN"
       ]
      },
      {
       "output_type": "stream",
       "stream": "stdout",
       "text": [
        " ==> [('PALACE FRIED CHICKEN', 0.7916666666666666)]\n",
        "----\n",
        "POLLO A LA BRASA"
       ]
      },
      {
       "output_type": "stream",
       "stream": "stdout",
       "text": [
        " ==> [('POLLOS A LA BRASA', 0.7619047619047619)]\n",
        "----\n",
        "POLLOS A LA BARASA MARIO"
       ]
      },
      {
       "output_type": "stream",
       "stream": "stdout",
       "text": [
        " ==> [('POLLOS A LA BRASA MARIO', 0.8214285714285714), ('POLLOS A LA BRASA MR. MARIO', 0.71875)]\n",
        "----\n",
        "POLLOS A LA BRASA"
       ]
      },
      {
       "output_type": "stream",
       "stream": "stdout",
       "text": [
        " ==> [('POLLO A LA BRASA', 0.7619047619047619)]\n",
        "----\n",
        "POLLOS A LA BRASA MARIO"
       ]
      },
      {
       "output_type": "stream",
       "stream": "stdout",
       "text": [
        " ==> [('POLLOS A LA BRASA MR. MARIO', 0.8620689655172413), ('POLLOS A LA BARASA MARIO', 0.8214285714285714), ('POLLOS A LA BRASA MARION', 0.8214285714285714)]\n",
        "----\n",
        "POLLOS A LA BRASA MARION"
       ]
      },
      {
       "output_type": "stream",
       "stream": "stdout",
       "text": [
        " ==> [('POLLOS A LA BRASA MARIO', 0.8214285714285714), ('POLLOS A LA BRASA MR. MARIO', 0.71875)]\n",
        "----\n",
        "POLLOS A LA BRASA MR. MARIO"
       ]
      },
      {
       "output_type": "stream",
       "stream": "stdout",
       "text": [
        " ==> [('POLLOS A LA BRASA MARIO', 0.8620689655172413), ('POLLOS A LA BARASA MARIO', 0.71875), ('POLLOS A LA BRASA MARION', 0.71875)]\n",
        "----\n",
        "POLONIA RESTAURANT"
       ]
      },
      {
       "output_type": "stream",
       "stream": "stdout",
       "text": [
        " ==> [('POLONICA RESTAURANT', 0.782608695652174)]\n",
        "----\n",
        "POLONICA RESTAURANT"
       ]
      },
      {
       "output_type": "stream",
       "stream": "stdout",
       "text": [
        " ==> [('POLONIA RESTAURANT', 0.782608695652174)]\n",
        "----\n",
        "POPEYE'S CHICKEN & BISCUITS"
       ]
      },
      {
       "output_type": "stream",
       "stream": "stdout",
       "text": [
        " ==> [('POPEYES CHICKEN & BISCUITS', 0.8387096774193549)]\n",
        "----\n",
        "POPEYE'S LOUISIANA KITCHEN"
       ]
      },
      {
       "output_type": "stream",
       "stream": "stdout",
       "text": [
        " ==> [('POPEYES LOUISIANA KITCHEN', 0.8333333333333334)]\n",
        "----\n",
        "POPEYES CHICKEN & BISCUITS"
       ]
      },
      {
       "output_type": "stream",
       "stream": "stdout",
       "text": [
        " ==> [(\"POPEYE'S CHICKEN & BISCUITS\", 0.8387096774193549), ('POPEYES CHICKEN AND BISCUITS', 0.7575757575757576)]\n",
        "----\n",
        "POPEYES CHICKEN AND BISCUITS"
       ]
      },
      {
       "output_type": "stream",
       "stream": "stdout",
       "text": [
        " ==> [('POPEYES CHICKEN & BISCUITS', 0.7575757575757576)]\n",
        "----\n",
        "POPEYES LOUISIANA KITCHEN"
       ]
      },
      {
       "output_type": "stream",
       "stream": "stdout",
       "text": [
        " ==> [(\"POPEYE'S LOUISIANA KITCHEN\", 0.8333333333333334)]\n",
        "----\n",
        "PRINCE $1 PIZZA"
       ]
      },
      {
       "output_type": "stream",
       "stream": "stdout",
       "text": [
        " ==> [('PRINCE PIZZA', 0.7222222222222222)]\n",
        "----\n",
        "PRINCE PIZZA"
       ]
      },
      {
       "output_type": "stream",
       "stream": "stdout",
       "text": [
        " ==> [('PRINCE $1 PIZZA', 0.7222222222222222), ('PRINCE ST PIZZA', 0.7222222222222222)]\n",
        "----\n",
        "PRINCE ST PIZZA"
       ]
      },
      {
       "output_type": "stream",
       "stream": "stdout",
       "text": [
        " ==> [('PRINCE PIZZA', 0.7222222222222222)]\n",
        "----\n",
        "QUE SABROSURA RESTAURANT"
       ]
      },
      {
       "output_type": "stream",
       "stream": "stdout",
       "text": [
        " ==> [('SABROSURA RESTAURANT', 0.7037037037037037)]\n",
        "----\n",
        "QUISQUEYA BAR RESTAURANT"
       ]
      },
      {
       "output_type": "stream",
       "stream": "stdout",
       "text": [
        " ==> [('QUISQUEYA RESTAURANT', 0.7777777777777778), ('L. QUISQUEYA BAR RESTAURANT', 0.7741935483870968)]\n",
        "----\n",
        "QUISQUEYA RESTAURANT"
       ]
      },
      {
       "output_type": "stream",
       "stream": "stdout",
       "text": [
        " ==> [('QUISQUEYA BAR RESTAURANT', 0.7777777777777778)]\n",
        "----\n",
        "QUIZNO'S SUBS"
       ]
      },
      {
       "output_type": "stream",
       "stream": "stdout",
       "text": [
        " ==> [('QUIZNOS SUBS', 0.7058823529411765)]\n",
        "----\n",
        "QUIZNOS SUBS"
       ]
      },
      {
       "output_type": "stream",
       "stream": "stdout",
       "text": [
        " ==> [(\"QUIZNO'S SUBS\", 0.7058823529411765)]\n",
        "----\n",
        "RAINBOW CHINESE RESTAURANT"
       ]
      },
      {
       "output_type": "stream",
       "stream": "stdout",
       "text": [
        " ==> [('NEW RAINBOW CHINESE RESTAURANT', 0.7647058823529411)]\n",
        "----\n",
        "RAJ MAHAL INDIAN RESTAURANT"
       ]
      },
      {
       "output_type": "stream",
       "stream": "stdout",
       "text": [
        " ==> [('TAJ MAHAL INDIAN RESTAURANT', 0.8125)]\n",
        "----\n",
        "RALPH'S FAMOUS ITALIAN ICES"
       ]
      },
      {
       "output_type": "stream",
       "stream": "stdout",
       "text": [
        " ==> [(\"RALPH'S ITALIAN ICES\", 0.7586206896551724)]\n",
        "----\n",
        "RALPH'S ITALIAN ICES"
       ]
      },
      {
       "output_type": "stream",
       "stream": "stdout",
       "text": [
        " ==> [(\"RALPH'S FAMOUS ITALIAN ICES\", 0.7586206896551724)]\n",
        "----\n",
        "RANDY'S CHINESE RESTAURANT"
       ]
      },
      {
       "output_type": "stream",
       "stream": "stdout",
       "text": [
        " ==> [(\"LY'S CHINESE RESTAURANT\", 0.7333333333333333)]\n",
        "----\n",
        "RED APPLE RESTAURANT"
       ]
      },
      {
       "output_type": "stream",
       "stream": "stdout",
       "text": [
        " ==> [('NEW RED APPLE RESTAURANT', 0.7407407407407407)]\n",
        "----\n",
        "RED STAR RESTAURANT"
       ]
      },
      {
       "output_type": "stream",
       "stream": "stdout",
       "text": [
        " ==> [('RED STAR RESTAURANTS', 0.782608695652174)]\n",
        "----\n",
        "RED STAR RESTAURANTS"
       ]
      },
      {
       "output_type": "stream",
       "stream": "stdout",
       "text": [
        " ==> [('RED STAR RESTAURANT', 0.782608695652174)]\n",
        "----\n",
        "REGO GARDEN CHINESE RESTAURANT"
       ]
      },
      {
       "output_type": "stream",
       "stream": "stdout",
       "text": [
        " ==> [('BEST GARDEN CHINESE RESTAURANT', 0.7027027027027027), ('CHINA GARDEN CHINESE RESTAURANT', 0.7027027027027027), ('KEW GARDEN CHINESE RESTAURANT', 0.7027027027027027), ('LEE GARDEN CHINESE RESTAURANT', 0.7027027027027027), ('NEW GARDEN CHINESE RESTAURANT', 0.7027027027027027)]\n",
        "----\n",
        "REINA RESTAURANT"
       ]
      },
      {
       "output_type": "stream",
       "stream": "stdout",
       "text": [
        " ==> [('REYNA RESTAURANT', 0.7142857142857143)]\n",
        "----\n",
        "REME RESTAURANT"
       ]
      },
      {
       "output_type": "stream",
       "stream": "stdout",
       "text": [
        " ==> [('RESTAURANT', 0.7058823529411765)]\n",
        "----\n",
        "RESTAURANT"
       ]
      },
      {
       "output_type": "stream",
       "stream": "stdout",
       "text": [
        " ==> [('REME RESTAURANT', 0.7058823529411765)]\n",
        "----\n",
        "REYNA RESTAURANT"
       ]
      },
      {
       "output_type": "stream",
       "stream": "stdout",
       "text": [
        " ==> [('REINA RESTAURANT', 0.7142857142857143)]\n",
        "----\n",
        "RICE & BEANS RESTAURANT"
       ]
      },
      {
       "output_type": "stream",
       "stream": "stdout",
       "text": [
        " ==> [('RICE AND BEANS RESTAURANT', 0.7333333333333333)]\n",
        "----\n",
        "RICE AND BEANS RESTAURANT"
       ]
      },
      {
       "output_type": "stream",
       "stream": "stdout",
       "text": [
        " ==> [('RICE & BEANS RESTAURANT', 0.7333333333333333)]\n",
        "----\n",
        "RICHARD'S DINER & CATERING"
       ]
      },
      {
       "output_type": "stream",
       "stream": "stdout",
       "text": [
        " ==> [(\"RICHARD'S DINER AND CATERING\", 0.7575757575757576)]\n",
        "----\n",
        "RICHARD'S DINER AND CATERING"
       ]
      },
      {
       "output_type": "stream",
       "stream": "stdout",
       "text": [
        " ==> [(\"RICHARD'S DINER & CATERING\", 0.7575757575757576)]\n",
        "----\n",
        "RIZZO FINE PIZZA"
       ]
      },
      {
       "output_type": "stream",
       "stream": "stdout",
       "text": [
        " ==> [(\"RIZZO'S FINE PIZZA\", 0.7142857142857143)]\n",
        "----\n",
        "RIZZO'S FINE PIZZA"
       ]
      },
      {
       "output_type": "stream",
       "stream": "stdout",
       "text": [
        " ==> [('RIZZO FINE PIZZA', 0.7142857142857143)]\n",
        "----\n",
        "ROBUSTA  ESPRESSO BAR"
       ]
      },
      {
       "output_type": "stream",
       "stream": "stdout",
       "text": [
        " ==> [('ROBUSTA ESPRESSO BAR', 0.875)]\n",
        "----\n",
        "ROBUSTA ESPRESSO BAR"
       ]
      },
      {
       "output_type": "stream",
       "stream": "stdout",
       "text": [
        " ==> [('ROBUSTA  ESPRESSO BAR', 0.875)]\n",
        "----\n",
        "ROCCO'S PIZZA"
       ]
      },
      {
       "output_type": "stream",
       "stream": "stdout",
       "text": [
        " ==> [('ROCCOS PIZZA', 0.7058823529411765)]\n",
        "----\n",
        "ROCCO'S PIZZERIA"
       ]
      },
      {
       "output_type": "stream",
       "stream": "stdout",
       "text": [
        " ==> [(\"ROSCO'S PIZZERIA\", 0.7142857142857143)]\n",
        "----\n",
        "ROCCOS PIZZA"
       ]
      },
      {
       "output_type": "stream",
       "stream": "stdout",
       "text": [
        " ==> [(\"ROCCO'S PIZZA\", 0.7058823529411765)]\n",
        "----\n",
        "ROCKY'S I PIZZA & RESTAURANT"
       ]
      },
      {
       "output_type": "stream",
       "stream": "stdout",
       "text": [
        " ==> [(\"ROCKY'S PIZZA RESTAURANT\", 0.75)]\n",
        "----\n",
        "ROCKY'S PIZZA RESTAURANT"
       ]
      },
      {
       "output_type": "stream",
       "stream": "stdout",
       "text": [
        " ==> [(\"ROCKY'S I PIZZA & RESTAURANT\", 0.75)]\n",
        "----\n",
        "RONG SHENG CHINESE RESTAURANT"
       ]
      },
      {
       "output_type": "stream",
       "stream": "stdout",
       "text": [
        " ==> [('YONG SHENG CHINESE RESTAURANT', 0.8181818181818182)]\n",
        "----\n",
        "ROSCO'S PIZZERIA"
       ]
      },
      {
       "output_type": "stream",
       "stream": "stdout",
       "text": [
        " ==> [(\"ROCCO'S PIZZERIA\", 0.7142857142857143)]\n",
        "----\n",
        "ROYAL FRIED CHICKEN"
       ]
      },
      {
       "output_type": "stream",
       "stream": "stdout",
       "text": [
        " ==> [('ROYAL FRIED CHICKEN INC', 0.7037037037037037)]\n",
        "----\n",
        "ROYAL FRIED CHICKEN & PIZZA"
       ]
      },
      {
       "output_type": "stream",
       "stream": "stdout",
       "text": [
        " ==> [('HALAL FRIED CHICKEN & PIZZA', 0.7058823529411765)]\n",
        "----\n",
        "ROYAL FRIED CHICKEN INC"
       ]
      },
      {
       "output_type": "stream",
       "stream": "stdout",
       "text": [
        " ==> [('ROYAL FRIED CHICKEN', 0.7037037037037037)]\n",
        "----\n",
        "RUNNING COOL II RESTAURANT"
       ]
      },
      {
       "output_type": "stream",
       "stream": "stdout",
       "text": [
        " ==> [('RUNNING COOL RESTAURANT', 0.8275862068965517)]\n",
        "----\n",
        "RUNNING COOL RESTAURANT"
       ]
      },
      {
       "output_type": "stream",
       "stream": "stdout",
       "text": [
        " ==> [('RUNNING COOL II RESTAURANT', 0.8275862068965517)]\n",
        "----\n",
        "SABABA LOUNGE"
       ]
      },
      {
       "output_type": "stream",
       "stream": "stdout",
       "text": [
        " ==> [('SABANA LOUNGE', 0.7058823529411765)]\n",
        "----\n",
        "SABANA LOUNGE"
       ]
      },
      {
       "output_type": "stream",
       "stream": "stdout",
       "text": [
        " ==> [('SABABA LOUNGE', 0.7058823529411765)]\n",
        "----\n",
        "SABOR LATINO RESTAURANT"
       ]
      },
      {
       "output_type": "stream",
       "stream": "stdout",
       "text": [
        " ==> [('#1 SABOR LATINO RESTAURANT', 0.7666666666666667), ('SABOR LATINO SEAFOOD RESTAURANT', 0.7058823529411765)]\n",
        "----\n",
        "SABOR LATINO SEAFOOD RESTAURANT"
       ]
      },
      {
       "output_type": "stream",
       "stream": "stdout",
       "text": [
        " ==> [('SABOR LATINO RESTAURANT', 0.7058823529411765)]\n",
        "----\n",
        "SABROSURA 2 RESTAURANT"
       ]
      },
      {
       "output_type": "stream",
       "stream": "stdout",
       "text": [
        " ==> [('SABROSURA RESTAURANT', 0.8333333333333334)]\n",
        "----\n",
        "SABROSURA RESTAURANT"
       ]
      },
      {
       "output_type": "stream",
       "stream": "stdout",
       "text": [
        " ==> [('SABROSURA 2 RESTAURANT', 0.8333333333333334), ('QUE SABROSURA RESTAURANT', 0.7037037037037037)]\n",
        "----\n",
        "SAHARA EAST RESTAURANT"
       ]
      },
      {
       "output_type": "stream",
       "stream": "stdout",
       "text": [
        " ==> [('SAHARA RESTAURANT', 0.72)]\n",
        "----\n",
        "SAHARA RESTAURANT"
       ]
      },
      {
       "output_type": "stream",
       "stream": "stdout",
       "text": [
        " ==> [('SAHARA EAST RESTAURANT', 0.72)]\n",
        "----\n",
        "SAKE II JAPANESE RESTAURANT"
       ]
      },
      {
       "output_type": "stream",
       "stream": "stdout",
       "text": [
        " ==> [('SAKE JAPANESE RESTAURANT', 0.8333333333333334)]\n",
        "----\n",
        "SAKE JAPANESE CUISINE"
       ]
      },
      {
       "output_type": "stream",
       "stream": "stdout",
       "text": [
        " ==> [('SAKURA JAPANESE CUISINE', 0.7142857142857143)]\n",
        "----\n",
        "SAKE JAPANESE RESTAURANT"
       ]
      },
      {
       "output_type": "stream",
       "stream": "stdout",
       "text": [
        " ==> [('SAKE II JAPANESE RESTAURANT', 0.8333333333333334), (\"O'SAKE JAPANESE RESTAURANT\", 0.8), ('SAKURA JAPANESE RESTAURANT', 0.7666666666666667), ('SATO JAPANESE RESTAURANT', 0.7333333333333333), ('ISE JAPANESE RESTAURANT', 0.7241379310344828)]\n",
        "----\n",
        "SAKURA JAPANESE CUISINE"
       ]
      },
      {
       "output_type": "stream",
       "stream": "stdout",
       "text": [
        " ==> [('SAKE JAPANESE CUISINE', 0.7142857142857143)]\n",
        "----\n",
        "SAKURA JAPANESE RESTAURANT"
       ]
      },
      {
       "output_type": "stream",
       "stream": "stdout",
       "text": [
        " ==> [('SAKURA JAPENESE RESTAURANT', 0.8), ('SAKE JAPANESE RESTAURANT', 0.7666666666666667), ('SAKURA JAPANESE RESTAURANT 3118', 0.7352941176470589), ('SOSAKU JAPANESE RESTAURANT', 0.71875), ('AMURA JAPANESE RESTAURANT', 0.7096774193548387), ('SATO JAPANESE RESTAURANT', 0.7096774193548387)]\n",
        "----\n",
        "SAKURA JAPANESE RESTAURANT 3118"
       ]
      },
      {
       "output_type": "stream",
       "stream": "stdout",
       "text": [
        " ==> [('SAKURA JAPANESE RESTAURANT', 0.7352941176470589)]\n",
        "----\n",
        "SAKURA JAPENESE RESTAURANT"
       ]
      },
      {
       "output_type": "stream",
       "stream": "stdout",
       "text": [
        " ==> [('SAKURA JAPANESE RESTAURANT', 0.8)]\n",
        "----\n",
        "SAL'S RESTAURANT"
       ]
      },
      {
       "output_type": "stream",
       "stream": "stdout",
       "text": [
        " ==> [(\"SAM'S RESTAURANT\", 0.7142857142857143)]\n",
        "----\n",
        "SALUMERIA ROSI PARMACOTTO"
       ]
      },
      {
       "output_type": "stream",
       "stream": "stdout",
       "text": [
        " ==> [('SALUMERIA ROSSI PARMACOTTO', 0.896551724137931)]\n",
        "----\n",
        "SALUMERIA ROSSI PARMACOTTO"
       ]
      },
      {
       "output_type": "stream",
       "stream": "stdout",
       "text": [
        " ==> [('SALUMERIA ROSI PARMACOTTO', 0.896551724137931)]\n",
        "----\n",
        "SAM'S RESTAURANT"
       ]
      },
      {
       "output_type": "stream",
       "stream": "stdout",
       "text": [
        " ==> [(\"SAL'S RESTAURANT\", 0.7142857142857143)]\n",
        "----\n",
        "SAN FRANCISCO RESTAURANT"
       ]
      },
      {
       "output_type": "stream",
       "stream": "stdout",
       "text": [
        " ==> [('DON FRANCISCO RESTAURANT', 0.7241379310344828)]\n",
        "----\n",
        "SAN REMO PIZZA"
       ]
      },
      {
       "output_type": "stream",
       "stream": "stdout",
       "text": [
        " ==> [('SANREMO PIZZA', 0.7222222222222222)]\n",
        "----\n",
        "SANREMO PIZZA"
       ]
      },
      {
       "output_type": "stream",
       "stream": "stdout",
       "text": [
        " ==> [('SAN REMO PIZZA', 0.7222222222222222)]\n",
        "----\n",
        "SANTOS RESTAURANT"
       ]
      },
      {
       "output_type": "stream",
       "stream": "stdout",
       "text": [
        " ==> [('DESANTOS RESTAURANT', 0.7272727272727273)]\n",
        "----\n",
        "SAPPORO RESTAURANT"
       ]
      },
      {
       "output_type": "stream",
       "stream": "stdout",
       "text": [
        " ==> [('SAPPORO SUSHI RESTAURANT', 0.7037037037037037)]\n",
        "----\n",
        "SAPPORO SUSHI RESTAURANT"
       ]
      },
      {
       "output_type": "stream",
       "stream": "stdout",
       "text": [
        " ==> [('SAPPORO RESTAURANT', 0.7037037037037037)]\n",
        "----\n",
        "SATO JAPANESE RESTAURANT"
       ]
      },
      {
       "output_type": "stream",
       "stream": "stdout",
       "text": [
        " ==> [('SOTO JAPANESE RESTAURANT', 0.7931034482758621), ('SEO JAPANESE RESTAURANT', 0.7586206896551724), ('SAKE JAPANESE RESTAURANT', 0.7333333333333333), ('KOITO JAPANESE RESTAURANT', 0.7096774193548387), ('SAKURA JAPANESE RESTAURANT', 0.7096774193548387)]\n",
        "----\n",
        "SEASON RESTAURANT"
       ]
      },
      {
       "output_type": "stream",
       "stream": "stdout",
       "text": [
        " ==> [('SEASONS RESTAURANT', 0.7727272727272727)]\n",
        "----\n",
        "SEASONS RESTAURANT"
       ]
      },
      {
       "output_type": "stream",
       "stream": "stdout",
       "text": [
        " ==> [('SEASON RESTAURANT', 0.7727272727272727)]\n",
        "----\n",
        "SEO JAPANESE RESTAURANT"
       ]
      },
      {
       "output_type": "stream",
       "stream": "stdout",
       "text": [
        " ==> [('SATO JAPANESE RESTAURANT', 0.7586206896551724), ('SOTO JAPANESE RESTAURANT', 0.7586206896551724), ('AKO JAPANESE RESTAURANT', 0.7241379310344828)]\n",
        "----\n",
        "SEVEN BILLIARD"
       ]
      },
      {
       "output_type": "stream",
       "stream": "stdout",
       "text": [
        " ==> [('SEVEN BILLIARDS', 0.7368421052631579)]\n",
        "----\n",
        "SEVEN BILLIARDS"
       ]
      },
      {
       "output_type": "stream",
       "stream": "stdout",
       "text": [
        " ==> [('SEVEN BILLIARD', 0.7368421052631579)]\n",
        "----\n",
        "SHARAKU JAPANESE RESTAURANT"
       ]
      },
      {
       "output_type": "stream",
       "stream": "stdout",
       "text": [
        " ==> [('SOSAKU JAPANESE RESTAURANT', 0.7272727272727273)]\n",
        "----\n",
        "SHENG XING CHINESE RESTAURANT"
       ]
      },
      {
       "output_type": "stream",
       "stream": "stdout",
       "text": [
        " ==> [('XING XING CHINESE RESTAURANT', 0.78125)]\n",
        "----\n",
        "SHING WONG RESTAURANT"
       ]
      },
      {
       "output_type": "stream",
       "stream": "stdout",
       "text": [
        " ==> [('HING WONG RESTAURANT', 0.7916666666666666), ('MING WONG RESTAURANT', 0.72)]\n",
        "----\n",
        "SHUN FOO CHINESE RESTAURANT"
       ]
      },
      {
       "output_type": "stream",
       "stream": "stdout",
       "text": [
        " ==> [('SHUN LI CHINESE RESTAURANT', 0.7272727272727273)]\n",
        "----\n",
        "SHUN LI CHINESE RESTAURANT"
       ]
      },
      {
       "output_type": "stream",
       "stream": "stdout",
       "text": [
        " ==> [('SHUN FOO CHINESE RESTAURANT', 0.7272727272727273)]\n",
        "----\n",
        "SILVER KRUST WEST INDIAN RESTAURANT"
       ]
      },
      {
       "output_type": "stream",
       "stream": "stdout",
       "text": [
        " ==> [('SILVER KRUST WEST INDIAN RESTAURANT & GRILL', 0.7333333333333333)]\n",
        "----\n",
        "SILVER KRUST WEST INDIAN RESTAURANT & GRILL"
       ]
      },
      {
       "output_type": "stream",
       "stream": "stdout",
       "text": [
        " ==> [('SILVER KRUST WEST INDIAN RESTAURANT', 0.7333333333333333)]\n",
        "----\n",
        "SING GARDEN RESTAURANT"
       ]
      },
      {
       "output_type": "stream",
       "stream": "stdout",
       "text": [
        " ==> [('SPRING GARDEN RESTAURANT', 0.7857142857142857), ('KING GARDEN RESTAURANT', 0.7777777777777778)]\n",
        "----\n",
        "SING HING RESTAURANT"
       ]
      },
      {
       "output_type": "stream",
       "stream": "stdout",
       "text": [
        " ==> [('SING HUANG RESTAURANT', 0.75), ('KING HING RESTAURANT', 0.7391304347826086), ('SUN HING RESTAURANT', 0.7083333333333334)]\n",
        "----\n",
        "SING HUANG RESTAURANT"
       ]
      },
      {
       "output_type": "stream",
       "stream": "stdout",
       "text": [
        " ==> [('SING HING RESTAURANT', 0.75)]\n",
        "----\n",
        "SING SHENG KITCHEN"
       ]
      },
      {
       "output_type": "stream",
       "stream": "stdout",
       "text": [
        " ==> [('SING SING KITCHEN', 0.7894736842105263)]\n",
        "----\n",
        "SING SING KITCHEN"
       ]
      },
      {
       "output_type": "stream",
       "stream": "stdout",
       "text": [
        " ==> [('SING SHENG KITCHEN', 0.7894736842105263)]\n",
        "----\n",
        "SING WAH RESTAURANT"
       ]
      },
      {
       "output_type": "stream",
       "stream": "stdout",
       "text": [
        " ==> [('KING WAH RESTAURANT', 0.75), ('WING WAH RESTAURANT', 0.75)]\n",
        "----\n",
        "SING WOK CHINESE RESTAURANT"
       ]
      },
      {
       "output_type": "stream",
       "stream": "stdout",
       "text": [
        " ==> [('KING WOK CHINESE RESTAURANT', 0.8125), ('WOK CHINESE RESTAURANT', 0.7096774193548387)]\n",
        "----\n",
        "SINGA'S FAMOUS PIZZA"
       ]
      },
      {
       "output_type": "stream",
       "stream": "stdout",
       "text": [
        " ==> [('SINGAS FAMOUS PIZZA', 0.7916666666666666)]\n",
        "----\n",
        "SINGAS FAMOUS PIZZA"
       ]
      },
      {
       "output_type": "stream",
       "stream": "stdout",
       "text": [
        " ==> [(\"SINGA'S FAMOUS PIZZA\", 0.7916666666666666)]\n",
        "----\n",
        "SKYLINE BAR & LOUNGE"
       ]
      },
      {
       "output_type": "stream",
       "stream": "stdout",
       "text": [
        " ==> [('SKYLINE BAR LOUNGE', 0.8260869565217391)]\n",
        "----\n",
        "SKYLINE BAR LOUNGE"
       ]
      },
      {
       "output_type": "stream",
       "stream": "stdout",
       "text": [
        " ==> [('SKYLINE BAR & LOUNGE', 0.8260869565217391)]\n",
        "----\n",
        "SOL DE QUITO RESTAURANT"
       ]
      },
      {
       "output_type": "stream",
       "stream": "stdout",
       "text": [
        " ==> [('SOL DE QUITO RESTAURANT II', 0.7666666666666667)]\n",
        "----\n",
        "SOL DE QUITO RESTAURANT II"
       ]
      },
      {
       "output_type": "stream",
       "stream": "stdout",
       "text": [
        " ==> [('SOL DE QUITO RESTAURANT', 0.7666666666666667)]\n",
        "----\n",
        "SOPHIE'S CUBAN CUISINE"
       ]
      },
      {
       "output_type": "stream",
       "stream": "stdout",
       "text": [
        " ==> [('SOPHIES CUBAN CUISINE', 0.8)]\n",
        "----\n",
        "SOPHIES CUBAN CUISINE"
       ]
      },
      {
       "output_type": "stream",
       "stream": "stdout",
       "text": [
        " ==> [(\"SOPHIE'S CUBAN CUISINE\", 0.8)]\n",
        "----\n",
        "SOSAKU JAPANESE RESTAURANT"
       ]
      },
      {
       "output_type": "stream",
       "stream": "stdout",
       "text": [
        " ==> [('SHARAKU JAPANESE RESTAURANT', 0.7272727272727273), ('SAKURA JAPANESE RESTAURANT', 0.71875)]\n",
        "----\n",
        "SOTO JAPANESE RESTAURANT"
       ]
      },
      {
       "output_type": "stream",
       "stream": "stdout",
       "text": [
        " ==> [('SATO JAPANESE RESTAURANT', 0.7931034482758621), ('SEO JAPANESE RESTAURANT', 0.7586206896551724), ('KOITO JAPANESE RESTAURANT', 0.7096774193548387)]\n",
        "----\n",
        "SPRING GARDEN CHINESE RESTAURANT"
       ]
      },
      {
       "output_type": "stream",
       "stream": "stdout",
       "text": [
        " ==> [('KING GARDEN CHINESE RESTAURANT', 0.7837837837837838), ('SPRING GARDEN RESTAURANT', 0.7142857142857143), ('NEW KING GARDEN CHINESE RESTAURANT', 0.7073170731707317)]\n",
        "----\n",
        "SPRING GARDEN RESTAURANT"
       ]
      },
      {
       "output_type": "stream",
       "stream": "stdout",
       "text": [
        " ==> [('SPRING GARDENS RESTAURANT', 0.8275862068965517), ('SING GARDEN RESTAURANT', 0.7857142857142857), ('NEW SPRING GARDEN RESTAURANT', 0.75), ('KING GARDEN RESTAURANT', 0.7241379310344828), ('SPRING GARDEN CHINESE RESTAURANT', 0.7142857142857143)]\n",
        "----\n",
        "SPRING GARDENS RESTAURANT"
       ]
      },
      {
       "output_type": "stream",
       "stream": "stdout",
       "text": [
        " ==> [('SPRING GARDEN RESTAURANT', 0.8275862068965517)]\n",
        "----\n",
        "SQUIRE DINER"
       ]
      },
      {
       "output_type": "stream",
       "stream": "stdout",
       "text": [
        " ==> [('ESQUIRE DINER', 0.7058823529411765)]\n",
        "----\n",
        "STAGE DELI"
       ]
      },
      {
       "output_type": "stream",
       "stream": "stdout",
       "text": [
        " ==> [('STAGE DOOR DELI', 0.7058823529411765)]\n",
        "----\n",
        "STAGE DOOR DELI"
       ]
      },
      {
       "output_type": "stream",
       "stream": "stdout",
       "text": [
        " ==> [('STAGE DELI', 0.7058823529411765)]\n",
        "----\n",
        "STAND 125 FOOD COURT"
       ]
      },
      {
       "output_type": "stream",
       "stream": "stdout",
       "text": [
        " ==> [('STAND 127 FOOD COURT', 0.76)]\n",
        "----\n",
        "STAND 127 FOOD COURT"
       ]
      },
      {
       "output_type": "stream",
       "stream": "stdout",
       "text": [
        " ==> [('STAND 125 FOOD COURT', 0.76)]\n",
        "----\n",
        "STAND 216B DELTA SUITE"
       ]
      },
      {
       "output_type": "stream",
       "stream": "stdout",
       "text": [
        " ==> [('STAND 218A DELTA SUITE', 0.7142857142857143)]\n",
        "----\n",
        "STAND 218A DELTA SUITE"
       ]
      },
      {
       "output_type": "stream",
       "stream": "stdout",
       "text": [
        " ==> [('STAND 216B DELTA SUITE', 0.7142857142857143)]\n",
        "----\n",
        "STARBUCKS COFFEE"
       ]
      },
      {
       "output_type": "stream",
       "stream": "stdout",
       "text": [
        " ==> [('STARBUCKS COFFEE#7462', 0.7083333333333334)]\n",
        "----\n",
        "STARBUCKS COFFEE #23266"
       ]
      },
      {
       "output_type": "stream",
       "stream": "stdout",
       "text": [
        " ==> [('STARBUCKS COFFEE #23267', 0.7857142857142857)]\n",
        "----\n",
        "STARBUCKS COFFEE #23267"
       ]
      },
      {
       "output_type": "stream",
       "stream": "stdout",
       "text": [
        " ==> [('STARBUCKS COFFEE #23266', 0.7857142857142857)]\n",
        "----\n",
        "STARBUCKS COFFEE #7344"
       ]
      },
      {
       "output_type": "stream",
       "stream": "stdout",
       "text": [
        " ==> [('STARBUCKS COFFEE #7358', 0.7142857142857143)]\n",
        "----\n",
        "STARBUCKS COFFEE #7358"
       ]
      },
      {
       "output_type": "stream",
       "stream": "stdout",
       "text": [
        " ==> [('STARBUCKS COFFEE #7344', 0.7142857142857143)]\n",
        "----\n",
        "STARBUCKS COFFEE #7416"
       ]
      },
      {
       "output_type": "stream",
       "stream": "stdout",
       "text": [
        " ==> [('STARBUCKS COFFEE #7826', 0.7142857142857143)]\n",
        "----\n",
        "STARBUCKS COFFEE #7682"
       ]
      },
      {
       "output_type": "stream",
       "stream": "stdout",
       "text": [
        " ==> [('STARBUCKS COFFEE #9282', 0.7142857142857143)]\n",
        "----\n",
        "STARBUCKS COFFEE #7826"
       ]
      },
      {
       "output_type": "stream",
       "stream": "stdout",
       "text": [
        " ==> [('STARBUCKS COFFEE #7416', 0.7142857142857143)]\n",
        "----\n",
        "STARBUCKS COFFEE #9282"
       ]
      },
      {
       "output_type": "stream",
       "stream": "stdout",
       "text": [
        " ==> [('STARBUCKS COFFEE #7682', 0.7142857142857143), ('STARBUCKS COFFEE #9722', 0.7142857142857143)]\n",
        "----\n",
        "STARBUCKS COFFEE #9722"
       ]
      },
      {
       "output_type": "stream",
       "stream": "stdout",
       "text": [
        " ==> [('STARBUCKS COFFEE #9282', 0.7142857142857143)]\n",
        "----\n",
        "STARBUCKS COFFEE (STORE #7216)"
       ]
      },
      {
       "output_type": "stream",
       "stream": "stdout",
       "text": [
        " ==> [('STARBUCKS COFFEE (STORE #7696)', 0.7777777777777778), ('STARBUCKS COFFEE (STORE #7555)', 0.7297297297297297), ('STARBUCKS COFFEE (STORE #7577)', 0.7297297297297297), ('STARBUCKS COFFEE (STORE #7587)', 0.7297297297297297)]\n",
        "----\n",
        "STARBUCKS COFFEE (STORE #7555)"
       ]
      },
      {
       "output_type": "stream",
       "stream": "stdout",
       "text": [
        " ==> [('STARBUCKS COFFEE (STORE #7577)', 0.7777777777777778), ('STARBUCKS COFFEE (STORE #7587)', 0.7777777777777778), ('STARBUCKS COFFEE (STORE #7216)', 0.7297297297297297), ('STARBUCKS COFFEE (STORE #7696)', 0.7297297297297297)]\n",
        "----\n",
        "STARBUCKS COFFEE (STORE #7577)"
       ]
      },
      {
       "output_type": "stream",
       "stream": "stdout",
       "text": [
        " ==> [('STARBUCKS COFFEE (STORE #7587)', 0.8285714285714286), ('STARBUCKS COFFEE (STORE #7555)', 0.7777777777777778), ('STARBUCKS COFFEE (STORE #7216)', 0.7297297297297297), ('STARBUCKS COFFEE (STORE #7696)', 0.7297297297297297)]\n",
        "----\n",
        "STARBUCKS COFFEE (STORE #7587)"
       ]
      },
      {
       "output_type": "stream",
       "stream": "stdout",
       "text": [
        " ==> [('STARBUCKS COFFEE (STORE #7577)', 0.8285714285714286), ('STARBUCKS COFFEE (STORE #7555)', 0.7777777777777778), ('STARBUCKS COFFEE (STORE #7216)', 0.7297297297297297), ('STARBUCKS COFFEE (STORE #7696)', 0.7297297297297297)]\n",
        "----\n",
        "STARBUCKS COFFEE (STORE #7696)"
       ]
      },
      {
       "output_type": "stream",
       "stream": "stdout",
       "text": [
        " ==> [('STARBUCKS COFFEE (STORE #7216)', 0.7777777777777778), ('STARBUCKS COFFEE (STORE #7555)', 0.7297297297297297), ('STARBUCKS COFFEE (STORE #7577)', 0.7297297297297297), ('STARBUCKS COFFEE (STORE #7587)', 0.7297297297297297)]\n",
        "----\n",
        "STARBUCKS COFFEE (STORE 7261)"
       ]
      },
      {
       "output_type": "stream",
       "stream": "stdout",
       "text": [
        " ==> [('STARBUCKS COFFEE (STORE#20161)', 0.7027027027027027)]\n",
        "----\n",
        "STARBUCKS COFFEE (STORE#20161)"
       ]
      },
      {
       "output_type": "stream",
       "stream": "stdout",
       "text": [
        " ==> [('STARBUCKS COFFEE (STORE 7261)', 0.7027027027027027)]\n",
        "----\n",
        "STARBUCKS COFFEE#7462"
       ]
      },
      {
       "output_type": "stream",
       "stream": "stdout",
       "text": [
        " ==> [('STARBUCKS COFFEE', 0.7083333333333334)]\n",
        "----\n",
        "STEINWAY PIZZA RESTAURANT"
       ]
      },
      {
       "output_type": "stream",
       "stream": "stdout",
       "text": [
        " ==> [('STEINWAY RESTAURANT', 0.7142857142857143)]\n",
        "----\n",
        "STEINWAY RESTAURANT"
       ]
      },
      {
       "output_type": "stream",
       "stream": "stdout",
       "text": [
        " ==> [('STEINWAY PIZZA RESTAURANT', 0.7142857142857143)]\n",
        "----\n",
        "STICKY'S FINGER JOINT"
       ]
      },
      {
       "output_type": "stream",
       "stream": "stdout",
       "text": [
        " ==> [(\"STICKY'S FINGER JOINT #1\", 0.75)]\n",
        "----\n",
        "STICKY'S FINGER JOINT #1"
       ]
      },
      {
       "output_type": "stream",
       "stream": "stdout",
       "text": [
        " ==> [(\"STICKY'S FINGER JOINT\", 0.75)]\n",
        "----\n",
        "STOP & GO CHICKEN"
       ]
      },
      {
       "output_type": "stream",
       "stream": "stdout",
       "text": [
        " ==> [('STOP + GO CHICKEN', 0.7272727272727273)]\n",
        "----\n",
        "STOP + GO CHICKEN"
       ]
      },
      {
       "output_type": "stream",
       "stream": "stdout",
       "text": [
        " ==> [('STOP & GO CHICKEN', 0.7272727272727273)]\n",
        "----\n",
        "SUBWAY RESTAURANT"
       ]
      },
      {
       "output_type": "stream",
       "stream": "stdout",
       "text": [
        " ==> [('SUNWAY RESTAURANT', 0.7272727272727273)]\n",
        "----\n",
        "SUBWAY SANDWICH"
       ]
      },
      {
       "output_type": "stream",
       "stream": "stdout",
       "text": [
        " ==> [('SUBWAY SANDWICHES', 0.7142857142857143)]\n",
        "----\n",
        "SUBWAY SANDWICHES"
       ]
      },
      {
       "output_type": "stream",
       "stream": "stdout",
       "text": [
        " ==> [('SUBWAY SANDWICH', 0.7142857142857143)]\n",
        "----\n",
        "SUM FUNG CHINESE RESTAURANT"
       ]
      },
      {
       "output_type": "stream",
       "stream": "stdout",
       "text": [
        " ==> [('SUN FUNG CHINESE RESTAURANT', 0.8125), ('SUM HING CHINESE RESTAURANT', 0.78125)]\n",
        "----\n",
        "SUM HING CHINESE RESTAURANT"
       ]
      },
      {
       "output_type": "stream",
       "stream": "stdout",
       "text": [
        " ==> [('SUM FUNG CHINESE RESTAURANT', 0.78125), ('WING HING CHINESE RESTAURANT', 0.71875)]\n",
        "----\n",
        "SUN FUNG CHINESE RESTAURANT"
       ]
      },
      {
       "output_type": "stream",
       "stream": "stdout",
       "text": [
        " ==> [('SUM FUNG CHINESE RESTAURANT', 0.8125)]\n",
        "----\n",
        "SUN HING RESTAURANT"
       ]
      },
      {
       "output_type": "stream",
       "stream": "stdout",
       "text": [
        " ==> [('SING HING RESTAURANT', 0.7083333333333334)]\n",
        "----\n",
        "SUN LOK RESTAURANT"
       ]
      },
      {
       "output_type": "stream",
       "stream": "stdout",
       "text": [
        " ==> [('SUN LUCK RESTAURANT', 0.7083333333333334)]\n",
        "----\n",
        "SUN LUCK RESTAURANT"
       ]
      },
      {
       "output_type": "stream",
       "stream": "stdout",
       "text": [
        " ==> [('SUN LOK RESTAURANT', 0.7083333333333334)]\n",
        "----\n",
        "SUNRISE CHINESE RESTAURANT"
       ]
      },
      {
       "output_type": "stream",
       "stream": "stdout",
       "text": [
        " ==> [('SUNRISE RESTAURANT', 0.7407407407407407)]\n",
        "----\n",
        "SUNRISE RESTAURANT"
       ]
      },
      {
       "output_type": "stream",
       "stream": "stdout",
       "text": [
        " ==> [('SUNRISE CHINESE RESTAURANT', 0.7407407407407407)]\n",
        "----\n",
        "SUNWAY RESTAURANT"
       ]
      },
      {
       "output_type": "stream",
       "stream": "stdout",
       "text": [
        " ==> [('SUBWAY RESTAURANT', 0.7272727272727273)]\n",
        "----\n",
        "SUPER CROWN FRIED CHICKEN & PIZZA"
       ]
      },
      {
       "output_type": "stream",
       "stream": "stdout",
       "text": [
        " ==> [('CROWN FRIED CHICKEN & PIZZA', 0.7297297297297297)]\n",
        "----\n",
        "SUPER KENNEDY FRIED CHICKEN"
       ]
      },
      {
       "output_type": "stream",
       "stream": "stdout",
       "text": [
        " ==> [('ASIF SUPER KENNEDY FRIED CHICKEN', 0.7428571428571429)]\n",
        "----\n",
        "SUPER KENNEDY'S CHICKEN & SANDWICHES"
       ]
      },
      {
       "output_type": "stream",
       "stream": "stdout",
       "text": [
        " ==> [(\"KENNEDY'S CHICKEN & SANDWICHES\", 0.7435897435897436)]\n",
        "----\n",
        "SUSHI Q JAPANESE RESTAURANT"
       ]
      },
      {
       "output_type": "stream",
       "stream": "stdout",
       "text": [
        " ==> [('NEW SUSHI Q JAPANESE RESTAURANT', 0.7714285714285715), ('SUSHIYA JAPANESE RESTAURANT', 0.7575757575757576)]\n",
        "----\n",
        "SUSHIYA JAPANESE RESTAURANT"
       ]
      },
      {
       "output_type": "stream",
       "stream": "stdout",
       "text": [
        " ==> [('SUSHI Q JAPANESE RESTAURANT', 0.7575757575757576)]\n",
        "----\n",
        "SZECHUAN GARDEN KITCHEN"
       ]
      },
      {
       "output_type": "stream",
       "stream": "stdout",
       "text": [
        " ==> [('SZECHUAN KITCHEN', 0.72)]\n",
        "----\n",
        "SZECHUAN KITCHEN"
       ]
      },
      {
       "output_type": "stream",
       "stream": "stdout",
       "text": [
        " ==> [('SZECHUAN GARDEN KITCHEN', 0.72)]\n",
        "----\n",
        "T & T RESTAURANT"
       ]
      },
      {
       "output_type": "stream",
       "stream": "stdout",
       "text": [
        " ==> [('V & T RESTAURANT', 0.7142857142857143)]\n",
        "----\n",
        "T-BROTHERS PIZZERIA"
       ]
      },
      {
       "output_type": "stream",
       "stream": "stdout",
       "text": [
        " ==> [('BROTHERS PIZZERIA', 0.7391304347826086)]\n",
        "----\n",
        "T.G.I. FRIDAY'S"
       ]
      },
      {
       "output_type": "stream",
       "stream": "stdout",
       "text": [
        " ==> [('T.G.I. FRIDAYS', 0.7368421052631579)]\n",
        "----\n",
        "T.G.I. FRIDAYS"
       ]
      },
      {
       "output_type": "stream",
       "stream": "stdout",
       "text": [
        " ==> [(\"T.G.I. FRIDAY'S\", 0.7368421052631579)]\n",
        "----\n",
        "TABLAO RESTAURANT"
       ]
      },
      {
       "output_type": "stream",
       "stream": "stdout",
       "text": [
        " ==> [('TAO RESTAURANT', 0.75)]\n",
        "----\n",
        "TACO BELL AND PIZZA HUT"
       ]
      },
      {
       "output_type": "stream",
       "stream": "stdout",
       "text": [
        " ==> [('TACO BELL PIZZA HUT', 0.7692307692307693)]\n",
        "----\n",
        "TACO BELL PIZZA HUT"
       ]
      },
      {
       "output_type": "stream",
       "stream": "stdout",
       "text": [
        " ==> [('TACO BELL AND PIZZA HUT', 0.7692307692307693), ('TACO BELL/PIZZA HUT', 0.75)]\n",
        "----\n",
        "TACO BELL PIZZA HUT EXPRESS"
       ]
      },
      {
       "output_type": "stream",
       "stream": "stdout",
       "text": [
        " ==> [('TACO BELL/PIZZA HUT EXPRESS', 0.8125)]\n",
        "----\n",
        "TACO BELL/PIZZA HUT"
       ]
      },
      {
       "output_type": "stream",
       "stream": "stdout",
       "text": [
        " ==> [('TACO BELL PIZZA HUT', 0.75)]\n",
        "----\n",
        "TACO BELL/PIZZA HUT EXPRESS"
       ]
      },
      {
       "output_type": "stream",
       "stream": "stdout",
       "text": [
        " ==> [('TACO BELL PIZZA HUT EXPRESS', 0.8125)]\n",
        "----\n",
        "TACOS  AL SUADERO"
       ]
      },
      {
       "output_type": "stream",
       "stream": "stdout",
       "text": [
        " ==> [('TACOS AL SUADERO', 0.85)]\n",
        "----\n",
        "TACOS AL SUADERO"
       ]
      },
      {
       "output_type": "stream",
       "stream": "stdout",
       "text": [
        " ==> [('TACOS  AL SUADERO', 0.85)]\n",
        "----\n",
        "TACOS MEXICO"
       ]
      },
      {
       "output_type": "stream",
       "stream": "stdout",
       "text": [
        " ==> [('TACOS MEXICOS', 0.75)]\n",
        "----\n",
        "TACOS MEXICOS"
       ]
      },
      {
       "output_type": "stream",
       "stream": "stdout",
       "text": [
        " ==> [('TACOS MEXICO', 0.75)]\n",
        "----\n",
        "TAINO TASTE RESTAURANT"
       ]
      },
      {
       "output_type": "stream",
       "stream": "stdout",
       "text": [
        " ==> [('TASTE RESTAURANT', 0.75)]\n",
        "----\n",
        "TAJ MAHAL INDIAN RESTAURANT"
       ]
      },
      {
       "output_type": "stream",
       "stream": "stdout",
       "text": [
        " ==> [('RAJ MAHAL INDIAN RESTAURANT', 0.8125)]\n",
        "----\n",
        "TAK KING CHINESE RESTAURANT"
       ]
      },
      {
       "output_type": "stream",
       "stream": "stdout",
       "text": [
        " ==> [('CHINA KING CHINESE RESTAURANT', 0.7058823529411765), ('LAN KING CHINESE RESTAURANT', 0.7058823529411765)]\n",
        "----\n",
        "TAO RESTAURANT"
       ]
      },
      {
       "output_type": "stream",
       "stream": "stdout",
       "text": [
        " ==> [('TAURO RESTAURANT', 0.7777777777777778), ('TABLAO RESTAURANT', 0.75)]\n",
        "----\n",
        "TAQUERIA EL FOGON"
       ]
      },
      {
       "output_type": "stream",
       "stream": "stdout",
       "text": [
        " ==> [('TAQUERIA EL FOGON 2', 0.7391304347826086)]\n",
        "----\n",
        "TAQUERIA EL FOGON 2"
       ]
      },
      {
       "output_type": "stream",
       "stream": "stdout",
       "text": [
        " ==> [('TAQUERIA EL FOGON', 0.7391304347826086)]\n",
        "----\n",
        "TASTE GOOD RESTAURANT"
       ]
      },
      {
       "output_type": "stream",
       "stream": "stdout",
       "text": [
        " ==> [('TASTE RESTAURANT', 0.7083333333333334)]\n",
        "----\n",
        "TASTE OF CHINA"
       ]
      },
      {
       "output_type": "stream",
       "stream": "stdout",
       "text": [
        " ==> [('TASTE OF CHINA USA', 0.7142857142857143)]\n",
        "----\n",
        "TASTE OF CHINA USA"
       ]
      },
      {
       "output_type": "stream",
       "stream": "stdout",
       "text": [
        " ==> [('TASTE OF CHINA', 0.7142857142857143)]\n",
        "----\n",
        "TASTE RESTAURANT"
       ]
      },
      {
       "output_type": "stream",
       "stream": "stdout",
       "text": [
        " ==> [('TAINO TASTE RESTAURANT', 0.75), ('TOP TASTE RESTAURANT', 0.7391304347826086), ('TASTE GOOD RESTAURANT', 0.7083333333333334), ('TRUE TASTE RESTAURANT', 0.7083333333333334)]\n",
        "----\n",
        "TAURO RESTAURANT"
       ]
      },
      {
       "output_type": "stream",
       "stream": "stdout",
       "text": [
        " ==> [('TAO RESTAURANT', 0.7777777777777778)]\n",
        "----\n",
        "TEA SHOP & BAKERY"
       ]
      },
      {
       "output_type": "stream",
       "stream": "stdout",
       "text": [
        " ==> [('TEA SHOP 168 & BAKERY', 0.75)]\n",
        "----\n",
        "TEA SHOP 168 & BAKERY"
       ]
      },
      {
       "output_type": "stream",
       "stream": "stdout",
       "text": [
        " ==> [('TEA SHOP & BAKERY', 0.75)]\n",
        "----\n",
        "TEN JAPANESE CUISINE"
       ]
      },
      {
       "output_type": "stream",
       "stream": "stdout",
       "text": [
        " ==> [('TENZAN JAPANESE CUISINE', 0.8076923076923077), ('OMEN JAPANESE CUISINE', 0.7307692307692307)]\n",
        "----\n",
        "TENZAN JAPANESE CUISINE"
       ]
      },
      {
       "output_type": "stream",
       "stream": "stdout",
       "text": [
        " ==> [('TEN JAPANESE CUISINE', 0.8076923076923077)]\n",
        "----\n",
        "TEQUILA SUNRISE"
       ]
      },
      {
       "output_type": "stream",
       "stream": "stdout",
       "text": [
        " ==> [('TEQUILLA SUNRISE', 0.8421052631578947)]\n",
        "----\n",
        "TEQUILLA SUNRISE"
       ]
      },
      {
       "output_type": "stream",
       "stream": "stdout",
       "text": [
        " ==> [('TEQUILA SUNRISE', 0.8421052631578947)]\n",
        "----\n",
        "THE COFFEE BEAN & TEA LEAF"
       ]
      },
      {
       "output_type": "stream",
       "stream": "stdout",
       "text": [
        " ==> [('COFFEE BEAN & TEA LEAF', 0.7333333333333333)]\n",
        "----\n",
        "THE COFFEE HOUSE"
       ]
      },
      {
       "output_type": "stream",
       "stream": "stdout",
       "text": [
        " ==> [('THE MILL COFFEE HOUSE', 0.7083333333333334)]\n",
        "----\n",
        "THE COFFEE SHOP"
       ]
      },
      {
       "output_type": "stream",
       "stream": "stdout",
       "text": [
        " ==> [('THE CORNER COFFEE SHOP', 0.7391304347826086)]\n",
        "----\n",
        "THE CORNER CAFE & BAKERY"
       ]
      },
      {
       "output_type": "stream",
       "stream": "stdout",
       "text": [
        " ==> [('CORNER CAFE & BAKERY', 0.7142857142857143)]\n",
        "----\n",
        "THE CORNER COFFEE SHOP"
       ]
      },
      {
       "output_type": "stream",
       "stream": "stdout",
       "text": [
        " ==> [('THE COFFEE SHOP', 0.7391304347826086)]\n",
        "----\n",
        "THE DOVE PARLOUR"
       ]
      },
      {
       "output_type": "stream",
       "stream": "stdout",
       "text": [
        " ==> [('THE PARLOUR', 0.7222222222222222)]\n",
        "----\n",
        "THE FINANCIER PATISSERIE"
       ]
      },
      {
       "output_type": "stream",
       "stream": "stdout",
       "text": [
        " ==> [('FINANCIER PATISSERIE', 0.7142857142857143)]\n",
        "----\n",
        "THE HUMMUS & PITA CO."
       ]
      },
      {
       "output_type": "stream",
       "stream": "stdout",
       "text": [
        " ==> [('THE HUMMUS AND PITA CO.', 0.7142857142857143)]\n",
        "----\n",
        "THE HUMMUS AND PITA CO."
       ]
      },
      {
       "output_type": "stream",
       "stream": "stdout",
       "text": [
        " ==> [('THE HUMMUS & PITA CO.', 0.7142857142857143)]\n",
        "----\n",
        "THE MILL COFFEE HOUSE"
       ]
      },
      {
       "output_type": "stream",
       "stream": "stdout",
       "text": [
        " ==> [('THE COFFEE HOUSE', 0.7083333333333334)]\n",
        "----\n",
        "THE PARLOUR"
       ]
      },
      {
       "output_type": "stream",
       "stream": "stdout",
       "text": [
        " ==> [('THE DOVE PARLOUR', 0.7222222222222222)]\n",
        "----\n",
        "THE RESTAURANT"
       ]
      },
      {
       "output_type": "stream",
       "stream": "stdout",
       "text": [
        " ==> [('THE ROYAL RESTAURANT', 0.7272727272727273)]\n",
        "----\n",
        "THE ROYAL RESTAURANT"
       ]
      },
      {
       "output_type": "stream",
       "stream": "stdout",
       "text": [
        " ==> [('THE RESTAURANT', 0.7272727272727273)]\n",
        "----\n",
        "THE SMOKE HOUSE"
       ]
      },
      {
       "output_type": "stream",
       "stream": "stdout",
       "text": [
        " ==> [('THE STRAND SMOKE HOUSE', 0.7083333333333334)]\n",
        "----\n",
        "THE STRAND SMOKE HOUSE"
       ]
      },
      {
       "output_type": "stream",
       "stream": "stdout",
       "text": [
        " ==> [('THE SMOKE HOUSE', 0.7083333333333334)]\n",
        "----\n",
        "THOMAS PRETI CATERERS"
       ]
      },
      {
       "output_type": "stream",
       "stream": "stdout",
       "text": [
        " ==> [('THOMAS PRETI CATERERS INC', 0.7241379310344828)]\n",
        "----\n",
        "THOMAS PRETI CATERERS INC"
       ]
      },
      {
       "output_type": "stream",
       "stream": "stdout",
       "text": [
        " ==> [('THOMAS PRETI CATERERS', 0.7241379310344828)]\n",
        "----\n",
        "TIME CONFERENCE CENTER"
       ]
      },
      {
       "output_type": "stream",
       "stream": "stdout",
       "text": [
        " ==> [('TIME WARNER CONFERENCE CENTER', 0.7419354838709677)]\n",
        "----\n",
        "TIME WARNER CONFERENCE CENTER"
       ]
      },
      {
       "output_type": "stream",
       "stream": "stdout",
       "text": [
        " ==> [('TIME CONFERENCE CENTER', 0.7419354838709677)]\n",
        "----\n",
        "TIPICO DOMINICANO BAR RESTAURANT"
       ]
      },
      {
       "output_type": "stream",
       "stream": "stdout",
       "text": [
        " ==> [('TIPICO DOMINICANO RESTAURANT', 0.8285714285714286)]\n",
        "----\n",
        "TIPICO DOMINICANO RESTAURANT"
       ]
      },
      {
       "output_type": "stream",
       "stream": "stdout",
       "text": [
        " ==> [('TIPICO DOMINICANO BAR RESTAURANT', 0.8285714285714286)]\n",
        "----\n",
        "TOBY'S PUBLIC HOUSE"
       ]
      },
      {
       "output_type": "stream",
       "stream": "stdout",
       "text": [
        " ==> [('TOBYS PUBLIC HOUSE', 0.782608695652174)]\n",
        "----\n",
        "TOBYS PUBLIC HOUSE"
       ]
      },
      {
       "output_type": "stream",
       "stream": "stdout",
       "text": [
        " ==> [(\"TOBY'S PUBLIC HOUSE\", 0.782608695652174)]\n",
        "----\n",
        "TOMO JAPANESE CUISINE"
       ]
      },
      {
       "output_type": "stream",
       "stream": "stdout",
       "text": [
        " ==> [('KUMO JAPANESE CUISINE', 0.7037037037037037)]\n",
        "----\n",
        "TOMO JAPANESE RESTAURANT"
       ]
      },
      {
       "output_type": "stream",
       "stream": "stdout",
       "text": [
        " ==> [('KUMO JAPANESE RESTAURANT', 0.7333333333333333)]\n",
        "----\n",
        "TONY'S PIZZA RESTAURANT"
       ]
      },
      {
       "output_type": "stream",
       "stream": "stdout",
       "text": [
        " ==> [(\"DANY'S PIZZA RESTAURANT\", 0.7241379310344828)]\n",
        "----\n",
        "TONY'S PIZZERIA"
       ]
      },
      {
       "output_type": "stream",
       "stream": "stdout",
       "text": [
        " ==> [('TONYS PIZZERIA', 0.7368421052631579)]\n",
        "----\n",
        "TONYS PIZZERIA"
       ]
      },
      {
       "output_type": "stream",
       "stream": "stdout",
       "text": [
        " ==> [(\"TONY'S PIZZERIA\", 0.7368421052631579)]\n",
        "----\n",
        "TOP TACO & TOP CHINA"
       ]
      },
      {
       "output_type": "stream",
       "stream": "stdout",
       "text": [
        " ==> [('TOP TACO TOP CHINA', 0.8095238095238095)]\n",
        "----\n",
        "TOP TACO TOP CHINA"
       ]
      },
      {
       "output_type": "stream",
       "stream": "stdout",
       "text": [
        " ==> [('TOP TACO & TOP CHINA', 0.8095238095238095)]\n",
        "----\n",
        "TOP TASTE RESTAURANT"
       ]
      },
      {
       "output_type": "stream",
       "stream": "stdout",
       "text": [
        " ==> [('TASTE RESTAURANT', 0.7391304347826086)]\n",
        "----\n",
        "TOP THAI RESTAURANT"
       ]
      },
      {
       "output_type": "stream",
       "stream": "stdout",
       "text": [
        " ==> [('TOPAZ THAI RESTAURANT', 0.76)]\n",
        "----\n",
        "TOPAZ THAI RESTAURANT"
       ]
      },
      {
       "output_type": "stream",
       "stream": "stdout",
       "text": [
        " ==> [('TOP THAI RESTAURANT', 0.76)]\n",
        "----\n",
        "TRATTORIA PESCE PASTA"
       ]
      },
      {
       "output_type": "stream",
       "stream": "stdout",
       "text": [
        " ==> [('TRATTORIA PESCHE PASTA', 0.8076923076923077)]\n",
        "----\n",
        "TRATTORIA PESCHE PASTA"
       ]
      },
      {
       "output_type": "stream",
       "stream": "stdout",
       "text": [
        " ==> [('TRATTORIA PESCE PASTA', 0.8076923076923077)]\n",
        "----\n",
        "TRINI GUL ORIGINAL ROTI  & WEST INDIAN FOOD"
       ]
      },
      {
       "output_type": "stream",
       "stream": "stdout",
       "text": [
        " ==> [('TRINI GYUL ORIGINAL ROTI & WEST INDIAN FOOD', 0.8367346938775511)]\n",
        "----\n",
        "TRINI GYUL ORIGINAL ROTI & WEST INDIAN FOOD"
       ]
      },
      {
       "output_type": "stream",
       "stream": "stdout",
       "text": [
        " ==> [('TRINI GUL ORIGINAL ROTI  & WEST INDIAN FOOD', 0.8367346938775511)]\n",
        "----\n",
        "TROPICAL BAR RESTAURANT"
       ]
      },
      {
       "output_type": "stream",
       "stream": "stdout",
       "text": [
        " ==> [('TROPICAL RESTAURANT', 0.7692307692307693)]\n",
        "----\n",
        "TROPICAL GRILL & RESTAURANT"
       ]
      },
      {
       "output_type": "stream",
       "stream": "stdout",
       "text": [
        " ==> [('TROPICAL GRILL RESTAURANT', 0.8666666666666667)]\n",
        "----\n",
        "TROPICAL GRILL RESTAURANT"
       ]
      },
      {
       "output_type": "stream",
       "stream": "stdout",
       "text": [
        " ==> [('TROPICAL GRILL & RESTAURANT', 0.8666666666666667), ('TROPICAL RESTAURANT', 0.7777777777777778)]\n",
        "----\n",
        "TROPICAL II RESTAURANT"
       ]
      },
      {
       "output_type": "stream",
       "stream": "stdout",
       "text": [
        " ==> [('TROPICAL RESTAURANT', 0.8)]\n",
        "----\n",
        "TROPICAL RESTAURANT"
       ]
      },
      {
       "output_type": "stream",
       "stream": "stdout",
       "text": [
        " ==> [('TROPICAL II RESTAURANT', 0.8), ('TROPICAL GRILL RESTAURANT', 0.7777777777777778), ('TROPICAL BAR RESTAURANT', 0.7692307692307693)]\n",
        "----\n",
        "TRUE TASTE RESTAURANT"
       ]
      },
      {
       "output_type": "stream",
       "stream": "stdout",
       "text": [
        " ==> [('TASTE RESTAURANT', 0.7083333333333334)]\n",
        "----\n",
        "TU CASA BAR & RESTAURANT"
       ]
      },
      {
       "output_type": "stream",
       "stream": "stdout",
       "text": [
        " ==> [('TU CASA RESTAURANT', 0.7037037037037037)]\n",
        "----\n",
        "TU CASA RESTAURANT"
       ]
      },
      {
       "output_type": "stream",
       "stream": "stdout",
       "text": [
        " ==> [('TU CASA BAR & RESTAURANT', 0.7037037037037037)]\n",
        "----\n",
        "TU RANCHITO RESTAURANT"
       ]
      },
      {
       "output_type": "stream",
       "stream": "stdout",
       "text": [
        " ==> [('EL RANCHITO RESTAURANT', 0.7037037037037037)]\n",
        "----\n",
        "TURKISH CUISINE"
       ]
      },
      {
       "output_type": "stream",
       "stream": "stdout",
       "text": [
        " ==> [('TURKUAZ TURKISH CUISINE', 0.7391304347826086)]\n",
        "----\n",
        "TURKUAZ TURKISH CUISINE"
       ]
      },
      {
       "output_type": "stream",
       "stream": "stdout",
       "text": [
        " ==> [('TURKISH CUISINE', 0.7391304347826086)]\n",
        "----\n",
        "TWO BOOTS & PIZZA"
       ]
      },
      {
       "output_type": "stream",
       "stream": "stdout",
       "text": [
        " ==> [('TWO BOOTS PIZZA', 0.8)]\n",
        "----\n",
        "TWO BOOTS PIZZA"
       ]
      },
      {
       "output_type": "stream",
       "stream": "stdout",
       "text": [
        " ==> [('TWO BOOTS & PIZZA', 0.8)]\n",
        "----\n",
        "U LIKE CHINESE RESTAURANT"
       ]
      },
      {
       "output_type": "stream",
       "stream": "stdout",
       "text": [
        " ==> [(\"''U'' LIKE CHINESE RESTAURANT\", 0.7058823529411765)]\n",
        "----\n",
        "U.S FRIED CHICKEN"
       ]
      },
      {
       "output_type": "stream",
       "stream": "stdout",
       "text": [
        " ==> [('US FRIED CHICKEN', 0.7619047619047619)]\n",
        "----\n",
        "UNCLE JACK'S STEAKHOUSE"
       ]
      },
      {
       "output_type": "stream",
       "stream": "stdout",
       "text": [
        " ==> [('UNCLE JACKS STEAKHOUSE', 0.8148148148148148)]\n",
        "----\n",
        "UNCLE JACKS STEAKHOUSE"
       ]
      },
      {
       "output_type": "stream",
       "stream": "stdout",
       "text": [
        " ==> [(\"UNCLE JACK'S STEAKHOUSE\", 0.8148148148148148)]\n",
        "----\n",
        "UNCLE LOUIE G ICE CREAM"
       ]
      },
      {
       "output_type": "stream",
       "stream": "stdout",
       "text": [
        " ==> [('UNCLE LOUIE G ITALIAN ICE CREAM', 0.7575757575757576)]\n",
        "----\n",
        "UNCLE LOUIE G ITALIAN ICE CREAM"
       ]
      },
      {
       "output_type": "stream",
       "stream": "stdout",
       "text": [
        " ==> [('UNCLE LOUIE G ITALIAN ICES & ICE CREAM', 0.868421052631579), ('UNCLE LOUIE G ICE CREAM', 0.7575757575757576), (\"UNCLE LOUIE G'S ITALIAN ICES & ICE CREAM\", 0.7380952380952381)]\n",
        "----\n",
        "UNCLE LOUIE G ITALIAN ICES & ICE CREAM"
       ]
      },
      {
       "output_type": "stream",
       "stream": "stdout",
       "text": [
        " ==> [('UNCLE LOUIE G ITALIAN ICE CREAM', 0.868421052631579), (\"UNCLE LOUIE G'S ITALIAN ICES & ICE CREAM\", 0.8571428571428571)]\n",
        "----\n",
        "UNCLE LOUIE G'S ITALIAN ICES & ICE CREAM"
       ]
      },
      {
       "output_type": "stream",
       "stream": "stdout",
       "text": [
        " ==> [('UNCLE LOUIE G ITALIAN ICES & ICE CREAM', 0.8571428571428571), ('UNCLE LOUIE G ITALIAN ICE CREAM', 0.7380952380952381)]\n",
        "----\n",
        "UPSTAIRS  BAR"
       ]
      },
      {
       "output_type": "stream",
       "stream": "stdout",
       "text": [
        " ==> [('UPSTAIRS BAR', 0.8125)]\n",
        "----\n",
        "UPSTAIRS BAR"
       ]
      },
      {
       "output_type": "stream",
       "stream": "stdout",
       "text": [
        " ==> [('UPSTAIRS  BAR', 0.8125)]\n",
        "----\n",
        "US FRIED CHICKEN"
       ]
      },
      {
       "output_type": "stream",
       "stream": "stdout",
       "text": [
        " ==> [('U.S FRIED CHICKEN', 0.7619047619047619)]\n",
        "----\n",
        "US FRIED CHICKEN & P1ZZA"
       ]
      },
      {
       "output_type": "stream",
       "stream": "stdout",
       "text": [
        " ==> [('US FRIED CHICKEN & PIZZA', 0.7931034482758621)]\n",
        "----\n",
        "US FRIED CHICKEN & PIZZA"
       ]
      },
      {
       "output_type": "stream",
       "stream": "stdout",
       "text": [
        " ==> [('US FRIED CHICKEN & P1ZZA', 0.7931034482758621), ('FRIED CHICKEN & PIZZA', 0.75)]\n",
        "----\n",
        "US KENNEDY FRIED CHICKEN"
       ]
      },
      {
       "output_type": "stream",
       "stream": "stdout",
       "text": [
        " ==> [('BAS KENNEDY FRIED CHICKEN', 0.7586206896551724), ('KENNEDY FRIED CHICKEN', 0.7407407407407407)]\n",
        "----\n",
        "UTOPIA RESTAURANT"
       ]
      },
      {
       "output_type": "stream",
       "stream": "stdout",
       "text": [
        " ==> [('OPIA RESTAURANT', 0.7142857142857143)]\n",
        "----\n",
        "V & T RESTAURANT"
       ]
      },
      {
       "output_type": "stream",
       "stream": "stdout",
       "text": [
        " ==> [('T & T RESTAURANT', 0.7142857142857143)]\n",
        "----\n",
        "VEE'S RESTAURANT"
       ]
      },
      {
       "output_type": "stream",
       "stream": "stdout",
       "text": [
        " ==> [(\"DEE'S RESTAURANT\", 0.7142857142857143), (\"LEE'S RESTAURANT\", 0.7142857142857143)]\n",
        "----\n",
        "VESUVIO PIZZA"
       ]
      },
      {
       "output_type": "stream",
       "stream": "stdout",
       "text": [
        " ==> [('VESUVIOS PIZZA', 0.7222222222222222)]\n",
        "----\n",
        "VESUVIOS PIZZA"
       ]
      },
      {
       "output_type": "stream",
       "stream": "stdout",
       "text": [
        " ==> [('VESUVIO PIZZA', 0.7222222222222222)]\n",
        "----\n",
        "VILLA FRESH ITALIAN KITCHEN"
       ]
      },
      {
       "output_type": "stream",
       "stream": "stdout",
       "text": [
        " ==> [('VILLA ITALIAN KITCHEN', 0.7333333333333333)]\n",
        "----\n",
        "VILLA ITALIAN KITCHEN"
       ]
      },
      {
       "output_type": "stream",
       "stream": "stdout",
       "text": [
        " ==> [('VILLA FRESH ITALIAN KITCHEN', 0.7333333333333333)]\n",
        "----\n",
        "VIVA EMPANADAS"
       ]
      },
      {
       "output_type": "stream",
       "stream": "stdout",
       "text": [
        " ==> [('VIVA MIS EMPANADAS', 0.7142857142857143)]\n",
        "----\n",
        "VIVA MIS EMPANADAS"
       ]
      },
      {
       "output_type": "stream",
       "stream": "stdout",
       "text": [
        " ==> [('VIVA EMPANADAS', 0.7142857142857143)]\n",
        "----\n",
        "VIVE LA CREPE"
       ]
      },
      {
       "output_type": "stream",
       "stream": "stdout",
       "text": [
        " ==> [('VIVE LA CREPE!', 0.7222222222222222)]\n",
        "----\n",
        "VIVE LA CREPE!"
       ]
      },
      {
       "output_type": "stream",
       "stream": "stdout",
       "text": [
        " ==> [('VIVE LA CREPE', 0.7222222222222222)]\n",
        "----\n",
        "WA LUNG KITCHEN"
       ]
      },
      {
       "output_type": "stream",
       "stream": "stdout",
       "text": [
        " ==> [('WAH LUNG KITCHEN', 0.75)]\n",
        "----\n",
        "WAH LUNG KITCHEN"
       ]
      },
      {
       "output_type": "stream",
       "stream": "stdout",
       "text": [
        " ==> [('WA LUNG KITCHEN', 0.75)]\n",
        "----\n",
        "WEST NEW MALAYSIA RESTAURANT"
       ]
      },
      {
       "output_type": "stream",
       "stream": "stdout",
       "text": [
        " ==> [('NEW MALAYSIA RESTAURANT', 0.7419354838709677)]\n",
        "----\n",
        "WILLIAM GREENBERG DESSERT"
       ]
      },
      {
       "output_type": "stream",
       "stream": "stdout",
       "text": [
        " ==> [('WILLIAM GREENBERG JR DESSERTS', 0.7058823529411765)]\n",
        "----\n",
        "WILLIAM GREENBERG JR DESSERTS"
       ]
      },
      {
       "output_type": "stream",
       "stream": "stdout",
       "text": [
        " ==> [('WILLIAM GREENBERG DESSERT', 0.7058823529411765)]\n",
        "----\n",
        "WIMPY'S RESTAURANT"
       ]
      },
      {
       "output_type": "stream",
       "stream": "stdout",
       "text": [
        " ==> [('WIMPYS RESTAURANT', 0.7727272727272727), (\"WIMPY'S RESTAURANT 5\", 0.75)]\n",
        "----\n",
        "WIMPY'S RESTAURANT 5"
       ]
      },
      {
       "output_type": "stream",
       "stream": "stdout",
       "text": [
        " ==> [(\"WIMPY'S RESTAURANT\", 0.75)]\n",
        "----\n",
        "WIMPYS RESTAURANT"
       ]
      },
      {
       "output_type": "stream",
       "stream": "stdout",
       "text": [
        " ==> [(\"WIMPY'S RESTAURANT\", 0.7727272727272727)]\n",
        "----\n",
        "WIN CHINESE RESTAURANT"
       ]
      },
      {
       "output_type": "stream",
       "stream": "stdout",
       "text": [
        " ==> [('WING XIN CHINESE RESTAURANT', 0.8275862068965517), ('WIN HING CHINESE RESTAURANT', 0.7931034482758621), ('WING HING CHINESE RESTAURANT', 0.7586206896551724), ('WU CHINESE RESTAURANT', 0.7407407407407407), ('WOK CHINESE RESTAURANT', 0.7142857142857143)]\n",
        "----\n",
        "WIN HING CHINESE RESTAURANT"
       ]
      },
      {
       "output_type": "stream",
       "stream": "stdout",
       "text": [
        " ==> [('WING HING CHINESE RESTAURANT', 0.896551724137931), ('WIN CHINESE RESTAURANT', 0.7931034482758621), ('WING XIN CHINESE RESTAURANT', 0.78125)]\n",
        "----\n",
        "WING HING CHINESE RESTAURANT"
       ]
      },
      {
       "output_type": "stream",
       "stream": "stdout",
       "text": [
        " ==> [('WIN HING CHINESE RESTAURANT', 0.896551724137931), ('WIN CHINESE RESTAURANT', 0.7586206896551724), ('L&Y WING HING CHINESE RESTAURANT', 0.7575757575757576), ('CHUNG HING CHINESE RESTAURANT', 0.75), ('LOONG HING CHINESE RESTAURANT', 0.75), ('WING XIN CHINESE RESTAURANT', 0.75), ('DAI HING CHINESE RESTAURANT', 0.71875), ('SUM HING CHINESE RESTAURANT', 0.71875)]\n",
        "----\n",
        "WING WAH RESTAURANT"
       ]
      },
      {
       "output_type": "stream",
       "stream": "stdout",
       "text": [
        " ==> [('KING WAH RESTAURANT', 0.75), ('SING WAH RESTAURANT', 0.75)]\n",
        "----\n",
        "WING XIN CHINESE RESTAURANT"
       ]
      },
      {
       "output_type": "stream",
       "stream": "stdout",
       "text": [
        " ==> [('WIN CHINESE RESTAURANT', 0.8275862068965517), ('WIN HING CHINESE RESTAURANT', 0.78125), ('WING HING CHINESE RESTAURANT', 0.75), ('XING XING CHINESE RESTAURANT', 0.75), ('XIANG XIN CHINESE RESTAURANT', 0.7352941176470589)]\n",
        "----\n",
        "WOK CHINESE RESTAURANT"
       ]
      },
      {
       "output_type": "stream",
       "stream": "stdout",
       "text": [
        " ==> [('WU CHINESE RESTAURANT', 0.7407407407407407), ('WIN CHINESE RESTAURANT', 0.7142857142857143), ('GOOD WOK CHINESE RESTAURANT', 0.7096774193548387), ('KING WOK CHINESE RESTAURANT', 0.7096774193548387), ('NO 1 WOK CHINESE RESTAURANT', 0.7096774193548387), ('SING WOK CHINESE RESTAURANT', 0.7096774193548387)]\n",
        "----\n",
        "WOLFGANG'S STEAK HOUSE"
       ]
      },
      {
       "output_type": "stream",
       "stream": "stdout",
       "text": [
        " ==> [(\"WOLFGANG'S STEAKHOUSE\", 0.8076923076923077)]\n",
        "----\n",
        "WOLFGANG'S STEAKHOUSE"
       ]
      },
      {
       "output_type": "stream",
       "stream": "stdout",
       "text": [
        " ==> [(\"WOLFGANG'S STEAK HOUSE\", 0.8076923076923077)]\n",
        "----\n",
        "WONG RESTAURANT"
       ]
      },
      {
       "output_type": "stream",
       "stream": "stdout",
       "text": [
        " ==> [('HOWONG RESTAURANT', 0.7142857142857143)]\n",
        "----\n",
        "WU CHINESE RESTAURANT"
       ]
      },
      {
       "output_type": "stream",
       "stream": "stdout",
       "text": [
        " ==> [('WIN CHINESE RESTAURANT', 0.7407407407407407), ('WOK CHINESE RESTAURANT', 0.7407407407407407), ('85 CHINESE RESTAURANT', 0.7037037037037037), ('88 CHINESE RESTAURANT', 0.7037037037037037), ('A+ CHINESE RESTAURANT', 0.7037037037037037)]\n",
        "----\n",
        "XI'AN FAMOUS FOODS"
       ]
      },
      {
       "output_type": "stream",
       "stream": "stdout",
       "text": [
        " ==> [('XIAN FAMOUS FOODS', 0.7727272727272727)]\n",
        "----\n",
        "XIAN FAMOUS FOODS"
       ]
      },
      {
       "output_type": "stream",
       "stream": "stdout",
       "text": [
        " ==> [(\"XI'AN FAMOUS FOODS\", 0.7727272727272727)]\n",
        "----\n",
        "XIANG DRAGON CHINESE RESTAURANT"
       ]
      },
      {
       "output_type": "stream",
       "stream": "stdout",
       "text": [
        " ==> [('KING DRAGON CHINESE RESTAURANT', 0.7567567567567568), ('DRAGON CHINESE RESTAURANT', 0.7142857142857143), ('XIANG XIN CHINESE RESTAURANT', 0.7027027027027027)]\n",
        "----\n",
        "XIANG XIN CHINESE RESTAURANT"
       ]
      },
      {
       "output_type": "stream",
       "stream": "stdout",
       "text": [
        " ==> [('XING XING CHINESE RESTAURANT', 0.78125), ('WING XIN CHINESE RESTAURANT', 0.7352941176470589), ('XIANG DRAGON CHINESE RESTAURANT', 0.7027027027027027)]\n",
        "----\n",
        "XIN HING RESTAURANT"
       ]
      },
      {
       "output_type": "stream",
       "stream": "stdout",
       "text": [
        " ==> [('XING XING RESTAURANT', 0.7391304347826086)]\n",
        "----\n",
        "XIN XING 88 CHINESE RESTAURANT"
       ]
      },
      {
       "output_type": "stream",
       "stream": "stdout",
       "text": [
        " ==> [('XING XING CHINESE RESTAURANT', 0.7575757575757576)]\n",
        "----\n",
        "XING LUNG CHINESE RESTAURANT"
       ]
      },
      {
       "output_type": "stream",
       "stream": "stdout",
       "text": [
        " ==> [('JING LUNG CHINESE RESTAURANT', 0.8125), ('XING XING CHINESE RESTAURANT', 0.8064516129032258)]\n",
        "----\n",
        "XING WANG RESTAURANT"
       ]
      },
      {
       "output_type": "stream",
       "stream": "stdout",
       "text": [
        " ==> [('XING XING RESTAURANT', 0.7391304347826086)]\n",
        "----\n",
        "XING XING CHINESE RESTAURANT"
       ]
      },
      {
       "output_type": "stream",
       "stream": "stdout",
       "text": [
        " ==> [('XING LUNG CHINESE RESTAURANT', 0.8064516129032258), ('SHENG XING CHINESE RESTAURANT', 0.78125), ('XIANG XIN CHINESE RESTAURANT', 0.78125), ('XIN XING 88 CHINESE RESTAURANT', 0.7575757575757576), ('WING XIN CHINESE RESTAURANT', 0.75)]\n",
        "----\n",
        "XING XING RESTAURANT"
       ]
      },
      {
       "output_type": "stream",
       "stream": "stdout",
       "text": [
        " ==> [('XIN HING RESTAURANT', 0.7391304347826086), ('XING WANG RESTAURANT', 0.7391304347826086), ('CHANG XING RESTAURANT', 0.7083333333333334)]\n",
        "----\n",
        "YAMA JAPANESE RESTAURANT'"
       ]
      },
      {
       "output_type": "stream",
       "stream": "stdout",
       "text": [
        " ==> [('YAMADA JAPANESE RESTAURANT', 0.71875)]\n",
        "----\n",
        "YAMADA JAPANESE RESTAURANT"
       ]
      },
      {
       "output_type": "stream",
       "stream": "stdout",
       "text": [
        " ==> [(\"YAMA JAPANESE RESTAURANT'\", 0.71875)]\n",
        "----\n",
        "YEMEN RESTAURANT"
       ]
      },
      {
       "output_type": "stream",
       "stream": "stdout",
       "text": [
        " ==> [('YEN YEN RESTAURANT', 0.7142857142857143)]\n",
        "----\n",
        "YEN YEN RESTAURANT"
       ]
      },
      {
       "output_type": "stream",
       "stream": "stdout",
       "text": [
        " ==> [('YEMEN RESTAURANT', 0.7142857142857143)]\n",
        "----\n",
        "YMC GOOD TASTE CHINESE RESTAURANT"
       ]
      },
      {
       "output_type": "stream",
       "stream": "stdout",
       "text": [
        " ==> [('GOOD TASTE CHINESE RESTAURANT', 0.7837837837837838), ('NEW GOOD TASTE CHINESE RESTAURANT', 0.75)]\n",
        "----\n",
        "YO-YO FRITAILLE"
       ]
      },
      {
       "output_type": "stream",
       "stream": "stdout",
       "text": [
        " ==> [('YOYO FRITAILLE', 0.7368421052631579)]\n",
        "----\n",
        "YONG SHENG CHINESE RESTAURANT"
       ]
      },
      {
       "output_type": "stream",
       "stream": "stdout",
       "text": [
        " ==> [('RONG SHENG CHINESE RESTAURANT', 0.8181818181818182)]\n",
        "----\n",
        "YOYO FRITAILLE"
       ]
      },
      {
       "output_type": "stream",
       "stream": "stdout",
       "text": [
        " ==> [('YO-YO FRITAILLE', 0.7368421052631579)]\n",
        "----\n",
        "YUKA JAPANESE RESTAURANT"
       ]
      },
      {
       "output_type": "stream",
       "stream": "stdout",
       "text": [
        " ==> [('OSAKA JAPANESE RESTAURANT', 0.7096774193548387)]\n",
        "----\n",
        "YUM YUM CHINESE RESTAURANT"
       ]
      },
      {
       "output_type": "stream",
       "stream": "stdout",
       "text": [
        " ==> [('YUM YUMMY CHINESE RESTAURANT', 0.8333333333333334), ('YUMMY YUMMY CHINESE RESTAURANT', 0.7419354838709677), ('YUMMY CHINESE RESTAURANT', 0.7333333333333333)]\n",
        "----\n",
        "YUM YUMMY CHINESE RESTAURANT"
       ]
      },
      {
       "output_type": "stream",
       "stream": "stdout",
       "text": [
        " ==> [('YUMMY YUMMY CHINESE RESTAURANT', 0.9), ('YUMMY CHINESE RESTAURANT', 0.896551724137931), ('YUM YUM CHINESE RESTAURANT', 0.8333333333333334)]\n",
        "----\n",
        "YUMMY CHINESE RESTAURANT"
       ]
      },
      {
       "output_type": "stream",
       "stream": "stdout",
       "text": [
        " ==> [('YUMMY YUMMY CHINESE RESTAURANT', 0.9285714285714286), ('YUM YUMMY CHINESE RESTAURANT', 0.896551724137931), ('YUM YUM CHINESE RESTAURANT', 0.7333333333333333)]\n",
        "----\n",
        "YUMMY KITCHEN"
       ]
      },
      {
       "output_type": "stream",
       "stream": "stdout",
       "text": [
        " ==> [('YUMMY YUMMY KITCHEN', 0.8823529411764706)]\n",
        "----\n",
        "YUMMY YUMMY CHINESE RESTAURANT"
       ]
      },
      {
       "output_type": "stream",
       "stream": "stdout",
       "text": [
        " ==> [('YUMMY CHINESE RESTAURANT', 0.9285714285714286), ('YUM YUMMY CHINESE RESTAURANT', 0.9), ('YUM YUM CHINESE RESTAURANT', 0.7419354838709677)]\n",
        "----\n",
        "YUMMY YUMMY KITCHEN"
       ]
      },
      {
       "output_type": "stream",
       "stream": "stdout",
       "text": [
        " ==> [('YUMMY KITCHEN', 0.8823529411764706)]\n",
        "----\n",
        "ZHONG WAH CHINESE RESTAURANT"
       ]
      },
      {
       "output_type": "stream",
       "stream": "stdout",
       "text": [
        " ==> [('JING WAH CHINESE RESTAURANT', 0.7352941176470589)]\n",
        "----\n"
       ]
      }
     ],
     "prompt_number": 15
    },
    {
     "cell_type": "code",
     "collapsed": false,
     "input": [],
     "language": "python",
     "metadata": {},
     "outputs": []
    }
   ],
   "metadata": {}
  }
 ]
}