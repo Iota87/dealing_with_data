{
 "cells": [
  {
   "cell_type": "markdown",
   "metadata": {},
   "source": [
    "We start this notebook by typing a \"magic\" command that allows iPython notebooks to display plots directly in the browser."
   ]
  },
  {
   "cell_type": "code",
   "execution_count": 1,
   "metadata": {
    "collapsed": false
   },
   "outputs": [],
   "source": [
    "# Render our plots inline\n",
    "%matplotlib inline"
   ]
  },
  {
   "cell_type": "markdown",
   "metadata": {},
   "source": [
    "In order to read and process files, we are going to use a very powerful, and widely used Python library, called pandas. So, our next step is to import the pandas library in Python, and also import the library matplotlib for generating plots:"
   ]
  },
  {
   "cell_type": "code",
   "execution_count": 2,
   "metadata": {
    "collapsed": false
   },
   "outputs": [],
   "source": [
    "import pandas as pd\n",
    "import matplotlib.pyplot as plt"
   ]
  },
  {
   "cell_type": "markdown",
   "metadata": {},
   "source": [
    "Pandas should already be installed on your machine, but if you get an error in the import statement above, indicating that pandas is not available, please go to the Unix shell and type:\n",
    "\n",
    "`sudo pip install -U pandas`\n",
    "\n",
    "It will take a few minutes to get everything installed."
   ]
  },
  {
   "cell_type": "markdown",
   "metadata": {},
   "source": [
    "And we type some code to simply change the visual style of the plots. (The code below is optional and not necessary, and for now you do not need to understand what exactly is happening.)"
   ]
  },
  {
   "cell_type": "code",
   "execution_count": 3,
   "metadata": {
    "collapsed": false
   },
   "outputs": [],
   "source": [
    "# Make the graphs a bit prettier, and bigger\n",
    "# pd.set_option('display.mpl_style', 'default')\n",
    "plt.rcParams['figure.figsize'] = (15, 5)"
   ]
  },
  {
   "cell_type": "markdown",
   "metadata": {},
   "source": [
    "Let's take a look at the restaurant inspections file (at /home/ubuntu/data/restaurants.csv), which we used in our earlier classes.\n",
    "\n",
    "If you do not have it, then type the following in the shell:\n",
    "\n",
    "`curl 'https://dl.dropboxusercontent.com/u/16006464/DwD_Winter2015/restaurant.zip' -o /home/ubuntu/data/restaurant.zip`\n",
    "\n",
    "`unzip /home/ubuntu/data/restaurant.zip -d /home/ubuntu/data/`\n"
   ]
  },
  {
   "cell_type": "code",
   "execution_count": 4,
   "metadata": {
    "collapsed": false
   },
   "outputs": [
    {
     "name": "stdout",
     "output_type": "stream",
     "text": [
      "CAMIS,DBA,BORO,BUILDING,STREET,ZIPCODE,PHONE,CUISINE DESCRIPTION,INSPECTION DATE,ACTION,VIOLATION CODE,VIOLATION DESCRIPTION,CRITICAL FLAG,SCORE,GRADE,GRADE DATE,RECORD DATE,INSPECTION TYPE\r\n",
      "30075445,MORRIS PARK BAKE SHOP,BRONX,1007      ,MORRIS PARK AVE                                   ,10462,7188924968,Bakery,03/03/2014,Violations were cited in the following area(s).,10F,\"Non-food contact surface improperly constructed. Unacceptable material used. Non-food contact surface or equipment improperly maintained and/or not properly sealed, raised, spaced or movable to allow accessibility for cleaning on all sides, above and underneath the unit.\",Not Critical,2,A,03/03/2014,01/14/2015,Cycle Inspection / Initial Inspection\r\n",
      "30075445,MORRIS PARK BAKE SHOP,BRONX,1007      ,MORRIS PARK AVE                                   ,10462,7188924968,Bakery,10/10/2013,No violations were recorded at the time of this inspection.,,,Not Applicable,,,,01/14/2015,Trans Fat / Second Compliance Inspection\r\n",
      "30075445,MORRIS PARK BAKE SHOP,BRONX,1007      ,MORRIS PARK AVE                                   ,10462,7188924968,Bakery,09/11/2013,Violations were cited in the following area(s).,04L,Evidence of mice or live mice present in facility's food and/or non-food areas.,Critical,6,A,09/11/2013,01/14/2015,Cycle Inspection / Re-inspection\r\n",
      "30075445,MORRIS PARK BAKE SHOP,BRONX,1007      ,MORRIS PARK AVE                                   ,10462,7188924968,Bakery,09/11/2013,Violations were cited in the following area(s).,04N,\"Filth flies or food/refuse/sewage-associated (FRSA) flies present in facility\u001as food and/or non-food areas. Filth flies include house flies, little house flies, blow flies, bottle flies and flesh flies. Food/refuse/sewage-associated flies include fruit flies, drain flies and Phorid flies.\",Critical,6,A,09/11/2013,01/14/2015,Cycle Inspection / Re-inspection\r\n"
     ]
    }
   ],
   "source": [
    "!head -5 /home/ubuntu/data/restaurant.csv"
   ]
  },
  {
   "cell_type": "markdown",
   "metadata": {},
   "source": [
    "We want to be able to read and process this file within Python. The pandas library has a very convenient method `read_csv` which reads the file, and returns back a variable that contains its contents."
   ]
  },
  {
   "cell_type": "code",
   "execution_count": 5,
   "metadata": {
    "collapsed": false
   },
   "outputs": [],
   "source": [
    "restaurants = pd.read_csv(\"/home/ubuntu/data/restaurant.csv\", \n",
    "                          dtype=unicode, encoding=\"utf-8\")"
   ]
  },
  {
   "cell_type": "markdown",
   "metadata": {},
   "source": [
    "When you read a CSV, you get back a kind of object called a DataFrame, which is made up of rows and columns. You get columns out of a DataFrame the same way you get elements out of a dictionary. Let's take a look at how the object looks like:"
   ]
  },
  {
   "cell_type": "code",
   "execution_count": 6,
   "metadata": {
    "collapsed": false
   },
   "outputs": [
    {
     "data": {
      "text/html": [
       "<div>\n",
       "<table border=\"1\" class=\"dataframe\">\n",
       "  <thead>\n",
       "    <tr style=\"text-align: right;\">\n",
       "      <th></th>\n",
       "      <th>CAMIS</th>\n",
       "      <th>DBA</th>\n",
       "      <th>BORO</th>\n",
       "      <th>BUILDING</th>\n",
       "      <th>STREET</th>\n",
       "      <th>ZIPCODE</th>\n",
       "      <th>PHONE</th>\n",
       "      <th>CUISINE DESCRIPTION</th>\n",
       "      <th>INSPECTION DATE</th>\n",
       "      <th>ACTION</th>\n",
       "      <th>VIOLATION CODE</th>\n",
       "      <th>VIOLATION DESCRIPTION</th>\n",
       "      <th>CRITICAL FLAG</th>\n",
       "      <th>SCORE</th>\n",
       "      <th>GRADE</th>\n",
       "      <th>GRADE DATE</th>\n",
       "      <th>RECORD DATE</th>\n",
       "      <th>INSPECTION TYPE</th>\n",
       "    </tr>\n",
       "  </thead>\n",
       "  <tbody>\n",
       "    <tr>\n",
       "      <th>0</th>\n",
       "      <td>30075445</td>\n",
       "      <td>MORRIS PARK BAKE SHOP</td>\n",
       "      <td>BRONX</td>\n",
       "      <td>1007</td>\n",
       "      <td>MORRIS PARK AVE                               ...</td>\n",
       "      <td>10462</td>\n",
       "      <td>7188924968</td>\n",
       "      <td>Bakery</td>\n",
       "      <td>03/03/2014</td>\n",
       "      <td>Violations were cited in the following area(s).</td>\n",
       "      <td>10F</td>\n",
       "      <td>Non-food contact surface improperly constructe...</td>\n",
       "      <td>Not Critical</td>\n",
       "      <td>2</td>\n",
       "      <td>A</td>\n",
       "      <td>03/03/2014</td>\n",
       "      <td>01/14/2015</td>\n",
       "      <td>Cycle Inspection / Initial Inspection</td>\n",
       "    </tr>\n",
       "    <tr>\n",
       "      <th>1</th>\n",
       "      <td>30075445</td>\n",
       "      <td>MORRIS PARK BAKE SHOP</td>\n",
       "      <td>BRONX</td>\n",
       "      <td>1007</td>\n",
       "      <td>MORRIS PARK AVE                               ...</td>\n",
       "      <td>10462</td>\n",
       "      <td>7188924968</td>\n",
       "      <td>Bakery</td>\n",
       "      <td>10/10/2013</td>\n",
       "      <td>No violations were recorded at the time of thi...</td>\n",
       "      <td>NaN</td>\n",
       "      <td>NaN</td>\n",
       "      <td>Not Applicable</td>\n",
       "      <td>NaN</td>\n",
       "      <td>NaN</td>\n",
       "      <td>NaN</td>\n",
       "      <td>01/14/2015</td>\n",
       "      <td>Trans Fat / Second Compliance Inspection</td>\n",
       "    </tr>\n",
       "    <tr>\n",
       "      <th>2</th>\n",
       "      <td>30075445</td>\n",
       "      <td>MORRIS PARK BAKE SHOP</td>\n",
       "      <td>BRONX</td>\n",
       "      <td>1007</td>\n",
       "      <td>MORRIS PARK AVE                               ...</td>\n",
       "      <td>10462</td>\n",
       "      <td>7188924968</td>\n",
       "      <td>Bakery</td>\n",
       "      <td>09/11/2013</td>\n",
       "      <td>Violations were cited in the following area(s).</td>\n",
       "      <td>04L</td>\n",
       "      <td>Evidence of mice or live mice present in facil...</td>\n",
       "      <td>Critical</td>\n",
       "      <td>6</td>\n",
       "      <td>A</td>\n",
       "      <td>09/11/2013</td>\n",
       "      <td>01/14/2015</td>\n",
       "      <td>Cycle Inspection / Re-inspection</td>\n",
       "    </tr>\n",
       "    <tr>\n",
       "      <th>3</th>\n",
       "      <td>30075445</td>\n",
       "      <td>MORRIS PARK BAKE SHOP</td>\n",
       "      <td>BRONX</td>\n",
       "      <td>1007</td>\n",
       "      <td>MORRIS PARK AVE                               ...</td>\n",
       "      <td>10462</td>\n",
       "      <td>7188924968</td>\n",
       "      <td>Bakery</td>\n",
       "      <td>09/11/2013</td>\n",
       "      <td>Violations were cited in the following area(s).</td>\n",
       "      <td>04N</td>\n",
       "      <td>Filth flies or food/refuse/sewage-associated (...</td>\n",
       "      <td>Critical</td>\n",
       "      <td>6</td>\n",
       "      <td>A</td>\n",
       "      <td>09/11/2013</td>\n",
       "      <td>01/14/2015</td>\n",
       "      <td>Cycle Inspection / Re-inspection</td>\n",
       "    </tr>\n",
       "    <tr>\n",
       "      <th>4</th>\n",
       "      <td>30075445</td>\n",
       "      <td>MORRIS PARK BAKE SHOP</td>\n",
       "      <td>BRONX</td>\n",
       "      <td>1007</td>\n",
       "      <td>MORRIS PARK AVE                               ...</td>\n",
       "      <td>10462</td>\n",
       "      <td>7188924968</td>\n",
       "      <td>Bakery</td>\n",
       "      <td>08/14/2013</td>\n",
       "      <td>Violations were cited in the following area(s).</td>\n",
       "      <td>04C</td>\n",
       "      <td>Food worker does not use proper utensil to eli...</td>\n",
       "      <td>Critical</td>\n",
       "      <td>32</td>\n",
       "      <td>NaN</td>\n",
       "      <td>NaN</td>\n",
       "      <td>01/14/2015</td>\n",
       "      <td>Cycle Inspection / Initial Inspection</td>\n",
       "    </tr>\n",
       "  </tbody>\n",
       "</table>\n",
       "</div>"
      ],
      "text/plain": [
       "      CAMIS                    DBA   BORO    BUILDING  \\\n",
       "0  30075445  MORRIS PARK BAKE SHOP  BRONX  1007         \n",
       "1  30075445  MORRIS PARK BAKE SHOP  BRONX  1007         \n",
       "2  30075445  MORRIS PARK BAKE SHOP  BRONX  1007         \n",
       "3  30075445  MORRIS PARK BAKE SHOP  BRONX  1007         \n",
       "4  30075445  MORRIS PARK BAKE SHOP  BRONX  1007         \n",
       "\n",
       "                                              STREET ZIPCODE       PHONE  \\\n",
       "0  MORRIS PARK AVE                               ...   10462  7188924968   \n",
       "1  MORRIS PARK AVE                               ...   10462  7188924968   \n",
       "2  MORRIS PARK AVE                               ...   10462  7188924968   \n",
       "3  MORRIS PARK AVE                               ...   10462  7188924968   \n",
       "4  MORRIS PARK AVE                               ...   10462  7188924968   \n",
       "\n",
       "  CUISINE DESCRIPTION INSPECTION DATE  \\\n",
       "0              Bakery      03/03/2014   \n",
       "1              Bakery      10/10/2013   \n",
       "2              Bakery      09/11/2013   \n",
       "3              Bakery      09/11/2013   \n",
       "4              Bakery      08/14/2013   \n",
       "\n",
       "                                              ACTION VIOLATION CODE  \\\n",
       "0    Violations were cited in the following area(s).            10F   \n",
       "1  No violations were recorded at the time of thi...            NaN   \n",
       "2    Violations were cited in the following area(s).            04L   \n",
       "3    Violations were cited in the following area(s).            04N   \n",
       "4    Violations were cited in the following area(s).            04C   \n",
       "\n",
       "                               VIOLATION DESCRIPTION   CRITICAL FLAG SCORE  \\\n",
       "0  Non-food contact surface improperly constructe...    Not Critical     2   \n",
       "1                                                NaN  Not Applicable   NaN   \n",
       "2  Evidence of mice or live mice present in facil...        Critical     6   \n",
       "3  Filth flies or food/refuse/sewage-associated (...        Critical     6   \n",
       "4  Food worker does not use proper utensil to eli...        Critical    32   \n",
       "\n",
       "  GRADE  GRADE DATE RECORD DATE                           INSPECTION TYPE  \n",
       "0     A  03/03/2014  01/14/2015     Cycle Inspection / Initial Inspection  \n",
       "1   NaN         NaN  01/14/2015  Trans Fat / Second Compliance Inspection  \n",
       "2     A  09/11/2013  01/14/2015          Cycle Inspection / Re-inspection  \n",
       "3     A  09/11/2013  01/14/2015          Cycle Inspection / Re-inspection  \n",
       "4   NaN         NaN  01/14/2015     Cycle Inspection / Initial Inspection  "
      ]
     },
     "execution_count": 6,
     "metadata": {},
     "output_type": "execute_result"
    }
   ],
   "source": [
    "restaurants.head(5)"
   ]
  },
  {
   "cell_type": "markdown",
   "metadata": {},
   "source": [
    "The read_csv method has many options, and you can read further in the [online documentation](http://pandas.pydata.org/pandas-docs/stable/generated/pandas.io.parsers.read_csv.html)."
   ]
  },
  {
   "cell_type": "markdown",
   "metadata": {},
   "source": [
    "### Descriptive statistics\n",
    "\n",
    "We can use the method \"describe()\" to get a quick overview of the data in the dataframe."
   ]
  },
  {
   "cell_type": "code",
   "execution_count": 7,
   "metadata": {
    "collapsed": false
   },
   "outputs": [
    {
     "data": {
      "text/html": [
       "<div>\n",
       "<table border=\"1\" class=\"dataframe\">\n",
       "  <thead>\n",
       "    <tr style=\"text-align: right;\">\n",
       "      <th></th>\n",
       "      <th>CAMIS</th>\n",
       "      <th>DBA</th>\n",
       "      <th>BORO</th>\n",
       "      <th>BUILDING</th>\n",
       "      <th>STREET</th>\n",
       "      <th>ZIPCODE</th>\n",
       "      <th>PHONE</th>\n",
       "      <th>CUISINE DESCRIPTION</th>\n",
       "      <th>INSPECTION DATE</th>\n",
       "      <th>ACTION</th>\n",
       "      <th>VIOLATION CODE</th>\n",
       "      <th>VIOLATION DESCRIPTION</th>\n",
       "      <th>CRITICAL FLAG</th>\n",
       "      <th>SCORE</th>\n",
       "      <th>GRADE</th>\n",
       "      <th>GRADE DATE</th>\n",
       "      <th>RECORD DATE</th>\n",
       "      <th>INSPECTION TYPE</th>\n",
       "    </tr>\n",
       "  </thead>\n",
       "  <tbody>\n",
       "    <tr>\n",
       "      <th>count</th>\n",
       "      <td>515589</td>\n",
       "      <td>515428</td>\n",
       "      <td>515589</td>\n",
       "      <td>514902</td>\n",
       "      <td>515589</td>\n",
       "      <td>515587</td>\n",
       "      <td>515500</td>\n",
       "      <td>515589</td>\n",
       "      <td>515589</td>\n",
       "      <td>514812</td>\n",
       "      <td>504695</td>\n",
       "      <td>504676</td>\n",
       "      <td>515589</td>\n",
       "      <td>481977</td>\n",
       "      <td>228633</td>\n",
       "      <td>227141</td>\n",
       "      <td>515589</td>\n",
       "      <td>514813</td>\n",
       "    </tr>\n",
       "    <tr>\n",
       "      <th>unique</th>\n",
       "      <td>25326</td>\n",
       "      <td>20590</td>\n",
       "      <td>6</td>\n",
       "      <td>10307</td>\n",
       "      <td>4868</td>\n",
       "      <td>212</td>\n",
       "      <td>24208</td>\n",
       "      <td>84</td>\n",
       "      <td>1330</td>\n",
       "      <td>5</td>\n",
       "      <td>96</td>\n",
       "      <td>101</td>\n",
       "      <td>3</td>\n",
       "      <td>121</td>\n",
       "      <td>7</td>\n",
       "      <td>1208</td>\n",
       "      <td>1</td>\n",
       "      <td>35</td>\n",
       "    </tr>\n",
       "    <tr>\n",
       "      <th>top</th>\n",
       "      <td>40699772</td>\n",
       "      <td>SUBWAY</td>\n",
       "      <td>MANHATTAN</td>\n",
       "      <td>0</td>\n",
       "      <td>BROADWAY</td>\n",
       "      <td>10003</td>\n",
       "      <td>7186566210</td>\n",
       "      <td>American</td>\n",
       "      <td>12/17/2014</td>\n",
       "      <td>Violations were cited in the following area(s).</td>\n",
       "      <td>10F</td>\n",
       "      <td>Non-food contact surface improperly constructe...</td>\n",
       "      <td>Critical</td>\n",
       "      <td>12</td>\n",
       "      <td>A</td>\n",
       "      <td>06/26/2014</td>\n",
       "      <td>01/14/2015</td>\n",
       "      <td>Cycle Inspection / Initial Inspection</td>\n",
       "    </tr>\n",
       "    <tr>\n",
       "      <th>freq</th>\n",
       "      <td>116</td>\n",
       "      <td>4861</td>\n",
       "      <td>211251</td>\n",
       "      <td>2237</td>\n",
       "      <td>12359</td>\n",
       "      <td>14790</td>\n",
       "      <td>313</td>\n",
       "      <td>124379</td>\n",
       "      <td>1053</td>\n",
       "      <td>482524</td>\n",
       "      <td>65550</td>\n",
       "      <td>65550</td>\n",
       "      <td>283205</td>\n",
       "      <td>38617</td>\n",
       "      <td>157683</td>\n",
       "      <td>612</td>\n",
       "      <td>515589</td>\n",
       "      <td>281832</td>\n",
       "    </tr>\n",
       "  </tbody>\n",
       "</table>\n",
       "</div>"
      ],
      "text/plain": [
       "           CAMIS     DBA       BORO    BUILDING    STREET ZIPCODE       PHONE  \\\n",
       "count     515589  515428     515589      514902    515589  515587      515500   \n",
       "unique     25326   20590          6       10307      4868     212       24208   \n",
       "top     40699772  SUBWAY  MANHATTAN  0           BROADWAY   10003  7186566210   \n",
       "freq         116    4861     211251        2237     12359   14790         313   \n",
       "\n",
       "       CUISINE DESCRIPTION INSPECTION DATE  \\\n",
       "count               515589          515589   \n",
       "unique                  84            1330   \n",
       "top              American       12/17/2014   \n",
       "freq                124379            1053   \n",
       "\n",
       "                                                 ACTION VIOLATION CODE  \\\n",
       "count                                            514812         504695   \n",
       "unique                                                5             96   \n",
       "top     Violations were cited in the following area(s).            10F   \n",
       "freq                                             482524          65550   \n",
       "\n",
       "                                    VIOLATION DESCRIPTION CRITICAL FLAG  \\\n",
       "count                                              504676        515589   \n",
       "unique                                                101             3   \n",
       "top     Non-food contact surface improperly constructe...      Critical   \n",
       "freq                                                65550        283205   \n",
       "\n",
       "         SCORE   GRADE  GRADE DATE RECORD DATE  \\\n",
       "count   481977  228633      227141      515589   \n",
       "unique     121       7        1208           1   \n",
       "top         12       A  06/26/2014  01/14/2015   \n",
       "freq     38617  157683         612      515589   \n",
       "\n",
       "                              INSPECTION TYPE  \n",
       "count                                  514813  \n",
       "unique                                     35  \n",
       "top     Cycle Inspection / Initial Inspection  \n",
       "freq                                   281832  "
      ]
     },
     "execution_count": 7,
     "metadata": {},
     "output_type": "execute_result"
    }
   ],
   "source": [
    "restaurants.describe()"
   ]
  },
  {
   "cell_type": "code",
   "execution_count": 8,
   "metadata": {
    "collapsed": true
   },
   "outputs": [],
   "source": [
    "restaurants[\"SCORE\"] = pd.to_numeric(restaurants[\"SCORE\"])"
   ]
  },
  {
   "cell_type": "code",
   "execution_count": 22,
   "metadata": {
    "collapsed": false
   },
   "outputs": [
    {
     "data": {
      "text/plain": [
       "<matplotlib.axes._subplots.AxesSubplot at 0x7f29f7d01250>"
      ]
     },
     "execution_count": 22,
     "metadata": {},
     "output_type": "execute_result"
    },
    {
     "data": {
      "image/png": "[encoded data removed]",
      "text/plain": [
       "<matplotlib.figure.Figure at 0x7f29f7bccdd0>"
      ]
     },
     "metadata": {},
     "output_type": "display_data"
    }
   ],
   "source": [
    "ax = restaurants[\"SCORE\"].hist(bins=50, alpha=0.5, range=(0,50), normed=True)\n",
    "\n",
    "restaurants[\"SCORE\"].plot(kind='kde', color='Red', xlim=(0,50), ax=ax)"
   ]
  },
  {
   "cell_type": "markdown",
   "metadata": {},
   "source": [
    "### Selecting a subset of the columns\n",
    "\n",
    "In a dataframe, we can specify the column(s) that we want to keep, and get back another dataframe with just the subset of the columns that we want to keep."
   ]
  },
  {
   "cell_type": "code",
   "execution_count": null,
   "metadata": {
    "collapsed": false
   },
   "outputs": [],
   "source": [
    "restaurants[\"VIOLATION CODE\"].head(5)"
   ]
  },
  {
   "cell_type": "code",
   "execution_count": null,
   "metadata": {
    "collapsed": false
   },
   "outputs": [],
   "source": [
    "restaurants[[\"GRADE DATE\",\"VIOLATION CODE\", \"DBA\"]].head(5)"
   ]
  },
  {
   "cell_type": "code",
   "execution_count": null,
   "metadata": {
    "collapsed": false
   },
   "outputs": [],
   "source": []
  },
  {
   "cell_type": "markdown",
   "metadata": {},
   "source": [
    "We can also get quick statistics about the common values that appear in each column:"
   ]
  },
  {
   "cell_type": "code",
   "execution_count": null,
   "metadata": {
    "collapsed": false
   },
   "outputs": [],
   "source": [
    "restaurants[\"DBA\"].value_counts()"
   ]
  },
  {
   "cell_type": "code",
   "execution_count": null,
   "metadata": {
    "collapsed": false
   },
   "outputs": [],
   "source": [
    "violation_counts = restaurants[\"VIOLATION CODE\"].value_counts();\n",
    "violation_counts[0:10]"
   ]
  },
  {
   "cell_type": "code",
   "execution_count": null,
   "metadata": {
    "collapsed": false
   },
   "outputs": [],
   "source": [
    "violation_counts = restaurants[\"VIOLATION CODE\"].value_counts();\n",
    "violation_counts[0:10]"
   ]
  },
  {
   "cell_type": "markdown",
   "metadata": {},
   "source": [
    "And we can use the \"plot\" command to plot the resulting histogram:"
   ]
  },
  {
   "cell_type": "code",
   "execution_count": null,
   "metadata": {
    "collapsed": false
   },
   "outputs": [],
   "source": [
    "violation_counts[:10].plot(kind='bar')"
   ]
  },
  {
   "cell_type": "code",
   "execution_count": null,
   "metadata": {
    "collapsed": false
   },
   "outputs": [],
   "source": [
    "popular[:10].plot(kind='bar')"
   ]
  },
  {
   "cell_type": "markdown",
   "metadata": {},
   "source": [
    "#### Using the map command\n",
    "\n",
    "The map command in Python has the following syntax:\n",
    "\n",
    "`map(function, [list of values for first argument], [list of values for second argument]...)`\n",
    "\n",
    "It takes as input a function, which has a set of parameters. Then, it iterates over the lists that follow; the lists contain the arguments that are passed to the function. Map returns a list of values that are the result of applying the function to all the elements of the list(s). \n",
    "\n",
    "For example, in the following code, the `add` function is going to be applied to the two lists (`[1, 2, 3, 4]` and `[9, 10, 10, 11]`) that follow. The result of the map will be a list containing the values `[add(1,2), add(2,10), add(3,10), add(4,11)]`\n",
    "\n",
    "\n"
   ]
  },
  {
   "cell_type": "code",
   "execution_count": null,
   "metadata": {
    "collapsed": false
   },
   "outputs": [],
   "source": [
    "def add(x,y):\n",
    "    return x+y\n",
    "    \n",
    "example = map(add, [1, 2, 3, 4], [9, 10, 10, 11])\n",
    "example"
   ]
  },
  {
   "cell_type": "markdown",
   "metadata": {},
   "source": [
    "#### Using the map for dataframes\n",
    "\n",
    "Using the map command, we can:\n",
    "* Create new columns for the dataframe\n",
    "* Modify existing columns\n",
    "* Generate new columns that are the result of operations on the columns of the dataframe\n",
    "\n",
    "For example, suppose that we want to format the phone column. We can write a function that takes as input a phone and formats it as we want. Then we apply the function using the map command as follows:"
   ]
  },
  {
   "cell_type": "code",
   "execution_count": null,
   "metadata": {
    "collapsed": false
   },
   "outputs": [],
   "source": [
    "restaurants['PHONE']"
   ]
  },
  {
   "cell_type": "code",
   "execution_count": null,
   "metadata": {
    "collapsed": true
   },
   "outputs": [],
   "source": [
    "import re\n",
    "def formatPhone(phoneString):\n",
    "    regex = re.compile(r'([2-9]\\d{2})\\W*(\\d{3})\\W*(\\d{4})')\n",
    "    match = regex.search(str(phoneString))\n",
    "    if match:\n",
    "        area_code = match.group(1)\n",
    "        first_three = match.group(2)\n",
    "        last_four = match.group(3)\n",
    "        formatted = \"(\" + area_code + \") \" + first_three + \"-\" + last_four\n",
    "        return formatted\n",
    "    else:\n",
    "        return None"
   ]
  },
  {
   "cell_type": "code",
   "execution_count": null,
   "metadata": {
    "collapsed": false
   },
   "outputs": [],
   "source": [
    "print formatPhone(\"2129980803\")"
   ]
  },
  {
   "cell_type": "code",
   "execution_count": null,
   "metadata": {
    "collapsed": false
   },
   "outputs": [],
   "source": [
    "import re\n",
    "\n",
    "def formatPhone(phoneString):\n",
    "    \n",
    "    regex = re.compile(r'([2-9]\\d{2})\\W*(\\d{3})\\W*(\\d{4})')\n",
    "    match = regex.search(str(phoneString))\n",
    "    if match:\n",
    "        formatted = \"(\" + match.group(1) + \") \" + match.group(2) + \"-\" + match.group(3)\n",
    "        return formatted\n",
    "    else:\n",
    "        return \"None\"\n",
    "    \n",
    "restaurants['FormattedPhone'] = map(formatPhone, restaurants['PHONE'])"
   ]
  },
  {
   "cell_type": "code",
   "execution_count": null,
   "metadata": {
    "collapsed": false
   },
   "outputs": [],
   "source": [
    "restaurants[['PHONE', 'FormattedPhone']]"
   ]
  },
  {
   "cell_type": "code",
   "execution_count": null,
   "metadata": {
    "collapsed": false
   },
   "outputs": [],
   "source": [
    "def printAddress(boro, building, street, zipcode, phone):\n",
    "    if building == None:\n",
    "        building = \"\"\n",
    "    if street == None:\n",
    "        street = \"\"\n",
    "    if boro == None:\n",
    "        boro = \"\"\n",
    "    if zipcode == None:\n",
    "        zipcode = \"\"\n",
    "    if phone == None:\n",
    "        phone = \"\"\n",
    "    \n",
    "    result = str(building) + \" \" + street + \" \" + \\\n",
    "            boro + \", \" + unicode(zipcode)    \"\\nPhone: \" + formatPhone(phone)         \n",
    "    return result\n",
    "\n",
    "print printAddress(\"Manhattan\", \"44\", \"West 4th\", \"10012\", \"2129980803\")\n",
    "\n",
    "restaurants[\"FormattedAddress\"] = map(printAddress, \n",
    "                                     restaurants[\"BORO\"],\n",
    "                                     restaurants[\"BUILDING\"],\n",
    "                                     restaurants[\"STREET\"],\n",
    "                                     restaurants[\"ZIPCODE\"],\n",
    "                                     restaurants[\"PHONE\"])"
   ]
  },
  {
   "cell_type": "code",
   "execution_count": null,
   "metadata": {
    "collapsed": false
   },
   "outputs": [],
   "source": [
    "restaurants[[\"FormattedAddress\", \"STREET\", \"BUILDING\", \"BORO\"]]\n"
   ]
  },
  {
   "cell_type": "markdown",
   "metadata": {},
   "source": [
    "### Selecting rows\n",
    "\n",
    "To select rows, we can use the following approach, where we generate a list of boolean values, one for each row of the dataframe, and then we use the list to select which of the rows of the dataframe we want to keep\""
   ]
  },
  {
   "cell_type": "code",
   "execution_count": null,
   "metadata": {
    "collapsed": false
   },
   "outputs": [],
   "source": [
    "is_08A = (restaurants[\"VIOLATION CODE\"] == \"08A\")\n",
    "inspections08A = restaurants[is_08A]\n",
    "inspections08A[\"DBA\"].value_counts()[:10]"
   ]
  },
  {
   "cell_type": "markdown",
   "metadata": {},
   "source": [
    "And we can use more complex conditions:"
   ]
  },
  {
   "cell_type": "code",
   "execution_count": null,
   "metadata": {
    "collapsed": false
   },
   "outputs": [],
   "source": [
    "is_08A_manhattan = (restaurants[\"VIOLATION CODE\"] == \"08A\") \\\n",
    "                    & (restaurants[\"BORO\"] == \"MANHATTAN\")\n",
    "inspections08A_in_manhattan = restaurants[is_08A_manhattan]\n",
    "inspections08A_in_manhattan[\"DBA\"].value_counts()[:10].plot(kind='bar')"
   ]
  },
  {
   "cell_type": "code",
   "execution_count": null,
   "metadata": {
    "collapsed": false
   },
   "outputs": [],
   "source": [
    "restaurants[[\"VIOLATION CODE\", \"VIOLATION DESCRIPTION\"]]"
   ]
  },
  {
   "cell_type": "markdown",
   "metadata": {},
   "source": [
    "## Reading Excel files\n",
    "\n",
    "Pandas make it trivially easy to read the contents of Excel files. For example, I stored the restaurant inspection dataset as an excel file. Let's grab it and get it stored locally:"
   ]
  },
  {
   "cell_type": "code",
   "execution_count": null,
   "metadata": {
    "collapsed": false
   },
   "outputs": [],
   "source": [
    "!curl -L -s \"https://dl.dropboxusercontent.com/u/16006464/DwD_Fall2014/Restaurants.xlsx\" -o Restaurants.xlsx"
   ]
  },
  {
   "cell_type": "markdown",
   "metadata": {},
   "source": [
    "To read the Excel file, pandas uses the xlrd package. It is already installed in your machine, but if not, then type this in the shell:\n",
    "\n",
    "`sudo pip install xlrd`"
   ]
  },
  {
   "cell_type": "code",
   "execution_count": null,
   "metadata": {
    "collapsed": false
   },
   "outputs": [],
   "source": [
    "import pandas as pd\n",
    "restaurantsExcelFile = pd.ExcelFile(\"Restaurants.xlsx\");"
   ]
  },
  {
   "cell_type": "markdown",
   "metadata": {},
   "source": [
    "Read the worksheet named \"WebExtract\""
   ]
  },
  {
   "cell_type": "code",
   "execution_count": null,
   "metadata": {
    "collapsed": false
   },
   "outputs": [],
   "source": [
    "tableWebExtract = restaurantsExcelFile.parse(sheetname=\"WebExtract\");"
   ]
  },
  {
   "cell_type": "code",
   "execution_count": null,
   "metadata": {
    "collapsed": false
   },
   "outputs": [],
   "source": [
    "tableViolationCodes = restaurantsExcelFile.parse(sheetname='Violation');"
   ]
  },
  {
   "cell_type": "code",
   "execution_count": null,
   "metadata": {
    "collapsed": false
   },
   "outputs": [],
   "source": [
    "tableWebExtract"
   ]
  },
  {
   "cell_type": "code",
   "execution_count": null,
   "metadata": {
    "collapsed": false
   },
   "outputs": [],
   "source": [
    "tableViolationCodes"
   ]
  },
  {
   "cell_type": "markdown",
   "metadata": {},
   "source": [
    "### Comparison with SQL\n",
    "\n",
    "For a comparison with SQL, see http://pandas.pydata.org/pandas-docs/stable/comparison_with_sql.html"
   ]
  },
  {
   "cell_type": "markdown",
   "metadata": {},
   "source": [
    "Pandas supports its own set of operators for doing SQL-like operations (in reality it runs a in-memory SQL database in the backend). It is also possible to use straightforward SQL queries to query Pandas dataframes, by using the `pandasql` package:"
   ]
  },
  {
   "cell_type": "code",
   "execution_count": null,
   "metadata": {
    "collapsed": false
   },
   "outputs": [],
   "source": [
    "!sudo -H pip install -U pandasql"
   ]
  },
  {
   "cell_type": "code",
   "execution_count": null,
   "metadata": {
    "collapsed": false
   },
   "outputs": [],
   "source": [
    "from pandasql import sqldf"
   ]
  },
  {
   "cell_type": "code",
   "execution_count": null,
   "metadata": {
    "collapsed": false
   },
   "outputs": [],
   "source": [
    "# PandaSQL does not like column names with spaces. So we will rename (some of) them.\n",
    "restaurants.rename(columns={\"VIOLATION CODE\": \"VIOLATION\"}, inplace = True)"
   ]
  },
  {
   "cell_type": "code",
   "execution_count": null,
   "metadata": {
    "collapsed": false
   },
   "outputs": [],
   "source": [
    "rest = restaurants[[\"DBA\", \"BORO\", \"VIOLATION\", \"SCORE\"]]"
   ]
  },
  {
   "cell_type": "code",
   "execution_count": null,
   "metadata": {
    "collapsed": false
   },
   "outputs": [],
   "source": [
    "q  = \"\"\"\n",
    "SELECT BORO, VIOLATION, COUNT(*) AS CNT \n",
    "FROM\n",
    "  rest\n",
    "GROUP BY BORO, VIOLATION\n",
    "ORDER BY CNT DESC\n",
    "LIMIT 20;\n",
    "\"\"\"\n",
    "\n",
    "df = sqldf(q, globals())"
   ]
  },
  {
   "cell_type": "code",
   "execution_count": null,
   "metadata": {
    "collapsed": false
   },
   "outputs": [],
   "source": [
    "df"
   ]
  },
  {
   "cell_type": "code",
   "execution_count": null,
   "metadata": {
    "collapsed": false
   },
   "outputs": [],
   "source": [
    "q  = \"\"\"\n",
    "SELECT SCORE, COUNT(*) AS CNT \n",
    "FROM\n",
    "  rest\n",
    "GROUP BY SCORE\n",
    "ORDER BY SCORE\n",
    "\"\"\"\n",
    "\n",
    "df = sqldf(q, globals())"
   ]
  },
  {
   "cell_type": "code",
   "execution_count": null,
   "metadata": {
    "collapsed": false
   },
   "outputs": [],
   "source": [
    "df"
   ]
  },
  {
   "cell_type": "code",
   "execution_count": null,
   "metadata": {
    "collapsed": false
   },
   "outputs": [],
   "source": [
    "df.plot(kind='scatter', s=50, x=\"SCORE\", y=\"CNT\", xlim=(0,30))"
   ]
  },
  {
   "cell_type": "code",
   "execution_count": null,
   "metadata": {
    "collapsed": true
   },
   "outputs": [],
   "source": []
  }
 ],
 "metadata": {
  "kernelspec": {
   "display_name": "Python 2",
   "language": "python",
   "name": "python2"
  },
  "language_info": {
   "codemirror_mode": {
    "name": "ipython",
    "version": 2
   },
   "file_extension": ".py",
   "mimetype": "text/x-python",
   "name": "python",
   "nbconvert_exporter": "python",
   "pygments_lexer": "ipython2",
   "version": "2.7.6"
  }
 },
 "nbformat": 4,
 "nbformat_minor": 0
}
