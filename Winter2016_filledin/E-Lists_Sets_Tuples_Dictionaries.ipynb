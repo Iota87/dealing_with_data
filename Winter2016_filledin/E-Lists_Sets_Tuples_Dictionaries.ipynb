{
 "cells": [
  {
   "cell_type": "markdown",
   "metadata": {},
   "source": [
    "## Data Structures\n",
    "\n",
    "\n",
    "We have covered in detail much of the basics of python's primitive data types. Its now useful to consider how these basic types can be collected in ways that are meaningful and useful for a variety of tasks. Data structures are a fundamental component of programming, a collection of elements of data that adhere to certain properties, depending on the type. In these notes, we'll present three basic data structures, the list, the set, and the dictionary. Python data structures are very rich, and beyond the scope of this simple primer. Please see [the documentation](http://docs.python.org/2/tutorial/datastructures.html) for a more complete view.\n"
   ]
  },
  {
   "cell_type": "markdown",
   "metadata": {},
   "source": [
    "### List:\n",
    "\n",
    "(Readings: LPTHW, Examples 32-34, and 38)\n",
    "\n",
    "A list, sometimes called and array or a vector is an ordered collection of values. The value of a particular element in a list is retrieved by querying for a specific index into an array. Lists allow duplicate values, but but indicies are unique. In python, like most programming languages, list indices start at 0, that is, to get the first element in a list, request the element at index 0. Lists provide very fast access to elements at specific positions, but are inefficient at \"membership queries,\" determining if an element is in the array. \n",
    "\n",
    "In python, lists are specified by square brackets, `[ ]`, containing zero or more values, separated by commas. Lists are the most common data structure, and are often generated as a result of other functions, for instance:\n",
    "\n",
    "`a_string.split(\" \")`\n",
    "\n",
    "will take a string, split it on space, and then return a list of the smaller substrings.\n",
    "\n",
    "To query a specific value from a list, pass in the requested index into square brackets following the name of the list. Negative indices can be used to traverse the list from the right. (Remember the case with strings and accessing the individual characters? It is exactly the same. In fact, strings are treated in Python as lists of characters.)"
   ]
  },
  {
   "cell_type": "code",
   "execution_count": 1,
   "metadata": {
    "collapsed": false
   },
   "outputs": [
    {
     "name": "stdout",
     "output_type": "stream",
     "text": [
      "['Wow', 'these', 'data', 'structures', 'make', 'for', 'exciting', 'dinner', 'conversation']\n"
     ]
    }
   ],
   "source": [
    "my_string = \"Wow these data structures make for exciting dinner conversation\"\n",
    "list_of_words = my_string.split(\" \")\n",
    "print list_of_words"
   ]
  },
  {
   "cell_type": "code",
   "execution_count": 2,
   "metadata": {
    "collapsed": false
   },
   "outputs": [
    {
     "name": "stdout",
     "output_type": "stream",
     "text": [
      "[1, 2, 3, 0, 5, 10, 11]\n"
     ]
    }
   ],
   "source": [
    "a_list = [1, 2, 3, 0, 5, 10, 11]\n",
    "print a_list"
   ]
  },
  {
   "cell_type": "code",
   "execution_count": 3,
   "metadata": {
    "collapsed": false
   },
   "outputs": [
    {
     "name": "stdout",
     "output_type": "stream",
     "text": [
      "[]\n"
     ]
    }
   ],
   "source": [
    "empty_list = []\n",
    "print empty_list"
   ]
  },
  {
   "cell_type": "code",
   "execution_count": 4,
   "metadata": {
    "collapsed": false
   },
   "outputs": [
    {
     "name": "stdout",
     "output_type": "stream",
     "text": [
      "[1, 'a']\n"
     ]
    }
   ],
   "source": [
    "mixed_list = [1, \"a\"]\n",
    "print mixed_list"
   ]
  },
  {
   "cell_type": "code",
   "execution_count": 7,
   "metadata": {
    "collapsed": false
   },
   "outputs": [
    {
     "name": "stdout",
     "output_type": "stream",
     "text": [
      "a\n",
      "b\n",
      "c\n"
     ]
    }
   ],
   "source": [
    "another_list = [\"a\", \"b\", \"c\"]\n",
    "print another_list[0]\n",
    "print another_list[1]\n",
    "print another_list[2]"
   ]
  },
  {
   "cell_type": "code",
   "execution_count": 11,
   "metadata": {
    "collapsed": false
   },
   "outputs": [
    {
     "name": "stdout",
     "output_type": "stream",
     "text": [
      "11\n"
     ]
    }
   ],
   "source": [
    "a_list = [1, 2, 3, 0, 5, 10, 11]\n",
    "print a_list[-1] # indexing from the right"
   ]
  },
  {
   "cell_type": "code",
   "execution_count": 12,
   "metadata": {
    "collapsed": false
   },
   "outputs": [
    {
     "name": "stdout",
     "output_type": "stream",
     "text": [
      "[5, 10, 11]\n"
     ]
    }
   ],
   "source": [
    "print a_list[-3:]"
   ]
  },
  {
   "cell_type": "markdown",
   "metadata": {},
   "source": [
    "Some common functionality of lists:\n",
    "\n",
    "+ `list.append(x)`: add an element ot the end of a list\n",
    "+ `list_1.extend(list_2)`: add all elements in the second list to the end of the first list\n",
    "+ `list.insert(index, x)`: insert element x into the list at the specified index. Elements to the right of this index are shifted over\n",
    "+ `list.pop(index)`: remove the element at the specified position\n",
    "+ `list.index(x)`: looks through the list to find the specified element, returning it's position if it's found, else throws an error\n",
    "+ `list.count(x)`: counts the number of occurrences of the input element\n",
    "+ `list.sort()`: sorts the list of items\n",
    "+ `list.reverse()`: reverses the order of the list\n",
    "+ `len(list)`: returns the number of elements in the list"
   ]
  },
  {
   "cell_type": "code",
   "execution_count": 17,
   "metadata": {
    "collapsed": false
   },
   "outputs": [
    {
     "name": "stdout",
     "output_type": "stream",
     "text": [
      "['Panos', 'John', 'Chris', 'Josh', 'Mary', 'Anna']\n",
      "['Panos', 'John', 'Chris', 'Josh', 'Mary', 'Anna', 'Elena', 'Marvin']\n"
     ]
    }
   ],
   "source": [
    "a_list = [\"Panos\", \"John\", \"Chris\", \"Josh\", \"Mary\", \"Anna\"]\n",
    "\n",
    "print a_list\n",
    "\n",
    "a_list.append(\"Elena\")\n",
    "a_list.append(\"Marvin\")\n",
    "\n",
    "print a_list"
   ]
  },
  {
   "cell_type": "code",
   "execution_count": null,
   "metadata": {
    "collapsed": false
   },
   "outputs": [],
   "source": [
    "b_list = []\n",
    "print \"Length of list a_list:\", len(a_list)\n",
    "b_list.aepp(a_list)\n",
    "b_list.extend(a_list)\n",
    "b_list.extend(a_list)\n",
    "print b_list\n",
    "print \"Length of list b_list:\", len(b_list)"
   ]
  },
  {
   "cell_type": "code",
   "execution_count": null,
   "metadata": {
    "collapsed": true
   },
   "outputs": [],
   "source": [
    "b_list = []\n",
    "print \"Length of list a_list:\", len(a_list)\n",
    "b_list.append(a_list)\n",
    "b_list.append(a_list)\n",
    "b_list.append(a_list)\n",
    "print b_list\n",
    "print \"Length of list b_list:\", len(b_list)"
   ]
  },
  {
   "cell_type": "code",
   "execution_count": null,
   "metadata": {
    "collapsed": false
   },
   "outputs": [],
   "source": [
    "b_list.sort()\n",
    "print b_list"
   ]
  },
  {
   "cell_type": "markdown",
   "metadata": {},
   "source": [
    "#### Exercise\n",
    "\n",
    "* Add the letter \"d\" in `another_list` and print the result\n",
    "* Add the letter \"c\" in `another_list` and print the result\n",
    "* If you search for \"c\" in `another_list` using the list.index(x) command, what is the result?\n",
    "* Sort `another_list` and print the result\n",
    "* Use the `split()` operation for strings (that we learned before) and count the number of words in the sentence \"Python is the word. And on and on and on and on...\" "
   ]
  },
  {
   "cell_type": "code",
   "execution_count": null,
   "metadata": {
    "collapsed": false
   },
   "outputs": [],
   "source": [
    "# your code here"
   ]
  },
  {
   "cell_type": "markdown",
   "metadata": {},
   "source": [
    "#### Exercise\n",
    "\n",
    "* What is the length of the document below in characters? In words? In paragraphs?\n",
    "* What is the average length of a word?"
   ]
  },
  {
   "cell_type": "code",
   "execution_count": 23,
   "metadata": {
    "collapsed": true
   },
   "outputs": [],
   "source": [
    "washington_post = \"\"\"MOSCOW — Russian officials vehemently defended the country’s airstrikes in Syria on Thursday as blows to Islamic State militants even as evidence mounted suggesting that U.S.-backed rebels and others were facing the brunt of Moscow’s attacks.\n",
    "\n",
    "And while Russian officials and diplomats rallied behind President Vladi­mir Putin, the Kremlin’s stance appeared further clouded by acknowledgments that the missions have already extended beyond solely the Islamic State.\n",
    "\n",
    "In Paris, the Russian ambassador to France, Alexander Orlov, said the Russian attacks also targeted an al-Qaeda-linked group, Jabhat al-Nusra, or al-Nusra Front.\n",
    "\n",
    "Syria’s ambassador to Russia, Riad Haddad, echoed that the joint hit list for Russia and the Syrian government included Jabhat al-Nusra, which is believed to have some coordination with the Islamic State but is still seen mostly as a rival.\n",
    "\n",
    "“We are confronting armed terrorist groups in Syria, regardless of how they identify themselves, whether it is Jabhat al-Nusra, the ISIL or others,” he said, using one of the acronyms for the Islamic State.\n",
    "\n",
    "Graphic Did the Russians really strike the Islamic State? VIEW GRAPHIC \n",
    "“They all are pursuing ISIL ends,” he added, according to the Interfax news agency.\n",
    "\n",
    "The ambassadors did not specifically mention any U.S.- and Western-backed rebel groups.\n",
    "\n",
    "But the comment was certain to deepen suspicions by Washington and allies that Putin’s short-term aim is to give more breathing space to Syria’s embattled President Bashar al-Assad, whose government is strongly supported by Moscow.\n",
    "\n",
    "Syrian activists, meanwhile, ramped up their own claims that Moscow was hitting groups seeking to bring down Assad, who has managed to hang on during more than four years of civil war.\n",
    "\n",
    "Russia’s expanding military intervention in Syria added urgency to separate efforts by Russia and U.S. officials to coordinate strategies against the Islamic State and avoid potential airspace missteps between the two powers — so-called “deconfliction” talks. The Pentagon said the discussions will begin Thursday.\n",
    "\n",
    "[Washington weighs next move]\n",
    "\n",
    "One monitoring group, the Britain-based Syrian Observatory for Human Rights, said Russian airstrikes again struck strongholds of an American-backed rebel group, Tajamu Alezzah, in central Hama province.\n",
    "\n",
    "Ground level: On the scene of controversial Russian airstrikes in Syria\t\n",
    "View Photos\tThe actions, quickly criticized by Washington, add an unpredictable element to a multilayered war.\n",
    "The observatory also reported that airstrikes hit the northwestern city Jisr al-Shughour, which is in the hands of rebel groups including al-Nusra, after battles last month to drive back Assad’s forces.\n",
    "\n",
    "Among the locations hit was a site near Kafr Nabl, the northern Syrian town whose weekly protests against the government, often featuring pithy slogans in English, won it renown as a symbol of what began as a peaceful protest movement against the Assad regime. The local council receives U.S. assistance, and the rebel unit there has received support under a covert CIA program aimed at bolstering moderate rebels.\n",
    "\n",
    "Raed Fares, one of the leaders of the protest movement in Kafr Nabl, said warplanes struck a Free Syrian Army checkpoint guarding Roman ruins on the outskirts of the town. He said the explosion was bigger than anything local residents had seen in three years of airstrikes conducted by Syrian warplanes.\n",
    "\n",
    "“It made a fire six kilometers wide,” he told The Washington Post.\n",
    "\n",
    "Other sites hit on the second day of Russian bombing included locations in the province of Hama. The targets suggested the main intention of the strikes was to shore up government control over a corridor of territory linking the capital, Damascus, to the Assad family’s coastal heartland, where the Russians are operating out of an expanded air base.\n",
    "\n",
    "Syrian rebels, some of them U.S.-backed, had been making slow but steady gains in the area, considered one of the government’s biggest vulnerabilities. There has been no Islamic State presence there since January 2014, when moderate rebels rose up against the extremists and forced them to retreat to eastern Syria.\n",
    "\n",
    "[Kerry warns of ‘grave concerns’ about Russia’s intent]\n",
    "\n",
    "In Washington, Sen. John McCain (R-Ariz.) told CNN he could “absolutely confirm” that airstrikes hit Western-backed groups such as the Free Syrian Army and other factions “armed and trained by the CIA.”\n",
    "\n",
    "“We have communications with people there,” said McCain, chairman of the Senate Armed Services Committee.\n",
    "\n",
    "The accounts could not be independently assessed, but the main focus of the Russian attacks appeared to be in areas not known to have strong Islamic State footholds.\n",
    "\n",
    "In Moscow, the reply was blunt.\n",
    "\n",
    "“Total rubbish,” Gennady Zyuganov, a member of parliament and leader of Russia’s Communist Party, said of the U.S. accusations.\n",
    "\n",
    "In televised remarks Thursday, Putin called accusations that Russian airstrikes had killed civilians in Syria “information attacks.”\n",
    "\n",
    "He also addressed concerns about an accidental military clash between Russian and U.S.-led coalition forces, saying that his intelligence and military agencies were “establishing contacts” with counterparts in the United States.\n",
    "\n",
    "“This work is ongoing, and I hope that it will conclude with the creation of a regularly acting mechanism,” he said.\n",
    "\n",
    "A spokesman for Russia’s Defense Ministry, Igor Konashenkov, said Thursday that warplanes hit a dozen Islamic State sites in the past 24 hours, destroying targets including a command center and two arms depots.\n",
    "\n",
    "[Russia’s strategy in Syria could be a work in progress]\n",
    "\n",
    "The United States and Russia agree on the need to fight the Islamic State but not about what to do with the Syrian president. The Syrian civil war, which grew out of an uprising against Assad, has killed more than 250,000 people since March 2011 and sent millions of refugees fleeing to countries in the Middle East and Europe.\n",
    "\n",
    "Accusing Russia of “pouring gasoline on the fire,” Defense Secretary Ashton B. Carter vowed that U.S. pilots would continue their year-long bombing campaign against the Islamic State in Syria, despite Moscow’s warning that American planes should stay away from its operations.\n",
    "\n",
    "“I think what they’re doing is going to backfire and is counterproductive,” Carter said on Wednesday.\n",
    "\n",
    "Yet Russia’s military flexing in Syria brought quick overtures from neighboring Iraq, where the Islamic State also holds significant territory but the government is within Washington’s fold.\n",
    "\n",
    "Iraq’s prime minister, Haider al-Abadi, told France 24 that he “would welcome” Russia joining the U.S.-led airstrikes against Islamic State targets, but there have been no specific discussions.\n",
    "\n",
    "Joining the protests against the Russian airstrikes was Saudi Arabia, a leading foe of Assad and one of Washington’s top Middle East allies.\n",
    "\n",
    "At the United Nations late Wednesday, the Saudi ambassador, Abdallah al-Mouallimi, demanded that the Russian air campaign “stop immediately” and accused Moscow of carrying out attacks in areas outside the control of the Islamic State.\n",
    "\n",
    "In Iran, Assad’s main regional backer, Foreign Ministry spokeswoman Marzieh Afkham called Russia’s military role a step “toward resolving the current crisis” in Syria.\n",
    "\n",
    "Sly reported from Beirut, and Murphy from Washington. Daniela Deane in London, William Branigin in Washington and Loveday Morris in Baghdad contributed to this report.\n",
    "\"\"\""
   ]
  },
  {
   "cell_type": "code",
   "execution_count": 25,
   "metadata": {
    "collapsed": false
   },
   "outputs": [
    {
     "name": "stdout",
     "output_type": "stream",
     "text": [
      "The number of characters in the article are: 7520\n"
     ]
    }
   ],
   "source": [
    "# Your code here\n",
    "num_characters = len(washington_post)\n",
    "print \"The number of characters in the article are:\", num_characters"
   ]
  },
  {
   "cell_type": "code",
   "execution_count": 27,
   "metadata": {
    "collapsed": false
   },
   "outputs": [
    {
     "name": "stdout",
     "output_type": "stream",
     "text": [
      "The number of words in the article are: 1097\n"
     ]
    }
   ],
   "source": [
    "words = washington_post.split(\" \")\n",
    "# print words\n",
    "num_words = len(words)\n",
    "print \"The number of words in the article are:\", num_words"
   ]
  },
  {
   "cell_type": "code",
   "execution_count": 31,
   "metadata": {
    "collapsed": false
   },
   "outputs": [
    {
     "name": "stdout",
     "output_type": "stream",
     "text": [
      "1096\n",
      "5.85597082954\n"
     ]
    }
   ],
   "source": [
    "number_of_spaces = washington_post.count(\" \")\n",
    "print number_of_spaces\n",
    "average_word_lenth = 1.0*(num_characters-number_of_spaces) / num_words\n",
    "print average_word_lenth"
   ]
  },
  {
   "cell_type": "code",
   "execution_count": 36,
   "metadata": {
    "collapsed": false
   },
   "outputs": [
    {
     "data": {
      "text/plain": [
       "38"
      ]
     },
     "execution_count": 36,
     "metadata": {},
     "output_type": "execute_result"
    }
   ],
   "source": [
    "len(washington_post.split(\"\\n\\n\"))"
   ]
  },
  {
   "cell_type": "markdown",
   "metadata": {},
   "source": [
    "### Set:\n",
    "\n",
    "A set is a data structure where all elements are unique. Sets are unordered. In fact, the order of the elements observed when printing a set might change at different points during a programs execution, depending on the state of python's internal representation of the set. Sets are ideal for membership queries, for instance, is a user amongst those users who have received a promotion? \n",
    "\n",
    "Sets are specified by curly braces, `{ }`, containing one or more comma separated values. To specify an empty list, you can use the alternative construct, `set()`."
   ]
  },
  {
   "cell_type": "code",
   "execution_count": 39,
   "metadata": {
    "collapsed": false
   },
   "outputs": [],
   "source": [
    "# creating sets\n",
    "some_set = {4, 1, 2, 3, 4, 4, 4, 4}\n",
    "another_set = {4, 5, 6}"
   ]
  },
  {
   "cell_type": "code",
   "execution_count": 38,
   "metadata": {
    "collapsed": false
   },
   "outputs": [
    {
     "name": "stdout",
     "output_type": "stream",
     "text": [
      "set([1, 2, 3, 4])\n"
     ]
    }
   ],
   "source": [
    "print some_set"
   ]
  },
  {
   "cell_type": "code",
   "execution_count": 40,
   "metadata": {
    "collapsed": true
   },
   "outputs": [],
   "source": [
    "# creating an empty set; notice that we do *not* use the \"empty set = {}\" command\n",
    "# as someone would expect based on the way that we create an empty list\n",
    "empty_set = set()\n",
    "empty_list = []"
   ]
  },
  {
   "cell_type": "markdown",
   "metadata": {},
   "source": [
    "We can also create a set from a list:"
   ]
  },
  {
   "cell_type": "code",
   "execution_count": 44,
   "metadata": {
    "collapsed": false
   },
   "outputs": [
    {
     "name": "stdout",
     "output_type": "stream",
     "text": [
      "[1, 2, 3, 0, 5, 10, 11, 1, 5]\n",
      "set([0, 1, 2, 3, 5, 10, 11])\n",
      "Length of set 7\n",
      "Length of list 9\n"
     ]
    }
   ],
   "source": [
    "my_list = [1, 2, 3, 0, 5, 10, 11, 1, 5]\n",
    "my_set = set(my_list)\n",
    "print my_list\n",
    "print my_set\n",
    "print \"Length of set\", len(my_set)\n",
    "print \"Length of list\", len(my_list)"
   ]
  },
  {
   "cell_type": "markdown",
   "metadata": {
    "collapsed": false
   },
   "source": [
    "#### Exercise \n",
    "\n",
    "* What is the number of distinct words in the `washington_post` variable (defined above)?"
   ]
  },
  {
   "cell_type": "code",
   "execution_count": 50,
   "metadata": {
    "collapsed": false
   },
   "outputs": [
    {
     "name": "stdout",
     "output_type": "stream",
     "text": [
      "Number of words: 1097\n",
      "Distinct words: 607\n"
     ]
    }
   ],
   "source": [
    "# your code here\n",
    "words = washington_post.split(\" \")\n",
    "num_words = len(words)\n",
    "print \"Number of words:\", num_words\n",
    "distinct = len(set(words))\n",
    "print \"Distinct words:\", distinct"
   ]
  },
  {
   "cell_type": "markdown",
   "metadata": {},
   "source": [
    "#### Checking for membership in a set"
   ]
  },
  {
   "cell_type": "markdown",
   "metadata": {},
   "source": [
    "The easiest way to check for membership in a set is to use the `in` keyword, checking if a needle is \"`in`\" the set."
   ]
  },
  {
   "cell_type": "code",
   "execution_count": 51,
   "metadata": {
    "collapsed": false
   },
   "outputs": [],
   "source": [
    "my_set = {1, 2, 3, 4}"
   ]
  },
  {
   "cell_type": "code",
   "execution_count": 55,
   "metadata": {
    "collapsed": false
   },
   "outputs": [
    {
     "name": "stdout",
     "output_type": "stream",
     "text": [
      "The value 1 appears in the variable my_set: True\n"
     ]
    }
   ],
   "source": [
    "val = 1\n",
    "result = val in my_set\n",
    "print \"The value\", val, \"appears in the variable my_set:\", result"
   ]
  },
  {
   "cell_type": "code",
   "execution_count": 56,
   "metadata": {
    "collapsed": false
   },
   "outputs": [
    {
     "name": "stdout",
     "output_type": "stream",
     "text": [
      "The value 0 appears in the variable my_set: False\n"
     ]
    }
   ],
   "source": [
    "val = 0\n",
    "result = val in my_set\n",
    "print \"The value\", val ,\"appears in the variable my_set:\", result"
   ]
  },
  {
   "cell_type": "markdown",
   "metadata": {},
   "source": [
    "We also have the \"`not in`\" operator"
   ]
  },
  {
   "cell_type": "code",
   "execution_count": 59,
   "metadata": {
    "collapsed": false
   },
   "outputs": [
    {
     "name": "stdout",
     "output_type": "stream",
     "text": [
      "Value 5 does *not* appear in some_set: True\n",
      "Value 1 does *not* appear in some_set: False\n"
     ]
    }
   ],
   "source": [
    "val = 5\n",
    "result = (val not in some_set)\n",
    "print \"Value %d does *not* appear in some_set:\" % val, result\n",
    "val = 1\n",
    "result = (val not in some_set)\n",
    "print \"Value %d does *not* appear in some_set:\" % val, result\n"
   ]
  },
  {
   "cell_type": "markdown",
   "metadata": {},
   "source": [
    "#### Set operators: Add, remove elements; Union, intersection, subset"
   ]
  },
  {
   "cell_type": "markdown",
   "metadata": {},
   "source": [
    "Some other common set functionality:\n",
    "\n",
    "+ `set_a.add(x)`: add an element to a set\n",
    "+ `set_a.remove(x)`: remove an element from a set\n",
    "+ `set_a - set_b`: elements in a but not in b. Equivalent to `set_a.difference(set_b)`\n",
    "+ `set_a | set_b`: elements in a or b. Equivalent to `set_a.union(set_b)`\n",
    "+ `set_a & set_b`: elements in both a and b. Equivalent to `set_a.intersection(set_b)`\n",
    "+ `set_a ^ set_b`: elements in a or b but not both. Equivalent to `set_a.symmetric_difference(set_b)` \n",
    "+ `set_a <= set_b`:\ttests whether every element in set_a is in set_b. Equivalent to `set_a.issubset(set_b)`\n"
   ]
  },
  {
   "cell_type": "markdown",
   "metadata": {},
   "source": [
    "#### Exercise\n",
    "\n",
    "Try the above yourself using the `my_set` and `another_set` variables from above, and compute the difference, union, intersection, and symmetric difference, between the two sets."
   ]
  },
  {
   "cell_type": "code",
   "execution_count": 63,
   "metadata": {
    "collapsed": false
   },
   "outputs": [
    {
     "name": "stdout",
     "output_type": "stream",
     "text": [
      "Set A set([1, 2, 3, 4, 5])\n",
      "Set B set([4, 5, 6, 7])\n",
      "Difference set([1, 2, 3])\n",
      "Union set([1, 2, 3, 4, 5, 6, 7])\n",
      "Intersection set([4, 5])\n",
      "Symmetric Difference set([1, 2, 3, 6, 7])\n"
     ]
    }
   ],
   "source": [
    "# Your code here\n",
    "set_A = {1, 2, 3, 4, 5}\n",
    "set_B = {4, 5, 6, 7}\n",
    "print \"Set A\", set_A\n",
    "print \"Set B\", set_B\n",
    "print \"Difference\", set_A.difference(set_B)\n",
    "print \"Union\", set_A.union(set_B)\n",
    "print \"Intersection\", set_A.intersection(set_B)\n",
    "print \"Symmetric Difference\", set_A.symmetric_difference(set_B)"
   ]
  },
  {
   "cell_type": "markdown",
   "metadata": {},
   "source": [
    "Now, lets try to use the [Jaccard index similarity](https://en.wikipedia.org/wiki/Jaccard_index) to compute the similarity of the two sets. The Jaccard coefficient is defined as the ratio of the size of the intersection of the two sets, divided by the size of the union of the two sets."
   ]
  },
  {
   "cell_type": "code",
   "execution_count": 66,
   "metadata": {
    "collapsed": false
   },
   "outputs": [
    {
     "name": "stdout",
     "output_type": "stream",
     "text": [
      "7\n",
      "2\n",
      "Jaccard = 0.285714285714\n"
     ]
    }
   ],
   "source": [
    "# Your code here\n",
    "size_union = len(set_A | set_B)\n",
    "size_intersection = len(set_A & set_B)\n",
    "print size_union\n",
    "print size_intersection \n",
    "print \"Jaccard =\", 1.0*size_intersection/size_union"
   ]
  },
  {
   "cell_type": "markdown",
   "metadata": {},
   "source": [
    "#### Exercise\n",
    "\n",
    "Now, let's pick a few news articles from the web and paste them in the notebook (as in the case of the Washington Post above). Then compute the similarity of these articles using the Jaccard similarity."
   ]
  },
  {
   "cell_type": "code",
   "execution_count": 77,
   "metadata": {
    "collapsed": true
   },
   "outputs": [],
   "source": [
    "trump1 = '''\n",
    "It's a step that the European Central Bank, among others, has already taken, resulting in bizarre situations where banks can end up paying customers who borrow from them. The idea has also been floated in the United States.\n",
    "The Bank of Japan announcement Friday is the latest surprise move by its governor, Haruhiko Kuroda, in his drive to spur momentum in the world's third-largest economy. He had previously denied plans to take the interest rate below zero.\n",
    "\"Governor Kuroda has gained notoriety by changing course when it is least expected, and today's move will only serve to cement this reputation,\" said Marcel Thieliant of Capital Economics.\n",
    "Related: Japan's master of surprise shocks with subzero interest rates\n",
    "Investors responded positively to the announcement. Stocks in Tokyo rose 2.8% and the country's currency, the yen, fell against the dollar.\n",
    "Financial markets' turbulent start to 2016 has been particularly punishing for Japan. Prior to the central bank's move, stocks had tanked around 10% in January, and the yen had strengthened.\n",
    "The plunge in crude oil prices, meanwhile, has made it even harder for the Bank of Japan to hit its inflation target of 2%.\n",
    "The central bank said the Japanese economy was in the midst of a moderate recovery, but it expressed concerns about plummeting oil prices and the uncertain outlook for emerging economies, especially China.\n",
    "It's unclear how much difference subzero rates will make to the Japanese economy. The ECB has used them among an array of stimulus efforts, but the euro zone has continued to struggle with deflation.\n",
    "\"With interest rates already at record lows, we do not expect these measures to have a significant impact on the real economy, or inflation,\" said Izumi Devalier, Japan economist at HSBC.\n",
    "Related: Japan economy minister to resign over funding scandal\n",
    "The Bank of Japan's decision to introduce a negative interest rate was also far from unanimous. Five policy board members voted in favor, but four opposed the move.\n",
    "Japan has long struggled with deflation, and prices have been stagnating despite the central bank's aggressive stimulus measures in recent years that include a massive bond-buying program. It said Friday that it was leaving its asset-purchase plan unchanged.\n",
    "The bank's moves have come at a time when the government of Prime Minister Shinzo Abe has tried to jolt the economy into life by increasing spending and pushing through reforms. That program took a hit Thursday when Abe's economy minister announced his resignation over a political-funding scandal.\n",
    "The Bank of Japan's announcement also follows closely watched statements from other major central banks amid the recent market turmoil.\n",
    "Last week, ECB President Mario Draghi gave stocks a lift by promising that the bank could pump out more money as early as March if necessary.\n",
    "The U.S Federal Reserve, which raised interest rates last month, said Wednesday it was \"monitoring global economic and financial developments.\"\n",
    "\n",
    "'''\n",
    "\n",
    "trump2 = '''\n",
    "TOKYO—Japan’s central bank stunned the markets Friday by setting the country’s first negative interest rates, in a desperate attempt to keep the economy from sliding back into the stagnation that has dogged it for much of the last two decades.\n",
    "\n",
    "The unexpected move shows the Bank of Japan’s determination to fight global headwinds that threaten to tip the country back into deflation, a damaging cycle of price falls and weakening economy.\n",
    "\n",
    "ENLARGE\n",
    "Yet it also shows how few policy options the BOJ has left. The central bank is already buying ¥80 trillion ($674 billion) in assets a year, putting nearly a third of Japan’s massive bond market in its hands. It left the size of that asset-buying program unchanged.\n",
    "\n",
    "After three years of BOJ asset purchases, inflation expectations in Japan are sagging, and recent volatility in global markets has threatened to undo some of what the BOJ had achieved with its extraordinary easing: a weaker yen and higher stock prices.\n",
    "\n",
    "BOJ Gov. Haruhiko Kuroda said the decision to introduce negative rates was meant to limit the risk that global conditions would derail the central bank’s efforts to change Japan’s “deflationary mindset.”\n",
    "\n",
    "“Risks were growing that the slowdown in the Chinese, emerging and resource-producing countries, which has caused volatility and instability in financial markets since the beginning of the year, may hurt confidence among domestic companies,” he said.\n",
    "\n",
    "The yen fell as much as 2.1% following the announcement, hitting 121.33 to the dollar. The Nikkei Stock Average seesawed before closing up 2.8%. Some government bonds saw rates turn more deeply negative. The two- and five-year yield fell to their most negative yet, both hitting as low as 0.085%.\n",
    "\n",
    "RELATED\n",
    "\n",
    "5 Things About the Bank of Japan's Negative Interest Rates\n",
    "Japan Follows Europe Into Negative-Rate Territory\n",
    "Heard on the Street: Japan’s Negative-Rate Plunge More Like a Toe in the Water\n",
    "Kuroda’s Latest BOJ Bazooka Round: Bang or Whimper?\n",
    "BOJ’s Goal Is Complicated by Sheer Scale of Reserves\n",
    "The BOJ’s move could also add further pressure on the U.S. Federal Reserve to hold back on raising interest rates, less than a month after it started tightening again, as economies throughout the globe show signs of distress and weakness.\n",
    "\n",
    "The Bank of Japan is now the second major central bank to set negative interest rates, joining the European Central Bank, which first did so in 2014. The central banks of Sweden, Denmark and Switzerland also have negative interest-rate policies.\n",
    "\n",
    "The introduction of negative rates once again signaled Mr. Kuroda’s willingness to shock markets. He denied in recent days that the bank was considering negative rates.\n",
    "\n",
    "Mr. Kuroda has maintained that three years of aggressive quantitative easing have had “intended effects.” He has blamed falling oil prices for the low inflation and pointed to a price index that excludes energy prices as evidence that underlying inflation is strong.\n",
    "\n",
    "Yet those policies have failed to produce the targeted 2% inflation, and the BOJ on Friday again pushed back the expected time frame for reaching that goal, while again lowering its inflation forecast for the fiscal year beginning in April.\n",
    "\n",
    "Many economists had concluded that the asset-buying program was nearing the limits of its capacity and effectiveness.\n",
    "\n",
    "Takuji Okubo, chief economist at Japan Macro Advisors, said the BOJ made the right decision in introducing negative rates—given the limited options available to it. “I don’t think purchasing more JGBs [Japanese government bonds] would have done much,” he said.\n",
    "\n",
    "ENLARGE\n",
    "The BOJ said it would leave unchanged the 0.1% rate on most existing reserves held at the central bank, while cutting the rate on required reserves to zero and charging 0.1% on reserves in excess of those required.\n",
    "\n",
    "In a news conference later Friday, Mr. Kuroda reiterated his running pledge that the BOJ would take additional action if necessary. He didn’t rule out the possibility of increasing the BOJ’s asset-buying.\n",
    "\n",
    "The goal of the rate regime was to push down borrowing costs to stimulate inflation, the bank said in a statement following its two-day policy meeting. It also said it would cut the interest rate further into negative territory if necessary.\n",
    "\n",
    "Below-zero rates are used to encourage lending and spur credit growth. When imposed on banks’ reserves with a central bank, financial institutions typically look to lend more or invest elsewhere, in turn boosting asset prices, according to Oxford Economics economists.\n",
    "\n",
    "Just how effective the BOJ’s move might be is unclear. European central banks that have adopted negative interest-rate policies were aiming to reduce short-term market rates and weaken the exchange rate, economists from London-based think tank Oxford Economics said in a January research note.\n",
    "\n",
    "Denmark and Sweden struggled to weaken their respective currencies, though, because their biggest trading partner, the eurozone, followed suit to push rates into negative territory, they said.\n",
    "\n",
    "While economists are still assessing the full impact of negative interest rates on inflation and economic activity in Europe, many say the policy has pushed down banks’ borrowing rates and longer-term bond yields.\n",
    "\n",
    "Japanese banks will face a more challenging environment as a result of negative rates, but won’t be badly hurt, analysts said. Most of the extra cash they have raised selling government bonds is now parked at the BOJ because domestic lending is sluggish and banks have a hard time finding attractive investments.\n",
    "\n",
    "“I don’t think there will be a big immediate impact on banks’ profitability,” S&P analyst Kiyoko Ohora said, noting the BOJ’s decision to leave the rate on existing reserves unchanged.\n",
    "\n",
    "'''"
   ]
  },
  {
   "cell_type": "code",
   "execution_count": 80,
   "metadata": {
    "collapsed": false
   },
   "outputs": [
    {
     "name": "stdout",
     "output_type": "stream",
     "text": [
      "Characters of article 1: 2980\n",
      "Characters of article 2: 5789\n",
      "Length of article 1: 461\n",
      "Length of article 2: 878\n",
      "Distinct words in article 1: 291\n",
      "Distinct words in article 2: 463\n"
     ]
    }
   ],
   "source": [
    "words1 = trump1.lower().split(\" \")\n",
    "words2 = trump2.lower().split(\" \")\n",
    "set_words1 = set(words1)\n",
    "set_words2 = set(words2)\n",
    "\n",
    "print \"Characters of article 1:\", len(trump1)\n",
    "print \"Characters of article 2:\", len(trump2)\n",
    "print \"Length of article 1:\", len(words1)\n",
    "print \"Length of article 2:\", len(words2)\n",
    "print \"Distinct words in article 1:\", len(set_words1)\n",
    "print \"Distinct words in article 2:\", len(set_words2)\n"
   ]
  },
  {
   "cell_type": "code",
   "execution_count": 81,
   "metadata": {
    "collapsed": false
   },
   "outputs": [
    {
     "name": "stdout",
     "output_type": "stream",
     "text": [
      "Common words =  95\n",
      "Total words =  659\n",
      "0.144157814871\n"
     ]
    }
   ],
   "source": [
    "intersection = len( set_words1.intersection(set_words2) )\n",
    "union = len( set_words1.union(set_words2) )\n",
    "print \"Common words = \", intersection\n",
    "print \"Total words = \", union\n",
    "similarity = 1.0*intersection/union\n",
    "print similarity"
   ]
  },
  {
   "cell_type": "markdown",
   "metadata": {},
   "source": [
    "### Tuples\n",
    "\n",
    "A tuple consists of a number of values separated by commas, for instance:"
   ]
  },
  {
   "cell_type": "code",
   "execution_count": 82,
   "metadata": {
    "collapsed": false
   },
   "outputs": [
    {
     "name": "stdout",
     "output_type": "stream",
     "text": [
      "(12345, 54321, 'hello!')\n"
     ]
    }
   ],
   "source": [
    "t = (12345, 54321, 'hello!')\n",
    "print t"
   ]
  },
  {
   "cell_type": "code",
   "execution_count": 83,
   "metadata": {
    "collapsed": false
   },
   "outputs": [
    {
     "name": "stdout",
     "output_type": "stream",
     "text": [
      "hello!\n"
     ]
    }
   ],
   "source": [
    "print t[2]"
   ]
  },
  {
   "cell_type": "code",
   "execution_count": 84,
   "metadata": {
    "collapsed": false
   },
   "outputs": [
    {
     "name": "stdout",
     "output_type": "stream",
     "text": [
      "Two elements. The first one: NYU and the second one stern:\n"
     ]
    }
   ],
   "source": [
    "print \"Two elements. The first one: %s and the second one %s:\" % (\"NYU\", \"stern\")"
   ]
  },
  {
   "cell_type": "markdown",
   "metadata": {},
   "source": [
    "### Dictionaries\n",
    "\n",
    "(Readings: LPTHW, Ex 39)\n",
    "\n",
    "Dictionaries, sometimes called dicts, maps, or, rarely, hashes are data structures containing key-value pairs. Dictionaries have a set of unique keys and are used to retrieve the value information associated with these keys. For instance, a dictionary might be used to store for each user, that user's location, or for a product id, the description associated with that product. Lookup into a dictionary is very efficient, and because these data structures are very common, they are frequently used and encountered in practice. \n",
    "\n",
    "Dictionaries are specified by curly braces, `{ }`, containing zero or more comma separated key-value pairs, where the keys and values are separated by a colon, `:`. Like a list, values for a particular key are retrieved by passing the query key into square brackets."
   ]
  },
  {
   "cell_type": "code",
   "execution_count": 85,
   "metadata": {
    "collapsed": false
   },
   "outputs": [
    {
     "name": "stdout",
     "output_type": "stream",
     "text": [
      "{'a': 1, 'c': 3, 'b': 2, 'd': 4}\n"
     ]
    }
   ],
   "source": [
    "a_dict = {\"a\":1,\n",
    "          \"b\":2, \n",
    "          \"c\":3, \n",
    "          \"d\":4}\n",
    "print a_dict"
   ]
  },
  {
   "cell_type": "code",
   "execution_count": 88,
   "metadata": {
    "collapsed": false
   },
   "outputs": [
    {
     "name": "stdout",
     "output_type": "stream",
     "text": [
      "{'a': 1, 'c': 4, 'b': 4}\n"
     ]
    }
   ],
   "source": [
    "# A key cannot be repeated\n",
    "# See what happens when we repeat the key \"c\"\n",
    "a_dict = {\"a\":1, \"b\":4, \"c\":3, \"c\": 4}\n",
    "print a_dict"
   ]
  },
  {
   "cell_type": "code",
   "execution_count": 92,
   "metadata": {
    "collapsed": false
   },
   "outputs": [
    {
     "name": "stdout",
     "output_type": "stream",
     "text": [
      "{'region_code': 'NY', 'region_name': 'New York', 'ip': '216.165.95.68', 'metro_code': 501, 'country_name': 'United States', 'country_code': 'US', 'city': 'New York', 'time_zone': 'America/New_York', 'longitude': -73.9885, 'latitude': 40.7317, 'zip_code': '10003'}\n"
     ]
    }
   ],
   "source": [
    "freegeoip_dict = {\n",
    "\"ip\": \"216.165.95.68\",\n",
    "\"country_code\": \"US\",\n",
    "\"country_name\": \"United States\",\n",
    "\"region_code\": \"NY\",\n",
    "\"region_name\": \"New York\",\n",
    "\"city\": \"New York\",\n",
    "\"zip_code\": \"10003\",\n",
    "\"time_zone\": \"America/New_York\",\n",
    "\"latitude\": 40.7317,\n",
    "\"longitude\": -73.9885,\n",
    "\"metro_code\": 501\n",
    "}\n",
    "print freegeoip_dict"
   ]
  },
  {
   "cell_type": "code",
   "execution_count": 93,
   "metadata": {
    "collapsed": false
   },
   "outputs": [
    {
     "name": "stdout",
     "output_type": "stream",
     "text": [
      "216.165.95.68\n",
      "216.165.95.68\n"
     ]
    }
   ],
   "source": [
    "print freegeoip_dict[\"ip\"]\n",
    "\n",
    "# or, alternatively\n",
    "\n",
    "print freegeoip_dict.get(\"ip\")"
   ]
  },
  {
   "cell_type": "code",
   "execution_count": 95,
   "metadata": {
    "collapsed": false
   },
   "outputs": [
    {
     "name": "stdout",
     "output_type": "stream",
     "text": [
      "{'city': 'New York',\n",
      " 'country_code': 'US',\n",
      " 'country_name': 'United States',\n",
      " 'ip': '216.165.95.68',\n",
      " 'isp': 'New York University',\n",
      " 'latitude': 40.7317,\n",
      " 'longitude': -73.9885,\n",
      " 'metro_code': 501,\n",
      " 'region_code': 'NY',\n",
      " 'region_name': 'New York',\n",
      " 'time_zone': 'America/New_York',\n",
      " 'zip_code': '10003'}\n"
     ]
    }
   ],
   "source": [
    "freegeoip_dict[\"isp\"] = \"New York University\"\n",
    "\n",
    "from pprint import pprint\n",
    "pprint(freegeoip_dict)"
   ]
  },
  {
   "cell_type": "code",
   "execution_count": null,
   "metadata": {
    "collapsed": false
   },
   "outputs": [],
   "source": [
    "a_dict = {\"a\":1, \"b\":2, \"c\":3, \"c\": 4}\n",
    "another_dict = {\"c\":5, \"d\":6}\n",
    "print a_dict[\"c\"]"
   ]
  },
  {
   "cell_type": "markdown",
   "metadata": {},
   "source": [
    "Like the set, the easiest way to check if a particular **key** is in a dictionary is through the `in` keyword:"
   ]
  },
  {
   "cell_type": "code",
   "execution_count": 97,
   "metadata": {
    "collapsed": false
   },
   "outputs": [
    {
     "name": "stdout",
     "output_type": "stream",
     "text": [
      "True\n",
      "False\n"
     ]
    }
   ],
   "source": [
    "a_dict = {\"a\":\"e\", \"b\":2, \"c\":3, \"c\": 4}\n",
    "print \"b\" in a_dict\n",
    "print \"z\" in a_dict"
   ]
  },
  {
   "cell_type": "markdown",
   "metadata": {},
   "source": [
    "Notice that the `in` will not work if we try to find a value in the dictionary."
   ]
  },
  {
   "cell_type": "code",
   "execution_count": 98,
   "metadata": {
    "collapsed": false
   },
   "outputs": [
    {
     "name": "stdout",
     "output_type": "stream",
     "text": [
      "False\n"
     ]
    }
   ],
   "source": [
    "# This does *not* work for values\n",
    "a_dict = {\"a\":\"e\", \"b\":2, \"c\":3, \"c\": 4}\n",
    "print \"e\" in a_dict"
   ]
  },
  {
   "cell_type": "code",
   "execution_count": null,
   "metadata": {
    "collapsed": true
   },
   "outputs": [],
   "source": [
    "a_dict = {\"a\":\"e\", \"b\":2, \"c\":3, \"c\": 4}\n",
    "print \"e\" in a_dict"
   ]
  },
  {
   "cell_type": "markdown",
   "metadata": {},
   "source": [
    "Some common operations on dictionaries:\n",
    "\n",
    "+ `dict.keys()`: returns a list containing the keys of a dictionary\n",
    "+ `dict.values()`: returns a list containing the values in a dictionary\n",
    "+ `dict.pop(x)`: removes the key and its associated value from the dictionary"
   ]
  },
  {
   "cell_type": "code",
   "execution_count": 115,
   "metadata": {
    "collapsed": false
   },
   "outputs": [
    {
     "name": "stdout",
     "output_type": "stream",
     "text": [
      "Keys: ['a', 'c', 'b', 'z']\n"
     ]
    }
   ],
   "source": [
    "value_for_key = \"e\"\n",
    "b_dict = {\"b\":2, \n",
    "          \"c\":3, \n",
    "          \"c\": 4, \n",
    "          \"z\": value_for_key}\n",
    "b_dict[\"a\"] = b_dict[\"b\"]+ b_dict[\"c\"]\n",
    "print \"Keys:\",  b_dict.keys()"
   ]
  },
  {
   "cell_type": "code",
   "execution_count": 116,
   "metadata": {
    "collapsed": false
   },
   "outputs": [
    {
     "name": "stdout",
     "output_type": "stream",
     "text": [
      "Values: [0.5, 4, 2, 'e']\n"
     ]
    }
   ],
   "source": [
    "print \"Values:\", a_dict.values()"
   ]
  },
  {
   "cell_type": "code",
   "execution_count": 117,
   "metadata": {
    "collapsed": false
   },
   "outputs": [
    {
     "name": "stdout",
     "output_type": "stream",
     "text": [
      "4\n"
     ]
    }
   ],
   "source": [
    "print len(a_dict)"
   ]
  },
  {
   "cell_type": "markdown",
   "metadata": {},
   "source": [
    "#### Exercise\n",
    "\n",
    "* Find the common keys in `a_dict` and `b_dict`\n",
    "* Find the common values in `a_dict` and `b_dict` \n"
   ]
  },
  {
   "cell_type": "code",
   "execution_count": 122,
   "metadata": {
    "collapsed": false
   },
   "outputs": [
    {
     "name": "stdout",
     "output_type": "stream",
     "text": [
      "set(['c'])\n",
      "set([])\n"
     ]
    }
   ],
   "source": [
    "# your code here\n",
    "a_dict = {\"a\":\"e\", \"b\":2, \"c\":3, \"c\": 4}\n",
    "b_dict = {\"c\":5, \"d\":6}\n",
    "\n",
    "akeys = set(a_dict.keys())\n",
    "bkeys = set(b_dict.keys())\n",
    "print(akeys & bkeys)\n",
    "\n",
    "avalues = set(a_dict.values())\n",
    "bvalues = set(b_dict.values())\n",
    "\n",
    "print (avalues & bvalues)"
   ]
  },
  {
   "cell_type": "markdown",
   "metadata": {},
   "source": [
    "### Combining (Nesting) Data Structures:\n",
    "\n",
    "There are many opportunities to combine data types in python. Lists can be populated by arbitrary data structures. Similarly, you can use any type as the value in a dictionary. However, the elements of sets, and the keys of dictionaries need to have some special properties that allow the mechanics of the data structure to determine how to store the element.\n",
    "\n",
    "Aside: to use a particular element in a set or as a key in a dictionary, it must define a [hash function](http://en.wikipedia.org/wiki/Hash_function), `__hash__`. In a nutshell, a hash function maps a data element to a number in a predefined range, based on the characteristics of that element. Because the contents of a data structure might change, so too would the value of their associated `__hash__` function, causing problems for the algorithms powering sets and dictionaries."
   ]
  },
  {
   "cell_type": "code",
   "execution_count": 125,
   "metadata": {
    "collapsed": false
   },
   "outputs": [
    {
     "name": "stdout",
     "output_type": "stream",
     "text": [
      "lists of lists\n",
      "2\n"
     ]
    }
   ],
   "source": [
    "print \"lists of lists\"\n",
    "lol = [ [1, 2, 3], [4, 5, 6, 7] ]\n",
    "lol_2 = [ [4, 5, 6], [7, 8, 9] ]\n",
    "print len(lol)"
   ]
  },
  {
   "cell_type": "code",
   "execution_count": 127,
   "metadata": {
    "collapsed": false
   },
   "outputs": [
    {
     "name": "stdout",
     "output_type": "stream",
     "text": [
      "retrieving data from this data structure\n",
      "Lol[1]: [4, 5, 6, 7]\n"
     ]
    }
   ],
   "source": [
    "print \"retrieving data from this data structure\"\n",
    "print \"Lol[1]:\",lol[1]"
   ]
  },
  {
   "cell_type": "code",
   "execution_count": null,
   "metadata": {
    "collapsed": false
   },
   "outputs": [],
   "source": [
    "print \"Lolol[0][0]:\",lolol[0][0]"
   ]
  },
  {
   "cell_type": "code",
   "execution_count": null,
   "metadata": {
    "collapsed": false
   },
   "outputs": [],
   "source": [
    "print \"Lolol[0][0][0]:\",lolol[0][0][0]"
   ]
  },
  {
   "cell_type": "code",
   "execution_count": 128,
   "metadata": {
    "collapsed": false
   },
   "outputs": [
    {
     "name": "stdout",
     "output_type": "stream",
     "text": [
      "data structures as values in a dictionary\n",
      "{'lol': [[1, 2, 3], [4, 5, 6, 7]], 'lol_2': [[4, 5, 6], [7, 8, 9]]}\n"
     ]
    }
   ],
   "source": [
    "print \"data structures as values in a dictionary\"\n",
    "dlol = {\"lol\":lol, \"lol_2\":lol_2}\n",
    "print dlol"
   ]
  },
  {
   "cell_type": "code",
   "execution_count": 129,
   "metadata": {
    "collapsed": false
   },
   "outputs": [
    {
     "name": "stdout",
     "output_type": "stream",
     "text": [
      "Accessing the list of lists named lol: [[1, 2, 3], [4, 5, 6, 7]]\n",
      "Accessing the second element : [4, 5, 6, 7]\n"
     ]
    }
   ],
   "source": [
    "# Access the list [4, 5, 6, 7] in the \"lol\" key\n",
    "print \"Accessing the list of lists named lol:\", dlol[\"lol\"]\n",
    "print \"Accessing the second element :\", dlol[\"lol\"][1]"
   ]
  },
  {
   "cell_type": "code",
   "execution_count": null,
   "metadata": {
    "collapsed": false
   },
   "outputs": [],
   "source": [
    "print \"retrieving data from this dictionary\"\n",
    "print dlol[\"lol\"]\n",
    "print dlol[\"lol\"][0]\n",
    "print dlol[\"lol\"][0][0]"
   ]
  },
  {
   "cell_type": "markdown",
   "metadata": {},
   "source": [
    "#### Exercise\n",
    "\n",
    "You are given the following data structure.\n",
    "\n",
    "`data = {\n",
    "    \"Panos\": {\n",
    "        \"Job\":\"Professor\", \n",
    "        \"YOB\": \"1976\", \n",
    "        \"Children\": [\"Gregory\", \"Anna\"]\n",
    "        }, \n",
    "    \"Joe\": {\n",
    "        \"Job\":\"Data Scientist\", \n",
    "        \"YOB\": \"1981\"\n",
    "        }\n",
    "    }`\n",
    "\n",
    "You need to write code that\n",
    "\n",
    "* Prints the job of Joe\n",
    "* Prints the year of birth of Panos\n",
    "* Prints the children of Panos\n",
    "* Prints the second child of Panos\n",
    "* Prints the number of people entries in the data\n",
    "* Checks if Maria is in the data\n",
    "* Checks if Panos has children\n",
    "* Checks if Joe has children"
   ]
  },
  {
   "cell_type": "code",
   "execution_count": 153,
   "metadata": {
    "collapsed": false
   },
   "outputs": [],
   "source": [
    "# your code here\n",
    "data = {\"Panos\": \n",
    "            {\n",
    "            \"Job\":\"Professor\", \n",
    "            \"YOB\": \"1976\", \n",
    "            \"Children\": [\"Gregory\", \"Anna\"]\n",
    "            }, \n",
    "        \"Joe\": \n",
    "            {\n",
    "            \"Job\":\"Data Scientist\", \n",
    "            \"YOB\": \"1981\",\n",
    "            \"Children\": []\n",
    "            }\n",
    "        }"
   ]
  },
  {
   "cell_type": "code",
   "execution_count": 133,
   "metadata": {
    "collapsed": false
   },
   "outputs": [
    {
     "name": "stdout",
     "output_type": "stream",
     "text": [
      "Data Scientist\n"
     ]
    }
   ],
   "source": [
    "# Prints the job of Joe\n",
    "print data[\"Joe\"][\"Job\"]"
   ]
  },
  {
   "cell_type": "code",
   "execution_count": 135,
   "metadata": {
    "collapsed": false
   },
   "outputs": [
    {
     "name": "stdout",
     "output_type": "stream",
     "text": [
      "1976\n"
     ]
    }
   ],
   "source": [
    "# Prints the year of birth of Panos\n",
    "print data[\"Panos\"][\"YOB\"]"
   ]
  },
  {
   "cell_type": "code",
   "execution_count": 136,
   "metadata": {
    "collapsed": false
   },
   "outputs": [
    {
     "name": "stdout",
     "output_type": "stream",
     "text": [
      "['Gregory', 'Anna']\n"
     ]
    }
   ],
   "source": [
    "# Prints the children of Panos\n",
    "print data[\"Panos\"][\"Children\"]"
   ]
  },
  {
   "cell_type": "code",
   "execution_count": 138,
   "metadata": {
    "collapsed": false
   },
   "outputs": [
    {
     "name": "stdout",
     "output_type": "stream",
     "text": [
      "Anna\n"
     ]
    }
   ],
   "source": [
    "# Prints the second child of Panos\n",
    "print data[\"Panos\"][\"Children\"][1]"
   ]
  },
  {
   "cell_type": "code",
   "execution_count": 139,
   "metadata": {
    "collapsed": false
   },
   "outputs": [
    {
     "name": "stdout",
     "output_type": "stream",
     "text": [
      "2\n"
     ]
    }
   ],
   "source": [
    "# Prints the number of people entries in the data\n",
    "print len(data)"
   ]
  },
  {
   "cell_type": "code",
   "execution_count": 142,
   "metadata": {
    "collapsed": false
   },
   "outputs": [
    {
     "name": "stdout",
     "output_type": "stream",
     "text": [
      "False\n"
     ]
    }
   ],
   "source": [
    "# Checks if Maria is in the data\n",
    "print \"Maria\" in data"
   ]
  },
  {
   "cell_type": "code",
   "execution_count": 143,
   "metadata": {
    "collapsed": false
   },
   "outputs": [
    {
     "name": "stdout",
     "output_type": "stream",
     "text": [
      "True\n"
     ]
    }
   ],
   "source": [
    "# Checks if Panos has children\n",
    "print \"Children\" in data[\"Panos\"]"
   ]
  },
  {
   "cell_type": "code",
   "execution_count": 154,
   "metadata": {
    "collapsed": false
   },
   "outputs": [
    {
     "name": "stdout",
     "output_type": "stream",
     "text": [
      "False\n"
     ]
    }
   ],
   "source": [
    "# Checks if Joe has children\n",
    "print (\"Children\" in data[\"Joe\"]) and (len(data[\"Joe\"][\"Children\"])>0)\n"
   ]
  },
  {
   "cell_type": "code",
   "execution_count": null,
   "metadata": {
    "collapsed": true
   },
   "outputs": [],
   "source": []
  }
 ],
 "metadata": {
  "kernelspec": {
   "display_name": "Python 2",
   "language": "python",
   "name": "python2"
  },
  "language_info": {
   "codemirror_mode": {
    "name": "ipython",
    "version": 2
   },
   "file_extension": ".py",
   "mimetype": "text/x-python",
   "name": "python",
   "nbconvert_exporter": "python",
   "pygments_lexer": "ipython2",
   "version": "2.7.6"
  }
 },
 "nbformat": 4,
 "nbformat_minor": 0
}
