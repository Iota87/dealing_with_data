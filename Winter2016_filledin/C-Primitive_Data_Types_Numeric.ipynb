{
 "cells": [
  {
   "cell_type": "markdown",
   "metadata": {},
   "source": [
    "## Primitive Data Types\n",
    "\n",
    "These are the basic data types that constitute all of the more complex data structures in python. The basic data types are the following:\n",
    "\n",
    "* Strings (for text)\n",
    "* Numeric types (integers and decimals)\n",
    "* Booleans\n"
   ]
  },
  {
   "cell_type": "markdown",
   "metadata": {},
   "source": [
    "### Integer:\n",
    "Positive and negative whole numbers"
   ]
  },
  {
   "cell_type": "code",
   "execution_count": 1,
   "metadata": {
    "collapsed": false
   },
   "outputs": [
    {
     "name": "stdout",
     "output_type": "stream",
     "text": [
      "99\n"
     ]
    }
   ],
   "source": [
    "int_1 = 1\n",
    "int_2 = -2\n",
    "int_3 = 100\n",
    "\n",
    "print int_1 + int_2 + int_3 # for integers, + is just \"plus\""
   ]
  },
  {
   "cell_type": "markdown",
   "metadata": {},
   "source": [
    "### Floating Point Numbers:\n",
    "Decimal numbers, representations of fractions, and \"real-valued numbers\""
   ]
  },
  {
   "cell_type": "code",
   "execution_count": 2,
   "metadata": {
    "collapsed": false
   },
   "outputs": [
    {
     "name": "stdout",
     "output_type": "stream",
     "text": [
      "7.2\n"
     ]
    }
   ],
   "source": [
    "float_1 = 1.2\n",
    "float_2 = -4.0\n",
    "float_3 = 10.0\n",
    "\n",
    "print float_1 + float_2 + float_3"
   ]
  },
  {
   "cell_type": "markdown",
   "metadata": {},
   "source": [
    "### Operations on Numeric Types:\n",
    "There are a bunch of common mathematical operations available on numeric types in python. If an operation is being performed on two integers, then the output will also be an integer. If one of the operands is a float, then the remaining operand will be cast into a float, and the result will likewise be a float.\n",
    "\n",
    "+ `+`: plus, add two numbers\n",
    "+ `-`: minus, subtract two numbers. If put before a single numeric value, takes the negative of that value. \n",
    "+ `*`: multiply two numbers\n",
    "+ `/`: divide the first operand by the second.\n",
    "+ `%`: modulo, what is the remainder when the first number is divided by the second?"
   ]
  },
  {
   "cell_type": "code",
   "execution_count": 3,
   "metadata": {
    "collapsed": false
   },
   "outputs": [
    {
     "name": "stdout",
     "output_type": "stream",
     "text": [
      "addition:\n",
      "2\n",
      "2.5\n"
     ]
    }
   ],
   "source": [
    "print \"addition:\"\n",
    "print 1+1\n",
    "print 1.5 + 1"
   ]
  },
  {
   "cell_type": "code",
   "execution_count": 4,
   "metadata": {
    "collapsed": false
   },
   "outputs": [
    {
     "name": "stdout",
     "output_type": "stream",
     "text": [
      "subtraction:\n",
      "0\n",
      "0.0\n"
     ]
    }
   ],
   "source": [
    "print \"subtraction:\"\n",
    "print 1-1\n",
    "print 1-1.0"
   ]
  },
  {
   "cell_type": "code",
   "execution_count": 5,
   "metadata": {
    "collapsed": false
   },
   "outputs": [
    {
     "name": "stdout",
     "output_type": "stream",
     "text": [
      "negation:\n",
      "-5\n"
     ]
    }
   ],
   "source": [
    "print \"negation:\"\n",
    "x = 5\n",
    "print -x"
   ]
  },
  {
   "cell_type": "code",
   "execution_count": 6,
   "metadata": {
    "collapsed": false
   },
   "outputs": [
    {
     "name": "stdout",
     "output_type": "stream",
     "text": [
      "multiplication:\n",
      "9\n",
      "4.0\n"
     ]
    }
   ],
   "source": [
    "print \"multiplication:\"\n",
    "print 3*3\n",
    "print 2*2.0"
   ]
  },
  {
   "cell_type": "code",
   "execution_count": 7,
   "metadata": {
    "collapsed": false
   },
   "outputs": [
    {
     "name": "stdout",
     "output_type": "stream",
     "text": [
      "division:\n",
      "2.5\n"
     ]
    }
   ],
   "source": [
    "print \"division:\"\n",
    "print 5.0/2.0"
   ]
  },
  {
   "cell_type": "code",
   "execution_count": 10,
   "metadata": {
    "collapsed": false
   },
   "outputs": [
    {
     "name": "stdout",
     "output_type": "stream",
     "text": [
      "integer division:\n",
      "2\n"
     ]
    }
   ],
   "source": [
    "print \"integer division:\"\n",
    "print 5/2 # integer division!"
   ]
  },
  {
   "cell_type": "code",
   "execution_count": 12,
   "metadata": {
    "collapsed": false
   },
   "outputs": [
    {
     "name": "stdout",
     "output_type": "stream",
     "text": [
      "modulo:\n",
      "1\n",
      "1.5\n",
      "+ - %\n"
     ]
    }
   ],
   "source": [
    "print \"modulo:\"\n",
    "print 5 % 2\n",
    "print 5.5 % 2\n"
   ]
  },
  {
   "cell_type": "code",
   "execution_count": 16,
   "metadata": {
    "collapsed": false
   },
   "outputs": [
    {
     "name": "stdout",
     "output_type": "stream",
     "text": [
      "percentage of men:\n",
      "0\n"
     ]
    }
   ],
   "source": [
    "# Be careful of integer division, as the pattern appears often.\n",
    "males = 8\n",
    "females = 10\n",
    "\n",
    "print \"percentage of men:\"\n",
    "print males/(males+females)"
   ]
  },
  {
   "cell_type": "code",
   "execution_count": 14,
   "metadata": {
    "collapsed": false
   },
   "outputs": [
    {
     "name": "stdout",
     "output_type": "stream",
     "text": [
      "percentage of men:\n",
      "0.444444444444\n"
     ]
    }
   ],
   "source": [
    "print \"percentage of men:\"\n",
    "print (1.0*males)/(males+females)"
   ]
  },
  {
   "cell_type": "markdown",
   "metadata": {},
   "source": [
    "There are also a bunch of **comparison operators** on numeric values:\n",
    "\n",
    "+ `==`: equality of values\n",
    "+ `<`: less than\n",
    "+ `<=`: less than or equal to\n",
    "+ `>`: greater than\n",
    "+ `>=`: greater than or equal to\n",
    "+ `!=`: not equal to, different than\n",
    "\n",
    "These all return a boolean with a value that depends on the outcome of the comparison. "
   ]
  },
  {
   "cell_type": "code",
   "execution_count": null,
   "metadata": {
    "collapsed": false
   },
   "outputs": [],
   "source": [
    "print \"equals:\"\n",
    "print 1 == 2\n",
    "print 1 == 1"
   ]
  },
  {
   "cell_type": "code",
   "execution_count": null,
   "metadata": {
    "collapsed": false
   },
   "outputs": [],
   "source": [
    "print \"comparison:\"\n",
    "print 1 > 0\n",
    "print 1 > 1\n",
    "print 1.0 < 1\n",
    "print 1 >= 1\n",
    "print 1.0 != 1"
   ]
  }
 ],
 "metadata": {
  "kernelspec": {
   "display_name": "Python 2",
   "language": "python",
   "name": "python2"
  },
  "language_info": {
   "codemirror_mode": {
    "name": "ipython",
    "version": 2
   },
   "file_extension": ".py",
   "mimetype": "text/x-python",
   "name": "python",
   "nbconvert_exporter": "python",
   "pygments_lexer": "ipython2",
   "version": "2.7.6"
  }
 },
 "nbformat": 4,
 "nbformat_minor": 0
}
