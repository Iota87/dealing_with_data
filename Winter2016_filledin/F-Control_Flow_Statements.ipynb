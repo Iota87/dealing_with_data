{
 "cells": [
  {
   "cell_type": "markdown",
   "metadata": {},
   "source": [
    "Control Structures\n",
    "------------------\n",
    "\n",
    "We've spent some time going into detail about some of the data types and structures available in python. It's now time to talk about how to navigate through some of this data, and use data to make decisions. Traversing over data and making decisions based upon data are a common aspect of every programming language, known as control flow. Python provides a rich control flow, with a lot of conveniences for the power users. Here, we're just going to talk about the basics, to learn more, please [consult the documentation](http://docs.python.org/2/tutorial/controlflow.html). \n",
    "\n",
    "A common theme throughout this discussion of control structures is the notion of a \"block of code.\" Blocks of code are **demarcated by a specific level of indentation**, typically separated from the surrounding code by some control structure elements, immediately preceeded by a colon, `:`. We'll see examples below. \n",
    "\n",
    "Finally, note that control structures can be nested arbitrarily, depending on the tasks you're trying to accomplish. \n",
    "\n",
    "### if Statements:\n",
    "\n",
    "**See also LPTHW, Exp 29, 30, and 31.**\n",
    "\n",
    "If statements are perhaps the most widely used of all control structures. An if statement consists of a code block and an argument. The if statement evaluates the boolean value of it's argument, executing the code block if that argument is true. "
   ]
  },
  {
   "cell_type": "code",
   "execution_count": 5,
   "metadata": {
    "collapsed": false
   },
   "outputs": [
    {
     "name": "stdout",
     "output_type": "stream",
     "text": [
      "This statement is True\n",
      "duh\n"
     ]
    }
   ],
   "source": [
    "if True:\n",
    "    print \"This statement is True\"\n",
    "    print \"duh\""
   ]
  },
  {
   "cell_type": "code",
   "execution_count": 6,
   "metadata": {
    "collapsed": false
   },
   "outputs": [],
   "source": [
    "if False:\n",
    "    print \"ha!\"\n",
    "    print \"duh\" "
   ]
  },
  {
   "cell_type": "code",
   "execution_count": 8,
   "metadata": {
    "collapsed": false
   },
   "outputs": [
    {
     "name": "stdout",
     "output_type": "stream",
     "text": [
      "easy\n"
     ]
    }
   ],
   "source": [
    "if 1+1 == 2:\n",
    "    print \"easy\""
   ]
  },
  {
   "cell_type": "code",
   "execution_count": 9,
   "metadata": {
    "collapsed": false
   },
   "outputs": [
    {
     "name": "stdout",
     "output_type": "stream",
     "text": [
      "do you know math?\n"
     ]
    }
   ],
   "source": [
    "if (2+2 == 5):\n",
    "    print \"really?\"\n",
    "else:\n",
    "    print \"do you know math?\""
   ]
  },
  {
   "cell_type": "code",
   "execution_count": 11,
   "metadata": {
    "collapsed": false
   },
   "outputs": [
    {
     "name": "stdout",
     "output_type": "stream",
     "text": [
      "found it! I found the element 3\n"
     ]
    }
   ],
   "source": [
    "items = {1, 2, 3}\n",
    "lookingfor = 3\n",
    "\n",
    "if lookingfor in items:\n",
    "    print \"found it! I found the element\", lookingfor\n",
    "else:\n",
    "    print \"I did not find \", lookingfor"
   ]
  },
  {
   "cell_type": "markdown",
   "metadata": {},
   "source": [
    "Each argument in the above if statements is a boolean expression. Often you want to have alternatives, blocks of code that get evaluated in the event that the argument to an if statement is false. This is where **`elif`** (else if) and else come in. \n",
    "\n",
    "An **`elif`** is evaluated if all preceeding if or elif arguments have evaluted to false. The else statement is the last resort, assigning the code that gets exectued if no if or elif above it is true. These statements are optional, and can be added to an if statement in any order, with at most one code block being evaluated. An else will always have it's code be exectued, if nothing above it is true."
   ]
  },
  {
   "cell_type": "code",
   "execution_count": 12,
   "metadata": {
    "collapsed": false
   },
   "outputs": [
    {
     "name": "stdout",
     "output_type": "stream",
     "text": [
      "something\n",
      "Go and eat\n"
     ]
    }
   ],
   "source": [
    "if 2+2 == 3:\n",
    "    print \"whoa\"\n",
    "    print \"done\"\n",
    "elif 1+1 == 0:\n",
    "    print \"that explains it\"\n",
    "elif 5+5 == 10:\n",
    "    print \"something\"\n",
    "    iamhungry = True\n",
    "    if iamhungry:\n",
    "        print \"Go and eat\"\n",
    "else:\n",
    "    print \"what I expected\""
   ]
  },
  {
   "cell_type": "code",
   "execution_count": 14,
   "metadata": {
    "collapsed": false
   },
   "outputs": [
    {
     "name": "stdout",
     "output_type": "stream",
     "text": [
      "didn't find Sharon  I will add it\n",
      "set(['Sharon', 'Jenny', 'Panos', 'Maria'])\n"
     ]
    }
   ],
   "source": [
    "x = {\"Panos\",\"Maria\",\"Jenny\"}\n",
    "lookingfor = \"Sharon\"\n",
    "if lookingfor in x:\n",
    "    print \"found\", lookingfor\n",
    "else:\n",
    "    print \"didn't find\", lookingfor, \" I will add it\"\n",
    "    x.add(lookingfor)\n",
    "print x"
   ]
  },
  {
   "cell_type": "code",
   "execution_count": null,
   "metadata": {
    "collapsed": true
   },
   "outputs": [],
   "source": [
    "if False:\n",
    "    print \"shouln't happen\"\n",
    "elif False:\n",
    "    print \"should happen\""
   ]
  },
  {
   "cell_type": "markdown",
   "metadata": {},
   "source": [
    "### for Statements:\n",
    "\n",
    "**See also LPTHW, Exp 32.**\n",
    "\n",
    "for statements are a convenient way to iterate through the values contained in a data structure. Going through the elements in a data structure one at a time, this element is assigned to variable. The code block associated with the for statement (or for loop) is then evaluated with this value."
   ]
  },
  {
   "cell_type": "code",
   "execution_count": 22,
   "metadata": {
    "collapsed": false
   },
   "outputs": [
    {
     "name": "stdout",
     "output_type": "stream",
     "text": [
      "3  squared is: 9\n",
      "4  squared is: 16\n",
      "5  squared is: 25\n",
      "6  squared is: 36\n"
     ]
    }
   ],
   "source": [
    "set_a = {3, 4, 5, 6}\n",
    "for i in set_a:\n",
    "    print i, \" squared is:\", i*i "
   ]
  },
  {
   "cell_type": "code",
   "execution_count": 24,
   "metadata": {
    "collapsed": false
   },
   "outputs": [
    {
     "name": "stdout",
     "output_type": "stream",
     "text": [
      "a more complex block\n",
      "I am not supposed to do that for element 3\n",
      "I am not supposed to do that for element 4\n",
      "5  squared is: 25\n",
      "6  squared is: 36\n",
      "7  squared is: 49\n",
      "8  squared is: 64\n",
      "9  squared is: 81\n"
     ]
    }
   ],
   "source": [
    "print \"a more complex block\"\n",
    "set = {3, 4, 5, 6, 7, 8, 9}\n",
    "threshold = 5\n",
    "for i in set:\n",
    "    if i >= threshold:\n",
    "        print i, \" squared is:\", i*i \n",
    "    else:\n",
    "        print \"I am not supposed to do that for element\", i"
   ]
  },
  {
   "cell_type": "code",
   "execution_count": 20,
   "metadata": {
    "collapsed": false
   },
   "outputs": [
    {
     "name": "stdout",
     "output_type": "stream",
     "text": [
      "this also works for lists\n",
      "6\n",
      "7\n",
      "8\n",
      "JOHN\n",
      "JANE\n",
      "GEORGE\n",
      "VLADIMIR\n"
     ]
    }
   ],
   "source": [
    "print \"this also works for lists\"\n",
    "list = [1,2,3]\n",
    "for num in list:\n",
    "    print num+5"
   ]
  },
  {
   "cell_type": "code",
   "execution_count": 21,
   "metadata": {
    "collapsed": false
   },
   "outputs": [
    {
     "name": "stdout",
     "output_type": "stream",
     "text": [
      "JOHN\n",
      "JANE\n",
      "GEORGE\n",
      "VLADIMIR\n"
     ]
    }
   ],
   "source": [
    "listb = [\"john\", \"jane\", \"george\", \"vladimir\"]\n",
    "for name in listb:\n",
    "    print name.upper()"
   ]
  },
  {
   "cell_type": "code",
   "execution_count": 26,
   "metadata": {
    "collapsed": false
   },
   "outputs": [
    {
     "name": "stdout",
     "output_type": "stream",
     "text": [
      "dictionaries let you iterate through keys, values, or both\n",
      "key = a , value = 1\n",
      "key = b , value = 2\n",
      "key = whatever , value = 5\n",
      "key = panos , value = -1\n"
     ]
    }
   ],
   "source": [
    "print \"dictionaries let you iterate through keys, values, or both\"\n",
    "dict = {\"a\":1, \"b\":2, \"panos\": -1, \"whatever\": 5}\n",
    "\n",
    "for k in dict.keys():\n",
    "    print \"key =\", k, \", value =\", dict[k]"
   ]
  },
  {
   "cell_type": "code",
   "execution_count": 27,
   "metadata": {
    "collapsed": false
   },
   "outputs": [
    {
     "name": "stdout",
     "output_type": "stream",
     "text": [
      "dictionaries let you iterate through keys, values, or both\n",
      "1\n",
      "2\n"
     ]
    }
   ],
   "source": [
    "print \"dictionaries let you iterate through keys, values, or both\"\n",
    "dict = {\"a\":1, \"b\":2}\n",
    "  \n",
    "for v in dict.values():\n",
    "    print v"
   ]
  },
  {
   "cell_type": "code",
   "execution_count": 33,
   "metadata": {
    "collapsed": false
   },
   "outputs": [
    {
     "name": "stdout",
     "output_type": "stream",
     "text": [
      "dictionaries let you iterate through keys, values, or both\n",
      "a 1\n",
      "b 2\n",
      "panos teaching\n"
     ]
    }
   ],
   "source": [
    "print \"dictionaries let you iterate through keys, values, or both\"\n",
    "dict = {\"a\":1, \"b\":2,}\n",
    "\n",
    "# Iteritems returns *tuples* that correspond to key-value pairs\n",
    "# [('a', 1), ('b', 2)]\n",
    "for (x,y) in dict.iteritems():\n",
    "    print x, y\n",
    "    #if v == dict[k]:\n",
    "    #    print \"phew! the value %d\" % v, \" is in the dictionary, with a key %s\" % k\n"
   ]
  },
  {
   "cell_type": "code",
   "execution_count": 37,
   "metadata": {
    "collapsed": false
   },
   "outputs": [
    {
     "name": "stdout",
     "output_type": "stream",
     "text": [
      "dictionaries let you iterate through keys, values, or both\n",
      "The key e has the value 4\n",
      "The key d has the value 4\n",
      "The key f has the value 4\n"
     ]
    }
   ],
   "source": [
    "print \"dictionaries let you iterate through keys, values, or both\"\n",
    "dict = {\"a\":1, \"b\":2, \"c\": 3, \"d\":4, \"e\": 4, \"f\": 4}\n",
    "looking_for_value = 4\n",
    "\n",
    "for k,v in dict.iteritems():\n",
    "    # print \"Looking at item\", k, \" with value\", v\n",
    "    if v == looking_for_value:\n",
    "        print \"The key\", k, \"has the value 4\""
   ]
  },
  {
   "cell_type": "markdown",
   "metadata": {},
   "source": [
    "#### Exercise\n",
    "\n",
    "* Print the names of the people from the dictionary below, by iterating through the keys\n",
    "* Print the age of each person, by iterating through the keys, and then looking up the \"YOB\" entry.\n",
    "* Print the names of people born after 1980\n",
    "* Print the number of children for each person. You need to check if the \"Children\" list exists in the dictionary."
   ]
  },
  {
   "cell_type": "code",
   "execution_count": 38,
   "metadata": {
    "collapsed": true
   },
   "outputs": [],
   "source": [
    "data = {\n",
    "        \"Foster\": {\n",
    "            \"Job\": \"Professor\", \n",
    "            \"YOB\": 1965, \n",
    "            \"Children\": [\"Hannah\"],\n",
    "            \"Awards\": [\"Best Teacher 2014\", \"Best Researcher 2015\"],\n",
    "            \"Salary\": 120000\n",
    "        }, \n",
    "        \"Joe\": {\n",
    "            \"Job\": \"Data Scientist\", \n",
    "            \"YOB\": 1981,\n",
    "            \"Salary\": 200000\n",
    "        },\n",
    "        \"Maria\": { \n",
    "            \"Job\": \"Software Engineer\", \n",
    "            \"YOB\": 1993, \n",
    "            \"Children\": [],\n",
    "            \"Awards\": [\"Dean's List 2013\", \"Valedictorian 2011\", \"First place in Math Olympiad 2010\"]\n",
    "        }, \n",
    "        \"Panos\": { \n",
    "            \"Job\": \"Professor\", \n",
    "            \"YOB\": 1976, \n",
    "            \"Children\": [\"Gregory\", \"Anna\"]\n",
    "        },\n",
    "    }"
   ]
  },
  {
   "cell_type": "code",
   "execution_count": 42,
   "metadata": {
    "collapsed": false
   },
   "outputs": [
    {
     "name": "stdout",
     "output_type": "stream",
     "text": [
      "Foster\n",
      "Joe\n",
      "Panos\n",
      "Maria\n"
     ]
    }
   ],
   "source": [
    "## Your code here\n",
    "# print the names\n",
    "for name in data.keys():\n",
    "    print name"
   ]
  },
  {
   "cell_type": "code",
   "execution_count": 48,
   "metadata": {
    "collapsed": false
   },
   "outputs": [
    {
     "name": "stdout",
     "output_type": "stream",
     "text": [
      "Foster ==> 1965\n",
      "Joe ==> 1981\n",
      "Panos ==> 1976\n",
      "Maria ==> 1993\n"
     ]
    }
   ],
   "source": [
    "# print the year of birth\n",
    "for name in data.keys():\n",
    "    yob = data[name].get(\"YOB\")\n",
    "    print name, \"==>\", yob"
   ]
  },
  {
   "cell_type": "code",
   "execution_count": 50,
   "metadata": {
    "collapsed": false
   },
   "outputs": [
    {
     "name": "stdout",
     "output_type": "stream",
     "text": [
      "Joe ==> 1981\n",
      "Maria ==> 1993\n"
     ]
    }
   ],
   "source": [
    "# print the year of birth only if it is after 1980\n",
    "for name in data.keys():\n",
    "    yob = data[name].get(\"YOB\")\n",
    "    if yob>1980:\n",
    "        print name, \"==>\", yob\n",
    "    #else:\n",
    "    #    print name, \"was born before 1980\""
   ]
  },
  {
   "cell_type": "code",
   "execution_count": 59,
   "metadata": {
    "collapsed": false
   },
   "outputs": [
    {
     "name": "stdout",
     "output_type": "stream",
     "text": [
      "Foster ==> 1\n",
      "Joe ==> 0\n",
      "Panos ==> 2\n",
      "Maria ==> 0\n"
     ]
    }
   ],
   "source": [
    "# print the year of birth only if it is after 1980\n",
    "for name in data.keys():\n",
    "    children = data[name].get(\"Children\")\n",
    "    if children != None:\n",
    "        print name, \"==>\", len(children)\n",
    "    else:\n",
    "        print name, \"==> 0\""
   ]
  },
  {
   "cell_type": "markdown",
   "metadata": {},
   "source": [
    "### Break and Continue:\n",
    "\n",
    "These two statements are used to modify iteration of loops. Break is used to *exit immediately* the *inner most _loop_* in which it appears. In contrast, continue stops the code executing within the loop and goes on to the *next iteration of the same loop*."
   ]
  },
  {
   "cell_type": "code",
   "execution_count": 63,
   "metadata": {
    "collapsed": false
   },
   "outputs": [
    {
     "name": "stdout",
     "output_type": "stream",
     "text": [
      "Checking if number 1  is greater than 2\n",
      "1\n",
      "Checking if number 2  is greater than 2\n",
      "2\n",
      "Checking if number 3  is greater than 2\n",
      "I am stopping the loop here\n"
     ]
    }
   ],
   "source": [
    "x = [1,2,3,4,5,4,3,2,1]\n",
    "#num is the value and not index\n",
    "for num in x:\n",
    "    print \"Checking if number\", num, \" is greater than 2\"\n",
    "    if num > 2:\n",
    "        print \"I am stopping the loop here\"\n",
    "        break\n",
    "    print num"
   ]
  },
  {
   "cell_type": "code",
   "execution_count": 64,
   "metadata": {
    "collapsed": false
   },
   "outputs": [
    {
     "name": "stdout",
     "output_type": "stream",
     "text": [
      "a\n",
      "I am done\n"
     ]
    }
   ],
   "source": [
    "y = [\"a\", \"b\", \"c\", \"d\"]\n",
    "for letter in y:\n",
    "    if letter == \"b\":\n",
    "        break\n",
    "    print letter\n",
    "print \"I am done\""
   ]
  },
  {
   "cell_type": "code",
   "execution_count": 65,
   "metadata": {
    "collapsed": false
   },
   "outputs": [
    {
     "name": "stdout",
     "output_type": "stream",
     "text": [
      "I am checking the element a\n",
      "a\n",
      "I am checking the element b\n",
      "I am NOT going to print this second-tier letter!\n",
      "I am checking the element c\n",
      "c\n",
      "I am checking the element d\n",
      "d\n",
      "I am done\n"
     ]
    }
   ],
   "source": [
    "y = [\"a\", \"b\", \"c\", \"d\"]\n",
    "for letter in y:\n",
    "    print \"I am checking the element\", letter\n",
    "    if letter == \"b\":\n",
    "        print \"I am NOT going to print this second-tier letter!\"\n",
    "        continue\n",
    "    print letter\n",
    "print \"I am done\""
   ]
  },
  {
   "cell_type": "markdown",
   "metadata": {},
   "source": [
    "### Ranges of Integers:\n",
    "\n",
    "Often it is convenient to define (and iterate through) ranges of integers. Python has a convenient range function that allows you to do just this."
   ]
  },
  {
   "cell_type": "code",
   "execution_count": 68,
   "metadata": {
    "collapsed": false
   },
   "outputs": [
    {
     "data": {
      "text/plain": [
       "[0, 1, 2, 3, 4, 5, 6, 7, 8, 9, 10, 11, 12, 13, 14, 15, 16, 17, 18, 19]"
      ]
     },
     "execution_count": 68,
     "metadata": {},
     "output_type": "execute_result"
    }
   ],
   "source": [
    "range(20)"
   ]
  },
  {
   "cell_type": "code",
   "execution_count": 71,
   "metadata": {
    "collapsed": false
   },
   "outputs": [
    {
     "name": "stdout",
     "output_type": "stream",
     "text": [
      "[0, 1, 2, 3, 4, 5, 6, 7, 8, 9]\n",
      "0 ^2 =  0\n",
      "1 ^2 =  1\n",
      "2 ^2 =  4\n",
      "3 ^2 =  9\n",
      "4 ^2 =  16\n",
      "5 ^2 =  25\n",
      "6 ^2 =  36\n",
      "7 ^2 =  49\n",
      "8 ^2 =  64\n",
      "9 ^2 =  81\n",
      "10 ^2 =  100\n",
      "11 ^2 =  121\n",
      "12 ^2 =  144\n",
      "13 ^2 =  169\n",
      "14 ^2 =  196\n"
     ]
    }
   ],
   "source": [
    "print range(10) # start at zero, < the specified ceiling value\n",
    "# range(10) <=> range(0,10)\n",
    "for i in range(15):\n",
    "    print i, \"^2 = \", i*i"
   ]
  },
  {
   "cell_type": "code",
   "execution_count": 72,
   "metadata": {
    "collapsed": false
   },
   "outputs": [
    {
     "name": "stdout",
     "output_type": "stream",
     "text": [
      "[-5, -4, -3, -2, -1, 0, 1, 2, 3, 4]\n"
     ]
    }
   ],
   "source": [
    "print range(-5, 5) #from the left value, < right value"
   ]
  },
  {
   "cell_type": "code",
   "execution_count": 76,
   "metadata": {
    "collapsed": false
   },
   "outputs": [
    {
     "name": "stdout",
     "output_type": "stream",
     "text": [
      "[-15, -13, -11, -9, -7, -5, -3, -1, 1, 3, 5, 7, 9, 11, 13]\n"
     ]
    }
   ],
   "source": [
    "print range(-15, 15, 2) #from the left value, to the middle value, incrementing by the right value"
   ]
  },
  {
   "cell_type": "code",
   "execution_count": 78,
   "metadata": {
    "collapsed": false
   },
   "outputs": [
    {
     "name": "stdout",
     "output_type": "stream",
     "text": [
      "this is negative -5\n",
      "this is negative -4\n",
      "this is negative -3\n",
      "this is negative -2\n",
      "this is negative -1\n",
      "this is negative 0\n",
      "this is positive 1\n",
      "this is positive 2\n",
      "this is positive 3\n",
      "this is positive 4\n"
     ]
    }
   ],
   "source": [
    "for x in range(-5, 5):\n",
    "    if x > 0:\n",
    "        print \"this is positive\", x\n",
    "    else:\n",
    "        print \"this is negative\", x"
   ]
  },
  {
   "cell_type": "markdown",
   "metadata": {},
   "source": [
    "#### Exercise\n",
    "\n",
    "* Print your name 10 times (easy, peasy).\n",
    "* Print on the screen a \"triangle\", by printing first \"#\", then \"##\", then \"###\", etc. Repeat 10 times; _Hint: The command `print i*'#'` will print the character '#' a total of `i` times.\n",
    "* Print on the screen a \"triangle\", by printing first \"#\", then \"##\", then \"###\", etc. Repeat 10 times, but do not use the `print i*'#'` command. Instead use two nested loops, with the inside loop printing the character '#' i times. (Hint: putting a comma at the end of `print` command (e.g., `print '#',`) does not print a newline character at the end)"
   ]
  },
  {
   "cell_type": "code",
   "execution_count": 94,
   "metadata": {
    "collapsed": false
   },
   "outputs": [
    {
     "name": "stdout",
     "output_type": "stream",
     "text": [
      "\n",
      ".\n",
      "..\n",
      "...\n",
      "....\n",
      ".....\n",
      "......\n",
      ".......\n",
      "........\n",
      ".........\n"
     ]
    }
   ],
   "source": []
  },
  {
   "cell_type": "code",
   "execution_count": null,
   "metadata": {
    "collapsed": false
   },
   "outputs": [],
   "source": [
    "# = 1*'#'\n",
    "## = 2*'#'\n",
    "### = 3*'#'\n",
    "#### = 4*'#'\n",
    "#####\n",
    "######\n",
    "#######\n",
    "########\n",
    "#########\n",
    "##########\n"
   ]
  },
  {
   "cell_type": "markdown",
   "metadata": {},
   "source": [
    "List Comprehensions\n",
    "-------------------\n",
    "\n",
    "The practical data scientist often faces situations where one list is to be transformed into another list, transforming the values in the input array, filtering out certain undesired values, etc. List comprehensions are a natural, flexible way to perform these transformations on the elements in a list. \n",
    "\n",
    "The syntax of list comprehensions is based on the way mathematicians define sets and lists, a syntax that leaves it clear what the contents should be:\n",
    "\n",
    "+ `S = {x² : x in {0 ... 9}}`\n",
    "\n",
    "+ `V = (1, 2, 4, 8, ..., 2¹²)`\n",
    "\n",
    "+ `M = {x | x in S and x even}`\n",
    "\n",
    "\n",
    "Python's list comprehensions give a very natural way to write statements just like these. It may look strange early on, but it becomes a very natural and concise way of creating lists, without having to write for-loops."
   ]
  },
  {
   "cell_type": "code",
   "execution_count": 1,
   "metadata": {
    "collapsed": false
   },
   "outputs": [
    {
     "name": "stdout",
     "output_type": "stream",
     "text": [
      "[0, 1, 4, 9, 16, 25, 36, 49, 64, 81]\n"
     ]
    }
   ],
   "source": [
    "# This code below will create a list with the squares\n",
    "# of the numbers from 0 to 9 \n",
    "S = [] # we create an empty list\n",
    "for i in range(10): # We iterate over all numbers from 0 to 9\n",
    "    S.append(i*i) # We add in the list the square of the number i\n",
    "print S # we print the list"
   ]
  },
  {
   "cell_type": "code",
   "execution_count": null,
   "metadata": {
    "collapsed": false
   },
   "outputs": [],
   "source": [
    "S = [i*i for i in range(10)]\n",
    "print S"
   ]
  },
  {
   "cell_type": "code",
   "execution_count": 2,
   "metadata": {
    "collapsed": false
   },
   "outputs": [
    {
     "name": "stdout",
     "output_type": "stream",
     "text": [
      "[1.0, 2.0, 4.0, 8.0, 16.0, 32.0, 64.0, 128.0, 256.0, 512.0, 1024.0, 2048.0]\n"
     ]
    }
   ],
   "source": [
    "import math\n",
    "V = [math.pow(2,i) for i in range(12)]\n",
    "print V"
   ]
  },
  {
   "cell_type": "markdown",
   "metadata": {},
   "source": [
    "**Note the list comprehension for deriving M uses a \"if statement\" to filter out those values that aren't of interest**, restricting to only the even perfect squares.\n"
   ]
  },
  {
   "cell_type": "code",
   "execution_count": 3,
   "metadata": {
    "collapsed": false
   },
   "outputs": [
    {
     "name": "stdout",
     "output_type": "stream",
     "text": [
      "[0, 1, 4, 9, 16, 25, 36, 49, 64, 81]\n"
     ]
    }
   ],
   "source": [
    "S = [i*i for i in range(10)]\n",
    "print S"
   ]
  },
  {
   "cell_type": "code",
   "execution_count": 4,
   "metadata": {
    "collapsed": false
   },
   "outputs": [
    {
     "name": "stdout",
     "output_type": "stream",
     "text": [
      "[0, 4, 16, 36, 64]\n"
     ]
    }
   ],
   "source": [
    "M = []\n",
    "for x in S:\n",
    "    if x%2 == 0:\n",
    "        M.append(x)\n",
    "print M"
   ]
  },
  {
   "cell_type": "code",
   "execution_count": 5,
   "metadata": {
    "collapsed": false
   },
   "outputs": [
    {
     "name": "stdout",
     "output_type": "stream",
     "text": [
      "[0, 4, 16, 36, 64]\n"
     ]
    }
   ],
   "source": [
    "M = [x for x in S if x%2 == 0]\n",
    "print M"
   ]
  },
  {
   "cell_type": "markdown",
   "metadata": {},
   "source": [
    "These are simple examples, using numerical compuation. In the following operation we transform a string into an list of values, a more complex operation: "
   ]
  },
  {
   "cell_type": "code",
   "execution_count": 6,
   "metadata": {
    "collapsed": false
   },
   "outputs": [
    {
     "data": {
      "text/plain": [
       "[3, 5, 5, 3, 5, 4, 3, 4, 3]"
      ]
     },
     "execution_count": 6,
     "metadata": {},
     "output_type": "execute_result"
    }
   ],
   "source": [
    "words = 'The quick brown fox jumps over the lazy dog'\n",
    "[len(w) for w in words.split()]"
   ]
  },
  {
   "cell_type": "code",
   "execution_count": 8,
   "metadata": {
    "collapsed": false
   },
   "outputs": [
    {
     "data": {
      "text/plain": [
       "[('THE', 'the', 3),\n",
       " ('QUICK', 'quick', 5),\n",
       " ('BROWN', 'brown', 5),\n",
       " ('FOX', 'fox', 3),\n",
       " ('JUMPS', 'jumps', 5),\n",
       " ('OVER', 'over', 4),\n",
       " ('THE', 'the', 3),\n",
       " ('LAZY', 'lazy', 4),\n",
       " ('DOG', 'dog', 3)]"
      ]
     },
     "execution_count": 8,
     "metadata": {},
     "output_type": "execute_result"
    }
   ],
   "source": [
    "[(w.upper(), w.lower(), len(w)) for w in words.split()]"
   ]
  },
  {
   "cell_type": "markdown",
   "metadata": {},
   "source": [
    "#### Exercise\n",
    "\n",
    "* List each word and its length from the string 'The quick brown fox jumps over the lazy dog', conditioned on the length of the word being four characters and above\n",
    "* List only words with the letter o in them"
   ]
  },
  {
   "cell_type": "code",
   "execution_count": 10,
   "metadata": {
    "collapsed": false
   },
   "outputs": [
    {
     "data": {
      "text/plain": [
       "[('quick', 5), ('brown', 5), ('jumps', 5)]"
      ]
     },
     "execution_count": 10,
     "metadata": {},
     "output_type": "execute_result"
    }
   ],
   "source": [
    "# your code here\n",
    "[(w, len(w)) for w in words.split() if len(w)>4]"
   ]
  },
  {
   "cell_type": "code",
   "execution_count": null,
   "metadata": {
    "collapsed": false
   },
   "outputs": [],
   "source": [
    "# The following example prints words with the letter o in them"
   ]
  },
  {
   "cell_type": "code",
   "execution_count": null,
   "metadata": {
    "collapsed": true
   },
   "outputs": [],
   "source": []
  }
 ],
 "metadata": {
  "kernelspec": {
   "display_name": "Python 2",
   "language": "python",
   "name": "python2"
  },
  "language_info": {
   "codemirror_mode": {
    "name": "ipython",
    "version": 2
   },
   "file_extension": ".py",
   "mimetype": "text/x-python",
   "name": "python",
   "nbconvert_exporter": "python",
   "pygments_lexer": "ipython2",
   "version": "2.7.6"
  }
 },
 "nbformat": 4,
 "nbformat_minor": 0
}
