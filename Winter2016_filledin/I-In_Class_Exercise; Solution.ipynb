{
 "cells": [
  {
   "cell_type": "markdown",
   "metadata": {},
   "source": [
    "# Our Task: Find similar company names\n",
    "\n",
    "Now that we have completed our Python Primer, let's try to complete a real task, while at the same time trying to practice loops, iterations, and other Python functionality that we studied.\n",
    "\n",
    "### Matching Company Names\n",
    "\n",
    "Quite often, in our data, we have entries represented as strings that refer to the same entity but have different string representations (e.g., McDonald's vs McDonalds vs McDonald‎). We want to write code that will help in the task of finding such similar entries in our data.\n",
    "\n",
    "Our task can be broken in the following tasks:\n",
    "* **Step 1**: Read the data from a file into a list of strings in memory (one string per line). For our source of company names, we can use either the list of restaurant names from the Restaurant Inspection dataset (see our prior session), and/or use a list of companies from a file available at https://dl.dropboxusercontent.com/u/16006464/DwD_Winter2015/companies.txt. We need to write Python code that will read these files and return a list of company names.\n",
    "* **Step 2**: We will then need to figure out how to compare two strings and find their similarity. For that, we need to write a function that takes as input two strings, and returns back their similarities (we will see below how to do that).\n",
    "* **Step 3**: We will need to write a function that takes as input a company name, and returns back a list of matching company names, together with their similarity. Ideally, we would like to also sort the list based on the similarity (highest similarity metrics on top). As part of our learning process, we will use the _list comprehension_ approach to create the list. We will also use tuples as the elements of the list, so that the list contain elements such as `[(\"McDonalds\", 0.88), (\"McDonald's\", 0.81),....]`.\n",
    "* **Step 4**: In the final step, we will just perform the similarity computation across all companies in the dataset.\n"
   ]
  },
  {
   "cell_type": "markdown",
   "metadata": {},
   "source": [
    "### STEP 0: Fetch the data"
   ]
  },
  {
   "cell_type": "code",
   "execution_count": 4,
   "metadata": {
    "collapsed": false
   },
   "outputs": [
    {
     "name": "stdout",
     "output_type": "stream",
     "text": [
      "  % Total    % Received % Xferd  Average Speed   Time    Time     Time  Current\n",
      "                                 Dload  Upload   Total   Spent    Left  Speed\n",
      "100 22747  100 22747    0     0  78716      0 --:--:-- --:--:-- --:--:-- 78982\n",
      "  % Total    % Received % Xferd  Average Speed   Time    Time     Time  Current\n",
      "                                 Dload  Upload   Total   Spent    Left  Speed\n",
      "100  364k  100  364k    0     0  1747k      0 --:--:-- --:--:-- --:--:-- 1751k\n"
     ]
    }
   ],
   "source": [
    "# This is a list of banks\n",
    "!curl https://dl.dropboxusercontent.com/u/16006464/DwD_Winter2015/companies.txt -o /home/ubuntu/data/bank-names.txt\n",
    "    \n",
    "# This is a list of NYC restaurants (also using this dataset for the regular expression notebooks)\n",
    "!curl https://dl.dropboxusercontent.com/u/16006464/DwD_Winter2015/uniquenames.txt -o /home/ubuntu/data/restaurant-names.txt   "
   ]
  },
  {
   "cell_type": "markdown",
   "metadata": {},
   "source": [
    "### STEP 1: Read the list of names from a file and create a list of names"
   ]
  },
  {
   "cell_type": "code",
   "execution_count": 1,
   "metadata": {
    "collapsed": false
   },
   "outputs": [],
   "source": [
    "# STEP 1: Read the list of names from a file and create a list of names\n",
    "f = open(\"/home/ubuntu/data/restaurant-names.txt\", \"r\")\n",
    "content = f.read()\n",
    "f.close()\n",
    "lines = content.split(\"\\n\")"
   ]
  },
  {
   "cell_type": "markdown",
   "metadata": {},
   "source": [
    "### STEP 2: Implement the similarity function"
   ]
  },
  {
   "cell_type": "markdown",
   "metadata": {},
   "source": [
    "### Computing the similarity between two strings\n",
    "\n",
    "There are many ways that we can calculate the similarity between two strings (e.g., see [1](http://en.wikipedia.org/wiki/String_metric), [2](http://en.wikipedia.org/wiki/Approximate_string_matching), [3](http://en.wikipedia.org/wiki/Plagiarism_detection), [4](https://www.cs.cmu.edu/~pradeepr/papers/ijcai03.pdf), [5](http://en.wikipedia.org/wiki/Category:String_similarity_measures), and links within). \n",
    "\n",
    "For our example, we will use the q-gram similarity metric. What is a q-gram? Simply a sequency of q-consecutive characters in the string. For example, the name \"Panos\" has the following 2-grams: \"Pa\", \"an\", \"no\", \"os\". (We can also add \"#P\" and \"s#\" if we want to capture the prefix and suffixes.) Strings that share a large number of q-grams are often similar. \n",
    "\n",
    "Hence, we can compute the similarity of two strings by first computing the set of q-grams for each string, and then compute the Jaccard coefficient between these sets. The [Jaccard coefficient](http://en.wikipedia.org/wiki/Jaccard_index) is simply defined as the size of the intersection divided by the size of the union of the two sets.\n",
    "\n",
    "So, our task can be broken into two functions: \n",
    "* The first function takes a string and returns a list of the q-grams for the string, and \n",
    "* The second function takes as input two sets, and returns back their Jaccard coefficient."
   ]
  },
  {
   "cell_type": "code",
   "execution_count": 5,
   "metadata": {
    "collapsed": false
   },
   "outputs": [],
   "source": [
    "# STEP 2: Now we implement our similarity function\n",
    "\n",
    "# This returns a list of q-grams for a name\n",
    "# getQgrams(\"Panos\", 1) should return [\"P\", \"a\", \"n\", \"s\"]\n",
    "# getQgrams(\"Panos\", 2) should return [\"Pa\", \"an\", \"no\", \"os\"]\n",
    "# etc\n",
    "def getQgrams(name, q):\n",
    "    # We add a little bit of padding of '#' characters\n",
    "    # to create q-grams for the beginning and end of the \n",
    "    # string as well\n",
    "    name = (q-1)*'#' + name + (q-1)*'#'\n",
    "    length = len(name)\n",
    "    qgrams = []\n",
    "    for c in range(length):\n",
    "        qgram = name[c:c+q]\n",
    "        qgrams.append(qgram)\n",
    "    return qgrams\n",
    "\n",
    "# This function takes as input two names, computes their qgrams, and then computes\n",
    "# the Jaccard coefficient (=intersection/union) of the two sets of qgrams\n",
    "def jaccard(setA, setB):\n",
    "    intersection = set(setA) & set(setB)\n",
    "    union = set(setA) | set(setB)\n",
    "    similarity = 1.0*len(intersection)/len(union)\n",
    "    return similarity\n",
    "\n",
    "def computeSimilarity(name1, name2, q):\n",
    "    qgrams1 = getQgrams(name1.upper(), q)\n",
    "    qgrams2 = getQgrams(name2.upper(), q)\n",
    "    similarity = jaccard(qgrams1, qgrams2)\n",
    "    return similarity"
   ]
  },
  {
   "cell_type": "code",
   "execution_count": 23,
   "metadata": {
    "collapsed": false
   },
   "outputs": [
    {
     "name": "stdout",
     "output_type": "stream",
     "text": [
      "0.666666666667\n",
      "0.75\n",
      "1.0\n",
      "0.0952380952381\n",
      "0.0555555555556\n",
      "0.0909090909091\n"
     ]
    }
   ],
   "source": [
    "# Let's test our similarity function\n",
    "print computeSimilarity(\"Microsoft\", \"Micrsoft\", 3)\n",
    "print computeSimilarity(\"Microsoft\", \"Micrsoft\", 2)\n",
    "print computeSimilarity(\"Microsoft\", \"Micrsoft\", 1)\n",
    "print computeSimilarity(\"Microsoft\", \"Google\", 3)\n",
    "print computeSimilarity(\"Microsoft\", \"Google\", 2)\n",
    "print computeSimilarity(\"Microsoft\", \"Google\", 1)"
   ]
  },
  {
   "cell_type": "markdown",
   "metadata": {},
   "source": [
    "### STEP 3: Compute similarity of a company against a list of company names"
   ]
  },
  {
   "cell_type": "markdown",
   "metadata": {},
   "source": [
    "We now create a function that accepts a company name and a list of companies, and computes their similarity. This part will get us to exercise our for-loops, and also illustrate how we can use lists and tuples."
   ]
  },
  {
   "cell_type": "markdown",
   "metadata": {},
   "source": [
    "**Sorting a list of tuples**:_This part is a little bit advanced for now, so I will just give the code below. (Solution taken from http://stackoverflow.com/questions/3121979/how-to-sort-list-tuple-of-lists-tuples). Here is a small example below, which we will reuse in our function:_"
   ]
  },
  {
   "cell_type": "code",
   "execution_count": 17,
   "metadata": {
    "collapsed": false
   },
   "outputs": [
    {
     "name": "stdout",
     "output_type": "stream",
     "text": [
      "[('Peter', 0.6), ('Panos', 0.5), ('Pan', 0.4)]\n"
     ]
    }
   ],
   "source": [
    "data = [(\"Panos\",0.5), (\"Peter\",0.6), (\"Pan\", 0.4)]\n",
    "data.sort(key=lambda tupl: tupl[1], reverse=True)  # sorts in place, in descending order, based on the second element of the tuple\n",
    "print data"
   ]
  },
  {
   "cell_type": "code",
   "execution_count": 34,
   "metadata": {
    "collapsed": false
   },
   "outputs": [],
   "source": [
    "# STEP 3: We now create a function that accepts a company name\n",
    "# and a list of companies, and computes their similarity\n",
    "# We have a threshold parameter (by default set to be 0.5)\n",
    "# that restricts the results to only string pairs with similarity\n",
    "# above the threshold\n",
    "\n",
    "# queryData finds similar names to a query\n",
    "def queryData(query, companyList, threshold, q):\n",
    "    result = []\n",
    "    for r in companyList:\n",
    "        # If the strings are equal, we do not add them in the results\n",
    "        # as this is an uninteresting case\n",
    "        if (r.upper()==query.upper()):\n",
    "            continue\n",
    "        # I will compute the similarity of the \"query\" string\n",
    "        # with each restaurant \"r\", where \"r\" is the variable in the for loop\n",
    "        similarity = computeSimilarity(query, r, q)\n",
    "        # if the similarity is above 0.5, I will print the result\n",
    "        if similarity>threshold:\n",
    "            result.append( (r, similarity) )\n",
    "    return result\n",
    "\n",
    "def companySimilarity(companyName, companyList, threshold = 0.5, q = 3):\n",
    "    results = queryData(companyName, companyList, threshold, q)\n",
    "    results.sort(key=lambda tupl: tupl[1], reverse=True)\n",
    "    return results\n"
   ]
  },
  {
   "cell_type": "code",
   "execution_count": 40,
   "metadata": {
    "collapsed": false
   },
   "outputs": [
    {
     "data": {
      "text/plain": [
       "[('MC DONALDS', 0.7692307692307693),\n",
       " (\"MCDONALD'S\", 0.7692307692307693),\n",
       " ('MCDONALD', 0.75),\n",
       " (\"MC DONALD'S\", 0.6),\n",
       " (\"MCDONALD'S \", 0.6),\n",
       " ('MCDONALDS 17754', 0.5555555555555556),\n",
       " ('MCDONALDS (#11542)', 0.47619047619047616),\n",
       " ('MCDONALDS RESTAURANT', 0.43478260869565216),\n",
       " ('MCDONALD AVENUE DINER', 0.36),\n",
       " (\"MCDONALD'S RESTAURANT\", 0.36),\n",
       " (\"MONA'S\", 0.35714285714285715),\n",
       " ('MCDONALDS FAST FOOD RESTAURANT', 0.3225806451612903),\n",
       " (\"MCDONALD'S (MACY'S 7TH FL)\", 0.32142857142857145),\n",
       " (\"MONACO'S\", 0.3125),\n",
       " (\"MCDONALD'S RESTAURANT #3391\", 0.2903225806451613),\n",
       " ('DONNA', 0.2857142857142857),\n",
       " ('MONACO', 0.26666666666666666),\n",
       " ('ALL NATIONS', 0.2631578947368421),\n",
       " ('DORAL DONUTS', 0.2631578947368421),\n",
       " ('MRS. FIELDS', 0.2631578947368421)]"
      ]
     },
     "execution_count": 40,
     "metadata": {},
     "output_type": "execute_result"
    }
   ],
   "source": [
    "# This is the name of the restaurant that I am looking for\n",
    "query = \"McDonalds\"\n",
    "# This is the similarity configuration parameter\n",
    "q = 2\n",
    "threshold = 0.25\n",
    "# lines contains the list of companiues\n",
    "companySimilarity(query, lines, threshold, q)"
   ]
  },
  {
   "cell_type": "markdown",
   "metadata": {},
   "source": [
    "### Step 4: Perform the similarity computation across all companies in the dataset."
   ]
  },
  {
   "cell_type": "code",
   "execution_count": 39,
   "metadata": {
    "collapsed": false
   },
   "outputs": [
    {
     "name": "stdout",
     "output_type": "stream",
     "text": [
      "#1 SABOR LATINO RESTAURANT ===>\n",
      "[('SABOR LATINO RESTAURANT', 0.78125), ('LATINO RESTAURANT', 0.59375), ('SABOR LATINO SEAFOOD RESTAURANT', 0.5853658536585366), ('EL REY LATINO RESTAURANT', 0.5405405405405406), ('RANCHO LATINO RESTAURANT', 0.5405405405405406)]\n",
      "================\n",
      "''U'' LIKE CHINESE RESTAURANT ===>\n",
      "[('U LIKE CHINESE RESTAURANT', 0.7222222222222222), ('LEE CHINESE RESTAURANT', 0.5945945945945946), ('85 CHINESE RESTAURANT', 0.5675675675675675), ('88 CHINESE RESTAURANT', 0.5675675675675675), ('A+ CHINESE RESTAURANT', 0.5675675675675675)]\n",
      "================\n",
      "'WICHCRAFT ===>\n",
      "[('WICHCRAFT', 0.6875)]\n",
      "================\n",
      "(LIBRARY)  FOUR & TWENTY BLACKBIRDS ===>\n",
      "[('FOUR & TWENTY BLACKBIRDS', 0.6341463414634146)]\n",
      "================\n",
      "1001 NIGHTS ===>\n",
      "[('1001 NIGHTS CAFE', 0.5909090909090909)]\n",
      "================\n",
      "1001 NIGHTS CAFE ===>\n",
      "[('1001 NIGHTS', 0.5909090909090909)]\n",
      "================\n",
      "1005 CATERING ===>\n",
      "[('GO CATERING', 0.5238095238095238)]\n",
      "================\n",
      "101 CAFE ===>\n",
      "[('19 CAFE', 0.5333333333333333)]\n",
      "================\n",
      "101 RESTAURANT AND BAR ===>\n",
      "[('508 RESTAURANT AND BAR', 0.6774193548387096), ('BESO RESTAURANT AND BAR', 0.65625), ('JORA RESTAURANT AND BAR', 0.65625), ('CASCADA RESTAURANT AND BAR', 0.6), (\"SISSY'S RESTAURANT AND BAR\", 0.6)]\n",
      "================\n",
      "1028 BAR & RESTAURANT EL SALVADORENO  ===>\n",
      "[('BAR & RESTAURANT EL SALVADORENO', 0.6888888888888889)]\n",
      "================\n",
      "107 WEST RESTAURANT ===>\n",
      "[('15 EAST RESTAURANT', 0.5714285714285714), ('18 RESTAURANT', 0.56), ('PT RESTAURANT', 0.56), ('FROST RESTAURANT', 0.5555555555555556), ('111 RESTAURANT', 0.5384615384615384)]\n",
      "================\n",
      "10TH AVENUE PIZZA & CAFE ===>\n",
      "[('J II 13TH AVENUE PIZZA CAFE', 0.5526315789473685)]\n",
      "================\n",
      "11 STREET CAFE ===>\n",
      "[('HESTER STREET CAFE', 0.5384615384615384), ('BARCLAY STREET CAFE', 0.5185185185185185)]\n",
      "================\n",
      "111 RESTAURANT ===>\n",
      "[('18 RESTAURANT', 0.6666666666666666), ('NO 1 RESTAURANT', 0.6086956521739131), ('NO.1 RESTAURANT', 0.6086956521739131), ('RESTAURANT', 0.6), ('67 RESTAURANT', 0.5909090909090909)]\n",
      "================\n",
      "12 CHAIRS ===>\n",
      "[('12 CHAIRS CAFE', 0.55)]\n",
      "================\n",
      "12 CHAIRS CAFE ===>\n",
      "[('12 CHAIRS', 0.55)]\n",
      "================\n",
      "12 CORAZONES RESTAURANT & BAR ===>\n",
      "[(\"G'S RESTAURANT & BAR\", 0.5405405405405406), ('NEST RESTAURANT & BAR', 0.5405405405405406), ('SABORES RESTAURANT & BAR', 0.5384615384615384), ('MIMIS RESTAURANT & BAR', 0.5128205128205128)]\n",
      "================\n",
      "12 STREET ALE HOUSE ===>\n",
      "[('MACDOUGAL STREET ALE HOUSE', 0.5588235294117647)]\n",
      "================\n",
      "124 COFFEE SHOP ===>\n",
      "[('COFFEE SHOP', 0.6190476190476191), ('39 COFFEE SHOP', 0.6086956521739131), ('69 COFFEE SHOP', 0.6086956521739131), ('OUR COFFEE SHOP', 0.5833333333333334), ('R&S COFFEE SHOP', 0.5833333333333334)]\n",
      "================\n",
      "128 DUMPLING HOUSE ===>\n",
      "[('NEW DUMPLING HOUSE', 0.6296296296296297), ('C & L  DUMPLING HOUSE', 0.5666666666666667), ('TIANJIN DUMPLING HOUSE', 0.5483870967741935), ('EXCELLENT DUMPLING HOUSE', 0.5151515151515151), (\"VANESSA'S DUMPLING HOUSE\", 0.5151515151515151)]\n",
      "================\n",
      "12TH STREET BAR & GRILL ===>\n",
      "[('DOCK STREET BAR & GRILL', 0.6363636363636364)]\n",
      "================\n",
      "137 BAR & GRILL ===>\n",
      "[('BT BAR & GRILL', 0.6086956521739131), ('729 BAR & GRILL', 0.5833333333333334), ('AOA BAR & GRILL', 0.5833333333333334), ('BIA BAR & GRILL', 0.5833333333333334), ('BLT BAR & GRILL', 0.5833333333333334)]\n",
      "================\n",
      "15 EAST RESTAURANT ===>\n",
      "[('FAR EAST RESTAURANT', 0.6666666666666666), ('MEKONG EAST RESTAURANT', 0.6), ('NO. 1. EAST RESTAURANT', 0.6), ('SAHARA EAST RESTAURANT', 0.6), ('107 WEST RESTAURANT', 0.5714285714285714)]\n",
      "================\n",
      "15 FLAVORS ===>\n",
      "[('15 FLAVORS ', 0.7058823529411765), ('FLAVORS', 0.5625)]\n",
      "================\n",
      "15 FLAVORS  ===>\n",
      "[('15 FLAVORS', 0.7058823529411765)]\n",
      "================\n",
      "15 ST CAFE ===>\n",
      "[('OST CAFE', 0.5294117647058824)]\n",
      "================\n",
      "1617-A NATIONAL BAKERY ===>\n",
      "[('NATIONAL BAKERY', 0.6071428571428571), ('NB. NATIONAL BAKERY', 0.5806451612903226), ('B.F. NATIONAL BAKERY', 0.5625)]\n",
      "================\n",
      "168 ASUKA SUSHI ===>\n",
      "[('ASUKA SUSHI', 0.6190476190476191)]\n",
      "================\n",
      "18 BAKERY ===>\n",
      "[('4618 BAKERY', 0.6470588235294118), ('BAKERY', 0.5333333333333333), ('86 BAKERY', 0.5294117647058824), ('DD BAKERY', 0.5294117647058824), ('FP BAKERY', 0.5294117647058824)]\n",
      "================\n",
      "18 CHINESE CUISINE ===>\n",
      "[('YJ CHINESE CUISINE', 0.68), ('HLY CHINESE CUISINE', 0.6538461538461539), ('GRACE CHINESE CUISINE', 0.6296296296296297), ('WING HING CHINESE CUISINE', 0.5862068965517241), ('JAC MAO CHINESE CUISINE', 0.5666666666666667)]\n",
      "================\n",
      "18 RESTAURANT ===>\n",
      "[('218 RESTAURANT', 0.75), ('111 RESTAURANT', 0.6666666666666666), ('RESTAURANT', 0.631578947368421), ('67 RESTAURANT', 0.6190476190476191), ('BG RESTAURANT', 0.6190476190476191)]\n",
      "================\n",
      "181 ST CARIDAD RESTAURANT ===>\n",
      "[('CARIDAD RESTAURANT', 0.6451612903225806), ('LA CARIDAD RESTAURANT', 0.6363636363636364), ('MS CARIDAD RESTAURANT', 0.6363636363636364), ('A A CARIDAD RESTAURANT', 0.6176470588235294), ('A. A. CARIDAD RESTAURANT', 0.6)]\n",
      "================\n",
      "1818 SEAFOOD RESTAURANT ===>\n",
      "[('LULU SEAFOOD RESTAURANT', 0.6363636363636364), ('HAPPY SEAFOOD RESTAURANT', 0.6176470588235294), ('LIU LIU SEAFOOD RESTAURANT', 0.6176470588235294), ('ROYAL SEAFOOD RESTAURANT', 0.6176470588235294), ('RU YI SEAFOOD RESTAURANT', 0.6176470588235294)]\n",
      "================\n",
      "187 YANG GARDEN ===>\n",
      "[('WANG GARDEN', 0.5454545454545454), ('XIANG GARDEN', 0.5217391304347826)]\n",
      "================\n",
      "19 CAFE ===>\n",
      "[('101 CAFE', 0.5333333333333333), ('T49 CAFE', 0.5333333333333333)]\n",
      "================\n",
      "19A EMPIRE RESTAURANT ===>\n",
      "[('EMPIRE RESTAURANT', 0.7037037037037037), ('EMPIRE BBQ RESTAURANT', 0.5625), ('EMPIRE KING RESTAURANT', 0.5454545454545454), ('EMPIRE CHINESE RESTAURANT', 0.5428571428571428)]\n",
      "================\n",
      "1ST BASE CONCESSION STAND ===>\n",
      "[('THIRD BASE CONCESSION STAND', 0.6666666666666666), ('QUEENS CONCESSION STAND', 0.5135135135135135)]\n",
      "================\n",
      "1ST MAMA RESTAURANT ===>\n",
      "[('18 RESTAURANT', 0.5384615384615384), ('KARMA RESTAURANT', 0.5357142857142857), ('PARMA RESTAURANT', 0.5357142857142857), ('PANORAMA RESTAURANT', 0.5333333333333333), ('SUGIYAMA RESTAURANT', 0.5333333333333333)]\n",
      "================\n"
     ]
    }
   ],
   "source": [
    "# STEP 4: We are almost done. We now just go through all the companies in the list\n",
    "# and we call the companySimilarity function that computes the similar company names\n",
    "# for all the companies in the list. We store the results in a dictionary, with the \n",
    "# key being the company name, and the value being a \"list of tuples\" with the \n",
    "# similar company names and the corresponding similarity value.\n",
    "q = 3\n",
    "threshold = 0.5\n",
    "\n",
    "# For brevity, we will do it for just the first 100 companies\n",
    "for companyName in lines[:100]:\n",
    "    matches = companySimilarity(companyName, lines, threshold, q)\n",
    "    if len(matches)>0:\n",
    "        print companyName, \"===>\"\n",
    "        # we will print the top-5 matching names\n",
    "        print matches[:5]\n",
    "        print \"================\""
   ]
  },
  {
   "cell_type": "code",
   "execution_count": null,
   "metadata": {
    "collapsed": true
   },
   "outputs": [],
   "source": []
  }
 ],
 "metadata": {
  "kernelspec": {
   "display_name": "Python 2",
   "language": "python",
   "name": "python2"
  },
  "language_info": {
   "codemirror_mode": {
    "name": "ipython",
    "version": 2
   },
   "file_extension": ".py",
   "mimetype": "text/x-python",
   "name": "python",
   "nbconvert_exporter": "python",
   "pygments_lexer": "ipython2",
   "version": "2.7.6"
  }
 },
 "nbformat": 4,
 "nbformat_minor": 0
}
