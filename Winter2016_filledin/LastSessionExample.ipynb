{
 "cells": [
  {
   "cell_type": "code",
   "execution_count": 2,
   "metadata": {
    "collapsed": true
   },
   "outputs": [],
   "source": [
    "import requests\n",
    "import json\n",
    "\n",
    "def analyzeText(url):\n",
    "    api_url = \"http://gateway-a.watsonplatform.net/calls/url/URLGetRankedNamedEntities\"\n",
    "    api_key = '3d0b6858f7ef32fdf27ad402f4a9c270c9685d84'\n",
    "    headers = {\n",
    "        \"Accept\": \"application/json\"\n",
    "    }\n",
    "    parameters = {\n",
    "        'outputMode': 'json',\n",
    "        'apikey' : api_key,\n",
    "        'sentiment' : 1,\n",
    "        'knowledgeGraph': 0,\n",
    "        'url': url,\n",
    "        'disambiguate': 0\n",
    "    }\n",
    "    resp = requests.post(api_url, params=parameters, headers=headers)\n",
    "    data = json.loads(resp.text)\n",
    "    \n",
    "    return data\n"
   ]
  },
  {
   "cell_type": "code",
   "execution_count": 3,
   "metadata": {
    "collapsed": false
   },
   "outputs": [],
   "source": [
    "text_url = 'https://www.washingtonpost.com/politics/rubio-endures-an-assault-in-a-rollicking-republican-debate/2016/02/06/d8a9bd60-cc5b-11e5-a7b2-5a2f824b02c9_story.html'\n",
    "\n",
    "results = analyzeText(text_url) "
   ]
  },
  {
   "cell_type": "code",
   "execution_count": 4,
   "metadata": {
    "collapsed": false
   },
   "outputs": [
    {
     "data": {
      "text/plain": [
       "[u'status', u'totalTransactions', u'language', u'url', u'entities', u'usage']"
      ]
     },
     "execution_count": 4,
     "metadata": {},
     "output_type": "execute_result"
    }
   ],
   "source": [
    "results.keys()"
   ]
  },
  {
   "cell_type": "code",
   "execution_count": 5,
   "metadata": {
    "collapsed": false
   },
   "outputs": [
    {
     "data": {
      "text/plain": [
       "[{u'count': u'20',\n",
       "  u'relevance': u'0.940885',\n",
       "  u'sentiment': {u'mixed': u'1', u'score': u'0.0465971', u'type': u'positive'},\n",
       "  u'text': u'Donald Trump',\n",
       "  u'type': u'Person'},\n",
       " {u'count': u'16',\n",
       "  u'relevance': u'0.722885',\n",
       "  u'sentiment': {u'score': u'-0.590129', u'type': u'negative'},\n",
       "  u'text': u'Marco Rubio',\n",
       "  u'type': u'Person'},\n",
       " {u'count': u'9',\n",
       "  u'relevance': u'0.472516',\n",
       "  u'sentiment': {u'score': u'-0.605079', u'type': u'negative'},\n",
       "  u'text': u'Jeb Bush',\n",
       "  u'type': u'Person'},\n",
       " {u'count': u'9',\n",
       "  u'relevance': u'0.425278',\n",
       "  u'sentiment': {u'mixed': u'1', u'score': u'-0.419991', u'type': u'negative'},\n",
       "  u'text': u'Gov. Chris Christie',\n",
       "  u'type': u'Person'},\n",
       " {u'count': u'13',\n",
       "  u'relevance': u'0.419378',\n",
       "  u'sentiment': {u'score': u'-0.308842', u'type': u'negative'},\n",
       "  u'text': u'Sen. Ted Cruz',\n",
       "  u'type': u'Person'},\n",
       " {u'count': u'5',\n",
       "  u'relevance': u'0.343615',\n",
       "  u'sentiment': {u'mixed': u'1', u'score': u'-0.322349', u'type': u'negative'},\n",
       "  u'text': u'New Hampshire',\n",
       "  u'type': u'StateOrCounty'},\n",
       " {u'count': u'4',\n",
       "  u'relevance': u'0.316868',\n",
       "  u'sentiment': {u'score': u'-0.508012', u'type': u'negative'},\n",
       "  u'text': u'President Obama',\n",
       "  u'type': u'Person'},\n",
       " {u'count': u'1',\n",
       "  u'relevance': u'0.312304',\n",
       "  u'sentiment': {u'score': u'-0.315714', u'type': u'negative'},\n",
       "  u'text': u'Trump',\n",
       "  u'type': u'Company'},\n",
       " {u'count': u'4',\n",
       "  u'relevance': u'0.282692',\n",
       "  u'sentiment': {u'score': u'-0.391658', u'type': u'negative'},\n",
       "  u'text': u'president',\n",
       "  u'type': u'JobTitle'},\n",
       " {u'count': u'4',\n",
       "  u'relevance': u'0.267043',\n",
       "  u'sentiment': {u'mixed': u'1',\n",
       "   u'score': u'-0.0993068',\n",
       "   u'type': u'negative'},\n",
       "  u'text': u'Iowa',\n",
       "  u'type': u'StateOrCounty'},\n",
       " {u'count': u'3',\n",
       "  u'relevance': u'0.263472',\n",
       "  u'sentiment': {u'type': u'neutral'},\n",
       "  u'text': u'David Muir',\n",
       "  u'type': u'Person'},\n",
       " {u'count': u'3',\n",
       "  u'relevance': u'0.255908',\n",
       "  u'sentiment': {u'score': u'-0.454092', u'type': u'negative'},\n",
       "  u'text': u'senator',\n",
       "  u'type': u'JobTitle'},\n",
       " {u'count': u'2',\n",
       "  u'relevance': u'0.240491',\n",
       "  u'sentiment': {u'type': u'neutral'},\n",
       "  u'text': u'GOFFSTOWN',\n",
       "  u'type': u'City'},\n",
       " {u'count': u'1',\n",
       "  u'relevance': u'0.233991',\n",
       "  u'sentiment': {u'score': u'-0.461463', u'type': u'negative'},\n",
       "  u'text': u'governor Bush',\n",
       "  u'type': u'Person'},\n",
       " {u'count': u'2',\n",
       "  u'relevance': u'0.233606',\n",
       "  u'sentiment': {u'score': u'-0.528323', u'type': u'negative'},\n",
       "  u'text': u'assault',\n",
       "  u'type': u'Crime'},\n",
       " {u'count': u'2',\n",
       "  u'relevance': u'0.229345',\n",
       "  u'sentiment': {u'score': u'0.245415', u'type': u'positive'},\n",
       "  u'text': u'Atlantic City',\n",
       "  u'type': u'City'},\n",
       " {u'count': u'6',\n",
       "  u'relevance': u'0.226638',\n",
       "  u'sentiment': {u'score': u'-0.271307', u'type': u'negative'},\n",
       "  u'text': u'Ben Carson',\n",
       "  u'type': u'Person'},\n",
       " {u'count': u'2',\n",
       "  u'relevance': u'0.226059',\n",
       "  u'sentiment': {u'score': u'-0.451273', u'type': u'negative'},\n",
       "  u'text': u'Florida',\n",
       "  u'type': u'StateOrCounty'},\n",
       " {u'count': u'1',\n",
       "  u'relevance': u'0.224768',\n",
       "  u'sentiment': {u'score': u'-0.473812', u'type': u'negative'},\n",
       "  u'text': u'George W. Bush',\n",
       "  u'type': u'Person'},\n",
       " {u'count': u'1',\n",
       "  u'relevance': u'0.22156',\n",
       "  u'sentiment': {u'type': u'neutral'},\n",
       "  u'text': u'New Hampshire primary',\n",
       "  u'type': u'Organization'},\n",
       " {u'count': u'2',\n",
       "  u'relevance': u'0.220025',\n",
       "  u'sentiment': {u'score': u'-0.441082', u'type': u'negative'},\n",
       "  u'text': u'N.H.',\n",
       "  u'type': u'StateOrCounty'},\n",
       " {u'count': u'2',\n",
       "  u'relevance': u'0.218106',\n",
       "  u'sentiment': {u'mixed': u'1', u'score': u'0.141644', u'type': u'positive'},\n",
       "  u'text': u'America',\n",
       "  u'type': u'Continent'},\n",
       " {u'count': u'2',\n",
       "  u'relevance': u'0.216626',\n",
       "  u'sentiment': {u'score': u'-0.622617', u'type': u'negative'},\n",
       "  u'text': u'Gov. John Kasich',\n",
       "  u'type': u'Person'},\n",
       " {u'count': u'1',\n",
       "  u'relevance': u'0.208371',\n",
       "  u'sentiment': {u'score': u'-0.441082', u'type': u'negative'},\n",
       "  u'text': u'presidential nomination',\n",
       "  u'type': u'FieldTerminology'},\n",
       " {u'count': u'1',\n",
       "  u'relevance': u'0.208249',\n",
       "  u'sentiment': {u'score': u'-0.441082', u'type': u'negative'},\n",
       "  u'text': u'comprehensive immigration reform',\n",
       "  u'type': u'FieldTerminology'},\n",
       " {u'count': u'1',\n",
       "  u'relevance': u'0.205842',\n",
       "  u'sentiment': {u'type': u'neutral'},\n",
       "  u'text': u'ABC News',\n",
       "  u'type': u'TelevisionStation'},\n",
       " {u'count': u'1',\n",
       "  u'relevance': u'0.202482',\n",
       "  u'sentiment': {u'type': u'neutral'},\n",
       "  u'text': u'Islamic State',\n",
       "  u'type': u'Organization'},\n",
       " {u'count': u'1',\n",
       "  u'relevance': u'0.20215',\n",
       "  u'sentiment': {u'type': u'neutral'},\n",
       "  u'text': u'Bush administration',\n",
       "  u'type': u'FieldTerminology'},\n",
       " {u'count': u'1',\n",
       "  u'relevance': u'0.199801',\n",
       "  u'sentiment': {u'score': u'-0.569899', u'type': u'negative'},\n",
       "  u'text': u'New Jersey',\n",
       "  u'type': u'StateOrCounty'},\n",
       " {u'count': u'1',\n",
       "  u'relevance': u'0.195652',\n",
       "  u'sentiment': {u'type': u'neutral'},\n",
       "  u'text': u'North Korea',\n",
       "  u'type': u'Country'},\n",
       " {u'count': u'1',\n",
       "  u'relevance': u'0.193608',\n",
       "  u'sentiment': {u'type': u'neutral'},\n",
       "  u'text': u'United States',\n",
       "  u'type': u'Country'},\n",
       " {u'count': u'1',\n",
       "  u'relevance': u'0.193495',\n",
       "  u'sentiment': {u'type': u'neutral'},\n",
       "  u'text': u'N.J.',\n",
       "  u'type': u'StateOrCounty'},\n",
       " {u'count': u'1',\n",
       "  u'relevance': u'0.189383',\n",
       "  u'sentiment': {u'type': u'neutral'},\n",
       "  u'text': u'Saint Anselm College',\n",
       "  u'type': u'Organization'},\n",
       " {u'count': u'1',\n",
       "  u'relevance': u'0.182644',\n",
       "  u'sentiment': {u'score': u'-0.377042', u'type': u'negative'},\n",
       "  u'text': u'David A. Fahrenthold',\n",
       "  u'type': u'Person'},\n",
       " {u'count': u'1',\n",
       "  u'relevance': u'0.177856',\n",
       "  u'sentiment': {u'type': u'neutral'},\n",
       "  u'text': u'drug overdose',\n",
       "  u'type': u'HealthCondition'},\n",
       " {u'count': u'1',\n",
       "  u'relevance': u'0.177135',\n",
       "  u'sentiment': {u'score': u'-0.796143', u'type': u'negative'},\n",
       "  u'text': u'rape',\n",
       "  u'type': u'Crime'},\n",
       " {u'count': u'1',\n",
       "  u'relevance': u'0.176887',\n",
       "  u'sentiment': {u'score': u'-0.438881', u'type': u'negative'},\n",
       "  u'text': u'painkillers',\n",
       "  u'type': u'Drug'},\n",
       " {u'count': u'1',\n",
       "  u'relevance': u'0.176331',\n",
       "  u'sentiment': {u'score': u'-0.581001', u'type': u'negative'},\n",
       "  u'text': u'Senate',\n",
       "  u'type': u'Organization'},\n",
       " {u'count': u'1',\n",
       "  u'relevance': u'0.175884',\n",
       "  u'sentiment': {u'type': u'neutral'},\n",
       "  u'text': u'heroin',\n",
       "  u'type': u'Drug'},\n",
       " {u'count': u'1',\n",
       "  u'relevance': u'0.173194',\n",
       "  u'sentiment': {u'type': u'neutral'},\n",
       "  u'text': u'Washington',\n",
       "  u'type': u'City'},\n",
       " {u'count': u'1',\n",
       "  u'relevance': u'0.172122',\n",
       "  u'sentiment': {u'type': u'neutral'},\n",
       "  u'text': u'commander in chief',\n",
       "  u'type': u'FieldTerminology'},\n",
       " {u'count': u'1',\n",
       "  u'relevance': u'0.171133',\n",
       "  u'sentiment': {u'score': u'-0.290691', u'type': u'negative'},\n",
       "  u'text': u'Guantanamo Bay',\n",
       "  u'type': u'GeographicFeature'},\n",
       " {u'count': u'1',\n",
       "  u'relevance': u'0.168367',\n",
       "  u'sentiment': {u'type': u'neutral'},\n",
       "  u'text': u'Ohio',\n",
       "  u'type': u'StateOrCounty'},\n",
       " {u'count': u'1',\n",
       "  u'relevance': u'0.166893',\n",
       "  u'sentiment': {u'score': u'-0.223036', u'type': u'negative'},\n",
       "  u'text': u'Miriam',\n",
       "  u'type': u'Person'},\n",
       " {u'count': u'1',\n",
       "  u'relevance': u'0.166135',\n",
       "  u'sentiment': {u'type': u'neutral'},\n",
       "  u'text': u'seat belt',\n",
       "  u'type': u'FieldTerminology'},\n",
       " {u'count': u'1',\n",
       "  u'relevance': u'0.164374',\n",
       "  u'sentiment': {u'type': u'neutral'},\n",
       "  u'text': u'Guantanamo',\n",
       "  u'type': u'Country'},\n",
       " {u'count': u'1',\n",
       "  u'relevance': u'0.160027',\n",
       "  u'sentiment': {u'type': u'neutral'},\n",
       "  u'text': u'Texas',\n",
       "  u'type': u'StateOrCounty'},\n",
       " {u'count': u'1',\n",
       "  u'relevance': u'0.159976',\n",
       "  u'sentiment': {u'score': u'-0.878812', u'type': u'negative'},\n",
       "  u'text': u'South Carolina',\n",
       "  u'type': u'StateOrCounty'},\n",
       " {u'count': u'1',\n",
       "  u'relevance': u'0.156684',\n",
       "  u'sentiment': {u'type': u'neutral'},\n",
       "  u'text': u'Cuba',\n",
       "  u'type': u'Country'},\n",
       " {u'count': u'1',\n",
       "  u'relevance': u'0.156684',\n",
       "  u'sentiment': {u'type': u'neutral'},\n",
       "  u'text': u'seven years',\n",
       "  u'type': u'Quantity'}]"
      ]
     },
     "execution_count": 5,
     "metadata": {},
     "output_type": "execute_result"
    }
   ],
   "source": [
    "results[\"entities\"]"
   ]
  },
  {
   "cell_type": "code",
   "execution_count": 7,
   "metadata": {
    "collapsed": false
   },
   "outputs": [
    {
     "data": {
      "text/html": [
       "<div>\n",
       "<table border=\"1\" class=\"dataframe\">\n",
       "  <thead>\n",
       "    <tr style=\"text-align: right;\">\n",
       "      <th></th>\n",
       "      <th>count</th>\n",
       "      <th>relevance</th>\n",
       "      <th>sentiment.mixed</th>\n",
       "      <th>sentiment.score</th>\n",
       "      <th>sentiment.type</th>\n",
       "      <th>text</th>\n",
       "      <th>type</th>\n",
       "    </tr>\n",
       "  </thead>\n",
       "  <tbody>\n",
       "    <tr>\n",
       "      <th>0</th>\n",
       "      <td>20</td>\n",
       "      <td>0.940885</td>\n",
       "      <td>1</td>\n",
       "      <td>0.0465971</td>\n",
       "      <td>positive</td>\n",
       "      <td>Donald Trump</td>\n",
       "      <td>Person</td>\n",
       "    </tr>\n",
       "    <tr>\n",
       "      <th>1</th>\n",
       "      <td>16</td>\n",
       "      <td>0.722885</td>\n",
       "      <td>NaN</td>\n",
       "      <td>-0.590129</td>\n",
       "      <td>negative</td>\n",
       "      <td>Marco Rubio</td>\n",
       "      <td>Person</td>\n",
       "    </tr>\n",
       "    <tr>\n",
       "      <th>2</th>\n",
       "      <td>9</td>\n",
       "      <td>0.472516</td>\n",
       "      <td>NaN</td>\n",
       "      <td>-0.605079</td>\n",
       "      <td>negative</td>\n",
       "      <td>Jeb Bush</td>\n",
       "      <td>Person</td>\n",
       "    </tr>\n",
       "    <tr>\n",
       "      <th>3</th>\n",
       "      <td>9</td>\n",
       "      <td>0.425278</td>\n",
       "      <td>1</td>\n",
       "      <td>-0.419991</td>\n",
       "      <td>negative</td>\n",
       "      <td>Gov. Chris Christie</td>\n",
       "      <td>Person</td>\n",
       "    </tr>\n",
       "    <tr>\n",
       "      <th>4</th>\n",
       "      <td>13</td>\n",
       "      <td>0.419378</td>\n",
       "      <td>NaN</td>\n",
       "      <td>-0.308842</td>\n",
       "      <td>negative</td>\n",
       "      <td>Sen. Ted Cruz</td>\n",
       "      <td>Person</td>\n",
       "    </tr>\n",
       "  </tbody>\n",
       "</table>\n",
       "</div>"
      ],
      "text/plain": [
       "  count relevance sentiment.mixed sentiment.score sentiment.type  \\\n",
       "0    20  0.940885               1       0.0465971       positive   \n",
       "1    16  0.722885             NaN       -0.590129       negative   \n",
       "2     9  0.472516             NaN       -0.605079       negative   \n",
       "3     9  0.425278               1       -0.419991       negative   \n",
       "4    13  0.419378             NaN       -0.308842       negative   \n",
       "\n",
       "                  text    type  \n",
       "0         Donald Trump  Person  \n",
       "1          Marco Rubio  Person  \n",
       "2             Jeb Bush  Person  \n",
       "3  Gov. Chris Christie  Person  \n",
       "4        Sen. Ted Cruz  Person  "
      ]
     },
     "execution_count": 7,
     "metadata": {},
     "output_type": "execute_result"
    }
   ],
   "source": [
    "import pandas\n",
    "from pandas.io.json import json_normalize\n",
    "\n",
    "df = json_normalize(results[\"entities\"])\n",
    "df.head(5)"
   ]
  },
  {
   "cell_type": "code",
   "execution_count": 18,
   "metadata": {
    "collapsed": false
   },
   "outputs": [
    {
     "data": {
      "text/plain": [
       "<matplotlib.axes._subplots.AxesSubplot at 0x7f86bf397890>"
      ]
     },
     "execution_count": 18,
     "metadata": {},
     "output_type": "execute_result"
    },
    {
     "data": {
      "image/png": "[encoded data removed]",
      "text/plain": [
       "<matplotlib.figure.Figure at 0x7f86bf2f0d50>"
      ]
     },
     "metadata": {},
     "output_type": "display_data"
    }
   ],
   "source": [
    "%matplotlib inline\n",
    "plot1 = df[\"sentiment.type\"].value_counts().plot(kind='bar')\n",
    "isPerson = (df[\"type\"] == 'Person')\n",
    "persons = df[isPerson]\n",
    "persons[\"sentiment.type\"].value_counts().plot(kind='bar', color='Red', ax=plot1)"
   ]
  },
  {
   "cell_type": "code",
   "execution_count": 21,
   "metadata": {
    "collapsed": false
   },
   "outputs": [
    {
     "data": {
      "text/plain": [
       "count              object\n",
       "relevance          object\n",
       "sentiment.mixed    object\n",
       "sentiment.score    object\n",
       "sentiment.type     object\n",
       "text               object\n",
       "type               object\n",
       "dtype: object"
      ]
     },
     "execution_count": 21,
     "metadata": {},
     "output_type": "execute_result"
    }
   ],
   "source": [
    "df.dtypes"
   ]
  },
  {
   "cell_type": "code",
   "execution_count": 24,
   "metadata": {
    "collapsed": true
   },
   "outputs": [],
   "source": [
    "df[\"count\"] = pandas.to_numeric(df[\"count\"])\n",
    "df[\"relevance\"] = pandas.to_numeric(df[\"relevance\"])\n",
    "df[\"sentiment.score\"] = pandas.to_numeric(df[\"sentiment.score\"])"
   ]
  },
  {
   "cell_type": "code",
   "execution_count": 25,
   "metadata": {
    "collapsed": false
   },
   "outputs": [
    {
     "data": {
      "text/plain": [
       "count                int64\n",
       "relevance          float64\n",
       "sentiment.mixed     object\n",
       "sentiment.score    float64\n",
       "sentiment.type      object\n",
       "text                object\n",
       "type                object\n",
       "dtype: object"
      ]
     },
     "execution_count": 25,
     "metadata": {},
     "output_type": "execute_result"
    }
   ],
   "source": [
    "df.dtypes"
   ]
  },
  {
   "cell_type": "code",
   "execution_count": 26,
   "metadata": {
    "collapsed": false
   },
   "outputs": [
    {
     "data": {
      "text/html": [
       "<div>\n",
       "<table border=\"1\" class=\"dataframe\">\n",
       "  <thead>\n",
       "    <tr style=\"text-align: right;\">\n",
       "      <th></th>\n",
       "      <th>count</th>\n",
       "      <th>relevance</th>\n",
       "      <th>sentiment.score</th>\n",
       "    </tr>\n",
       "  </thead>\n",
       "  <tbody>\n",
       "    <tr>\n",
       "      <th>count</th>\n",
       "      <td>50.000000</td>\n",
       "      <td>50.000000</td>\n",
       "      <td>30.000000</td>\n",
       "    </tr>\n",
       "    <tr>\n",
       "      <th>mean</th>\n",
       "      <td>2.820000</td>\n",
       "      <td>0.247908</td>\n",
       "      <td>-0.395635</td>\n",
       "    </tr>\n",
       "    <tr>\n",
       "      <th>std</th>\n",
       "      <td>3.977949</td>\n",
       "      <td>0.140808</td>\n",
       "      <td>0.242585</td>\n",
       "    </tr>\n",
       "    <tr>\n",
       "      <th>min</th>\n",
       "      <td>1.000000</td>\n",
       "      <td>0.156684</td>\n",
       "      <td>-0.878812</td>\n",
       "    </tr>\n",
       "    <tr>\n",
       "      <th>25%</th>\n",
       "      <td>1.000000</td>\n",
       "      <td>0.176470</td>\n",
       "      <td>-0.523245</td>\n",
       "    </tr>\n",
       "    <tr>\n",
       "      <th>50%</th>\n",
       "      <td>1.000000</td>\n",
       "      <td>0.207045</td>\n",
       "      <td>-0.441082</td>\n",
       "    </tr>\n",
       "    <tr>\n",
       "      <th>75%</th>\n",
       "      <td>2.000000</td>\n",
       "      <td>0.238866</td>\n",
       "      <td>-0.310560</td>\n",
       "    </tr>\n",
       "    <tr>\n",
       "      <th>max</th>\n",
       "      <td>20.000000</td>\n",
       "      <td>0.940885</td>\n",
       "      <td>0.245415</td>\n",
       "    </tr>\n",
       "  </tbody>\n",
       "</table>\n",
       "</div>"
      ],
      "text/plain": [
       "           count  relevance  sentiment.score\n",
       "count  50.000000  50.000000        30.000000\n",
       "mean    2.820000   0.247908        -0.395635\n",
       "std     3.977949   0.140808         0.242585\n",
       "min     1.000000   0.156684        -0.878812\n",
       "25%     1.000000   0.176470        -0.523245\n",
       "50%     1.000000   0.207045        -0.441082\n",
       "75%     2.000000   0.238866        -0.310560\n",
       "max    20.000000   0.940885         0.245415"
      ]
     },
     "execution_count": 26,
     "metadata": {},
     "output_type": "execute_result"
    }
   ],
   "source": [
    "df.describe()"
   ]
  },
  {
   "cell_type": "code",
   "execution_count": 27,
   "metadata": {
    "collapsed": false
   },
   "outputs": [
    {
     "data": {
      "text/plain": [
       "<matplotlib.axes._subplots.AxesSubplot at 0x7f86bf3dc210>"
      ]
     },
     "execution_count": 27,
     "metadata": {},
     "output_type": "execute_result"
    },
    {
     "data": {
      "image/png": "[encoded data removed]",
      "text/plain": [
       "<matplotlib.figure.Figure at 0x7f86bf192090>"
      ]
     },
     "metadata": {},
     "output_type": "display_data"
    }
   ],
   "source": [
    "df[\"count\"].hist()"
   ]
  },
  {
   "cell_type": "code",
   "execution_count": 28,
   "metadata": {
    "collapsed": false
   },
   "outputs": [
    {
     "data": {
      "text/plain": [
       "<matplotlib.axes._subplots.AxesSubplot at 0x7f86bf040ed0>"
      ]
     },
     "execution_count": 28,
     "metadata": {},
     "output_type": "execute_result"
    },
    {
     "data": {
      "image/png": "[encoded data removed]",
      "text/plain": [
       "<matplotlib.figure.Figure at 0x7f86bf253b90>"
      ]
     },
     "metadata": {},
     "output_type": "display_data"
    }
   ],
   "source": [
    "df[\"relevance\"].hist()"
   ]
  },
  {
   "cell_type": "code",
   "execution_count": 33,
   "metadata": {
    "collapsed": false
   },
   "outputs": [
    {
     "data": {
      "text/plain": [
       "<matplotlib.axes._subplots.AxesSubplot at 0x7f86bebd2050>"
      ]
     },
     "execution_count": 33,
     "metadata": {},
     "output_type": "execute_result"
    },
    {
     "data": {
      "image/png": "[encoded data removed]",
      "text/plain": [
       "<matplotlib.figure.Figure at 0x7f86bead2210>"
      ]
     },
     "metadata": {},
     "output_type": "display_data"
    }
   ],
   "source": [
    "df[\"sentiment.score\"].hist()"
   ]
  },
  {
   "cell_type": "code",
   "execution_count": 48,
   "metadata": {
    "collapsed": true
   },
   "outputs": [],
   "source": [
    "# And not let's rewrite our function to return directly a dataframe\n",
    "\n",
    "import requests\n",
    "import json\n",
    "import pandas\n",
    "from pandas.io.json import json_normalize\n",
    "\n",
    "\n",
    "def analyzeText2(url):\n",
    "    api_url = \"http://gateway-a.watsonplatform.net/calls/url/URLGetRankedNamedEntities\"\n",
    "    api_key = '3d0b6858f7ef32fdf27ad402f4a9c270c9685d84'\n",
    "    headers = {\n",
    "        \"Accept\": \"application/json\"\n",
    "    }\n",
    "    parameters = {\n",
    "        'outputMode': 'json',\n",
    "        'apikey' : api_key,\n",
    "        'sentiment' : 1,\n",
    "        'knowledgeGraph': 0,\n",
    "        'url': url,\n",
    "        'disambiguate': 0\n",
    "    }\n",
    "    resp = requests.post(api_url, params=parameters, headers=headers)\n",
    "    data = json.loads(resp.text)\n",
    "    \n",
    "    # We get only the \"entities\" list since it contains\n",
    "    # the data that we care about\n",
    "    df = json_normalize(data[\"entities\"])\n",
    "    \n",
    "    # We do a little bit of housecleaning and define \n",
    "    # proper data types for the data frame column\n",
    "    df[\"count\"] = pandas.to_numeric(df[\"count\"])\n",
    "    df[\"relevance\"] = pandas.to_numeric(df[\"relevance\"])\n",
    "    df[\"sentiment.score\"] = pandas.to_numeric(df[\"sentiment.score\"])\n",
    "    \n",
    "    # We limit the results to be only entities of type person\n",
    "    isPerson = (df[\"type\"] == 'Person')\n",
    "    persons = df[isPerson]\n",
    "    \n",
    "    persons.drop('type', axis=1, inplace=True)\n",
    "    \n",
    "    return persons"
   ]
  },
  {
   "cell_type": "code",
   "execution_count": 49,
   "metadata": {
    "collapsed": false
   },
   "outputs": [
    {
     "name": "stderr",
     "output_type": "stream",
     "text": [
      "/usr/local/lib/python2.7/dist-packages/ipykernel/__main__.py:40: SettingWithCopyWarning: \n",
      "A value is trying to be set on a copy of a slice from a DataFrame\n",
      "\n",
      "See the caveats in the documentation: http://pandas.pydata.org/pandas-docs/stable/indexing.html#indexing-view-versus-copy\n"
     ]
    },
    {
     "data": {
      "text/html": [
       "<div>\n",
       "<table border=\"1\" class=\"dataframe\">\n",
       "  <thead>\n",
       "    <tr style=\"text-align: right;\">\n",
       "      <th></th>\n",
       "      <th>count</th>\n",
       "      <th>relevance</th>\n",
       "      <th>sentiment.mixed</th>\n",
       "      <th>sentiment.score</th>\n",
       "      <th>sentiment.type</th>\n",
       "      <th>text</th>\n",
       "    </tr>\n",
       "  </thead>\n",
       "  <tbody>\n",
       "    <tr>\n",
       "      <th>0</th>\n",
       "      <td>20</td>\n",
       "      <td>0.940885</td>\n",
       "      <td>1</td>\n",
       "      <td>0.046597</td>\n",
       "      <td>positive</td>\n",
       "      <td>Donald Trump</td>\n",
       "    </tr>\n",
       "    <tr>\n",
       "      <th>1</th>\n",
       "      <td>16</td>\n",
       "      <td>0.722885</td>\n",
       "      <td>NaN</td>\n",
       "      <td>-0.590129</td>\n",
       "      <td>negative</td>\n",
       "      <td>Marco Rubio</td>\n",
       "    </tr>\n",
       "    <tr>\n",
       "      <th>2</th>\n",
       "      <td>9</td>\n",
       "      <td>0.472516</td>\n",
       "      <td>NaN</td>\n",
       "      <td>-0.605079</td>\n",
       "      <td>negative</td>\n",
       "      <td>Jeb Bush</td>\n",
       "    </tr>\n",
       "    <tr>\n",
       "      <th>3</th>\n",
       "      <td>9</td>\n",
       "      <td>0.425278</td>\n",
       "      <td>1</td>\n",
       "      <td>-0.419991</td>\n",
       "      <td>negative</td>\n",
       "      <td>Gov. Chris Christie</td>\n",
       "    </tr>\n",
       "    <tr>\n",
       "      <th>4</th>\n",
       "      <td>13</td>\n",
       "      <td>0.419378</td>\n",
       "      <td>NaN</td>\n",
       "      <td>-0.308842</td>\n",
       "      <td>negative</td>\n",
       "      <td>Sen. Ted Cruz</td>\n",
       "    </tr>\n",
       "    <tr>\n",
       "      <th>6</th>\n",
       "      <td>4</td>\n",
       "      <td>0.316868</td>\n",
       "      <td>NaN</td>\n",
       "      <td>-0.508012</td>\n",
       "      <td>negative</td>\n",
       "      <td>President Obama</td>\n",
       "    </tr>\n",
       "    <tr>\n",
       "      <th>10</th>\n",
       "      <td>3</td>\n",
       "      <td>0.263472</td>\n",
       "      <td>NaN</td>\n",
       "      <td>NaN</td>\n",
       "      <td>neutral</td>\n",
       "      <td>David Muir</td>\n",
       "    </tr>\n",
       "    <tr>\n",
       "      <th>13</th>\n",
       "      <td>1</td>\n",
       "      <td>0.233991</td>\n",
       "      <td>NaN</td>\n",
       "      <td>-0.461463</td>\n",
       "      <td>negative</td>\n",
       "      <td>governor Bush</td>\n",
       "    </tr>\n",
       "    <tr>\n",
       "      <th>16</th>\n",
       "      <td>6</td>\n",
       "      <td>0.226638</td>\n",
       "      <td>NaN</td>\n",
       "      <td>-0.271307</td>\n",
       "      <td>negative</td>\n",
       "      <td>Ben Carson</td>\n",
       "    </tr>\n",
       "    <tr>\n",
       "      <th>18</th>\n",
       "      <td>1</td>\n",
       "      <td>0.224768</td>\n",
       "      <td>NaN</td>\n",
       "      <td>-0.473812</td>\n",
       "      <td>negative</td>\n",
       "      <td>George W. Bush</td>\n",
       "    </tr>\n",
       "    <tr>\n",
       "      <th>22</th>\n",
       "      <td>2</td>\n",
       "      <td>0.216626</td>\n",
       "      <td>NaN</td>\n",
       "      <td>-0.622617</td>\n",
       "      <td>negative</td>\n",
       "      <td>Gov. John Kasich</td>\n",
       "    </tr>\n",
       "    <tr>\n",
       "      <th>33</th>\n",
       "      <td>1</td>\n",
       "      <td>0.182644</td>\n",
       "      <td>NaN</td>\n",
       "      <td>-0.377042</td>\n",
       "      <td>negative</td>\n",
       "      <td>David A. Fahrenthold</td>\n",
       "    </tr>\n",
       "    <tr>\n",
       "      <th>43</th>\n",
       "      <td>1</td>\n",
       "      <td>0.166893</td>\n",
       "      <td>NaN</td>\n",
       "      <td>-0.223036</td>\n",
       "      <td>negative</td>\n",
       "      <td>Miriam</td>\n",
       "    </tr>\n",
       "  </tbody>\n",
       "</table>\n",
       "</div>"
      ],
      "text/plain": [
       "    count  relevance sentiment.mixed  sentiment.score sentiment.type  \\\n",
       "0      20   0.940885               1         0.046597       positive   \n",
       "1      16   0.722885             NaN        -0.590129       negative   \n",
       "2       9   0.472516             NaN        -0.605079       negative   \n",
       "3       9   0.425278               1        -0.419991       negative   \n",
       "4      13   0.419378             NaN        -0.308842       negative   \n",
       "6       4   0.316868             NaN        -0.508012       negative   \n",
       "10      3   0.263472             NaN              NaN        neutral   \n",
       "13      1   0.233991             NaN        -0.461463       negative   \n",
       "16      6   0.226638             NaN        -0.271307       negative   \n",
       "18      1   0.224768             NaN        -0.473812       negative   \n",
       "22      2   0.216626             NaN        -0.622617       negative   \n",
       "33      1   0.182644             NaN        -0.377042       negative   \n",
       "43      1   0.166893             NaN        -0.223036       negative   \n",
       "\n",
       "                    text  \n",
       "0           Donald Trump  \n",
       "1            Marco Rubio  \n",
       "2               Jeb Bush  \n",
       "3    Gov. Chris Christie  \n",
       "4          Sen. Ted Cruz  \n",
       "6        President Obama  \n",
       "10            David Muir  \n",
       "13         governor Bush  \n",
       "16            Ben Carson  \n",
       "18        George W. Bush  \n",
       "22      Gov. John Kasich  \n",
       "33  David A. Fahrenthold  \n",
       "43                Miriam  "
      ]
     },
     "execution_count": 49,
     "metadata": {},
     "output_type": "execute_result"
    }
   ],
   "source": [
    "text_url = 'https://www.washingtonpost.com/politics/rubio-endures-an-assault-in-a-rollicking-republican-debate/2016/02/06/d8a9bd60-cc5b-11e5-a7b2-5a2f824b02c9_story.html'\n",
    "results = analyzeText2(text_url) \n",
    "\n",
    "results"
   ]
  },
  {
   "cell_type": "code",
   "execution_count": null,
   "metadata": {
    "collapsed": true
   },
   "outputs": [],
   "source": []
  }
 ],
 "metadata": {
  "kernelspec": {
   "display_name": "Python 2",
   "language": "python",
   "name": "python2"
  },
  "language_info": {
   "codemirror_mode": {
    "name": "ipython",
    "version": 2
   },
   "file_extension": ".py",
   "mimetype": "text/x-python",
   "name": "python",
   "nbconvert_exporter": "python",
   "pygments_lexer": "ipython2",
   "version": "2.7.6"
  }
 },
 "nbformat": 4,
 "nbformat_minor": 0
}
